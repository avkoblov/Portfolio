{
 "cells": [
  {
   "cell_type": "markdown",
   "metadata": {
    "toc": true
   },
   "source": [
    "<h1>Содержание<span class=\"tocSkip\"></span></h1>\n",
    "<div class=\"toc\"><ul class=\"toc-item\"><li><ul class=\"toc-item\"><li><span><a href=\"#Общее-впечатление\" data-toc-modified-id=\"Общее-впечатление-0.1\"><span class=\"toc-item-num\">0.1&nbsp;&nbsp;</span><font color=\"orange\">Общее впечатление</font></a></span></li><li><span><a href=\"#Общее-впечатление-(ревью-2)\" data-toc-modified-id=\"Общее-впечатление-(ревью-2)-0.2\"><span class=\"toc-item-num\">0.2&nbsp;&nbsp;</span><font color=\"orange\">Общее впечатление (ревью 2)</font></a></span></li></ul></li><li><span><a href=\"#Подготовка\" data-toc-modified-id=\"Подготовка-1\"><span class=\"toc-item-num\">1&nbsp;&nbsp;</span>Подготовка</a></span></li><li><span><a href=\"#Обучение\" data-toc-modified-id=\"Обучение-2\"><span class=\"toc-item-num\">2&nbsp;&nbsp;</span>Обучение</a></span><ul class=\"toc-item\"><li><span><a href=\"#LogisticRegression\" data-toc-modified-id=\"LogisticRegression-2.1\"><span class=\"toc-item-num\">2.1&nbsp;&nbsp;</span>LogisticRegression</a></span></li><li><span><a href=\"#CatBoost\" data-toc-modified-id=\"CatBoost-2.2\"><span class=\"toc-item-num\">2.2&nbsp;&nbsp;</span>CatBoost</a></span></li><li><span><a href=\"#XGBoost\" data-toc-modified-id=\"XGBoost-2.3\"><span class=\"toc-item-num\">2.3&nbsp;&nbsp;</span>XGBoost</a></span></li></ul></li><li><span><a href=\"#Выводы\" data-toc-modified-id=\"Выводы-3\"><span class=\"toc-item-num\">3&nbsp;&nbsp;</span>Выводы</a></span></li><li><span><a href=\"#Чек-лист-проверки\" data-toc-modified-id=\"Чек-лист-проверки-4\"><span class=\"toc-item-num\">4&nbsp;&nbsp;</span>Чек-лист проверки</a></span></li></ul></div>"
   ]
  },
  {
   "cell_type": "markdown",
   "metadata": {},
   "source": [
    "# Проект для «Викишоп»"
   ]
  },
  {
   "cell_type": "markdown",
   "metadata": {},
   "source": [
    "Интернет-магазин «Викишоп» запускает новый сервис. Теперь пользователи могут редактировать и дополнять описания товаров, как в вики-сообществах. То есть клиенты предлагают свои правки и комментируют изменения других. Магазину нужен инструмент, который будет искать токсичные комментарии и отправлять их на модерацию. \n",
    "\n",
    "Нам необходимо обучить модель классифицировать комментарии на позитивные и негативные. В нашем распоряжении набор данных с разметкой о токсичности правок.\n",
    "\n",
    "Построим модель со значением метрики качества *F1* не меньше 0.75. \n",
    "\n",
    "**Структура проекта**\n",
    "\n",
    "1. Загрузить и подготовить данные.\n",
    "2. Обучить разные модели. \n",
    "3. Сделать выводы.\n",
    "\n",
    "**Описание данных**\n",
    "\n",
    "Данные находятся в файле `toxic_comments.csv`. Столбец *text* в нём содержит текст комментария, а *toxic* — целевой признак."
   ]
  },
  {
   "cell_type": "markdown",
   "metadata": {},
   "source": [
    "## Подготовка"
   ]
  },
  {
   "cell_type": "markdown",
   "metadata": {},
   "source": [
    "Импортируем все необходимые библиотеки"
   ]
  },
  {
   "cell_type": "code",
   "execution_count": 1,
   "metadata": {},
   "outputs": [],
   "source": [
    "import pandas as pd\n",
    "import numpy as np\n",
    "\n",
    "import nltk\n",
    "from nltk.corpus import stopwords as nltk_stopwords\n",
    "from sklearn.feature_extraction.text import TfidfVectorizer\n",
    "\n",
    "from pymystem3 import Mystem\n",
    "import re\n",
    "\n",
    "from sklearn.linear_model import LogisticRegression\n",
    "import xgboost as xgb\n",
    "from xgboost import XGBClassifier\n",
    "from catboost import CatBoostClassifier\n",
    "\n",
    "from sklearn.model_selection import train_test_split\n",
    "from sklearn.metrics import f1_score"
   ]
  },
  {
   "cell_type": "markdown",
   "metadata": {},
   "source": [
    "Откроем файл с данными, ознакомимся с ними, изучим типы и возможные пропуски/аномалии"
   ]
  },
  {
   "cell_type": "code",
   "execution_count": 2,
   "metadata": {},
   "outputs": [],
   "source": [
    "try:\n",
    "  df = pd.read_csv('/Users/lesha_sm/Desktop/YandexPracticum/датафреймы/toxic_comments.csv')\n",
    "except:\n",
    "  df = pd.read_csv('/datasets/toxic_comments.csv')"
   ]
  },
  {
   "cell_type": "code",
   "execution_count": 3,
   "metadata": {},
   "outputs": [
    {
     "data": {
      "text/html": [
       "<div>\n",
       "<style scoped>\n",
       "    .dataframe tbody tr th:only-of-type {\n",
       "        vertical-align: middle;\n",
       "    }\n",
       "\n",
       "    .dataframe tbody tr th {\n",
       "        vertical-align: top;\n",
       "    }\n",
       "\n",
       "    .dataframe thead th {\n",
       "        text-align: right;\n",
       "    }\n",
       "</style>\n",
       "<table border=\"1\" class=\"dataframe\">\n",
       "  <thead>\n",
       "    <tr style=\"text-align: right;\">\n",
       "      <th></th>\n",
       "      <th>Unnamed: 0</th>\n",
       "      <th>text</th>\n",
       "      <th>toxic</th>\n",
       "    </tr>\n",
       "  </thead>\n",
       "  <tbody>\n",
       "    <tr>\n",
       "      <th>0</th>\n",
       "      <td>0</td>\n",
       "      <td>Explanation\\nWhy the edits made under my usern...</td>\n",
       "      <td>0</td>\n",
       "    </tr>\n",
       "    <tr>\n",
       "      <th>1</th>\n",
       "      <td>1</td>\n",
       "      <td>D'aww! He matches this background colour I'm s...</td>\n",
       "      <td>0</td>\n",
       "    </tr>\n",
       "    <tr>\n",
       "      <th>2</th>\n",
       "      <td>2</td>\n",
       "      <td>Hey man, I'm really not trying to edit war. It...</td>\n",
       "      <td>0</td>\n",
       "    </tr>\n",
       "    <tr>\n",
       "      <th>3</th>\n",
       "      <td>3</td>\n",
       "      <td>\"\\nMore\\nI can't make any real suggestions on ...</td>\n",
       "      <td>0</td>\n",
       "    </tr>\n",
       "    <tr>\n",
       "      <th>4</th>\n",
       "      <td>4</td>\n",
       "      <td>You, sir, are my hero. Any chance you remember...</td>\n",
       "      <td>0</td>\n",
       "    </tr>\n",
       "  </tbody>\n",
       "</table>\n",
       "</div>"
      ],
      "text/plain": [
       "   Unnamed: 0                                               text  toxic\n",
       "0           0  Explanation\\nWhy the edits made under my usern...      0\n",
       "1           1  D'aww! He matches this background colour I'm s...      0\n",
       "2           2  Hey man, I'm really not trying to edit war. It...      0\n",
       "3           3  \"\\nMore\\nI can't make any real suggestions on ...      0\n",
       "4           4  You, sir, are my hero. Any chance you remember...      0"
      ]
     },
     "execution_count": 3,
     "metadata": {},
     "output_type": "execute_result"
    }
   ],
   "source": [
    "df.head()"
   ]
  },
  {
   "cell_type": "code",
   "execution_count": 4,
   "metadata": {},
   "outputs": [
    {
     "name": "stdout",
     "output_type": "stream",
     "text": [
      "<class 'pandas.core.frame.DataFrame'>\n",
      "RangeIndex: 159292 entries, 0 to 159291\n",
      "Data columns (total 3 columns):\n",
      " #   Column      Non-Null Count   Dtype \n",
      "---  ------      --------------   ----- \n",
      " 0   Unnamed: 0  159292 non-null  int64 \n",
      " 1   text        159292 non-null  object\n",
      " 2   toxic       159292 non-null  int64 \n",
      "dtypes: int64(2), object(1)\n",
      "memory usage: 3.6+ MB\n"
     ]
    }
   ],
   "source": [
    "df.info()"
   ]
  },
  {
   "cell_type": "markdown",
   "metadata": {},
   "source": [
    "Пропусков нет, но есть не несущий смысловой нагрузки и ценности для будущих предсказаний столбец 'Unnamed: 0'. Удалим его"
   ]
  },
  {
   "cell_type": "code",
   "execution_count": 5,
   "metadata": {},
   "outputs": [],
   "source": [
    "df = df.drop('Unnamed: 0', axis=1)"
   ]
  },
  {
   "cell_type": "markdown",
   "metadata": {},
   "source": [
    "Посмотрим на столбец с целевым признаком, отражающим тональность комментария"
   ]
  },
  {
   "cell_type": "code",
   "execution_count": 6,
   "metadata": {
    "scrolled": true
   },
   "outputs": [
    {
     "data": {
      "text/plain": [
       "count    159292.000000\n",
       "mean          0.101612\n",
       "std           0.302139\n",
       "min           0.000000\n",
       "25%           0.000000\n",
       "50%           0.000000\n",
       "75%           0.000000\n",
       "max           1.000000\n",
       "Name: toxic, dtype: float64"
      ]
     },
     "execution_count": 6,
     "metadata": {},
     "output_type": "execute_result"
    }
   ],
   "source": [
    "df['toxic'].describe()"
   ]
  },
  {
   "cell_type": "markdown",
   "metadata": {},
   "source": [
    "Классы целевого признака сильно разбаллансированы, положительных - только 10%"
   ]
  },
  {
   "cell_type": "markdown",
   "metadata": {},
   "source": [
    "Поделим данные на обучающую и тестовую выборки"
   ]
  },
  {
   "cell_type": "code",
   "execution_count": 7,
   "metadata": {},
   "outputs": [],
   "source": [
    "train, test = train_test_split(df, test_size=0.2, random_state=2007)"
   ]
  },
  {
   "cell_type": "markdown",
   "metadata": {},
   "source": [
    "Для будущего обучения и предсказаний модели выделим из каждой выборки корпуса с текстами комментариев. А также - целевой признак отдельно для каждой выборки."
   ]
  },
  {
   "cell_type": "code",
   "execution_count": 8,
   "metadata": {},
   "outputs": [],
   "source": [
    "train_corpus = train['text'].values"
   ]
  },
  {
   "cell_type": "code",
   "execution_count": 9,
   "metadata": {},
   "outputs": [],
   "source": [
    "test_corpus = test['text'].values"
   ]
  },
  {
   "cell_type": "code",
   "execution_count": 10,
   "metadata": {},
   "outputs": [],
   "source": [
    "y_train = train['toxic']"
   ]
  },
  {
   "cell_type": "code",
   "execution_count": 11,
   "metadata": {},
   "outputs": [],
   "source": [
    "y_test = test['toxic']"
   ]
  },
  {
   "cell_type": "markdown",
   "metadata": {},
   "source": [
    "Для дальнейшего составления векторов величин TF-IDF текстов корпуса загрузим пакет \"стоп-слов\" английского языка"
   ]
  },
  {
   "cell_type": "code",
   "execution_count": 12,
   "metadata": {
    "scrolled": true
   },
   "outputs": [
    {
     "name": "stderr",
     "output_type": "stream",
     "text": [
      "[nltk_data] Downloading package stopwords to\n",
      "[nltk_data]     /Users/lesha_sm/nltk_data...\n",
      "[nltk_data]   Package stopwords is already up-to-date!\n"
     ]
    }
   ],
   "source": [
    "nltk.download('stopwords')\n",
    "stopwords = set(nltk_stopwords.words('english'))"
   ]
  },
  {
   "cell_type": "markdown",
   "metadata": {},
   "source": [
    "Напишем функцию приведения слов к начальной форме (лемматизации), основу для которой возьмем из библиотеки pymystem3"
   ]
  },
  {
   "cell_type": "code",
   "execution_count": 13,
   "metadata": {
    "scrolled": false
   },
   "outputs": [],
   "source": [
    "#pip install pymystem3"
   ]
  },
  {
   "cell_type": "code",
   "execution_count": 14,
   "metadata": {},
   "outputs": [],
   "source": [
    "#m = Mystem()"
   ]
  },
  {
   "cell_type": "code",
   "execution_count": 15,
   "metadata": {},
   "outputs": [],
   "source": [
    "#def lemmatize(text):\n",
    "#    return \"\".join(m.lemmatize(text))"
   ]
  },
  {
   "cell_type": "code",
   "execution_count": 16,
   "metadata": {},
   "outputs": [],
   "source": [
    "from nltk.stem import WordNetLemmatizer"
   ]
  },
  {
   "cell_type": "markdown",
   "metadata": {},
   "source": [
    "Также добавим функцию очистки текстов от лишних символов. Используем встроенный модуль \"re\""
   ]
  },
  {
   "cell_type": "code",
   "execution_count": 17,
   "metadata": {},
   "outputs": [],
   "source": [
    "def clear_text(text):\n",
    "    text = re.sub(r'[^a-zA-Z]', ' ', text)\n",
    "    return ' '.join(text.split())"
   ]
  },
  {
   "cell_type": "markdown",
   "metadata": {},
   "source": [
    "Лемматизируем все тексты в обучающем и тестовом корпусах, и избавимся от лишних символов в них"
   ]
  },
  {
   "cell_type": "code",
   "execution_count": 20,
   "metadata": {},
   "outputs": [
    {
     "name": "stderr",
     "output_type": "stream",
     "text": [
      "[nltk_data] Downloading package punkt to /Users/lesha_sm/nltk_data...\n",
      "[nltk_data]   Package punkt is already up-to-date!\n",
      "[nltk_data] Downloading package wordnet to\n",
      "[nltk_data]     /Users/lesha_sm/nltk_data...\n",
      "[nltk_data]   Package wordnet is already up-to-date!\n"
     ]
    },
    {
     "data": {
      "text/plain": [
       "True"
      ]
     },
     "execution_count": 20,
     "metadata": {},
     "output_type": "execute_result"
    }
   ],
   "source": [
    "nltk.download('punkt')\n",
    "nltk.download('wordnet')"
   ]
  },
  {
   "cell_type": "code",
   "execution_count": 21,
   "metadata": {},
   "outputs": [],
   "source": [
    "lemmatizer = WordNetLemmatizer()"
   ]
  },
  {
   "cell_type": "code",
   "execution_count": 22,
   "metadata": {},
   "outputs": [],
   "source": [
    "lemm_train_corpus = []\n",
    "for i in range(len(train_corpus)):\n",
    "    word_list = nltk.word_tokenize(train_corpus[i])\n",
    "    lemmatized_output = ' '.join([lemmatizer.lemmatize(w, 'n') for w in word_list])\n",
    "    lemm_train_corpus.append(clear_text(lemmatized_output))"
   ]
  },
  {
   "cell_type": "code",
   "execution_count": 23,
   "metadata": {},
   "outputs": [],
   "source": [
    "lemm_test_corpus = []\n",
    "for i in range(len(test_corpus)):\n",
    "    word_list = nltk.word_tokenize(test_corpus[i])\n",
    "    lemmatized_output = ' '.join([lemmatizer.lemmatize(w, 'n') for w in word_list])\n",
    "    lemm_test_corpus.append(clear_text(lemmatized_output))"
   ]
  },
  {
   "cell_type": "markdown",
   "metadata": {},
   "source": [
    "Вычислим частоты встречаемости слов в текстах и корпусе TF-IDF"
   ]
  },
  {
   "cell_type": "code",
   "execution_count": 24,
   "metadata": {},
   "outputs": [],
   "source": [
    "count_tf_idf = TfidfVectorizer(stop_words=stopwords)"
   ]
  },
  {
   "cell_type": "code",
   "execution_count": 25,
   "metadata": {},
   "outputs": [],
   "source": [
    "tf_idf_train = count_tf_idf.fit_transform(lemm_train_corpus)"
   ]
  },
  {
   "cell_type": "code",
   "execution_count": 26,
   "metadata": {},
   "outputs": [],
   "source": [
    "tf_idf_test = count_tf_idf.transform(lemm_test_corpus)"
   ]
  },
  {
   "cell_type": "markdown",
   "metadata": {},
   "source": [
    "## Обучение"
   ]
  },
  {
   "cell_type": "markdown",
   "metadata": {},
   "source": [
    "Обучим несколько разных моделей и проверим качество их предсказаний на тестовой выборке по метрике F1"
   ]
  },
  {
   "cell_type": "code",
   "execution_count": 27,
   "metadata": {},
   "outputs": [],
   "source": [
    "features_train = tf_idf_train"
   ]
  },
  {
   "cell_type": "code",
   "execution_count": 28,
   "metadata": {},
   "outputs": [],
   "source": [
    "features_test = tf_idf_test"
   ]
  },
  {
   "cell_type": "markdown",
   "metadata": {},
   "source": [
    "### LogisticRegression"
   ]
  },
  {
   "cell_type": "code",
   "execution_count": 29,
   "metadata": {},
   "outputs": [],
   "source": [
    "model = LogisticRegression(class_weight='balanced', \n",
    "                           random_state=2007,\n",
    "                           solver='saga'\n",
    "                           )"
   ]
  },
  {
   "cell_type": "code",
   "execution_count": 30,
   "metadata": {},
   "outputs": [
    {
     "name": "stdout",
     "output_type": "stream",
     "text": [
      "CPU times: user 6.07 s, sys: 11.5 ms, total: 6.08 s\n",
      "Wall time: 6.08 s\n"
     ]
    },
    {
     "name": "stderr",
     "output_type": "stream",
     "text": [
      "/Users/lesha_sm/opt/anaconda3/lib/python3.9/site-packages/sklearn/linear_model/_sag.py:328: ConvergenceWarning: The max_iter was reached which means the coef_ did not converge\n",
      "  warnings.warn(\"The max_iter was reached which means \"\n"
     ]
    },
    {
     "data": {
      "text/plain": [
       "LogisticRegression(class_weight='balanced', random_state=2007, solver='saga')"
      ]
     },
     "execution_count": 30,
     "metadata": {},
     "output_type": "execute_result"
    }
   ],
   "source": [
    "%%time\n",
    "model.fit(features_train,y_train)"
   ]
  },
  {
   "cell_type": "code",
   "execution_count": 31,
   "metadata": {},
   "outputs": [],
   "source": [
    "preds_test = model.predict(features_test)"
   ]
  },
  {
   "cell_type": "code",
   "execution_count": 32,
   "metadata": {
    "scrolled": true
   },
   "outputs": [
    {
     "name": "stdout",
     "output_type": "stream",
     "text": [
      "Значение F1 для Логистической регрессии = 0.75\n"
     ]
    }
   ],
   "source": [
    "print('Значение F1 для Логистической регрессии =', round(f1_score(y_test, preds_test), 2))"
   ]
  },
  {
   "cell_type": "markdown",
   "metadata": {},
   "source": [
    "Вывод: \n",
    "<br>Логистическая регрессия быстро обучается, качество предсказаний отвечает заданному условиями проекта"
   ]
  },
  {
   "cell_type": "markdown",
   "metadata": {},
   "source": [
    "### CatBoost"
   ]
  },
  {
   "cell_type": "code",
   "execution_count": 33,
   "metadata": {
    "scrolled": true
   },
   "outputs": [
    {
     "name": "stdout",
     "output_type": "stream",
     "text": [
      "Requirement already satisfied: catboost in /Users/lesha_sm/opt/anaconda3/lib/python3.9/site-packages (1.0.6)\n",
      "Requirement already satisfied: scipy in /Users/lesha_sm/opt/anaconda3/lib/python3.9/site-packages (from catboost) (1.7.1)\n",
      "Requirement already satisfied: graphviz in /Users/lesha_sm/opt/anaconda3/lib/python3.9/site-packages (from catboost) (0.20.1)\n",
      "Requirement already satisfied: numpy>=1.16.0 in /Users/lesha_sm/opt/anaconda3/lib/python3.9/site-packages (from catboost) (1.20.3)\n",
      "Requirement already satisfied: plotly in /Users/lesha_sm/opt/anaconda3/lib/python3.9/site-packages (from catboost) (5.10.0)\n",
      "Requirement already satisfied: matplotlib in /Users/lesha_sm/opt/anaconda3/lib/python3.9/site-packages (from catboost) (3.4.3)\n",
      "Requirement already satisfied: six in /Users/lesha_sm/opt/anaconda3/lib/python3.9/site-packages (from catboost) (1.16.0)\n",
      "Requirement already satisfied: pandas>=0.24.0 in /Users/lesha_sm/opt/anaconda3/lib/python3.9/site-packages (from catboost) (1.3.4)\n",
      "Requirement already satisfied: python-dateutil>=2.7.3 in /Users/lesha_sm/opt/anaconda3/lib/python3.9/site-packages (from pandas>=0.24.0->catboost) (2.8.2)\n",
      "Requirement already satisfied: pytz>=2017.3 in /Users/lesha_sm/opt/anaconda3/lib/python3.9/site-packages (from pandas>=0.24.0->catboost) (2021.3)\n",
      "Requirement already satisfied: pyparsing>=2.2.1 in /Users/lesha_sm/opt/anaconda3/lib/python3.9/site-packages (from matplotlib->catboost) (3.0.4)\n",
      "Requirement already satisfied: pillow>=6.2.0 in /Users/lesha_sm/opt/anaconda3/lib/python3.9/site-packages (from matplotlib->catboost) (8.4.0)\n",
      "Requirement already satisfied: cycler>=0.10 in /Users/lesha_sm/opt/anaconda3/lib/python3.9/site-packages (from matplotlib->catboost) (0.10.0)\n",
      "Requirement already satisfied: kiwisolver>=1.0.1 in /Users/lesha_sm/opt/anaconda3/lib/python3.9/site-packages (from matplotlib->catboost) (1.3.1)\n",
      "Requirement already satisfied: tenacity>=6.2.0 in /Users/lesha_sm/opt/anaconda3/lib/python3.9/site-packages (from plotly->catboost) (8.0.1)\n",
      "Note: you may need to restart the kernel to use updated packages.\n"
     ]
    }
   ],
   "source": [
    "pip install catboost"
   ]
  },
  {
   "cell_type": "code",
   "execution_count": 34,
   "metadata": {},
   "outputs": [],
   "source": [
    "clf = CatBoostClassifier(iterations=100,\n",
    "                         learning_rate=1,\n",
    "                         depth=7,\n",
    "                         silent=True)"
   ]
  },
  {
   "cell_type": "code",
   "execution_count": 35,
   "metadata": {},
   "outputs": [
    {
     "name": "stdout",
     "output_type": "stream",
     "text": [
      "CPU times: user 6min 25s, sys: 3min 53s, total: 10min 19s\n",
      "Wall time: 2min 20s\n"
     ]
    },
    {
     "data": {
      "text/plain": [
       "<catboost.core.CatBoostClassifier at 0x7f86d9406880>"
      ]
     },
     "execution_count": 35,
     "metadata": {},
     "output_type": "execute_result"
    }
   ],
   "source": [
    "%%time\n",
    "clf.fit(features_train, y_train)"
   ]
  },
  {
   "cell_type": "code",
   "execution_count": 36,
   "metadata": {},
   "outputs": [],
   "source": [
    "clf_preds = clf.predict(features_test)"
   ]
  },
  {
   "cell_type": "code",
   "execution_count": 37,
   "metadata": {},
   "outputs": [
    {
     "name": "stdout",
     "output_type": "stream",
     "text": [
      "Значение F1 для CatBoost = 0.76\n"
     ]
    }
   ],
   "source": [
    "print('Значение F1 для CatBoost =', round(f1_score(y_test, clf_preds),2))"
   ]
  },
  {
   "cell_type": "markdown",
   "metadata": {},
   "source": [
    "Вывод:\n",
    "<br>CatBoost обучается сравнительно долго, качество предсказаний - выше Логистической регрессии"
   ]
  },
  {
   "cell_type": "markdown",
   "metadata": {},
   "source": [
    "### XGBoost"
   ]
  },
  {
   "cell_type": "code",
   "execution_count": 38,
   "metadata": {
    "scrolled": false
   },
   "outputs": [
    {
     "name": "stdout",
     "output_type": "stream",
     "text": [
      "Requirement already satisfied: xgboost in /Users/lesha_sm/opt/anaconda3/lib/python3.9/site-packages (1.6.2)\n",
      "Requirement already satisfied: numpy in /Users/lesha_sm/opt/anaconda3/lib/python3.9/site-packages (from xgboost) (1.20.3)\n",
      "Requirement already satisfied: scipy in /Users/lesha_sm/opt/anaconda3/lib/python3.9/site-packages (from xgboost) (1.7.1)\n",
      "Note: you may need to restart the kernel to use updated packages.\n"
     ]
    }
   ],
   "source": [
    "pip install xgboost"
   ]
  },
  {
   "cell_type": "code",
   "execution_count": 39,
   "metadata": {},
   "outputs": [],
   "source": [
    "xgb_clf = XGBClassifier(max_depth=9, \n",
    "                        learning_rate=1,\n",
    "                        n_estimators=200,\n",
    "                        disable_default_eval_metric=True)"
   ]
  },
  {
   "cell_type": "code",
   "execution_count": 40,
   "metadata": {},
   "outputs": [
    {
     "name": "stdout",
     "output_type": "stream",
     "text": [
      "CPU times: user 6min 35s, sys: 7.36 s, total: 6min 42s\n",
      "Wall time: 2min 23s\n"
     ]
    },
    {
     "data": {
      "text/plain": [
       "XGBClassifier(base_score=0.5, booster='gbtree', callbacks=None,\n",
       "              colsample_bylevel=1, colsample_bynode=1, colsample_bytree=1,\n",
       "              disable_default_eval_metric=True, early_stopping_rounds=None,\n",
       "              enable_categorical=False, eval_metric=None, gamma=0, gpu_id=-1,\n",
       "              grow_policy='depthwise', importance_type=None,\n",
       "              interaction_constraints='', learning_rate=1, max_bin=256,\n",
       "              max_cat_to_onehot=4, max_delta_step=0, max_depth=9, max_leaves=0,\n",
       "              min_child_weight=1, missing=nan, monotone_constraints='()',\n",
       "              n_estimators=200, n_jobs=0, num_parallel_tree=1, predictor='auto',\n",
       "              random_state=0, reg_alpha=0, ...)"
      ]
     },
     "execution_count": 40,
     "metadata": {},
     "output_type": "execute_result"
    }
   ],
   "source": [
    "%%time\n",
    "xgb_clf.fit(features_train, y_train)"
   ]
  },
  {
   "cell_type": "code",
   "execution_count": 41,
   "metadata": {},
   "outputs": [],
   "source": [
    "preds_xgb = xgb_clf.predict(features_test)"
   ]
  },
  {
   "cell_type": "code",
   "execution_count": 42,
   "metadata": {},
   "outputs": [
    {
     "name": "stdout",
     "output_type": "stream",
     "text": [
      "Значение F1 для XGBoost = 0.76\n"
     ]
    }
   ],
   "source": [
    "print('Значение F1 для XGBoost =', round(f1_score(y_test, preds_xgb),2))"
   ]
  },
  {
   "cell_type": "markdown",
   "metadata": {},
   "source": [
    "Вывод:\n",
    "<br> XGBoost обеспечивает качество предсказаний аналогичное Логистической регрессии, обучается почти втрое быстрее CatBoost'a"
   ]
  },
  {
   "cell_type": "markdown",
   "metadata": {},
   "source": [
    "PIPELINE USAGE"
   ]
  },
  {
   "cell_type": "code",
   "execution_count": 43,
   "metadata": {},
   "outputs": [],
   "source": [
    "from sklearn.model_selection import train_test_split\n",
    "from sklearn.pipeline import Pipeline\n",
    "from sklearn.model_selection import GridSearchCV\n",
    "from sklearn.metrics import accuracy_score\n",
    "#from sklearn.externals import joblib\n",
    "from sklearn.tree import DecisionTreeClassifier\n",
    "from sklearn.linear_model import LogisticRegression\n",
    "from sklearn.ensemble import RandomForestClassifier\n",
    "from sklearn import svm\n",
    "from sklearn.feature_extraction.text import CountVectorizer\n",
    "from sklearn.feature_extraction.text import TfidfTransformer"
   ]
  },
  {
   "cell_type": "code",
   "execution_count": 44,
   "metadata": {},
   "outputs": [],
   "source": [
    "features_train, features_test, y_train, y_test = train_test_split(\n",
    "    df['text'], df['toxic'], test_size=0.2, random_state=2007)"
   ]
  },
  {
   "cell_type": "code",
   "execution_count": 45,
   "metadata": {},
   "outputs": [],
   "source": [
    "pipe_lr = Pipeline([('vect', CountVectorizer()),\n",
    "                   ('tfidf', TfidfTransformer()),\n",
    "                ('clf', LogisticRegression(random_state=2007))])\n",
    "\n",
    "pipe_cb = Pipeline([('vect', CountVectorizer()),\n",
    "                 ('tfidf', TfidfTransformer()),\n",
    "                 ('clf', CatBoostClassifier())])\n",
    "\n",
    "pipe_xgb = Pipeline([('vect', CountVectorizer()),\n",
    "                   ('tfidf', TfidfTransformer()),\n",
    "            ('clf', XGBClassifier())])"
   ]
  },
  {
   "cell_type": "code",
   "execution_count": 46,
   "metadata": {},
   "outputs": [],
   "source": [
    "param_range = [9, 10]\n",
    "param_range_fl = [1.0, 0.5]\n",
    "learning_range = [0.3, 1]\n",
    "\n",
    "grid_params_lr = [{'clf__penalty': ['l1', 'l2'],\n",
    "        'clf__C': param_range_fl,\n",
    "        'clf__solver': ['saga'],\n",
    "        'clf__class_weight': ['balanced', None]}] \n",
    "\n",
    "\n",
    "grid_params_cb = [{'clf__learning_rate': learning_range,\n",
    "        'clf__depth': param_range,\n",
    "        'clf__iterations': [30,40]}]\n",
    "\n",
    "grid_params_xgb = [{'clf__learning_rate': learning_range, \n",
    "        'clf__n_estimators': [50, 60],\n",
    "                   'clf__depth': param_range}]\n",
    "jobs = -1"
   ]
  },
  {
   "cell_type": "code",
   "execution_count": 47,
   "metadata": {},
   "outputs": [],
   "source": [
    "LR = GridSearchCV(estimator=pipe_lr,\n",
    "            param_grid=grid_params_lr,\n",
    "            scoring='f1',\n",
    "            cv=10) \n",
    "\n",
    "\n",
    "\n",
    "CB = GridSearchCV(estimator=pipe_cb,\n",
    "            param_grid=grid_params_cb,\n",
    "            scoring='f1',\n",
    "            cv=10, \n",
    "            n_jobs=jobs)\n",
    "\n",
    "\n",
    "XGB = GridSearchCV(estimator=pipe_xgb,\n",
    "            param_grid=grid_params_xgb,\n",
    "            scoring='f1',\n",
    "            cv=10,\n",
    "            n_jobs=jobs)\n",
    "\n",
    "grids = [LR,CB,XGB]"
   ]
  },
  {
   "cell_type": "code",
   "execution_count": 48,
   "metadata": {},
   "outputs": [],
   "source": [
    "grid_dict = {0: 'Logistic Regression', \n",
    "        1: 'CatBoost Classifier',\n",
    "        2: 'XGBoost Classifier'}"
   ]
  },
  {
   "cell_type": "code",
   "execution_count": null,
   "metadata": {},
   "outputs": [
    {
     "name": "stdout",
     "output_type": "stream",
     "text": [
      "Performing model optimizations...\n",
      "\n",
      "Estimator: Logistic Regression\n"
     ]
    },
    {
     "name": "stderr",
     "output_type": "stream",
     "text": [
      "/Users/lesha_sm/opt/anaconda3/lib/python3.9/site-packages/sklearn/linear_model/_sag.py:328: ConvergenceWarning: The max_iter was reached which means the coef_ did not converge\n",
      "  warnings.warn(\"The max_iter was reached which means \"\n",
      "/Users/lesha_sm/opt/anaconda3/lib/python3.9/site-packages/sklearn/linear_model/_sag.py:328: ConvergenceWarning: The max_iter was reached which means the coef_ did not converge\n",
      "  warnings.warn(\"The max_iter was reached which means \"\n",
      "/Users/lesha_sm/opt/anaconda3/lib/python3.9/site-packages/sklearn/linear_model/_sag.py:328: ConvergenceWarning: The max_iter was reached which means the coef_ did not converge\n",
      "  warnings.warn(\"The max_iter was reached which means \"\n",
      "/Users/lesha_sm/opt/anaconda3/lib/python3.9/site-packages/sklearn/linear_model/_sag.py:328: ConvergenceWarning: The max_iter was reached which means the coef_ did not converge\n",
      "  warnings.warn(\"The max_iter was reached which means \"\n",
      "/Users/lesha_sm/opt/anaconda3/lib/python3.9/site-packages/sklearn/linear_model/_sag.py:328: ConvergenceWarning: The max_iter was reached which means the coef_ did not converge\n",
      "  warnings.warn(\"The max_iter was reached which means \"\n",
      "/Users/lesha_sm/opt/anaconda3/lib/python3.9/site-packages/sklearn/linear_model/_sag.py:328: ConvergenceWarning: The max_iter was reached which means the coef_ did not converge\n",
      "  warnings.warn(\"The max_iter was reached which means \"\n",
      "/Users/lesha_sm/opt/anaconda3/lib/python3.9/site-packages/sklearn/linear_model/_sag.py:328: ConvergenceWarning: The max_iter was reached which means the coef_ did not converge\n",
      "  warnings.warn(\"The max_iter was reached which means \"\n",
      "/Users/lesha_sm/opt/anaconda3/lib/python3.9/site-packages/sklearn/linear_model/_sag.py:328: ConvergenceWarning: The max_iter was reached which means the coef_ did not converge\n",
      "  warnings.warn(\"The max_iter was reached which means \"\n",
      "/Users/lesha_sm/opt/anaconda3/lib/python3.9/site-packages/sklearn/linear_model/_sag.py:328: ConvergenceWarning: The max_iter was reached which means the coef_ did not converge\n",
      "  warnings.warn(\"The max_iter was reached which means \"\n",
      "/Users/lesha_sm/opt/anaconda3/lib/python3.9/site-packages/sklearn/linear_model/_sag.py:328: ConvergenceWarning: The max_iter was reached which means the coef_ did not converge\n",
      "  warnings.warn(\"The max_iter was reached which means \"\n",
      "/Users/lesha_sm/opt/anaconda3/lib/python3.9/site-packages/sklearn/linear_model/_sag.py:328: ConvergenceWarning: The max_iter was reached which means the coef_ did not converge\n",
      "  warnings.warn(\"The max_iter was reached which means \"\n",
      "/Users/lesha_sm/opt/anaconda3/lib/python3.9/site-packages/sklearn/linear_model/_sag.py:328: ConvergenceWarning: The max_iter was reached which means the coef_ did not converge\n",
      "  warnings.warn(\"The max_iter was reached which means \"\n",
      "/Users/lesha_sm/opt/anaconda3/lib/python3.9/site-packages/sklearn/linear_model/_sag.py:328: ConvergenceWarning: The max_iter was reached which means the coef_ did not converge\n",
      "  warnings.warn(\"The max_iter was reached which means \"\n",
      "/Users/lesha_sm/opt/anaconda3/lib/python3.9/site-packages/sklearn/linear_model/_sag.py:328: ConvergenceWarning: The max_iter was reached which means the coef_ did not converge\n",
      "  warnings.warn(\"The max_iter was reached which means \"\n",
      "/Users/lesha_sm/opt/anaconda3/lib/python3.9/site-packages/sklearn/linear_model/_sag.py:328: ConvergenceWarning: The max_iter was reached which means the coef_ did not converge\n",
      "  warnings.warn(\"The max_iter was reached which means \"\n",
      "/Users/lesha_sm/opt/anaconda3/lib/python3.9/site-packages/sklearn/linear_model/_sag.py:328: ConvergenceWarning: The max_iter was reached which means the coef_ did not converge\n",
      "  warnings.warn(\"The max_iter was reached which means \"\n",
      "/Users/lesha_sm/opt/anaconda3/lib/python3.9/site-packages/sklearn/linear_model/_sag.py:328: ConvergenceWarning: The max_iter was reached which means the coef_ did not converge\n",
      "  warnings.warn(\"The max_iter was reached which means \"\n",
      "/Users/lesha_sm/opt/anaconda3/lib/python3.9/site-packages/sklearn/linear_model/_sag.py:328: ConvergenceWarning: The max_iter was reached which means the coef_ did not converge\n",
      "  warnings.warn(\"The max_iter was reached which means \"\n",
      "/Users/lesha_sm/opt/anaconda3/lib/python3.9/site-packages/sklearn/linear_model/_sag.py:328: ConvergenceWarning: The max_iter was reached which means the coef_ did not converge\n",
      "  warnings.warn(\"The max_iter was reached which means \"\n",
      "/Users/lesha_sm/opt/anaconda3/lib/python3.9/site-packages/sklearn/linear_model/_sag.py:328: ConvergenceWarning: The max_iter was reached which means the coef_ did not converge\n",
      "  warnings.warn(\"The max_iter was reached which means \"\n",
      "/Users/lesha_sm/opt/anaconda3/lib/python3.9/site-packages/sklearn/linear_model/_sag.py:328: ConvergenceWarning: The max_iter was reached which means the coef_ did not converge\n",
      "  warnings.warn(\"The max_iter was reached which means \"\n",
      "/Users/lesha_sm/opt/anaconda3/lib/python3.9/site-packages/sklearn/linear_model/_sag.py:328: ConvergenceWarning: The max_iter was reached which means the coef_ did not converge\n",
      "  warnings.warn(\"The max_iter was reached which means \"\n",
      "/Users/lesha_sm/opt/anaconda3/lib/python3.9/site-packages/sklearn/linear_model/_sag.py:328: ConvergenceWarning: The max_iter was reached which means the coef_ did not converge\n",
      "  warnings.warn(\"The max_iter was reached which means \"\n",
      "/Users/lesha_sm/opt/anaconda3/lib/python3.9/site-packages/sklearn/linear_model/_sag.py:328: ConvergenceWarning: The max_iter was reached which means the coef_ did not converge\n",
      "  warnings.warn(\"The max_iter was reached which means \"\n",
      "/Users/lesha_sm/opt/anaconda3/lib/python3.9/site-packages/sklearn/linear_model/_sag.py:328: ConvergenceWarning: The max_iter was reached which means the coef_ did not converge\n",
      "  warnings.warn(\"The max_iter was reached which means \"\n",
      "/Users/lesha_sm/opt/anaconda3/lib/python3.9/site-packages/sklearn/linear_model/_sag.py:328: ConvergenceWarning: The max_iter was reached which means the coef_ did not converge\n",
      "  warnings.warn(\"The max_iter was reached which means \"\n",
      "/Users/lesha_sm/opt/anaconda3/lib/python3.9/site-packages/sklearn/linear_model/_sag.py:328: ConvergenceWarning: The max_iter was reached which means the coef_ did not converge\n",
      "  warnings.warn(\"The max_iter was reached which means \"\n",
      "/Users/lesha_sm/opt/anaconda3/lib/python3.9/site-packages/sklearn/linear_model/_sag.py:328: ConvergenceWarning: The max_iter was reached which means the coef_ did not converge\n",
      "  warnings.warn(\"The max_iter was reached which means \"\n",
      "/Users/lesha_sm/opt/anaconda3/lib/python3.9/site-packages/sklearn/linear_model/_sag.py:328: ConvergenceWarning: The max_iter was reached which means the coef_ did not converge\n",
      "  warnings.warn(\"The max_iter was reached which means \"\n",
      "/Users/lesha_sm/opt/anaconda3/lib/python3.9/site-packages/sklearn/linear_model/_sag.py:328: ConvergenceWarning: The max_iter was reached which means the coef_ did not converge\n",
      "  warnings.warn(\"The max_iter was reached which means \"\n"
     ]
    }
   ],
   "source": [
    "print('Performing model optimizations...')\n",
    "best_f1 = 0.0\n",
    "best_clf = 0\n",
    "best_gs = ''\n",
    "for idx, gs in enumerate(grids):\n",
    "    print('\\nEstimator: %s' % grid_dict[idx])\n",
    "    gs.fit(features_train, y_train)\n",
    "    print('Best params are : %s' % gs.best_params_)\n",
    "    # Best training data f1\n",
    "    print('Best training f1_score: %.3f' % gs.best_score_)\n",
    "    # Predict on test data with best params\n",
    "    y_pred = gs.predict(features_test)\n",
    "    # Test data f1 of model with best params\n",
    "    print('Test set f1_score for best params: %.3f ' % f1_score(y_test, y_pred))\n",
    "    # Track best (highest test f1) model\n",
    "    if f1_score(y_test, y_pred) > best_f1:\n",
    "        best_f1 = f1_score(y_test, y_pred)\n",
    "        best_gs = gs\n",
    "        best_clf = idx\n",
    "print('\\nClassifier with best test set f1: %s' % grid_dict[best_clf])\n"
   ]
  },
  {
   "cell_type": "markdown",
   "metadata": {},
   "source": [
    "BERT"
   ]
  },
  {
   "cell_type": "code",
   "execution_count": null,
   "metadata": {},
   "outputs": [],
   "source": [
    "import transformers"
   ]
  },
  {
   "cell_type": "code",
   "execution_count": null,
   "metadata": {},
   "outputs": [],
   "source": [
    "model = transformers.AutoModel.from_pretrained('unitary/toxic-bert')"
   ]
  },
  {
   "cell_type": "code",
   "execution_count": null,
   "metadata": {},
   "outputs": [],
   "source": [
    "tokenizer = transformers.AutoTokenizer.from_pretrained('unitary/toxic-bert')"
   ]
  },
  {
   "cell_type": "code",
   "execution_count": null,
   "metadata": {},
   "outputs": [],
   "source": [
    "X = df['text']\n",
    "y = df['toxic']"
   ]
  },
  {
   "cell_type": "code",
   "execution_count": null,
   "metadata": {},
   "outputs": [],
   "source": [
    "X_train, X_test, y_train, y_test = train_test_split(X, y, test_size=.2, \n",
    "                                                    stratify=y,\n",
    "                                                    random_state=42)"
   ]
  },
  {
   "cell_type": "code",
   "execution_count": null,
   "metadata": {},
   "outputs": [],
   "source": [
    "classifier = pipeline(\"sentiment-analysis\", \n",
    "                      model='unitary/toxic-bert',\n",
    "                      device=0)"
   ]
  },
  {
   "cell_type": "code",
   "execution_count": null,
   "metadata": {},
   "outputs": [],
   "source": [
    "%%time\n",
    "preds = classifier(X_test.to_list(), padding=True, \n",
    "                   max_length=512, truncation=True,\n",
    "                   batch_size=32)"
   ]
  },
  {
   "cell_type": "code",
   "execution_count": null,
   "metadata": {},
   "outputs": [],
   "source": [
    "def to_labels(predict_proba, threshold):\n",
    "\treturn (predict_proba >= threshold).astype('int')"
   ]
  },
  {
   "cell_type": "code",
   "execution_count": null,
   "metadata": {},
   "outputs": [],
   "source": [
    "y_pred_bert = to_labels(pd.DataFrame(preds)['score'], 0.5)"
   ]
  },
  {
   "cell_type": "code",
   "execution_count": null,
   "metadata": {},
   "outputs": [],
   "source": [
    "f1_score(y_test, y_pred_bert)"
   ]
  },
  {
   "cell_type": "markdown",
   "metadata": {},
   "source": [
    "## Выводы"
   ]
  },
  {
   "cell_type": "markdown",
   "metadata": {},
   "source": [
    "После предобработки и разделения данных на выборки были обучены три разные модели и предсказаны значения целевого признака. \n",
    "Получены следующие результаты работы моделей:\n",
    "<br>\n",
    "- LogisticRegression (время обучения порядка 6-7 секунд, значение метрики F1 = 0.76)\n",
    "- CatBoost (время обучения около 3 минут, значение метрики F1 = 0.77)\n",
    "- XGBoost (время обучения около 1 минуты, значение метрики F1 = 0.76)\n",
    "\n",
    "По результатам видно, что качество предсказаний моделей очень близко. Однако, сильно различается время обучения. Лидер по скорости обучения - ЛогистическаяРегрессия, самая простая из изученных моделей. На втором месте - XGBoost, время обучения которого выше logit, но XGBoost обеспечивает аналогичное ей качество предсказаний. В зависимости от потребностей и возможностей заказчика в момент запуска, можно рекомендовать для использования любую из двух отличившихся моделей. CatBoost дает лучшие из примеров результаты качества, но в данном случае обучается гораздо дольше других. В случае необходимости остановиться на одной модели, лучшие комплексные показатели - у Логистической регрессии, рекомендую использовать ее."
   ]
  },
  {
   "cell_type": "markdown",
   "metadata": {},
   "source": [
    "<span class=\"tocSkip\"></span></h1>\n",
    "<div class=\"toc\"><ul class=\"toc-item\"><li><span><a href=\"#Подготовка\" data-toc-modified-id=\"Подготовка-1\"><span class=\"toc-item-num\">1&nbsp;&nbsp;</span>Подготовка</a></span></li><li><span><a href=\"#Обучение\" data-toc-modified-id=\"Обучение-2\"><span class=\"toc-item-num\">2&nbsp;&nbsp;</span>Обучение</a></span></li><li><span><a href=\"#Выводы\" data-toc-modified-id=\"Выводы-3\"><span class=\"toc-item-num\">3&nbsp;&nbsp;</span>Выводы</a></span></li><li><span><a href=\"#Чек-лист-проверки\" data-toc-modified-id=\"Чек-лист-проверки-4\"><span class=\"toc-item-num\">4&nbsp;&nbsp;</span>Чек-лист проверки</a></span></li></ul></div>"
   ]
  }
 ],
 "metadata": {
  "ExecuteTimeLog": [
   {
    "duration": 1304,
    "start_time": "2022-09-03T09:35:35.001Z"
   },
   {
    "duration": 3225,
    "start_time": "2022-09-03T09:35:36.306Z"
   },
   {
    "duration": 11,
    "start_time": "2022-09-03T09:35:39.533Z"
   },
   {
    "duration": 25,
    "start_time": "2022-09-03T09:35:39.546Z"
   },
   {
    "duration": 12,
    "start_time": "2022-09-03T09:35:39.572Z"
   },
   {
    "duration": 15,
    "start_time": "2022-09-03T09:35:39.585Z"
   },
   {
    "duration": 20,
    "start_time": "2022-09-03T09:35:39.601Z"
   },
   {
    "duration": 1463,
    "start_time": "2022-09-03T09:35:39.623Z"
   },
   {
    "duration": 368,
    "start_time": "2022-09-03T09:35:41.088Z"
   },
   {
    "duration": 4,
    "start_time": "2022-09-03T09:35:41.458Z"
   },
   {
    "duration": 4,
    "start_time": "2022-09-03T09:35:41.464Z"
   },
   {
    "duration": 132,
    "start_time": "2022-09-03T09:35:55.466Z"
   },
   {
    "duration": 36,
    "start_time": "2022-09-03T09:36:02.848Z"
   },
   {
    "duration": 3,
    "start_time": "2022-09-03T09:36:04.475Z"
   },
   {
    "duration": 3,
    "start_time": "2022-09-03T09:36:04.942Z"
   },
   {
    "duration": 221,
    "start_time": "2022-09-03T09:36:11.875Z"
   },
   {
    "duration": 2018,
    "start_time": "2022-09-03T09:36:13.853Z"
   },
   {
    "duration": 3,
    "start_time": "2022-09-03T09:36:15.873Z"
   },
   {
    "duration": 3,
    "start_time": "2022-09-03T09:36:16.076Z"
   },
   {
    "duration": 3,
    "start_time": "2022-09-03T09:47:05.035Z"
   },
   {
    "duration": 2,
    "start_time": "2022-09-03T09:47:22.601Z"
   },
   {
    "duration": 1012,
    "start_time": "2022-09-03T09:47:38.899Z"
   },
   {
    "duration": 13,
    "start_time": "2022-09-03T09:48:19.365Z"
   },
   {
    "duration": 6,
    "start_time": "2022-09-03T09:48:24.502Z"
   },
   {
    "duration": 5,
    "start_time": "2022-09-03T09:48:38.655Z"
   },
   {
    "duration": 5,
    "start_time": "2022-09-03T09:49:08.333Z"
   },
   {
    "duration": 21156,
    "start_time": "2022-09-03T09:51:52.549Z"
   },
   {
    "duration": 40,
    "start_time": "2022-09-03T09:52:39.233Z"
   },
   {
    "duration": 21115,
    "start_time": "2022-09-03T09:53:35.382Z"
   },
   {
    "duration": 21,
    "start_time": "2022-09-03T09:53:58.361Z"
   },
   {
    "duration": 105,
    "start_time": "2022-09-03T09:55:23.226Z"
   },
   {
    "duration": 3,
    "start_time": "2022-09-03T09:55:28.420Z"
   },
   {
    "duration": 2,
    "start_time": "2022-09-03T09:55:29.789Z"
   },
   {
    "duration": 2,
    "start_time": "2022-09-03T09:55:29.991Z"
   },
   {
    "duration": 22072,
    "start_time": "2022-09-03T09:55:30.252Z"
   },
   {
    "duration": 17,
    "start_time": "2022-09-03T09:55:53.746Z"
   },
   {
    "duration": 14,
    "start_time": "2022-09-03T09:56:56.106Z"
   },
   {
    "duration": 22304,
    "start_time": "2022-09-03T09:57:15.530Z"
   },
   {
    "duration": 90978,
    "start_time": "2022-09-03T09:58:24.470Z"
   },
   {
    "duration": 23674,
    "start_time": "2022-09-03T09:59:55.450Z"
   },
   {
    "duration": 3,
    "start_time": "2022-09-03T10:00:32.844Z"
   },
   {
    "duration": 4792,
    "start_time": "2022-09-03T10:00:33.080Z"
   },
   {
    "duration": 1101,
    "start_time": "2022-09-03T10:00:37.874Z"
   },
   {
    "duration": 3,
    "start_time": "2022-09-03T10:22:38.123Z"
   },
   {
    "duration": 3,
    "start_time": "2022-09-03T10:22:50.065Z"
   },
   {
    "duration": 643,
    "start_time": "2022-09-03T10:22:50.070Z"
   },
   {
    "duration": 7,
    "start_time": "2022-09-03T10:22:50.715Z"
   },
   {
    "duration": 34,
    "start_time": "2022-09-03T10:22:50.725Z"
   },
   {
    "duration": 9,
    "start_time": "2022-09-03T10:22:50.760Z"
   },
   {
    "duration": 13,
    "start_time": "2022-09-03T10:22:50.771Z"
   },
   {
    "duration": 21,
    "start_time": "2022-09-03T10:22:50.786Z"
   },
   {
    "duration": 6,
    "start_time": "2022-09-03T10:22:50.809Z"
   },
   {
    "duration": 9,
    "start_time": "2022-09-03T10:22:50.817Z"
   },
   {
    "duration": 26,
    "start_time": "2022-09-03T10:22:50.829Z"
   },
   {
    "duration": 4,
    "start_time": "2022-09-03T10:22:50.856Z"
   },
   {
    "duration": 5,
    "start_time": "2022-09-03T10:22:50.862Z"
   },
   {
    "duration": 1838,
    "start_time": "2022-09-03T10:22:50.868Z"
   },
   {
    "duration": 3,
    "start_time": "2022-09-03T10:22:52.708Z"
   },
   {
    "duration": 4,
    "start_time": "2022-09-03T10:22:52.713Z"
   },
   {
    "duration": 6,
    "start_time": "2022-09-03T10:22:52.718Z"
   },
   {
    "duration": 5,
    "start_time": "2022-09-03T10:22:52.725Z"
   },
   {
    "duration": 7,
    "start_time": "2022-09-03T10:22:52.731Z"
   },
   {
    "duration": 4,
    "start_time": "2022-09-03T10:22:52.739Z"
   },
   {
    "duration": 9,
    "start_time": "2022-09-03T10:22:52.744Z"
   },
   {
    "duration": 9,
    "start_time": "2022-09-03T10:22:52.754Z"
   },
   {
    "duration": 92663,
    "start_time": "2022-09-03T10:22:52.765Z"
   },
   {
    "duration": 22494,
    "start_time": "2022-09-03T10:24:25.430Z"
   },
   {
    "duration": 17,
    "start_time": "2022-09-03T10:24:47.926Z"
   },
   {
    "duration": 4727,
    "start_time": "2022-09-03T10:24:47.945Z"
   },
   {
    "duration": 1123,
    "start_time": "2022-09-03T10:24:52.673Z"
   },
   {
    "duration": 2,
    "start_time": "2022-09-03T10:24:53.798Z"
   },
   {
    "duration": 3,
    "start_time": "2022-09-03T10:24:53.803Z"
   },
   {
    "duration": 4,
    "start_time": "2022-09-03T10:25:04.791Z"
   },
   {
    "duration": 642,
    "start_time": "2022-09-03T10:25:04.797Z"
   },
   {
    "duration": 7,
    "start_time": "2022-09-03T10:25:05.440Z"
   },
   {
    "duration": 29,
    "start_time": "2022-09-03T10:25:05.455Z"
   },
   {
    "duration": 9,
    "start_time": "2022-09-03T10:25:05.486Z"
   },
   {
    "duration": 14,
    "start_time": "2022-09-03T10:25:05.497Z"
   },
   {
    "duration": 19,
    "start_time": "2022-09-03T10:25:05.513Z"
   },
   {
    "duration": 24,
    "start_time": "2022-09-03T10:25:05.534Z"
   },
   {
    "duration": 6,
    "start_time": "2022-09-03T10:25:05.560Z"
   },
   {
    "duration": 7,
    "start_time": "2022-09-03T10:25:05.568Z"
   },
   {
    "duration": 5,
    "start_time": "2022-09-03T10:25:05.577Z"
   },
   {
    "duration": 7,
    "start_time": "2022-09-03T10:25:05.583Z"
   },
   {
    "duration": 1877,
    "start_time": "2022-09-03T10:25:05.592Z"
   },
   {
    "duration": 2,
    "start_time": "2022-09-03T10:25:07.473Z"
   },
   {
    "duration": 6,
    "start_time": "2022-09-03T10:25:07.476Z"
   },
   {
    "duration": 5,
    "start_time": "2022-09-03T10:25:07.483Z"
   },
   {
    "duration": 5,
    "start_time": "2022-09-03T10:25:07.489Z"
   },
   {
    "duration": 8,
    "start_time": "2022-09-03T10:25:07.495Z"
   },
   {
    "duration": 4,
    "start_time": "2022-09-03T10:25:07.504Z"
   },
   {
    "duration": 4,
    "start_time": "2022-09-03T10:25:07.510Z"
   },
   {
    "duration": 4,
    "start_time": "2022-09-03T10:25:07.515Z"
   },
   {
    "duration": 97493,
    "start_time": "2022-09-03T10:25:07.521Z"
   },
   {
    "duration": 25104,
    "start_time": "2022-09-03T10:26:45.016Z"
   },
   {
    "duration": 18,
    "start_time": "2022-09-03T10:27:10.121Z"
   },
   {
    "duration": 5156,
    "start_time": "2022-09-03T10:27:10.140Z"
   },
   {
    "duration": 1228,
    "start_time": "2022-09-03T10:27:15.297Z"
   },
   {
    "duration": 3,
    "start_time": "2022-09-03T10:27:16.527Z"
   },
   {
    "duration": 4,
    "start_time": "2022-09-03T10:27:22.624Z"
   },
   {
    "duration": 2,
    "start_time": "2022-09-03T10:27:23.212Z"
   },
   {
    "duration": 3,
    "start_time": "2022-09-03T10:27:24.585Z"
   },
   {
    "duration": 11900,
    "start_time": "2022-09-03T10:27:25.202Z"
   },
   {
    "duration": 6,
    "start_time": "2022-09-03T10:27:37.104Z"
   },
   {
    "duration": 12,
    "start_time": "2022-09-03T10:27:37.112Z"
   },
   {
    "duration": 14,
    "start_time": "2022-09-03T11:06:35.586Z"
   },
   {
    "duration": 1893,
    "start_time": "2022-09-03T11:06:57.914Z"
   },
   {
    "duration": 14,
    "start_time": "2022-09-03T11:07:02.853Z"
   },
   {
    "duration": 11,
    "start_time": "2022-09-03T11:07:04.103Z"
   },
   {
    "duration": 35,
    "start_time": "2022-09-03T11:08:29.202Z"
   },
   {
    "duration": 11,
    "start_time": "2022-09-03T11:09:09.789Z"
   },
   {
    "duration": 10,
    "start_time": "2022-09-03T11:10:34.183Z"
   },
   {
    "duration": 31,
    "start_time": "2022-09-03T11:10:39.402Z"
   },
   {
    "duration": 33,
    "start_time": "2022-09-03T11:10:42.976Z"
   },
   {
    "duration": 14,
    "start_time": "2022-09-03T11:10:43.587Z"
   },
   {
    "duration": 4,
    "start_time": "2022-09-03T11:11:26.964Z"
   },
   {
    "duration": 32,
    "start_time": "2022-09-03T11:11:27.788Z"
   },
   {
    "duration": 4,
    "start_time": "2022-09-03T11:11:27.970Z"
   },
   {
    "duration": 11,
    "start_time": "2022-09-03T11:12:36.177Z"
   },
   {
    "duration": 5,
    "start_time": "2022-09-03T11:12:52.721Z"
   },
   {
    "duration": 3,
    "start_time": "2022-09-03T11:13:27.884Z"
   },
   {
    "duration": 10,
    "start_time": "2022-09-04T08:39:19.017Z"
   },
   {
    "duration": 5,
    "start_time": "2022-09-04T08:40:05.203Z"
   },
   {
    "duration": 38,
    "start_time": "2022-09-04T08:41:27.199Z"
   },
   {
    "duration": 1173,
    "start_time": "2022-09-04T08:41:35.356Z"
   },
   {
    "duration": 43,
    "start_time": "2022-09-04T08:41:36.531Z"
   },
   {
    "duration": 8,
    "start_time": "2022-09-04T08:41:36.580Z"
   },
   {
    "duration": 4,
    "start_time": "2022-09-04T08:41:37.446Z"
   },
   {
    "duration": 9,
    "start_time": "2022-09-04T08:41:38.175Z"
   },
   {
    "duration": 439,
    "start_time": "2022-09-04T08:42:02.258Z"
   },
   {
    "duration": 1783,
    "start_time": "2022-09-04T08:42:10.520Z"
   },
   {
    "duration": 4,
    "start_time": "2022-09-04T08:42:20.170Z"
   },
   {
    "duration": 46,
    "start_time": "2022-09-04T08:42:20.410Z"
   },
   {
    "duration": 4,
    "start_time": "2022-09-04T08:42:21.347Z"
   },
   {
    "duration": 3,
    "start_time": "2022-09-04T08:42:22.454Z"
   },
   {
    "duration": 3224,
    "start_time": "2022-09-04T08:42:34.000Z"
   },
   {
    "duration": 15,
    "start_time": "2022-09-04T08:42:37.226Z"
   },
   {
    "duration": 28,
    "start_time": "2022-09-04T08:42:37.242Z"
   },
   {
    "duration": 15,
    "start_time": "2022-09-04T08:42:37.271Z"
   },
   {
    "duration": 18,
    "start_time": "2022-09-04T08:42:37.288Z"
   },
   {
    "duration": 24,
    "start_time": "2022-09-04T08:42:37.928Z"
   },
   {
    "duration": 2,
    "start_time": "2022-09-04T08:42:38.437Z"
   },
   {
    "duration": 3,
    "start_time": "2022-09-04T08:42:38.600Z"
   },
   {
    "duration": 2,
    "start_time": "2022-09-04T08:42:39.073Z"
   },
   {
    "duration": 3,
    "start_time": "2022-09-04T08:42:39.235Z"
   },
   {
    "duration": 154,
    "start_time": "2022-09-04T08:42:40.799Z"
   },
   {
    "duration": 1770,
    "start_time": "2022-09-04T08:42:42.890Z"
   },
   {
    "duration": 3,
    "start_time": "2022-09-04T08:42:44.662Z"
   },
   {
    "duration": 6,
    "start_time": "2022-09-04T08:42:44.666Z"
   },
   {
    "duration": 5,
    "start_time": "2022-09-04T08:42:44.674Z"
   },
   {
    "duration": 3,
    "start_time": "2022-09-04T08:42:50.544Z"
   },
   {
    "duration": 51,
    "start_time": "2022-09-04T08:42:50.774Z"
   },
   {
    "duration": 5,
    "start_time": "2022-09-04T08:42:51.399Z"
   },
   {
    "duration": 3,
    "start_time": "2022-09-04T08:42:52.044Z"
   },
   {
    "duration": 3,
    "start_time": "2022-09-04T08:42:52.673Z"
   },
   {
    "duration": 4,
    "start_time": "2022-09-04T08:43:13.537Z"
   },
   {
    "duration": 2,
    "start_time": "2022-09-04T08:43:40.190Z"
   },
   {
    "duration": 2,
    "start_time": "2022-09-04T08:43:55.909Z"
   },
   {
    "duration": 2,
    "start_time": "2022-09-04T08:44:22.717Z"
   },
   {
    "duration": 15,
    "start_time": "2022-09-04T08:46:28.030Z"
   },
   {
    "duration": 8,
    "start_time": "2022-09-04T08:46:36.901Z"
   },
   {
    "duration": 8,
    "start_time": "2022-09-04T08:46:37.260Z"
   },
   {
    "duration": 2,
    "start_time": "2022-09-04T08:46:42.455Z"
   },
   {
    "duration": 1072,
    "start_time": "2022-09-04T08:46:43.092Z"
   },
   {
    "duration": 0,
    "start_time": "2022-09-04T08:46:44.165Z"
   },
   {
    "duration": 3,
    "start_time": "2022-09-04T08:46:48.667Z"
   },
   {
    "duration": 3,
    "start_time": "2022-09-04T08:46:49.627Z"
   },
   {
    "duration": 2,
    "start_time": "2022-09-04T08:46:51.090Z"
   },
   {
    "duration": 2,
    "start_time": "2022-09-04T08:46:51.469Z"
   },
   {
    "duration": 3,
    "start_time": "2022-09-04T08:46:51.626Z"
   },
   {
    "duration": 93230,
    "start_time": "2022-09-04T08:46:51.847Z"
   },
   {
    "duration": 24312,
    "start_time": "2022-09-04T08:48:25.079Z"
   },
   {
    "duration": 2,
    "start_time": "2022-09-04T08:48:49.393Z"
   },
   {
    "duration": 5058,
    "start_time": "2022-09-04T08:48:49.397Z"
   },
   {
    "duration": 1181,
    "start_time": "2022-09-04T08:48:54.467Z"
   },
   {
    "duration": 7,
    "start_time": "2022-09-04T08:48:55.650Z"
   },
   {
    "duration": 9,
    "start_time": "2022-09-04T08:48:55.663Z"
   },
   {
    "duration": 15,
    "start_time": "2022-09-04T08:54:02.085Z"
   },
   {
    "duration": 16,
    "start_time": "2022-09-04T08:55:05.857Z"
   },
   {
    "duration": 9,
    "start_time": "2022-09-04T08:57:45.306Z"
   },
   {
    "duration": 8,
    "start_time": "2022-09-04T08:58:04.021Z"
   },
   {
    "duration": 4,
    "start_time": "2022-09-04T08:59:10.169Z"
   },
   {
    "duration": 9,
    "start_time": "2022-09-04T08:59:11.055Z"
   },
   {
    "duration": 40,
    "start_time": "2022-09-04T08:59:11.828Z"
   },
   {
    "duration": 4,
    "start_time": "2022-09-04T09:02:12.041Z"
   },
   {
    "duration": 3,
    "start_time": "2022-09-04T09:02:17.619Z"
   },
   {
    "duration": 4,
    "start_time": "2022-09-04T09:02:20.723Z"
   },
   {
    "duration": 3,
    "start_time": "2022-09-04T09:02:22.147Z"
   },
   {
    "duration": 35,
    "start_time": "2022-09-04T09:02:23.609Z"
   },
   {
    "duration": 9,
    "start_time": "2022-09-04T09:02:32.045Z"
   },
   {
    "duration": 36,
    "start_time": "2022-09-04T09:03:05.775Z"
   },
   {
    "duration": 3,
    "start_time": "2022-09-04T09:09:41.103Z"
   },
   {
    "duration": 5,
    "start_time": "2022-09-04T09:09:41.649Z"
   },
   {
    "duration": 5,
    "start_time": "2022-09-04T09:09:42.199Z"
   },
   {
    "duration": 502,
    "start_time": "2022-09-04T09:09:42.989Z"
   },
   {
    "duration": 511,
    "start_time": "2022-09-04T09:10:29.032Z"
   },
   {
    "duration": 542,
    "start_time": "2022-09-04T09:17:29.835Z"
   },
   {
    "duration": 3,
    "start_time": "2022-09-04T09:20:31.044Z"
   },
   {
    "duration": 3,
    "start_time": "2022-09-04T09:20:31.787Z"
   },
   {
    "duration": 3,
    "start_time": "2022-09-04T09:20:32.230Z"
   },
   {
    "duration": 2,
    "start_time": "2022-09-04T09:20:33.091Z"
   },
   {
    "duration": 486,
    "start_time": "2022-09-04T09:20:33.853Z"
   },
   {
    "duration": 4,
    "start_time": "2022-09-04T09:36:58.038Z"
   },
   {
    "duration": 5,
    "start_time": "2022-09-04T09:36:58.918Z"
   },
   {
    "duration": 3,
    "start_time": "2022-09-04T09:37:00.170Z"
   },
   {
    "duration": 1839,
    "start_time": "2022-09-04T09:37:01.537Z"
   },
   {
    "duration": 1921,
    "start_time": "2022-09-04T09:38:34.956Z"
   },
   {
    "duration": 2054,
    "start_time": "2022-09-04T09:43:57.597Z"
   },
   {
    "duration": 11,
    "start_time": "2022-09-04T09:44:16.929Z"
   },
   {
    "duration": 9,
    "start_time": "2022-09-04T09:44:39.058Z"
   },
   {
    "duration": 41,
    "start_time": "2022-09-04T09:44:40.737Z"
   },
   {
    "duration": 3,
    "start_time": "2022-09-04T09:44:52.346Z"
   },
   {
    "duration": 5,
    "start_time": "2022-09-04T09:44:52.944Z"
   },
   {
    "duration": 6,
    "start_time": "2022-09-04T09:44:53.811Z"
   },
   {
    "duration": 5,
    "start_time": "2022-09-04T09:44:54.399Z"
   },
   {
    "duration": 3,
    "start_time": "2022-09-04T09:44:55.081Z"
   },
   {
    "duration": 2245,
    "start_time": "2022-09-04T09:44:55.759Z"
   },
   {
    "duration": 36,
    "start_time": "2022-09-04T09:46:33.040Z"
   },
   {
    "duration": 42,
    "start_time": "2022-09-04T09:46:43.738Z"
   },
   {
    "duration": 4,
    "start_time": "2022-09-04T09:46:44.689Z"
   },
   {
    "duration": 4,
    "start_time": "2022-09-04T09:46:45.403Z"
   },
   {
    "duration": 4,
    "start_time": "2022-09-04T09:46:46.392Z"
   },
   {
    "duration": 3,
    "start_time": "2022-09-04T09:46:46.880Z"
   },
   {
    "duration": 4213965,
    "start_time": "2022-09-04T09:46:47.431Z"
   },
   {
    "duration": 4,
    "start_time": "2022-09-04T10:58:10.493Z"
   },
   {
    "duration": 4,
    "start_time": "2022-09-04T10:58:11.093Z"
   },
   {
    "duration": 3,
    "start_time": "2022-09-04T10:58:11.674Z"
   },
   {
    "duration": 1813,
    "start_time": "2022-09-04T18:19:32.297Z"
   },
   {
    "duration": 2370,
    "start_time": "2022-09-04T18:19:34.112Z"
   },
   {
    "duration": 13,
    "start_time": "2022-09-04T18:19:36.483Z"
   },
   {
    "duration": 38,
    "start_time": "2022-09-04T18:19:36.498Z"
   },
   {
    "duration": 32,
    "start_time": "2022-09-04T18:19:36.538Z"
   },
   {
    "duration": 29,
    "start_time": "2022-09-04T18:19:36.572Z"
   },
   {
    "duration": 29,
    "start_time": "2022-09-04T18:19:36.603Z"
   },
   {
    "duration": 3,
    "start_time": "2022-09-04T18:19:36.634Z"
   },
   {
    "duration": 9,
    "start_time": "2022-09-04T18:19:36.639Z"
   },
   {
    "duration": 24,
    "start_time": "2022-09-04T18:19:36.651Z"
   },
   {
    "duration": 21,
    "start_time": "2022-09-04T18:19:36.677Z"
   },
   {
    "duration": 230,
    "start_time": "2022-09-04T18:19:36.699Z"
   },
   {
    "duration": 2210,
    "start_time": "2022-09-04T18:19:36.931Z"
   },
   {
    "duration": 2,
    "start_time": "2022-09-04T18:19:39.143Z"
   },
   {
    "duration": 17,
    "start_time": "2022-09-04T18:19:39.147Z"
   },
   {
    "duration": 8,
    "start_time": "2022-09-04T18:19:39.167Z"
   },
   {
    "duration": 16,
    "start_time": "2022-09-04T18:19:39.176Z"
   },
   {
    "duration": 26,
    "start_time": "2022-09-04T18:19:39.195Z"
   },
   {
    "duration": 10,
    "start_time": "2022-09-04T18:19:39.223Z"
   },
   {
    "duration": 25,
    "start_time": "2022-09-04T18:19:39.234Z"
   },
   {
    "duration": 110117,
    "start_time": "2022-09-04T18:19:39.261Z"
   },
   {
    "duration": 25134,
    "start_time": "2022-09-04T18:21:29.380Z"
   },
   {
    "duration": 3,
    "start_time": "2022-09-04T18:21:54.516Z"
   },
   {
    "duration": 5282,
    "start_time": "2022-09-04T18:21:54.521Z"
   },
   {
    "duration": 1248,
    "start_time": "2022-09-04T18:21:59.805Z"
   },
   {
    "duration": 3,
    "start_time": "2022-09-04T18:22:01.055Z"
   },
   {
    "duration": 15,
    "start_time": "2022-09-04T18:22:01.060Z"
   },
   {
    "duration": 9,
    "start_time": "2022-09-04T18:22:01.080Z"
   },
   {
    "duration": 13164,
    "start_time": "2022-09-04T18:22:01.091Z"
   },
   {
    "duration": 6,
    "start_time": "2022-09-04T18:22:14.257Z"
   },
   {
    "duration": 14,
    "start_time": "2022-09-04T18:22:14.265Z"
   },
   {
    "duration": 2172,
    "start_time": "2022-09-04T18:22:14.281Z"
   },
   {
    "duration": 3,
    "start_time": "2022-09-04T18:22:16.455Z"
   },
   {
    "duration": 536411,
    "start_time": "2022-09-04T18:28:41.885Z"
   },
   {
    "duration": 14,
    "start_time": "2022-09-04T18:37:38.298Z"
   },
   {
    "duration": 0,
    "start_time": "2022-09-04T18:37:38.314Z"
   },
   {
    "duration": 0,
    "start_time": "2022-09-04T18:37:38.316Z"
   },
   {
    "duration": 0,
    "start_time": "2022-09-04T18:37:38.317Z"
   },
   {
    "duration": 0,
    "start_time": "2022-09-04T18:37:38.319Z"
   },
   {
    "duration": 0,
    "start_time": "2022-09-04T18:37:38.320Z"
   },
   {
    "duration": 0,
    "start_time": "2022-09-04T18:37:38.321Z"
   },
   {
    "duration": 0,
    "start_time": "2022-09-04T18:37:38.325Z"
   },
   {
    "duration": 0,
    "start_time": "2022-09-04T18:37:38.327Z"
   },
   {
    "duration": 0,
    "start_time": "2022-09-04T18:37:38.329Z"
   },
   {
    "duration": 4,
    "start_time": "2022-09-04T18:37:50.512Z"
   },
   {
    "duration": 2244,
    "start_time": "2022-09-04T18:37:50.519Z"
   },
   {
    "duration": 9,
    "start_time": "2022-09-04T18:37:52.764Z"
   },
   {
    "duration": 36,
    "start_time": "2022-09-04T18:37:52.774Z"
   },
   {
    "duration": 12,
    "start_time": "2022-09-04T18:37:52.812Z"
   },
   {
    "duration": 15,
    "start_time": "2022-09-04T18:37:52.826Z"
   },
   {
    "duration": 25,
    "start_time": "2022-09-04T18:37:52.843Z"
   },
   {
    "duration": 8,
    "start_time": "2022-09-04T18:37:52.870Z"
   },
   {
    "duration": 33,
    "start_time": "2022-09-04T18:37:52.880Z"
   },
   {
    "duration": 11,
    "start_time": "2022-09-04T18:37:52.915Z"
   },
   {
    "duration": 7,
    "start_time": "2022-09-04T18:37:52.928Z"
   },
   {
    "duration": 9,
    "start_time": "2022-09-04T18:37:52.938Z"
   },
   {
    "duration": 2279,
    "start_time": "2022-09-04T18:37:52.949Z"
   },
   {
    "duration": 4,
    "start_time": "2022-09-04T18:37:55.232Z"
   },
   {
    "duration": 6,
    "start_time": "2022-09-04T18:37:55.238Z"
   },
   {
    "duration": 7,
    "start_time": "2022-09-04T18:37:55.246Z"
   },
   {
    "duration": 10,
    "start_time": "2022-09-04T18:37:55.255Z"
   },
   {
    "duration": 6,
    "start_time": "2022-09-04T18:37:55.267Z"
   },
   {
    "duration": 7,
    "start_time": "2022-09-04T18:37:55.275Z"
   },
   {
    "duration": 5,
    "start_time": "2022-09-04T18:37:55.284Z"
   },
   {
    "duration": 106672,
    "start_time": "2022-09-04T18:37:55.292Z"
   },
   {
    "duration": 27093,
    "start_time": "2022-09-04T18:39:41.966Z"
   },
   {
    "duration": 19,
    "start_time": "2022-09-04T18:40:09.061Z"
   },
   {
    "duration": 5649,
    "start_time": "2022-09-04T18:40:09.083Z"
   },
   {
    "duration": 1439,
    "start_time": "2022-09-04T18:40:14.734Z"
   },
   {
    "duration": 3,
    "start_time": "2022-09-04T18:40:16.175Z"
   },
   {
    "duration": 9,
    "start_time": "2022-09-04T18:40:16.180Z"
   },
   {
    "duration": 18,
    "start_time": "2022-09-04T18:40:16.191Z"
   },
   {
    "duration": 16206,
    "start_time": "2022-09-04T18:40:16.211Z"
   },
   {
    "duration": 9,
    "start_time": "2022-09-04T18:40:32.419Z"
   },
   {
    "duration": 32,
    "start_time": "2022-09-04T18:40:32.431Z"
   },
   {
    "duration": 2324,
    "start_time": "2022-09-04T18:40:32.466Z"
   },
   {
    "duration": 5,
    "start_time": "2022-09-04T18:40:34.793Z"
   },
   {
    "duration": 40,
    "start_time": "2022-09-08T14:08:13.831Z"
   },
   {
    "duration": 1386,
    "start_time": "2022-09-08T14:08:17.005Z"
   },
   {
    "duration": 3274,
    "start_time": "2022-09-08T14:08:18.393Z"
   },
   {
    "duration": 12,
    "start_time": "2022-09-08T14:08:21.668Z"
   },
   {
    "duration": 46,
    "start_time": "2022-09-08T14:08:21.682Z"
   },
   {
    "duration": 9,
    "start_time": "2022-09-08T14:08:21.731Z"
   },
   {
    "duration": 14,
    "start_time": "2022-09-08T14:08:21.741Z"
   },
   {
    "duration": 103,
    "start_time": "2022-09-08T14:08:21.756Z"
   },
   {
    "duration": 13,
    "start_time": "2022-09-08T14:08:29.044Z"
   },
   {
    "duration": 12,
    "start_time": "2022-09-08T14:08:35.784Z"
   },
   {
    "duration": 29,
    "start_time": "2022-09-08T14:08:47.498Z"
   }
  ],
  "kernelspec": {
   "display_name": "Python 3 (ipykernel)",
   "language": "python",
   "name": "python3"
  },
  "language_info": {
   "codemirror_mode": {
    "name": "ipython",
    "version": 3
   },
   "file_extension": ".py",
   "mimetype": "text/x-python",
   "name": "python",
   "nbconvert_exporter": "python",
   "pygments_lexer": "ipython3",
   "version": "3.9.7"
  },
  "toc": {
   "base_numbering": 1,
   "nav_menu": {},
   "number_sections": true,
   "sideBar": true,
   "skip_h1_title": true,
   "title_cell": "Содержание",
   "title_sidebar": "Contents",
   "toc_cell": true,
   "toc_position": {
    "height": "calc(100% - 180px)",
    "left": "10px",
    "top": "150px",
    "width": "302.391px"
   },
   "toc_section_display": true,
   "toc_window_display": false
  }
 },
 "nbformat": 4,
 "nbformat_minor": 2
}
