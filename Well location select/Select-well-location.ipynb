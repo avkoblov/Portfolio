{
 "cells": [
  {
   "cell_type": "markdown",
   "metadata": {},
   "source": [
    "# Содержание"
   ]
  },
  {
   "cell_type": "markdown",
   "metadata": {},
   "source": [
    "<br>[Описание](#intro)\n",
    "<br>\n",
    "<br>[Загрузка и подготовка данных](#unit1)\n",
    "<br>\n",
    "<br>[Обучение и проверка модели](#unit2)\n",
    "<br>\n",
    "<br>[Подготовка к расчету прибыли](#unit3)\n",
    "<br>\n",
    "<br>[Расчет прибыли и рисков](#unit4)\n",
    "<br>\n",
    "<br>[Риски и прибыль для каждого региона](#unit5)"
   ]
  },
  {
   "cell_type": "markdown",
   "metadata": {},
   "source": [
    "# Выбор локации для скважины <a id='intro'></a>"
   ]
  },
  {
   "cell_type": "markdown",
   "metadata": {},
   "source": [
    "Нам предоставлены пробы нефти в трёх регионах: в каждом 10 000 месторождений, где измерили качество нефти и объём её запасов. Построим модель машинного обучения, которая поможет определить регион, где добыча принесёт наибольшую прибыль. Проанализируем возможную прибыль и риски техникой *Bootstrap.*\n",
    "\n",
    "Шаги для выбора локации:\n",
    "\n",
    "- В избранном регионе ищут месторождения, для каждого определяют значения признаков;\n",
    "- Строят модель и оценивают объём запасов;\n",
    "- Выбирают месторождения с самым высокими оценками значений. Количество месторождений зависит от бюджета компании и стоимости разработки одной скважины;\n",
    "- Прибыль равна суммарной прибыли отобранных месторождений."
   ]
  },
  {
   "cell_type": "markdown",
   "metadata": {},
   "source": [
    "## Загрузка и подготовка данных <a id='unit1'></a>"
   ]
  },
  {
   "cell_type": "markdown",
   "metadata": {},
   "source": [
    "Импортируем все необходимые библиотеки. Откроем данные и посмотрим на них"
   ]
  },
  {
   "cell_type": "code",
   "execution_count": 40,
   "metadata": {},
   "outputs": [],
   "source": [
    "import pandas as pd\n",
    "import numpy as np\n",
    "from sklearn.linear_model import LinearRegression\n",
    "from sklearn.model_selection import train_test_split\n",
    "from sklearn.metrics import mean_squared_error\n",
    "from scipy import stats as st\n",
    "from scipy.stats import t\n",
    "import matplotlib.pyplot as plt"
   ]
  },
  {
   "cell_type": "code",
   "execution_count": 41,
   "metadata": {},
   "outputs": [],
   "source": [
    "df0 = pd.read_csv('/datasets/geo_data_0.csv')\n",
    "df1 = pd.read_csv('/datasets/geo_data_1.csv')\n",
    "df2 = pd.read_csv('/datasets/geo_data_2.csv')"
   ]
  },
  {
   "cell_type": "code",
   "execution_count": 42,
   "metadata": {},
   "outputs": [
    {
     "data": {
      "text/html": [
       "<div>\n",
       "<style scoped>\n",
       "    .dataframe tbody tr th:only-of-type {\n",
       "        vertical-align: middle;\n",
       "    }\n",
       "\n",
       "    .dataframe tbody tr th {\n",
       "        vertical-align: top;\n",
       "    }\n",
       "\n",
       "    .dataframe thead th {\n",
       "        text-align: right;\n",
       "    }\n",
       "</style>\n",
       "<table border=\"1\" class=\"dataframe\">\n",
       "  <thead>\n",
       "    <tr style=\"text-align: right;\">\n",
       "      <th></th>\n",
       "      <th>id</th>\n",
       "      <th>f0</th>\n",
       "      <th>f1</th>\n",
       "      <th>f2</th>\n",
       "      <th>product</th>\n",
       "    </tr>\n",
       "  </thead>\n",
       "  <tbody>\n",
       "    <tr>\n",
       "      <th>0</th>\n",
       "      <td>txEyH</td>\n",
       "      <td>0.705745</td>\n",
       "      <td>-0.497823</td>\n",
       "      <td>1.221170</td>\n",
       "      <td>105.280062</td>\n",
       "    </tr>\n",
       "    <tr>\n",
       "      <th>1</th>\n",
       "      <td>2acmU</td>\n",
       "      <td>1.334711</td>\n",
       "      <td>-0.340164</td>\n",
       "      <td>4.365080</td>\n",
       "      <td>73.037750</td>\n",
       "    </tr>\n",
       "    <tr>\n",
       "      <th>2</th>\n",
       "      <td>409Wp</td>\n",
       "      <td>1.022732</td>\n",
       "      <td>0.151990</td>\n",
       "      <td>1.419926</td>\n",
       "      <td>85.265647</td>\n",
       "    </tr>\n",
       "    <tr>\n",
       "      <th>3</th>\n",
       "      <td>iJLyR</td>\n",
       "      <td>-0.032172</td>\n",
       "      <td>0.139033</td>\n",
       "      <td>2.978566</td>\n",
       "      <td>168.620776</td>\n",
       "    </tr>\n",
       "    <tr>\n",
       "      <th>4</th>\n",
       "      <td>Xdl7t</td>\n",
       "      <td>1.988431</td>\n",
       "      <td>0.155413</td>\n",
       "      <td>4.751769</td>\n",
       "      <td>154.036647</td>\n",
       "    </tr>\n",
       "  </tbody>\n",
       "</table>\n",
       "</div>"
      ],
      "text/plain": [
       "      id        f0        f1        f2     product\n",
       "0  txEyH  0.705745 -0.497823  1.221170  105.280062\n",
       "1  2acmU  1.334711 -0.340164  4.365080   73.037750\n",
       "2  409Wp  1.022732  0.151990  1.419926   85.265647\n",
       "3  iJLyR -0.032172  0.139033  2.978566  168.620776\n",
       "4  Xdl7t  1.988431  0.155413  4.751769  154.036647"
      ]
     },
     "execution_count": 42,
     "metadata": {},
     "output_type": "execute_result"
    }
   ],
   "source": [
    "df0.head()"
   ]
  },
  {
   "cell_type": "code",
   "execution_count": 43,
   "metadata": {},
   "outputs": [
    {
     "data": {
      "text/html": [
       "<div>\n",
       "<style scoped>\n",
       "    .dataframe tbody tr th:only-of-type {\n",
       "        vertical-align: middle;\n",
       "    }\n",
       "\n",
       "    .dataframe tbody tr th {\n",
       "        vertical-align: top;\n",
       "    }\n",
       "\n",
       "    .dataframe thead th {\n",
       "        text-align: right;\n",
       "    }\n",
       "</style>\n",
       "<table border=\"1\" class=\"dataframe\">\n",
       "  <thead>\n",
       "    <tr style=\"text-align: right;\">\n",
       "      <th></th>\n",
       "      <th>id</th>\n",
       "      <th>f0</th>\n",
       "      <th>f1</th>\n",
       "      <th>f2</th>\n",
       "      <th>product</th>\n",
       "    </tr>\n",
       "  </thead>\n",
       "  <tbody>\n",
       "    <tr>\n",
       "      <th>0</th>\n",
       "      <td>kBEdx</td>\n",
       "      <td>-15.001348</td>\n",
       "      <td>-8.276000</td>\n",
       "      <td>-0.005876</td>\n",
       "      <td>3.179103</td>\n",
       "    </tr>\n",
       "    <tr>\n",
       "      <th>1</th>\n",
       "      <td>62mP7</td>\n",
       "      <td>14.272088</td>\n",
       "      <td>-3.475083</td>\n",
       "      <td>0.999183</td>\n",
       "      <td>26.953261</td>\n",
       "    </tr>\n",
       "    <tr>\n",
       "      <th>2</th>\n",
       "      <td>vyE1P</td>\n",
       "      <td>6.263187</td>\n",
       "      <td>-5.948386</td>\n",
       "      <td>5.001160</td>\n",
       "      <td>134.766305</td>\n",
       "    </tr>\n",
       "    <tr>\n",
       "      <th>3</th>\n",
       "      <td>KcrkZ</td>\n",
       "      <td>-13.081196</td>\n",
       "      <td>-11.506057</td>\n",
       "      <td>4.999415</td>\n",
       "      <td>137.945408</td>\n",
       "    </tr>\n",
       "    <tr>\n",
       "      <th>4</th>\n",
       "      <td>AHL4O</td>\n",
       "      <td>12.702195</td>\n",
       "      <td>-8.147433</td>\n",
       "      <td>5.004363</td>\n",
       "      <td>134.766305</td>\n",
       "    </tr>\n",
       "  </tbody>\n",
       "</table>\n",
       "</div>"
      ],
      "text/plain": [
       "      id         f0         f1        f2     product\n",
       "0  kBEdx -15.001348  -8.276000 -0.005876    3.179103\n",
       "1  62mP7  14.272088  -3.475083  0.999183   26.953261\n",
       "2  vyE1P   6.263187  -5.948386  5.001160  134.766305\n",
       "3  KcrkZ -13.081196 -11.506057  4.999415  137.945408\n",
       "4  AHL4O  12.702195  -8.147433  5.004363  134.766305"
      ]
     },
     "execution_count": 43,
     "metadata": {},
     "output_type": "execute_result"
    }
   ],
   "source": [
    "df1.head()"
   ]
  },
  {
   "cell_type": "code",
   "execution_count": 44,
   "metadata": {},
   "outputs": [
    {
     "data": {
      "text/html": [
       "<div>\n",
       "<style scoped>\n",
       "    .dataframe tbody tr th:only-of-type {\n",
       "        vertical-align: middle;\n",
       "    }\n",
       "\n",
       "    .dataframe tbody tr th {\n",
       "        vertical-align: top;\n",
       "    }\n",
       "\n",
       "    .dataframe thead th {\n",
       "        text-align: right;\n",
       "    }\n",
       "</style>\n",
       "<table border=\"1\" class=\"dataframe\">\n",
       "  <thead>\n",
       "    <tr style=\"text-align: right;\">\n",
       "      <th></th>\n",
       "      <th>id</th>\n",
       "      <th>f0</th>\n",
       "      <th>f1</th>\n",
       "      <th>f2</th>\n",
       "      <th>product</th>\n",
       "    </tr>\n",
       "  </thead>\n",
       "  <tbody>\n",
       "    <tr>\n",
       "      <th>0</th>\n",
       "      <td>fwXo0</td>\n",
       "      <td>-1.146987</td>\n",
       "      <td>0.963328</td>\n",
       "      <td>-0.828965</td>\n",
       "      <td>27.758673</td>\n",
       "    </tr>\n",
       "    <tr>\n",
       "      <th>1</th>\n",
       "      <td>WJtFt</td>\n",
       "      <td>0.262778</td>\n",
       "      <td>0.269839</td>\n",
       "      <td>-2.530187</td>\n",
       "      <td>56.069697</td>\n",
       "    </tr>\n",
       "    <tr>\n",
       "      <th>2</th>\n",
       "      <td>ovLUW</td>\n",
       "      <td>0.194587</td>\n",
       "      <td>0.289035</td>\n",
       "      <td>-5.586433</td>\n",
       "      <td>62.871910</td>\n",
       "    </tr>\n",
       "    <tr>\n",
       "      <th>3</th>\n",
       "      <td>q6cA6</td>\n",
       "      <td>2.236060</td>\n",
       "      <td>-0.553760</td>\n",
       "      <td>0.930038</td>\n",
       "      <td>114.572842</td>\n",
       "    </tr>\n",
       "    <tr>\n",
       "      <th>4</th>\n",
       "      <td>WPMUX</td>\n",
       "      <td>-0.515993</td>\n",
       "      <td>1.716266</td>\n",
       "      <td>5.899011</td>\n",
       "      <td>149.600746</td>\n",
       "    </tr>\n",
       "  </tbody>\n",
       "</table>\n",
       "</div>"
      ],
      "text/plain": [
       "      id        f0        f1        f2     product\n",
       "0  fwXo0 -1.146987  0.963328 -0.828965   27.758673\n",
       "1  WJtFt  0.262778  0.269839 -2.530187   56.069697\n",
       "2  ovLUW  0.194587  0.289035 -5.586433   62.871910\n",
       "3  q6cA6  2.236060 -0.553760  0.930038  114.572842\n",
       "4  WPMUX -0.515993  1.716266  5.899011  149.600746"
      ]
     },
     "execution_count": 44,
     "metadata": {},
     "output_type": "execute_result"
    }
   ],
   "source": [
    "df2.head()"
   ]
  },
  {
   "cell_type": "code",
   "execution_count": 45,
   "metadata": {},
   "outputs": [
    {
     "name": "stdout",
     "output_type": "stream",
     "text": [
      "<class 'pandas.core.frame.DataFrame'>\n",
      "RangeIndex: 100000 entries, 0 to 99999\n",
      "Data columns (total 5 columns):\n",
      " #   Column   Non-Null Count   Dtype  \n",
      "---  ------   --------------   -----  \n",
      " 0   id       100000 non-null  object \n",
      " 1   f0       100000 non-null  float64\n",
      " 2   f1       100000 non-null  float64\n",
      " 3   f2       100000 non-null  float64\n",
      " 4   product  100000 non-null  float64\n",
      "dtypes: float64(4), object(1)\n",
      "memory usage: 3.8+ MB\n"
     ]
    }
   ],
   "source": [
    "df0.info()"
   ]
  },
  {
   "cell_type": "code",
   "execution_count": 46,
   "metadata": {},
   "outputs": [
    {
     "name": "stdout",
     "output_type": "stream",
     "text": [
      "<class 'pandas.core.frame.DataFrame'>\n",
      "RangeIndex: 100000 entries, 0 to 99999\n",
      "Data columns (total 5 columns):\n",
      " #   Column   Non-Null Count   Dtype  \n",
      "---  ------   --------------   -----  \n",
      " 0   id       100000 non-null  object \n",
      " 1   f0       100000 non-null  float64\n",
      " 2   f1       100000 non-null  float64\n",
      " 3   f2       100000 non-null  float64\n",
      " 4   product  100000 non-null  float64\n",
      "dtypes: float64(4), object(1)\n",
      "memory usage: 3.8+ MB\n"
     ]
    }
   ],
   "source": [
    "df1.info()"
   ]
  },
  {
   "cell_type": "code",
   "execution_count": 47,
   "metadata": {},
   "outputs": [
    {
     "name": "stdout",
     "output_type": "stream",
     "text": [
      "<class 'pandas.core.frame.DataFrame'>\n",
      "RangeIndex: 100000 entries, 0 to 99999\n",
      "Data columns (total 5 columns):\n",
      " #   Column   Non-Null Count   Dtype  \n",
      "---  ------   --------------   -----  \n",
      " 0   id       100000 non-null  object \n",
      " 1   f0       100000 non-null  float64\n",
      " 2   f1       100000 non-null  float64\n",
      " 3   f2       100000 non-null  float64\n",
      " 4   product  100000 non-null  float64\n",
      "dtypes: float64(4), object(1)\n",
      "memory usage: 3.8+ MB\n"
     ]
    }
   ],
   "source": [
    "df2.info()"
   ]
  },
  {
   "cell_type": "markdown",
   "metadata": {},
   "source": [
    "Вывод: пропусков в данных нет, с ними можно начинать работать"
   ]
  },
  {
   "cell_type": "markdown",
   "metadata": {},
   "source": [
    "-----------------"
   ]
  },
  {
   "cell_type": "markdown",
   "metadata": {},
   "source": [
    "Выделим целевой признак из данных по каждому месторождению. Для нас это будет - объем сырья = 'product'"
   ]
  },
  {
   "cell_type": "code",
   "execution_count": 48,
   "metadata": {},
   "outputs": [],
   "source": [
    "features0 = df0.drop(['product', 'id'], axis=1)\n",
    "target0 = df0['product']"
   ]
  },
  {
   "cell_type": "code",
   "execution_count": 49,
   "metadata": {},
   "outputs": [],
   "source": [
    "features1 = df1.drop(['product', 'id'], axis=1)\n",
    "target1 = df1['product']"
   ]
  },
  {
   "cell_type": "code",
   "execution_count": 50,
   "metadata": {},
   "outputs": [],
   "source": [
    "features2 = df2.drop(['product', 'id'], axis=1)\n",
    "target2 = df2['product']"
   ]
  },
  {
   "cell_type": "markdown",
   "metadata": {},
   "source": [
    "## Обучение и проверка модели <a id='unit2'></a>"
   ]
  },
  {
   "cell_type": "markdown",
   "metadata": {},
   "source": [
    "### Разобьем данные на обучающую и валидационную выборки в соотношении 75:25."
   ]
  },
  {
   "cell_type": "code",
   "execution_count": 51,
   "metadata": {},
   "outputs": [],
   "source": [
    "features0_train, features0_valid, target0_train, target0_valid = train_test_split(\n",
    "    features0, target0, test_size=0.25, random_state=12345)\n",
    "target0_valid = target0_valid.reset_index(drop=True)"
   ]
  },
  {
   "cell_type": "code",
   "execution_count": 52,
   "metadata": {},
   "outputs": [],
   "source": [
    "features1_train, features1_valid, target1_train, target1_valid = train_test_split(\n",
    "    features1, target1, test_size=0.25, random_state=12345)\n",
    "target1_valid = target1_valid.reset_index(drop=True)"
   ]
  },
  {
   "cell_type": "code",
   "execution_count": 53,
   "metadata": {},
   "outputs": [],
   "source": [
    "features2_train, features2_valid, target2_train, target2_valid = train_test_split(\n",
    "    features2, target2, test_size=0.25, random_state=12345)\n",
    "target2_valid = target2_valid.reset_index(drop=True)"
   ]
  },
  {
   "cell_type": "markdown",
   "metadata": {},
   "source": [
    "### Обучим модель и сделаем предсказания на валидационной выборке."
   ]
  },
  {
   "cell_type": "code",
   "execution_count": 54,
   "metadata": {},
   "outputs": [],
   "source": [
    "model0 = LinearRegression()\n",
    "model0.fit(features0_train, target0_train)\n",
    "predictions0_valid = model0.predict(features0_valid)"
   ]
  },
  {
   "cell_type": "code",
   "execution_count": 55,
   "metadata": {},
   "outputs": [],
   "source": [
    "model1 = LinearRegression()\n",
    "model1.fit(features1_train, target1_train)\n",
    "predictions1_valid = model1.predict(features1_valid)"
   ]
  },
  {
   "cell_type": "code",
   "execution_count": 56,
   "metadata": {},
   "outputs": [],
   "source": [
    "model2 = LinearRegression()\n",
    "model2.fit(features2_train, target2_train)\n",
    "predictions2_valid = model2.predict(features2_valid)"
   ]
  },
  {
   "cell_type": "markdown",
   "metadata": {},
   "source": [
    "### Сохраним предсказанные значения и правильные ответы валидационной выборки"
   ]
  },
  {
   "cell_type": "code",
   "execution_count": 57,
   "metadata": {},
   "outputs": [],
   "source": [
    "predict0 = predictions0_valid\n",
    "target0 = target0_valid"
   ]
  },
  {
   "cell_type": "code",
   "execution_count": 58,
   "metadata": {},
   "outputs": [],
   "source": [
    "predict1 = predictions1_valid\n",
    "target1 = target1_valid"
   ]
  },
  {
   "cell_type": "code",
   "execution_count": 59,
   "metadata": {},
   "outputs": [],
   "source": [
    "predict2 = predictions2_valid\n",
    "target2 = target2_valid"
   ]
  },
  {
   "cell_type": "markdown",
   "metadata": {},
   "source": [
    "### Вычислим средний запас предсказанного сырья и RMSE модели для каждого месторождения"
   ]
  },
  {
   "cell_type": "code",
   "execution_count": 60,
   "metadata": {},
   "outputs": [
    {
     "name": "stdout",
     "output_type": "stream",
     "text": [
      "RMSE_0: 37.5794217150813\n",
      "Средний запас предсказанного сырья 0 месторождения: 92.59256778438035 тыс.барр.\n"
     ]
    }
   ],
   "source": [
    "result0 = mean_squared_error(target0, predict0)**0.5\n",
    "print ('RMSE_0:',result0)\n",
    "print ('Средний запас предсказанного сырья 0 месторождения:', predict0.mean(), 'тыс.барр.')"
   ]
  },
  {
   "cell_type": "code",
   "execution_count": 61,
   "metadata": {},
   "outputs": [
    {
     "name": "stdout",
     "output_type": "stream",
     "text": [
      "RMSE_1: 0.893099286775617\n",
      "Средний запас предсказанного сырья 1 месторождения: 68.728546895446 тыс.барр.\n"
     ]
    }
   ],
   "source": [
    "result1 = mean_squared_error(target1, predict1)**0.5\n",
    "print ('RMSE_1:',result1)\n",
    "print ('Средний запас предсказанного сырья 1 месторождения:', predict1.mean(), 'тыс.барр.')"
   ]
  },
  {
   "cell_type": "code",
   "execution_count": 62,
   "metadata": {
    "scrolled": false
   },
   "outputs": [
    {
     "name": "stdout",
     "output_type": "stream",
     "text": [
      "RMSE_2: 40.02970873393434\n",
      "Средний запас предсказанного сырья 2 месторождения: 94.96504596800489 тыс.барр.\n"
     ]
    }
   ],
   "source": [
    "result2 = mean_squared_error(target2, predict2)**0.5\n",
    "print ('RMSE_2:',result2)\n",
    "print ('Средний запас предсказанного сырья 2 месторождения:', predict2.mean(), 'тыс.барр.')"
   ]
  },
  {
   "cell_type": "markdown",
   "metadata": {},
   "source": [
    "### Анализ результатов пункта"
   ]
  },
  {
   "cell_type": "markdown",
   "metadata": {},
   "source": [
    "Наилучшее значение метрики RMSE - у модели, предсказывающей запасы 1 месторождения. В то же время у нее самое низкое значение среднего запаса сырья, что может объясняться тем, что модель предсказала более реальные значения. Две других модели предсказали значения с гораздо большим разбросом, отсюда и RMSE выше в десятки раз, и среднее значение запасов сырья соответственно выше."
   ]
  },
  {
   "cell_type": "markdown",
   "metadata": {},
   "source": [
    "## Подготовка к расчёту прибыли <a id='unit3'></a>"
   ]
  },
  {
   "cell_type": "markdown",
   "metadata": {},
   "source": [
    "### Сохраним в отдельных переменных ключевые значения для расчётов"
   ]
  },
  {
   "cell_type": "markdown",
   "metadata": {},
   "source": [
    "Прибыль от 1 единицы продукции (1 тыс.баррелей), руб."
   ]
  },
  {
   "cell_type": "code",
   "execution_count": 63,
   "metadata": {},
   "outputs": [],
   "source": [
    "REV_PER_PRODUCT = 450000"
   ]
  },
  {
   "cell_type": "markdown",
   "metadata": {},
   "source": [
    "Бюджет на разработку всех скважин в регионе, руб."
   ]
  },
  {
   "cell_type": "code",
   "execution_count": 64,
   "metadata": {},
   "outputs": [],
   "source": [
    "RESEARCH_BUDGET = 10**10"
   ]
  },
  {
   "cell_type": "markdown",
   "metadata": {},
   "source": [
    "### Вычислим достаточный объём сырья для безубыточной разработки новой скважины"
   ]
  },
  {
   "cell_type": "code",
   "execution_count": 65,
   "metadata": {},
   "outputs": [
    {
     "name": "stdout",
     "output_type": "stream",
     "text": [
      "Объем сырья для безубыточной разработки = 111.11 тыс.барр.\n"
     ]
    }
   ],
   "source": [
    "volume_for_research = round(RESEARCH_BUDGET/REV_PER_PRODUCT, 2)\n",
    "print(\"Объем сырья для безубыточной разработки =\",\n",
    "      round(volume_for_research/200, 2), \"тыс.барр.\")"
   ]
  },
  {
   "cell_type": "markdown",
   "metadata": {},
   "source": [
    "Месторождение №0"
   ]
  },
  {
   "cell_type": "code",
   "execution_count": 66,
   "metadata": {},
   "outputs": [
    {
     "name": "stdout",
     "output_type": "stream",
     "text": [
      "Среднее значение запасов сырья = 92 тыс.барр.\n"
     ]
    }
   ],
   "source": [
    "print('Среднее значение запасов сырья =', \n",
    "      round(target0.mean()), \"тыс.барр.\")"
   ]
  },
  {
   "cell_type": "markdown",
   "metadata": {},
   "source": [
    "Месторождение №1"
   ]
  },
  {
   "cell_type": "code",
   "execution_count": 67,
   "metadata": {
    "scrolled": true
   },
   "outputs": [
    {
     "name": "stdout",
     "output_type": "stream",
     "text": [
      "Среднее значение запасов сырья = 69 тыс.барр.\n"
     ]
    }
   ],
   "source": [
    "print('Среднее значение запасов сырья =', \n",
    "      round(target1.mean()), \"тыс.барр.\")"
   ]
  },
  {
   "cell_type": "markdown",
   "metadata": {},
   "source": [
    "Месторождение №2"
   ]
  },
  {
   "cell_type": "code",
   "execution_count": 68,
   "metadata": {
    "scrolled": true
   },
   "outputs": [
    {
     "name": "stdout",
     "output_type": "stream",
     "text": [
      "Среднее значение запасов сырья = 95 тыс.барр.\n"
     ]
    }
   ],
   "source": [
    "print('Среднее значение запасов сырья =', \n",
    "      round(target2.mean()), \"тыс.барр.\")"
   ]
  },
  {
   "cell_type": "markdown",
   "metadata": {},
   "source": [
    "### Выводы раздела"
   ]
  },
  {
   "cell_type": "markdown",
   "metadata": {},
   "source": [
    "Значения средних запасов сырья (по имеющимся данным) сильно ниже порога безубыточной разработки. Но не стоит забывать, что это значения сырья, полученного от одной скважины. В нашем же распоряжении будет их гораздо больше."
   ]
  },
  {
   "cell_type": "markdown",
   "metadata": {},
   "source": [
    "## Расчёт прибыли и рисков  <a id='unit4'></a>"
   ]
  },
  {
   "cell_type": "markdown",
   "metadata": {},
   "source": [
    "### Создадим функцию \"profit\" для расчёта прибыли по выбранным скважинам и предсказаниям модели"
   ]
  },
  {
   "cell_type": "code",
   "execution_count": 69,
   "metadata": {},
   "outputs": [],
   "source": [
    "def profit(target, predictions, count):\n",
    "    preds_sorted = pd.Series(predictions).sort_values(ascending=False)\n",
    "    selected = target[preds_sorted.index][:count]\n",
    "    return selected.sum()*REV_PER_PRODUCT - RESEARCH_BUDGET"
   ]
  },
  {
   "cell_type": "markdown",
   "metadata": {},
   "source": [
    "### Рассчитаем прибыль от полученного с 200 лучших скважин объёма сырья."
   ]
  },
  {
   "cell_type": "code",
   "execution_count": 70,
   "metadata": {
    "scrolled": true
   },
   "outputs": [
    {
     "name": "stdout",
     "output_type": "stream",
     "text": [
      "Прибыль от 200 лучших скважин 0 месторождения: 3.32 млрд.руб.\n"
     ]
    }
   ],
   "source": [
    "print(\"Прибыль от 200 лучших скважин 0 месторождения:\", \n",
    "      round(profit(target0, predict0, 200)/10**9, 2), \"млрд.руб.\")\n",
    "\n",
    "#переводим в единицы измерения \"млрд.руб\". делением на 10**9"
   ]
  },
  {
   "cell_type": "code",
   "execution_count": 71,
   "metadata": {},
   "outputs": [
    {
     "name": "stdout",
     "output_type": "stream",
     "text": [
      "Прибыль от 200 лучших скважин 1 месторождения: 2.42 млрд.руб.\n"
     ]
    }
   ],
   "source": [
    "print(\"Прибыль от 200 лучших скважин 1 месторождения:\", \n",
    "      round(profit(target1, predict1, 200)/10**9, 2), \"млрд.руб.\")"
   ]
  },
  {
   "cell_type": "code",
   "execution_count": 72,
   "metadata": {},
   "outputs": [
    {
     "name": "stdout",
     "output_type": "stream",
     "text": [
      "Прибыль от 200 лучших скважин 2 месторождения: 2.71 млрд.руб.\n"
     ]
    }
   ],
   "source": [
    "print(\"Прибыль от 200 лучших скважин 2 месторождения:\", \n",
    "      round(profit(target2, predict2, 200)/10**9, 2), \"млрд.руб.\")"
   ]
  },
  {
   "cell_type": "markdown",
   "metadata": {},
   "source": [
    "## Риски и прибыль для каждого региона  <a id='unit5'></a>"
   ]
  },
  {
   "cell_type": "markdown",
   "metadata": {},
   "source": [
    "### Применим технику Bootstrap с 1000 выборок, чтобы найти распределение прибыли. Также вычислим среднюю прибыль, доверительный интервал и риск убытков."
   ]
  },
  {
   "cell_type": "code",
   "execution_count": 73,
   "metadata": {
    "scrolled": true
   },
   "outputs": [
    {
     "name": "stdout",
     "output_type": "stream",
     "text": [
      "Средняя прибыль от 200 лучших скважин случайного сэмпла: 0.43 млрд.руб.\n",
      "95%-ый доверительный интервал: (0.4087322070686986, 0.4431448467524861)\n",
      "2,5%-квантиль: -0.1 млрд.руб.\n",
      "97,5%-квантиль: 0.95 млрд.руб.\n"
     ]
    },
    {
     "data": {
      "image/png": "[encoded data removed]",
      "text/plain": [
       "<Figure size 432x288 with 1 Axes>"
      ]
     },
     "metadata": {
      "needs_background": "light"
     },
     "output_type": "display_data"
    }
   ],
   "source": [
    "state = np.random.RandomState(12345) \n",
    "\n",
    "values0 = []\n",
    "for i in range(1000):\n",
    "    preds_subsample = pd.Series(predict0).sample(n=500, random_state=state, replace=True)\n",
    "    target_subsample = target0[preds_subsample.index]\n",
    "    values0.append(profit(target_subsample, preds_subsample, 200))\n",
    "\n",
    "values0 = pd.Series(values0)/10**9  #переводим в единицы измерения \"млрд.руб\". делением на 10**9\n",
    "lower0 = values0.quantile(0.025)\n",
    "upper0 = values0.quantile(0.975)\n",
    "confidence_interval = st.t.interval(0.95, len(values0)-1, loc=values0.mean(), scale=values0.sem()) \n",
    "\n",
    "print(\"Средняя прибыль от 200 лучших скважин случайного сэмпла:\", round(values0.mean(), 2), \"млрд.руб.\")\n",
    "print(\"95%-ый доверительный интервал:\", confidence_interval)\n",
    "print(\"2,5%-квантиль:\", round(lower0, 2), \"млрд.руб.\")\n",
    "print(\"97,5%-квантиль:\", round(upper0, 2), \"млрд.руб.\")\n",
    "\n",
    "values0.plot(kind='hist', grid=True, bins=15)\n",
    "plt.title(\"Распределение средней прибыли\")\n",
    "plt.xlabel(\"Средняя прибыль\")\n",
    "plt.ylabel(\"Частота\")\n",
    "plt.show()"
   ]
  },
  {
   "cell_type": "code",
   "execution_count": 74,
   "metadata": {},
   "outputs": [
    {
     "name": "stdout",
     "output_type": "stream",
     "text": [
      "Вероятность убытков для полученных выборок 0 месторождения = 6.0 %\n"
     ]
    }
   ],
   "source": [
    "print('Вероятность убытков для полученных выборок 0 месторождения =', \n",
    "      len(values0.loc[values0 <0])/len(values0)*100, '%')"
   ]
  },
  {
   "cell_type": "code",
   "execution_count": 75,
   "metadata": {
    "scrolled": true
   },
   "outputs": [
    {
     "name": "stdout",
     "output_type": "stream",
     "text": [
      "Средняя прибыль от 200 лучших скважин случайного сэмпла: 0.52 млрд.руб.\n",
      "95%-ый доверительный интервал: (0.5016214761763217, 0.5288240707102579)\n",
      "2,5%-квантиль: 0.07 млрд.руб.\n",
      "97,5%-квантиль: 0.93 млрд.руб.\n"
     ]
    },
    {
     "data": {
      "image/png": "[encoded data removed]",
      "text/plain": [
       "<Figure size 432x288 with 1 Axes>"
      ]
     },
     "metadata": {
      "needs_background": "light"
     },
     "output_type": "display_data"
    }
   ],
   "source": [
    "state = np.random.RandomState(12345) \n",
    "\n",
    "values1 = []\n",
    "for i in range(1000):\n",
    "    preds_subsample = pd.Series(predict1).sample(n=500, random_state=state, replace=True)\n",
    "    target_subsample = target1[preds_subsample.index]\n",
    "    values1.append(profit(target_subsample, preds_subsample, 200))\n",
    "\n",
    "values1 = pd.Series(values1)/10**9  #переводим в единицы измерения \"млрд.руб\". делением на 10**9\n",
    "lower1 = values1.quantile(0.025)\n",
    "upper1 = values1.quantile(0.975)\n",
    "confidence_interval = st.t.interval(0.95, len(values1)-1, loc=values1.mean(), scale=values1.sem()) \n",
    "\n",
    "print(\"Средняя прибыль от 200 лучших скважин случайного сэмпла:\", round(values1.mean(), 2), \"млрд.руб.\")\n",
    "print(\"95%-ый доверительный интервал:\", confidence_interval)\n",
    "print(\"2,5%-квантиль:\", round(lower1, 2), \"млрд.руб.\")\n",
    "print(\"97,5%-квантиль:\", round(upper1, 2), \"млрд.руб.\")\n",
    "\n",
    "values1.plot(kind='hist', grid=True, bins=15)\n",
    "plt.title(\"Распределение средней прибыли\")\n",
    "plt.xlabel(\"Средняя прибыль\")\n",
    "plt.ylabel(\"Частота\")\n",
    "plt.show()"
   ]
  },
  {
   "cell_type": "code",
   "execution_count": 76,
   "metadata": {},
   "outputs": [
    {
     "name": "stdout",
     "output_type": "stream",
     "text": [
      "Вероятность убытков для полученных выборок 1 месторождения = 1.0 %\n"
     ]
    }
   ],
   "source": [
    "print('Вероятность убытков для полученных выборок 1 месторождения =', \n",
    "      len(values1.loc[values1 <0])/len(values1)*100, '%')"
   ]
  },
  {
   "cell_type": "code",
   "execution_count": 77,
   "metadata": {},
   "outputs": [
    {
     "name": "stdout",
     "output_type": "stream",
     "text": [
      "Средняя прибыль от 200 лучших скважин случайного сэмпла: 0.44 млрд.руб.\n",
      "95%-ый доверительный интервал: (0.4174535520413578, 0.45256317352415343)\n",
      "2,5%-квантиль: -0.13 млрд.руб.\n",
      "97,5%-квантиль: 0.97 млрд.руб.\n"
     ]
    },
    {
     "data": {
      "image/png": "[encoded data removed]",
      "text/plain": [
       "<Figure size 432x288 with 1 Axes>"
      ]
     },
     "metadata": {
      "needs_background": "light"
     },
     "output_type": "display_data"
    }
   ],
   "source": [
    "state = np.random.RandomState(12345) \n",
    "\n",
    "values2 = []\n",
    "for i in range(1000):\n",
    "    preds_subsample = pd.Series(predict2).sample(n=500, random_state=state, replace=True)\n",
    "    target_subsample = target2[preds_subsample.index]\n",
    "    values2.append(profit(target_subsample, preds_subsample, 200))\n",
    "\n",
    "values2 = pd.Series(values2)/10**9  #переводим в единицы измерения \"млрд.руб\". делением на 10**9\n",
    "lower2 = values2.quantile(0.025)\n",
    "upper2 = values2.quantile(0.975)\n",
    "confidence_interval = st.t.interval(0.95, len(values2)-1, loc=values2.mean(), scale=values2.sem()) \n",
    "\n",
    "print(\"Средняя прибыль от 200 лучших скважин случайного сэмпла:\", round(values2.mean(), 2), \"млрд.руб.\")\n",
    "print(\"95%-ый доверительный интервал:\", confidence_interval)\n",
    "print(\"2,5%-квантиль:\", round(lower2, 2), \"млрд.руб.\")\n",
    "print(\"97,5%-квантиль:\", round(upper2, 2), \"млрд.руб.\")\n",
    "\n",
    "values2.plot(kind='hist', grid=True, bins=15)\n",
    "plt.title(\"Распределение средней прибыли\")\n",
    "plt.xlabel(\"Средняя прибыль\")\n",
    "plt.ylabel(\"Частота\")\n",
    "plt.show()"
   ]
  },
  {
   "cell_type": "code",
   "execution_count": 78,
   "metadata": {},
   "outputs": [
    {
     "name": "stdout",
     "output_type": "stream",
     "text": [
      "Вероятность убытков для полученных выборок 2 месторождения = 6.4 %\n"
     ]
    }
   ],
   "source": [
    "print('Вероятность убытков для полученных выборок 2 месторождения =', \n",
    "      len(values2.loc[values2 <0])/len(values2)*100, '%')"
   ]
  },
  {
   "cell_type": "markdown",
   "metadata": {},
   "source": [
    "### Вывод"
   ]
  },
  {
   "cell_type": "markdown",
   "metadata": {},
   "source": [
    "На основании полученных данных для разработки новых скважин наиболее подходит \"Месторождение 1\". Риск убытков при его разработке, согласно предсказаниям модели, составляет всего 1%. Для месторождений 0 и 2 значения риска - от 6%, что по условиям задачи является слишком высоким показателем. Кроме того, для месторождения 1 было получено самое высокое значение средней прибыли при вычислении техникой Бутстреп. "
   ]
  },
  {
   "cell_type": "markdown",
   "metadata": {},
   "source": [
    "<br>[Описание](#intro)\n",
    "<br>[Загрузка и подготовка данных](#unit1)\n",
    "<br>[Обучение и проверка модели](#unit2)\n",
    "<br>[Подготовка к расчету прибыли](#unit3)\n",
    "<br>[Расчет прибыли и рисков](#unit4)\n",
    "<br>[Риски и прибыль для каждого региона](#unit5)"
   ]
  }
 ],
 "metadata": {
  "ExecuteTimeLog": [
   {
    "duration": 374,
    "start_time": "2022-06-28T12:07:13.185Z"
   },
   {
    "duration": 1602,
    "start_time": "2022-06-28T12:08:01.013Z"
   },
   {
    "duration": 20,
    "start_time": "2022-06-28T12:08:10.406Z"
   },
   {
    "duration": 15,
    "start_time": "2022-06-28T12:08:20.467Z"
   },
   {
    "duration": 17,
    "start_time": "2022-06-28T12:08:29.147Z"
   },
   {
    "duration": 16,
    "start_time": "2022-06-28T12:09:08.265Z"
   },
   {
    "duration": 16,
    "start_time": "2022-06-28T12:09:21.737Z"
   },
   {
    "duration": 68,
    "start_time": "2022-06-28T12:09:31.442Z"
   },
   {
    "duration": 24,
    "start_time": "2022-06-28T12:09:35.860Z"
   },
   {
    "duration": 30,
    "start_time": "2022-06-28T12:09:43.469Z"
   },
   {
    "duration": 11,
    "start_time": "2022-06-28T12:09:57.588Z"
   },
   {
    "duration": 10,
    "start_time": "2022-06-28T12:10:02.174Z"
   },
   {
    "duration": 9,
    "start_time": "2022-06-28T12:10:06.273Z"
   },
   {
    "duration": 20,
    "start_time": "2022-06-28T12:10:12.827Z"
   },
   {
    "duration": 13,
    "start_time": "2022-06-28T12:10:13.096Z"
   },
   {
    "duration": 16,
    "start_time": "2022-06-28T12:10:13.354Z"
   },
   {
    "duration": 1286,
    "start_time": "2022-06-28T14:34:20.901Z"
   },
   {
    "duration": 1529,
    "start_time": "2022-06-28T14:34:22.207Z"
   },
   {
    "duration": 26,
    "start_time": "2022-06-28T14:34:23.739Z"
   },
   {
    "duration": 9,
    "start_time": "2022-06-28T14:34:23.767Z"
   },
   {
    "duration": 9,
    "start_time": "2022-06-28T14:34:23.778Z"
   },
   {
    "duration": 14,
    "start_time": "2022-06-28T14:34:23.789Z"
   },
   {
    "duration": 42,
    "start_time": "2022-06-28T14:34:23.805Z"
   },
   {
    "duration": 14,
    "start_time": "2022-06-28T14:34:23.901Z"
   },
   {
    "duration": 3,
    "start_time": "2022-06-28T14:35:29.654Z"
   },
   {
    "duration": 5,
    "start_time": "2022-06-28T14:35:43.267Z"
   },
   {
    "duration": 100,
    "start_time": "2022-06-28T15:33:19.620Z"
   },
   {
    "duration": 9,
    "start_time": "2022-06-28T15:33:30.665Z"
   },
   {
    "duration": 24,
    "start_time": "2022-06-28T15:33:42.935Z"
   },
   {
    "duration": 1079,
    "start_time": "2022-06-28T15:33:47.468Z"
   },
   {
    "duration": 20,
    "start_time": "2022-06-28T15:33:53.790Z"
   },
   {
    "duration": 52,
    "start_time": "2022-06-28T15:34:35.578Z"
   },
   {
    "duration": 61,
    "start_time": "2022-06-28T15:34:42.794Z"
   },
   {
    "duration": 14,
    "start_time": "2022-06-28T15:34:59.050Z"
   },
   {
    "duration": 15,
    "start_time": "2022-06-28T15:35:06.664Z"
   },
   {
    "duration": 8,
    "start_time": "2022-06-28T15:44:45.715Z"
   },
   {
    "duration": 327,
    "start_time": "2022-06-28T15:44:48.685Z"
   },
   {
    "duration": 9,
    "start_time": "2022-06-28T15:44:49.013Z"
   },
   {
    "duration": 9,
    "start_time": "2022-06-28T15:44:58.335Z"
   },
   {
    "duration": 10,
    "start_time": "2022-06-28T15:44:59.671Z"
   },
   {
    "duration": 10,
    "start_time": "2022-06-28T15:45:00.298Z"
   },
   {
    "duration": 14,
    "start_time": "2022-06-28T15:45:07.898Z"
   },
   {
    "duration": 13,
    "start_time": "2022-06-28T15:45:15.239Z"
   },
   {
    "duration": 13,
    "start_time": "2022-06-28T15:45:19.967Z"
   },
   {
    "duration": 15,
    "start_time": "2022-06-28T15:45:23.227Z"
   },
   {
    "duration": 15,
    "start_time": "2022-06-28T15:45:28.188Z"
   },
   {
    "duration": 8,
    "start_time": "2022-06-28T15:46:29.928Z"
   },
   {
    "duration": 2,
    "start_time": "2022-06-28T15:46:45.865Z"
   },
   {
    "duration": 325,
    "start_time": "2022-06-28T15:46:46.369Z"
   },
   {
    "duration": 9,
    "start_time": "2022-06-28T15:46:46.696Z"
   },
   {
    "duration": 8,
    "start_time": "2022-06-28T15:46:46.708Z"
   },
   {
    "duration": 8,
    "start_time": "2022-06-28T15:46:46.967Z"
   },
   {
    "duration": 13,
    "start_time": "2022-06-28T15:46:47.024Z"
   },
   {
    "duration": 14,
    "start_time": "2022-06-28T15:46:47.202Z"
   },
   {
    "duration": 13,
    "start_time": "2022-06-28T15:46:47.285Z"
   },
   {
    "duration": 16,
    "start_time": "2022-06-28T15:46:47.529Z"
   },
   {
    "duration": 24,
    "start_time": "2022-06-28T15:46:47.749Z"
   },
   {
    "duration": 3,
    "start_time": "2022-06-28T15:46:58.718Z"
   },
   {
    "duration": 6,
    "start_time": "2022-06-28T15:47:05.440Z"
   },
   {
    "duration": 3,
    "start_time": "2022-06-28T15:47:09.684Z"
   },
   {
    "duration": 4,
    "start_time": "2022-06-28T15:47:12.851Z"
   },
   {
    "duration": 3,
    "start_time": "2022-06-28T15:47:13.311Z"
   },
   {
    "duration": 4,
    "start_time": "2022-06-28T15:47:30.865Z"
   },
   {
    "duration": 42,
    "start_time": "2022-06-28T15:53:14.547Z"
   },
   {
    "duration": 1061,
    "start_time": "2022-06-28T15:53:19.854Z"
   },
   {
    "duration": 1453,
    "start_time": "2022-06-28T15:53:20.916Z"
   },
   {
    "duration": 16,
    "start_time": "2022-06-28T15:53:22.370Z"
   },
   {
    "duration": 9,
    "start_time": "2022-06-28T15:53:22.387Z"
   },
   {
    "duration": 10,
    "start_time": "2022-06-28T15:53:22.397Z"
   },
   {
    "duration": 21,
    "start_time": "2022-06-28T15:53:22.408Z"
   },
   {
    "duration": 13,
    "start_time": "2022-06-28T15:53:22.430Z"
   },
   {
    "duration": 12,
    "start_time": "2022-06-28T15:53:22.444Z"
   },
   {
    "duration": 15,
    "start_time": "2022-06-28T15:53:22.458Z"
   },
   {
    "duration": 45,
    "start_time": "2022-06-28T15:54:15.747Z"
   },
   {
    "duration": 5,
    "start_time": "2022-06-28T15:54:17.000Z"
   },
   {
    "duration": 7,
    "start_time": "2022-06-28T15:54:25.032Z"
   },
   {
    "duration": 995,
    "start_time": "2022-06-28T15:54:31.368Z"
   },
   {
    "duration": 1413,
    "start_time": "2022-06-28T15:54:32.365Z"
   },
   {
    "duration": 17,
    "start_time": "2022-06-28T15:54:33.779Z"
   },
   {
    "duration": 9,
    "start_time": "2022-06-28T15:54:33.797Z"
   },
   {
    "duration": 10,
    "start_time": "2022-06-28T15:54:33.808Z"
   },
   {
    "duration": 21,
    "start_time": "2022-06-28T15:54:33.819Z"
   },
   {
    "duration": 12,
    "start_time": "2022-06-28T15:54:33.842Z"
   },
   {
    "duration": 12,
    "start_time": "2022-06-28T15:54:33.856Z"
   },
   {
    "duration": 16,
    "start_time": "2022-06-28T15:54:33.870Z"
   },
   {
    "duration": 47,
    "start_time": "2022-06-28T15:54:38.645Z"
   },
   {
    "duration": 0,
    "start_time": "2022-06-28T15:54:38.693Z"
   },
   {
    "duration": 0,
    "start_time": "2022-06-28T15:54:38.695Z"
   },
   {
    "duration": 0,
    "start_time": "2022-06-28T15:54:38.696Z"
   },
   {
    "duration": 1035,
    "start_time": "2022-06-28T15:54:47.186Z"
   },
   {
    "duration": 1411,
    "start_time": "2022-06-28T15:54:48.222Z"
   },
   {
    "duration": 14,
    "start_time": "2022-06-28T15:54:49.635Z"
   },
   {
    "duration": 9,
    "start_time": "2022-06-28T15:54:49.651Z"
   },
   {
    "duration": 10,
    "start_time": "2022-06-28T15:54:49.661Z"
   },
   {
    "duration": 15,
    "start_time": "2022-06-28T15:54:49.672Z"
   },
   {
    "duration": 12,
    "start_time": "2022-06-28T15:54:49.688Z"
   },
   {
    "duration": 32,
    "start_time": "2022-06-28T15:54:49.701Z"
   },
   {
    "duration": 17,
    "start_time": "2022-06-28T15:54:49.735Z"
   },
   {
    "duration": 1143,
    "start_time": "2022-06-28T15:54:55.694Z"
   },
   {
    "duration": 2,
    "start_time": "2022-06-28T15:55:14.298Z"
   },
   {
    "duration": 1435,
    "start_time": "2022-06-28T15:55:14.501Z"
   },
   {
    "duration": 16,
    "start_time": "2022-06-28T15:55:15.938Z"
   },
   {
    "duration": 9,
    "start_time": "2022-06-28T15:55:15.955Z"
   },
   {
    "duration": 10,
    "start_time": "2022-06-28T15:55:15.966Z"
   },
   {
    "duration": 14,
    "start_time": "2022-06-28T15:55:16.767Z"
   },
   {
    "duration": 13,
    "start_time": "2022-06-28T15:55:17.306Z"
   },
   {
    "duration": 14,
    "start_time": "2022-06-28T15:55:17.635Z"
   },
   {
    "duration": 15,
    "start_time": "2022-06-28T15:55:18.122Z"
   },
   {
    "duration": 43,
    "start_time": "2022-06-28T15:55:47.676Z"
   },
   {
    "duration": 6,
    "start_time": "2022-06-28T15:55:50.976Z"
   },
   {
    "duration": 6,
    "start_time": "2022-06-28T15:55:51.180Z"
   },
   {
    "duration": 2,
    "start_time": "2022-06-28T15:55:51.567Z"
   },
   {
    "duration": 5,
    "start_time": "2022-06-28T15:55:52.080Z"
   },
   {
    "duration": 6,
    "start_time": "2022-06-28T15:55:52.525Z"
   },
   {
    "duration": 1051,
    "start_time": "2022-06-28T15:55:58.982Z"
   },
   {
    "duration": 1472,
    "start_time": "2022-06-28T15:56:00.035Z"
   },
   {
    "duration": 16,
    "start_time": "2022-06-28T15:56:01.509Z"
   },
   {
    "duration": 9,
    "start_time": "2022-06-28T15:56:01.527Z"
   },
   {
    "duration": 16,
    "start_time": "2022-06-28T15:56:01.538Z"
   },
   {
    "duration": 20,
    "start_time": "2022-06-28T15:56:01.556Z"
   },
   {
    "duration": 14,
    "start_time": "2022-06-28T15:56:01.578Z"
   },
   {
    "duration": 12,
    "start_time": "2022-06-28T15:56:01.594Z"
   },
   {
    "duration": 15,
    "start_time": "2022-06-28T15:56:02.153Z"
   },
   {
    "duration": 47,
    "start_time": "2022-06-28T15:56:07.653Z"
   },
   {
    "duration": 6,
    "start_time": "2022-06-28T15:56:17.867Z"
   },
   {
    "duration": 6,
    "start_time": "2022-06-28T15:56:20.952Z"
   },
   {
    "duration": 7,
    "start_time": "2022-06-28T15:56:21.284Z"
   },
   {
    "duration": 3,
    "start_time": "2022-06-28T15:56:21.628Z"
   },
   {
    "duration": 6,
    "start_time": "2022-06-28T15:56:21.828Z"
   },
   {
    "duration": 6,
    "start_time": "2022-06-28T15:56:22.331Z"
   },
   {
    "duration": 6,
    "start_time": "2022-06-28T15:56:44.719Z"
   },
   {
    "duration": 1081,
    "start_time": "2022-06-28T15:56:50.949Z"
   },
   {
    "duration": 1422,
    "start_time": "2022-06-28T15:56:52.032Z"
   },
   {
    "duration": 15,
    "start_time": "2022-06-28T15:56:53.455Z"
   },
   {
    "duration": 8,
    "start_time": "2022-06-28T15:56:53.471Z"
   },
   {
    "duration": 9,
    "start_time": "2022-06-28T15:56:54.522Z"
   },
   {
    "duration": 14,
    "start_time": "2022-06-28T15:56:55.066Z"
   },
   {
    "duration": 13,
    "start_time": "2022-06-28T15:56:55.670Z"
   },
   {
    "duration": 12,
    "start_time": "2022-06-28T15:56:56.334Z"
   },
   {
    "duration": 15,
    "start_time": "2022-06-28T15:56:56.920Z"
   },
   {
    "duration": 4,
    "start_time": "2022-06-28T15:57:01.765Z"
   },
   {
    "duration": 1175,
    "start_time": "2022-06-28T15:57:12.907Z"
   },
   {
    "duration": 1446,
    "start_time": "2022-06-28T15:57:14.085Z"
   },
   {
    "duration": 15,
    "start_time": "2022-06-28T15:57:15.532Z"
   },
   {
    "duration": 8,
    "start_time": "2022-06-28T15:57:15.549Z"
   },
   {
    "duration": 11,
    "start_time": "2022-06-28T15:57:15.558Z"
   },
   {
    "duration": 21,
    "start_time": "2022-06-28T15:57:15.570Z"
   },
   {
    "duration": 13,
    "start_time": "2022-06-28T15:57:15.592Z"
   },
   {
    "duration": 32,
    "start_time": "2022-06-28T15:57:15.606Z"
   },
   {
    "duration": 17,
    "start_time": "2022-06-28T15:57:15.639Z"
   },
   {
    "duration": 1038,
    "start_time": "2022-06-28T15:57:21.353Z"
   },
   {
    "duration": 1432,
    "start_time": "2022-06-28T15:57:22.393Z"
   },
   {
    "duration": 19,
    "start_time": "2022-06-28T15:57:23.826Z"
   },
   {
    "duration": 12,
    "start_time": "2022-06-28T15:57:23.847Z"
   },
   {
    "duration": 13,
    "start_time": "2022-06-28T15:57:23.861Z"
   },
   {
    "duration": 26,
    "start_time": "2022-06-28T15:57:23.876Z"
   },
   {
    "duration": 29,
    "start_time": "2022-06-28T15:57:23.903Z"
   },
   {
    "duration": 17,
    "start_time": "2022-06-28T15:57:23.934Z"
   },
   {
    "duration": 19,
    "start_time": "2022-06-28T15:57:23.953Z"
   },
   {
    "duration": 44,
    "start_time": "2022-06-28T15:57:30.040Z"
   },
   {
    "duration": 2,
    "start_time": "2022-06-28T15:57:30.387Z"
   },
   {
    "duration": 6,
    "start_time": "2022-06-28T15:57:31.004Z"
   },
   {
    "duration": 5,
    "start_time": "2022-06-28T15:57:31.367Z"
   },
   {
    "duration": 1053,
    "start_time": "2022-06-28T15:57:36.388Z"
   },
   {
    "duration": 1429,
    "start_time": "2022-06-28T15:57:37.444Z"
   },
   {
    "duration": 17,
    "start_time": "2022-06-28T15:57:38.874Z"
   },
   {
    "duration": 8,
    "start_time": "2022-06-28T15:57:38.892Z"
   },
   {
    "duration": 9,
    "start_time": "2022-06-28T15:57:38.902Z"
   },
   {
    "duration": 23,
    "start_time": "2022-06-28T15:57:38.913Z"
   },
   {
    "duration": 13,
    "start_time": "2022-06-28T15:57:38.938Z"
   },
   {
    "duration": 12,
    "start_time": "2022-06-28T15:57:38.952Z"
   },
   {
    "duration": 16,
    "start_time": "2022-06-28T15:57:38.965Z"
   },
   {
    "duration": 1235,
    "start_time": "2022-06-29T08:35:34.994Z"
   },
   {
    "duration": 1404,
    "start_time": "2022-06-29T08:35:36.232Z"
   },
   {
    "duration": 18,
    "start_time": "2022-06-29T08:35:37.637Z"
   },
   {
    "duration": 54,
    "start_time": "2022-06-29T08:35:37.657Z"
   },
   {
    "duration": 32,
    "start_time": "2022-06-29T08:35:37.713Z"
   },
   {
    "duration": 65,
    "start_time": "2022-06-29T08:35:37.746Z"
   },
   {
    "duration": 32,
    "start_time": "2022-06-29T08:35:37.815Z"
   },
   {
    "duration": 34,
    "start_time": "2022-06-29T08:35:37.848Z"
   },
   {
    "duration": 67,
    "start_time": "2022-06-29T08:35:37.886Z"
   },
   {
    "duration": 86,
    "start_time": "2022-06-29T08:35:46.759Z"
   },
   {
    "duration": 0,
    "start_time": "2022-06-29T08:35:46.846Z"
   },
   {
    "duration": 0,
    "start_time": "2022-06-29T08:35:46.848Z"
   },
   {
    "duration": 0,
    "start_time": "2022-06-29T08:35:46.849Z"
   },
   {
    "duration": 1434,
    "start_time": "2022-06-29T08:35:54.039Z"
   },
   {
    "duration": 1374,
    "start_time": "2022-06-29T08:35:55.475Z"
   },
   {
    "duration": 20,
    "start_time": "2022-06-29T08:35:56.850Z"
   },
   {
    "duration": 60,
    "start_time": "2022-06-29T08:35:56.876Z"
   },
   {
    "duration": 14,
    "start_time": "2022-06-29T08:35:56.938Z"
   },
   {
    "duration": 70,
    "start_time": "2022-06-29T08:35:56.953Z"
   },
   {
    "duration": 17,
    "start_time": "2022-06-29T08:35:57.237Z"
   },
   {
    "duration": 19,
    "start_time": "2022-06-29T08:35:58.111Z"
   },
   {
    "duration": 41,
    "start_time": "2022-06-29T08:35:58.588Z"
   },
   {
    "duration": 67,
    "start_time": "2022-06-29T08:36:04.713Z"
   },
   {
    "duration": 6,
    "start_time": "2022-06-29T08:42:59.420Z"
   },
   {
    "duration": 1346,
    "start_time": "2022-06-29T08:43:04.541Z"
   },
   {
    "duration": 930,
    "start_time": "2022-06-29T08:43:05.890Z"
   },
   {
    "duration": 14,
    "start_time": "2022-06-29T08:43:06.822Z"
   },
   {
    "duration": 14,
    "start_time": "2022-06-29T08:43:06.838Z"
   },
   {
    "duration": 50,
    "start_time": "2022-06-29T08:43:06.854Z"
   },
   {
    "duration": 15,
    "start_time": "2022-06-29T08:43:06.905Z"
   },
   {
    "duration": 16,
    "start_time": "2022-06-29T08:43:06.921Z"
   },
   {
    "duration": 12,
    "start_time": "2022-06-29T08:43:06.939Z"
   },
   {
    "duration": 24,
    "start_time": "2022-06-29T08:43:06.953Z"
   },
   {
    "duration": 48,
    "start_time": "2022-06-29T08:43:26.199Z"
   },
   {
    "duration": 8,
    "start_time": "2022-06-29T08:43:29.583Z"
   },
   {
    "duration": 13,
    "start_time": "2022-06-29T08:43:30.283Z"
   },
   {
    "duration": 1144,
    "start_time": "2022-06-29T08:43:38.439Z"
   },
   {
    "duration": 904,
    "start_time": "2022-06-29T08:43:39.585Z"
   },
   {
    "duration": 15,
    "start_time": "2022-06-29T08:43:40.491Z"
   },
   {
    "duration": 8,
    "start_time": "2022-06-29T08:43:40.508Z"
   },
   {
    "duration": 12,
    "start_time": "2022-06-29T08:43:40.519Z"
   },
   {
    "duration": 17,
    "start_time": "2022-06-29T08:43:40.532Z"
   },
   {
    "duration": 14,
    "start_time": "2022-06-29T08:43:40.550Z"
   },
   {
    "duration": 38,
    "start_time": "2022-06-29T08:43:40.565Z"
   },
   {
    "duration": 17,
    "start_time": "2022-06-29T08:43:40.605Z"
   },
   {
    "duration": 1209,
    "start_time": "2022-06-29T09:01:26.991Z"
   },
   {
    "duration": 999,
    "start_time": "2022-06-29T09:01:28.203Z"
   },
   {
    "duration": 14,
    "start_time": "2022-06-29T09:01:29.204Z"
   },
   {
    "duration": 17,
    "start_time": "2022-06-29T09:01:29.220Z"
   },
   {
    "duration": 16,
    "start_time": "2022-06-29T09:01:29.238Z"
   },
   {
    "duration": 67,
    "start_time": "2022-06-29T09:01:29.256Z"
   },
   {
    "duration": 15,
    "start_time": "2022-06-29T09:01:29.325Z"
   },
   {
    "duration": 12,
    "start_time": "2022-06-29T09:01:29.341Z"
   },
   {
    "duration": 50,
    "start_time": "2022-06-29T09:01:29.355Z"
   },
   {
    "duration": 6,
    "start_time": "2022-06-29T09:05:52.321Z"
   },
   {
    "duration": 17,
    "start_time": "2022-06-29T09:05:58.686Z"
   },
   {
    "duration": 4,
    "start_time": "2022-06-29T09:06:23.204Z"
   },
   {
    "duration": 23,
    "start_time": "2022-06-29T09:06:23.479Z"
   },
   {
    "duration": 4,
    "start_time": "2022-06-29T09:07:18.008Z"
   },
   {
    "duration": 18,
    "start_time": "2022-06-29T09:07:18.291Z"
   },
   {
    "duration": 4,
    "start_time": "2022-06-29T09:08:00.813Z"
   },
   {
    "duration": 6,
    "start_time": "2022-06-29T09:08:08.986Z"
   },
   {
    "duration": 15,
    "start_time": "2022-06-29T09:08:29.396Z"
   },
   {
    "duration": 14,
    "start_time": "2022-06-29T09:16:35.918Z"
   },
   {
    "duration": 15,
    "start_time": "2022-06-29T09:16:39.292Z"
   },
   {
    "duration": 13,
    "start_time": "2022-06-29T09:16:39.727Z"
   },
   {
    "duration": 2,
    "start_time": "2022-06-29T09:16:44.908Z"
   },
   {
    "duration": 389,
    "start_time": "2022-06-29T09:16:44.912Z"
   },
   {
    "duration": 9,
    "start_time": "2022-06-29T09:16:45.303Z"
   },
   {
    "duration": 12,
    "start_time": "2022-06-29T09:16:45.313Z"
   },
   {
    "duration": 8,
    "start_time": "2022-06-29T09:16:45.328Z"
   },
   {
    "duration": 40,
    "start_time": "2022-06-29T09:16:45.338Z"
   },
   {
    "duration": 17,
    "start_time": "2022-06-29T09:16:45.380Z"
   },
   {
    "duration": 12,
    "start_time": "2022-06-29T09:16:45.398Z"
   },
   {
    "duration": 11,
    "start_time": "2022-06-29T09:16:45.412Z"
   },
   {
    "duration": 7,
    "start_time": "2022-06-29T09:18:13.888Z"
   },
   {
    "duration": 5,
    "start_time": "2022-06-29T09:18:26.799Z"
   },
   {
    "duration": 5,
    "start_time": "2022-06-29T09:18:35.395Z"
   },
   {
    "duration": 633,
    "start_time": "2022-06-29T09:19:01.320Z"
   },
   {
    "duration": 136,
    "start_time": "2022-06-29T09:19:18.098Z"
   },
   {
    "duration": 169,
    "start_time": "2022-06-29T09:19:23.630Z"
   },
   {
    "duration": 142,
    "start_time": "2022-06-29T09:19:27.639Z"
   },
   {
    "duration": 131,
    "start_time": "2022-06-29T09:19:39.501Z"
   },
   {
    "duration": 165,
    "start_time": "2022-06-29T09:19:50.547Z"
   },
   {
    "duration": 356,
    "start_time": "2022-06-29T09:20:10.291Z"
   },
   {
    "duration": 117,
    "start_time": "2022-06-29T09:46:17.933Z"
   },
   {
    "duration": 6,
    "start_time": "2022-06-29T09:46:31.786Z"
   },
   {
    "duration": 444,
    "start_time": "2022-06-29T09:46:32.063Z"
   },
   {
    "duration": 9,
    "start_time": "2022-06-29T09:46:32.509Z"
   },
   {
    "duration": 11,
    "start_time": "2022-06-29T09:46:32.520Z"
   },
   {
    "duration": 48,
    "start_time": "2022-06-29T09:46:32.533Z"
   },
   {
    "duration": 30,
    "start_time": "2022-06-29T09:46:32.755Z"
   },
   {
    "duration": 18,
    "start_time": "2022-06-29T09:46:33.115Z"
   },
   {
    "duration": 15,
    "start_time": "2022-06-29T09:46:33.299Z"
   },
   {
    "duration": 9,
    "start_time": "2022-06-29T09:46:33.715Z"
   },
   {
    "duration": 307,
    "start_time": "2022-06-29T09:46:33.885Z"
   },
   {
    "duration": 5,
    "start_time": "2022-06-29T09:46:34.240Z"
   },
   {
    "duration": 6,
    "start_time": "2022-06-29T09:51:44.451Z"
   },
   {
    "duration": 8,
    "start_time": "2022-06-29T09:51:45.916Z"
   },
   {
    "duration": 9,
    "start_time": "2022-06-29T09:51:47.545Z"
   },
   {
    "duration": 8,
    "start_time": "2022-06-29T09:51:47.782Z"
   },
   {
    "duration": 7,
    "start_time": "2022-06-29T09:51:47.946Z"
   },
   {
    "duration": 6,
    "start_time": "2022-06-29T09:51:48.928Z"
   },
   {
    "duration": 11,
    "start_time": "2022-06-29T09:52:25.785Z"
   },
   {
    "duration": 6,
    "start_time": "2022-06-29T09:52:42.940Z"
   },
   {
    "duration": 7,
    "start_time": "2022-06-29T09:52:49.484Z"
   },
   {
    "duration": 11,
    "start_time": "2022-06-29T09:52:50.267Z"
   },
   {
    "duration": 6,
    "start_time": "2022-06-29T09:52:50.629Z"
   },
   {
    "duration": 103,
    "start_time": "2022-06-29T09:58:38.006Z"
   },
   {
    "duration": 21,
    "start_time": "2022-06-29T09:59:29.897Z"
   },
   {
    "duration": 297,
    "start_time": "2022-06-29T09:59:36.885Z"
   },
   {
    "duration": 7,
    "start_time": "2022-06-29T09:59:43.792Z"
   },
   {
    "duration": 6,
    "start_time": "2022-06-29T10:00:05.587Z"
   },
   {
    "duration": 11,
    "start_time": "2022-06-29T10:00:07.089Z"
   },
   {
    "duration": 8,
    "start_time": "2022-06-29T10:00:07.316Z"
   },
   {
    "duration": 7,
    "start_time": "2022-06-29T10:00:07.495Z"
   },
   {
    "duration": 7,
    "start_time": "2022-06-29T10:00:07.689Z"
   },
   {
    "duration": 11,
    "start_time": "2022-06-29T10:00:08.200Z"
   },
   {
    "duration": 69,
    "start_time": "2022-06-29T10:00:09.515Z"
   },
   {
    "duration": 65,
    "start_time": "2022-06-29T10:00:34.695Z"
   },
   {
    "duration": 30,
    "start_time": "2022-06-29T10:00:41.782Z"
   },
   {
    "duration": 5,
    "start_time": "2022-06-29T10:02:49.641Z"
   },
   {
    "duration": 6,
    "start_time": "2022-06-29T10:02:49.979Z"
   },
   {
    "duration": 9,
    "start_time": "2022-06-29T10:02:50.172Z"
   },
   {
    "duration": 6,
    "start_time": "2022-06-29T10:02:50.324Z"
   },
   {
    "duration": 7,
    "start_time": "2022-06-29T10:02:51.605Z"
   },
   {
    "duration": 6,
    "start_time": "2022-06-29T10:02:52.588Z"
   },
   {
    "duration": 106,
    "start_time": "2022-06-29T10:02:55.864Z"
   },
   {
    "duration": 5,
    "start_time": "2022-06-29T10:02:59.642Z"
   },
   {
    "duration": 5,
    "start_time": "2022-06-29T10:02:59.888Z"
   },
   {
    "duration": 6,
    "start_time": "2022-06-29T10:03:00.144Z"
   },
   {
    "duration": 5,
    "start_time": "2022-06-29T10:03:01.613Z"
   },
   {
    "duration": 6,
    "start_time": "2022-06-29T10:03:01.907Z"
   },
   {
    "duration": 21,
    "start_time": "2022-06-29T10:03:04.202Z"
   },
   {
    "duration": 34,
    "start_time": "2022-06-29T10:03:31.048Z"
   },
   {
    "duration": 20,
    "start_time": "2022-06-29T10:03:36.989Z"
   },
   {
    "duration": 28,
    "start_time": "2022-06-29T10:04:51.380Z"
   },
   {
    "duration": 34,
    "start_time": "2022-06-29T10:05:32.443Z"
   },
   {
    "duration": 25,
    "start_time": "2022-06-29T10:05:32.929Z"
   },
   {
    "duration": 42,
    "start_time": "2022-06-29T10:06:35.655Z"
   },
   {
    "duration": 39,
    "start_time": "2022-06-29T10:06:40.568Z"
   },
   {
    "duration": 22,
    "start_time": "2022-06-29T10:06:41.008Z"
   },
   {
    "duration": 37,
    "start_time": "2022-06-29T10:06:41.341Z"
   },
   {
    "duration": 21,
    "start_time": "2022-06-29T10:06:52.036Z"
   },
   {
    "duration": 37,
    "start_time": "2022-06-29T10:06:52.441Z"
   },
   {
    "duration": 50,
    "start_time": "2022-06-29T10:09:04.149Z"
   },
   {
    "duration": 25,
    "start_time": "2022-06-29T10:09:37.522Z"
   },
   {
    "duration": 31,
    "start_time": "2022-06-29T10:09:47.101Z"
   },
   {
    "duration": 52,
    "start_time": "2022-06-29T10:09:53.342Z"
   },
   {
    "duration": 40,
    "start_time": "2022-06-29T10:10:12.916Z"
   },
   {
    "duration": 31,
    "start_time": "2022-06-29T10:11:02.684Z"
   },
   {
    "duration": 8,
    "start_time": "2022-06-29T10:12:40.658Z"
   },
   {
    "duration": 8,
    "start_time": "2022-06-29T10:12:55.990Z"
   },
   {
    "duration": 8,
    "start_time": "2022-06-29T10:13:20.284Z"
   },
   {
    "duration": 6,
    "start_time": "2022-06-29T10:13:33.512Z"
   },
   {
    "duration": 9,
    "start_time": "2022-06-29T10:13:43.090Z"
   },
   {
    "duration": 8,
    "start_time": "2022-06-29T10:13:58.638Z"
   },
   {
    "duration": 5,
    "start_time": "2022-06-29T10:14:18.033Z"
   },
   {
    "duration": 48,
    "start_time": "2022-06-29T10:14:46.650Z"
   },
   {
    "duration": 30,
    "start_time": "2022-06-29T10:14:47.313Z"
   },
   {
    "duration": 27,
    "start_time": "2022-06-29T10:14:55.835Z"
   },
   {
    "duration": 46,
    "start_time": "2022-06-29T10:15:00.334Z"
   },
   {
    "duration": 28,
    "start_time": "2022-06-29T10:15:13.832Z"
   },
   {
    "duration": 47,
    "start_time": "2022-06-29T10:15:14.349Z"
   },
   {
    "duration": 50,
    "start_time": "2022-06-29T17:47:00.074Z"
   },
   {
    "duration": 1089,
    "start_time": "2022-06-29T17:47:04.664Z"
   },
   {
    "duration": 717,
    "start_time": "2022-06-29T17:47:05.756Z"
   },
   {
    "duration": 16,
    "start_time": "2022-06-29T17:47:06.475Z"
   },
   {
    "duration": 9,
    "start_time": "2022-06-29T17:47:06.493Z"
   },
   {
    "duration": 12,
    "start_time": "2022-06-29T17:47:06.503Z"
   },
   {
    "duration": 17,
    "start_time": "2022-06-29T17:47:06.522Z"
   },
   {
    "duration": 13,
    "start_time": "2022-06-29T17:47:06.541Z"
   },
   {
    "duration": 13,
    "start_time": "2022-06-29T17:47:06.556Z"
   },
   {
    "duration": 6,
    "start_time": "2022-06-29T17:47:06.571Z"
   },
   {
    "duration": 10,
    "start_time": "2022-06-29T17:47:06.579Z"
   },
   {
    "duration": 36,
    "start_time": "2022-06-29T17:47:06.591Z"
   },
   {
    "duration": 9,
    "start_time": "2022-06-29T17:47:06.629Z"
   },
   {
    "duration": 6,
    "start_time": "2022-06-29T17:47:06.640Z"
   },
   {
    "duration": 9,
    "start_time": "2022-06-29T17:47:06.648Z"
   },
   {
    "duration": 103,
    "start_time": "2022-06-29T17:47:06.659Z"
   },
   {
    "duration": 0,
    "start_time": "2022-06-29T17:47:06.764Z"
   },
   {
    "duration": 27,
    "start_time": "2022-06-29T17:47:10.931Z"
   },
   {
    "duration": 33,
    "start_time": "2022-06-29T17:47:11.811Z"
   },
   {
    "duration": 29,
    "start_time": "2022-06-29T17:47:29.124Z"
   },
   {
    "duration": 25,
    "start_time": "2022-06-29T17:47:32.115Z"
   },
   {
    "duration": 28,
    "start_time": "2022-06-29T17:47:45.887Z"
   },
   {
    "duration": 95,
    "start_time": "2022-06-29T17:48:09.229Z"
   },
   {
    "duration": 23,
    "start_time": "2022-06-29T17:48:18.634Z"
   },
   {
    "duration": 24,
    "start_time": "2022-06-29T17:48:56.134Z"
   },
   {
    "duration": 12,
    "start_time": "2022-06-29T17:49:09.049Z"
   },
   {
    "duration": 71,
    "start_time": "2022-06-29T17:49:12.153Z"
   },
   {
    "duration": 4,
    "start_time": "2022-06-29T17:49:12.375Z"
   },
   {
    "duration": 84,
    "start_time": "2022-06-29T17:49:28.040Z"
   },
   {
    "duration": 5,
    "start_time": "2022-06-29T17:49:30.094Z"
   },
   {
    "duration": 23,
    "start_time": "2022-06-29T17:59:06.649Z"
   },
   {
    "duration": 13,
    "start_time": "2022-06-29T18:18:58.424Z"
   },
   {
    "duration": 8,
    "start_time": "2022-06-29T18:19:15.874Z"
   },
   {
    "duration": 8,
    "start_time": "2022-06-29T18:19:23.812Z"
   },
   {
    "duration": 4,
    "start_time": "2022-06-29T18:19:30.301Z"
   },
   {
    "duration": 7,
    "start_time": "2022-06-29T18:19:39.118Z"
   },
   {
    "duration": 5,
    "start_time": "2022-06-29T18:22:22.499Z"
   },
   {
    "duration": 6,
    "start_time": "2022-06-29T18:22:28.099Z"
   },
   {
    "duration": 7,
    "start_time": "2022-06-29T18:22:34.309Z"
   },
   {
    "duration": 39,
    "start_time": "2022-06-29T18:22:52.211Z"
   },
   {
    "duration": 82,
    "start_time": "2022-06-29T18:23:10.850Z"
   },
   {
    "duration": 23,
    "start_time": "2022-06-29T18:23:11.075Z"
   },
   {
    "duration": 22,
    "start_time": "2022-06-29T18:23:11.571Z"
   },
   {
    "duration": 8,
    "start_time": "2022-06-29T18:41:11.085Z"
   },
   {
    "duration": 7,
    "start_time": "2022-06-29T18:41:32.379Z"
   },
   {
    "duration": 11,
    "start_time": "2022-06-29T18:41:52.547Z"
   },
   {
    "duration": 8,
    "start_time": "2022-06-29T18:42:08.392Z"
   },
   {
    "duration": 4,
    "start_time": "2022-06-29T18:42:36.494Z"
   },
   {
    "duration": 5,
    "start_time": "2022-06-29T18:42:45.878Z"
   },
   {
    "duration": 9,
    "start_time": "2022-06-29T18:42:52.147Z"
   },
   {
    "duration": 8,
    "start_time": "2022-06-29T18:43:29.435Z"
   },
   {
    "duration": 8,
    "start_time": "2022-06-29T18:44:16.337Z"
   },
   {
    "duration": 7,
    "start_time": "2022-06-29T18:44:23.348Z"
   },
   {
    "duration": 9,
    "start_time": "2022-06-29T18:44:57.756Z"
   },
   {
    "duration": 9,
    "start_time": "2022-06-29T18:45:08.541Z"
   },
   {
    "duration": 10,
    "start_time": "2022-06-29T18:45:18.181Z"
   },
   {
    "duration": 9,
    "start_time": "2022-06-29T18:45:22.917Z"
   },
   {
    "duration": 21,
    "start_time": "2022-06-29T18:45:57.014Z"
   },
   {
    "duration": 14,
    "start_time": "2022-06-29T18:46:01.447Z"
   },
   {
    "duration": 12,
    "start_time": "2022-06-29T18:46:11.751Z"
   },
   {
    "duration": 16,
    "start_time": "2022-06-29T18:46:34.039Z"
   },
   {
    "duration": 144,
    "start_time": "2022-06-29T18:48:00.262Z"
   },
   {
    "duration": 9,
    "start_time": "2022-06-29T18:48:10.284Z"
   },
   {
    "duration": 94,
    "start_time": "2022-06-29T18:48:46.476Z"
   },
   {
    "duration": 9,
    "start_time": "2022-06-29T18:49:03.573Z"
   },
   {
    "duration": 19,
    "start_time": "2022-06-29T18:49:35.278Z"
   },
   {
    "duration": 8,
    "start_time": "2022-06-29T18:49:43.082Z"
   },
   {
    "duration": 8,
    "start_time": "2022-06-29T18:49:45.126Z"
   },
   {
    "duration": 8,
    "start_time": "2022-06-29T18:49:47.699Z"
   },
   {
    "duration": 9,
    "start_time": "2022-06-29T18:49:54.432Z"
   },
   {
    "duration": 9,
    "start_time": "2022-06-29T18:49:55.077Z"
   },
   {
    "duration": 9,
    "start_time": "2022-06-29T18:49:57.636Z"
   },
   {
    "duration": 8,
    "start_time": "2022-06-29T18:49:59.416Z"
   },
   {
    "duration": 10,
    "start_time": "2022-06-29T18:49:59.807Z"
   },
   {
    "duration": 5,
    "start_time": "2022-06-29T18:50:27.736Z"
   },
   {
    "duration": 12,
    "start_time": "2022-06-29T18:50:32.102Z"
   },
   {
    "duration": 4,
    "start_time": "2022-06-29T18:50:50.982Z"
   },
   {
    "duration": 12,
    "start_time": "2022-06-29T18:52:22.834Z"
   },
   {
    "duration": 14,
    "start_time": "2022-06-29T18:52:42.230Z"
   },
   {
    "duration": 12,
    "start_time": "2022-06-29T18:53:07.018Z"
   },
   {
    "duration": 15,
    "start_time": "2022-06-29T18:53:12.821Z"
   },
   {
    "duration": 14,
    "start_time": "2022-06-29T18:53:13.255Z"
   },
   {
    "duration": 9,
    "start_time": "2022-06-29T18:53:13.748Z"
   },
   {
    "duration": 11,
    "start_time": "2022-06-30T08:01:56.303Z"
   },
   {
    "duration": 48,
    "start_time": "2022-06-30T08:05:56.217Z"
   },
   {
    "duration": 3,
    "start_time": "2022-06-30T08:05:58.566Z"
   },
   {
    "duration": 10,
    "start_time": "2022-06-30T08:05:58.953Z"
   },
   {
    "duration": 8,
    "start_time": "2022-06-30T08:05:59.108Z"
   },
   {
    "duration": 1109,
    "start_time": "2022-06-30T08:06:02.548Z"
   },
   {
    "duration": 814,
    "start_time": "2022-06-30T08:06:03.659Z"
   },
   {
    "duration": 24,
    "start_time": "2022-06-30T08:06:04.476Z"
   },
   {
    "duration": 12,
    "start_time": "2022-06-30T08:06:04.503Z"
   },
   {
    "duration": 11,
    "start_time": "2022-06-30T08:06:04.527Z"
   },
   {
    "duration": 35,
    "start_time": "2022-06-30T08:06:04.540Z"
   },
   {
    "duration": 29,
    "start_time": "2022-06-30T08:06:04.578Z"
   },
   {
    "duration": 38,
    "start_time": "2022-06-30T08:06:04.610Z"
   },
   {
    "duration": 8,
    "start_time": "2022-06-30T08:06:04.651Z"
   },
   {
    "duration": 55,
    "start_time": "2022-06-30T08:06:04.661Z"
   },
   {
    "duration": 17,
    "start_time": "2022-06-30T08:06:04.717Z"
   },
   {
    "duration": 37,
    "start_time": "2022-06-30T08:06:04.736Z"
   },
   {
    "duration": 160,
    "start_time": "2022-06-30T08:06:04.776Z"
   },
   {
    "duration": 101,
    "start_time": "2022-06-30T08:06:04.945Z"
   },
   {
    "duration": 79,
    "start_time": "2022-06-30T08:06:05.049Z"
   },
   {
    "duration": 110,
    "start_time": "2022-06-30T08:06:05.130Z"
   },
   {
    "duration": 22,
    "start_time": "2022-06-30T08:06:05.243Z"
   },
   {
    "duration": 14,
    "start_time": "2022-06-30T08:06:17.149Z"
   },
   {
    "duration": 13,
    "start_time": "2022-06-30T08:06:18.509Z"
   },
   {
    "duration": 12,
    "start_time": "2022-06-30T08:06:18.776Z"
   },
   {
    "duration": 17,
    "start_time": "2022-06-30T08:06:53.419Z"
   },
   {
    "duration": 32,
    "start_time": "2022-06-30T08:12:02.969Z"
   },
   {
    "duration": 39,
    "start_time": "2022-06-30T08:12:03.606Z"
   },
   {
    "duration": 4,
    "start_time": "2022-06-30T08:12:06.011Z"
   },
   {
    "duration": 13,
    "start_time": "2022-06-30T08:12:06.465Z"
   },
   {
    "duration": 13,
    "start_time": "2022-06-30T08:12:07.015Z"
   },
   {
    "duration": 14,
    "start_time": "2022-06-30T08:12:07.393Z"
   },
   {
    "duration": 48,
    "start_time": "2022-06-30T08:13:42.270Z"
   },
   {
    "duration": 12,
    "start_time": "2022-06-30T08:13:50.562Z"
   },
   {
    "duration": 12,
    "start_time": "2022-06-30T08:14:10.081Z"
   },
   {
    "duration": 11,
    "start_time": "2022-06-30T08:14:26.067Z"
   },
   {
    "duration": 10,
    "start_time": "2022-06-30T08:14:40.908Z"
   },
   {
    "duration": 13,
    "start_time": "2022-06-30T08:16:05.869Z"
   },
   {
    "duration": 12,
    "start_time": "2022-06-30T08:16:17.644Z"
   },
   {
    "duration": 12,
    "start_time": "2022-06-30T08:16:28.610Z"
   },
   {
    "duration": 3,
    "start_time": "2022-06-30T08:39:46.729Z"
   },
   {
    "duration": 5,
    "start_time": "2022-06-30T08:40:31.443Z"
   },
   {
    "duration": 5,
    "start_time": "2022-06-30T08:40:39.215Z"
   },
   {
    "duration": 7,
    "start_time": "2022-06-30T08:40:52.558Z"
   },
   {
    "duration": 88,
    "start_time": "2022-06-30T08:40:57.893Z"
   },
   {
    "duration": 4,
    "start_time": "2022-06-30T08:41:02.497Z"
   },
   {
    "duration": 5,
    "start_time": "2022-06-30T08:43:26.479Z"
   },
   {
    "duration": 6,
    "start_time": "2022-06-30T08:46:45.378Z"
   },
   {
    "duration": 6,
    "start_time": "2022-06-30T08:48:28.201Z"
   },
   {
    "duration": 14,
    "start_time": "2022-06-30T08:48:43.346Z"
   },
   {
    "duration": 6,
    "start_time": "2022-06-30T08:48:50.574Z"
   },
   {
    "duration": 5,
    "start_time": "2022-06-30T08:48:58.740Z"
   },
   {
    "duration": 15,
    "start_time": "2022-06-30T08:49:01.677Z"
   },
   {
    "duration": 5,
    "start_time": "2022-06-30T08:49:08.809Z"
   },
   {
    "duration": 5,
    "start_time": "2022-06-30T08:49:09.310Z"
   },
   {
    "duration": 6,
    "start_time": "2022-06-30T08:49:09.645Z"
   },
   {
    "duration": 5,
    "start_time": "2022-06-30T08:52:21.362Z"
   },
   {
    "duration": 5,
    "start_time": "2022-06-30T08:52:34.575Z"
   },
   {
    "duration": 6,
    "start_time": "2022-06-30T08:52:41.425Z"
   },
   {
    "duration": 8,
    "start_time": "2022-06-30T08:53:30.499Z"
   },
   {
    "duration": 9,
    "start_time": "2022-06-30T08:53:44.600Z"
   },
   {
    "duration": 64,
    "start_time": "2022-06-30T08:54:40.959Z"
   },
   {
    "duration": 71,
    "start_time": "2022-06-30T08:54:45.810Z"
   },
   {
    "duration": 6,
    "start_time": "2022-06-30T08:54:56.716Z"
   },
   {
    "duration": 6,
    "start_time": "2022-06-30T08:55:17.010Z"
   },
   {
    "duration": 9,
    "start_time": "2022-06-30T08:55:30.065Z"
   },
   {
    "duration": 7,
    "start_time": "2022-06-30T08:55:58.556Z"
   },
   {
    "duration": 5,
    "start_time": "2022-06-30T08:56:04.749Z"
   },
   {
    "duration": 6,
    "start_time": "2022-06-30T08:56:12.153Z"
   },
   {
    "duration": 7,
    "start_time": "2022-06-30T08:56:17.026Z"
   },
   {
    "duration": 6,
    "start_time": "2022-06-30T08:56:22.511Z"
   },
   {
    "duration": 6,
    "start_time": "2022-06-30T08:56:26.734Z"
   },
   {
    "duration": 6,
    "start_time": "2022-06-30T08:56:35.423Z"
   },
   {
    "duration": 11,
    "start_time": "2022-06-30T09:00:02.638Z"
   },
   {
    "duration": 13,
    "start_time": "2022-06-30T09:00:07.849Z"
   },
   {
    "duration": 13,
    "start_time": "2022-06-30T09:01:13.096Z"
   },
   {
    "duration": 21,
    "start_time": "2022-06-30T09:01:22.470Z"
   },
   {
    "duration": 18,
    "start_time": "2022-06-30T09:01:47.846Z"
   },
   {
    "duration": 38,
    "start_time": "2022-06-30T09:01:54.013Z"
   },
   {
    "duration": 21,
    "start_time": "2022-06-30T09:02:04.704Z"
   },
   {
    "duration": 6,
    "start_time": "2022-06-30T09:02:55.604Z"
   },
   {
    "duration": 6,
    "start_time": "2022-06-30T09:03:06.862Z"
   },
   {
    "duration": 6,
    "start_time": "2022-06-30T09:03:15.490Z"
   },
   {
    "duration": 23,
    "start_time": "2022-06-30T09:03:45.613Z"
   },
   {
    "duration": 24,
    "start_time": "2022-06-30T09:03:56.652Z"
   },
   {
    "duration": 13,
    "start_time": "2022-06-30T09:04:22.950Z"
   },
   {
    "duration": 18,
    "start_time": "2022-06-30T09:21:06.725Z"
   },
   {
    "duration": 13,
    "start_time": "2022-06-30T09:21:24.901Z"
   },
   {
    "duration": 14,
    "start_time": "2022-06-30T09:21:49.283Z"
   },
   {
    "duration": 12,
    "start_time": "2022-06-30T09:22:26.763Z"
   },
   {
    "duration": 13,
    "start_time": "2022-06-30T09:23:20.069Z"
   },
   {
    "duration": 1089,
    "start_time": "2022-06-30T09:24:06.698Z"
   },
   {
    "duration": 34,
    "start_time": "2022-06-30T09:24:24.410Z"
   },
   {
    "duration": 12,
    "start_time": "2022-06-30T09:24:30.204Z"
   },
   {
    "duration": 10,
    "start_time": "2022-06-30T09:25:02.291Z"
   },
   {
    "duration": 12,
    "start_time": "2022-06-30T09:25:22.746Z"
   },
   {
    "duration": 11,
    "start_time": "2022-06-30T09:25:38.654Z"
   },
   {
    "duration": 11,
    "start_time": "2022-06-30T09:26:26.345Z"
   },
   {
    "duration": 9,
    "start_time": "2022-06-30T09:26:39.991Z"
   },
   {
    "duration": 10,
    "start_time": "2022-06-30T09:27:31.059Z"
   },
   {
    "duration": 10,
    "start_time": "2022-06-30T09:27:31.899Z"
   },
   {
    "duration": 10,
    "start_time": "2022-06-30T09:27:56.215Z"
   },
   {
    "duration": 11,
    "start_time": "2022-06-30T09:41:04.170Z"
   },
   {
    "duration": 13,
    "start_time": "2022-06-30T09:41:04.624Z"
   },
   {
    "duration": 9,
    "start_time": "2022-06-30T09:41:05.258Z"
   },
   {
    "duration": 11,
    "start_time": "2022-06-30T09:41:20.484Z"
   },
   {
    "duration": 13,
    "start_time": "2022-06-30T09:41:22.181Z"
   },
   {
    "duration": 12,
    "start_time": "2022-06-30T09:41:22.805Z"
   },
   {
    "duration": 7,
    "start_time": "2022-06-30T09:41:24.154Z"
   },
   {
    "duration": 8,
    "start_time": "2022-06-30T09:41:37.949Z"
   },
   {
    "duration": 9,
    "start_time": "2022-06-30T09:41:57.698Z"
   },
   {
    "duration": 11,
    "start_time": "2022-06-30T09:42:01.895Z"
   },
   {
    "duration": 3,
    "start_time": "2022-06-30T10:38:30.245Z"
   },
   {
    "duration": 3,
    "start_time": "2022-06-30T10:59:46.491Z"
   },
   {
    "duration": 7,
    "start_time": "2022-06-30T10:59:47.335Z"
   },
   {
    "duration": 141,
    "start_time": "2022-06-30T11:01:31.112Z"
   },
   {
    "duration": 30,
    "start_time": "2022-06-30T11:01:39.634Z"
   },
   {
    "duration": 29,
    "start_time": "2022-06-30T11:01:48.027Z"
   },
   {
    "duration": 26,
    "start_time": "2022-06-30T11:01:50.800Z"
   },
   {
    "duration": 39,
    "start_time": "2022-06-30T11:01:51.008Z"
   },
   {
    "duration": 4,
    "start_time": "2022-06-30T11:09:48.013Z"
   },
   {
    "duration": 8,
    "start_time": "2022-06-30T11:09:50.339Z"
   },
   {
    "duration": 5,
    "start_time": "2022-06-30T11:09:52.785Z"
   },
   {
    "duration": 8,
    "start_time": "2022-06-30T13:15:21.310Z"
   },
   {
    "duration": 50,
    "start_time": "2022-06-30T13:15:32.642Z"
   },
   {
    "duration": 3,
    "start_time": "2022-06-30T13:15:42.388Z"
   },
   {
    "duration": 3,
    "start_time": "2022-06-30T13:15:42.839Z"
   },
   {
    "duration": 7,
    "start_time": "2022-06-30T13:15:43.692Z"
   },
   {
    "duration": 1101,
    "start_time": "2022-06-30T13:15:52.743Z"
   },
   {
    "duration": 758,
    "start_time": "2022-06-30T13:15:53.846Z"
   },
   {
    "duration": 15,
    "start_time": "2022-06-30T13:15:54.606Z"
   },
   {
    "duration": 14,
    "start_time": "2022-06-30T13:15:54.625Z"
   },
   {
    "duration": 22,
    "start_time": "2022-06-30T13:15:54.641Z"
   },
   {
    "duration": 39,
    "start_time": "2022-06-30T13:15:54.665Z"
   },
   {
    "duration": 23,
    "start_time": "2022-06-30T13:15:54.706Z"
   },
   {
    "duration": 38,
    "start_time": "2022-06-30T13:15:54.730Z"
   },
   {
    "duration": 7,
    "start_time": "2022-06-30T13:15:54.770Z"
   },
   {
    "duration": 32,
    "start_time": "2022-06-30T13:15:54.779Z"
   },
   {
    "duration": 25,
    "start_time": "2022-06-30T13:15:54.813Z"
   },
   {
    "duration": 47,
    "start_time": "2022-06-30T13:15:54.840Z"
   },
   {
    "duration": 122,
    "start_time": "2022-06-30T13:15:54.927Z"
   },
   {
    "duration": 131,
    "start_time": "2022-06-30T13:15:55.126Z"
   },
   {
    "duration": 66,
    "start_time": "2022-06-30T13:15:55.259Z"
   },
   {
    "duration": 109,
    "start_time": "2022-06-30T13:15:55.327Z"
   },
   {
    "duration": 8,
    "start_time": "2022-06-30T13:15:55.438Z"
   },
   {
    "duration": 5,
    "start_time": "2022-06-30T13:16:02.870Z"
   },
   {
    "duration": 8,
    "start_time": "2022-06-30T13:16:07.364Z"
   },
   {
    "duration": 3,
    "start_time": "2022-06-30T13:25:29.544Z"
   },
   {
    "duration": 2,
    "start_time": "2022-06-30T13:25:30.198Z"
   },
   {
    "duration": 4,
    "start_time": "2022-06-30T13:25:31.246Z"
   },
   {
    "duration": 5,
    "start_time": "2022-06-30T13:25:32.546Z"
   },
   {
    "duration": 5,
    "start_time": "2022-06-30T13:25:33.592Z"
   },
   {
    "duration": 72,
    "start_time": "2022-06-30T13:31:20.133Z"
   },
   {
    "duration": 4,
    "start_time": "2022-06-30T13:31:35.685Z"
   },
   {
    "duration": 4,
    "start_time": "2022-06-30T13:31:43.604Z"
   },
   {
    "duration": 4,
    "start_time": "2022-06-30T13:31:50.989Z"
   },
   {
    "duration": 5,
    "start_time": "2022-06-30T13:32:45.843Z"
   },
   {
    "duration": 5,
    "start_time": "2022-06-30T13:33:06.507Z"
   },
   {
    "duration": 5,
    "start_time": "2022-06-30T13:33:16.556Z"
   },
   {
    "duration": 5,
    "start_time": "2022-06-30T13:33:23.447Z"
   },
   {
    "duration": 5,
    "start_time": "2022-06-30T13:33:24.972Z"
   },
   {
    "duration": 4,
    "start_time": "2022-06-30T13:33:25.484Z"
   },
   {
    "duration": 2,
    "start_time": "2022-06-30T13:40:53.886Z"
   },
   {
    "duration": 4,
    "start_time": "2022-06-30T13:41:04.715Z"
   },
   {
    "duration": 3,
    "start_time": "2022-06-30T13:41:10.681Z"
   },
   {
    "duration": 5,
    "start_time": "2022-06-30T13:41:47.940Z"
   },
   {
    "duration": 4,
    "start_time": "2022-06-30T13:41:50.764Z"
   },
   {
    "duration": 5,
    "start_time": "2022-06-30T13:41:51.763Z"
   },
   {
    "duration": 4,
    "start_time": "2022-06-30T13:41:52.242Z"
   },
   {
    "duration": 14,
    "start_time": "2022-06-30T13:50:50.602Z"
   },
   {
    "duration": 9,
    "start_time": "2022-06-30T13:51:01.436Z"
   },
   {
    "duration": 5,
    "start_time": "2022-06-30T13:51:04.660Z"
   },
   {
    "duration": 16,
    "start_time": "2022-06-30T13:51:16.956Z"
   },
   {
    "duration": 18,
    "start_time": "2022-06-30T13:51:43.972Z"
   },
   {
    "duration": 17,
    "start_time": "2022-06-30T13:51:59.257Z"
   },
   {
    "duration": 11,
    "start_time": "2022-06-30T13:52:18.329Z"
   },
   {
    "duration": 15,
    "start_time": "2022-06-30T13:52:31.384Z"
   },
   {
    "duration": 4,
    "start_time": "2022-06-30T13:52:33.960Z"
   },
   {
    "duration": 10,
    "start_time": "2022-06-30T13:53:18.387Z"
   },
   {
    "duration": 21,
    "start_time": "2022-06-30T13:53:25.245Z"
   },
   {
    "duration": 9,
    "start_time": "2022-06-30T13:54:12.481Z"
   },
   {
    "duration": 9,
    "start_time": "2022-06-30T13:54:15.828Z"
   },
   {
    "duration": 28,
    "start_time": "2022-06-30T13:54:24.563Z"
   },
   {
    "duration": 5,
    "start_time": "2022-06-30T13:54:25.637Z"
   },
   {
    "duration": 15,
    "start_time": "2022-06-30T13:54:36.210Z"
   },
   {
    "duration": 5,
    "start_time": "2022-06-30T13:54:37.323Z"
   },
   {
    "duration": 17,
    "start_time": "2022-06-30T13:54:40.020Z"
   },
   {
    "duration": 4,
    "start_time": "2022-06-30T13:54:40.642Z"
   },
   {
    "duration": 15,
    "start_time": "2022-06-30T13:55:48.524Z"
   },
   {
    "duration": 4,
    "start_time": "2022-06-30T13:56:04.878Z"
   },
   {
    "duration": 3,
    "start_time": "2022-06-30T14:41:20.536Z"
   },
   {
    "duration": 12,
    "start_time": "2022-06-30T14:42:25.313Z"
   },
   {
    "duration": 15,
    "start_time": "2022-06-30T14:42:53.187Z"
   },
   {
    "duration": 3,
    "start_time": "2022-06-30T14:43:00.622Z"
   },
   {
    "duration": 14,
    "start_time": "2022-06-30T14:43:00.883Z"
   },
   {
    "duration": 4,
    "start_time": "2022-06-30T14:43:08.920Z"
   },
   {
    "duration": 11,
    "start_time": "2022-06-30T14:43:09.515Z"
   },
   {
    "duration": 8,
    "start_time": "2022-06-30T14:44:50.302Z"
   },
   {
    "duration": 10,
    "start_time": "2022-06-30T14:44:59.278Z"
   },
   {
    "duration": 11,
    "start_time": "2022-06-30T14:49:06.235Z"
   },
   {
    "duration": 9,
    "start_time": "2022-06-30T14:49:25.622Z"
   },
   {
    "duration": 9,
    "start_time": "2022-06-30T14:49:51.303Z"
   },
   {
    "duration": 10,
    "start_time": "2022-06-30T14:50:05.491Z"
   },
   {
    "duration": 13,
    "start_time": "2022-06-30T14:50:32.333Z"
   },
   {
    "duration": 9,
    "start_time": "2022-06-30T14:50:34.160Z"
   },
   {
    "duration": 11,
    "start_time": "2022-06-30T14:50:37.389Z"
   },
   {
    "duration": 12,
    "start_time": "2022-06-30T14:50:37.656Z"
   },
   {
    "duration": 8,
    "start_time": "2022-06-30T14:50:38.252Z"
   },
   {
    "duration": 13,
    "start_time": "2022-06-30T14:51:08.201Z"
   },
   {
    "duration": 18,
    "start_time": "2022-06-30T14:51:26.789Z"
   },
   {
    "duration": 10,
    "start_time": "2022-06-30T14:51:54.916Z"
   },
   {
    "duration": 6,
    "start_time": "2022-06-30T14:52:10.314Z"
   },
   {
    "duration": 10,
    "start_time": "2022-06-30T14:52:17.717Z"
   },
   {
    "duration": 16,
    "start_time": "2022-06-30T14:52:57.553Z"
   },
   {
    "duration": 8,
    "start_time": "2022-06-30T14:53:03.472Z"
   },
   {
    "duration": 8,
    "start_time": "2022-06-30T14:53:14.138Z"
   },
   {
    "duration": 13,
    "start_time": "2022-06-30T14:53:49.979Z"
   },
   {
    "duration": 13,
    "start_time": "2022-06-30T14:53:57.868Z"
   },
   {
    "duration": 8,
    "start_time": "2022-06-30T14:54:10.365Z"
   },
   {
    "duration": 11,
    "start_time": "2022-06-30T14:54:15.049Z"
   },
   {
    "duration": 12,
    "start_time": "2022-06-30T14:55:36.113Z"
   },
   {
    "duration": 10,
    "start_time": "2022-06-30T14:55:43.311Z"
   },
   {
    "duration": 56,
    "start_time": "2022-06-30T17:31:17.011Z"
   },
   {
    "duration": 1227,
    "start_time": "2022-06-30T17:31:21.170Z"
   },
   {
    "duration": 759,
    "start_time": "2022-06-30T17:31:22.399Z"
   },
   {
    "duration": 15,
    "start_time": "2022-06-30T17:31:23.160Z"
   },
   {
    "duration": 9,
    "start_time": "2022-06-30T17:31:23.177Z"
   },
   {
    "duration": 11,
    "start_time": "2022-06-30T17:31:23.187Z"
   },
   {
    "duration": 19,
    "start_time": "2022-06-30T17:31:23.199Z"
   },
   {
    "duration": 14,
    "start_time": "2022-06-30T17:31:23.219Z"
   },
   {
    "duration": 16,
    "start_time": "2022-06-30T17:31:23.259Z"
   },
   {
    "duration": 6,
    "start_time": "2022-06-30T17:31:23.276Z"
   },
   {
    "duration": 6,
    "start_time": "2022-06-30T17:31:23.284Z"
   },
   {
    "duration": 7,
    "start_time": "2022-06-30T17:31:23.292Z"
   },
   {
    "duration": 61,
    "start_time": "2022-06-30T17:31:23.301Z"
   },
   {
    "duration": 116,
    "start_time": "2022-06-30T17:31:23.363Z"
   },
   {
    "duration": 189,
    "start_time": "2022-06-30T17:31:23.481Z"
   },
   {
    "duration": 86,
    "start_time": "2022-06-30T17:31:23.675Z"
   },
   {
    "duration": 97,
    "start_time": "2022-06-30T17:31:23.763Z"
   },
   {
    "duration": 6,
    "start_time": "2022-06-30T17:31:23.861Z"
   },
   {
    "duration": 11,
    "start_time": "2022-06-30T17:31:23.868Z"
   },
   {
    "duration": 7,
    "start_time": "2022-06-30T17:31:23.881Z"
   },
   {
    "duration": 7,
    "start_time": "2022-06-30T17:31:23.890Z"
   },
   {
    "duration": 19,
    "start_time": "2022-06-30T17:31:23.898Z"
   },
   {
    "duration": 9,
    "start_time": "2022-06-30T17:31:25.358Z"
   },
   {
    "duration": 10,
    "start_time": "2022-06-30T17:31:30.493Z"
   },
   {
    "duration": 10,
    "start_time": "2022-06-30T17:31:49.062Z"
   },
   {
    "duration": 62,
    "start_time": "2022-06-30T17:31:56.733Z"
   },
   {
    "duration": 8,
    "start_time": "2022-06-30T17:32:13.283Z"
   },
   {
    "duration": 10,
    "start_time": "2022-06-30T17:32:16.213Z"
   },
   {
    "duration": 10,
    "start_time": "2022-06-30T17:32:16.521Z"
   },
   {
    "duration": 11,
    "start_time": "2022-06-30T17:32:21.987Z"
   },
   {
    "duration": 15,
    "start_time": "2022-06-30T17:32:48.058Z"
   },
   {
    "duration": 4,
    "start_time": "2022-06-30T17:32:49.569Z"
   },
   {
    "duration": 15,
    "start_time": "2022-06-30T17:32:50.341Z"
   },
   {
    "duration": 4,
    "start_time": "2022-06-30T17:32:50.910Z"
   },
   {
    "duration": 16,
    "start_time": "2022-06-30T17:33:14.196Z"
   },
   {
    "duration": 4,
    "start_time": "2022-06-30T17:33:21.750Z"
   },
   {
    "duration": 16,
    "start_time": "2022-06-30T17:33:36.101Z"
   },
   {
    "duration": 4,
    "start_time": "2022-06-30T17:33:36.894Z"
   },
   {
    "duration": 15,
    "start_time": "2022-06-30T17:33:45.082Z"
   },
   {
    "duration": 4,
    "start_time": "2022-06-30T17:33:45.939Z"
   },
   {
    "duration": 22,
    "start_time": "2022-06-30T17:33:51.336Z"
   },
   {
    "duration": 4,
    "start_time": "2022-06-30T17:34:00.239Z"
   },
   {
    "duration": 15,
    "start_time": "2022-06-30T17:34:05.280Z"
   },
   {
    "duration": 4,
    "start_time": "2022-06-30T17:34:10.049Z"
   },
   {
    "duration": 7,
    "start_time": "2022-06-30T17:34:31.458Z"
   },
   {
    "duration": 9,
    "start_time": "2022-06-30T17:34:58.633Z"
   },
   {
    "duration": 8,
    "start_time": "2022-06-30T17:35:11.052Z"
   },
   {
    "duration": 7,
    "start_time": "2022-06-30T17:35:18.011Z"
   },
   {
    "duration": 5,
    "start_time": "2022-06-30T17:40:30.109Z"
   },
   {
    "duration": 4,
    "start_time": "2022-06-30T17:42:48.887Z"
   },
   {
    "duration": 21,
    "start_time": "2022-06-30T17:42:51.765Z"
   },
   {
    "duration": 4,
    "start_time": "2022-06-30T17:42:52.010Z"
   },
   {
    "duration": 4,
    "start_time": "2022-06-30T17:42:52.491Z"
   },
   {
    "duration": 8,
    "start_time": "2022-06-30T17:42:53.409Z"
   },
   {
    "duration": 4,
    "start_time": "2022-06-30T17:44:17.025Z"
   },
   {
    "duration": 4,
    "start_time": "2022-06-30T17:44:27.870Z"
   },
   {
    "duration": 3,
    "start_time": "2022-06-30T17:44:33.637Z"
   },
   {
    "duration": 4,
    "start_time": "2022-06-30T17:44:47.068Z"
   },
   {
    "duration": 3,
    "start_time": "2022-06-30T17:45:00.146Z"
   },
   {
    "duration": 3,
    "start_time": "2022-06-30T17:45:01.611Z"
   },
   {
    "duration": 4,
    "start_time": "2022-06-30T17:45:10.596Z"
   },
   {
    "duration": 5,
    "start_time": "2022-06-30T17:45:17.336Z"
   },
   {
    "duration": 9,
    "start_time": "2022-06-30T17:45:26.400Z"
   },
   {
    "duration": 9,
    "start_time": "2022-06-30T17:45:38.414Z"
   },
   {
    "duration": 3,
    "start_time": "2022-06-30T17:45:46.471Z"
   },
   {
    "duration": 3,
    "start_time": "2022-06-30T17:45:48.288Z"
   },
   {
    "duration": 10,
    "start_time": "2022-06-30T17:45:57.926Z"
   },
   {
    "duration": 9,
    "start_time": "2022-06-30T17:46:27.819Z"
   },
   {
    "duration": 8,
    "start_time": "2022-06-30T17:46:33.474Z"
   },
   {
    "duration": 3,
    "start_time": "2022-06-30T17:46:36.252Z"
   },
   {
    "duration": 363,
    "start_time": "2022-06-30T17:46:36.258Z"
   },
   {
    "duration": 9,
    "start_time": "2022-06-30T17:46:36.623Z"
   },
   {
    "duration": 14,
    "start_time": "2022-06-30T17:46:36.633Z"
   },
   {
    "duration": 8,
    "start_time": "2022-06-30T17:46:36.660Z"
   },
   {
    "duration": 17,
    "start_time": "2022-06-30T17:46:36.669Z"
   },
   {
    "duration": 13,
    "start_time": "2022-06-30T17:46:36.687Z"
   },
   {
    "duration": 14,
    "start_time": "2022-06-30T17:46:36.701Z"
   },
   {
    "duration": 5,
    "start_time": "2022-06-30T17:46:36.716Z"
   },
   {
    "duration": 37,
    "start_time": "2022-06-30T17:46:36.722Z"
   },
   {
    "duration": 13,
    "start_time": "2022-06-30T17:46:36.761Z"
   },
   {
    "duration": 31,
    "start_time": "2022-06-30T17:46:36.776Z"
   },
   {
    "duration": 160,
    "start_time": "2022-06-30T17:46:36.810Z"
   },
   {
    "duration": 196,
    "start_time": "2022-06-30T17:46:36.974Z"
   },
   {
    "duration": 188,
    "start_time": "2022-06-30T17:46:37.172Z"
   },
   {
    "duration": 6,
    "start_time": "2022-06-30T17:46:37.362Z"
   },
   {
    "duration": 7,
    "start_time": "2022-06-30T17:46:37.370Z"
   },
   {
    "duration": 14,
    "start_time": "2022-06-30T17:46:37.379Z"
   },
   {
    "duration": 12,
    "start_time": "2022-06-30T17:46:37.395Z"
   },
   {
    "duration": 17,
    "start_time": "2022-06-30T17:46:37.409Z"
   },
   {
    "duration": 21,
    "start_time": "2022-06-30T17:46:37.429Z"
   },
   {
    "duration": 20,
    "start_time": "2022-06-30T17:46:37.452Z"
   },
   {
    "duration": 14,
    "start_time": "2022-06-30T17:46:37.475Z"
   },
   {
    "duration": 22,
    "start_time": "2022-06-30T17:46:37.491Z"
   },
   {
    "duration": 5,
    "start_time": "2022-06-30T17:46:37.515Z"
   },
   {
    "duration": 39,
    "start_time": "2022-06-30T17:46:37.521Z"
   },
   {
    "duration": 6,
    "start_time": "2022-06-30T17:46:37.562Z"
   },
   {
    "duration": 26,
    "start_time": "2022-06-30T17:46:37.570Z"
   },
   {
    "duration": 4,
    "start_time": "2022-06-30T17:46:37.599Z"
   },
   {
    "duration": 18,
    "start_time": "2022-06-30T17:46:37.605Z"
   },
   {
    "duration": 0,
    "start_time": "2022-06-30T17:46:37.625Z"
   },
   {
    "duration": 0,
    "start_time": "2022-06-30T17:46:37.626Z"
   },
   {
    "duration": 5,
    "start_time": "2022-06-30T17:47:17.948Z"
   },
   {
    "duration": 5,
    "start_time": "2022-06-30T17:47:29.274Z"
   },
   {
    "duration": 6,
    "start_time": "2022-06-30T17:47:39.889Z"
   },
   {
    "duration": 9,
    "start_time": "2022-06-30T17:47:54.730Z"
   },
   {
    "duration": 6,
    "start_time": "2022-06-30T17:48:00.992Z"
   },
   {
    "duration": 54,
    "start_time": "2022-06-30T17:48:25.722Z"
   },
   {
    "duration": 70,
    "start_time": "2022-06-30T17:48:49.183Z"
   },
   {
    "duration": 46,
    "start_time": "2022-06-30T17:49:56.792Z"
   },
   {
    "duration": 46,
    "start_time": "2022-06-30T17:51:09.442Z"
   },
   {
    "duration": 49,
    "start_time": "2022-06-30T17:51:16.898Z"
   },
   {
    "duration": 71,
    "start_time": "2022-06-30T17:51:34.356Z"
   },
   {
    "duration": 6,
    "start_time": "2022-06-30T17:51:34.588Z"
   },
   {
    "duration": 6,
    "start_time": "2022-06-30T17:51:56.971Z"
   },
   {
    "duration": 8,
    "start_time": "2022-06-30T17:52:17.764Z"
   },
   {
    "duration": 6,
    "start_time": "2022-06-30T17:52:22.355Z"
   },
   {
    "duration": 6,
    "start_time": "2022-06-30T17:52:26.960Z"
   },
   {
    "duration": 53,
    "start_time": "2022-07-03T08:54:31.673Z"
   },
   {
    "duration": 7,
    "start_time": "2022-07-03T08:54:31.791Z"
   },
   {
    "duration": 1129,
    "start_time": "2022-07-03T08:54:36.031Z"
   },
   {
    "duration": 837,
    "start_time": "2022-07-03T08:54:37.162Z"
   },
   {
    "duration": 19,
    "start_time": "2022-07-03T08:54:38.001Z"
   },
   {
    "duration": 11,
    "start_time": "2022-07-03T08:54:38.021Z"
   },
   {
    "duration": 31,
    "start_time": "2022-07-03T08:54:38.034Z"
   },
   {
    "duration": 29,
    "start_time": "2022-07-03T08:54:38.067Z"
   },
   {
    "duration": 15,
    "start_time": "2022-07-03T08:54:38.098Z"
   },
   {
    "duration": 14,
    "start_time": "2022-07-03T08:54:38.115Z"
   },
   {
    "duration": 30,
    "start_time": "2022-07-03T08:54:38.131Z"
   },
   {
    "duration": 11,
    "start_time": "2022-07-03T08:54:38.168Z"
   },
   {
    "duration": 9,
    "start_time": "2022-07-03T08:54:38.181Z"
   },
   {
    "duration": 68,
    "start_time": "2022-07-03T08:54:38.192Z"
   },
   {
    "duration": 115,
    "start_time": "2022-07-03T08:54:38.265Z"
   },
   {
    "duration": 187,
    "start_time": "2022-07-03T08:54:38.389Z"
   },
   {
    "duration": 5,
    "start_time": "2022-07-03T08:54:38.581Z"
   },
   {
    "duration": 185,
    "start_time": "2022-07-03T08:54:38.588Z"
   },
   {
    "duration": 8,
    "start_time": "2022-07-03T08:54:38.775Z"
   },
   {
    "duration": 9,
    "start_time": "2022-07-03T08:54:38.785Z"
   },
   {
    "duration": 9,
    "start_time": "2022-07-03T08:54:38.796Z"
   },
   {
    "duration": 5,
    "start_time": "2022-07-03T08:54:38.806Z"
   },
   {
    "duration": 62,
    "start_time": "2022-07-03T08:54:38.813Z"
   },
   {
    "duration": 11,
    "start_time": "2022-07-03T08:54:40.803Z"
   },
   {
    "duration": 10,
    "start_time": "2022-07-03T08:54:41.401Z"
   },
   {
    "duration": 9,
    "start_time": "2022-07-03T08:54:42.186Z"
   },
   {
    "duration": 16,
    "start_time": "2022-07-03T08:55:10.736Z"
   },
   {
    "duration": 12,
    "start_time": "2022-07-03T08:55:16.361Z"
   },
   {
    "duration": 12,
    "start_time": "2022-07-03T08:55:20.107Z"
   },
   {
    "duration": 22,
    "start_time": "2022-07-03T08:55:21.903Z"
   },
   {
    "duration": 21,
    "start_time": "2022-07-03T08:56:08.866Z"
   },
   {
    "duration": 5,
    "start_time": "2022-07-03T08:56:09.781Z"
   },
   {
    "duration": 5,
    "start_time": "2022-07-03T08:56:28.171Z"
   },
   {
    "duration": 5,
    "start_time": "2022-07-03T08:59:00.408Z"
   },
   {
    "duration": 3,
    "start_time": "2022-07-03T08:59:15.673Z"
   },
   {
    "duration": 346,
    "start_time": "2022-07-03T08:59:15.679Z"
   },
   {
    "duration": 9,
    "start_time": "2022-07-03T08:59:16.027Z"
   },
   {
    "duration": 22,
    "start_time": "2022-07-03T08:59:16.037Z"
   },
   {
    "duration": 19,
    "start_time": "2022-07-03T08:59:16.062Z"
   },
   {
    "duration": 16,
    "start_time": "2022-07-03T08:59:16.082Z"
   },
   {
    "duration": 12,
    "start_time": "2022-07-03T08:59:16.100Z"
   },
   {
    "duration": 12,
    "start_time": "2022-07-03T08:59:16.114Z"
   },
   {
    "duration": 4,
    "start_time": "2022-07-03T08:59:16.127Z"
   },
   {
    "duration": 15,
    "start_time": "2022-07-03T08:59:16.153Z"
   },
   {
    "duration": 8,
    "start_time": "2022-07-03T08:59:16.171Z"
   },
   {
    "duration": 175,
    "start_time": "2022-07-03T08:59:16.181Z"
   },
   {
    "duration": 95,
    "start_time": "2022-07-03T08:59:16.361Z"
   },
   {
    "duration": 114,
    "start_time": "2022-07-03T08:59:16.465Z"
   },
   {
    "duration": 187,
    "start_time": "2022-07-03T08:59:16.582Z"
   },
   {
    "duration": 4,
    "start_time": "2022-07-03T08:59:16.771Z"
   },
   {
    "duration": 7,
    "start_time": "2022-07-03T08:59:16.777Z"
   },
   {
    "duration": 20,
    "start_time": "2022-07-03T08:59:16.785Z"
   },
   {
    "duration": 22,
    "start_time": "2022-07-03T08:59:16.806Z"
   },
   {
    "duration": 18,
    "start_time": "2022-07-03T08:59:16.830Z"
   },
   {
    "duration": 29,
    "start_time": "2022-07-03T08:59:16.850Z"
   },
   {
    "duration": 8,
    "start_time": "2022-07-03T08:59:16.880Z"
   },
   {
    "duration": 9,
    "start_time": "2022-07-03T08:59:16.889Z"
   },
   {
    "duration": 14,
    "start_time": "2022-07-03T08:59:16.899Z"
   },
   {
    "duration": 4,
    "start_time": "2022-07-03T08:59:16.914Z"
   },
   {
    "duration": 6,
    "start_time": "2022-07-03T08:59:34.267Z"
   },
   {
    "duration": 19,
    "start_time": "2022-07-03T08:59:34.532Z"
   },
   {
    "duration": 4,
    "start_time": "2022-07-03T08:59:35.209Z"
   },
   {
    "duration": 15,
    "start_time": "2022-07-03T08:59:35.871Z"
   },
   {
    "duration": 4,
    "start_time": "2022-07-03T08:59:36.489Z"
   },
   {
    "duration": 10,
    "start_time": "2022-07-03T08:59:37.175Z"
   },
   {
    "duration": 6,
    "start_time": "2022-07-03T09:01:24.439Z"
   },
   {
    "duration": 5,
    "start_time": "2022-07-03T09:01:30.537Z"
   },
   {
    "duration": 4,
    "start_time": "2022-07-03T09:01:51.423Z"
   },
   {
    "duration": 5,
    "start_time": "2022-07-03T09:01:55.537Z"
   },
   {
    "duration": 5,
    "start_time": "2022-07-03T09:02:03.679Z"
   },
   {
    "duration": 6,
    "start_time": "2022-07-03T09:02:10.889Z"
   },
   {
    "duration": 5,
    "start_time": "2022-07-03T09:02:14.579Z"
   },
   {
    "duration": 4,
    "start_time": "2022-07-03T09:02:22.104Z"
   },
   {
    "duration": 5,
    "start_time": "2022-07-03T09:02:41.508Z"
   },
   {
    "duration": 5,
    "start_time": "2022-07-03T09:02:48.428Z"
   },
   {
    "duration": 12,
    "start_time": "2022-07-03T09:05:49.774Z"
   },
   {
    "duration": 10,
    "start_time": "2022-07-03T09:06:05.510Z"
   },
   {
    "duration": 10,
    "start_time": "2022-07-03T09:06:36.998Z"
   },
   {
    "duration": 14,
    "start_time": "2022-07-03T09:07:11.581Z"
   },
   {
    "duration": 5,
    "start_time": "2022-07-03T09:07:26.633Z"
   },
   {
    "duration": 5,
    "start_time": "2022-07-03T09:07:49.582Z"
   },
   {
    "duration": 5,
    "start_time": "2022-07-03T09:07:53.080Z"
   },
   {
    "duration": 9,
    "start_time": "2022-07-03T09:32:17.586Z"
   },
   {
    "duration": 13,
    "start_time": "2022-07-03T09:32:22.664Z"
   },
   {
    "duration": 12,
    "start_time": "2022-07-03T09:32:52.191Z"
   },
   {
    "duration": 10,
    "start_time": "2022-07-03T09:33:11.583Z"
   },
   {
    "duration": 4,
    "start_time": "2022-07-03T09:33:12.221Z"
   },
   {
    "duration": 11,
    "start_time": "2022-07-03T09:33:13.206Z"
   },
   {
    "duration": 13,
    "start_time": "2022-07-03T09:33:13.668Z"
   },
   {
    "duration": 23,
    "start_time": "2022-07-03T09:33:15.323Z"
   },
   {
    "duration": 9,
    "start_time": "2022-07-03T09:39:26.393Z"
   },
   {
    "duration": 14,
    "start_time": "2022-07-03T09:39:31.016Z"
   },
   {
    "duration": 10,
    "start_time": "2022-07-03T09:39:31.231Z"
   },
   {
    "duration": 11,
    "start_time": "2022-07-03T09:39:31.481Z"
   },
   {
    "duration": 22,
    "start_time": "2022-07-03T09:39:31.878Z"
   },
   {
    "duration": 6,
    "start_time": "2022-07-03T09:39:35.810Z"
   },
   {
    "duration": 23,
    "start_time": "2022-07-03T09:39:41.481Z"
   },
   {
    "duration": 5,
    "start_time": "2022-07-03T09:39:42.005Z"
   },
   {
    "duration": 22,
    "start_time": "2022-07-03T09:39:42.703Z"
   },
   {
    "duration": 5,
    "start_time": "2022-07-03T09:39:45.504Z"
   },
   {
    "duration": 7,
    "start_time": "2022-07-03T09:39:46.387Z"
   },
   {
    "duration": 7,
    "start_time": "2022-07-03T09:39:50.033Z"
   },
   {
    "duration": 10,
    "start_time": "2022-07-03T09:39:50.655Z"
   },
   {
    "duration": 4,
    "start_time": "2022-07-03T09:40:06.591Z"
   },
   {
    "duration": 6,
    "start_time": "2022-07-03T09:40:22.713Z"
   },
   {
    "duration": 32,
    "start_time": "2022-07-03T09:41:12.869Z"
   },
   {
    "duration": 21,
    "start_time": "2022-07-03T09:41:21.887Z"
   },
   {
    "duration": 5,
    "start_time": "2022-07-03T09:43:19.663Z"
   },
   {
    "duration": 7,
    "start_time": "2022-07-03T09:43:20.207Z"
   },
   {
    "duration": 10,
    "start_time": "2022-07-03T09:43:21.970Z"
   },
   {
    "duration": 7,
    "start_time": "2022-07-03T09:43:22.617Z"
   },
   {
    "duration": 5,
    "start_time": "2022-07-03T09:48:44.121Z"
   },
   {
    "duration": 893,
    "start_time": "2022-07-03T09:48:57.084Z"
   },
   {
    "duration": 5,
    "start_time": "2022-07-03T09:49:07.684Z"
   },
   {
    "duration": 25,
    "start_time": "2022-07-03T09:49:13.564Z"
   },
   {
    "duration": 5,
    "start_time": "2022-07-03T09:49:14.046Z"
   },
   {
    "duration": 27,
    "start_time": "2022-07-03T09:49:14.357Z"
   },
   {
    "duration": 5,
    "start_time": "2022-07-03T09:49:15.220Z"
   },
   {
    "duration": 7,
    "start_time": "2022-07-03T09:49:15.774Z"
   },
   {
    "duration": 6,
    "start_time": "2022-07-03T09:49:21.302Z"
   },
   {
    "duration": 8,
    "start_time": "2022-07-03T09:49:22.227Z"
   },
   {
    "duration": 5,
    "start_time": "2022-07-03T09:49:42.630Z"
   },
   {
    "duration": 21,
    "start_time": "2022-07-03T09:49:43.753Z"
   },
   {
    "duration": 5,
    "start_time": "2022-07-03T09:49:44.330Z"
   },
   {
    "duration": 8,
    "start_time": "2022-07-03T09:49:44.959Z"
   },
   {
    "duration": 7,
    "start_time": "2022-07-03T09:49:45.394Z"
   },
   {
    "duration": 8,
    "start_time": "2022-07-03T09:49:45.933Z"
   },
   {
    "duration": 14,
    "start_time": "2022-07-03T09:51:17.524Z"
   },
   {
    "duration": 12,
    "start_time": "2022-07-03T09:51:45.460Z"
   },
   {
    "duration": 9,
    "start_time": "2022-07-03T09:53:18.982Z"
   },
   {
    "duration": 15,
    "start_time": "2022-07-03T09:54:03.060Z"
   },
   {
    "duration": 7,
    "start_time": "2022-07-03T09:54:11.704Z"
   },
   {
    "duration": 15,
    "start_time": "2022-07-03T09:54:15.959Z"
   },
   {
    "duration": 6,
    "start_time": "2022-07-03T09:54:19.706Z"
   },
   {
    "duration": 7,
    "start_time": "2022-07-03T09:55:46.921Z"
   },
   {
    "duration": 12,
    "start_time": "2022-07-03T09:56:18.959Z"
   },
   {
    "duration": 12,
    "start_time": "2022-07-03T09:56:36.465Z"
   },
   {
    "duration": 8,
    "start_time": "2022-07-03T09:56:55.167Z"
   },
   {
    "duration": 11,
    "start_time": "2022-07-03T09:56:57.371Z"
   },
   {
    "duration": 6,
    "start_time": "2022-07-03T09:56:57.829Z"
   },
   {
    "duration": 6,
    "start_time": "2022-07-03T09:57:17.279Z"
   },
   {
    "duration": 13,
    "start_time": "2022-07-03T09:58:32.384Z"
   },
   {
    "duration": 8,
    "start_time": "2022-07-03T09:58:40.486Z"
   },
   {
    "duration": 10,
    "start_time": "2022-07-03T09:58:51.132Z"
   },
   {
    "duration": 10,
    "start_time": "2022-07-03T09:59:05.660Z"
   },
   {
    "duration": 16,
    "start_time": "2022-07-03T10:00:23.013Z"
   },
   {
    "duration": 18,
    "start_time": "2022-07-03T10:00:26.971Z"
   },
   {
    "duration": 9,
    "start_time": "2022-07-03T10:00:31.628Z"
   },
   {
    "duration": 10,
    "start_time": "2022-07-03T10:01:13.534Z"
   },
   {
    "duration": 11,
    "start_time": "2022-07-03T10:01:24.478Z"
   },
   {
    "duration": 10,
    "start_time": "2022-07-03T10:02:03.482Z"
   },
   {
    "duration": 10,
    "start_time": "2022-07-03T10:03:10.879Z"
   },
   {
    "duration": 8,
    "start_time": "2022-07-03T10:03:19.538Z"
   },
   {
    "duration": 8,
    "start_time": "2022-07-03T10:03:19.928Z"
   },
   {
    "duration": 9,
    "start_time": "2022-07-03T10:03:20.325Z"
   },
   {
    "duration": 16,
    "start_time": "2022-07-03T10:03:20.795Z"
   },
   {
    "duration": 8,
    "start_time": "2022-07-03T10:04:28.991Z"
   },
   {
    "duration": 11,
    "start_time": "2022-07-03T10:04:33.616Z"
   },
   {
    "duration": 9,
    "start_time": "2022-07-03T10:04:46.111Z"
   },
   {
    "duration": 8,
    "start_time": "2022-07-03T10:05:06.987Z"
   },
   {
    "duration": 9,
    "start_time": "2022-07-03T10:05:16.575Z"
   },
   {
    "duration": 14,
    "start_time": "2022-07-03T10:08:27.068Z"
   },
   {
    "duration": 8,
    "start_time": "2022-07-03T10:08:55.284Z"
   },
   {
    "duration": 8,
    "start_time": "2022-07-03T10:09:04.627Z"
   },
   {
    "duration": 11,
    "start_time": "2022-07-03T10:09:17.871Z"
   },
   {
    "duration": 10,
    "start_time": "2022-07-03T10:11:21.984Z"
   },
   {
    "duration": 7,
    "start_time": "2022-07-03T10:11:49.803Z"
   },
   {
    "duration": 9,
    "start_time": "2022-07-03T10:11:55.906Z"
   },
   {
    "duration": 4,
    "start_time": "2022-07-03T10:23:00.740Z"
   },
   {
    "duration": 4,
    "start_time": "2022-07-03T10:23:09.037Z"
   },
   {
    "duration": 7,
    "start_time": "2022-07-03T10:23:25.791Z"
   },
   {
    "duration": 5,
    "start_time": "2022-07-03T10:23:31.591Z"
   },
   {
    "duration": 9,
    "start_time": "2022-07-03T10:30:03.425Z"
   },
   {
    "duration": 12,
    "start_time": "2022-07-03T10:30:29.499Z"
   },
   {
    "duration": 14,
    "start_time": "2022-07-03T10:30:37.095Z"
   },
   {
    "duration": 11,
    "start_time": "2022-07-03T10:31:11.079Z"
   },
   {
    "duration": 12,
    "start_time": "2022-07-03T10:33:46.668Z"
   },
   {
    "duration": 13,
    "start_time": "2022-07-03T10:33:47.571Z"
   },
   {
    "duration": 9,
    "start_time": "2022-07-03T10:33:49.606Z"
   },
   {
    "duration": 11,
    "start_time": "2022-07-03T10:33:50.238Z"
   },
   {
    "duration": 9,
    "start_time": "2022-07-03T10:34:01.225Z"
   },
   {
    "duration": 8,
    "start_time": "2022-07-03T10:34:01.622Z"
   },
   {
    "duration": 9,
    "start_time": "2022-07-03T10:34:01.991Z"
   },
   {
    "duration": 12,
    "start_time": "2022-07-03T10:34:02.679Z"
   },
   {
    "duration": 12,
    "start_time": "2022-07-03T10:36:00.467Z"
   },
   {
    "duration": 14,
    "start_time": "2022-07-03T10:36:07.768Z"
   },
   {
    "duration": 4,
    "start_time": "2022-07-03T10:37:10.476Z"
   },
   {
    "duration": 4,
    "start_time": "2022-07-03T10:37:23.372Z"
   },
   {
    "duration": 376,
    "start_time": "2022-07-03T10:37:23.621Z"
   },
   {
    "duration": 10,
    "start_time": "2022-07-03T10:37:23.999Z"
   },
   {
    "duration": 19,
    "start_time": "2022-07-03T10:37:24.574Z"
   },
   {
    "duration": 11,
    "start_time": "2022-07-03T10:37:25.114Z"
   },
   {
    "duration": 24,
    "start_time": "2022-07-03T10:37:25.500Z"
   },
   {
    "duration": 15,
    "start_time": "2022-07-03T10:37:25.712Z"
   },
   {
    "duration": 15,
    "start_time": "2022-07-03T10:37:26.224Z"
   },
   {
    "duration": 5,
    "start_time": "2022-07-03T10:37:26.413Z"
   },
   {
    "duration": 8,
    "start_time": "2022-07-03T10:37:26.883Z"
   },
   {
    "duration": 7,
    "start_time": "2022-07-03T10:37:27.083Z"
   },
   {
    "duration": 101,
    "start_time": "2022-07-03T10:37:27.870Z"
   },
   {
    "duration": 37,
    "start_time": "2022-07-03T10:37:28.786Z"
   },
   {
    "duration": 30,
    "start_time": "2022-07-03T10:38:45.537Z"
   },
   {
    "duration": 5,
    "start_time": "2022-07-03T10:39:00.176Z"
   },
   {
    "duration": 30,
    "start_time": "2022-07-03T10:46:30.787Z"
   },
   {
    "duration": 31,
    "start_time": "2022-07-03T10:46:52.967Z"
   },
   {
    "duration": 33,
    "start_time": "2022-07-03T10:47:08.471Z"
   },
   {
    "duration": 5,
    "start_time": "2022-07-03T10:47:14.130Z"
   },
   {
    "duration": 4,
    "start_time": "2022-07-03T10:47:15.630Z"
   },
   {
    "duration": 3,
    "start_time": "2022-07-03T10:47:16.111Z"
   },
   {
    "duration": 5,
    "start_time": "2022-07-03T10:47:16.706Z"
   },
   {
    "duration": 6,
    "start_time": "2022-07-03T10:47:17.009Z"
   },
   {
    "duration": 5,
    "start_time": "2022-07-03T10:47:22.709Z"
   },
   {
    "duration": 6,
    "start_time": "2022-07-03T10:47:24.679Z"
   },
   {
    "duration": 10,
    "start_time": "2022-07-03T10:47:26.275Z"
   },
   {
    "duration": 5,
    "start_time": "2022-07-03T10:47:26.883Z"
   },
   {
    "duration": 8,
    "start_time": "2022-07-03T10:47:31.067Z"
   },
   {
    "duration": 11,
    "start_time": "2022-07-03T10:47:33.011Z"
   },
   {
    "duration": 8,
    "start_time": "2022-07-03T10:47:33.822Z"
   },
   {
    "duration": 11,
    "start_time": "2022-07-03T10:47:36.318Z"
   },
   {
    "duration": 8,
    "start_time": "2022-07-03T10:47:38.706Z"
   },
   {
    "duration": 10,
    "start_time": "2022-07-03T10:47:39.405Z"
   },
   {
    "duration": 60,
    "start_time": "2022-07-03T10:48:00.909Z"
   },
   {
    "duration": 126,
    "start_time": "2022-07-03T10:48:02.540Z"
   },
   {
    "duration": 29,
    "start_time": "2022-07-03T10:48:08.177Z"
   },
   {
    "duration": 55,
    "start_time": "2022-07-03T10:48:18.412Z"
   },
   {
    "duration": 86,
    "start_time": "2022-07-03T10:48:22.379Z"
   },
   {
    "duration": 5,
    "start_time": "2022-07-03T10:48:23.702Z"
   },
   {
    "duration": 2,
    "start_time": "2022-07-03T10:48:25.098Z"
   },
   {
    "duration": 5,
    "start_time": "2022-07-03T10:48:25.535Z"
   },
   {
    "duration": 5,
    "start_time": "2022-07-03T10:48:27.819Z"
   },
   {
    "duration": 7,
    "start_time": "2022-07-03T10:48:50.127Z"
   },
   {
    "duration": 6,
    "start_time": "2022-07-03T10:49:04.574Z"
   },
   {
    "duration": 7,
    "start_time": "2022-07-03T10:49:05.883Z"
   },
   {
    "duration": 6,
    "start_time": "2022-07-03T10:49:07.221Z"
   },
   {
    "duration": 8,
    "start_time": "2022-07-03T10:54:51.938Z"
   },
   {
    "duration": 4,
    "start_time": "2022-07-03T10:54:52.967Z"
   },
   {
    "duration": 3,
    "start_time": "2022-07-03T10:55:21.671Z"
   },
   {
    "duration": 9,
    "start_time": "2022-07-03T10:55:39.727Z"
   },
   {
    "duration": 9,
    "start_time": "2022-07-03T10:55:39.931Z"
   },
   {
    "duration": 9,
    "start_time": "2022-07-03T10:55:40.430Z"
   },
   {
    "duration": 8,
    "start_time": "2022-07-03T10:55:40.904Z"
   },
   {
    "duration": 8,
    "start_time": "2022-07-03T10:55:42.222Z"
   },
   {
    "duration": 7,
    "start_time": "2022-07-03T10:55:42.559Z"
   },
   {
    "duration": 9,
    "start_time": "2022-07-03T10:56:48.815Z"
   },
   {
    "duration": 8,
    "start_time": "2022-07-03T10:57:02.691Z"
   },
   {
    "duration": 9,
    "start_time": "2022-07-03T10:57:02.899Z"
   },
   {
    "duration": 12,
    "start_time": "2022-07-03T10:57:21.479Z"
   },
   {
    "duration": 16,
    "start_time": "2022-07-03T11:01:21.733Z"
   },
   {
    "duration": 12,
    "start_time": "2022-07-03T11:01:25.510Z"
   },
   {
    "duration": 8,
    "start_time": "2022-07-03T11:01:57.991Z"
   },
   {
    "duration": 7,
    "start_time": "2022-07-03T11:02:05.979Z"
   },
   {
    "duration": 7,
    "start_time": "2022-07-03T11:02:06.440Z"
   },
   {
    "duration": 7,
    "start_time": "2022-07-03T11:02:06.963Z"
   },
   {
    "duration": 8,
    "start_time": "2022-07-03T11:02:10.687Z"
   },
   {
    "duration": 8,
    "start_time": "2022-07-03T11:02:11.179Z"
   },
   {
    "duration": 8,
    "start_time": "2022-07-03T11:02:13.815Z"
   },
   {
    "duration": 7,
    "start_time": "2022-07-03T11:02:13.936Z"
   },
   {
    "duration": 17,
    "start_time": "2022-07-03T11:02:53.490Z"
   },
   {
    "duration": 14,
    "start_time": "2022-07-03T11:03:18.168Z"
   },
   {
    "duration": 10,
    "start_time": "2022-07-03T11:03:28.167Z"
   },
   {
    "duration": 7,
    "start_time": "2022-07-03T11:03:33.719Z"
   },
   {
    "duration": 9,
    "start_time": "2022-07-03T11:03:34.040Z"
   },
   {
    "duration": 9,
    "start_time": "2022-07-03T11:50:35.675Z"
   },
   {
    "duration": 8,
    "start_time": "2022-07-03T11:50:42.017Z"
   },
   {
    "duration": 8,
    "start_time": "2022-07-03T11:50:42.621Z"
   },
   {
    "duration": 8,
    "start_time": "2022-07-03T11:50:47.472Z"
   },
   {
    "duration": 9,
    "start_time": "2022-07-03T11:50:52.167Z"
   },
   {
    "duration": 8,
    "start_time": "2022-07-03T11:50:53.218Z"
   },
   {
    "duration": 8,
    "start_time": "2022-07-03T11:50:53.810Z"
   },
   {
    "duration": 11,
    "start_time": "2022-07-03T11:50:57.463Z"
   },
   {
    "duration": 7,
    "start_time": "2022-07-03T11:50:58.263Z"
   },
   {
    "duration": 7,
    "start_time": "2022-07-03T11:50:58.971Z"
   },
   {
    "duration": 0,
    "start_time": "2022-07-03T11:54:09.899Z"
   },
   {
    "duration": 0,
    "start_time": "2022-07-03T11:55:27.027Z"
   },
   {
    "duration": 0,
    "start_time": "2022-07-03T11:55:27.028Z"
   },
   {
    "duration": 0,
    "start_time": "2022-07-03T11:55:27.029Z"
   },
   {
    "duration": 0,
    "start_time": "2022-07-03T11:55:27.031Z"
   },
   {
    "duration": 0,
    "start_time": "2022-07-03T11:55:27.032Z"
   },
   {
    "duration": 0,
    "start_time": "2022-07-03T11:55:27.033Z"
   },
   {
    "duration": 0,
    "start_time": "2022-07-03T11:55:27.034Z"
   },
   {
    "duration": 0,
    "start_time": "2022-07-03T11:55:27.035Z"
   },
   {
    "duration": 0,
    "start_time": "2022-07-03T11:55:27.036Z"
   },
   {
    "duration": 0,
    "start_time": "2022-07-03T11:55:27.037Z"
   },
   {
    "duration": 0,
    "start_time": "2022-07-03T11:55:27.038Z"
   },
   {
    "duration": 0,
    "start_time": "2022-07-03T11:55:27.039Z"
   },
   {
    "duration": 0,
    "start_time": "2022-07-03T11:55:27.040Z"
   },
   {
    "duration": 0,
    "start_time": "2022-07-03T11:55:27.041Z"
   },
   {
    "duration": 0,
    "start_time": "2022-07-03T11:55:27.042Z"
   },
   {
    "duration": 0,
    "start_time": "2022-07-03T11:55:27.042Z"
   },
   {
    "duration": 0,
    "start_time": "2022-07-03T11:55:27.043Z"
   },
   {
    "duration": 0,
    "start_time": "2022-07-03T11:55:27.044Z"
   },
   {
    "duration": 0,
    "start_time": "2022-07-03T11:55:27.045Z"
   },
   {
    "duration": 0,
    "start_time": "2022-07-03T11:55:27.046Z"
   },
   {
    "duration": 0,
    "start_time": "2022-07-03T11:55:27.047Z"
   },
   {
    "duration": 0,
    "start_time": "2022-07-03T11:55:27.048Z"
   },
   {
    "duration": 0,
    "start_time": "2022-07-03T11:55:27.049Z"
   },
   {
    "duration": 0,
    "start_time": "2022-07-03T11:55:27.050Z"
   },
   {
    "duration": 0,
    "start_time": "2022-07-03T11:55:27.051Z"
   },
   {
    "duration": 0,
    "start_time": "2022-07-03T11:55:27.052Z"
   },
   {
    "duration": 0,
    "start_time": "2022-07-03T11:55:27.053Z"
   },
   {
    "duration": 19476,
    "start_time": "2022-07-03T11:55:29.471Z"
   },
   {
    "duration": 1067,
    "start_time": "2022-07-03T16:33:07.587Z"
   },
   {
    "duration": 1679,
    "start_time": "2022-07-03T16:33:08.656Z"
   },
   {
    "duration": 23,
    "start_time": "2022-07-03T16:33:10.337Z"
   },
   {
    "duration": 13,
    "start_time": "2022-07-03T16:33:10.362Z"
   },
   {
    "duration": 15,
    "start_time": "2022-07-03T16:33:10.377Z"
   },
   {
    "duration": 34,
    "start_time": "2022-07-03T16:33:10.395Z"
   },
   {
    "duration": 20,
    "start_time": "2022-07-03T16:33:10.431Z"
   },
   {
    "duration": 20,
    "start_time": "2022-07-03T16:33:10.453Z"
   },
   {
    "duration": 7,
    "start_time": "2022-07-03T16:33:10.476Z"
   },
   {
    "duration": 8,
    "start_time": "2022-07-03T16:33:10.485Z"
   },
   {
    "duration": 35,
    "start_time": "2022-07-03T16:33:10.494Z"
   },
   {
    "duration": 198,
    "start_time": "2022-07-03T16:33:10.531Z"
   },
   {
    "duration": 37,
    "start_time": "2022-07-03T16:33:10.730Z"
   },
   {
    "duration": 177,
    "start_time": "2022-07-03T16:33:10.772Z"
   },
   {
    "duration": 85,
    "start_time": "2022-07-03T16:33:10.953Z"
   },
   {
    "duration": 94,
    "start_time": "2022-07-03T16:33:11.040Z"
   },
   {
    "duration": 5,
    "start_time": "2022-07-03T16:33:11.136Z"
   },
   {
    "duration": 8,
    "start_time": "2022-07-03T16:33:11.142Z"
   },
   {
    "duration": 5,
    "start_time": "2022-07-03T16:33:11.152Z"
   },
   {
    "duration": 26,
    "start_time": "2022-07-03T16:33:11.158Z"
   },
   {
    "duration": 147,
    "start_time": "2022-07-03T16:33:11.186Z"
   },
   {
    "duration": 0,
    "start_time": "2022-07-03T16:33:11.335Z"
   },
   {
    "duration": 0,
    "start_time": "2022-07-03T16:33:11.336Z"
   },
   {
    "duration": 0,
    "start_time": "2022-07-03T16:33:11.337Z"
   },
   {
    "duration": 0,
    "start_time": "2022-07-03T16:33:11.338Z"
   },
   {
    "duration": 0,
    "start_time": "2022-07-03T16:33:11.340Z"
   },
   {
    "duration": 0,
    "start_time": "2022-07-03T16:33:11.341Z"
   },
   {
    "duration": 5,
    "start_time": "2022-07-03T16:33:58.243Z"
   },
   {
    "duration": 4,
    "start_time": "2022-07-03T16:34:02.680Z"
   },
   {
    "duration": 5,
    "start_time": "2022-07-03T16:34:05.828Z"
   },
   {
    "duration": 28,
    "start_time": "2022-07-03T16:34:07.812Z"
   },
   {
    "duration": 20,
    "start_time": "2022-07-03T16:34:13.113Z"
   },
   {
    "duration": 22,
    "start_time": "2022-07-03T16:34:17.792Z"
   },
   {
    "duration": 4,
    "start_time": "2022-07-03T16:34:19.068Z"
   },
   {
    "duration": 2,
    "start_time": "2022-07-03T16:34:21.080Z"
   },
   {
    "duration": 2,
    "start_time": "2022-07-03T16:34:21.896Z"
   },
   {
    "duration": 5,
    "start_time": "2022-07-03T16:34:26.024Z"
   },
   {
    "duration": 4,
    "start_time": "2022-07-03T16:34:29.232Z"
   },
   {
    "duration": 5,
    "start_time": "2022-07-03T16:34:30.940Z"
   },
   {
    "duration": 10,
    "start_time": "2022-07-03T16:34:33.412Z"
   },
   {
    "duration": 6,
    "start_time": "2022-07-03T16:34:52.014Z"
   },
   {
    "duration": 7,
    "start_time": "2022-07-03T16:34:58.785Z"
   },
   {
    "duration": 7,
    "start_time": "2022-07-03T16:34:59.331Z"
   },
   {
    "duration": 7,
    "start_time": "2022-07-03T16:35:00.766Z"
   },
   {
    "duration": 7,
    "start_time": "2022-07-03T16:35:07.053Z"
   },
   {
    "duration": 6,
    "start_time": "2022-07-03T16:35:07.709Z"
   },
   {
    "duration": 17336,
    "start_time": "2022-07-03T16:35:29.463Z"
   },
   {
    "duration": 3,
    "start_time": "2022-07-03T16:35:54.920Z"
   },
   {
    "duration": 6,
    "start_time": "2022-07-03T16:36:18.345Z"
   },
   {
    "duration": 7,
    "start_time": "2022-07-03T16:36:53.594Z"
   },
   {
    "duration": 6,
    "start_time": "2022-07-03T16:37:15.795Z"
   },
   {
    "duration": 6,
    "start_time": "2022-07-03T16:37:21.519Z"
   },
   {
    "duration": 6,
    "start_time": "2022-07-03T16:37:33.447Z"
   },
   {
    "duration": 6,
    "start_time": "2022-07-03T16:37:38.204Z"
   },
   {
    "duration": 6,
    "start_time": "2022-07-03T16:37:41.382Z"
   },
   {
    "duration": 7,
    "start_time": "2022-07-03T16:38:10.607Z"
   },
   {
    "duration": 7,
    "start_time": "2022-07-03T16:38:32.655Z"
   },
   {
    "duration": 6,
    "start_time": "2022-07-03T16:38:44.986Z"
   },
   {
    "duration": 102,
    "start_time": "2022-07-03T16:48:50.085Z"
   },
   {
    "duration": 5,
    "start_time": "2022-07-03T16:51:32.681Z"
   },
   {
    "duration": 3,
    "start_time": "2022-07-03T16:51:50.220Z"
   },
   {
    "duration": 6,
    "start_time": "2022-07-03T16:51:58.943Z"
   },
   {
    "duration": 5,
    "start_time": "2022-07-03T16:52:22.100Z"
   },
   {
    "duration": 7,
    "start_time": "2022-07-03T16:52:24.397Z"
   },
   {
    "duration": 7,
    "start_time": "2022-07-03T16:52:24.604Z"
   },
   {
    "duration": 3,
    "start_time": "2022-07-03T16:52:31.305Z"
   },
   {
    "duration": 3,
    "start_time": "2022-07-03T16:52:34.833Z"
   },
   {
    "duration": 8,
    "start_time": "2022-07-03T16:52:44.324Z"
   },
   {
    "duration": 4,
    "start_time": "2022-07-03T16:52:54.176Z"
   },
   {
    "duration": 108,
    "start_time": "2022-07-03T16:54:40.707Z"
   },
   {
    "duration": 4,
    "start_time": "2022-07-03T16:54:46.694Z"
   },
   {
    "duration": 2,
    "start_time": "2022-07-03T16:56:36.846Z"
   },
   {
    "duration": 7,
    "start_time": "2022-07-03T16:56:37.124Z"
   },
   {
    "duration": 6,
    "start_time": "2022-07-03T16:56:37.323Z"
   },
   {
    "duration": 6,
    "start_time": "2022-07-03T16:56:37.585Z"
   },
   {
    "duration": 25,
    "start_time": "2022-07-03T16:58:38.325Z"
   },
   {
    "duration": 20,
    "start_time": "2022-07-03T16:58:39.053Z"
   },
   {
    "duration": 4,
    "start_time": "2022-07-03T16:58:40.046Z"
   },
   {
    "duration": 3,
    "start_time": "2022-07-03T16:58:42.607Z"
   },
   {
    "duration": 2,
    "start_time": "2022-07-03T16:58:43.320Z"
   },
   {
    "duration": 5,
    "start_time": "2022-07-03T16:58:44.493Z"
   },
   {
    "duration": 4,
    "start_time": "2022-07-03T16:58:45.245Z"
   },
   {
    "duration": 5,
    "start_time": "2022-07-03T16:58:46.032Z"
   },
   {
    "duration": 6,
    "start_time": "2022-07-03T16:58:49.664Z"
   },
   {
    "duration": 6,
    "start_time": "2022-07-03T16:58:49.949Z"
   },
   {
    "duration": 6,
    "start_time": "2022-07-03T16:58:50.304Z"
   },
   {
    "duration": 4,
    "start_time": "2022-07-03T16:58:51.049Z"
   },
   {
    "duration": 3,
    "start_time": "2022-07-03T16:58:51.546Z"
   },
   {
    "duration": 4,
    "start_time": "2022-07-03T16:58:51.873Z"
   },
   {
    "duration": 3,
    "start_time": "2022-07-03T16:58:54.045Z"
   },
   {
    "duration": 7,
    "start_time": "2022-07-03T16:58:54.506Z"
   },
   {
    "duration": 6,
    "start_time": "2022-07-03T16:58:54.993Z"
   },
   {
    "duration": 6,
    "start_time": "2022-07-03T16:58:55.446Z"
   },
   {
    "duration": 98,
    "start_time": "2022-07-03T16:58:57.249Z"
   },
   {
    "duration": 10,
    "start_time": "2022-07-03T16:58:57.598Z"
   },
   {
    "duration": 10,
    "start_time": "2022-07-03T17:01:48.758Z"
   },
   {
    "duration": 11,
    "start_time": "2022-07-03T17:02:51.220Z"
   },
   {
    "duration": 11,
    "start_time": "2022-07-03T17:03:27.330Z"
   },
   {
    "duration": 24,
    "start_time": "2022-07-03T17:06:20.795Z"
   },
   {
    "duration": 23,
    "start_time": "2022-07-03T17:06:48.192Z"
   },
   {
    "duration": 20,
    "start_time": "2022-07-03T17:07:11.745Z"
   },
   {
    "duration": 19,
    "start_time": "2022-07-03T17:07:26.304Z"
   },
   {
    "duration": 21,
    "start_time": "2022-07-03T17:07:32.339Z"
   },
   {
    "duration": 4,
    "start_time": "2022-07-03T17:07:33.283Z"
   },
   {
    "duration": 2,
    "start_time": "2022-07-03T17:07:34.555Z"
   },
   {
    "duration": 2,
    "start_time": "2022-07-03T17:07:35.220Z"
   },
   {
    "duration": 4,
    "start_time": "2022-07-03T17:07:36.283Z"
   },
   {
    "duration": 5,
    "start_time": "2022-07-03T17:07:37.356Z"
   },
   {
    "duration": 4,
    "start_time": "2022-07-03T17:07:38.064Z"
   },
   {
    "duration": 6,
    "start_time": "2022-07-03T17:07:39.741Z"
   },
   {
    "duration": 6,
    "start_time": "2022-07-03T17:07:39.915Z"
   },
   {
    "duration": 5,
    "start_time": "2022-07-03T17:07:40.195Z"
   },
   {
    "duration": 4,
    "start_time": "2022-07-03T17:07:40.782Z"
   },
   {
    "duration": 4,
    "start_time": "2022-07-03T17:07:41.183Z"
   },
   {
    "duration": 3,
    "start_time": "2022-07-03T17:07:41.765Z"
   },
   {
    "duration": 2,
    "start_time": "2022-07-03T17:07:42.590Z"
   },
   {
    "duration": 7,
    "start_time": "2022-07-03T17:07:43.413Z"
   },
   {
    "duration": 7,
    "start_time": "2022-07-03T17:07:43.835Z"
   },
   {
    "duration": 7,
    "start_time": "2022-07-03T17:07:44.135Z"
   },
   {
    "duration": 6,
    "start_time": "2022-07-03T17:07:45.380Z"
   },
   {
    "duration": 13,
    "start_time": "2022-07-03T17:07:46.135Z"
   },
   {
    "duration": 11,
    "start_time": "2022-07-03T18:19:06.452Z"
   },
   {
    "duration": 10,
    "start_time": "2022-07-03T18:19:23.892Z"
   },
   {
    "duration": 3,
    "start_time": "2022-07-03T18:19:34.114Z"
   },
   {
    "duration": 337,
    "start_time": "2022-07-03T18:19:34.119Z"
   },
   {
    "duration": 9,
    "start_time": "2022-07-03T18:19:34.457Z"
   },
   {
    "duration": 10,
    "start_time": "2022-07-03T18:19:34.468Z"
   },
   {
    "duration": 11,
    "start_time": "2022-07-03T18:19:34.480Z"
   },
   {
    "duration": 15,
    "start_time": "2022-07-03T18:19:34.492Z"
   },
   {
    "duration": 12,
    "start_time": "2022-07-03T18:19:34.529Z"
   },
   {
    "duration": 13,
    "start_time": "2022-07-03T18:19:34.543Z"
   },
   {
    "duration": 5,
    "start_time": "2022-07-03T18:19:34.557Z"
   },
   {
    "duration": 7,
    "start_time": "2022-07-03T18:19:34.563Z"
   },
   {
    "duration": 7,
    "start_time": "2022-07-03T18:19:34.571Z"
   },
   {
    "duration": 50,
    "start_time": "2022-07-03T18:19:34.580Z"
   },
   {
    "duration": 105,
    "start_time": "2022-07-03T18:19:34.633Z"
   },
   {
    "duration": 197,
    "start_time": "2022-07-03T18:19:34.741Z"
   },
   {
    "duration": 90,
    "start_time": "2022-07-03T18:19:34.942Z"
   },
   {
    "duration": 102,
    "start_time": "2022-07-03T18:19:35.034Z"
   },
   {
    "duration": 6,
    "start_time": "2022-07-03T18:19:35.137Z"
   },
   {
    "duration": 8,
    "start_time": "2022-07-03T18:19:35.144Z"
   },
   {
    "duration": 12,
    "start_time": "2022-07-03T18:19:35.154Z"
   },
   {
    "duration": 6,
    "start_time": "2022-07-03T18:19:35.168Z"
   },
   {
    "duration": 14,
    "start_time": "2022-07-03T18:19:35.176Z"
   },
   {
    "duration": 6,
    "start_time": "2022-07-03T18:19:35.192Z"
   },
   {
    "duration": 8,
    "start_time": "2022-07-03T18:19:35.199Z"
   },
   {
    "duration": 5,
    "start_time": "2022-07-03T18:19:35.209Z"
   },
   {
    "duration": 13,
    "start_time": "2022-07-03T18:19:35.216Z"
   },
   {
    "duration": 3,
    "start_time": "2022-07-03T18:19:35.230Z"
   },
   {
    "duration": 4,
    "start_time": "2022-07-03T18:19:35.235Z"
   },
   {
    "duration": 10,
    "start_time": "2022-07-03T18:19:35.240Z"
   },
   {
    "duration": 7,
    "start_time": "2022-07-03T18:19:35.251Z"
   },
   {
    "duration": 6,
    "start_time": "2022-07-03T18:19:35.259Z"
   },
   {
    "duration": 8,
    "start_time": "2022-07-03T18:19:35.266Z"
   },
   {
    "duration": 11,
    "start_time": "2022-07-03T18:19:35.275Z"
   },
   {
    "duration": 10,
    "start_time": "2022-07-03T18:19:43.004Z"
   },
   {
    "duration": 3,
    "start_time": "2022-07-03T18:19:49.618Z"
   },
   {
    "duration": 396,
    "start_time": "2022-07-03T18:19:49.622Z"
   },
   {
    "duration": 12,
    "start_time": "2022-07-03T18:19:50.020Z"
   },
   {
    "duration": 35,
    "start_time": "2022-07-03T18:19:50.035Z"
   },
   {
    "duration": 34,
    "start_time": "2022-07-03T18:19:50.074Z"
   },
   {
    "duration": 45,
    "start_time": "2022-07-03T18:19:50.111Z"
   },
   {
    "duration": 39,
    "start_time": "2022-07-03T18:19:50.157Z"
   },
   {
    "duration": 29,
    "start_time": "2022-07-03T18:19:50.198Z"
   },
   {
    "duration": 10,
    "start_time": "2022-07-03T18:19:50.229Z"
   },
   {
    "duration": 36,
    "start_time": "2022-07-03T18:19:50.241Z"
   },
   {
    "duration": 10,
    "start_time": "2022-07-03T18:19:50.280Z"
   },
   {
    "duration": 142,
    "start_time": "2022-07-03T18:19:50.293Z"
   },
   {
    "duration": 193,
    "start_time": "2022-07-03T18:19:50.436Z"
   },
   {
    "duration": 113,
    "start_time": "2022-07-03T18:19:50.632Z"
   },
   {
    "duration": 4,
    "start_time": "2022-07-03T18:19:50.747Z"
   },
   {
    "duration": 111,
    "start_time": "2022-07-03T18:19:50.829Z"
   },
   {
    "duration": 12,
    "start_time": "2022-07-03T18:19:50.942Z"
   },
   {
    "duration": 13,
    "start_time": "2022-07-03T18:19:50.956Z"
   },
   {
    "duration": 15,
    "start_time": "2022-07-03T18:19:50.971Z"
   },
   {
    "duration": 12,
    "start_time": "2022-07-03T18:19:50.989Z"
   },
   {
    "duration": 25,
    "start_time": "2022-07-03T18:19:51.003Z"
   },
   {
    "duration": 8,
    "start_time": "2022-07-03T18:19:51.029Z"
   },
   {
    "duration": 13,
    "start_time": "2022-07-03T18:19:51.038Z"
   },
   {
    "duration": 8,
    "start_time": "2022-07-03T18:19:51.052Z"
   },
   {
    "duration": 12,
    "start_time": "2022-07-03T18:19:51.061Z"
   },
   {
    "duration": 9,
    "start_time": "2022-07-03T18:19:51.074Z"
   },
   {
    "duration": 16,
    "start_time": "2022-07-03T18:19:51.085Z"
   },
   {
    "duration": 10,
    "start_time": "2022-07-03T18:19:51.103Z"
   },
   {
    "duration": 19,
    "start_time": "2022-07-03T18:19:51.114Z"
   },
   {
    "duration": 16,
    "start_time": "2022-07-03T18:19:51.135Z"
   },
   {
    "duration": 16,
    "start_time": "2022-07-03T18:19:51.153Z"
   },
   {
    "duration": 28,
    "start_time": "2022-07-03T18:19:51.170Z"
   },
   {
    "duration": 12,
    "start_time": "2022-07-03T18:20:56.817Z"
   },
   {
    "duration": 11,
    "start_time": "2022-07-03T18:21:14.424Z"
   },
   {
    "duration": 7,
    "start_time": "2022-07-03T18:22:49.558Z"
   },
   {
    "duration": 2,
    "start_time": "2022-07-03T18:22:59.405Z"
   },
   {
    "duration": 4,
    "start_time": "2022-07-03T18:23:04.721Z"
   },
   {
    "duration": 4,
    "start_time": "2022-07-03T18:23:11.620Z"
   },
   {
    "duration": 84,
    "start_time": "2022-07-03T18:23:26.094Z"
   },
   {
    "duration": 4,
    "start_time": "2022-07-03T18:23:29.352Z"
   },
   {
    "duration": 4,
    "start_time": "2022-07-03T18:23:35.892Z"
   },
   {
    "duration": 8,
    "start_time": "2022-07-03T18:25:09.496Z"
   },
   {
    "duration": 6,
    "start_time": "2022-07-03T18:25:31.767Z"
   },
   {
    "duration": 87,
    "start_time": "2022-07-03T18:27:46.608Z"
   },
   {
    "duration": 22,
    "start_time": "2022-07-03T18:28:28.968Z"
   },
   {
    "duration": 22,
    "start_time": "2022-07-03T18:28:54.262Z"
   },
   {
    "duration": 21,
    "start_time": "2022-07-03T18:29:09.292Z"
   },
   {
    "duration": 9,
    "start_time": "2022-07-03T18:29:50.299Z"
   },
   {
    "duration": 8,
    "start_time": "2022-07-03T18:30:23.102Z"
   },
   {
    "duration": 7,
    "start_time": "2022-07-03T18:30:41.831Z"
   },
   {
    "duration": 10,
    "start_time": "2022-07-03T18:30:48.855Z"
   },
   {
    "duration": 16,
    "start_time": "2022-07-03T18:31:23.563Z"
   },
   {
    "duration": 9,
    "start_time": "2022-07-03T18:31:38.281Z"
   },
   {
    "duration": 16,
    "start_time": "2022-07-03T19:07:27.999Z"
   },
   {
    "duration": 11,
    "start_time": "2022-07-03T19:07:57.492Z"
   },
   {
    "duration": 3,
    "start_time": "2022-07-03T19:08:38.787Z"
   },
   {
    "duration": 332,
    "start_time": "2022-07-03T19:08:38.792Z"
   },
   {
    "duration": 9,
    "start_time": "2022-07-03T19:08:39.126Z"
   },
   {
    "duration": 12,
    "start_time": "2022-07-03T19:08:39.136Z"
   },
   {
    "duration": 14,
    "start_time": "2022-07-03T19:08:39.149Z"
   },
   {
    "duration": 18,
    "start_time": "2022-07-03T19:08:39.165Z"
   },
   {
    "duration": 16,
    "start_time": "2022-07-03T19:08:39.184Z"
   },
   {
    "duration": 35,
    "start_time": "2022-07-03T19:08:39.202Z"
   },
   {
    "duration": 5,
    "start_time": "2022-07-03T19:08:39.239Z"
   },
   {
    "duration": 7,
    "start_time": "2022-07-03T19:08:39.246Z"
   },
   {
    "duration": 7,
    "start_time": "2022-07-03T19:08:39.254Z"
   },
   {
    "duration": 70,
    "start_time": "2022-07-03T19:08:39.263Z"
   },
   {
    "duration": 102,
    "start_time": "2022-07-03T19:08:39.335Z"
   },
   {
    "duration": 197,
    "start_time": "2022-07-03T19:08:39.438Z"
   },
   {
    "duration": 91,
    "start_time": "2022-07-03T19:08:39.638Z"
   },
   {
    "duration": 2,
    "start_time": "2022-07-03T19:08:39.731Z"
   },
   {
    "duration": 95,
    "start_time": "2022-07-03T19:08:39.735Z"
   },
   {
    "duration": 6,
    "start_time": "2022-07-03T19:08:39.831Z"
   },
   {
    "duration": 8,
    "start_time": "2022-07-03T19:08:39.838Z"
   },
   {
    "duration": 5,
    "start_time": "2022-07-03T19:08:39.848Z"
   },
   {
    "duration": 6,
    "start_time": "2022-07-03T19:08:39.854Z"
   },
   {
    "duration": 5,
    "start_time": "2022-07-03T19:08:39.862Z"
   },
   {
    "duration": 5,
    "start_time": "2022-07-03T19:08:39.868Z"
   },
   {
    "duration": 4,
    "start_time": "2022-07-03T19:08:39.874Z"
   },
   {
    "duration": 6,
    "start_time": "2022-07-03T19:08:39.880Z"
   },
   {
    "duration": 6,
    "start_time": "2022-07-03T19:08:39.887Z"
   },
   {
    "duration": 10,
    "start_time": "2022-07-03T19:08:39.894Z"
   },
   {
    "duration": 10,
    "start_time": "2022-07-03T19:08:39.931Z"
   },
   {
    "duration": 7,
    "start_time": "2022-07-03T19:08:39.943Z"
   },
   {
    "duration": 6,
    "start_time": "2022-07-03T19:08:39.952Z"
   },
   {
    "duration": 8,
    "start_time": "2022-07-03T19:08:39.959Z"
   },
   {
    "duration": 8,
    "start_time": "2022-07-03T19:08:41.861Z"
   },
   {
    "duration": 10,
    "start_time": "2022-07-03T19:08:42.762Z"
   },
   {
    "duration": 20,
    "start_time": "2022-07-03T19:10:24.659Z"
   },
   {
    "duration": 5,
    "start_time": "2022-07-03T19:10:30.300Z"
   },
   {
    "duration": 14,
    "start_time": "2022-07-03T19:10:40.813Z"
   },
   {
    "duration": 6,
    "start_time": "2022-07-03T19:10:48.299Z"
   },
   {
    "duration": 4,
    "start_time": "2022-07-03T19:11:10.269Z"
   },
   {
    "duration": 21,
    "start_time": "2022-07-03T19:12:07.912Z"
   },
   {
    "duration": 22,
    "start_time": "2022-07-03T19:12:09.535Z"
   },
   {
    "duration": 21,
    "start_time": "2022-07-03T19:12:10.410Z"
   },
   {
    "duration": 4,
    "start_time": "2022-07-03T19:12:12.339Z"
   },
   {
    "duration": 2,
    "start_time": "2022-07-03T19:12:25.040Z"
   },
   {
    "duration": 2,
    "start_time": "2022-07-03T19:12:25.811Z"
   },
   {
    "duration": 5,
    "start_time": "2022-07-03T19:13:37.588Z"
   },
   {
    "duration": 4,
    "start_time": "2022-07-03T19:13:38.753Z"
   },
   {
    "duration": 4,
    "start_time": "2022-07-03T19:13:39.191Z"
   },
   {
    "duration": 6,
    "start_time": "2022-07-03T19:13:40.485Z"
   },
   {
    "duration": 5,
    "start_time": "2022-07-03T19:13:40.687Z"
   },
   {
    "duration": 6,
    "start_time": "2022-07-03T19:13:41.085Z"
   },
   {
    "duration": 3,
    "start_time": "2022-07-03T19:13:41.995Z"
   },
   {
    "duration": 3,
    "start_time": "2022-07-03T19:13:42.257Z"
   },
   {
    "duration": 3,
    "start_time": "2022-07-03T19:13:42.657Z"
   },
   {
    "duration": 3,
    "start_time": "2022-07-03T19:15:24.120Z"
   },
   {
    "duration": 7,
    "start_time": "2022-07-03T19:15:24.405Z"
   },
   {
    "duration": 7,
    "start_time": "2022-07-03T19:15:24.885Z"
   },
   {
    "duration": 6,
    "start_time": "2022-07-03T19:15:25.240Z"
   },
   {
    "duration": 9,
    "start_time": "2022-07-03T19:15:26.401Z"
   },
   {
    "duration": 10,
    "start_time": "2022-07-03T19:15:27.691Z"
   },
   {
    "duration": 11,
    "start_time": "2022-07-03T19:15:59.591Z"
   },
   {
    "duration": 9,
    "start_time": "2022-07-03T19:16:19.654Z"
   },
   {
    "duration": 12,
    "start_time": "2022-07-03T19:18:08.532Z"
   },
   {
    "duration": 3,
    "start_time": "2022-07-03T19:19:55.392Z"
   },
   {
    "duration": 6,
    "start_time": "2022-07-03T19:20:01.847Z"
   },
   {
    "duration": 6,
    "start_time": "2022-07-03T19:20:34.711Z"
   },
   {
    "duration": 9,
    "start_time": "2022-07-03T19:20:55.497Z"
   },
   {
    "duration": 12,
    "start_time": "2022-07-03T19:21:06.753Z"
   },
   {
    "duration": 12,
    "start_time": "2022-07-03T19:21:50.936Z"
   },
   {
    "duration": 8,
    "start_time": "2022-07-03T19:22:00.316Z"
   },
   {
    "duration": 10,
    "start_time": "2022-07-03T19:24:49.687Z"
   },
   {
    "duration": 4,
    "start_time": "2022-07-03T19:25:06.190Z"
   },
   {
    "duration": 14,
    "start_time": "2022-07-03T19:25:11.256Z"
   },
   {
    "duration": 14,
    "start_time": "2022-07-03T19:25:44.950Z"
   },
   {
    "duration": 14,
    "start_time": "2022-07-03T19:26:04.626Z"
   },
   {
    "duration": 10,
    "start_time": "2022-07-03T19:26:15.179Z"
   },
   {
    "duration": 15,
    "start_time": "2022-07-03T19:26:24.958Z"
   },
   {
    "duration": 969,
    "start_time": "2022-07-03T19:26:48.017Z"
   },
   {
    "duration": 1000,
    "start_time": "2022-07-03T19:28:05.345Z"
   },
   {
    "duration": 946,
    "start_time": "2022-07-03T19:28:26.188Z"
   },
   {
    "duration": 760,
    "start_time": "2022-07-03T20:09:56.503Z"
   },
   {
    "duration": 830,
    "start_time": "2022-07-03T20:11:26.064Z"
   },
   {
    "duration": 836,
    "start_time": "2022-07-03T20:11:50.467Z"
   },
   {
    "duration": 892,
    "start_time": "2022-07-03T20:14:46.651Z"
   },
   {
    "duration": 827,
    "start_time": "2022-07-03T20:14:56.612Z"
   },
   {
    "duration": 12,
    "start_time": "2022-07-03T20:15:30.704Z"
   },
   {
    "duration": 5,
    "start_time": "2022-07-03T20:16:24.499Z"
   },
   {
    "duration": 7,
    "start_time": "2022-07-03T20:16:29.672Z"
   },
   {
    "duration": 12,
    "start_time": "2022-07-03T20:16:52.987Z"
   },
   {
    "duration": 919,
    "start_time": "2022-07-03T20:17:19.051Z"
   },
   {
    "duration": 14,
    "start_time": "2022-07-03T20:17:20.351Z"
   },
   {
    "duration": 819,
    "start_time": "2022-07-03T20:17:34.304Z"
   },
   {
    "duration": 10,
    "start_time": "2022-07-03T20:19:39.319Z"
   },
   {
    "duration": 10,
    "start_time": "2022-07-03T20:19:46.266Z"
   },
   {
    "duration": 10,
    "start_time": "2022-07-03T20:19:50.348Z"
   },
   {
    "duration": 3,
    "start_time": "2022-07-03T20:20:21.354Z"
   },
   {
    "duration": 9,
    "start_time": "2022-07-03T20:20:29.018Z"
   },
   {
    "duration": 8,
    "start_time": "2022-07-03T20:20:48.645Z"
   },
   {
    "duration": 5,
    "start_time": "2022-07-03T20:21:00.125Z"
   },
   {
    "duration": 5,
    "start_time": "2022-07-03T20:21:05.006Z"
   },
   {
    "duration": 7,
    "start_time": "2022-07-03T20:21:13.726Z"
   },
   {
    "duration": 6,
    "start_time": "2022-07-03T20:22:07.025Z"
   },
   {
    "duration": 7,
    "start_time": "2022-07-03T20:22:21.805Z"
   },
   {
    "duration": 6,
    "start_time": "2022-07-03T20:22:29.752Z"
   },
   {
    "duration": 7,
    "start_time": "2022-07-03T20:29:10.084Z"
   },
   {
    "duration": 7,
    "start_time": "2022-07-03T20:29:18.285Z"
   },
   {
    "duration": 6,
    "start_time": "2022-07-03T20:29:32.970Z"
   },
   {
    "duration": 7,
    "start_time": "2022-07-03T20:29:40.386Z"
   },
   {
    "duration": 8,
    "start_time": "2022-07-03T20:30:01.179Z"
   },
   {
    "duration": 3,
    "start_time": "2022-07-03T20:30:44.856Z"
   },
   {
    "duration": 7,
    "start_time": "2022-07-03T20:30:51.152Z"
   },
   {
    "duration": 1428,
    "start_time": "2022-07-03T20:33:50.151Z"
   },
   {
    "duration": 27,
    "start_time": "2022-07-03T20:34:39.715Z"
   },
   {
    "duration": 1049,
    "start_time": "2022-07-03T20:34:46.455Z"
   },
   {
    "duration": 7,
    "start_time": "2022-07-03T20:36:19.757Z"
   },
   {
    "duration": 803,
    "start_time": "2022-07-03T20:58:59.056Z"
   },
   {
    "duration": 1047,
    "start_time": "2022-07-03T21:00:16.056Z"
   },
   {
    "duration": 819,
    "start_time": "2022-07-03T21:03:32.083Z"
   },
   {
    "duration": 836,
    "start_time": "2022-07-03T21:04:10.511Z"
   },
   {
    "duration": 876,
    "start_time": "2022-07-03T21:04:19.457Z"
   },
   {
    "duration": 15,
    "start_time": "2022-07-03T21:05:22.967Z"
   },
   {
    "duration": 849,
    "start_time": "2022-07-03T21:05:26.163Z"
   },
   {
    "duration": 12,
    "start_time": "2022-07-03T21:07:48.497Z"
   },
   {
    "duration": 18,
    "start_time": "2022-07-03T21:08:06.257Z"
   },
   {
    "duration": 16,
    "start_time": "2022-07-03T21:08:19.268Z"
   },
   {
    "duration": 20,
    "start_time": "2022-07-03T21:08:46.099Z"
   },
   {
    "duration": 5,
    "start_time": "2022-07-03T21:09:25.701Z"
   },
   {
    "duration": 13,
    "start_time": "2022-07-03T21:10:02.053Z"
   },
   {
    "duration": 6,
    "start_time": "2022-07-03T21:10:29.750Z"
   },
   {
    "duration": 13,
    "start_time": "2022-07-03T21:11:00.581Z"
   },
   {
    "duration": 5,
    "start_time": "2022-07-03T21:13:22.556Z"
   },
   {
    "duration": 4,
    "start_time": "2022-07-03T21:14:56.982Z"
   },
   {
    "duration": 6,
    "start_time": "2022-07-03T21:15:06.382Z"
   },
   {
    "duration": 6,
    "start_time": "2022-07-03T21:31:30.683Z"
   },
   {
    "duration": 5,
    "start_time": "2022-07-03T21:31:34.710Z"
   },
   {
    "duration": 5,
    "start_time": "2022-07-03T21:31:38.230Z"
   },
   {
    "duration": 8,
    "start_time": "2022-07-03T21:31:48.746Z"
   },
   {
    "duration": 6,
    "start_time": "2022-07-03T21:32:45.703Z"
   },
   {
    "duration": 40,
    "start_time": "2022-07-03T21:32:50.201Z"
   },
   {
    "duration": 6,
    "start_time": "2022-07-03T21:32:50.851Z"
   },
   {
    "duration": 27,
    "start_time": "2022-07-03T21:33:08.770Z"
   },
   {
    "duration": 6,
    "start_time": "2022-07-03T21:33:09.904Z"
   },
   {
    "duration": 24,
    "start_time": "2022-07-03T21:33:21.063Z"
   },
   {
    "duration": 21,
    "start_time": "2022-07-03T21:33:27.393Z"
   },
   {
    "duration": 22,
    "start_time": "2022-07-03T21:33:30.207Z"
   },
   {
    "duration": 20,
    "start_time": "2022-07-03T21:33:30.679Z"
   },
   {
    "duration": 2,
    "start_time": "2022-07-03T21:33:32.852Z"
   },
   {
    "duration": 3,
    "start_time": "2022-07-03T21:33:33.733Z"
   },
   {
    "duration": 6,
    "start_time": "2022-07-03T21:33:33.982Z"
   },
   {
    "duration": 5,
    "start_time": "2022-07-03T21:33:34.145Z"
   },
   {
    "duration": 4,
    "start_time": "2022-07-03T21:33:34.313Z"
   },
   {
    "duration": 7,
    "start_time": "2022-07-03T21:33:35.170Z"
   },
   {
    "duration": 6,
    "start_time": "2022-07-03T21:33:35.330Z"
   },
   {
    "duration": 5,
    "start_time": "2022-07-03T21:33:35.561Z"
   },
   {
    "duration": 5,
    "start_time": "2022-07-03T21:33:36.003Z"
   },
   {
    "duration": 4,
    "start_time": "2022-07-03T21:33:36.154Z"
   },
   {
    "duration": 4,
    "start_time": "2022-07-03T21:33:36.423Z"
   },
   {
    "duration": 3,
    "start_time": "2022-07-03T21:33:36.754Z"
   },
   {
    "duration": 7,
    "start_time": "2022-07-03T21:33:36.967Z"
   },
   {
    "duration": 7,
    "start_time": "2022-07-03T21:33:37.163Z"
   },
   {
    "duration": 8,
    "start_time": "2022-07-03T21:33:37.341Z"
   },
   {
    "duration": 9,
    "start_time": "2022-07-03T21:33:39.072Z"
   },
   {
    "duration": 807,
    "start_time": "2022-07-03T21:33:40.618Z"
   },
   {
    "duration": 761,
    "start_time": "2022-07-03T21:34:00.120Z"
   },
   {
    "duration": 1016,
    "start_time": "2022-07-03T21:34:13.082Z"
   },
   {
    "duration": 980,
    "start_time": "2022-07-03T21:34:27.982Z"
   },
   {
    "duration": 854,
    "start_time": "2022-07-03T21:34:34.041Z"
   },
   {
    "duration": 901,
    "start_time": "2022-07-03T21:34:55.847Z"
   },
   {
    "duration": 937,
    "start_time": "2022-07-03T21:35:18.659Z"
   },
   {
    "duration": 7,
    "start_time": "2022-07-03T21:35:25.948Z"
   },
   {
    "duration": 6,
    "start_time": "2022-07-03T21:35:27.410Z"
   },
   {
    "duration": 853,
    "start_time": "2022-07-03T21:36:32.267Z"
   },
   {
    "duration": 926,
    "start_time": "2022-07-03T21:36:53.107Z"
   },
   {
    "duration": 872,
    "start_time": "2022-07-03T21:37:13.910Z"
   },
   {
    "duration": 900,
    "start_time": "2022-07-03T21:37:43.633Z"
   },
   {
    "duration": 853,
    "start_time": "2022-07-03T21:38:40.112Z"
   },
   {
    "duration": 933,
    "start_time": "2022-07-03T21:39:03.368Z"
   },
   {
    "duration": 908,
    "start_time": "2022-07-03T21:39:13.337Z"
   },
   {
    "duration": 18,
    "start_time": "2022-07-03T21:40:04.364Z"
   },
   {
    "duration": 923,
    "start_time": "2022-07-03T21:40:35.432Z"
   },
   {
    "duration": 13,
    "start_time": "2022-07-03T21:40:43.554Z"
   },
   {
    "duration": 1115,
    "start_time": "2022-07-03T21:41:15.639Z"
   },
   {
    "duration": 1047,
    "start_time": "2022-07-03T21:41:35.656Z"
   },
   {
    "duration": 903,
    "start_time": "2022-07-03T21:41:44.641Z"
   },
   {
    "duration": 915,
    "start_time": "2022-07-03T21:41:53.603Z"
   },
   {
    "duration": 855,
    "start_time": "2022-07-03T21:42:29.021Z"
   },
   {
    "duration": 896,
    "start_time": "2022-07-03T21:42:37.781Z"
   },
   {
    "duration": 879,
    "start_time": "2022-07-03T21:42:44.633Z"
   },
   {
    "duration": 874,
    "start_time": "2022-07-03T21:42:54.715Z"
   },
   {
    "duration": 995,
    "start_time": "2022-07-03T21:43:09.043Z"
   },
   {
    "duration": 59,
    "start_time": "2022-07-04T09:12:09.529Z"
   },
   {
    "duration": 1111,
    "start_time": "2022-07-04T09:12:13.182Z"
   },
   {
    "duration": 883,
    "start_time": "2022-07-04T09:12:14.295Z"
   },
   {
    "duration": 18,
    "start_time": "2022-07-04T09:12:15.180Z"
   },
   {
    "duration": 9,
    "start_time": "2022-07-04T09:12:15.200Z"
   },
   {
    "duration": 23,
    "start_time": "2022-07-04T09:12:15.212Z"
   },
   {
    "duration": 28,
    "start_time": "2022-07-04T09:12:15.237Z"
   },
   {
    "duration": 16,
    "start_time": "2022-07-04T09:12:15.269Z"
   },
   {
    "duration": 30,
    "start_time": "2022-07-04T09:12:15.287Z"
   },
   {
    "duration": 7,
    "start_time": "2022-07-04T09:12:15.319Z"
   },
   {
    "duration": 14,
    "start_time": "2022-07-04T09:12:15.328Z"
   },
   {
    "duration": 44,
    "start_time": "2022-07-04T09:12:15.344Z"
   },
   {
    "duration": 43,
    "start_time": "2022-07-04T09:12:15.390Z"
   },
   {
    "duration": 28,
    "start_time": "2022-07-04T09:12:15.435Z"
   },
   {
    "duration": 136,
    "start_time": "2022-07-04T09:12:15.470Z"
   },
   {
    "duration": 137,
    "start_time": "2022-07-04T09:12:15.657Z"
   },
   {
    "duration": 185,
    "start_time": "2022-07-04T09:12:15.799Z"
   },
   {
    "duration": 7,
    "start_time": "2022-07-04T09:12:15.986Z"
   },
   {
    "duration": 8,
    "start_time": "2022-07-04T09:12:15.994Z"
   },
   {
    "duration": 6,
    "start_time": "2022-07-04T09:12:16.004Z"
   },
   {
    "duration": 8,
    "start_time": "2022-07-04T09:12:16.012Z"
   },
   {
    "duration": 19,
    "start_time": "2022-07-04T09:12:16.022Z"
   },
   {
    "duration": 9,
    "start_time": "2022-07-04T09:12:16.043Z"
   },
   {
    "duration": 45,
    "start_time": "2022-07-04T09:12:16.054Z"
   },
   {
    "duration": 8,
    "start_time": "2022-07-04T09:12:16.101Z"
   },
   {
    "duration": 20,
    "start_time": "2022-07-04T09:12:16.111Z"
   },
   {
    "duration": 15,
    "start_time": "2022-07-04T09:12:16.133Z"
   },
   {
    "duration": 47,
    "start_time": "2022-07-04T09:12:16.150Z"
   },
   {
    "duration": 10,
    "start_time": "2022-07-04T09:12:16.200Z"
   },
   {
    "duration": 9,
    "start_time": "2022-07-04T09:12:16.211Z"
   },
   {
    "duration": 8,
    "start_time": "2022-07-04T09:12:16.222Z"
   },
   {
    "duration": 15,
    "start_time": "2022-07-04T09:12:16.231Z"
   },
   {
    "duration": 1499,
    "start_time": "2022-07-04T09:12:16.248Z"
   },
   {
    "duration": 948,
    "start_time": "2022-07-04T09:12:17.751Z"
   },
   {
    "duration": 1003,
    "start_time": "2022-07-04T09:12:18.701Z"
   },
   {
    "duration": 7,
    "start_time": "2022-07-04T09:12:19.707Z"
   },
   {
    "duration": 13,
    "start_time": "2022-07-04T09:12:19.716Z"
   },
   {
    "duration": 28,
    "start_time": "2022-07-04T09:12:19.731Z"
   },
   {
    "duration": 12,
    "start_time": "2022-07-04T09:12:19.762Z"
   },
   {
    "duration": 30,
    "start_time": "2022-07-04T09:12:34.146Z"
   },
   {
    "duration": 10,
    "start_time": "2022-07-04T09:14:09.572Z"
   },
   {
    "duration": 11,
    "start_time": "2022-07-04T09:14:36.247Z"
   },
   {
    "duration": 6,
    "start_time": "2022-07-04T09:14:43.329Z"
   },
   {
    "duration": 7,
    "start_time": "2022-07-04T09:15:00.045Z"
   },
   {
    "duration": 1306,
    "start_time": "2022-07-04T09:15:36.016Z"
   },
   {
    "duration": 1397,
    "start_time": "2022-07-04T09:15:44.808Z"
   },
   {
    "duration": 1271,
    "start_time": "2022-07-04T09:16:13.597Z"
   },
   {
    "duration": 1273,
    "start_time": "2022-07-04T09:17:32.520Z"
   },
   {
    "duration": 1239,
    "start_time": "2022-07-04T09:18:16.251Z"
   },
   {
    "duration": 1055,
    "start_time": "2022-07-04T09:19:05.012Z"
   },
   {
    "duration": 1057,
    "start_time": "2022-07-04T09:19:28.022Z"
   },
   {
    "duration": 1025,
    "start_time": "2022-07-04T09:20:02.802Z"
   },
   {
    "duration": 988,
    "start_time": "2022-07-04T09:20:19.991Z"
   },
   {
    "duration": 1073,
    "start_time": "2022-07-04T09:22:44.164Z"
   },
   {
    "duration": 993,
    "start_time": "2022-07-04T09:22:52.564Z"
   },
   {
    "duration": 1076,
    "start_time": "2022-07-04T09:23:01.680Z"
   },
   {
    "duration": 1004,
    "start_time": "2022-07-04T09:23:12.515Z"
   },
   {
    "duration": 989,
    "start_time": "2022-07-04T09:23:24.111Z"
   },
   {
    "duration": 1093,
    "start_time": "2022-07-04T09:24:07.287Z"
   },
   {
    "duration": 1053,
    "start_time": "2022-07-04T09:24:25.846Z"
   },
   {
    "duration": 1069,
    "start_time": "2022-07-04T09:24:34.604Z"
   },
   {
    "duration": 1153,
    "start_time": "2022-07-04T09:24:44.215Z"
   },
   {
    "duration": 1042,
    "start_time": "2022-07-04T09:25:01.151Z"
   },
   {
    "duration": 1053,
    "start_time": "2022-07-04T09:25:08.436Z"
   },
   {
    "duration": 72,
    "start_time": "2022-07-04T09:30:07.578Z"
   },
   {
    "duration": 3,
    "start_time": "2022-07-04T09:30:30.219Z"
   },
   {
    "duration": 395,
    "start_time": "2022-07-04T09:30:30.225Z"
   },
   {
    "duration": 10,
    "start_time": "2022-07-04T09:30:30.622Z"
   },
   {
    "duration": 96,
    "start_time": "2022-07-04T09:30:30.634Z"
   },
   {
    "duration": 64,
    "start_time": "2022-07-04T09:30:30.733Z"
   },
   {
    "duration": 58,
    "start_time": "2022-07-04T09:30:30.798Z"
   },
   {
    "duration": 54,
    "start_time": "2022-07-04T09:30:30.860Z"
   },
   {
    "duration": 21,
    "start_time": "2022-07-04T09:30:30.917Z"
   },
   {
    "duration": 83,
    "start_time": "2022-07-04T09:30:30.940Z"
   },
   {
    "duration": 90,
    "start_time": "2022-07-04T09:30:31.025Z"
   },
   {
    "duration": 16,
    "start_time": "2022-07-04T09:30:31.118Z"
   },
   {
    "duration": 83,
    "start_time": "2022-07-04T09:30:31.136Z"
   },
   {
    "duration": 108,
    "start_time": "2022-07-04T09:30:31.258Z"
   },
   {
    "duration": 188,
    "start_time": "2022-07-04T09:30:31.373Z"
   },
   {
    "duration": 93,
    "start_time": "2022-07-04T09:30:31.568Z"
   },
   {
    "duration": 83,
    "start_time": "2022-07-04T09:30:31.671Z"
   },
   {
    "duration": 42,
    "start_time": "2022-07-04T09:30:31.759Z"
   },
   {
    "duration": 22,
    "start_time": "2022-07-04T09:30:31.803Z"
   },
   {
    "duration": 14,
    "start_time": "2022-07-04T09:30:31.826Z"
   },
   {
    "duration": 10,
    "start_time": "2022-07-04T09:30:31.841Z"
   },
   {
    "duration": 33,
    "start_time": "2022-07-04T09:30:31.858Z"
   },
   {
    "duration": 10,
    "start_time": "2022-07-04T09:30:31.892Z"
   },
   {
    "duration": 10,
    "start_time": "2022-07-04T09:30:31.903Z"
   },
   {
    "duration": 16,
    "start_time": "2022-07-04T09:30:31.915Z"
   },
   {
    "duration": 9,
    "start_time": "2022-07-04T09:30:31.933Z"
   },
   {
    "duration": 38,
    "start_time": "2022-07-04T09:30:31.944Z"
   },
   {
    "duration": 18,
    "start_time": "2022-07-04T09:30:31.983Z"
   },
   {
    "duration": 13,
    "start_time": "2022-07-04T09:30:32.003Z"
   },
   {
    "duration": 11,
    "start_time": "2022-07-04T09:30:32.017Z"
   },
   {
    "duration": 8,
    "start_time": "2022-07-04T09:30:32.030Z"
   },
   {
    "duration": 17,
    "start_time": "2022-07-04T09:30:32.040Z"
   },
   {
    "duration": 1115,
    "start_time": "2022-07-04T09:30:32.059Z"
   },
   {
    "duration": 985,
    "start_time": "2022-07-04T09:30:33.179Z"
   },
   {
    "duration": 31,
    "start_time": "2022-07-04T09:30:34.171Z"
   },
   {
    "duration": 18,
    "start_time": "2022-07-04T09:30:35.776Z"
   },
   {
    "duration": 18,
    "start_time": "2022-07-04T09:31:04.793Z"
   },
   {
    "duration": 7,
    "start_time": "2022-07-04T09:31:16.098Z"
   },
   {
    "duration": 5,
    "start_time": "2022-07-04T09:31:24.985Z"
   },
   {
    "duration": 4,
    "start_time": "2022-07-04T09:31:31.110Z"
   },
   {
    "duration": 4,
    "start_time": "2022-07-04T09:32:20.917Z"
   },
   {
    "duration": 46,
    "start_time": "2022-07-04T09:32:37.085Z"
   },
   {
    "duration": 5,
    "start_time": "2022-07-04T09:32:41.819Z"
   },
   {
    "duration": 5,
    "start_time": "2022-07-04T09:32:51.050Z"
   },
   {
    "duration": 5,
    "start_time": "2022-07-04T09:33:06.835Z"
   },
   {
    "duration": 7,
    "start_time": "2022-07-04T09:33:14.599Z"
   },
   {
    "duration": 6,
    "start_time": "2022-07-04T09:33:48.288Z"
   },
   {
    "duration": 7,
    "start_time": "2022-07-04T09:33:56.612Z"
   },
   {
    "duration": 7,
    "start_time": "2022-07-04T09:34:45.393Z"
   },
   {
    "duration": 7,
    "start_time": "2022-07-04T09:34:57.581Z"
   },
   {
    "duration": 5,
    "start_time": "2022-07-04T09:35:02.007Z"
   },
   {
    "duration": 1196,
    "start_time": "2022-07-04T09:35:24.585Z"
   },
   {
    "duration": 1292,
    "start_time": "2022-07-04T09:35:35.341Z"
   },
   {
    "duration": 120,
    "start_time": "2022-07-04T09:36:09.213Z"
   },
   {
    "duration": 10,
    "start_time": "2022-07-04T09:36:16.575Z"
   },
   {
    "duration": 6,
    "start_time": "2022-07-04T09:38:28.378Z"
   },
   {
    "duration": 5,
    "start_time": "2022-07-04T09:38:48.696Z"
   },
   {
    "duration": 58,
    "start_time": "2022-07-04T09:39:02.167Z"
   },
   {
    "duration": 12,
    "start_time": "2022-07-04T09:39:06.349Z"
   },
   {
    "duration": 5,
    "start_time": "2022-07-04T09:39:14.311Z"
   },
   {
    "duration": 7,
    "start_time": "2022-07-04T09:39:51.837Z"
   },
   {
    "duration": 5,
    "start_time": "2022-07-04T09:41:14.100Z"
   },
   {
    "duration": 7,
    "start_time": "2022-07-04T09:41:25.603Z"
   },
   {
    "duration": 6,
    "start_time": "2022-07-04T09:42:26.936Z"
   },
   {
    "duration": 9,
    "start_time": "2022-07-04T09:42:54.818Z"
   },
   {
    "duration": 15,
    "start_time": "2022-07-04T09:43:10.146Z"
   },
   {
    "duration": 11,
    "start_time": "2022-07-04T09:43:23.200Z"
   },
   {
    "duration": 5,
    "start_time": "2022-07-04T09:43:30.629Z"
   },
   {
    "duration": 4,
    "start_time": "2022-07-04T09:49:57.324Z"
   },
   {
    "duration": 1127,
    "start_time": "2022-07-04T09:55:18.472Z"
   },
   {
    "duration": 1076,
    "start_time": "2022-07-04T09:55:40.110Z"
   },
   {
    "duration": 1120,
    "start_time": "2022-07-04T09:56:23.826Z"
   },
   {
    "duration": 1127,
    "start_time": "2022-07-04T09:57:47.518Z"
   },
   {
    "duration": 1319,
    "start_time": "2022-07-04T10:01:21.722Z"
   },
   {
    "duration": 1078,
    "start_time": "2022-07-04T10:02:21.192Z"
   },
   {
    "duration": 18,
    "start_time": "2022-07-04T10:02:53.846Z"
   },
   {
    "duration": 1154,
    "start_time": "2022-07-04T10:03:06.416Z"
   },
   {
    "duration": 1136,
    "start_time": "2022-07-04T10:10:52.557Z"
   },
   {
    "duration": 1117,
    "start_time": "2022-07-04T10:11:32.828Z"
   },
   {
    "duration": 4,
    "start_time": "2022-07-04T10:11:53.729Z"
   },
   {
    "duration": 476,
    "start_time": "2022-07-04T10:11:53.735Z"
   },
   {
    "duration": 12,
    "start_time": "2022-07-04T10:11:54.214Z"
   },
   {
    "duration": 20,
    "start_time": "2022-07-04T10:11:54.228Z"
   },
   {
    "duration": 31,
    "start_time": "2022-07-04T10:11:54.255Z"
   },
   {
    "duration": 25,
    "start_time": "2022-07-04T10:11:54.289Z"
   },
   {
    "duration": 15,
    "start_time": "2022-07-04T10:11:54.316Z"
   },
   {
    "duration": 24,
    "start_time": "2022-07-04T10:11:54.332Z"
   },
   {
    "duration": 4,
    "start_time": "2022-07-04T10:11:54.358Z"
   },
   {
    "duration": 29,
    "start_time": "2022-07-04T10:11:54.369Z"
   },
   {
    "duration": 15,
    "start_time": "2022-07-04T10:11:54.401Z"
   },
   {
    "duration": 65,
    "start_time": "2022-07-04T10:11:54.418Z"
   },
   {
    "duration": 75,
    "start_time": "2022-07-04T10:11:54.485Z"
   },
   {
    "duration": 114,
    "start_time": "2022-07-04T10:11:54.574Z"
   },
   {
    "duration": 182,
    "start_time": "2022-07-04T10:11:54.694Z"
   },
   {
    "duration": 107,
    "start_time": "2022-07-04T10:11:54.878Z"
   },
   {
    "duration": 27,
    "start_time": "2022-07-04T10:11:54.987Z"
   },
   {
    "duration": 25,
    "start_time": "2022-07-04T10:11:55.017Z"
   },
   {
    "duration": 63,
    "start_time": "2022-07-04T10:11:55.044Z"
   },
   {
    "duration": 31,
    "start_time": "2022-07-04T10:11:55.109Z"
   },
   {
    "duration": 37,
    "start_time": "2022-07-04T10:11:55.142Z"
   },
   {
    "duration": 32,
    "start_time": "2022-07-04T10:11:55.184Z"
   },
   {
    "duration": 19,
    "start_time": "2022-07-04T10:11:55.218Z"
   },
   {
    "duration": 47,
    "start_time": "2022-07-04T10:11:55.240Z"
   },
   {
    "duration": 27,
    "start_time": "2022-07-04T10:11:55.290Z"
   },
   {
    "duration": 24,
    "start_time": "2022-07-04T10:11:55.320Z"
   },
   {
    "duration": 66,
    "start_time": "2022-07-04T10:11:55.349Z"
   },
   {
    "duration": 23,
    "start_time": "2022-07-04T10:11:55.418Z"
   },
   {
    "duration": 42,
    "start_time": "2022-07-04T10:11:55.446Z"
   },
   {
    "duration": 49,
    "start_time": "2022-07-04T10:11:55.491Z"
   },
   {
    "duration": 40,
    "start_time": "2022-07-04T10:11:55.542Z"
   },
   {
    "duration": 26,
    "start_time": "2022-07-04T10:11:55.585Z"
   },
   {
    "duration": 29,
    "start_time": "2022-07-04T10:11:55.613Z"
   },
   {
    "duration": 0,
    "start_time": "2022-07-04T10:11:55.644Z"
   },
   {
    "duration": 1082,
    "start_time": "2022-07-04T10:11:57.424Z"
   },
   {
    "duration": 1197,
    "start_time": "2022-07-04T10:12:00.324Z"
   },
   {
    "duration": 11,
    "start_time": "2022-07-04T10:12:04.970Z"
   },
   {
    "duration": 1105,
    "start_time": "2022-07-04T10:12:05.537Z"
   },
   {
    "duration": 1170,
    "start_time": "2022-07-04T10:12:35.898Z"
   },
   {
    "duration": 1159,
    "start_time": "2022-07-04T10:12:38.736Z"
   },
   {
    "duration": 995,
    "start_time": "2022-07-04T10:35:24.097Z"
   },
   {
    "duration": 24,
    "start_time": "2022-07-04T10:40:48.637Z"
   },
   {
    "duration": 13,
    "start_time": "2022-07-04T10:41:00.007Z"
   },
   {
    "duration": 1765,
    "start_time": "2022-07-04T10:42:15.224Z"
   },
   {
    "duration": 1626,
    "start_time": "2022-07-04T10:43:49.078Z"
   },
   {
    "duration": 2,
    "start_time": "2022-07-04T10:44:20.895Z"
   },
   {
    "duration": 1705,
    "start_time": "2022-07-04T10:44:39.765Z"
   },
   {
    "duration": 1736,
    "start_time": "2022-07-04T10:45:18.796Z"
   },
   {
    "duration": 1684,
    "start_time": "2022-07-04T10:45:55.421Z"
   },
   {
    "duration": 1682,
    "start_time": "2022-07-04T10:46:23.069Z"
   },
   {
    "duration": 1652,
    "start_time": "2022-07-04T10:56:15.407Z"
   },
   {
    "duration": 1869,
    "start_time": "2022-07-04T10:56:49.767Z"
   },
   {
    "duration": 1656,
    "start_time": "2022-07-04T10:57:26.298Z"
   },
   {
    "duration": 3,
    "start_time": "2022-07-04T10:58:44.802Z"
   },
   {
    "duration": 6,
    "start_time": "2022-07-04T10:58:45.306Z"
   },
   {
    "duration": 6,
    "start_time": "2022-07-04T10:58:46.394Z"
   },
   {
    "duration": 3,
    "start_time": "2022-07-04T10:58:54.206Z"
   },
   {
    "duration": 3,
    "start_time": "2022-07-04T10:58:54.819Z"
   },
   {
    "duration": 6,
    "start_time": "2022-07-04T10:58:55.537Z"
   },
   {
    "duration": 5,
    "start_time": "2022-07-04T10:59:20.635Z"
   },
   {
    "duration": 5,
    "start_time": "2022-07-04T10:59:21.940Z"
   },
   {
    "duration": 4,
    "start_time": "2022-07-04T11:00:02.696Z"
   },
   {
    "duration": 6,
    "start_time": "2022-07-04T11:00:03.745Z"
   },
   {
    "duration": 3,
    "start_time": "2022-07-04T11:00:49.465Z"
   },
   {
    "duration": 3,
    "start_time": "2022-07-04T11:00:51.599Z"
   },
   {
    "duration": 3,
    "start_time": "2022-07-04T11:00:52.136Z"
   },
   {
    "duration": 5,
    "start_time": "2022-07-04T11:00:53.090Z"
   },
   {
    "duration": 8,
    "start_time": "2022-07-04T11:01:26.361Z"
   },
   {
    "duration": 3,
    "start_time": "2022-07-04T11:01:27.013Z"
   },
   {
    "duration": 5,
    "start_time": "2022-07-04T11:01:31.369Z"
   },
   {
    "duration": 5,
    "start_time": "2022-07-04T11:01:32.646Z"
   },
   {
    "duration": 5,
    "start_time": "2022-07-04T11:01:33.668Z"
   },
   {
    "duration": 8,
    "start_time": "2022-07-04T11:01:38.265Z"
   },
   {
    "duration": 7,
    "start_time": "2022-07-04T11:01:38.490Z"
   },
   {
    "duration": 8,
    "start_time": "2022-07-04T11:01:38.804Z"
   },
   {
    "duration": 4,
    "start_time": "2022-07-04T11:01:40.468Z"
   },
   {
    "duration": 12,
    "start_time": "2022-07-04T11:01:40.951Z"
   },
   {
    "duration": 5,
    "start_time": "2022-07-04T11:01:41.965Z"
   },
   {
    "duration": 3,
    "start_time": "2022-07-04T11:01:43.404Z"
   },
   {
    "duration": 8,
    "start_time": "2022-07-04T11:01:43.943Z"
   },
   {
    "duration": 8,
    "start_time": "2022-07-04T11:01:46.100Z"
   },
   {
    "duration": 7,
    "start_time": "2022-07-04T11:02:03.704Z"
   },
   {
    "duration": 4,
    "start_time": "2022-07-04T11:02:06.171Z"
   },
   {
    "duration": 10,
    "start_time": "2022-07-04T11:02:07.007Z"
   },
   {
    "duration": 1708,
    "start_time": "2022-07-04T11:02:08.128Z"
   },
   {
    "duration": 1650,
    "start_time": "2022-07-04T11:02:09.839Z"
   },
   {
    "duration": 5,
    "start_time": "2022-07-04T11:02:11.492Z"
   },
   {
    "duration": 1715,
    "start_time": "2022-07-04T11:02:11.499Z"
   },
   {
    "duration": 2,
    "start_time": "2022-07-04T11:03:02.019Z"
   },
   {
    "duration": 4,
    "start_time": "2022-07-04T11:03:02.815Z"
   },
   {
    "duration": 5,
    "start_time": "2022-07-04T11:03:03.739Z"
   },
   {
    "duration": 5,
    "start_time": "2022-07-04T11:03:04.243Z"
   },
   {
    "duration": 7,
    "start_time": "2022-07-04T11:03:05.970Z"
   },
   {
    "duration": 10,
    "start_time": "2022-07-04T11:03:06.156Z"
   },
   {
    "duration": 6,
    "start_time": "2022-07-04T11:03:06.340Z"
   },
   {
    "duration": 4,
    "start_time": "2022-07-04T11:03:06.934Z"
   },
   {
    "duration": 4,
    "start_time": "2022-07-04T11:03:07.107Z"
   },
   {
    "duration": 3,
    "start_time": "2022-07-04T11:03:07.798Z"
   },
   {
    "duration": 3,
    "start_time": "2022-07-04T11:03:08.686Z"
   },
   {
    "duration": 15,
    "start_time": "2022-07-04T11:03:08.946Z"
   },
   {
    "duration": 8,
    "start_time": "2022-07-04T11:03:09.113Z"
   },
   {
    "duration": 9,
    "start_time": "2022-07-04T11:03:09.313Z"
   },
   {
    "duration": 8,
    "start_time": "2022-07-04T11:03:10.255Z"
   },
   {
    "duration": 12,
    "start_time": "2022-07-04T11:03:10.447Z"
   },
   {
    "duration": 7,
    "start_time": "2022-07-04T11:12:53.006Z"
   },
   {
    "duration": 8,
    "start_time": "2022-07-04T11:13:04.764Z"
   },
   {
    "duration": 7,
    "start_time": "2022-07-04T11:13:11.493Z"
   },
   {
    "duration": 5,
    "start_time": "2022-07-04T11:50:21.437Z"
   },
   {
    "duration": 9,
    "start_time": "2022-07-04T11:54:12.795Z"
   },
   {
    "duration": 11,
    "start_time": "2022-07-04T11:54:28.724Z"
   },
   {
    "duration": 1693,
    "start_time": "2022-07-04T11:55:45.155Z"
   },
   {
    "duration": 1789,
    "start_time": "2022-07-04T11:56:04.031Z"
   },
   {
    "duration": 1832,
    "start_time": "2022-07-04T11:58:04.411Z"
   },
   {
    "duration": 1807,
    "start_time": "2022-07-04T11:59:34.106Z"
   },
   {
    "duration": 1752,
    "start_time": "2022-07-04T12:00:14.119Z"
   },
   {
    "duration": 1806,
    "start_time": "2022-07-04T12:00:30.401Z"
   },
   {
    "duration": 1763,
    "start_time": "2022-07-04T12:01:06.528Z"
   },
   {
    "duration": 1612,
    "start_time": "2022-07-04T12:01:40.892Z"
   },
   {
    "duration": 1691,
    "start_time": "2022-07-04T12:02:04.003Z"
   },
   {
    "duration": 1720,
    "start_time": "2022-07-04T12:02:21.704Z"
   },
   {
    "duration": 1646,
    "start_time": "2022-07-04T12:02:30.708Z"
   },
   {
    "duration": 1617,
    "start_time": "2022-07-04T12:02:38.812Z"
   },
   {
    "duration": 1623,
    "start_time": "2022-07-04T12:02:40.430Z"
   },
   {
    "duration": 1674,
    "start_time": "2022-07-04T12:03:29.705Z"
   },
   {
    "duration": 1648,
    "start_time": "2022-07-04T12:04:19.204Z"
   },
   {
    "duration": 1607,
    "start_time": "2022-07-04T12:04:27.950Z"
   },
   {
    "duration": 17,
    "start_time": "2022-07-04T13:45:07.572Z"
   },
   {
    "duration": 32,
    "start_time": "2022-07-04T13:45:30.136Z"
   },
   {
    "duration": 6,
    "start_time": "2022-07-04T13:45:48.954Z"
   },
   {
    "duration": 7,
    "start_time": "2022-07-04T13:47:57.913Z"
   },
   {
    "duration": 14,
    "start_time": "2022-07-04T13:48:01.699Z"
   },
   {
    "duration": 6,
    "start_time": "2022-07-04T13:48:06.486Z"
   },
   {
    "duration": 7,
    "start_time": "2022-07-04T13:48:34.324Z"
   },
   {
    "duration": 12,
    "start_time": "2022-07-04T13:51:50.299Z"
   },
   {
    "duration": 7,
    "start_time": "2022-07-04T13:52:12.541Z"
   },
   {
    "duration": 15,
    "start_time": "2022-07-04T13:52:45.301Z"
   },
   {
    "duration": 1889,
    "start_time": "2022-07-04T14:02:41.044Z"
   },
   {
    "duration": 13,
    "start_time": "2022-07-04T14:03:36.602Z"
   },
   {
    "duration": 1701,
    "start_time": "2022-07-04T14:04:50.052Z"
   },
   {
    "duration": 49,
    "start_time": "2022-07-04T14:08:48.643Z"
   },
   {
    "duration": 1736,
    "start_time": "2022-07-04T14:08:50.478Z"
   },
   {
    "duration": 1859,
    "start_time": "2022-07-04T14:09:02.993Z"
   },
   {
    "duration": 1930,
    "start_time": "2022-07-04T14:09:28.152Z"
   },
   {
    "duration": 1826,
    "start_time": "2022-07-04T14:09:46.727Z"
   },
   {
    "duration": 9,
    "start_time": "2022-07-04T14:18:07.825Z"
   },
   {
    "duration": 7,
    "start_time": "2022-07-04T14:18:13.617Z"
   },
   {
    "duration": 11,
    "start_time": "2022-07-04T14:19:13.674Z"
   },
   {
    "duration": 4,
    "start_time": "2022-07-04T14:19:24.993Z"
   },
   {
    "duration": 4,
    "start_time": "2022-07-04T14:19:50.571Z"
   },
   {
    "duration": 4,
    "start_time": "2022-07-04T14:20:00.092Z"
   },
   {
    "duration": 5,
    "start_time": "2022-07-04T14:20:01.939Z"
   },
   {
    "duration": 4,
    "start_time": "2022-07-04T14:20:03.075Z"
   },
   {
    "duration": 21,
    "start_time": "2022-07-04T14:30:03.094Z"
   },
   {
    "duration": 9,
    "start_time": "2022-07-04T14:30:11.340Z"
   },
   {
    "duration": 3,
    "start_time": "2022-07-04T14:30:15.088Z"
   },
   {
    "duration": 7,
    "start_time": "2022-07-04T14:30:15.412Z"
   },
   {
    "duration": 5,
    "start_time": "2022-07-04T14:30:39.617Z"
   },
   {
    "duration": 4,
    "start_time": "2022-07-04T14:33:39.323Z"
   },
   {
    "duration": 4,
    "start_time": "2022-07-04T14:33:42.844Z"
   },
   {
    "duration": 4,
    "start_time": "2022-07-04T14:33:46.266Z"
   },
   {
    "duration": 5,
    "start_time": "2022-07-04T14:34:35.952Z"
   },
   {
    "duration": 4,
    "start_time": "2022-07-04T14:34:39.643Z"
   },
   {
    "duration": 5,
    "start_time": "2022-07-04T14:34:50.545Z"
   },
   {
    "duration": 5,
    "start_time": "2022-07-04T14:34:57.743Z"
   },
   {
    "duration": 4,
    "start_time": "2022-07-04T14:35:38.217Z"
   },
   {
    "duration": 4,
    "start_time": "2022-07-04T14:35:52.717Z"
   },
   {
    "duration": 5,
    "start_time": "2022-07-04T14:36:05.021Z"
   },
   {
    "duration": 20,
    "start_time": "2022-07-04T14:45:46.544Z"
   },
   {
    "duration": 1695,
    "start_time": "2022-07-04T14:45:53.380Z"
   },
   {
    "duration": 1556,
    "start_time": "2022-07-04T14:46:18.920Z"
   },
   {
    "duration": 1605,
    "start_time": "2022-07-04T14:46:26.826Z"
   },
   {
    "duration": 1626,
    "start_time": "2022-07-04T14:46:43.480Z"
   },
   {
    "duration": 1609,
    "start_time": "2022-07-04T14:48:00.164Z"
   },
   {
    "duration": 61,
    "start_time": "2022-07-04T14:48:17.565Z"
   },
   {
    "duration": 1468,
    "start_time": "2022-07-04T14:48:22.396Z"
   },
   {
    "duration": 1910,
    "start_time": "2022-07-04T14:53:49.045Z"
   },
   {
    "duration": 1852,
    "start_time": "2022-07-04T14:53:59.679Z"
   },
   {
    "duration": 1935,
    "start_time": "2022-07-04T14:54:19.043Z"
   },
   {
    "duration": 16,
    "start_time": "2022-07-04T14:54:51.103Z"
   },
   {
    "duration": 14,
    "start_time": "2022-07-04T14:55:18.718Z"
   },
   {
    "duration": 5,
    "start_time": "2022-07-04T14:55:41.133Z"
   },
   {
    "duration": 1911,
    "start_time": "2022-07-04T14:55:52.923Z"
   },
   {
    "duration": 1602,
    "start_time": "2022-07-04T14:57:06.866Z"
   },
   {
    "duration": 1785,
    "start_time": "2022-07-04T14:57:27.493Z"
   },
   {
    "duration": 1737,
    "start_time": "2022-07-04T14:57:38.630Z"
   },
   {
    "duration": 1860,
    "start_time": "2022-07-04T14:57:53.709Z"
   },
   {
    "duration": 1867,
    "start_time": "2022-07-04T14:58:04.622Z"
   },
   {
    "duration": 1825,
    "start_time": "2022-07-04T14:58:46.318Z"
   },
   {
    "duration": 1816,
    "start_time": "2022-07-04T14:58:58.117Z"
   },
   {
    "duration": 1858,
    "start_time": "2022-07-04T14:59:13.649Z"
   },
   {
    "duration": 1941,
    "start_time": "2022-07-04T14:59:38.189Z"
   },
   {
    "duration": 1759,
    "start_time": "2022-07-04T14:59:52.730Z"
   },
   {
    "duration": 1750,
    "start_time": "2022-07-04T15:00:09.922Z"
   },
   {
    "duration": 1781,
    "start_time": "2022-07-04T15:04:29.813Z"
   },
   {
    "duration": 1813,
    "start_time": "2022-07-04T15:04:40.546Z"
   },
   {
    "duration": 1722,
    "start_time": "2022-07-04T15:05:18.901Z"
   },
   {
    "duration": 2004,
    "start_time": "2022-07-04T15:05:30.049Z"
   },
   {
    "duration": 20,
    "start_time": "2022-07-04T15:07:37.234Z"
   },
   {
    "duration": 16,
    "start_time": "2022-07-04T15:08:11.340Z"
   },
   {
    "duration": 17,
    "start_time": "2022-07-04T15:08:22.459Z"
   },
   {
    "duration": 16,
    "start_time": "2022-07-04T15:09:08.877Z"
   },
   {
    "duration": 21,
    "start_time": "2022-07-04T15:10:03.217Z"
   },
   {
    "duration": 18,
    "start_time": "2022-07-04T15:10:14.744Z"
   },
   {
    "duration": 17,
    "start_time": "2022-07-04T15:10:51.962Z"
   },
   {
    "duration": 4,
    "start_time": "2022-07-04T15:10:59.235Z"
   },
   {
    "duration": 443,
    "start_time": "2022-07-04T15:10:59.242Z"
   },
   {
    "duration": 10,
    "start_time": "2022-07-04T15:10:59.686Z"
   },
   {
    "duration": 17,
    "start_time": "2022-07-04T15:10:59.698Z"
   },
   {
    "duration": 17,
    "start_time": "2022-07-04T15:10:59.719Z"
   },
   {
    "duration": 25,
    "start_time": "2022-07-04T15:10:59.738Z"
   },
   {
    "duration": 15,
    "start_time": "2022-07-04T15:10:59.765Z"
   },
   {
    "duration": 35,
    "start_time": "2022-07-04T15:10:59.781Z"
   },
   {
    "duration": 6,
    "start_time": "2022-07-04T15:10:59.819Z"
   },
   {
    "duration": 16,
    "start_time": "2022-07-04T15:10:59.827Z"
   },
   {
    "duration": 14,
    "start_time": "2022-07-04T15:10:59.845Z"
   },
   {
    "duration": 63,
    "start_time": "2022-07-04T15:10:59.861Z"
   },
   {
    "duration": 86,
    "start_time": "2022-07-04T15:10:59.926Z"
   },
   {
    "duration": 51,
    "start_time": "2022-07-04T15:11:00.100Z"
   },
   {
    "duration": 158,
    "start_time": "2022-07-04T15:11:00.153Z"
   },
   {
    "duration": 195,
    "start_time": "2022-07-04T15:11:00.314Z"
   },
   {
    "duration": 24,
    "start_time": "2022-07-04T15:11:00.511Z"
   },
   {
    "duration": 25,
    "start_time": "2022-07-04T15:11:00.538Z"
   },
   {
    "duration": 22,
    "start_time": "2022-07-04T15:11:00.565Z"
   },
   {
    "duration": 25,
    "start_time": "2022-07-04T15:11:00.589Z"
   },
   {
    "duration": 20,
    "start_time": "2022-07-04T15:11:00.619Z"
   },
   {
    "duration": 26,
    "start_time": "2022-07-04T15:11:00.641Z"
   },
   {
    "duration": 19,
    "start_time": "2022-07-04T15:11:00.669Z"
   },
   {
    "duration": 15,
    "start_time": "2022-07-04T15:11:00.690Z"
   },
   {
    "duration": 15,
    "start_time": "2022-07-04T15:11:00.707Z"
   },
   {
    "duration": 37,
    "start_time": "2022-07-04T15:11:00.725Z"
   },
   {
    "duration": 34,
    "start_time": "2022-07-04T15:11:00.764Z"
   },
   {
    "duration": 28,
    "start_time": "2022-07-04T15:11:00.799Z"
   },
   {
    "duration": 27,
    "start_time": "2022-07-04T15:11:00.834Z"
   },
   {
    "duration": 26,
    "start_time": "2022-07-04T15:11:00.864Z"
   },
   {
    "duration": 36,
    "start_time": "2022-07-04T15:11:00.892Z"
   },
   {
    "duration": 22,
    "start_time": "2022-07-04T15:11:03.893Z"
   },
   {
    "duration": 5,
    "start_time": "2022-07-04T15:12:22.636Z"
   },
   {
    "duration": 9,
    "start_time": "2022-07-04T15:12:52.077Z"
   },
   {
    "duration": 12,
    "start_time": "2022-07-04T15:13:03.699Z"
   },
   {
    "duration": 13,
    "start_time": "2022-07-04T15:13:11.201Z"
   },
   {
    "duration": 11,
    "start_time": "2022-07-04T15:13:14.654Z"
   },
   {
    "duration": 1467,
    "start_time": "2022-07-04T15:14:01.161Z"
   },
   {
    "duration": 21,
    "start_time": "2022-07-04T15:14:29.148Z"
   },
   {
    "duration": 13,
    "start_time": "2022-07-04T15:14:30.969Z"
   },
   {
    "duration": 26,
    "start_time": "2022-07-04T15:14:43.941Z"
   },
   {
    "duration": 22,
    "start_time": "2022-07-04T15:21:14.344Z"
   },
   {
    "duration": 26,
    "start_time": "2022-07-04T15:21:40.811Z"
   },
   {
    "duration": 27,
    "start_time": "2022-07-04T15:27:23.204Z"
   },
   {
    "duration": 11,
    "start_time": "2022-07-04T15:27:24.699Z"
   },
   {
    "duration": 15,
    "start_time": "2022-07-04T15:27:48.631Z"
   },
   {
    "duration": 13,
    "start_time": "2022-07-04T15:27:49.866Z"
   },
   {
    "duration": 23,
    "start_time": "2022-07-04T15:27:57.157Z"
   },
   {
    "duration": 25,
    "start_time": "2022-07-04T15:28:19.890Z"
   },
   {
    "duration": 9,
    "start_time": "2022-07-04T15:28:38.901Z"
   },
   {
    "duration": 25,
    "start_time": "2022-07-04T15:28:49.661Z"
   },
   {
    "duration": 23,
    "start_time": "2022-07-04T15:29:20.842Z"
   },
   {
    "duration": 10,
    "start_time": "2022-07-04T15:29:57.361Z"
   },
   {
    "duration": 5,
    "start_time": "2022-07-04T15:30:28.690Z"
   },
   {
    "duration": 14,
    "start_time": "2022-07-04T15:30:48.106Z"
   },
   {
    "duration": 10,
    "start_time": "2022-07-04T15:31:34.160Z"
   },
   {
    "duration": 10,
    "start_time": "2022-07-04T15:31:38.446Z"
   },
   {
    "duration": 9,
    "start_time": "2022-07-04T15:32:06.729Z"
   },
   {
    "duration": 8,
    "start_time": "2022-07-04T15:32:18.824Z"
   },
   {
    "duration": 400,
    "start_time": "2022-07-04T15:32:18.833Z"
   },
   {
    "duration": 9,
    "start_time": "2022-07-04T15:32:19.235Z"
   },
   {
    "duration": 14,
    "start_time": "2022-07-04T15:32:19.246Z"
   },
   {
    "duration": 11,
    "start_time": "2022-07-04T15:32:19.261Z"
   },
   {
    "duration": 28,
    "start_time": "2022-07-04T15:32:19.274Z"
   },
   {
    "duration": 19,
    "start_time": "2022-07-04T15:32:19.305Z"
   },
   {
    "duration": 17,
    "start_time": "2022-07-04T15:32:19.326Z"
   },
   {
    "duration": 4,
    "start_time": "2022-07-04T15:32:19.345Z"
   },
   {
    "duration": 8,
    "start_time": "2022-07-04T15:32:19.352Z"
   },
   {
    "duration": 8,
    "start_time": "2022-07-04T15:32:19.361Z"
   },
   {
    "duration": 66,
    "start_time": "2022-07-04T15:32:19.370Z"
   },
   {
    "duration": 10,
    "start_time": "2022-07-04T15:32:19.501Z"
   },
   {
    "duration": 118,
    "start_time": "2022-07-04T15:32:19.512Z"
   },
   {
    "duration": 171,
    "start_time": "2022-07-04T15:32:19.632Z"
   },
   {
    "duration": 4,
    "start_time": "2022-07-04T15:32:19.805Z"
   },
   {
    "duration": 99,
    "start_time": "2022-07-04T15:32:19.811Z"
   },
   {
    "duration": 21,
    "start_time": "2022-07-04T15:32:19.912Z"
   },
   {
    "duration": 8,
    "start_time": "2022-07-04T15:32:19.934Z"
   },
   {
    "duration": 9,
    "start_time": "2022-07-04T15:32:19.944Z"
   },
   {
    "duration": 12,
    "start_time": "2022-07-04T15:32:19.955Z"
   },
   {
    "duration": 12,
    "start_time": "2022-07-04T15:32:19.969Z"
   },
   {
    "duration": 6,
    "start_time": "2022-07-04T15:32:19.983Z"
   },
   {
    "duration": 4,
    "start_time": "2022-07-04T15:32:19.991Z"
   },
   {
    "duration": 8,
    "start_time": "2022-07-04T15:32:19.997Z"
   },
   {
    "duration": 11,
    "start_time": "2022-07-04T15:32:20.007Z"
   },
   {
    "duration": 20,
    "start_time": "2022-07-04T15:32:20.020Z"
   },
   {
    "duration": 11,
    "start_time": "2022-07-04T15:32:20.043Z"
   },
   {
    "duration": 16,
    "start_time": "2022-07-04T15:32:20.055Z"
   },
   {
    "duration": 11,
    "start_time": "2022-07-04T15:32:20.072Z"
   },
   {
    "duration": 16,
    "start_time": "2022-07-04T15:32:20.085Z"
   },
   {
    "duration": 10,
    "start_time": "2022-07-04T15:32:40.406Z"
   },
   {
    "duration": 11,
    "start_time": "2022-07-04T15:33:09.116Z"
   },
   {
    "duration": 7,
    "start_time": "2022-07-04T15:33:20.991Z"
   },
   {
    "duration": 25,
    "start_time": "2022-07-04T15:34:54.024Z"
   },
   {
    "duration": 6,
    "start_time": "2022-07-04T15:38:01.748Z"
   },
   {
    "duration": 11,
    "start_time": "2022-07-04T15:38:20.594Z"
   },
   {
    "duration": 9,
    "start_time": "2022-07-04T15:38:34.104Z"
   },
   {
    "duration": 13,
    "start_time": "2022-07-04T15:39:05.099Z"
   },
   {
    "duration": 5,
    "start_time": "2022-07-04T15:39:16.162Z"
   },
   {
    "duration": 21,
    "start_time": "2022-07-04T15:39:31.922Z"
   },
   {
    "duration": 18,
    "start_time": "2022-07-04T15:39:55.811Z"
   },
   {
    "duration": 12,
    "start_time": "2022-07-04T15:40:09.154Z"
   },
   {
    "duration": 20,
    "start_time": "2022-07-04T15:40:17.116Z"
   },
   {
    "duration": 15,
    "start_time": "2022-07-04T15:40:29.568Z"
   },
   {
    "duration": 16,
    "start_time": "2022-07-04T15:42:28.163Z"
   },
   {
    "duration": 16,
    "start_time": "2022-07-04T15:42:33.422Z"
   },
   {
    "duration": 16,
    "start_time": "2022-07-04T15:42:41.262Z"
   },
   {
    "duration": 7,
    "start_time": "2022-07-04T15:43:23.656Z"
   },
   {
    "duration": 9,
    "start_time": "2022-07-04T15:43:39.510Z"
   },
   {
    "duration": 17,
    "start_time": "2022-07-04T15:43:49.397Z"
   },
   {
    "duration": 16,
    "start_time": "2022-07-04T15:52:13.129Z"
   },
   {
    "duration": 16,
    "start_time": "2022-07-04T15:56:01.355Z"
   },
   {
    "duration": 17,
    "start_time": "2022-07-04T15:58:31.758Z"
   },
   {
    "duration": 17,
    "start_time": "2022-07-04T15:58:53.681Z"
   },
   {
    "duration": 15,
    "start_time": "2022-07-04T15:58:57.758Z"
   },
   {
    "duration": 9,
    "start_time": "2022-07-04T16:00:10.377Z"
   },
   {
    "duration": 6,
    "start_time": "2022-07-04T16:00:24.467Z"
   },
   {
    "duration": 20,
    "start_time": "2022-07-04T16:07:27.683Z"
   },
   {
    "duration": 20,
    "start_time": "2022-07-04T16:09:03.471Z"
   },
   {
    "duration": 16,
    "start_time": "2022-07-04T16:09:19.327Z"
   },
   {
    "duration": 27,
    "start_time": "2022-07-04T16:10:31.952Z"
   },
   {
    "duration": 26,
    "start_time": "2022-07-04T16:10:32.296Z"
   },
   {
    "duration": 2,
    "start_time": "2022-07-04T16:10:39.805Z"
   },
   {
    "duration": 2,
    "start_time": "2022-07-04T16:10:40.790Z"
   },
   {
    "duration": 4,
    "start_time": "2022-07-04T16:10:41.752Z"
   },
   {
    "duration": 5,
    "start_time": "2022-07-04T16:10:42.917Z"
   },
   {
    "duration": 4,
    "start_time": "2022-07-04T16:10:43.852Z"
   },
   {
    "duration": 7,
    "start_time": "2022-07-04T16:11:10.330Z"
   },
   {
    "duration": 6,
    "start_time": "2022-07-04T16:11:10.492Z"
   },
   {
    "duration": 6,
    "start_time": "2022-07-04T16:11:10.661Z"
   },
   {
    "duration": 4,
    "start_time": "2022-07-04T16:11:11.100Z"
   },
   {
    "duration": 3,
    "start_time": "2022-07-04T16:11:11.305Z"
   },
   {
    "duration": 4,
    "start_time": "2022-07-04T16:11:11.455Z"
   },
   {
    "duration": 2,
    "start_time": "2022-07-04T16:11:11.862Z"
   },
   {
    "duration": 4,
    "start_time": "2022-07-04T16:11:12.473Z"
   },
   {
    "duration": 3,
    "start_time": "2022-07-04T16:11:13.134Z"
   },
   {
    "duration": 4,
    "start_time": "2022-07-04T16:11:13.722Z"
   },
   {
    "duration": 7,
    "start_time": "2022-07-04T16:11:22.818Z"
   },
   {
    "duration": 9,
    "start_time": "2022-07-04T16:15:45.231Z"
   },
   {
    "duration": 29,
    "start_time": "2022-07-04T16:16:14.720Z"
   },
   {
    "duration": 23,
    "start_time": "2022-07-04T16:16:19.365Z"
   },
   {
    "duration": 16,
    "start_time": "2022-07-04T16:16:46.159Z"
   },
   {
    "duration": 16,
    "start_time": "2022-07-04T16:16:54.603Z"
   },
   {
    "duration": 12,
    "start_time": "2022-07-04T16:36:33.788Z"
   },
   {
    "duration": 12,
    "start_time": "2022-07-04T16:37:12.488Z"
   },
   {
    "duration": 1760,
    "start_time": "2022-07-04T16:37:45.365Z"
   },
   {
    "duration": 1530,
    "start_time": "2022-07-04T16:52:39.272Z"
   },
   {
    "duration": 1547,
    "start_time": "2022-07-04T16:53:12.242Z"
   },
   {
    "duration": 4,
    "start_time": "2022-07-04T16:54:26.481Z"
   },
   {
    "duration": 9,
    "start_time": "2022-07-04T16:54:58.174Z"
   },
   {
    "duration": 6,
    "start_time": "2022-07-04T16:55:09.773Z"
   },
   {
    "duration": 3,
    "start_time": "2022-07-04T16:55:48.215Z"
   },
   {
    "duration": 1860,
    "start_time": "2022-07-04T16:56:24.271Z"
   },
   {
    "duration": 1654,
    "start_time": "2022-07-04T16:56:29.791Z"
   },
   {
    "duration": 1643,
    "start_time": "2022-07-04T16:59:34.033Z"
   },
   {
    "duration": 1457,
    "start_time": "2022-07-04T17:00:31.597Z"
   },
   {
    "duration": 1592,
    "start_time": "2022-07-04T17:00:38.420Z"
   },
   {
    "duration": 1627,
    "start_time": "2022-07-04T17:01:41.776Z"
   },
   {
    "duration": 5,
    "start_time": "2022-07-04T17:13:36.281Z"
   },
   {
    "duration": 4,
    "start_time": "2022-07-04T17:14:50.754Z"
   },
   {
    "duration": 4,
    "start_time": "2022-07-04T17:15:14.045Z"
   },
   {
    "duration": 4,
    "start_time": "2022-07-04T17:15:19.585Z"
   },
   {
    "duration": 4,
    "start_time": "2022-07-04T17:18:36.127Z"
   },
   {
    "duration": 5,
    "start_time": "2022-07-04T17:18:44.806Z"
   },
   {
    "duration": 2,
    "start_time": "2022-07-04T17:20:12.109Z"
   },
   {
    "duration": 2,
    "start_time": "2022-07-04T17:20:12.545Z"
   },
   {
    "duration": 5,
    "start_time": "2022-07-04T17:20:13.901Z"
   },
   {
    "duration": 4,
    "start_time": "2022-07-04T17:20:23.662Z"
   },
   {
    "duration": 4,
    "start_time": "2022-07-04T17:20:44.834Z"
   },
   {
    "duration": 4,
    "start_time": "2022-07-04T17:22:40.364Z"
   },
   {
    "duration": 4,
    "start_time": "2022-07-04T17:22:56.533Z"
   },
   {
    "duration": 4,
    "start_time": "2022-07-04T17:23:11.897Z"
   },
   {
    "duration": 4,
    "start_time": "2022-07-04T17:23:13.192Z"
   },
   {
    "duration": 5,
    "start_time": "2022-07-04T17:23:14.550Z"
   },
   {
    "duration": 5,
    "start_time": "2022-07-04T17:23:31.791Z"
   },
   {
    "duration": 4,
    "start_time": "2022-07-04T17:23:43.994Z"
   },
   {
    "duration": 4,
    "start_time": "2022-07-04T17:24:02.076Z"
   },
   {
    "duration": 4,
    "start_time": "2022-07-04T17:26:54.811Z"
   },
   {
    "duration": 18,
    "start_time": "2022-07-04T17:27:23.910Z"
   },
   {
    "duration": 4,
    "start_time": "2022-07-04T17:27:54.424Z"
   },
   {
    "duration": 11,
    "start_time": "2022-07-04T17:27:55.360Z"
   },
   {
    "duration": 9,
    "start_time": "2022-07-04T17:28:23.603Z"
   },
   {
    "duration": 8,
    "start_time": "2022-07-04T17:29:12.960Z"
   },
   {
    "duration": 9,
    "start_time": "2022-07-04T17:29:14.164Z"
   },
   {
    "duration": 1712,
    "start_time": "2022-07-04T17:31:43.324Z"
   },
   {
    "duration": 1721,
    "start_time": "2022-07-04T17:33:05.845Z"
   },
   {
    "duration": 1417,
    "start_time": "2022-07-04T17:34:47.550Z"
   },
   {
    "duration": 5,
    "start_time": "2022-07-04T17:34:54.270Z"
   },
   {
    "duration": 5,
    "start_time": "2022-07-04T17:35:34.852Z"
   },
   {
    "duration": 4,
    "start_time": "2022-07-04T17:35:48.031Z"
   },
   {
    "duration": 6,
    "start_time": "2022-07-04T17:35:52.209Z"
   },
   {
    "duration": 1603,
    "start_time": "2022-07-04T17:37:05.563Z"
   },
   {
    "duration": 1740,
    "start_time": "2022-07-04T17:37:43.147Z"
   },
   {
    "duration": 1624,
    "start_time": "2022-07-04T17:39:35.652Z"
   },
   {
    "duration": 1595,
    "start_time": "2022-07-04T17:40:47.988Z"
   },
   {
    "duration": 1579,
    "start_time": "2022-07-04T17:41:07.648Z"
   },
   {
    "duration": 1632,
    "start_time": "2022-07-04T17:41:53.729Z"
   },
   {
    "duration": 1556,
    "start_time": "2022-07-04T17:42:17.493Z"
   },
   {
    "duration": 1564,
    "start_time": "2022-07-04T17:42:19.051Z"
   },
   {
    "duration": 1580,
    "start_time": "2022-07-04T17:42:20.617Z"
   },
   {
    "duration": 1741,
    "start_time": "2022-07-04T17:42:45.075Z"
   },
   {
    "duration": 1630,
    "start_time": "2022-07-04T19:02:52.103Z"
   },
   {
    "duration": 1685,
    "start_time": "2022-07-04T19:03:14.650Z"
   },
   {
    "duration": 1633,
    "start_time": "2022-07-04T19:05:50.274Z"
   },
   {
    "duration": 1618,
    "start_time": "2022-07-04T19:06:13.059Z"
   },
   {
    "duration": 1705,
    "start_time": "2022-07-04T19:06:52.636Z"
   },
   {
    "duration": 5,
    "start_time": "2022-07-04T19:09:51.209Z"
   },
   {
    "duration": 4,
    "start_time": "2022-07-04T19:09:59.811Z"
   },
   {
    "duration": 4,
    "start_time": "2022-07-04T19:10:14.715Z"
   },
   {
    "duration": 8,
    "start_time": "2022-07-04T19:10:51.121Z"
   },
   {
    "duration": 7,
    "start_time": "2022-07-04T19:11:07.347Z"
   },
   {
    "duration": 4,
    "start_time": "2022-07-04T19:11:35.799Z"
   },
   {
    "duration": 5,
    "start_time": "2022-07-04T19:11:48.491Z"
   },
   {
    "duration": 5,
    "start_time": "2022-07-04T19:11:58.236Z"
   },
   {
    "duration": 4,
    "start_time": "2022-07-04T19:12:24.916Z"
   },
   {
    "duration": 5,
    "start_time": "2022-07-04T19:13:06.720Z"
   },
   {
    "duration": 261,
    "start_time": "2022-07-04T19:14:10.372Z"
   },
   {
    "duration": 19,
    "start_time": "2022-07-04T19:14:49.312Z"
   },
   {
    "duration": 1671,
    "start_time": "2022-07-04T19:15:34.921Z"
   },
   {
    "duration": 1685,
    "start_time": "2022-07-04T19:16:52.361Z"
   },
   {
    "duration": 6,
    "start_time": "2022-07-04T19:17:01.454Z"
   },
   {
    "duration": 1622,
    "start_time": "2022-07-04T19:17:18.503Z"
   },
   {
    "duration": 5,
    "start_time": "2022-07-04T19:17:22.125Z"
   },
   {
    "duration": 5,
    "start_time": "2022-07-04T19:17:52.290Z"
   },
   {
    "duration": 9,
    "start_time": "2022-07-04T19:24:06.716Z"
   },
   {
    "duration": 9,
    "start_time": "2022-07-04T19:24:25.952Z"
   },
   {
    "duration": 2,
    "start_time": "2022-07-04T19:26:38.457Z"
   },
   {
    "duration": 4,
    "start_time": "2022-07-04T19:27:32.307Z"
   },
   {
    "duration": 4,
    "start_time": "2022-07-04T19:28:54.321Z"
   },
   {
    "duration": 3,
    "start_time": "2022-07-04T19:29:40.460Z"
   },
   {
    "duration": 4,
    "start_time": "2022-07-04T19:29:57.989Z"
   },
   {
    "duration": 4,
    "start_time": "2022-07-04T19:30:48.240Z"
   },
   {
    "duration": 4,
    "start_time": "2022-07-04T19:30:58.725Z"
   },
   {
    "duration": 4,
    "start_time": "2022-07-04T19:31:07.309Z"
   },
   {
    "duration": 4,
    "start_time": "2022-07-04T19:31:18.197Z"
   },
   {
    "duration": 4,
    "start_time": "2022-07-04T19:31:18.828Z"
   },
   {
    "duration": 5,
    "start_time": "2022-07-04T19:31:19.201Z"
   },
   {
    "duration": 5,
    "start_time": "2022-07-04T19:31:19.623Z"
   },
   {
    "duration": 4,
    "start_time": "2022-07-04T19:31:21.837Z"
   },
   {
    "duration": 12,
    "start_time": "2022-07-04T19:31:22.763Z"
   },
   {
    "duration": 12,
    "start_time": "2022-07-04T19:31:23.738Z"
   },
   {
    "duration": 12,
    "start_time": "2022-07-04T19:31:24.607Z"
   },
   {
    "duration": 1811,
    "start_time": "2022-07-04T19:31:30.250Z"
   },
   {
    "duration": 12,
    "start_time": "2022-07-04T19:34:53.516Z"
   },
   {
    "duration": 10,
    "start_time": "2022-07-04T19:35:03.237Z"
   },
   {
    "duration": 11,
    "start_time": "2022-07-04T19:35:16.425Z"
   },
   {
    "duration": 11,
    "start_time": "2022-07-04T19:35:32.138Z"
   },
   {
    "duration": 3,
    "start_time": "2022-07-04T19:36:40.982Z"
   },
   {
    "duration": 10,
    "start_time": "2022-07-04T19:36:41.191Z"
   },
   {
    "duration": 11,
    "start_time": "2022-07-04T19:36:41.389Z"
   },
   {
    "duration": 11,
    "start_time": "2022-07-04T19:36:41.907Z"
   },
   {
    "duration": 1797,
    "start_time": "2022-07-04T19:36:43.919Z"
   },
   {
    "duration": 1693,
    "start_time": "2022-07-04T19:37:05.413Z"
   },
   {
    "duration": 1721,
    "start_time": "2022-07-04T19:37:22.902Z"
   },
   {
    "duration": 1630,
    "start_time": "2022-07-04T19:37:29.293Z"
   },
   {
    "duration": 1664,
    "start_time": "2022-07-04T19:37:47.261Z"
   },
   {
    "duration": 6,
    "start_time": "2022-07-04T19:38:08.352Z"
   },
   {
    "duration": 1851,
    "start_time": "2022-07-04T19:38:08.780Z"
   },
   {
    "duration": 1773,
    "start_time": "2022-07-04T19:38:34.896Z"
   },
   {
    "duration": 1637,
    "start_time": "2022-07-04T19:38:54.823Z"
   },
   {
    "duration": 22,
    "start_time": "2022-07-04T19:40:30.911Z"
   },
   {
    "duration": 1810,
    "start_time": "2022-07-04T19:40:43.692Z"
   },
   {
    "duration": 1609,
    "start_time": "2022-07-04T19:48:50.628Z"
   },
   {
    "duration": 5,
    "start_time": "2022-07-04T19:52:13.451Z"
   },
   {
    "duration": 11,
    "start_time": "2022-07-04T19:52:14.587Z"
   },
   {
    "duration": 11,
    "start_time": "2022-07-04T19:52:14.849Z"
   },
   {
    "duration": 11,
    "start_time": "2022-07-04T19:52:15.010Z"
   },
   {
    "duration": 1663,
    "start_time": "2022-07-04T19:52:16.283Z"
   },
   {
    "duration": 5,
    "start_time": "2022-07-04T19:52:17.948Z"
   },
   {
    "duration": 1616,
    "start_time": "2022-07-04T19:52:18.212Z"
   },
   {
    "duration": 1705,
    "start_time": "2022-07-04T19:54:13.145Z"
   },
   {
    "duration": 8,
    "start_time": "2022-07-05T07:36:52.970Z"
   },
   {
    "duration": 66,
    "start_time": "2022-07-05T07:36:53.960Z"
   },
   {
    "duration": 1576,
    "start_time": "2022-07-05T07:36:59.425Z"
   },
   {
    "duration": 765,
    "start_time": "2022-07-05T07:37:01.004Z"
   },
   {
    "duration": 14,
    "start_time": "2022-07-05T07:37:01.771Z"
   },
   {
    "duration": 10,
    "start_time": "2022-07-05T07:37:01.787Z"
   },
   {
    "duration": 19,
    "start_time": "2022-07-05T07:37:01.799Z"
   },
   {
    "duration": 30,
    "start_time": "2022-07-05T07:37:01.820Z"
   },
   {
    "duration": 20,
    "start_time": "2022-07-05T07:37:01.852Z"
   },
   {
    "duration": 16,
    "start_time": "2022-07-05T07:37:01.874Z"
   },
   {
    "duration": 4,
    "start_time": "2022-07-05T07:37:01.892Z"
   },
   {
    "duration": 14,
    "start_time": "2022-07-05T07:37:01.898Z"
   },
   {
    "duration": 14,
    "start_time": "2022-07-05T07:37:01.914Z"
   },
   {
    "duration": 118,
    "start_time": "2022-07-05T07:37:01.929Z"
   },
   {
    "duration": 198,
    "start_time": "2022-07-05T07:37:02.049Z"
   },
   {
    "duration": 116,
    "start_time": "2022-07-05T07:37:02.250Z"
   },
   {
    "duration": 3,
    "start_time": "2022-07-05T07:37:02.369Z"
   },
   {
    "duration": 4,
    "start_time": "2022-07-05T07:37:02.447Z"
   },
   {
    "duration": 179,
    "start_time": "2022-07-05T07:37:02.453Z"
   },
   {
    "duration": 5,
    "start_time": "2022-07-05T07:37:34.794Z"
   },
   {
    "duration": 4,
    "start_time": "2022-07-05T07:37:40.433Z"
   },
   {
    "duration": 3,
    "start_time": "2022-07-05T07:37:43.066Z"
   },
   {
    "duration": 5,
    "start_time": "2022-07-05T07:37:43.314Z"
   },
   {
    "duration": 3,
    "start_time": "2022-07-05T07:37:45.533Z"
   },
   {
    "duration": 10,
    "start_time": "2022-07-05T07:37:46.064Z"
   },
   {
    "duration": 11,
    "start_time": "2022-07-05T07:37:47.137Z"
   },
   {
    "duration": 12,
    "start_time": "2022-07-05T07:37:47.898Z"
   },
   {
    "duration": 3,
    "start_time": "2022-07-05T07:38:22.566Z"
   },
   {
    "duration": 8,
    "start_time": "2022-07-05T07:38:23.188Z"
   },
   {
    "duration": 10,
    "start_time": "2022-07-05T07:38:26.170Z"
   },
   {
    "duration": 15,
    "start_time": "2022-07-05T07:38:26.608Z"
   },
   {
    "duration": 1632,
    "start_time": "2022-07-05T07:38:40.899Z"
   },
   {
    "duration": 7,
    "start_time": "2022-07-05T07:38:55.976Z"
   },
   {
    "duration": 5,
    "start_time": "2022-07-05T07:39:06.540Z"
   },
   {
    "duration": 1563,
    "start_time": "2022-07-05T07:39:16.796Z"
   },
   {
    "duration": 4,
    "start_time": "2022-07-05T07:39:31.332Z"
   },
   {
    "duration": 1574,
    "start_time": "2022-07-05T07:39:46.536Z"
   },
   {
    "duration": 6,
    "start_time": "2022-07-05T07:39:54.480Z"
   },
   {
    "duration": 49,
    "start_time": "2022-07-05T09:20:56.698Z"
   },
   {
    "duration": 1566,
    "start_time": "2022-07-05T09:21:01.656Z"
   },
   {
    "duration": 777,
    "start_time": "2022-07-05T09:21:03.224Z"
   },
   {
    "duration": 19,
    "start_time": "2022-07-05T09:21:04.004Z"
   },
   {
    "duration": 12,
    "start_time": "2022-07-05T09:21:04.025Z"
   },
   {
    "duration": 14,
    "start_time": "2022-07-05T09:21:04.040Z"
   },
   {
    "duration": 25,
    "start_time": "2022-07-05T09:21:04.056Z"
   },
   {
    "duration": 44,
    "start_time": "2022-07-05T09:21:04.083Z"
   },
   {
    "duration": 18,
    "start_time": "2022-07-05T09:21:04.128Z"
   },
   {
    "duration": 15,
    "start_time": "2022-07-05T09:21:04.148Z"
   },
   {
    "duration": 21,
    "start_time": "2022-07-05T09:21:04.165Z"
   },
   {
    "duration": 20,
    "start_time": "2022-07-05T09:21:04.188Z"
   },
   {
    "duration": 114,
    "start_time": "2022-07-05T09:21:04.210Z"
   },
   {
    "duration": 121,
    "start_time": "2022-07-05T09:21:04.326Z"
   },
   {
    "duration": 274,
    "start_time": "2022-07-05T09:21:04.450Z"
   },
   {
    "duration": 3,
    "start_time": "2022-07-05T09:21:04.742Z"
   },
   {
    "duration": 89,
    "start_time": "2022-07-05T09:21:04.747Z"
   },
   {
    "duration": 12,
    "start_time": "2022-07-05T09:21:04.838Z"
   },
   {
    "duration": 17,
    "start_time": "2022-07-05T09:21:04.853Z"
   },
   {
    "duration": 12,
    "start_time": "2022-07-05T09:21:04.873Z"
   },
   {
    "duration": 13,
    "start_time": "2022-07-05T09:21:04.887Z"
   },
   {
    "duration": 11,
    "start_time": "2022-07-05T09:21:04.902Z"
   },
   {
    "duration": 37,
    "start_time": "2022-07-05T09:21:04.916Z"
   },
   {
    "duration": 19,
    "start_time": "2022-07-05T09:21:04.954Z"
   },
   {
    "duration": 14,
    "start_time": "2022-07-05T09:21:04.975Z"
   },
   {
    "duration": 2568,
    "start_time": "2022-07-05T09:21:04.992Z"
   },
   {
    "duration": 8,
    "start_time": "2022-07-05T09:21:07.562Z"
   },
   {
    "duration": 2000,
    "start_time": "2022-07-05T09:21:07.573Z"
   },
   {
    "duration": 1705,
    "start_time": "2022-07-05T09:21:56.019Z"
   },
   {
    "duration": 6,
    "start_time": "2022-07-05T09:22:04.361Z"
   },
   {
    "duration": 9,
    "start_time": "2022-07-05T09:22:23.860Z"
   },
   {
    "duration": 6,
    "start_time": "2022-07-05T09:22:35.081Z"
   },
   {
    "duration": 6,
    "start_time": "2022-07-05T09:24:50.437Z"
   },
   {
    "duration": 1851,
    "start_time": "2022-07-05T09:25:46.421Z"
   },
   {
    "duration": 1758,
    "start_time": "2022-07-05T09:26:32.583Z"
   },
   {
    "duration": 1695,
    "start_time": "2022-07-05T09:28:52.932Z"
   },
   {
    "duration": 6,
    "start_time": "2022-07-05T09:29:20.227Z"
   },
   {
    "duration": 1877,
    "start_time": "2022-07-05T09:29:20.957Z"
   },
   {
    "duration": 7,
    "start_time": "2022-07-05T09:29:24.271Z"
   },
   {
    "duration": 2274,
    "start_time": "2022-07-05T09:29:25.131Z"
   },
   {
    "duration": 1949,
    "start_time": "2022-07-05T09:29:33.520Z"
   },
   {
    "duration": 1760,
    "start_time": "2022-07-05T09:29:49.503Z"
   },
   {
    "duration": 1773,
    "start_time": "2022-07-05T09:30:00.550Z"
   },
   {
    "duration": 7,
    "start_time": "2022-07-05T09:30:10.235Z"
   },
   {
    "duration": 6,
    "start_time": "2022-07-05T09:30:51.056Z"
   },
   {
    "duration": 1665,
    "start_time": "2022-07-05T09:30:51.692Z"
   },
   {
    "duration": 7,
    "start_time": "2022-07-05T09:30:53.481Z"
   },
   {
    "duration": 88,
    "start_time": "2022-07-05T09:30:59.760Z"
   },
   {
    "duration": 4,
    "start_time": "2022-07-05T09:31:09.955Z"
   },
   {
    "duration": 352,
    "start_time": "2022-07-05T09:31:09.961Z"
   },
   {
    "duration": 16,
    "start_time": "2022-07-05T09:31:10.314Z"
   },
   {
    "duration": 14,
    "start_time": "2022-07-05T09:31:10.332Z"
   },
   {
    "duration": 16,
    "start_time": "2022-07-05T09:31:10.348Z"
   },
   {
    "duration": 16,
    "start_time": "2022-07-05T09:31:10.366Z"
   },
   {
    "duration": 12,
    "start_time": "2022-07-05T09:31:10.384Z"
   },
   {
    "duration": 36,
    "start_time": "2022-07-05T09:31:10.398Z"
   },
   {
    "duration": 4,
    "start_time": "2022-07-05T09:31:10.435Z"
   },
   {
    "duration": 6,
    "start_time": "2022-07-05T09:31:10.441Z"
   },
   {
    "duration": 7,
    "start_time": "2022-07-05T09:31:10.449Z"
   },
   {
    "duration": 24,
    "start_time": "2022-07-05T09:31:10.457Z"
   },
   {
    "duration": 207,
    "start_time": "2022-07-05T09:31:10.527Z"
   },
   {
    "duration": 112,
    "start_time": "2022-07-05T09:31:10.738Z"
   },
   {
    "duration": 4,
    "start_time": "2022-07-05T09:31:10.922Z"
   },
   {
    "duration": 104,
    "start_time": "2022-07-05T09:31:10.927Z"
   },
   {
    "duration": 8,
    "start_time": "2022-07-05T09:31:11.033Z"
   },
   {
    "duration": 9,
    "start_time": "2022-07-05T09:31:11.042Z"
   },
   {
    "duration": 7,
    "start_time": "2022-07-05T09:31:11.054Z"
   },
   {
    "duration": 7,
    "start_time": "2022-07-05T09:31:11.064Z"
   },
   {
    "duration": 5,
    "start_time": "2022-07-05T09:31:11.073Z"
   },
   {
    "duration": 23,
    "start_time": "2022-07-05T09:31:11.080Z"
   },
   {
    "duration": 21,
    "start_time": "2022-07-05T09:31:11.104Z"
   },
   {
    "duration": 12,
    "start_time": "2022-07-05T09:31:11.127Z"
   },
   {
    "duration": 1697,
    "start_time": "2022-07-05T09:31:11.141Z"
   },
   {
    "duration": 5,
    "start_time": "2022-07-05T09:31:12.840Z"
   },
   {
    "duration": 1708,
    "start_time": "2022-07-05T09:31:12.846Z"
   },
   {
    "duration": 5,
    "start_time": "2022-07-05T09:31:14.556Z"
   },
   {
    "duration": 2011,
    "start_time": "2022-07-05T09:31:14.563Z"
   },
   {
    "duration": 7,
    "start_time": "2022-07-05T09:31:16.577Z"
   },
   {
    "duration": 17,
    "start_time": "2022-07-05T09:31:16.589Z"
   },
   {
    "duration": 5,
    "start_time": "2022-07-05T09:33:26.427Z"
   },
   {
    "duration": 6,
    "start_time": "2022-07-05T09:33:40.862Z"
   },
   {
    "duration": 6,
    "start_time": "2022-07-05T09:33:50.091Z"
   },
   {
    "duration": 1644,
    "start_time": "2022-07-05T09:33:50.974Z"
   },
   {
    "duration": 5,
    "start_time": "2022-07-05T09:33:52.624Z"
   },
   {
    "duration": 1777,
    "start_time": "2022-07-05T09:33:52.631Z"
   },
   {
    "duration": 5,
    "start_time": "2022-07-05T09:33:55.525Z"
   },
   {
    "duration": 1923,
    "start_time": "2022-07-05T09:34:20.474Z"
   },
   {
    "duration": 5,
    "start_time": "2022-07-05T09:34:22.399Z"
   },
   {
    "duration": 1708,
    "start_time": "2022-07-05T09:34:22.405Z"
   },
   {
    "duration": 11,
    "start_time": "2022-07-05T09:34:24.115Z"
   },
   {
    "duration": 1767,
    "start_time": "2022-07-05T09:34:33.095Z"
   },
   {
    "duration": 6,
    "start_time": "2022-07-05T09:34:34.865Z"
   },
   {
    "duration": 12,
    "start_time": "2022-07-05T09:34:40.122Z"
   },
   {
    "duration": 111,
    "start_time": "2022-07-05T09:44:54.619Z"
   },
   {
    "duration": 22,
    "start_time": "2022-07-05T09:44:56.439Z"
   },
   {
    "duration": 25,
    "start_time": "2022-07-05T09:44:56.859Z"
   },
   {
    "duration": 87,
    "start_time": "2022-07-05T09:44:57.042Z"
   },
   {
    "duration": 15,
    "start_time": "2022-07-05T09:46:00.615Z"
   },
   {
    "duration": 12,
    "start_time": "2022-07-05T09:46:00.967Z"
   },
   {
    "duration": 11,
    "start_time": "2022-07-05T09:46:01.266Z"
   },
   {
    "duration": 26,
    "start_time": "2022-07-05T09:46:17.746Z"
   },
   {
    "duration": 18,
    "start_time": "2022-07-05T09:46:21.120Z"
   },
   {
    "duration": 17,
    "start_time": "2022-07-05T09:46:21.918Z"
   },
   {
    "duration": 14,
    "start_time": "2022-07-05T09:46:28.079Z"
   },
   {
    "duration": 11,
    "start_time": "2022-07-05T09:47:48.440Z"
   },
   {
    "duration": 16,
    "start_time": "2022-07-05T09:47:50.509Z"
   },
   {
    "duration": 11,
    "start_time": "2022-07-05T09:47:50.886Z"
   },
   {
    "duration": 12,
    "start_time": "2022-07-05T09:47:51.147Z"
   },
   {
    "duration": 5,
    "start_time": "2022-07-05T09:48:05.434Z"
   },
   {
    "duration": 5,
    "start_time": "2022-07-05T09:48:11.031Z"
   },
   {
    "duration": 3,
    "start_time": "2022-07-05T09:51:48.144Z"
   },
   {
    "duration": 3,
    "start_time": "2022-07-05T09:52:05.401Z"
   },
   {
    "duration": 3,
    "start_time": "2022-07-05T09:52:18.517Z"
   },
   {
    "duration": 3,
    "start_time": "2022-07-05T09:52:20.011Z"
   },
   {
    "duration": 2,
    "start_time": "2022-07-05T09:52:20.342Z"
   },
   {
    "duration": 3,
    "start_time": "2022-07-05T09:52:38.599Z"
   },
   {
    "duration": 6,
    "start_time": "2022-07-05T10:03:58.472Z"
   },
   {
    "duration": 5,
    "start_time": "2022-07-05T10:04:19.800Z"
   },
   {
    "duration": 5,
    "start_time": "2022-07-05T10:04:20.298Z"
   },
   {
    "duration": 5,
    "start_time": "2022-07-05T10:04:43.464Z"
   },
   {
    "duration": 5,
    "start_time": "2022-07-05T10:05:01.074Z"
   },
   {
    "duration": 4,
    "start_time": "2022-07-05T10:14:06.506Z"
   },
   {
    "duration": 4,
    "start_time": "2022-07-05T10:14:07.293Z"
   },
   {
    "duration": 5,
    "start_time": "2022-07-05T10:14:13.815Z"
   },
   {
    "duration": 4,
    "start_time": "2022-07-05T10:14:17.779Z"
   },
   {
    "duration": 4,
    "start_time": "2022-07-05T10:14:32.973Z"
   },
   {
    "duration": 9,
    "start_time": "2022-07-05T10:18:05.686Z"
   },
   {
    "duration": 12,
    "start_time": "2022-07-05T10:18:10.226Z"
   },
   {
    "duration": 9,
    "start_time": "2022-07-05T10:18:30.739Z"
   },
   {
    "duration": 12,
    "start_time": "2022-07-05T10:18:40.172Z"
   },
   {
    "duration": 11,
    "start_time": "2022-07-05T10:18:57.611Z"
   },
   {
    "duration": 11,
    "start_time": "2022-07-05T10:18:59.405Z"
   },
   {
    "duration": 9,
    "start_time": "2022-07-05T10:19:00.050Z"
   },
   {
    "duration": 8,
    "start_time": "2022-07-05T10:20:39.495Z"
   },
   {
    "duration": 8,
    "start_time": "2022-07-05T10:20:49.454Z"
   },
   {
    "duration": 10,
    "start_time": "2022-07-05T10:21:03.758Z"
   },
   {
    "duration": 10,
    "start_time": "2022-07-05T10:21:12.689Z"
   },
   {
    "duration": 9,
    "start_time": "2022-07-05T10:21:26.544Z"
   },
   {
    "duration": 9,
    "start_time": "2022-07-05T10:21:40.285Z"
   },
   {
    "duration": 10,
    "start_time": "2022-07-05T10:21:43.071Z"
   },
   {
    "duration": 10,
    "start_time": "2022-07-05T10:21:47.319Z"
   },
   {
    "duration": 8,
    "start_time": "2022-07-05T10:21:52.860Z"
   },
   {
    "duration": 8,
    "start_time": "2022-07-05T10:22:05.216Z"
   },
   {
    "duration": 9,
    "start_time": "2022-07-05T10:22:09.690Z"
   },
   {
    "duration": 9,
    "start_time": "2022-07-05T10:22:10.040Z"
   },
   {
    "duration": 1604,
    "start_time": "2022-07-05T10:22:12.770Z"
   },
   {
    "duration": 4,
    "start_time": "2022-07-05T10:48:11.422Z"
   },
   {
    "duration": 382,
    "start_time": "2022-07-05T10:48:11.429Z"
   },
   {
    "duration": 9,
    "start_time": "2022-07-05T10:48:11.813Z"
   },
   {
    "duration": 39,
    "start_time": "2022-07-05T10:48:11.824Z"
   },
   {
    "duration": 19,
    "start_time": "2022-07-05T10:48:11.866Z"
   },
   {
    "duration": 24,
    "start_time": "2022-07-05T10:48:11.887Z"
   },
   {
    "duration": 15,
    "start_time": "2022-07-05T10:48:11.913Z"
   },
   {
    "duration": 24,
    "start_time": "2022-07-05T10:48:11.931Z"
   },
   {
    "duration": 5,
    "start_time": "2022-07-05T10:48:11.957Z"
   },
   {
    "duration": 6,
    "start_time": "2022-07-05T10:48:11.965Z"
   },
   {
    "duration": 9,
    "start_time": "2022-07-05T10:48:11.973Z"
   },
   {
    "duration": 12,
    "start_time": "2022-07-05T10:48:11.984Z"
   },
   {
    "duration": 32,
    "start_time": "2022-07-05T10:48:11.998Z"
   },
   {
    "duration": 14,
    "start_time": "2022-07-05T10:48:12.033Z"
   },
   {
    "duration": 18,
    "start_time": "2022-07-05T10:48:12.049Z"
   },
   {
    "duration": 16,
    "start_time": "2022-07-05T10:48:12.122Z"
   },
   {
    "duration": 188,
    "start_time": "2022-07-05T10:48:12.139Z"
   },
   {
    "duration": 12,
    "start_time": "2022-07-05T10:48:12.329Z"
   },
   {
    "duration": 81,
    "start_time": "2022-07-05T10:48:12.344Z"
   },
   {
    "duration": 12,
    "start_time": "2022-07-05T10:48:12.427Z"
   },
   {
    "duration": 91,
    "start_time": "2022-07-05T10:48:12.441Z"
   },
   {
    "duration": 9,
    "start_time": "2022-07-05T10:48:12.534Z"
   },
   {
    "duration": 12,
    "start_time": "2022-07-05T10:48:12.545Z"
   },
   {
    "duration": 4,
    "start_time": "2022-07-05T10:48:12.559Z"
   },
   {
    "duration": 7,
    "start_time": "2022-07-05T10:48:12.564Z"
   },
   {
    "duration": 12,
    "start_time": "2022-07-05T10:48:12.574Z"
   },
   {
    "duration": 35,
    "start_time": "2022-07-05T10:48:12.588Z"
   },
   {
    "duration": 8,
    "start_time": "2022-07-05T10:48:12.625Z"
   },
   {
    "duration": 5,
    "start_time": "2022-07-05T10:48:12.635Z"
   },
   {
    "duration": 4,
    "start_time": "2022-07-05T10:48:12.642Z"
   },
   {
    "duration": 13,
    "start_time": "2022-07-05T10:48:12.647Z"
   },
   {
    "duration": 9,
    "start_time": "2022-07-05T10:48:12.662Z"
   },
   {
    "duration": 51,
    "start_time": "2022-07-05T10:48:12.672Z"
   },
   {
    "duration": 1660,
    "start_time": "2022-07-05T10:48:12.726Z"
   },
   {
    "duration": 1701,
    "start_time": "2022-07-05T10:49:17.770Z"
   },
   {
    "duration": 5,
    "start_time": "2022-07-05T10:49:33.156Z"
   },
   {
    "duration": 1643,
    "start_time": "2022-07-05T10:49:50.939Z"
   },
   {
    "duration": 5,
    "start_time": "2022-07-05T10:50:11.968Z"
   },
   {
    "duration": 1719,
    "start_time": "2022-07-05T11:00:49.555Z"
   },
   {
    "duration": 1580,
    "start_time": "2022-07-05T11:01:20.054Z"
   },
   {
    "duration": 1597,
    "start_time": "2022-07-05T11:02:00.194Z"
   },
   {
    "duration": 1615,
    "start_time": "2022-07-05T11:03:03.664Z"
   },
   {
    "duration": 1699,
    "start_time": "2022-07-05T11:03:38.101Z"
   },
   {
    "duration": 1581,
    "start_time": "2022-07-05T11:04:19.832Z"
   },
   {
    "duration": 1622,
    "start_time": "2022-07-05T11:06:39.126Z"
   },
   {
    "duration": 4,
    "start_time": "2022-07-05T11:06:40.750Z"
   },
   {
    "duration": 1654,
    "start_time": "2022-07-05T11:06:40.756Z"
   },
   {
    "duration": 12,
    "start_time": "2022-07-05T11:06:42.413Z"
   },
   {
    "duration": 1654,
    "start_time": "2022-07-05T11:06:42.427Z"
   },
   {
    "duration": 4,
    "start_time": "2022-07-05T11:06:44.083Z"
   },
   {
    "duration": 4,
    "start_time": "2022-07-05T11:06:58.941Z"
   },
   {
    "duration": 395,
    "start_time": "2022-07-05T11:06:58.947Z"
   },
   {
    "duration": 9,
    "start_time": "2022-07-05T11:06:59.344Z"
   },
   {
    "duration": 11,
    "start_time": "2022-07-05T11:06:59.355Z"
   },
   {
    "duration": 12,
    "start_time": "2022-07-05T11:06:59.367Z"
   },
   {
    "duration": 17,
    "start_time": "2022-07-05T11:06:59.381Z"
   },
   {
    "duration": 29,
    "start_time": "2022-07-05T11:06:59.399Z"
   },
   {
    "duration": 13,
    "start_time": "2022-07-05T11:06:59.429Z"
   },
   {
    "duration": 5,
    "start_time": "2022-07-05T11:06:59.445Z"
   },
   {
    "duration": 8,
    "start_time": "2022-07-05T11:06:59.451Z"
   },
   {
    "duration": 15,
    "start_time": "2022-07-05T11:06:59.461Z"
   },
   {
    "duration": 17,
    "start_time": "2022-07-05T11:06:59.478Z"
   },
   {
    "duration": 29,
    "start_time": "2022-07-05T11:06:59.497Z"
   },
   {
    "duration": 12,
    "start_time": "2022-07-05T11:06:59.528Z"
   },
   {
    "duration": 12,
    "start_time": "2022-07-05T11:06:59.541Z"
   },
   {
    "duration": 72,
    "start_time": "2022-07-05T11:06:59.555Z"
   },
   {
    "duration": 96,
    "start_time": "2022-07-05T11:06:59.628Z"
   },
   {
    "duration": 8,
    "start_time": "2022-07-05T11:06:59.727Z"
   },
   {
    "duration": 94,
    "start_time": "2022-07-05T11:06:59.737Z"
   },
   {
    "duration": 11,
    "start_time": "2022-07-05T11:06:59.833Z"
   },
   {
    "duration": 11,
    "start_time": "2022-07-05T11:06:59.846Z"
   },
   {
    "duration": 64,
    "start_time": "2022-07-05T11:06:59.859Z"
   },
   {
    "duration": 5,
    "start_time": "2022-07-05T11:06:59.926Z"
   },
   {
    "duration": 18,
    "start_time": "2022-07-05T11:06:59.935Z"
   },
   {
    "duration": 6,
    "start_time": "2022-07-05T11:06:59.955Z"
   },
   {
    "duration": 7,
    "start_time": "2022-07-05T11:06:59.963Z"
   },
   {
    "duration": 8,
    "start_time": "2022-07-05T11:06:59.972Z"
   },
   {
    "duration": 7,
    "start_time": "2022-07-05T11:06:59.982Z"
   },
   {
    "duration": 5,
    "start_time": "2022-07-05T11:06:59.991Z"
   },
   {
    "duration": 4,
    "start_time": "2022-07-05T11:06:59.997Z"
   },
   {
    "duration": 35,
    "start_time": "2022-07-05T11:07:00.003Z"
   },
   {
    "duration": 9,
    "start_time": "2022-07-05T11:07:00.040Z"
   },
   {
    "duration": 13,
    "start_time": "2022-07-05T11:07:00.050Z"
   },
   {
    "duration": 1677,
    "start_time": "2022-07-05T11:07:00.065Z"
   },
   {
    "duration": 6,
    "start_time": "2022-07-05T11:07:01.745Z"
   },
   {
    "duration": 1793,
    "start_time": "2022-07-05T11:07:01.753Z"
   },
   {
    "duration": 4,
    "start_time": "2022-07-05T11:07:03.548Z"
   },
   {
    "duration": 1633,
    "start_time": "2022-07-05T11:07:03.554Z"
   },
   {
    "duration": 4,
    "start_time": "2022-07-05T11:07:05.189Z"
   },
   {
    "duration": 2,
    "start_time": "2022-07-05T11:07:50.619Z"
   },
   {
    "duration": 4,
    "start_time": "2022-07-05T11:10:22.315Z"
   },
   {
    "duration": 4,
    "start_time": "2022-07-05T11:11:02.774Z"
   },
   {
    "duration": 1605,
    "start_time": "2022-07-05T11:11:36.609Z"
   },
   {
    "duration": 6,
    "start_time": "2022-07-05T11:11:48.944Z"
   },
   {
    "duration": 4,
    "start_time": "2022-07-05T11:11:55.602Z"
   },
   {
    "duration": 4,
    "start_time": "2022-07-05T11:12:04.638Z"
   },
   {
    "duration": 5,
    "start_time": "2022-07-05T11:12:16.910Z"
   },
   {
    "duration": 5,
    "start_time": "2022-07-05T11:12:34.318Z"
   },
   {
    "duration": 1667,
    "start_time": "2022-07-05T11:13:02.936Z"
   },
   {
    "duration": 5,
    "start_time": "2022-07-05T11:13:04.605Z"
   },
   {
    "duration": 1631,
    "start_time": "2022-07-05T11:13:51.926Z"
   },
   {
    "duration": 1645,
    "start_time": "2022-07-05T11:14:33.006Z"
   },
   {
    "duration": 1741,
    "start_time": "2022-07-05T11:14:52.821Z"
   },
   {
    "duration": 5,
    "start_time": "2022-07-05T11:15:05.167Z"
   },
   {
    "duration": 5,
    "start_time": "2022-07-05T11:15:14.152Z"
   },
   {
    "duration": 5,
    "start_time": "2022-07-05T11:15:16.747Z"
   },
   {
    "duration": 1709,
    "start_time": "2022-07-05T11:19:05.514Z"
   },
   {
    "duration": 1420,
    "start_time": "2022-07-05T11:19:17.785Z"
   },
   {
    "duration": 374,
    "start_time": "2022-07-05T11:19:19.208Z"
   },
   {
    "duration": 13,
    "start_time": "2022-07-05T11:19:19.584Z"
   },
   {
    "duration": 13,
    "start_time": "2022-07-05T11:19:19.598Z"
   },
   {
    "duration": 18,
    "start_time": "2022-07-05T11:19:19.613Z"
   },
   {
    "duration": 20,
    "start_time": "2022-07-05T11:19:19.633Z"
   },
   {
    "duration": 13,
    "start_time": "2022-07-05T11:19:19.655Z"
   },
   {
    "duration": 19,
    "start_time": "2022-07-05T11:19:19.670Z"
   },
   {
    "duration": 5,
    "start_time": "2022-07-05T11:19:19.690Z"
   },
   {
    "duration": 30,
    "start_time": "2022-07-05T11:19:19.697Z"
   },
   {
    "duration": 8,
    "start_time": "2022-07-05T11:19:19.730Z"
   },
   {
    "duration": 19,
    "start_time": "2022-07-05T11:19:19.740Z"
   },
   {
    "duration": 15,
    "start_time": "2022-07-05T11:19:19.760Z"
   },
   {
    "duration": 14,
    "start_time": "2022-07-05T11:19:19.778Z"
   },
   {
    "duration": 51,
    "start_time": "2022-07-05T11:19:19.793Z"
   },
   {
    "duration": 177,
    "start_time": "2022-07-05T11:19:19.846Z"
   },
   {
    "duration": 99,
    "start_time": "2022-07-05T11:19:20.025Z"
   },
   {
    "duration": 2,
    "start_time": "2022-07-05T11:19:20.127Z"
   },
   {
    "duration": 99,
    "start_time": "2022-07-05T11:19:20.131Z"
   },
   {
    "duration": 92,
    "start_time": "2022-07-05T11:19:20.231Z"
   },
   {
    "duration": 9,
    "start_time": "2022-07-05T11:19:20.326Z"
   },
   {
    "duration": 6,
    "start_time": "2022-07-05T11:19:20.337Z"
   },
   {
    "duration": 7,
    "start_time": "2022-07-05T11:19:20.344Z"
   },
   {
    "duration": 6,
    "start_time": "2022-07-05T11:19:20.352Z"
   },
   {
    "duration": 8,
    "start_time": "2022-07-05T11:19:20.360Z"
   },
   {
    "duration": 7,
    "start_time": "2022-07-05T11:19:20.370Z"
   },
   {
    "duration": 9,
    "start_time": "2022-07-05T11:19:20.378Z"
   },
   {
    "duration": 6,
    "start_time": "2022-07-05T11:19:20.388Z"
   },
   {
    "duration": 6,
    "start_time": "2022-07-05T11:19:20.425Z"
   },
   {
    "duration": 4,
    "start_time": "2022-07-05T11:19:20.433Z"
   },
   {
    "duration": 12,
    "start_time": "2022-07-05T11:19:20.439Z"
   },
   {
    "duration": 8,
    "start_time": "2022-07-05T11:19:20.453Z"
   },
   {
    "duration": 11,
    "start_time": "2022-07-05T11:19:20.463Z"
   },
   {
    "duration": 1673,
    "start_time": "2022-07-05T11:19:20.476Z"
   },
   {
    "duration": 6,
    "start_time": "2022-07-05T11:19:22.151Z"
   },
   {
    "duration": 1696,
    "start_time": "2022-07-05T11:19:22.159Z"
   },
   {
    "duration": 106,
    "start_time": "2022-07-05T11:19:23.857Z"
   },
   {
    "duration": 0,
    "start_time": "2022-07-05T11:19:23.964Z"
   },
   {
    "duration": 0,
    "start_time": "2022-07-05T11:19:23.966Z"
   },
   {
    "duration": 3,
    "start_time": "2022-07-05T11:19:31.320Z"
   },
   {
    "duration": 349,
    "start_time": "2022-07-05T11:19:31.325Z"
   },
   {
    "duration": 11,
    "start_time": "2022-07-05T11:19:31.676Z"
   },
   {
    "duration": 15,
    "start_time": "2022-07-05T11:19:31.689Z"
   },
   {
    "duration": 19,
    "start_time": "2022-07-05T11:19:31.706Z"
   },
   {
    "duration": 19,
    "start_time": "2022-07-05T11:19:31.727Z"
   },
   {
    "duration": 13,
    "start_time": "2022-07-05T11:19:31.748Z"
   },
   {
    "duration": 13,
    "start_time": "2022-07-05T11:19:31.763Z"
   },
   {
    "duration": 5,
    "start_time": "2022-07-05T11:19:31.778Z"
   },
   {
    "duration": 9,
    "start_time": "2022-07-05T11:19:31.784Z"
   },
   {
    "duration": 38,
    "start_time": "2022-07-05T11:19:31.795Z"
   },
   {
    "duration": 16,
    "start_time": "2022-07-05T11:19:31.834Z"
   },
   {
    "duration": 13,
    "start_time": "2022-07-05T11:19:31.852Z"
   },
   {
    "duration": 12,
    "start_time": "2022-07-05T11:19:31.869Z"
   },
   {
    "duration": 48,
    "start_time": "2022-07-05T11:19:31.882Z"
   },
   {
    "duration": 105,
    "start_time": "2022-07-05T11:19:31.932Z"
   },
   {
    "duration": 284,
    "start_time": "2022-07-05T11:19:32.039Z"
   },
   {
    "duration": 5,
    "start_time": "2022-07-05T11:19:32.325Z"
   },
   {
    "duration": 6,
    "start_time": "2022-07-05T11:19:32.332Z"
   },
   {
    "duration": 6,
    "start_time": "2022-07-05T11:19:32.339Z"
   },
   {
    "duration": 10,
    "start_time": "2022-07-05T11:19:32.347Z"
   },
   {
    "duration": 6,
    "start_time": "2022-07-05T11:19:32.358Z"
   },
   {
    "duration": 6,
    "start_time": "2022-07-05T11:19:32.365Z"
   },
   {
    "duration": 3,
    "start_time": "2022-07-05T11:19:32.373Z"
   },
   {
    "duration": 2,
    "start_time": "2022-07-05T11:19:32.424Z"
   },
   {
    "duration": 20,
    "start_time": "2022-07-05T11:19:32.428Z"
   },
   {
    "duration": 20,
    "start_time": "2022-07-05T11:19:32.450Z"
   },
   {
    "duration": 26,
    "start_time": "2022-07-05T11:19:32.472Z"
   },
   {
    "duration": 22,
    "start_time": "2022-07-05T11:19:32.500Z"
   },
   {
    "duration": 25,
    "start_time": "2022-07-05T11:19:32.524Z"
   },
   {
    "duration": 35,
    "start_time": "2022-07-05T11:19:32.551Z"
   },
   {
    "duration": 23,
    "start_time": "2022-07-05T11:19:32.588Z"
   },
   {
    "duration": 20,
    "start_time": "2022-07-05T11:19:32.613Z"
   },
   {
    "duration": 1647,
    "start_time": "2022-07-05T11:19:32.635Z"
   },
   {
    "duration": 5,
    "start_time": "2022-07-05T11:19:34.284Z"
   },
   {
    "duration": 1632,
    "start_time": "2022-07-05T11:19:34.291Z"
   },
   {
    "duration": 13,
    "start_time": "2022-07-05T11:19:35.925Z"
   },
   {
    "duration": 0,
    "start_time": "2022-07-05T11:19:35.940Z"
   },
   {
    "duration": 0,
    "start_time": "2022-07-05T11:19:35.941Z"
   },
   {
    "duration": 5,
    "start_time": "2022-07-05T11:19:49.921Z"
   },
   {
    "duration": 10,
    "start_time": "2022-07-05T11:20:06.839Z"
   },
   {
    "duration": 1636,
    "start_time": "2022-07-05T11:20:10.194Z"
   },
   {
    "duration": 4,
    "start_time": "2022-07-05T11:20:11.832Z"
   },
   {
    "duration": 106,
    "start_time": "2022-07-05T13:13:03.188Z"
   },
   {
    "duration": 108,
    "start_time": "2022-07-05T13:13:20.473Z"
   },
   {
    "duration": 126,
    "start_time": "2022-07-05T13:13:53.886Z"
   },
   {
    "duration": 146,
    "start_time": "2022-07-05T13:14:02.527Z"
   },
   {
    "duration": 1742,
    "start_time": "2022-07-05T13:15:09.182Z"
   },
   {
    "duration": 2418,
    "start_time": "2022-07-05T13:15:10.926Z"
   },
   {
    "duration": 32,
    "start_time": "2022-07-05T13:15:13.345Z"
   },
   {
    "duration": 26,
    "start_time": "2022-07-05T13:15:13.384Z"
   },
   {
    "duration": 9,
    "start_time": "2022-07-05T13:15:13.413Z"
   },
   {
    "duration": 19,
    "start_time": "2022-07-05T13:15:13.423Z"
   },
   {
    "duration": 28,
    "start_time": "2022-07-05T13:15:13.444Z"
   },
   {
    "duration": 39,
    "start_time": "2022-07-05T13:15:13.484Z"
   },
   {
    "duration": 4,
    "start_time": "2022-07-05T13:15:13.525Z"
   },
   {
    "duration": 15,
    "start_time": "2022-07-05T13:15:13.531Z"
   },
   {
    "duration": 52,
    "start_time": "2022-07-05T13:15:13.548Z"
   },
   {
    "duration": 21,
    "start_time": "2022-07-05T13:15:13.602Z"
   },
   {
    "duration": 17,
    "start_time": "2022-07-05T13:15:13.625Z"
   },
   {
    "duration": 34,
    "start_time": "2022-07-05T13:15:13.645Z"
   },
   {
    "duration": 82,
    "start_time": "2022-07-05T13:15:13.685Z"
   },
   {
    "duration": 139,
    "start_time": "2022-07-05T13:15:13.769Z"
   },
   {
    "duration": 65,
    "start_time": "2022-07-05T13:15:13.910Z"
   },
   {
    "duration": 84,
    "start_time": "2022-07-05T13:15:13.977Z"
   },
   {
    "duration": 57,
    "start_time": "2022-07-05T13:15:14.063Z"
   },
   {
    "duration": 5,
    "start_time": "2022-07-05T13:15:14.122Z"
   },
   {
    "duration": 33,
    "start_time": "2022-07-05T13:15:14.129Z"
   },
   {
    "duration": 50,
    "start_time": "2022-07-05T13:15:14.163Z"
   },
   {
    "duration": 7,
    "start_time": "2022-07-05T13:15:14.214Z"
   },
   {
    "duration": 6,
    "start_time": "2022-07-05T13:15:14.222Z"
   },
   {
    "duration": 11,
    "start_time": "2022-07-05T13:15:14.230Z"
   },
   {
    "duration": 6,
    "start_time": "2022-07-05T13:15:14.242Z"
   },
   {
    "duration": 60,
    "start_time": "2022-07-05T13:15:14.249Z"
   },
   {
    "duration": 7,
    "start_time": "2022-07-05T13:15:14.311Z"
   },
   {
    "duration": 7,
    "start_time": "2022-07-05T13:15:14.319Z"
   },
   {
    "duration": 7,
    "start_time": "2022-07-05T13:15:14.327Z"
   },
   {
    "duration": 12,
    "start_time": "2022-07-05T13:15:14.336Z"
   },
   {
    "duration": 12,
    "start_time": "2022-07-05T13:15:14.350Z"
   },
   {
    "duration": 54,
    "start_time": "2022-07-05T13:15:14.363Z"
   },
   {
    "duration": 1966,
    "start_time": "2022-07-05T13:15:14.418Z"
   },
   {
    "duration": 16,
    "start_time": "2022-07-05T13:15:16.392Z"
   },
   {
    "duration": 1870,
    "start_time": "2022-07-05T13:15:16.410Z"
   },
   {
    "duration": 14,
    "start_time": "2022-07-05T13:15:18.281Z"
   },
   {
    "duration": 1915,
    "start_time": "2022-07-05T13:15:18.296Z"
   },
   {
    "duration": 4,
    "start_time": "2022-07-05T13:15:20.212Z"
   },
   {
    "duration": 10,
    "start_time": "2022-07-05T13:18:43.201Z"
   },
   {
    "duration": 568,
    "start_time": "2022-07-05T13:18:43.212Z"
   },
   {
    "duration": 22,
    "start_time": "2022-07-05T13:18:43.790Z"
   },
   {
    "duration": 22,
    "start_time": "2022-07-05T13:18:43.815Z"
   },
   {
    "duration": 44,
    "start_time": "2022-07-05T13:18:43.839Z"
   },
   {
    "duration": 65,
    "start_time": "2022-07-05T13:18:43.886Z"
   },
   {
    "duration": 32,
    "start_time": "2022-07-05T13:18:43.952Z"
   },
   {
    "duration": 56,
    "start_time": "2022-07-05T13:18:43.991Z"
   },
   {
    "duration": 10,
    "start_time": "2022-07-05T13:18:44.049Z"
   },
   {
    "duration": 73,
    "start_time": "2022-07-05T13:18:44.062Z"
   },
   {
    "duration": 26,
    "start_time": "2022-07-05T13:18:44.137Z"
   },
   {
    "duration": 67,
    "start_time": "2022-07-05T13:18:44.165Z"
   },
   {
    "duration": 16,
    "start_time": "2022-07-05T13:18:44.234Z"
   },
   {
    "duration": 60,
    "start_time": "2022-07-05T13:18:44.253Z"
   },
   {
    "duration": 25,
    "start_time": "2022-07-05T13:18:44.322Z"
   },
   {
    "duration": 41,
    "start_time": "2022-07-05T13:18:44.349Z"
   },
   {
    "duration": 143,
    "start_time": "2022-07-05T13:18:44.411Z"
   },
   {
    "duration": 3,
    "start_time": "2022-07-05T13:18:44.556Z"
   },
   {
    "duration": 174,
    "start_time": "2022-07-05T13:18:44.560Z"
   },
   {
    "duration": 5,
    "start_time": "2022-07-05T13:18:44.736Z"
   },
   {
    "duration": 7,
    "start_time": "2022-07-05T13:18:44.743Z"
   },
   {
    "duration": 71,
    "start_time": "2022-07-05T13:18:44.751Z"
   },
   {
    "duration": 7,
    "start_time": "2022-07-05T13:18:44.824Z"
   },
   {
    "duration": 3,
    "start_time": "2022-07-05T13:18:44.833Z"
   },
   {
    "duration": 5,
    "start_time": "2022-07-05T13:18:44.837Z"
   },
   {
    "duration": 67,
    "start_time": "2022-07-05T13:18:44.844Z"
   },
   {
    "duration": 6,
    "start_time": "2022-07-05T13:18:44.913Z"
   },
   {
    "duration": 9,
    "start_time": "2022-07-05T13:18:44.920Z"
   },
   {
    "duration": 7,
    "start_time": "2022-07-05T13:18:44.930Z"
   },
   {
    "duration": 5,
    "start_time": "2022-07-05T13:18:44.939Z"
   },
   {
    "duration": 29,
    "start_time": "2022-07-05T13:18:44.946Z"
   },
   {
    "duration": 51,
    "start_time": "2022-07-05T13:18:44.977Z"
   },
   {
    "duration": 26,
    "start_time": "2022-07-05T13:18:45.030Z"
   },
   {
    "duration": 2077,
    "start_time": "2022-07-05T13:18:45.057Z"
   },
   {
    "duration": 5,
    "start_time": "2022-07-05T13:18:47.135Z"
   },
   {
    "duration": 2173,
    "start_time": "2022-07-05T13:18:47.141Z"
   },
   {
    "duration": 4,
    "start_time": "2022-07-05T13:18:49.316Z"
   },
   {
    "duration": 2043,
    "start_time": "2022-07-05T13:18:49.322Z"
   },
   {
    "duration": 15,
    "start_time": "2022-07-05T13:18:51.366Z"
   },
   {
    "duration": 8,
    "start_time": "2022-07-05T13:20:57.537Z"
   },
   {
    "duration": 9,
    "start_time": "2022-07-05T13:21:11.427Z"
   },
   {
    "duration": 1503,
    "start_time": "2022-07-05T13:28:28.772Z"
   },
   {
    "duration": 437,
    "start_time": "2022-07-05T13:28:30.278Z"
   },
   {
    "duration": 12,
    "start_time": "2022-07-05T13:28:30.717Z"
   },
   {
    "duration": 12,
    "start_time": "2022-07-05T13:28:30.731Z"
   },
   {
    "duration": 17,
    "start_time": "2022-07-05T13:28:30.753Z"
   },
   {
    "duration": 56,
    "start_time": "2022-07-05T13:28:30.771Z"
   },
   {
    "duration": 12,
    "start_time": "2022-07-05T13:28:30.828Z"
   },
   {
    "duration": 26,
    "start_time": "2022-07-05T13:28:30.842Z"
   },
   {
    "duration": 14,
    "start_time": "2022-07-05T13:28:30.873Z"
   },
   {
    "duration": 20,
    "start_time": "2022-07-05T13:28:30.893Z"
   },
   {
    "duration": 8,
    "start_time": "2022-07-05T13:28:30.914Z"
   },
   {
    "duration": 15,
    "start_time": "2022-07-05T13:28:30.924Z"
   },
   {
    "duration": 14,
    "start_time": "2022-07-05T13:28:30.940Z"
   },
   {
    "duration": 18,
    "start_time": "2022-07-05T13:28:30.957Z"
   },
   {
    "duration": 36,
    "start_time": "2022-07-05T13:28:30.984Z"
   },
   {
    "duration": 50,
    "start_time": "2022-07-05T13:28:31.023Z"
   },
   {
    "duration": 172,
    "start_time": "2022-07-05T13:28:31.080Z"
   },
   {
    "duration": 3,
    "start_time": "2022-07-05T13:28:31.254Z"
   },
   {
    "duration": 1,
    "start_time": "2022-07-05T13:28:31.259Z"
   },
   {
    "duration": 143,
    "start_time": "2022-07-05T13:28:31.262Z"
   },
   {
    "duration": 20,
    "start_time": "2022-07-05T13:28:31.407Z"
   },
   {
    "duration": 23,
    "start_time": "2022-07-05T13:28:31.428Z"
   },
   {
    "duration": 58,
    "start_time": "2022-07-05T13:28:31.458Z"
   },
   {
    "duration": 16,
    "start_time": "2022-07-05T13:28:31.517Z"
   },
   {
    "duration": 12,
    "start_time": "2022-07-05T13:28:31.534Z"
   },
   {
    "duration": 61,
    "start_time": "2022-07-05T13:28:31.547Z"
   },
   {
    "duration": 18,
    "start_time": "2022-07-05T13:28:31.610Z"
   },
   {
    "duration": 9,
    "start_time": "2022-07-05T13:28:31.629Z"
   },
   {
    "duration": 8,
    "start_time": "2022-07-05T13:28:31.640Z"
   },
   {
    "duration": 59,
    "start_time": "2022-07-05T13:28:31.649Z"
   },
   {
    "duration": 23,
    "start_time": "2022-07-05T13:28:31.709Z"
   },
   {
    "duration": 7,
    "start_time": "2022-07-05T13:28:31.734Z"
   },
   {
    "duration": 15,
    "start_time": "2022-07-05T13:28:31.743Z"
   },
   {
    "duration": 1897,
    "start_time": "2022-07-05T13:28:31.759Z"
   },
   {
    "duration": 7,
    "start_time": "2022-07-05T13:28:33.659Z"
   },
   {
    "duration": 1911,
    "start_time": "2022-07-05T13:28:33.667Z"
   },
   {
    "duration": 4,
    "start_time": "2022-07-05T13:28:35.580Z"
   },
   {
    "duration": 1913,
    "start_time": "2022-07-05T13:28:35.586Z"
   },
   {
    "duration": 4,
    "start_time": "2022-07-05T13:28:37.507Z"
   },
   {
    "duration": 4,
    "start_time": "2022-07-05T13:29:34.643Z"
   },
   {
    "duration": 11,
    "start_time": "2022-07-05T13:29:41.798Z"
   },
   {
    "duration": 16,
    "start_time": "2022-07-05T13:29:46.156Z"
   },
   {
    "duration": 12,
    "start_time": "2022-07-05T18:36:32.071Z"
   },
   {
    "duration": 3,
    "start_time": "2022-07-05T18:36:32.957Z"
   },
   {
    "duration": 49,
    "start_time": "2022-07-05T18:37:12.153Z"
   },
   {
    "duration": 5,
    "start_time": "2022-07-05T18:37:29.065Z"
   },
   {
    "duration": 6,
    "start_time": "2022-07-05T18:37:33.167Z"
   },
   {
    "duration": 1556,
    "start_time": "2022-07-05T18:37:42.959Z"
   },
   {
    "duration": 876,
    "start_time": "2022-07-05T18:37:44.518Z"
   },
   {
    "duration": 15,
    "start_time": "2022-07-05T18:37:45.396Z"
   },
   {
    "duration": 10,
    "start_time": "2022-07-05T18:37:45.413Z"
   },
   {
    "duration": 21,
    "start_time": "2022-07-05T18:37:45.426Z"
   },
   {
    "duration": 19,
    "start_time": "2022-07-05T18:37:45.448Z"
   },
   {
    "duration": 13,
    "start_time": "2022-07-05T18:37:45.469Z"
   },
   {
    "duration": 16,
    "start_time": "2022-07-05T18:37:45.483Z"
   },
   {
    "duration": 4,
    "start_time": "2022-07-05T18:37:45.501Z"
   },
   {
    "duration": 9,
    "start_time": "2022-07-05T18:37:45.507Z"
   },
   {
    "duration": 10,
    "start_time": "2022-07-05T18:37:45.547Z"
   },
   {
    "duration": 16,
    "start_time": "2022-07-05T18:37:45.559Z"
   },
   {
    "duration": 13,
    "start_time": "2022-07-05T18:37:45.576Z"
   },
   {
    "duration": 13,
    "start_time": "2022-07-05T18:37:45.591Z"
   },
   {
    "duration": 141,
    "start_time": "2022-07-05T18:37:45.606Z"
   },
   {
    "duration": 102,
    "start_time": "2022-07-05T18:37:45.749Z"
   },
   {
    "duration": 102,
    "start_time": "2022-07-05T18:37:45.857Z"
   },
   {
    "duration": 3,
    "start_time": "2022-07-05T18:37:46.047Z"
   },
   {
    "duration": 11,
    "start_time": "2022-07-05T18:37:46.052Z"
   },
   {
    "duration": 2,
    "start_time": "2022-07-05T18:37:46.147Z"
   },
   {
    "duration": 7,
    "start_time": "2022-07-05T18:37:46.151Z"
   },
   {
    "duration": 10,
    "start_time": "2022-07-05T18:37:46.160Z"
   },
   {
    "duration": 6,
    "start_time": "2022-07-05T18:37:46.172Z"
   },
   {
    "duration": 5,
    "start_time": "2022-07-05T18:37:46.179Z"
   },
   {
    "duration": 9,
    "start_time": "2022-07-05T18:37:46.185Z"
   },
   {
    "duration": 7,
    "start_time": "2022-07-05T18:37:46.195Z"
   },
   {
    "duration": 7,
    "start_time": "2022-07-05T18:37:46.204Z"
   },
   {
    "duration": 4,
    "start_time": "2022-07-05T18:37:47.783Z"
   },
   {
    "duration": 4,
    "start_time": "2022-07-05T18:37:49.214Z"
   },
   {
    "duration": 4,
    "start_time": "2022-07-05T18:37:50.433Z"
   },
   {
    "duration": 3,
    "start_time": "2022-07-05T18:38:37.427Z"
   },
   {
    "duration": 9,
    "start_time": "2022-07-05T18:38:42.284Z"
   },
   {
    "duration": 9,
    "start_time": "2022-07-05T18:38:42.771Z"
   },
   {
    "duration": 9,
    "start_time": "2022-07-05T18:38:43.193Z"
   },
   {
    "duration": 1632,
    "start_time": "2022-07-05T18:38:50.840Z"
   },
   {
    "duration": 5,
    "start_time": "2022-07-05T18:38:56.088Z"
   },
   {
    "duration": 1574,
    "start_time": "2022-07-05T18:38:56.748Z"
   },
   {
    "duration": 4,
    "start_time": "2022-07-05T18:38:58.324Z"
   },
   {
    "duration": 1672,
    "start_time": "2022-07-05T18:39:14.000Z"
   },
   {
    "duration": 3,
    "start_time": "2022-07-05T18:39:15.674Z"
   },
   {
    "duration": 1301,
    "start_time": "2022-07-05T18:41:50.502Z"
   },
   {
    "duration": 374,
    "start_time": "2022-07-05T18:41:51.805Z"
   },
   {
    "duration": 13,
    "start_time": "2022-07-05T18:41:52.181Z"
   },
   {
    "duration": 9,
    "start_time": "2022-07-05T18:41:52.196Z"
   },
   {
    "duration": 11,
    "start_time": "2022-07-05T18:41:52.207Z"
   },
   {
    "duration": 34,
    "start_time": "2022-07-05T18:41:52.219Z"
   },
   {
    "duration": 15,
    "start_time": "2022-07-05T18:41:52.254Z"
   },
   {
    "duration": 14,
    "start_time": "2022-07-05T18:41:52.270Z"
   },
   {
    "duration": 4,
    "start_time": "2022-07-05T18:41:52.286Z"
   },
   {
    "duration": 11,
    "start_time": "2022-07-05T18:41:52.293Z"
   },
   {
    "duration": 11,
    "start_time": "2022-07-05T18:41:52.305Z"
   },
   {
    "duration": 38,
    "start_time": "2022-07-05T18:41:52.318Z"
   },
   {
    "duration": 13,
    "start_time": "2022-07-05T18:41:52.357Z"
   },
   {
    "duration": 13,
    "start_time": "2022-07-05T18:41:52.372Z"
   },
   {
    "duration": 59,
    "start_time": "2022-07-05T18:41:52.387Z"
   },
   {
    "duration": 99,
    "start_time": "2022-07-05T18:41:52.449Z"
   },
   {
    "duration": 103,
    "start_time": "2022-07-05T18:41:52.550Z"
   },
   {
    "duration": 91,
    "start_time": "2022-07-05T18:41:52.656Z"
   },
   {
    "duration": 92,
    "start_time": "2022-07-05T18:41:52.754Z"
   },
   {
    "duration": 5,
    "start_time": "2022-07-05T18:41:52.848Z"
   },
   {
    "duration": 11,
    "start_time": "2022-07-05T18:41:52.855Z"
   },
   {
    "duration": 13,
    "start_time": "2022-07-05T18:41:52.867Z"
   },
   {
    "duration": 5,
    "start_time": "2022-07-05T18:41:52.882Z"
   },
   {
    "duration": 11,
    "start_time": "2022-07-05T18:41:52.889Z"
   },
   {
    "duration": 4,
    "start_time": "2022-07-05T18:41:52.902Z"
   },
   {
    "duration": 9,
    "start_time": "2022-07-05T18:41:52.908Z"
   },
   {
    "duration": 6,
    "start_time": "2022-07-05T18:41:52.919Z"
   },
   {
    "duration": 18,
    "start_time": "2022-07-05T18:41:52.928Z"
   },
   {
    "duration": 6,
    "start_time": "2022-07-05T18:41:52.948Z"
   },
   {
    "duration": 8,
    "start_time": "2022-07-05T18:41:52.956Z"
   },
   {
    "duration": 11,
    "start_time": "2022-07-05T18:41:52.967Z"
   },
   {
    "duration": 9,
    "start_time": "2022-07-05T18:41:52.980Z"
   },
   {
    "duration": 9,
    "start_time": "2022-07-05T18:41:52.990Z"
   },
   {
    "duration": 1755,
    "start_time": "2022-07-05T18:41:53.000Z"
   },
   {
    "duration": 4,
    "start_time": "2022-07-05T18:41:54.756Z"
   },
   {
    "duration": 1614,
    "start_time": "2022-07-05T18:41:54.763Z"
   },
   {
    "duration": 5,
    "start_time": "2022-07-05T18:41:56.378Z"
   },
   {
    "duration": 1655,
    "start_time": "2022-07-05T18:41:56.384Z"
   },
   {
    "duration": 6,
    "start_time": "2022-07-05T18:41:58.041Z"
   },
   {
    "duration": 5,
    "start_time": "2022-07-05T18:42:00.564Z"
   },
   {
    "duration": 408,
    "start_time": "2022-07-05T18:42:00.571Z"
   },
   {
    "duration": 13,
    "start_time": "2022-07-05T18:42:00.982Z"
   },
   {
    "duration": 22,
    "start_time": "2022-07-05T18:42:00.998Z"
   },
   {
    "duration": 26,
    "start_time": "2022-07-05T18:42:01.021Z"
   },
   {
    "duration": 22,
    "start_time": "2022-07-05T18:42:01.049Z"
   },
   {
    "duration": 32,
    "start_time": "2022-07-05T18:42:01.073Z"
   },
   {
    "duration": 14,
    "start_time": "2022-07-05T18:42:01.108Z"
   },
   {
    "duration": 22,
    "start_time": "2022-07-05T18:42:01.124Z"
   },
   {
    "duration": 19,
    "start_time": "2022-07-05T18:42:01.148Z"
   },
   {
    "duration": 27,
    "start_time": "2022-07-05T18:42:01.169Z"
   },
   {
    "duration": 36,
    "start_time": "2022-07-05T18:42:01.198Z"
   },
   {
    "duration": 18,
    "start_time": "2022-07-05T18:42:01.236Z"
   },
   {
    "duration": 20,
    "start_time": "2022-07-05T18:42:01.256Z"
   },
   {
    "duration": 76,
    "start_time": "2022-07-05T18:42:01.278Z"
   },
   {
    "duration": 106,
    "start_time": "2022-07-05T18:42:01.357Z"
   },
   {
    "duration": 179,
    "start_time": "2022-07-05T18:42:01.466Z"
   },
   {
    "duration": 9,
    "start_time": "2022-07-05T18:42:01.648Z"
   },
   {
    "duration": 94,
    "start_time": "2022-07-05T18:42:01.659Z"
   },
   {
    "duration": 9,
    "start_time": "2022-07-05T18:42:01.755Z"
   },
   {
    "duration": 15,
    "start_time": "2022-07-05T18:42:01.765Z"
   },
   {
    "duration": 8,
    "start_time": "2022-07-05T18:42:01.782Z"
   },
   {
    "duration": 18,
    "start_time": "2022-07-05T18:42:01.792Z"
   },
   {
    "duration": 11,
    "start_time": "2022-07-05T18:42:01.812Z"
   },
   {
    "duration": 8,
    "start_time": "2022-07-05T18:42:01.824Z"
   },
   {
    "duration": 19,
    "start_time": "2022-07-05T18:42:01.833Z"
   },
   {
    "duration": 11,
    "start_time": "2022-07-05T18:42:01.854Z"
   },
   {
    "duration": 9,
    "start_time": "2022-07-05T18:42:01.868Z"
   },
   {
    "duration": 9,
    "start_time": "2022-07-05T18:42:01.878Z"
   },
   {
    "duration": 11,
    "start_time": "2022-07-05T18:42:01.889Z"
   },
   {
    "duration": 29,
    "start_time": "2022-07-05T18:42:01.901Z"
   },
   {
    "duration": 9,
    "start_time": "2022-07-05T18:42:01.932Z"
   },
   {
    "duration": 15,
    "start_time": "2022-07-05T18:42:01.943Z"
   },
   {
    "duration": 1680,
    "start_time": "2022-07-05T18:42:01.960Z"
   },
   {
    "duration": 5,
    "start_time": "2022-07-05T18:42:03.646Z"
   },
   {
    "duration": 1701,
    "start_time": "2022-07-05T18:42:03.653Z"
   },
   {
    "duration": 4,
    "start_time": "2022-07-05T18:42:05.356Z"
   },
   {
    "duration": 1698,
    "start_time": "2022-07-05T18:42:05.362Z"
   },
   {
    "duration": 4,
    "start_time": "2022-07-05T18:42:07.062Z"
   }
  ],
  "kernelspec": {
   "display_name": "Python 3 (ipykernel)",
   "language": "python",
   "name": "python3"
  },
  "language_info": {
   "codemirror_mode": {
    "name": "ipython",
    "version": 3
   },
   "file_extension": ".py",
   "mimetype": "text/x-python",
   "name": "python",
   "nbconvert_exporter": "python",
   "pygments_lexer": "ipython3",
   "version": "3.9.7"
  },
  "toc": {
   "base_numbering": 1,
   "nav_menu": {},
   "number_sections": true,
   "sideBar": true,
   "skip_h1_title": true,
   "title_cell": "Table of Contents",
   "title_sidebar": "Contents",
   "toc_cell": false,
   "toc_position": {
    "height": "calc(100% - 180px)",
    "left": "10px",
    "top": "150px",
    "width": "189px"
   },
   "toc_section_display": true,
   "toc_window_display": true
  }
 },
 "nbformat": 4,
 "nbformat_minor": 2
}
