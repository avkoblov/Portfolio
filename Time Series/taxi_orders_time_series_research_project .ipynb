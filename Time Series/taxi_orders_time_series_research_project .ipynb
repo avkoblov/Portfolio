{
 "cells": [
  {
   "cell_type": "markdown",
   "metadata": {
    "toc": true
   },
   "source": [
    "<h1>Содержание<span class=\"tocSkip\"></span></h1>\n",
    "<div class=\"toc\"><ul class=\"toc-item\"><li><span><a href=\"#Подготовка\" data-toc-modified-id=\"Подготовка-1\"><span class=\"toc-item-num\">1&nbsp;&nbsp;</span>Подготовка</a></span></li><li><span><a href=\"#Анализ\" data-toc-modified-id=\"Анализ-2\"><span class=\"toc-item-num\">2&nbsp;&nbsp;</span>Анализ</a></span></li><li><span><a href=\"#Обучение\" data-toc-modified-id=\"Обучение-3\"><span class=\"toc-item-num\">3&nbsp;&nbsp;</span>Обучение</a></span><ul class=\"toc-item\"><li><span><a href=\"#LinearRegression\" data-toc-modified-id=\"LinearRegression-3.1\"><span class=\"toc-item-num\">3.1&nbsp;&nbsp;</span>LinearRegression</a></span></li><li><span><a href=\"#DecisionTreeRegressor\" data-toc-modified-id=\"DecisionTreeRegressor-3.2\"><span class=\"toc-item-num\">3.2&nbsp;&nbsp;</span>DecisionTreeRegressor</a></span></li><li><span><a href=\"#RandomForestRegressor\" data-toc-modified-id=\"RandomForestRegressor-3.3\"><span class=\"toc-item-num\">3.3&nbsp;&nbsp;</span>RandomForestRegressor</a></span></li></ul></li><li><span><a href=\"#Тестирование\" data-toc-modified-id=\"Тестирование-4\"><span class=\"toc-item-num\">4&nbsp;&nbsp;</span>Тестирование</a></span></li><li><span><a href=\"#Вывод\" data-toc-modified-id=\"Вывод-5\"><span class=\"toc-item-num\">5&nbsp;&nbsp;</span>Вывод</a></span></li></ul></div>"
   ]
  },
  {
   "cell_type": "markdown",
   "metadata": {},
   "source": [
    "#  Прогнозирование заказов такси"
   ]
  },
  {
   "cell_type": "markdown",
   "metadata": {},
   "source": [
    "Компания «-------» собрала исторические данные о заказах такси в аэропортах. Чтобы привлекать больше водителей в период пиковой нагрузки, нужно спрогнозировать количество заказов такси на следующий час. Построим модель для такого предсказания.\n",
    "\n",
    "Значение метрики *RMSE* на тестовой выборке должно быть не больше 48.\n",
    "\n",
    "Нам нужно:\n",
    "\n",
    "1. Загрузить данные и выполнить их ресемплирование по одному часу.\n",
    "2. Проанализировать данные.\n",
    "3. Обучить разные модели с различными гиперпараметрами. Сделать тестовую выборку размером 10% от исходных данных.\n",
    "4. Проверить данные на тестовой выборке и сделать выводы.\n",
    "\n",
    "\n",
    "Данные лежат в файле `taxi.csv`. Количество заказов находится в столбце `num_orders` (от англ. *number of orders*, «число заказов»)."
   ]
  },
  {
   "cell_type": "markdown",
   "metadata": {},
   "source": [
    "## Подготовка"
   ]
  },
  {
   "cell_type": "markdown",
   "metadata": {},
   "source": [
    "Импортируем все необходимые библиотеки"
   ]
  },
  {
   "cell_type": "code",
   "execution_count": 1,
   "metadata": {},
   "outputs": [],
   "source": [
    "import pandas as pd\n",
    "\n",
    "import matplotlib.pyplot as plt\n",
    "\n",
    "from sklearn.model_selection import train_test_split\n",
    "from sklearn.linear_model import LinearRegression\n",
    "from sklearn.tree import DecisionTreeRegressor\n",
    "from sklearn.ensemble import RandomForestRegressor\n",
    "from sklearn.metrics import mean_squared_error\n",
    "\n",
    "from statsmodels.tsa.seasonal import seasonal_decompose"
   ]
  },
  {
   "cell_type": "markdown",
   "metadata": {},
   "source": [
    "Откроем файл с данными, сразу прописав в качестве индексов первый столбец"
   ]
  },
  {
   "cell_type": "code",
   "execution_count": 2,
   "metadata": {},
   "outputs": [],
   "source": [
    "try:\n",
    "    data = pd.read_csv('/datasets/taxi.csv', index_col=[0], parse_dates=[0])\n",
    "except:\n",
    "    data = pd.read_csv('/Users/lesha_sm/Downloads/taxi.csv')"
   ]
  },
  {
   "cell_type": "code",
   "execution_count": 3,
   "metadata": {},
   "outputs": [
    {
     "data": {
      "text/html": [
       "<div>\n",
       "<style scoped>\n",
       "    .dataframe tbody tr th:only-of-type {\n",
       "        vertical-align: middle;\n",
       "    }\n",
       "\n",
       "    .dataframe tbody tr th {\n",
       "        vertical-align: top;\n",
       "    }\n",
       "\n",
       "    .dataframe thead th {\n",
       "        text-align: right;\n",
       "    }\n",
       "</style>\n",
       "<table border=\"1\" class=\"dataframe\">\n",
       "  <thead>\n",
       "    <tr style=\"text-align: right;\">\n",
       "      <th></th>\n",
       "      <th>num_orders</th>\n",
       "    </tr>\n",
       "    <tr>\n",
       "      <th>datetime</th>\n",
       "      <th></th>\n",
       "    </tr>\n",
       "  </thead>\n",
       "  <tbody>\n",
       "    <tr>\n",
       "      <th>2018-03-01 00:00:00</th>\n",
       "      <td>9</td>\n",
       "    </tr>\n",
       "    <tr>\n",
       "      <th>2018-03-01 00:10:00</th>\n",
       "      <td>14</td>\n",
       "    </tr>\n",
       "    <tr>\n",
       "      <th>2018-03-01 00:20:00</th>\n",
       "      <td>28</td>\n",
       "    </tr>\n",
       "    <tr>\n",
       "      <th>2018-03-01 00:30:00</th>\n",
       "      <td>20</td>\n",
       "    </tr>\n",
       "    <tr>\n",
       "      <th>2018-03-01 00:40:00</th>\n",
       "      <td>32</td>\n",
       "    </tr>\n",
       "  </tbody>\n",
       "</table>\n",
       "</div>"
      ],
      "text/plain": [
       "                     num_orders\n",
       "datetime                       \n",
       "2018-03-01 00:00:00           9\n",
       "2018-03-01 00:10:00          14\n",
       "2018-03-01 00:20:00          28\n",
       "2018-03-01 00:30:00          20\n",
       "2018-03-01 00:40:00          32"
      ]
     },
     "execution_count": 3,
     "metadata": {},
     "output_type": "execute_result"
    }
   ],
   "source": [
    "data.head()"
   ]
  },
  {
   "cell_type": "code",
   "execution_count": 4,
   "metadata": {},
   "outputs": [
    {
     "name": "stdout",
     "output_type": "stream",
     "text": [
      "<class 'pandas.core.frame.DataFrame'>\n",
      "DatetimeIndex: 26496 entries, 2018-03-01 00:00:00 to 2018-08-31 23:50:00\n",
      "Data columns (total 1 columns):\n",
      " #   Column      Non-Null Count  Dtype\n",
      "---  ------      --------------  -----\n",
      " 0   num_orders  26496 non-null  int64\n",
      "dtypes: int64(1)\n",
      "memory usage: 414.0 KB\n"
     ]
    }
   ],
   "source": [
    "data.info()"
   ]
  },
  {
   "cell_type": "markdown",
   "metadata": {},
   "source": [
    "Для уверенности, что все значения индексов (даты/времени) идут по порядку, отсортируем их по возрастанию"
   ]
  },
  {
   "cell_type": "code",
   "execution_count": 5,
   "metadata": {},
   "outputs": [],
   "source": [
    "data.sort_index(inplace=True)"
   ]
  },
  {
   "cell_type": "code",
   "execution_count": 6,
   "metadata": {},
   "outputs": [
    {
     "name": "stdout",
     "output_type": "stream",
     "text": [
      "<class 'pandas.core.frame.DataFrame'>\n",
      "DatetimeIndex: 26496 entries, 2018-03-01 00:00:00 to 2018-08-31 23:50:00\n",
      "Data columns (total 1 columns):\n",
      " #   Column      Non-Null Count  Dtype\n",
      "---  ------      --------------  -----\n",
      " 0   num_orders  26496 non-null  int64\n",
      "dtypes: int64(1)\n",
      "memory usage: 414.0 KB\n"
     ]
    }
   ],
   "source": [
    "data.info()"
   ]
  },
  {
   "cell_type": "markdown",
   "metadata": {},
   "source": [
    "Тип данных целевого признака корректен, можно проводить ресемплирование."
   ]
  },
  {
   "cell_type": "markdown",
   "metadata": {},
   "source": [
    "Проведем ресемплирование данных по 1 часу, взяв среднее значение по состоянию на каждый час"
   ]
  },
  {
   "cell_type": "code",
   "execution_count": 7,
   "metadata": {},
   "outputs": [],
   "source": [
    "data = data.resample('1H').sum()"
   ]
  },
  {
   "cell_type": "markdown",
   "metadata": {},
   "source": [
    "## Анализ"
   ]
  },
  {
   "cell_type": "markdown",
   "metadata": {},
   "source": [
    "Проанализируем получившиеся данные"
   ]
  },
  {
   "cell_type": "code",
   "execution_count": 8,
   "metadata": {
    "scrolled": true
   },
   "outputs": [
    {
     "data": {
      "image/png": "[encoded data removed]",
      "text/plain": [
       "<Figure size 432x288 with 1 Axes>"
      ]
     },
     "metadata": {
      "needs_background": "light"
     },
     "output_type": "display_data"
    }
   ],
   "source": [
    "data.plot(kind='hist', bins=100)\n",
    "plt.show()"
   ]
  },
  {
   "cell_type": "code",
   "execution_count": 9,
   "metadata": {},
   "outputs": [
    {
     "data": {
      "text/html": [
       "<div>\n",
       "<style scoped>\n",
       "    .dataframe tbody tr th:only-of-type {\n",
       "        vertical-align: middle;\n",
       "    }\n",
       "\n",
       "    .dataframe tbody tr th {\n",
       "        vertical-align: top;\n",
       "    }\n",
       "\n",
       "    .dataframe thead th {\n",
       "        text-align: right;\n",
       "    }\n",
       "</style>\n",
       "<table border=\"1\" class=\"dataframe\">\n",
       "  <thead>\n",
       "    <tr style=\"text-align: right;\">\n",
       "      <th></th>\n",
       "      <th>num_orders</th>\n",
       "    </tr>\n",
       "  </thead>\n",
       "  <tbody>\n",
       "    <tr>\n",
       "      <th>count</th>\n",
       "      <td>4416.000000</td>\n",
       "    </tr>\n",
       "    <tr>\n",
       "      <th>mean</th>\n",
       "      <td>84.422781</td>\n",
       "    </tr>\n",
       "    <tr>\n",
       "      <th>std</th>\n",
       "      <td>45.023853</td>\n",
       "    </tr>\n",
       "    <tr>\n",
       "      <th>min</th>\n",
       "      <td>0.000000</td>\n",
       "    </tr>\n",
       "    <tr>\n",
       "      <th>25%</th>\n",
       "      <td>54.000000</td>\n",
       "    </tr>\n",
       "    <tr>\n",
       "      <th>50%</th>\n",
       "      <td>78.000000</td>\n",
       "    </tr>\n",
       "    <tr>\n",
       "      <th>75%</th>\n",
       "      <td>107.000000</td>\n",
       "    </tr>\n",
       "    <tr>\n",
       "      <th>max</th>\n",
       "      <td>462.000000</td>\n",
       "    </tr>\n",
       "  </tbody>\n",
       "</table>\n",
       "</div>"
      ],
      "text/plain": [
       "        num_orders\n",
       "count  4416.000000\n",
       "mean     84.422781\n",
       "std      45.023853\n",
       "min       0.000000\n",
       "25%      54.000000\n",
       "50%      78.000000\n",
       "75%     107.000000\n",
       "max     462.000000"
      ]
     },
     "execution_count": 9,
     "metadata": {},
     "output_type": "execute_result"
    }
   ],
   "source": [
    "data.describe()"
   ]
  },
  {
   "cell_type": "markdown",
   "metadata": {},
   "source": [
    "Распредление данных о количестве заказов имеет нормальный вид со смещением вправо. Выбросов аномальных значений не наблюдается"
   ]
  },
  {
   "cell_type": "code",
   "execution_count": 10,
   "metadata": {},
   "outputs": [],
   "source": [
    "decomposed = seasonal_decompose(data)"
   ]
  },
  {
   "cell_type": "code",
   "execution_count": 11,
   "metadata": {},
   "outputs": [
    {
     "data": {
      "image/png": "[encoded data removed]",
      "text/plain": [
       "<Figure size 576x720 with 1 Axes>"
      ]
     },
     "metadata": {
      "needs_background": "light"
     },
     "output_type": "display_data"
    }
   ],
   "source": [
    "plt.figure(figsize=(8, 10))\n",
    "plt.subplot(311)\n",
    "decomposed.trend.plot(ax=plt.gca())\n",
    "plt.title('Trend')\n",
    "plt.tight_layout()"
   ]
  },
  {
   "cell_type": "code",
   "execution_count": 12,
   "metadata": {},
   "outputs": [
    {
     "data": {
      "image/png": "[encoded data removed]",
      "text/plain": [
       "<Figure size 576x720 with 1 Axes>"
      ]
     },
     "metadata": {
      "needs_background": "light"
     },
     "output_type": "display_data"
    }
   ],
   "source": [
    "decomposed = seasonal_decompose(data['2018-04-25':'2018-04-27'])\n",
    "plt.figure(figsize=(8, 10))\n",
    "plt.subplot(312)\n",
    "decomposed.seasonal.plot(ax=plt.gca())\n",
    "plt.title('Seasonality')\n",
    "plt.tight_layout()"
   ]
  },
  {
   "cell_type": "markdown",
   "metadata": {},
   "source": [
    "С начала весы до конца лета наблюдается устойчивый тренд на увеличение количества заказов. Изучая график сезонности можно заключить, что количество заказов растет в начале дня и вечернее время, что может объясняться началом и концом рабочего дня."
   ]
  },
  {
   "cell_type": "markdown",
   "metadata": {},
   "source": [
    "Для корректной работы прогнозирующей модели необходимо большее количество признаков. Из имеющихся данных создадим новые дополнительные признаки трех типов: календарные признаки, отстающие значения и плавающее среднее. Для этого я напишу функцию make_features, после чего применю ее к датасету\n"
   ]
  },
  {
   "cell_type": "code",
   "execution_count": 13,
   "metadata": {},
   "outputs": [],
   "source": [
    "def make_features(data, max_lag, rolling_mean_size):\n",
    "    #data['year'] = data.index.year\n",
    "    #data['month'] = data.index.month\n",
    "    data['hour'] = data.index.hour\n",
    "    data['dayofweek'] = data.index.dayofweek\n",
    "    \n",
    "    for lag in range(1, max_lag + 1):\n",
    "        data['lag_{}'.format(lag)] = data['num_orders'].shift(lag)\n",
    "\n",
    "\n",
    "    data['rolling_mean'] = data['num_orders'].shift().rolling(rolling_mean_size).mean()\n",
    "\n",
    "make_features(data, 4, 8)"
   ]
  },
  {
   "cell_type": "code",
   "execution_count": 14,
   "metadata": {
    "scrolled": true
   },
   "outputs": [
    {
     "data": {
      "text/html": [
       "<div>\n",
       "<style scoped>\n",
       "    .dataframe tbody tr th:only-of-type {\n",
       "        vertical-align: middle;\n",
       "    }\n",
       "\n",
       "    .dataframe tbody tr th {\n",
       "        vertical-align: top;\n",
       "    }\n",
       "\n",
       "    .dataframe thead th {\n",
       "        text-align: right;\n",
       "    }\n",
       "</style>\n",
       "<table border=\"1\" class=\"dataframe\">\n",
       "  <thead>\n",
       "    <tr style=\"text-align: right;\">\n",
       "      <th></th>\n",
       "      <th>num_orders</th>\n",
       "      <th>hour</th>\n",
       "      <th>dayofweek</th>\n",
       "      <th>lag_1</th>\n",
       "      <th>lag_2</th>\n",
       "      <th>lag_3</th>\n",
       "      <th>lag_4</th>\n",
       "      <th>rolling_mean</th>\n",
       "    </tr>\n",
       "    <tr>\n",
       "      <th>datetime</th>\n",
       "      <th></th>\n",
       "      <th></th>\n",
       "      <th></th>\n",
       "      <th></th>\n",
       "      <th></th>\n",
       "      <th></th>\n",
       "      <th></th>\n",
       "      <th></th>\n",
       "    </tr>\n",
       "  </thead>\n",
       "  <tbody>\n",
       "    <tr>\n",
       "      <th>2018-03-01 00:00:00</th>\n",
       "      <td>124</td>\n",
       "      <td>0</td>\n",
       "      <td>3</td>\n",
       "      <td>NaN</td>\n",
       "      <td>NaN</td>\n",
       "      <td>NaN</td>\n",
       "      <td>NaN</td>\n",
       "      <td>NaN</td>\n",
       "    </tr>\n",
       "    <tr>\n",
       "      <th>2018-03-01 01:00:00</th>\n",
       "      <td>85</td>\n",
       "      <td>1</td>\n",
       "      <td>3</td>\n",
       "      <td>124.0</td>\n",
       "      <td>NaN</td>\n",
       "      <td>NaN</td>\n",
       "      <td>NaN</td>\n",
       "      <td>NaN</td>\n",
       "    </tr>\n",
       "    <tr>\n",
       "      <th>2018-03-01 02:00:00</th>\n",
       "      <td>71</td>\n",
       "      <td>2</td>\n",
       "      <td>3</td>\n",
       "      <td>85.0</td>\n",
       "      <td>124.0</td>\n",
       "      <td>NaN</td>\n",
       "      <td>NaN</td>\n",
       "      <td>NaN</td>\n",
       "    </tr>\n",
       "    <tr>\n",
       "      <th>2018-03-01 03:00:00</th>\n",
       "      <td>66</td>\n",
       "      <td>3</td>\n",
       "      <td>3</td>\n",
       "      <td>71.0</td>\n",
       "      <td>85.0</td>\n",
       "      <td>124.0</td>\n",
       "      <td>NaN</td>\n",
       "      <td>NaN</td>\n",
       "    </tr>\n",
       "    <tr>\n",
       "      <th>2018-03-01 04:00:00</th>\n",
       "      <td>43</td>\n",
       "      <td>4</td>\n",
       "      <td>3</td>\n",
       "      <td>66.0</td>\n",
       "      <td>71.0</td>\n",
       "      <td>85.0</td>\n",
       "      <td>124.0</td>\n",
       "      <td>NaN</td>\n",
       "    </tr>\n",
       "  </tbody>\n",
       "</table>\n",
       "</div>"
      ],
      "text/plain": [
       "                     num_orders  hour  dayofweek  lag_1  lag_2  lag_3  lag_4  \\\n",
       "datetime                                                                       \n",
       "2018-03-01 00:00:00         124     0          3    NaN    NaN    NaN    NaN   \n",
       "2018-03-01 01:00:00          85     1          3  124.0    NaN    NaN    NaN   \n",
       "2018-03-01 02:00:00          71     2          3   85.0  124.0    NaN    NaN   \n",
       "2018-03-01 03:00:00          66     3          3   71.0   85.0  124.0    NaN   \n",
       "2018-03-01 04:00:00          43     4          3   66.0   71.0   85.0  124.0   \n",
       "\n",
       "                     rolling_mean  \n",
       "datetime                           \n",
       "2018-03-01 00:00:00           NaN  \n",
       "2018-03-01 01:00:00           NaN  \n",
       "2018-03-01 02:00:00           NaN  \n",
       "2018-03-01 03:00:00           NaN  \n",
       "2018-03-01 04:00:00           NaN  "
      ]
     },
     "execution_count": 14,
     "metadata": {},
     "output_type": "execute_result"
    }
   ],
   "source": [
    "data.head()"
   ]
  },
  {
   "cell_type": "markdown",
   "metadata": {},
   "source": [
    "При создании отстающих значений и плавающего среднего образовались пропуски в первых строках. Удалим эти строки для дальнейшего использования данных в моделях."
   ]
  },
  {
   "cell_type": "code",
   "execution_count": 15,
   "metadata": {},
   "outputs": [
    {
     "data": {
      "text/html": [
       "<div>\n",
       "<style scoped>\n",
       "    .dataframe tbody tr th:only-of-type {\n",
       "        vertical-align: middle;\n",
       "    }\n",
       "\n",
       "    .dataframe tbody tr th {\n",
       "        vertical-align: top;\n",
       "    }\n",
       "\n",
       "    .dataframe thead th {\n",
       "        text-align: right;\n",
       "    }\n",
       "</style>\n",
       "<table border=\"1\" class=\"dataframe\">\n",
       "  <thead>\n",
       "    <tr style=\"text-align: right;\">\n",
       "      <th></th>\n",
       "      <th>num_orders</th>\n",
       "      <th>hour</th>\n",
       "      <th>dayofweek</th>\n",
       "      <th>lag_1</th>\n",
       "      <th>lag_2</th>\n",
       "      <th>lag_3</th>\n",
       "      <th>lag_4</th>\n",
       "      <th>rolling_mean</th>\n",
       "    </tr>\n",
       "    <tr>\n",
       "      <th>datetime</th>\n",
       "      <th></th>\n",
       "      <th></th>\n",
       "      <th></th>\n",
       "      <th></th>\n",
       "      <th></th>\n",
       "      <th></th>\n",
       "      <th></th>\n",
       "      <th></th>\n",
       "    </tr>\n",
       "  </thead>\n",
       "  <tbody>\n",
       "    <tr>\n",
       "      <th>2018-03-01 08:00:00</th>\n",
       "      <td>34</td>\n",
       "      <td>8</td>\n",
       "      <td>3</td>\n",
       "      <td>15.0</td>\n",
       "      <td>12.0</td>\n",
       "      <td>6.0</td>\n",
       "      <td>43.0</td>\n",
       "      <td>52.750</td>\n",
       "    </tr>\n",
       "    <tr>\n",
       "      <th>2018-03-01 09:00:00</th>\n",
       "      <td>69</td>\n",
       "      <td>9</td>\n",
       "      <td>3</td>\n",
       "      <td>34.0</td>\n",
       "      <td>15.0</td>\n",
       "      <td>12.0</td>\n",
       "      <td>6.0</td>\n",
       "      <td>41.500</td>\n",
       "    </tr>\n",
       "    <tr>\n",
       "      <th>2018-03-01 10:00:00</th>\n",
       "      <td>64</td>\n",
       "      <td>10</td>\n",
       "      <td>3</td>\n",
       "      <td>69.0</td>\n",
       "      <td>34.0</td>\n",
       "      <td>15.0</td>\n",
       "      <td>12.0</td>\n",
       "      <td>39.500</td>\n",
       "    </tr>\n",
       "    <tr>\n",
       "      <th>2018-03-01 11:00:00</th>\n",
       "      <td>96</td>\n",
       "      <td>11</td>\n",
       "      <td>3</td>\n",
       "      <td>64.0</td>\n",
       "      <td>69.0</td>\n",
       "      <td>34.0</td>\n",
       "      <td>15.0</td>\n",
       "      <td>38.625</td>\n",
       "    </tr>\n",
       "    <tr>\n",
       "      <th>2018-03-01 12:00:00</th>\n",
       "      <td>30</td>\n",
       "      <td>12</td>\n",
       "      <td>3</td>\n",
       "      <td>96.0</td>\n",
       "      <td>64.0</td>\n",
       "      <td>69.0</td>\n",
       "      <td>34.0</td>\n",
       "      <td>42.375</td>\n",
       "    </tr>\n",
       "  </tbody>\n",
       "</table>\n",
       "</div>"
      ],
      "text/plain": [
       "                     num_orders  hour  dayofweek  lag_1  lag_2  lag_3  lag_4  \\\n",
       "datetime                                                                       \n",
       "2018-03-01 08:00:00          34     8          3   15.0   12.0    6.0   43.0   \n",
       "2018-03-01 09:00:00          69     9          3   34.0   15.0   12.0    6.0   \n",
       "2018-03-01 10:00:00          64    10          3   69.0   34.0   15.0   12.0   \n",
       "2018-03-01 11:00:00          96    11          3   64.0   69.0   34.0   15.0   \n",
       "2018-03-01 12:00:00          30    12          3   96.0   64.0   69.0   34.0   \n",
       "\n",
       "                     rolling_mean  \n",
       "datetime                           \n",
       "2018-03-01 08:00:00        52.750  \n",
       "2018-03-01 09:00:00        41.500  \n",
       "2018-03-01 10:00:00        39.500  \n",
       "2018-03-01 11:00:00        38.625  \n",
       "2018-03-01 12:00:00        42.375  "
      ]
     },
     "execution_count": 15,
     "metadata": {},
     "output_type": "execute_result"
    }
   ],
   "source": [
    "data = data.dropna()\n",
    "data.head()"
   ]
  },
  {
   "cell_type": "markdown",
   "metadata": {},
   "source": [
    "Пропуски удалены. Далее поделим датасет на обучающую и тестовую выборки. При этом \"отключим\" перемешивание данных при делении, чтобы хронологический порядок сохранился"
   ]
  },
  {
   "cell_type": "code",
   "execution_count": 16,
   "metadata": {},
   "outputs": [],
   "source": [
    "train, test = train_test_split(data, shuffle=False, test_size=0.1)\n",
    "\n",
    "train_features = train.drop(['num_orders'], axis=1)\n",
    "train_target = train['num_orders']\n",
    "test_features = test.drop(['num_orders'], axis=1)\n",
    "test_target = test['num_orders']"
   ]
  },
  {
   "cell_type": "markdown",
   "metadata": {},
   "source": [
    "Чтобы убедиться в корректности разделения, посмотрим на минимальные и максимальные значения индексов обучающей и тестовой выборок"
   ]
  },
  {
   "cell_type": "code",
   "execution_count": 17,
   "metadata": {},
   "outputs": [
    {
     "name": "stdout",
     "output_type": "stream",
     "text": [
      "2018-03-01 08:00:00 2018-08-13 14:00:00\n",
      "2018-08-13 15:00:00 2018-08-31 23:00:00\n"
     ]
    }
   ],
   "source": [
    "print(train.index.min(), train.index.max())\n",
    "print(test.index.min(), test.index.max())"
   ]
  },
  {
   "cell_type": "markdown",
   "metadata": {},
   "source": [
    "**Вывод**: разделение прошло корректно, данные можно передавать модели"
   ]
  },
  {
   "cell_type": "markdown",
   "metadata": {},
   "source": [
    "## Обучение"
   ]
  },
  {
   "cell_type": "markdown",
   "metadata": {},
   "source": [
    "Обучим разные модели, и оценим качество их прогноза с помощью метрики RMSE. Используем обучающий набор данных train"
   ]
  },
  {
   "cell_type": "markdown",
   "metadata": {},
   "source": [
    "### LinearRegression"
   ]
  },
  {
   "cell_type": "code",
   "execution_count": 18,
   "metadata": {},
   "outputs": [],
   "source": [
    "model = LinearRegression()"
   ]
  },
  {
   "cell_type": "code",
   "execution_count": 19,
   "metadata": {},
   "outputs": [
    {
     "name": "stdout",
     "output_type": "stream",
     "text": [
      "CPU times: user 3.07 ms, sys: 0 ns, total: 3.07 ms\n",
      "Wall time: 2.62 ms\n"
     ]
    },
    {
     "data": {
      "text/plain": [
       "LinearRegression()"
      ]
     },
     "execution_count": 19,
     "metadata": {},
     "output_type": "execute_result"
    }
   ],
   "source": [
    "%%time\n",
    "model.fit(train_features, train_target)"
   ]
  },
  {
   "cell_type": "code",
   "execution_count": 20,
   "metadata": {},
   "outputs": [],
   "source": [
    "preds_train = model.predict(train_features)"
   ]
  },
  {
   "cell_type": "code",
   "execution_count": 21,
   "metadata": {
    "scrolled": true
   },
   "outputs": [
    {
     "name": "stdout",
     "output_type": "stream",
     "text": [
      "RMSE на Линейной регрессии: 31.367\n"
     ]
    }
   ],
   "source": [
    "print(\"RMSE на Линейной регрессии:\", round(mean_squared_error(train_target, preds_train, squared=False), 3))"
   ]
  },
  {
   "cell_type": "markdown",
   "metadata": {},
   "source": [
    "Время обучения - порядка 3 сек., значение метрики качества в дальнейшем сравним с другими моделями."
   ]
  },
  {
   "cell_type": "markdown",
   "metadata": {},
   "source": [
    "### DecisionTreeRegressor"
   ]
  },
  {
   "cell_type": "markdown",
   "metadata": {},
   "source": [
    "Обучим модель \"Дерево решений\" с использованием разных гиперпараметров"
   ]
  },
  {
   "cell_type": "code",
   "execution_count": 22,
   "metadata": {
    "scrolled": true
   },
   "outputs": [
    {
     "name": "stdout",
     "output_type": "stream",
     "text": [
      "9.37 ms ± 2.47 ms per loop (mean ± std. dev. of 7 runs, 100 loops each)\n",
      "max_depth= 5 RMSE: 25.656\n",
      "9.63 ms ± 173 µs per loop (mean ± std. dev. of 7 runs, 100 loops each)\n",
      "max_depth= 6 RMSE: 23.934\n",
      "11.2 ms ± 519 µs per loop (mean ± std. dev. of 7 runs, 100 loops each)\n",
      "max_depth= 7 RMSE: 22.766\n",
      "12.3 ms ± 387 µs per loop (mean ± std. dev. of 7 runs, 100 loops each)\n",
      "max_depth= 8 RMSE: 21.616\n",
      "13.8 ms ± 625 µs per loop (mean ± std. dev. of 7 runs, 100 loops each)\n",
      "max_depth= 9 RMSE: 20.803\n",
      "14 ms ± 482 µs per loop (mean ± std. dev. of 7 runs, 100 loops each)\n",
      "max_depth= 10 RMSE: 20.289\n",
      "14.1 ms ± 150 µs per loop (mean ± std. dev. of 7 runs, 100 loops each)\n",
      "max_depth= 11 RMSE: 20.203\n",
      "14.3 ms ± 502 µs per loop (mean ± std. dev. of 7 runs, 100 loops each)\n",
      "max_depth= 12 RMSE: 20.274\n",
      "14.2 ms ± 625 µs per loop (mean ± std. dev. of 7 runs, 100 loops each)\n",
      "max_depth= 13 RMSE: 20.45\n",
      "13.7 ms ± 194 µs per loop (mean ± std. dev. of 7 runs, 100 loops each)\n",
      "max_depth= 14 RMSE: 20.691\n",
      "13.7 ms ± 126 µs per loop (mean ± std. dev. of 7 runs, 100 loops each)\n",
      "max_depth= 15 RMSE: 20.94\n",
      "\n",
      "Лучшее значение RMSE: 20.203\n"
     ]
    }
   ],
   "source": [
    "rmse = []\n",
    "for d in range (5, 16, 1):\n",
    "    tree = DecisionTreeRegressor(random_state = 2007,\n",
    "                                 max_depth=d,\n",
    "                                 min_samples_leaf = d,\n",
    "                                 min_samples_split = d\n",
    "                                )\n",
    "    %timeit tree.fit(train_features, train_target)\n",
    "    tree_preds = tree.predict(train_features)\n",
    "    rmse.append(round(mean_squared_error(train_target, tree_preds, squared=False), 3))\n",
    "    \n",
    "    print('max_depth=', d, \"RMSE:\", round(mean_squared_error(train_target, tree_preds, squared=False), 3))\n",
    "    \n",
    "print('')\n",
    "print ('Лучшее значение RMSE:', min(rmse))"
   ]
  },
  {
   "cell_type": "markdown",
   "metadata": {},
   "source": [
    "**Вывод:** лучшее значение метрики RMSE получено при max_depth= 11. Время обучения - порядка 15мс. Оптимально использовать его в работе данной модели"
   ]
  },
  {
   "cell_type": "markdown",
   "metadata": {},
   "source": [
    "### RandomForestRegressor"
   ]
  },
  {
   "cell_type": "markdown",
   "metadata": {},
   "source": [
    "Для обучения Случайного леса возьмем два разных варианта гиперпараметров и сравним полученные значения метрики."
   ]
  },
  {
   "cell_type": "code",
   "execution_count": 23,
   "metadata": {},
   "outputs": [],
   "source": [
    "rf_reg = RandomForestRegressor(random_state=2007, \n",
    "                                max_depth=10,\n",
    "                               min_samples_leaf = 5,\n",
    "                               min_samples_split = 6)"
   ]
  },
  {
   "cell_type": "code",
   "execution_count": 24,
   "metadata": {},
   "outputs": [
    {
     "name": "stdout",
     "output_type": "stream",
     "text": [
      "CPU times: user 955 ms, sys: 3.96 ms, total: 959 ms\n",
      "Wall time: 965 ms\n"
     ]
    },
    {
     "data": {
      "text/plain": [
       "RandomForestRegressor(max_depth=10, min_samples_leaf=5, min_samples_split=6,\n",
       "                      random_state=2007)"
      ]
     },
     "execution_count": 24,
     "metadata": {},
     "output_type": "execute_result"
    }
   ],
   "source": [
    "%%time\n",
    "rf_reg.fit(train_features, train_target)"
   ]
  },
  {
   "cell_type": "code",
   "execution_count": 25,
   "metadata": {},
   "outputs": [],
   "source": [
    "preds_rf = rf_reg.predict(train_features)"
   ]
  },
  {
   "cell_type": "code",
   "execution_count": 26,
   "metadata": {},
   "outputs": [
    {
     "name": "stdout",
     "output_type": "stream",
     "text": [
      "RMSE на Случайном лесе1: 18.169\n"
     ]
    }
   ],
   "source": [
    "print(\"RMSE на Случайном лесе1:\", round(mean_squared_error(train_target, preds_rf, squared=False),3))"
   ]
  },
  {
   "cell_type": "markdown",
   "metadata": {},
   "source": [
    "Изменим параметры модели и проследим за возможным изменением времени обучения/предсказания и - изменением метрики"
   ]
  },
  {
   "cell_type": "code",
   "execution_count": 27,
   "metadata": {},
   "outputs": [],
   "source": [
    "rf_reg = RandomForestRegressor(random_state=2007, \n",
    "                                max_depth=5,\n",
    "                               min_samples_leaf = 2,\n",
    "                               min_samples_split = 4)"
   ]
  },
  {
   "cell_type": "code",
   "execution_count": 28,
   "metadata": {},
   "outputs": [
    {
     "name": "stdout",
     "output_type": "stream",
     "text": [
      "CPU times: user 544 ms, sys: 0 ns, total: 544 ms\n",
      "Wall time: 545 ms\n"
     ]
    },
    {
     "data": {
      "text/plain": [
       "RandomForestRegressor(max_depth=5, min_samples_leaf=2, min_samples_split=4,\n",
       "                      random_state=2007)"
      ]
     },
     "execution_count": 28,
     "metadata": {},
     "output_type": "execute_result"
    }
   ],
   "source": [
    "%%time\n",
    "rf_reg.fit(train_features, train_target)"
   ]
  },
  {
   "cell_type": "code",
   "execution_count": 29,
   "metadata": {},
   "outputs": [],
   "source": [
    "preds_rf = rf_reg.predict(train_features)"
   ]
  },
  {
   "cell_type": "code",
   "execution_count": 30,
   "metadata": {},
   "outputs": [
    {
     "name": "stdout",
     "output_type": "stream",
     "text": [
      "RMSE на Случайном лесе2: 24.52\n"
     ]
    }
   ],
   "source": [
    "print(\"RMSE на Случайном лесе2:\", round(mean_squared_error(train_target, preds_rf, squared=False),3))"
   ]
  },
  {
   "cell_type": "markdown",
   "metadata": {},
   "source": [
    "Первый вариант гиперпараметров Случайного леса - оптимальней, так как значение метрики гораздо ниже, хотя модель \n",
    "и обучается дольше."
   ]
  },
  {
   "cell_type": "markdown",
   "metadata": {},
   "source": [
    "**Вывод:**\n",
    "<br>Данных немного, поэтому все модели обучаются довольно быстро. Дольше всех обучается ансамбль Случайного леса, однако обеспечивает лучшее качество прогноза. Для тестирования возьмем именно эту модель."
   ]
  },
  {
   "cell_type": "markdown",
   "metadata": {},
   "source": [
    "## Тестирование"
   ]
  },
  {
   "cell_type": "markdown",
   "metadata": {},
   "source": [
    "Проверим работу модели на тестовых данных. Для этого заново обучим модель на гиперпараметрах с лучшими показателями метрик и предскажем значения целевого признака на тестовых данных"
   ]
  },
  {
   "cell_type": "code",
   "execution_count": 31,
   "metadata": {},
   "outputs": [],
   "source": [
    "rf_reg = RandomForestRegressor(random_state=2007,\n",
    "                               max_depth=15,\n",
    "                               min_samples_leaf = 4,\n",
    "                               min_samples_split = 6\n",
    "                              )"
   ]
  },
  {
   "cell_type": "code",
   "execution_count": 32,
   "metadata": {},
   "outputs": [
    {
     "name": "stdout",
     "output_type": "stream",
     "text": [
      "CPU times: user 1.04 s, sys: 3.98 ms, total: 1.04 s\n",
      "Wall time: 1.04 s\n"
     ]
    },
    {
     "data": {
      "text/plain": [
       "RandomForestRegressor(max_depth=15, min_samples_leaf=4, min_samples_split=6,\n",
       "                      random_state=2007)"
      ]
     },
     "execution_count": 32,
     "metadata": {},
     "output_type": "execute_result"
    }
   ],
   "source": [
    "%%time\n",
    "rf_reg.fit(train_features, train_target)"
   ]
  },
  {
   "cell_type": "code",
   "execution_count": 33,
   "metadata": {},
   "outputs": [],
   "source": [
    "preds_test = rf_reg.predict(test_features)"
   ]
  },
  {
   "cell_type": "code",
   "execution_count": 34,
   "metadata": {},
   "outputs": [
    {
     "name": "stdout",
     "output_type": "stream",
     "text": [
      "RMSE тестовой выборки: 47.112\n"
     ]
    }
   ],
   "source": [
    "print(\"RMSE тестовой выборки:\", round(mean_squared_error(test_target, preds_test, squared=False),3))"
   ]
  },
  {
   "cell_type": "markdown",
   "metadata": {},
   "source": [
    "Визуально интерпретируем предсказания относительно целевых значений за период в несколько дней. Для этого построим сдвоенный график первых 200 записей предсказаний и целевого признака тестовой выборки."
   ]
  },
  {
   "cell_type": "code",
   "execution_count": 35,
   "metadata": {},
   "outputs": [
    {
     "data": {
      "image/png": "[encoded data removed]",
      "text/plain": [
       "<Figure size 720x360 with 1 Axes>"
      ]
     },
     "metadata": {
      "needs_background": "light"
     },
     "output_type": "display_data"
    }
   ],
   "source": [
    "x_ax = range(len(test_features[0:200]))\n",
    "plt.figure(figsize=(10, 5))\n",
    "plt.scatter(x_ax, test_target[0:200], s=5, color=\"blue\", label=\"target\")\n",
    "plt.plot(x_ax, preds_test[0:200], lw=0.6, color=\"red\", label=\"predicted\")\n",
    "plt.legend()\n",
    "plt.title('Интерпретация предсказаний модели')\n",
    "plt.show()"
   ]
  },
  {
   "cell_type": "markdown",
   "metadata": {},
   "source": [
    "Из сдвоенного графика видно, что с предсказанием большей части значений модель справляется хорошо."
   ]
  },
  {
   "cell_type": "markdown",
   "metadata": {},
   "source": [
    "## Вывод\n"
   ]
  },
  {
   "cell_type": "markdown",
   "metadata": {},
   "source": [
    "Проведен анализ исторических данных по количеству заказов такси в период с марта 2018 по август 2018. Данные ресемплированы до более интерпретируемого для нашей задачи вида, добавлены признаки.\n",
    "<br> \n",
    "<br>Далее данные были разделены на выборки, с помощью которых проверена работа нескольких моделей, а по результатам выбрана лучшая по значению метрики RMSE.\n",
    "<br> \n",
    "<br>Работа подобранной модели была протестирована на тестовом наборе данных, в результате чего целевое значение метрики не было превышено (получено значение = 47.112), время обучения = 1 сек - приемлемо. Визуальная интерпретация предсказаний выбранной модели также позволяет судить о том, что модель работает корректно и правильно предсказывает большинство значений. \n",
    "<br> \n",
    "<br>Можно сделать вывод о том, что выбранная модель оптимально подходит для прогнозирования количества заказов такси.  "
   ]
  }
 ],
 "metadata": {
  "ExecuteTimeLog": [
   {
    "duration": 381,
    "start_time": "2022-08-23T09:50:32.339Z"
   },
   {
    "duration": 120,
    "start_time": "2022-08-23T09:51:47.044Z"
   },
   {
    "duration": 13,
    "start_time": "2022-08-23T09:51:54.328Z"
   },
   {
    "duration": 8,
    "start_time": "2022-08-23T09:52:02.436Z"
   },
   {
    "duration": 12,
    "start_time": "2022-08-23T09:52:10.793Z"
   },
   {
    "duration": 9,
    "start_time": "2022-08-23T10:03:51.490Z"
   },
   {
    "duration": 9,
    "start_time": "2022-08-23T10:04:00.668Z"
   },
   {
    "duration": 27,
    "start_time": "2022-08-23T10:04:29.995Z"
   },
   {
    "duration": 9,
    "start_time": "2022-08-23T10:07:31.459Z"
   },
   {
    "duration": 49,
    "start_time": "2022-08-23T10:08:30.834Z"
   },
   {
    "duration": 7,
    "start_time": "2022-08-23T10:08:31.657Z"
   },
   {
    "duration": 9,
    "start_time": "2022-08-23T10:08:38.577Z"
   },
   {
    "duration": 818,
    "start_time": "2022-08-23T10:08:43.777Z"
   },
   {
    "duration": 10,
    "start_time": "2022-08-23T10:08:46.565Z"
   },
   {
    "duration": 5,
    "start_time": "2022-08-23T10:08:48.438Z"
   },
   {
    "duration": 3,
    "start_time": "2022-08-23T10:09:12.024Z"
   },
   {
    "duration": 2,
    "start_time": "2022-08-23T10:09:30.073Z"
   },
   {
    "duration": 10,
    "start_time": "2022-08-23T10:09:32.033Z"
   },
   {
    "duration": 5,
    "start_time": "2022-08-23T10:09:36.105Z"
   },
   {
    "duration": 3,
    "start_time": "2022-08-23T10:09:40.177Z"
   },
   {
    "duration": 3,
    "start_time": "2022-08-23T10:09:46.706Z"
   },
   {
    "duration": 2,
    "start_time": "2022-08-23T10:09:57.117Z"
   },
   {
    "duration": 58,
    "start_time": "2022-08-23T10:09:57.121Z"
   },
   {
    "duration": 6,
    "start_time": "2022-08-23T10:09:57.181Z"
   },
   {
    "duration": 11,
    "start_time": "2022-08-23T10:09:57.189Z"
   },
   {
    "duration": 2,
    "start_time": "2022-08-23T10:09:57.202Z"
   },
   {
    "duration": 11,
    "start_time": "2022-08-23T10:09:57.205Z"
   },
   {
    "duration": 8,
    "start_time": "2022-08-23T10:09:57.218Z"
   },
   {
    "duration": 8,
    "start_time": "2022-08-23T10:09:57.227Z"
   },
   {
    "duration": 7,
    "start_time": "2022-08-23T10:10:23.560Z"
   },
   {
    "duration": 3,
    "start_time": "2022-08-23T10:10:33.038Z"
   },
   {
    "duration": 3,
    "start_time": "2022-08-23T10:10:45.656Z"
   },
   {
    "duration": 53,
    "start_time": "2022-08-23T10:10:45.661Z"
   },
   {
    "duration": 6,
    "start_time": "2022-08-23T10:10:45.716Z"
   },
   {
    "duration": 16,
    "start_time": "2022-08-23T10:10:45.723Z"
   },
   {
    "duration": 5,
    "start_time": "2022-08-23T10:10:45.741Z"
   },
   {
    "duration": 15,
    "start_time": "2022-08-23T10:10:45.748Z"
   },
   {
    "duration": 9,
    "start_time": "2022-08-23T10:10:45.764Z"
   },
   {
    "duration": 10,
    "start_time": "2022-08-23T10:10:45.775Z"
   },
   {
    "duration": 3,
    "start_time": "2022-08-23T10:10:50.242Z"
   },
   {
    "duration": 826313,
    "start_time": "2022-08-23T10:11:06.171Z"
   },
   {
    "duration": 10,
    "start_time": "2022-08-23T10:29:12.273Z"
   },
   {
    "duration": 8,
    "start_time": "2022-08-23T10:29:41.151Z"
   },
   {
    "duration": 6,
    "start_time": "2022-08-23T10:29:46.588Z"
   },
   {
    "duration": 303,
    "start_time": "2022-08-23T10:29:46.597Z"
   },
   {
    "duration": 38,
    "start_time": "2022-08-23T10:29:46.902Z"
   },
   {
    "duration": 27,
    "start_time": "2022-08-23T10:29:46.942Z"
   },
   {
    "duration": 33,
    "start_time": "2022-08-23T10:29:46.972Z"
   },
   {
    "duration": 29,
    "start_time": "2022-08-23T10:29:47.007Z"
   },
   {
    "duration": 37,
    "start_time": "2022-08-23T10:29:47.038Z"
   },
   {
    "duration": 6,
    "start_time": "2022-08-23T10:29:50.062Z"
   },
   {
    "duration": 11,
    "start_time": "2022-08-23T10:29:52.292Z"
   },
   {
    "duration": 233,
    "start_time": "2022-08-23T10:30:06.695Z"
   },
   {
    "duration": 13,
    "start_time": "2022-08-23T10:31:38.973Z"
   },
   {
    "duration": 243,
    "start_time": "2022-08-23T10:31:48.279Z"
   },
   {
    "duration": 6,
    "start_time": "2022-08-23T10:32:14.975Z"
   },
   {
    "duration": 11,
    "start_time": "2022-08-23T10:32:17.210Z"
   },
   {
    "duration": 229,
    "start_time": "2022-08-23T10:32:22.457Z"
   },
   {
    "duration": 9,
    "start_time": "2022-08-23T10:38:36.143Z"
   },
   {
    "duration": 409,
    "start_time": "2022-08-23T10:38:42.004Z"
   },
   {
    "duration": 10,
    "start_time": "2022-08-23T10:38:53.239Z"
   },
   {
    "duration": 412,
    "start_time": "2022-08-23T10:38:53.889Z"
   },
   {
    "duration": 8,
    "start_time": "2022-08-23T10:39:02.236Z"
   },
   {
    "duration": 364,
    "start_time": "2022-08-23T10:39:03.217Z"
   },
   {
    "duration": 5,
    "start_time": "2022-08-23T10:58:26.332Z"
   },
   {
    "duration": 11,
    "start_time": "2022-08-23T10:58:28.289Z"
   },
   {
    "duration": 849,
    "start_time": "2022-08-23T10:59:41.155Z"
   },
   {
    "duration": 9,
    "start_time": "2022-08-23T11:00:05.755Z"
   },
   {
    "duration": 20,
    "start_time": "2022-08-23T11:00:07.547Z"
   },
   {
    "duration": 8,
    "start_time": "2022-08-23T11:32:58.990Z"
   },
   {
    "duration": 53,
    "start_time": "2022-08-23T11:33:00.633Z"
   },
   {
    "duration": 3,
    "start_time": "2022-08-23T11:33:08.867Z"
   },
   {
    "duration": 46,
    "start_time": "2022-08-23T11:33:09.129Z"
   },
   {
    "duration": 7,
    "start_time": "2022-08-23T11:33:09.177Z"
   },
   {
    "duration": 14,
    "start_time": "2022-08-23T11:33:09.185Z"
   },
   {
    "duration": 3,
    "start_time": "2022-08-23T11:33:09.201Z"
   },
   {
    "duration": 12,
    "start_time": "2022-08-23T11:33:09.206Z"
   },
   {
    "duration": 7,
    "start_time": "2022-08-23T11:33:09.220Z"
   },
   {
    "duration": 12,
    "start_time": "2022-08-23T11:33:09.229Z"
   },
   {
    "duration": 16,
    "start_time": "2022-08-23T11:33:16.720Z"
   },
   {
    "duration": 14,
    "start_time": "2022-08-23T11:33:18.638Z"
   },
   {
    "duration": 18,
    "start_time": "2022-08-23T11:33:20.540Z"
   },
   {
    "duration": 7,
    "start_time": "2022-08-23T11:35:05.425Z"
   },
   {
    "duration": 632,
    "start_time": "2022-08-23T11:35:21.792Z"
   },
   {
    "duration": 5,
    "start_time": "2022-08-23T11:35:26.228Z"
   },
   {
    "duration": 4,
    "start_time": "2022-08-23T11:36:16.929Z"
   },
   {
    "duration": 8,
    "start_time": "2022-08-23T11:36:49.354Z"
   },
   {
    "duration": 18,
    "start_time": "2022-08-23T11:36:49.870Z"
   },
   {
    "duration": 3,
    "start_time": "2022-08-23T11:37:09.069Z"
   },
   {
    "duration": 46,
    "start_time": "2022-08-23T11:37:09.194Z"
   },
   {
    "duration": 7,
    "start_time": "2022-08-23T11:37:09.322Z"
   },
   {
    "duration": 14,
    "start_time": "2022-08-23T11:37:09.332Z"
   },
   {
    "duration": 3,
    "start_time": "2022-08-23T11:37:09.348Z"
   },
   {
    "duration": 21,
    "start_time": "2022-08-23T11:37:09.353Z"
   },
   {
    "duration": 5,
    "start_time": "2022-08-23T11:37:09.376Z"
   },
   {
    "duration": 16,
    "start_time": "2022-08-23T11:37:09.382Z"
   },
   {
    "duration": 11,
    "start_time": "2022-08-23T11:37:09.400Z"
   },
   {
    "duration": 18,
    "start_time": "2022-08-23T11:37:09.413Z"
   },
   {
    "duration": 16,
    "start_time": "2022-08-23T11:37:12.291Z"
   },
   {
    "duration": 3,
    "start_time": "2022-08-23T12:00:48.193Z"
   },
   {
    "duration": 66,
    "start_time": "2022-08-23T12:00:48.199Z"
   },
   {
    "duration": 7,
    "start_time": "2022-08-23T12:00:48.267Z"
   },
   {
    "duration": 12,
    "start_time": "2022-08-23T12:00:48.276Z"
   },
   {
    "duration": 3,
    "start_time": "2022-08-23T12:00:48.290Z"
   },
   {
    "duration": 12,
    "start_time": "2022-08-23T12:00:48.294Z"
   },
   {
    "duration": 7,
    "start_time": "2022-08-23T12:00:48.307Z"
   },
   {
    "duration": 12,
    "start_time": "2022-08-23T12:00:48.316Z"
   },
   {
    "duration": 12,
    "start_time": "2022-08-23T12:00:48.329Z"
   },
   {
    "duration": 47,
    "start_time": "2022-08-23T12:00:48.342Z"
   },
   {
    "duration": 8,
    "start_time": "2022-08-23T12:00:54.790Z"
   },
   {
    "duration": 14,
    "start_time": "2022-08-23T12:01:01.151Z"
   },
   {
    "duration": 14,
    "start_time": "2022-08-23T12:01:19.583Z"
   },
   {
    "duration": 15,
    "start_time": "2022-08-23T12:01:39.131Z"
   },
   {
    "duration": 13,
    "start_time": "2022-08-23T12:01:45.839Z"
   },
   {
    "duration": 17,
    "start_time": "2022-08-23T12:01:54.442Z"
   },
   {
    "duration": 16,
    "start_time": "2022-08-23T12:02:30.776Z"
   },
   {
    "duration": 21,
    "start_time": "2022-08-23T12:03:43.625Z"
   },
   {
    "duration": 3,
    "start_time": "2022-08-23T12:04:10.292Z"
   },
   {
    "duration": 9,
    "start_time": "2022-08-23T12:04:29.995Z"
   },
   {
    "duration": 8,
    "start_time": "2022-08-23T12:05:34.711Z"
   },
   {
    "duration": 5,
    "start_time": "2022-08-23T12:05:51.244Z"
   },
   {
    "duration": 37,
    "start_time": "2022-08-23T12:06:05.982Z"
   },
   {
    "duration": 3,
    "start_time": "2022-08-23T12:06:38.812Z"
   },
   {
    "duration": 9,
    "start_time": "2022-08-23T12:06:43.590Z"
   },
   {
    "duration": 5,
    "start_time": "2022-08-23T12:06:53.608Z"
   },
   {
    "duration": 9,
    "start_time": "2022-08-23T12:07:18.785Z"
   },
   {
    "duration": 2,
    "start_time": "2022-08-23T12:08:06.062Z"
   },
   {
    "duration": 62,
    "start_time": "2022-08-23T12:08:48.046Z"
   },
   {
    "duration": 82,
    "start_time": "2022-08-23T12:08:56.945Z"
   },
   {
    "duration": 50,
    "start_time": "2022-08-23T12:09:00.659Z"
   },
   {
    "duration": 60,
    "start_time": "2022-08-23T12:09:14.673Z"
   },
   {
    "duration": 79,
    "start_time": "2022-08-23T12:09:26.829Z"
   },
   {
    "duration": 4,
    "start_time": "2022-08-23T12:09:33.545Z"
   },
   {
    "duration": 5,
    "start_time": "2022-08-23T12:09:38.428Z"
   },
   {
    "duration": 5,
    "start_time": "2022-08-23T12:09:58.792Z"
   },
   {
    "duration": 5,
    "start_time": "2022-08-23T12:10:45.388Z"
   },
   {
    "duration": 4,
    "start_time": "2022-08-23T12:11:31.508Z"
   },
   {
    "duration": 9,
    "start_time": "2022-08-23T12:11:47.884Z"
   },
   {
    "duration": 3,
    "start_time": "2022-08-23T12:11:58.058Z"
   },
   {
    "duration": 8,
    "start_time": "2022-08-23T12:11:58.197Z"
   },
   {
    "duration": 8,
    "start_time": "2022-08-23T12:11:58.723Z"
   },
   {
    "duration": 4,
    "start_time": "2022-08-23T12:11:59.182Z"
   },
   {
    "duration": 4,
    "start_time": "2022-08-23T12:11:59.604Z"
   },
   {
    "duration": 3,
    "start_time": "2022-08-23T12:12:05.859Z"
   },
   {
    "duration": 54,
    "start_time": "2022-08-23T12:12:05.864Z"
   },
   {
    "duration": 7,
    "start_time": "2022-08-23T12:12:05.920Z"
   },
   {
    "duration": 12,
    "start_time": "2022-08-23T12:12:05.928Z"
   },
   {
    "duration": 3,
    "start_time": "2022-08-23T12:12:05.942Z"
   },
   {
    "duration": 12,
    "start_time": "2022-08-23T12:12:05.946Z"
   },
   {
    "duration": 7,
    "start_time": "2022-08-23T12:12:05.960Z"
   },
   {
    "duration": 22,
    "start_time": "2022-08-23T12:12:05.969Z"
   },
   {
    "duration": 10,
    "start_time": "2022-08-23T12:12:05.993Z"
   },
   {
    "duration": 8,
    "start_time": "2022-08-23T12:12:06.004Z"
   },
   {
    "duration": 5,
    "start_time": "2022-08-23T12:12:06.013Z"
   },
   {
    "duration": 11,
    "start_time": "2022-08-23T12:12:06.019Z"
   },
   {
    "duration": 62,
    "start_time": "2022-08-23T12:12:06.031Z"
   },
   {
    "duration": 7,
    "start_time": "2022-08-23T12:12:06.186Z"
   },
   {
    "duration": 8,
    "start_time": "2022-08-23T12:12:06.194Z"
   },
   {
    "duration": 9,
    "start_time": "2022-08-23T12:12:27.080Z"
   },
   {
    "duration": 10,
    "start_time": "2022-08-23T12:12:27.865Z"
   },
   {
    "duration": 2,
    "start_time": "2022-08-23T12:12:29.142Z"
   },
   {
    "duration": 7,
    "start_time": "2022-08-23T12:12:29.470Z"
   },
   {
    "duration": 6,
    "start_time": "2022-08-23T12:12:29.737Z"
   },
   {
    "duration": 4,
    "start_time": "2022-08-23T12:12:30.184Z"
   },
   {
    "duration": 4,
    "start_time": "2022-08-23T12:12:30.940Z"
   },
   {
    "duration": 10,
    "start_time": "2022-08-23T12:14:01.143Z"
   },
   {
    "duration": 9,
    "start_time": "2022-08-23T12:14:07.723Z"
   },
   {
    "duration": 20,
    "start_time": "2022-08-23T12:14:14.889Z"
   },
   {
    "duration": 3,
    "start_time": "2022-08-23T12:14:45.399Z"
   },
   {
    "duration": 28,
    "start_time": "2022-08-23T12:15:06.241Z"
   },
   {
    "duration": 5,
    "start_time": "2022-08-23T12:15:35.146Z"
   },
   {
    "duration": 4,
    "start_time": "2022-08-23T12:15:56.854Z"
   },
   {
    "duration": 2,
    "start_time": "2022-08-23T12:16:01.810Z"
   },
   {
    "duration": 27,
    "start_time": "2022-08-23T12:16:02.089Z"
   },
   {
    "duration": 5,
    "start_time": "2022-08-23T12:16:02.259Z"
   },
   {
    "duration": 4,
    "start_time": "2022-08-23T12:16:02.550Z"
   },
   {
    "duration": 3,
    "start_time": "2022-08-23T12:16:23.271Z"
   },
   {
    "duration": 12,
    "start_time": "2022-08-23T12:16:23.802Z"
   },
   {
    "duration": 4,
    "start_time": "2022-08-23T12:16:25.043Z"
   },
   {
    "duration": 5,
    "start_time": "2022-08-23T12:16:25.467Z"
   },
   {
    "duration": 2,
    "start_time": "2022-08-23T12:16:31.259Z"
   },
   {
    "duration": 14,
    "start_time": "2022-08-23T12:16:31.575Z"
   },
   {
    "duration": 5,
    "start_time": "2022-08-23T12:16:31.875Z"
   },
   {
    "duration": 4,
    "start_time": "2022-08-23T12:16:32.234Z"
   },
   {
    "duration": 11,
    "start_time": "2022-08-23T12:17:14.847Z"
   },
   {
    "duration": 3,
    "start_time": "2022-08-23T12:17:29.884Z"
   },
   {
    "duration": 1439,
    "start_time": "2022-08-23T12:17:56.397Z"
   },
   {
    "duration": 2,
    "start_time": "2022-08-23T12:18:08.096Z"
   },
   {
    "duration": 507,
    "start_time": "2022-08-23T12:18:08.792Z"
   },
   {
    "duration": 23,
    "start_time": "2022-08-23T12:18:33.212Z"
   },
   {
    "duration": 4,
    "start_time": "2022-08-23T12:18:46.145Z"
   },
   {
    "duration": 2,
    "start_time": "2022-08-23T12:18:48.323Z"
   },
   {
    "duration": 521,
    "start_time": "2022-08-23T12:18:48.543Z"
   },
   {
    "duration": 36,
    "start_time": "2022-08-23T12:18:49.066Z"
   },
   {
    "duration": 5,
    "start_time": "2022-08-23T12:18:49.103Z"
   },
   {
    "duration": 3,
    "start_time": "2022-08-23T12:19:49.084Z"
   },
   {
    "duration": 673,
    "start_time": "2022-08-23T12:19:49.600Z"
   },
   {
    "duration": 39,
    "start_time": "2022-08-23T12:19:50.276Z"
   },
   {
    "duration": 4,
    "start_time": "2022-08-23T12:19:50.552Z"
   },
   {
    "duration": 2,
    "start_time": "2022-08-23T12:19:55.227Z"
   },
   {
    "duration": 843,
    "start_time": "2022-08-23T12:19:55.662Z"
   },
   {
    "duration": 42,
    "start_time": "2022-08-23T12:19:56.507Z"
   },
   {
    "duration": 4,
    "start_time": "2022-08-23T12:19:56.551Z"
   },
   {
    "duration": 836,
    "start_time": "2022-08-23T12:20:19.203Z"
   },
   {
    "duration": 16,
    "start_time": "2022-08-23T12:20:29.680Z"
   },
   {
    "duration": 9,
    "start_time": "2022-08-23T12:20:36.225Z"
   },
   {
    "duration": 2,
    "start_time": "2022-08-23T12:22:04.754Z"
   },
   {
    "duration": 8,
    "start_time": "2022-08-23T12:22:05.186Z"
   },
   {
    "duration": 6,
    "start_time": "2022-08-23T12:22:05.873Z"
   },
   {
    "duration": 4,
    "start_time": "2022-08-23T12:22:06.191Z"
   },
   {
    "duration": 4,
    "start_time": "2022-08-23T12:22:06.474Z"
   },
   {
    "duration": 3,
    "start_time": "2022-08-23T12:22:14.756Z"
   },
   {
    "duration": 9,
    "start_time": "2022-08-23T12:22:15.082Z"
   },
   {
    "duration": 5,
    "start_time": "2022-08-23T12:22:15.268Z"
   },
   {
    "duration": 20,
    "start_time": "2022-08-23T12:22:15.469Z"
   },
   {
    "duration": 4,
    "start_time": "2022-08-23T12:22:15.745Z"
   },
   {
    "duration": 3,
    "start_time": "2022-08-23T12:22:24.755Z"
   },
   {
    "duration": 8,
    "start_time": "2022-08-23T12:22:24.915Z"
   },
   {
    "duration": 8,
    "start_time": "2022-08-23T12:22:25.411Z"
   },
   {
    "duration": 4,
    "start_time": "2022-08-23T12:22:25.689Z"
   },
   {
    "duration": 5,
    "start_time": "2022-08-23T12:22:25.897Z"
   },
   {
    "duration": 3,
    "start_time": "2022-08-23T12:22:28.711Z"
   },
   {
    "duration": 10,
    "start_time": "2022-08-23T12:22:28.895Z"
   },
   {
    "duration": 15,
    "start_time": "2022-08-23T12:22:29.310Z"
   },
   {
    "duration": 4,
    "start_time": "2022-08-23T12:22:29.738Z"
   },
   {
    "duration": 5,
    "start_time": "2022-08-23T12:22:29.929Z"
   },
   {
    "duration": 2,
    "start_time": "2022-08-23T12:22:32.135Z"
   },
   {
    "duration": 16,
    "start_time": "2022-08-23T12:22:32.297Z"
   },
   {
    "duration": 5,
    "start_time": "2022-08-23T12:22:32.462Z"
   },
   {
    "duration": 5,
    "start_time": "2022-08-23T12:22:33.283Z"
   },
   {
    "duration": 3,
    "start_time": "2022-08-23T12:22:33.892Z"
   },
   {
    "duration": 898,
    "start_time": "2022-08-23T12:22:34.107Z"
   },
   {
    "duration": 40,
    "start_time": "2022-08-23T12:22:35.007Z"
   },
   {
    "duration": 4,
    "start_time": "2022-08-23T12:22:35.883Z"
   },
   {
    "duration": 3,
    "start_time": "2022-08-23T12:22:45.019Z"
   },
   {
    "duration": 18,
    "start_time": "2022-08-23T12:22:45.650Z"
   },
   {
    "duration": 5,
    "start_time": "2022-08-23T12:22:45.872Z"
   },
   {
    "duration": 4,
    "start_time": "2022-08-23T12:22:46.047Z"
   },
   {
    "duration": 3,
    "start_time": "2022-08-23T12:22:54.514Z"
   },
   {
    "duration": 834,
    "start_time": "2022-08-23T12:22:54.703Z"
   },
   {
    "duration": 47,
    "start_time": "2022-08-23T12:22:55.539Z"
   },
   {
    "duration": 4,
    "start_time": "2022-08-23T12:22:55.591Z"
   },
   {
    "duration": 3,
    "start_time": "2022-08-23T12:23:10.997Z"
   },
   {
    "duration": 1193,
    "start_time": "2022-08-23T12:23:11.417Z"
   },
   {
    "duration": 63,
    "start_time": "2022-08-23T12:23:14.072Z"
   },
   {
    "duration": 4,
    "start_time": "2022-08-23T12:23:14.636Z"
   },
   {
    "duration": 3,
    "start_time": "2022-08-23T12:23:20.025Z"
   },
   {
    "duration": 2058,
    "start_time": "2022-08-23T12:23:20.481Z"
   },
   {
    "duration": 95,
    "start_time": "2022-08-23T12:23:23.746Z"
   },
   {
    "duration": 4,
    "start_time": "2022-08-23T12:23:24.213Z"
   },
   {
    "duration": 4,
    "start_time": "2022-08-23T12:23:30.015Z"
   },
   {
    "duration": 906,
    "start_time": "2022-08-23T12:23:30.392Z"
   },
   {
    "duration": 43,
    "start_time": "2022-08-23T12:23:31.300Z"
   },
   {
    "duration": 4,
    "start_time": "2022-08-23T12:23:31.345Z"
   },
   {
    "duration": 3,
    "start_time": "2022-08-23T12:23:38.717Z"
   },
   {
    "duration": 851,
    "start_time": "2022-08-23T12:23:39.049Z"
   },
   {
    "duration": 43,
    "start_time": "2022-08-23T12:23:39.902Z"
   },
   {
    "duration": 4,
    "start_time": "2022-08-23T12:23:39.947Z"
   },
   {
    "duration": 2,
    "start_time": "2022-08-23T12:23:51.568Z"
   },
   {
    "duration": 671,
    "start_time": "2022-08-23T12:23:51.770Z"
   },
   {
    "duration": 33,
    "start_time": "2022-08-23T12:23:52.442Z"
   },
   {
    "duration": 10,
    "start_time": "2022-08-23T12:23:52.476Z"
   },
   {
    "duration": 2,
    "start_time": "2022-08-23T12:23:58.860Z"
   },
   {
    "duration": 857,
    "start_time": "2022-08-23T12:23:59.237Z"
   },
   {
    "duration": 42,
    "start_time": "2022-08-23T12:24:00.096Z"
   },
   {
    "duration": 4,
    "start_time": "2022-08-23T12:24:00.140Z"
   },
   {
    "duration": 3,
    "start_time": "2022-08-23T12:24:05.557Z"
   },
   {
    "duration": 865,
    "start_time": "2022-08-23T12:24:05.733Z"
   },
   {
    "duration": 42,
    "start_time": "2022-08-23T12:24:06.600Z"
   },
   {
    "duration": 4,
    "start_time": "2022-08-23T12:24:06.644Z"
   },
   {
    "duration": 21,
    "start_time": "2022-08-23T12:24:44.438Z"
   },
   {
    "duration": 3,
    "start_time": "2022-08-23T12:25:18.975Z"
   },
   {
    "duration": 3,
    "start_time": "2022-08-23T12:25:27.826Z"
   },
   {
    "duration": 54,
    "start_time": "2022-08-23T12:25:27.831Z"
   },
   {
    "duration": 7,
    "start_time": "2022-08-23T12:25:27.887Z"
   },
   {
    "duration": 13,
    "start_time": "2022-08-23T12:25:27.895Z"
   },
   {
    "duration": 3,
    "start_time": "2022-08-23T12:25:27.910Z"
   },
   {
    "duration": 16,
    "start_time": "2022-08-23T12:25:27.914Z"
   },
   {
    "duration": 9,
    "start_time": "2022-08-23T12:25:27.931Z"
   },
   {
    "duration": 11,
    "start_time": "2022-08-23T12:25:27.942Z"
   },
   {
    "duration": 34,
    "start_time": "2022-08-23T12:25:27.954Z"
   },
   {
    "duration": 9,
    "start_time": "2022-08-23T12:25:27.990Z"
   },
   {
    "duration": 3,
    "start_time": "2022-08-23T12:25:28.000Z"
   },
   {
    "duration": 13,
    "start_time": "2022-08-23T12:25:28.004Z"
   },
   {
    "duration": 9,
    "start_time": "2022-08-23T12:25:28.018Z"
   },
   {
    "duration": 103,
    "start_time": "2022-08-23T12:25:28.087Z"
   },
   {
    "duration": 5,
    "start_time": "2022-08-23T12:25:28.192Z"
   },
   {
    "duration": 7,
    "start_time": "2022-08-23T12:25:28.199Z"
   },
   {
    "duration": 22,
    "start_time": "2022-08-23T12:25:28.207Z"
   },
   {
    "duration": 4,
    "start_time": "2022-08-23T12:25:28.231Z"
   },
   {
    "duration": 9,
    "start_time": "2022-08-23T12:25:28.237Z"
   },
   {
    "duration": 5,
    "start_time": "2022-08-23T12:25:28.248Z"
   },
   {
    "duration": 842,
    "start_time": "2022-08-23T12:25:28.254Z"
   },
   {
    "duration": 43,
    "start_time": "2022-08-23T12:25:29.098Z"
   },
   {
    "duration": 4,
    "start_time": "2022-08-23T12:25:29.143Z"
   },
   {
    "duration": 36,
    "start_time": "2022-08-23T12:25:29.149Z"
   },
   {
    "duration": 4,
    "start_time": "2022-08-23T12:25:29.187Z"
   },
   {
    "duration": 4,
    "start_time": "2022-08-23T12:25:32.446Z"
   },
   {
    "duration": 1467,
    "start_time": "2022-08-25T10:40:43.419Z"
   },
   {
    "duration": 111,
    "start_time": "2022-08-25T10:40:44.887Z"
   },
   {
    "duration": 10,
    "start_time": "2022-08-25T10:40:45.000Z"
   },
   {
    "duration": 20,
    "start_time": "2022-08-25T10:40:45.012Z"
   },
   {
    "duration": 2,
    "start_time": "2022-08-25T10:40:45.034Z"
   },
   {
    "duration": 12,
    "start_time": "2022-08-25T10:40:45.038Z"
   },
   {
    "duration": 7,
    "start_time": "2022-08-25T10:40:45.051Z"
   },
   {
    "duration": 10,
    "start_time": "2022-08-25T10:40:45.060Z"
   },
   {
    "duration": 10,
    "start_time": "2022-08-25T10:40:45.071Z"
   },
   {
    "duration": 9,
    "start_time": "2022-08-25T10:40:45.083Z"
   },
   {
    "duration": 17,
    "start_time": "2022-08-25T10:40:45.094Z"
   },
   {
    "duration": 11,
    "start_time": "2022-08-25T10:40:45.112Z"
   },
   {
    "duration": 88,
    "start_time": "2022-08-25T10:40:45.124Z"
   },
   {
    "duration": 104,
    "start_time": "2022-08-25T10:40:45.214Z"
   },
   {
    "duration": 5,
    "start_time": "2022-08-25T10:40:45.320Z"
   },
   {
    "duration": 5,
    "start_time": "2022-08-25T10:40:45.326Z"
   },
   {
    "duration": 24,
    "start_time": "2022-08-25T10:40:45.332Z"
   },
   {
    "duration": 4,
    "start_time": "2022-08-25T10:40:45.358Z"
   },
   {
    "duration": 48,
    "start_time": "2022-08-25T10:40:45.363Z"
   },
   {
    "duration": 3,
    "start_time": "2022-08-25T10:40:45.412Z"
   },
   {
    "duration": 969,
    "start_time": "2022-08-25T10:40:45.416Z"
   },
   {
    "duration": 40,
    "start_time": "2022-08-25T10:40:46.386Z"
   },
   {
    "duration": 4,
    "start_time": "2022-08-25T10:40:46.427Z"
   },
   {
    "duration": 15,
    "start_time": "2022-08-25T10:40:46.433Z"
   },
   {
    "duration": 3,
    "start_time": "2022-08-25T10:40:46.449Z"
   },
   {
    "duration": 3,
    "start_time": "2022-08-25T10:41:14.178Z"
   },
   {
    "duration": 49,
    "start_time": "2022-08-25T10:41:14.182Z"
   },
   {
    "duration": 6,
    "start_time": "2022-08-25T10:41:14.233Z"
   },
   {
    "duration": 10,
    "start_time": "2022-08-25T10:41:14.240Z"
   },
   {
    "duration": 3,
    "start_time": "2022-08-25T10:41:14.252Z"
   },
   {
    "duration": 10,
    "start_time": "2022-08-25T10:41:14.256Z"
   },
   {
    "duration": 8,
    "start_time": "2022-08-25T10:41:14.267Z"
   },
   {
    "duration": 9,
    "start_time": "2022-08-25T10:41:14.277Z"
   },
   {
    "duration": 31,
    "start_time": "2022-08-25T10:41:14.287Z"
   },
   {
    "duration": 7,
    "start_time": "2022-08-25T10:41:14.319Z"
   },
   {
    "duration": 2,
    "start_time": "2022-08-25T10:41:14.328Z"
   },
   {
    "duration": 9,
    "start_time": "2022-08-25T10:41:14.331Z"
   },
   {
    "duration": 73,
    "start_time": "2022-08-25T10:41:14.341Z"
   },
   {
    "duration": 96,
    "start_time": "2022-08-25T10:41:14.418Z"
   },
   {
    "duration": 11,
    "start_time": "2022-08-25T10:41:14.515Z"
   },
   {
    "duration": 6,
    "start_time": "2022-08-25T10:41:14.528Z"
   },
   {
    "duration": 22,
    "start_time": "2022-08-25T10:41:14.535Z"
   },
   {
    "duration": 3,
    "start_time": "2022-08-25T10:41:14.559Z"
   },
   {
    "duration": 6,
    "start_time": "2022-08-25T10:41:14.564Z"
   },
   {
    "duration": 3,
    "start_time": "2022-08-25T10:41:14.571Z"
   },
   {
    "duration": 978,
    "start_time": "2022-08-25T10:41:14.576Z"
   },
   {
    "duration": 35,
    "start_time": "2022-08-25T10:41:15.555Z"
   },
   {
    "duration": 3,
    "start_time": "2022-08-25T10:41:15.592Z"
   },
   {
    "duration": 26,
    "start_time": "2022-08-25T10:41:15.597Z"
   },
   {
    "duration": 4,
    "start_time": "2022-08-25T10:41:15.624Z"
   },
   {
    "duration": 8,
    "start_time": "2022-08-25T10:43:05.764Z"
   },
   {
    "duration": 13,
    "start_time": "2022-08-25T10:43:16.494Z"
   },
   {
    "duration": 10,
    "start_time": "2022-08-25T10:43:22.669Z"
   },
   {
    "duration": 16,
    "start_time": "2022-08-25T10:43:53.315Z"
   },
   {
    "duration": 3,
    "start_time": "2022-08-25T10:44:02.085Z"
   },
   {
    "duration": 52,
    "start_time": "2022-08-25T10:44:02.090Z"
   },
   {
    "duration": 6,
    "start_time": "2022-08-25T10:44:02.143Z"
   },
   {
    "duration": 25,
    "start_time": "2022-08-25T10:44:02.151Z"
   },
   {
    "duration": 15,
    "start_time": "2022-08-25T10:44:02.178Z"
   },
   {
    "duration": 13,
    "start_time": "2022-08-25T10:44:02.194Z"
   },
   {
    "duration": 12,
    "start_time": "2022-08-25T10:44:02.208Z"
   },
   {
    "duration": 11,
    "start_time": "2022-08-25T10:44:02.221Z"
   },
   {
    "duration": 10,
    "start_time": "2022-08-25T10:44:02.233Z"
   },
   {
    "duration": 23,
    "start_time": "2022-08-25T10:44:02.244Z"
   },
   {
    "duration": 6,
    "start_time": "2022-08-25T10:44:15.622Z"
   },
   {
    "duration": 10,
    "start_time": "2022-08-25T10:44:16.950Z"
   },
   {
    "duration": 12,
    "start_time": "2022-08-25T10:44:28.222Z"
   },
   {
    "duration": 5,
    "start_time": "2022-08-25T10:45:01.591Z"
   },
   {
    "duration": 3,
    "start_time": "2022-08-25T10:45:46.466Z"
   },
   {
    "duration": 3,
    "start_time": "2022-08-25T10:45:54.555Z"
   },
   {
    "duration": 671,
    "start_time": "2022-08-25T10:53:32.597Z"
   },
   {
    "duration": 182,
    "start_time": "2022-08-25T10:54:00.274Z"
   },
   {
    "duration": 4,
    "start_time": "2022-08-25T10:55:03.673Z"
   },
   {
    "duration": 53,
    "start_time": "2022-08-25T10:55:03.679Z"
   },
   {
    "duration": 6,
    "start_time": "2022-08-25T10:55:03.734Z"
   },
   {
    "duration": 14,
    "start_time": "2022-08-25T10:55:03.742Z"
   },
   {
    "duration": 3,
    "start_time": "2022-08-25T10:55:03.758Z"
   },
   {
    "duration": 12,
    "start_time": "2022-08-25T10:55:03.763Z"
   },
   {
    "duration": 30,
    "start_time": "2022-08-25T10:55:03.777Z"
   },
   {
    "duration": 136,
    "start_time": "2022-08-25T10:55:03.809Z"
   },
   {
    "duration": 126,
    "start_time": "2022-08-25T10:55:05.977Z"
   },
   {
    "duration": 10,
    "start_time": "2022-08-25T10:55:07.760Z"
   },
   {
    "duration": 112,
    "start_time": "2022-08-25T10:58:48.459Z"
   },
   {
    "duration": 414,
    "start_time": "2022-08-25T10:59:28.226Z"
   },
   {
    "duration": 3,
    "start_time": "2022-08-25T10:59:50.898Z"
   },
   {
    "duration": 53,
    "start_time": "2022-08-25T10:59:50.903Z"
   },
   {
    "duration": 6,
    "start_time": "2022-08-25T10:59:50.957Z"
   },
   {
    "duration": 11,
    "start_time": "2022-08-25T10:59:50.964Z"
   },
   {
    "duration": 7,
    "start_time": "2022-08-25T10:59:50.977Z"
   },
   {
    "duration": 10,
    "start_time": "2022-08-25T10:59:50.986Z"
   },
   {
    "duration": 11,
    "start_time": "2022-08-25T10:59:50.997Z"
   },
   {
    "duration": 334,
    "start_time": "2022-08-25T10:59:51.009Z"
   },
   {
    "duration": 146,
    "start_time": "2022-08-25T11:00:12.368Z"
   },
   {
    "duration": 138,
    "start_time": "2022-08-25T11:00:30.295Z"
   },
   {
    "duration": 138,
    "start_time": "2022-08-25T11:00:52.029Z"
   },
   {
    "duration": 240,
    "start_time": "2022-08-25T11:00:56.475Z"
   },
   {
    "duration": 221,
    "start_time": "2022-08-25T11:01:03.592Z"
   },
   {
    "duration": 241,
    "start_time": "2022-08-25T11:01:09.889Z"
   },
   {
    "duration": 8,
    "start_time": "2022-08-25T11:07:15.705Z"
   },
   {
    "duration": 3,
    "start_time": "2022-08-25T11:07:19.832Z"
   },
   {
    "duration": 47,
    "start_time": "2022-08-25T11:07:19.837Z"
   },
   {
    "duration": 6,
    "start_time": "2022-08-25T11:07:19.886Z"
   },
   {
    "duration": 10,
    "start_time": "2022-08-25T11:07:19.894Z"
   },
   {
    "duration": 3,
    "start_time": "2022-08-25T11:07:19.906Z"
   },
   {
    "duration": 10,
    "start_time": "2022-08-25T11:07:19.910Z"
   },
   {
    "duration": 9,
    "start_time": "2022-08-25T11:07:19.921Z"
   },
   {
    "duration": 243,
    "start_time": "2022-08-25T11:07:19.931Z"
   },
   {
    "duration": 11,
    "start_time": "2022-08-25T11:07:20.176Z"
   },
   {
    "duration": 23,
    "start_time": "2022-08-25T11:07:20.189Z"
   },
   {
    "duration": 17,
    "start_time": "2022-08-25T11:07:20.213Z"
   },
   {
    "duration": 12,
    "start_time": "2022-08-25T11:07:34.071Z"
   },
   {
    "duration": 3,
    "start_time": "2022-08-25T11:14:01.729Z"
   },
   {
    "duration": 8,
    "start_time": "2022-08-25T11:14:02.962Z"
   },
   {
    "duration": 4,
    "start_time": "2022-08-25T11:14:04.755Z"
   },
   {
    "duration": 4,
    "start_time": "2022-08-25T11:14:05.462Z"
   },
   {
    "duration": 3,
    "start_time": "2022-08-25T11:14:09.656Z"
   },
   {
    "duration": 7,
    "start_time": "2022-08-25T11:14:10.081Z"
   },
   {
    "duration": 5,
    "start_time": "2022-08-25T11:14:11.161Z"
   },
   {
    "duration": 4,
    "start_time": "2022-08-25T11:14:11.515Z"
   },
   {
    "duration": 3,
    "start_time": "2022-08-25T11:14:16.661Z"
   },
   {
    "duration": 7,
    "start_time": "2022-08-25T11:14:17.162Z"
   },
   {
    "duration": 5,
    "start_time": "2022-08-25T11:14:17.439Z"
   },
   {
    "duration": 4,
    "start_time": "2022-08-25T11:14:17.956Z"
   },
   {
    "duration": 3,
    "start_time": "2022-08-25T11:14:22.635Z"
   },
   {
    "duration": 8,
    "start_time": "2022-08-25T11:14:23.026Z"
   },
   {
    "duration": 5,
    "start_time": "2022-08-25T11:14:23.565Z"
   },
   {
    "duration": 4,
    "start_time": "2022-08-25T11:14:24.004Z"
   },
   {
    "duration": 4,
    "start_time": "2022-08-25T11:14:27.334Z"
   },
   {
    "duration": 51,
    "start_time": "2022-08-25T11:14:27.340Z"
   },
   {
    "duration": 6,
    "start_time": "2022-08-25T11:14:27.393Z"
   },
   {
    "duration": 10,
    "start_time": "2022-08-25T11:14:27.400Z"
   },
   {
    "duration": 4,
    "start_time": "2022-08-25T11:14:27.412Z"
   },
   {
    "duration": 13,
    "start_time": "2022-08-25T11:14:27.417Z"
   },
   {
    "duration": 9,
    "start_time": "2022-08-25T11:14:27.432Z"
   },
   {
    "duration": 266,
    "start_time": "2022-08-25T11:14:27.443Z"
   },
   {
    "duration": 10,
    "start_time": "2022-08-25T11:14:27.711Z"
   },
   {
    "duration": 9,
    "start_time": "2022-08-25T11:14:27.723Z"
   },
   {
    "duration": 10,
    "start_time": "2022-08-25T11:14:27.734Z"
   },
   {
    "duration": 14,
    "start_time": "2022-08-25T11:14:27.745Z"
   },
   {
    "duration": 6,
    "start_time": "2022-08-25T11:14:27.760Z"
   },
   {
    "duration": 10,
    "start_time": "2022-08-25T11:14:27.768Z"
   },
   {
    "duration": 35,
    "start_time": "2022-08-25T11:14:27.779Z"
   },
   {
    "duration": 12,
    "start_time": "2022-08-25T11:14:27.816Z"
   },
   {
    "duration": 184,
    "start_time": "2022-08-25T11:14:27.829Z"
   },
   {
    "duration": 4,
    "start_time": "2022-08-25T11:15:05.698Z"
   },
   {
    "duration": 69,
    "start_time": "2022-08-25T11:15:23.853Z"
   },
   {
    "duration": 4,
    "start_time": "2022-08-25T11:15:34.293Z"
   },
   {
    "duration": 4,
    "start_time": "2022-08-25T11:15:49.809Z"
   },
   {
    "duration": 4,
    "start_time": "2022-08-25T11:16:05.354Z"
   },
   {
    "duration": 4,
    "start_time": "2022-08-25T11:16:16.982Z"
   },
   {
    "duration": 4,
    "start_time": "2022-08-25T11:16:20.623Z"
   },
   {
    "duration": 5,
    "start_time": "2022-08-25T11:16:52.431Z"
   },
   {
    "duration": 3,
    "start_time": "2022-08-25T11:20:28.050Z"
   },
   {
    "duration": 1040,
    "start_time": "2022-08-25T11:20:29.328Z"
   },
   {
    "duration": 37,
    "start_time": "2022-08-25T11:20:33.764Z"
   },
   {
    "duration": 4,
    "start_time": "2022-08-25T11:20:34.392Z"
   },
   {
    "duration": 3,
    "start_time": "2022-08-25T11:22:20.943Z"
   },
   {
    "duration": 579,
    "start_time": "2022-08-25T11:22:22.835Z"
   },
   {
    "duration": 22,
    "start_time": "2022-08-25T11:22:24.755Z"
   },
   {
    "duration": 4,
    "start_time": "2022-08-25T11:22:25.359Z"
   },
   {
    "duration": 3,
    "start_time": "2022-08-25T11:22:30.973Z"
   },
   {
    "duration": 977,
    "start_time": "2022-08-25T11:22:31.420Z"
   },
   {
    "duration": 42,
    "start_time": "2022-08-25T11:22:32.399Z"
   },
   {
    "duration": 4,
    "start_time": "2022-08-25T11:22:32.443Z"
   },
   {
    "duration": 2,
    "start_time": "2022-08-25T11:22:33.993Z"
   },
   {
    "duration": 568,
    "start_time": "2022-08-25T11:22:34.456Z"
   },
   {
    "duration": 21,
    "start_time": "2022-08-25T11:22:35.026Z"
   },
   {
    "duration": 4,
    "start_time": "2022-08-25T11:22:35.762Z"
   },
   {
    "duration": 15,
    "start_time": "2022-08-25T11:29:04.357Z"
   },
   {
    "duration": 13,
    "start_time": "2022-08-25T11:29:13.152Z"
   },
   {
    "duration": 173,
    "start_time": "2022-08-25T11:29:36.858Z"
   },
   {
    "duration": 19,
    "start_time": "2022-08-25T11:30:16.659Z"
   },
   {
    "duration": 179,
    "start_time": "2022-08-25T11:30:20.367Z"
   },
   {
    "duration": 3,
    "start_time": "2022-08-25T11:31:58.310Z"
   },
   {
    "duration": 20,
    "start_time": "2022-08-25T11:31:58.568Z"
   },
   {
    "duration": 4,
    "start_time": "2022-08-25T11:31:58.842Z"
   },
   {
    "duration": 5,
    "start_time": "2022-08-25T11:31:59.345Z"
   },
   {
    "duration": 60,
    "start_time": "2022-08-25T11:36:28.867Z"
   },
   {
    "duration": 9,
    "start_time": "2022-08-25T11:37:03.125Z"
   },
   {
    "duration": 2,
    "start_time": "2022-08-25T11:37:20.994Z"
   },
   {
    "duration": 11,
    "start_time": "2022-08-25T11:37:21.961Z"
   },
   {
    "duration": 19,
    "start_time": "2022-08-25T11:37:36.427Z"
   },
   {
    "duration": 5,
    "start_time": "2022-08-25T11:38:44.184Z"
   },
   {
    "duration": 4,
    "start_time": "2022-08-25T11:39:04.713Z"
   },
   {
    "duration": 5,
    "start_time": "2022-08-25T11:39:08.590Z"
   },
   {
    "duration": 14642,
    "start_time": "2022-08-25T11:39:13.704Z"
   },
   {
    "duration": 179,
    "start_time": "2022-08-25T11:39:30.374Z"
   },
   {
    "duration": 3,
    "start_time": "2022-08-25T11:41:55.811Z"
   },
   {
    "duration": 22,
    "start_time": "2022-08-25T11:42:02.410Z"
   },
   {
    "duration": 4,
    "start_time": "2022-08-25T11:49:26.583Z"
   },
   {
    "duration": 89,
    "start_time": "2022-08-25T11:50:58.736Z"
   },
   {
    "duration": 12,
    "start_time": "2022-08-25T11:53:09.867Z"
   },
   {
    "duration": 4,
    "start_time": "2022-08-25T11:53:10.298Z"
   },
   {
    "duration": 3,
    "start_time": "2022-08-25T11:53:41.973Z"
   },
   {
    "duration": 14,
    "start_time": "2022-08-25T11:53:42.807Z"
   },
   {
    "duration": 980,
    "start_time": "2022-08-25T11:54:19.546Z"
   },
   {
    "duration": 13,
    "start_time": "2022-08-25T11:54:20.528Z"
   },
   {
    "duration": 5,
    "start_time": "2022-08-25T11:54:21.627Z"
   },
   {
    "duration": 1031,
    "start_time": "2022-08-25T11:54:29.566Z"
   },
   {
    "duration": 18,
    "start_time": "2022-08-25T11:54:30.599Z"
   },
   {
    "duration": 26,
    "start_time": "2022-08-25T11:54:30.618Z"
   },
   {
    "duration": 3,
    "start_time": "2022-08-25T11:56:09.996Z"
   },
   {
    "duration": 3,
    "start_time": "2022-08-25T11:56:36.762Z"
   },
   {
    "duration": 970,
    "start_time": "2022-08-25T11:56:44.323Z"
   },
   {
    "duration": 14,
    "start_time": "2022-08-25T11:56:48.333Z"
   },
   {
    "duration": 4,
    "start_time": "2022-08-25T11:56:48.918Z"
   },
   {
    "duration": 2,
    "start_time": "2022-08-25T11:57:36.168Z"
   },
   {
    "duration": 63,
    "start_time": "2022-08-25T11:57:36.172Z"
   },
   {
    "duration": 5,
    "start_time": "2022-08-25T11:57:36.237Z"
   },
   {
    "duration": 24,
    "start_time": "2022-08-25T11:57:36.244Z"
   },
   {
    "duration": 15,
    "start_time": "2022-08-25T11:57:36.270Z"
   },
   {
    "duration": 19,
    "start_time": "2022-08-25T11:57:36.286Z"
   },
   {
    "duration": 28,
    "start_time": "2022-08-25T11:57:36.306Z"
   },
   {
    "duration": 243,
    "start_time": "2022-08-25T11:57:36.335Z"
   },
   {
    "duration": 10,
    "start_time": "2022-08-25T11:57:36.579Z"
   },
   {
    "duration": 29,
    "start_time": "2022-08-25T11:57:36.591Z"
   },
   {
    "duration": 11,
    "start_time": "2022-08-25T11:57:36.623Z"
   },
   {
    "duration": 25,
    "start_time": "2022-08-25T11:57:36.635Z"
   },
   {
    "duration": 24,
    "start_time": "2022-08-25T11:57:36.662Z"
   },
   {
    "duration": 9,
    "start_time": "2022-08-25T11:57:36.687Z"
   },
   {
    "duration": 11,
    "start_time": "2022-08-25T11:57:36.698Z"
   },
   {
    "duration": 10,
    "start_time": "2022-08-25T11:57:36.710Z"
   },
   {
    "duration": 90,
    "start_time": "2022-08-25T11:57:36.721Z"
   },
   {
    "duration": 198,
    "start_time": "2022-08-25T11:57:36.813Z"
   },
   {
    "duration": 21,
    "start_time": "2022-08-25T11:57:37.013Z"
   },
   {
    "duration": 185,
    "start_time": "2022-08-25T11:57:37.035Z"
   },
   {
    "duration": 3,
    "start_time": "2022-08-25T11:57:37.221Z"
   },
   {
    "duration": 35,
    "start_time": "2022-08-25T11:57:37.226Z"
   },
   {
    "duration": 3,
    "start_time": "2022-08-25T11:57:37.263Z"
   },
   {
    "duration": 1011,
    "start_time": "2022-08-25T11:57:37.268Z"
   },
   {
    "duration": 42,
    "start_time": "2022-08-25T11:57:38.281Z"
   },
   {
    "duration": 4,
    "start_time": "2022-08-25T11:57:38.325Z"
   },
   {
    "duration": 12,
    "start_time": "2022-08-25T11:57:38.331Z"
   },
   {
    "duration": 581,
    "start_time": "2022-08-25T11:57:38.345Z"
   },
   {
    "duration": 20,
    "start_time": "2022-08-25T11:57:38.930Z"
   },
   {
    "duration": 8,
    "start_time": "2022-08-25T11:57:38.952Z"
   },
   {
    "duration": 13,
    "start_time": "2022-08-25T11:57:38.962Z"
   },
   {
    "duration": 1011,
    "start_time": "2022-08-25T11:57:38.976Z"
   },
   {
    "duration": 24,
    "start_time": "2022-08-25T11:57:39.988Z"
   },
   {
    "duration": 4,
    "start_time": "2022-08-25T11:57:40.013Z"
   },
   {
    "duration": 48,
    "start_time": "2022-08-25T13:31:52.145Z"
   },
   {
    "duration": 1462,
    "start_time": "2022-08-25T13:31:56.900Z"
   },
   {
    "duration": 109,
    "start_time": "2022-08-25T13:31:58.363Z"
   },
   {
    "duration": 9,
    "start_time": "2022-08-25T13:31:58.474Z"
   },
   {
    "duration": 13,
    "start_time": "2022-08-25T13:31:58.485Z"
   },
   {
    "duration": 9,
    "start_time": "2022-08-25T13:31:58.500Z"
   },
   {
    "duration": 13,
    "start_time": "2022-08-25T13:31:58.510Z"
   },
   {
    "duration": 13,
    "start_time": "2022-08-25T13:31:58.525Z"
   },
   {
    "duration": 261,
    "start_time": "2022-08-25T13:31:58.539Z"
   },
   {
    "duration": 16,
    "start_time": "2022-08-25T13:31:58.802Z"
   },
   {
    "duration": 33,
    "start_time": "2022-08-25T13:31:58.819Z"
   },
   {
    "duration": 13,
    "start_time": "2022-08-25T13:31:58.854Z"
   },
   {
    "duration": 18,
    "start_time": "2022-08-25T13:31:58.869Z"
   },
   {
    "duration": 6,
    "start_time": "2022-08-25T13:31:58.889Z"
   },
   {
    "duration": 18,
    "start_time": "2022-08-25T13:31:58.897Z"
   },
   {
    "duration": 13,
    "start_time": "2022-08-25T13:31:58.916Z"
   },
   {
    "duration": 12,
    "start_time": "2022-08-25T13:31:58.931Z"
   },
   {
    "duration": 68,
    "start_time": "2022-08-25T13:31:58.945Z"
   },
   {
    "duration": 104,
    "start_time": "2022-08-25T13:31:59.015Z"
   },
   {
    "duration": 9,
    "start_time": "2022-08-25T13:31:59.121Z"
   },
   {
    "duration": 229,
    "start_time": "2022-08-25T13:31:59.133Z"
   },
   {
    "duration": 3,
    "start_time": "2022-08-25T13:31:59.364Z"
   },
   {
    "duration": 25,
    "start_time": "2022-08-25T13:31:59.368Z"
   },
   {
    "duration": 16,
    "start_time": "2022-08-25T13:31:59.395Z"
   },
   {
    "duration": 1034,
    "start_time": "2022-08-25T13:31:59.412Z"
   },
   {
    "duration": 39,
    "start_time": "2022-08-25T13:32:00.448Z"
   },
   {
    "duration": 4,
    "start_time": "2022-08-25T13:32:00.489Z"
   },
   {
    "duration": 4,
    "start_time": "2022-08-25T13:32:01.873Z"
   },
   {
    "duration": 4,
    "start_time": "2022-08-25T13:32:06.750Z"
   },
   {
    "duration": 3,
    "start_time": "2022-08-25T13:32:11.152Z"
   },
   {
    "duration": 52,
    "start_time": "2022-08-25T13:32:11.157Z"
   },
   {
    "duration": 7,
    "start_time": "2022-08-25T13:32:11.210Z"
   },
   {
    "duration": 11,
    "start_time": "2022-08-25T13:32:11.219Z"
   },
   {
    "duration": 3,
    "start_time": "2022-08-25T13:32:11.233Z"
   },
   {
    "duration": 11,
    "start_time": "2022-08-25T13:32:11.238Z"
   },
   {
    "duration": 6,
    "start_time": "2022-08-25T13:32:11.250Z"
   },
   {
    "duration": 272,
    "start_time": "2022-08-25T13:32:11.257Z"
   },
   {
    "duration": 11,
    "start_time": "2022-08-25T13:32:11.531Z"
   },
   {
    "duration": 11,
    "start_time": "2022-08-25T13:32:11.543Z"
   },
   {
    "duration": 9,
    "start_time": "2022-08-25T13:32:11.556Z"
   },
   {
    "duration": 14,
    "start_time": "2022-08-25T13:32:11.567Z"
   },
   {
    "duration": 28,
    "start_time": "2022-08-25T13:32:11.583Z"
   },
   {
    "duration": 3,
    "start_time": "2022-08-25T13:32:11.614Z"
   },
   {
    "duration": 5,
    "start_time": "2022-08-25T13:32:11.619Z"
   },
   {
    "duration": 87,
    "start_time": "2022-08-25T13:32:11.626Z"
   },
   {
    "duration": 7,
    "start_time": "2022-08-25T13:32:11.715Z"
   },
   {
    "duration": 99,
    "start_time": "2022-08-25T13:32:11.723Z"
   },
   {
    "duration": 109,
    "start_time": "2022-08-25T13:32:11.824Z"
   },
   {
    "duration": 191,
    "start_time": "2022-08-25T13:32:11.934Z"
   },
   {
    "duration": 3,
    "start_time": "2022-08-25T13:32:12.127Z"
   },
   {
    "duration": 32,
    "start_time": "2022-08-25T13:32:12.132Z"
   },
   {
    "duration": 2,
    "start_time": "2022-08-25T13:32:12.166Z"
   },
   {
    "duration": 1054,
    "start_time": "2022-08-25T13:32:12.169Z"
   },
   {
    "duration": 37,
    "start_time": "2022-08-25T13:32:13.224Z"
   },
   {
    "duration": 4,
    "start_time": "2022-08-25T13:32:13.263Z"
   },
   {
    "duration": 6,
    "start_time": "2022-08-25T13:32:13.268Z"
   },
   {
    "duration": 597,
    "start_time": "2022-08-25T13:32:13.275Z"
   },
   {
    "duration": 21,
    "start_time": "2022-08-25T13:32:13.873Z"
   },
   {
    "duration": 16,
    "start_time": "2022-08-25T13:32:13.895Z"
   },
   {
    "duration": 4,
    "start_time": "2022-08-25T13:32:15.490Z"
   },
   {
    "duration": 120211,
    "start_time": "2022-08-25T13:39:41.699Z"
   },
   {
    "duration": 23968,
    "start_time": "2022-08-25T13:47:03.660Z"
   },
   {
    "duration": 180,
    "start_time": "2022-08-25T13:47:33.337Z"
   },
   {
    "duration": 169,
    "start_time": "2022-08-25T13:47:46.778Z"
   },
   {
    "duration": 169,
    "start_time": "2022-08-25T13:50:03.606Z"
   },
   {
    "duration": 170,
    "start_time": "2022-08-25T13:50:16.154Z"
   },
   {
    "duration": 179,
    "start_time": "2022-08-25T14:24:44.623Z"
   },
   {
    "duration": 86,
    "start_time": "2022-08-25T14:25:08.795Z"
   },
   {
    "duration": 181,
    "start_time": "2022-08-25T14:25:16.068Z"
   },
   {
    "duration": 50,
    "start_time": "2022-08-25T14:25:25.962Z"
   },
   {
    "duration": 51,
    "start_time": "2022-08-25T14:25:30.906Z"
   },
   {
    "duration": 177,
    "start_time": "2022-08-25T14:25:55.572Z"
   },
   {
    "duration": 66,
    "start_time": "2022-08-25T14:27:30.352Z"
   },
   {
    "duration": 177,
    "start_time": "2022-08-25T14:27:47.684Z"
   },
   {
    "duration": 22,
    "start_time": "2022-08-25T14:29:03.180Z"
   },
   {
    "duration": 558,
    "start_time": "2022-08-25T14:30:00.811Z"
   },
   {
    "duration": 22,
    "start_time": "2022-08-25T14:30:06.110Z"
   },
   {
    "duration": 188,
    "start_time": "2022-08-25T14:30:29.619Z"
   },
   {
    "duration": 203,
    "start_time": "2022-08-25T14:30:52.502Z"
   },
   {
    "duration": 184,
    "start_time": "2022-08-25T14:38:22.265Z"
   },
   {
    "duration": 181,
    "start_time": "2022-08-25T14:38:36.683Z"
   },
   {
    "duration": 179,
    "start_time": "2022-08-25T14:38:47.154Z"
   },
   {
    "duration": 185,
    "start_time": "2022-08-25T14:38:57.433Z"
   },
   {
    "duration": 187,
    "start_time": "2022-08-25T14:39:06.182Z"
   },
   {
    "duration": 185,
    "start_time": "2022-08-25T14:39:37.659Z"
   },
   {
    "duration": 20,
    "start_time": "2022-08-25T14:41:22.239Z"
   },
   {
    "duration": 22,
    "start_time": "2022-08-25T14:41:42.183Z"
   },
   {
    "duration": 21,
    "start_time": "2022-08-25T14:43:29.750Z"
   },
   {
    "duration": 21,
    "start_time": "2022-08-25T14:44:00.660Z"
   },
   {
    "duration": 170,
    "start_time": "2022-08-25T14:45:08.831Z"
   },
   {
    "duration": 174,
    "start_time": "2022-08-25T14:45:26.655Z"
   },
   {
    "duration": 175,
    "start_time": "2022-08-25T14:45:56.976Z"
   },
   {
    "duration": 169,
    "start_time": "2022-08-25T14:46:07.665Z"
   },
   {
    "duration": 174,
    "start_time": "2022-08-25T14:46:30.228Z"
   },
   {
    "duration": 168,
    "start_time": "2022-08-25T14:46:38.608Z"
   },
   {
    "duration": 177,
    "start_time": "2022-08-25T14:47:35.777Z"
   },
   {
    "duration": 176,
    "start_time": "2022-08-25T14:47:50.242Z"
   },
   {
    "duration": 206,
    "start_time": "2022-08-25T14:48:12.591Z"
   },
   {
    "duration": 179,
    "start_time": "2022-08-25T14:48:31.077Z"
   },
   {
    "duration": 174,
    "start_time": "2022-08-25T14:48:45.843Z"
   },
   {
    "duration": 175,
    "start_time": "2022-08-25T14:48:52.247Z"
   },
   {
    "duration": 4,
    "start_time": "2022-08-25T14:49:30.179Z"
   },
   {
    "duration": 2,
    "start_time": "2022-08-25T14:50:37.125Z"
   },
   {
    "duration": 118,
    "start_time": "2022-08-25T14:50:58.988Z"
   },
   {
    "duration": 3,
    "start_time": "2022-08-25T14:51:02.954Z"
   },
   {
    "duration": 8,
    "start_time": "2022-08-25T14:51:28.026Z"
   },
   {
    "duration": 9,
    "start_time": "2022-08-25T14:51:54.684Z"
   },
   {
    "duration": 3,
    "start_time": "2022-08-25T14:52:01.349Z"
   },
   {
    "duration": 3,
    "start_time": "2022-08-25T14:52:23.827Z"
   },
   {
    "duration": 3,
    "start_time": "2022-08-25T14:52:32.848Z"
   },
   {
    "duration": 8,
    "start_time": "2022-08-25T14:53:05.621Z"
   },
   {
    "duration": 7,
    "start_time": "2022-08-25T14:53:16.929Z"
   },
   {
    "duration": 2,
    "start_time": "2022-08-25T14:53:23.221Z"
   },
   {
    "duration": 3,
    "start_time": "2022-08-25T14:53:32.386Z"
   },
   {
    "duration": 3,
    "start_time": "2022-08-25T14:53:58.148Z"
   },
   {
    "duration": 184,
    "start_time": "2022-08-25T14:55:19.439Z"
   },
   {
    "duration": 182,
    "start_time": "2022-08-25T14:55:54.132Z"
   },
   {
    "duration": 85,
    "start_time": "2022-08-25T14:56:04.142Z"
   },
   {
    "duration": 181,
    "start_time": "2022-08-25T14:56:07.856Z"
   },
   {
    "duration": 121426,
    "start_time": "2022-08-25T14:56:29.739Z"
   },
   {
    "duration": 1357,
    "start_time": "2022-08-25T14:59:03.186Z"
   },
   {
    "duration": 47,
    "start_time": "2022-08-25T14:59:04.544Z"
   },
   {
    "duration": 9,
    "start_time": "2022-08-25T14:59:04.593Z"
   },
   {
    "duration": 21,
    "start_time": "2022-08-25T14:59:04.605Z"
   },
   {
    "duration": 3,
    "start_time": "2022-08-25T14:59:04.627Z"
   },
   {
    "duration": 18,
    "start_time": "2022-08-25T14:59:04.632Z"
   },
   {
    "duration": 9,
    "start_time": "2022-08-25T14:59:04.652Z"
   },
   {
    "duration": 288,
    "start_time": "2022-08-25T14:59:04.662Z"
   },
   {
    "duration": 10,
    "start_time": "2022-08-25T14:59:04.952Z"
   },
   {
    "duration": 18,
    "start_time": "2022-08-25T14:59:04.964Z"
   },
   {
    "duration": 20,
    "start_time": "2022-08-25T14:59:04.984Z"
   },
   {
    "duration": 39,
    "start_time": "2022-08-25T14:59:05.005Z"
   },
   {
    "duration": 24,
    "start_time": "2022-08-25T14:59:05.046Z"
   },
   {
    "duration": 36,
    "start_time": "2022-08-25T14:59:05.071Z"
   },
   {
    "duration": 29,
    "start_time": "2022-08-25T14:59:05.108Z"
   },
   {
    "duration": 32,
    "start_time": "2022-08-25T14:59:05.138Z"
   },
   {
    "duration": 10,
    "start_time": "2022-08-25T14:59:05.172Z"
   },
   {
    "duration": 129,
    "start_time": "2022-08-25T14:59:05.184Z"
   },
   {
    "duration": 120857,
    "start_time": "2022-08-25T14:59:05.314Z"
   },
   {
    "duration": 3,
    "start_time": "2022-08-25T15:01:06.172Z"
   },
   {
    "duration": 1035,
    "start_time": "2022-08-25T15:01:06.177Z"
   },
   {
    "duration": 39,
    "start_time": "2022-08-25T15:01:07.214Z"
   },
   {
    "duration": 4,
    "start_time": "2022-08-25T15:01:07.255Z"
   },
   {
    "duration": 20,
    "start_time": "2022-08-25T15:01:07.260Z"
   },
   {
    "duration": 622,
    "start_time": "2022-08-25T15:01:07.281Z"
   },
   {
    "duration": 23,
    "start_time": "2022-08-25T15:01:07.905Z"
   },
   {
    "duration": 6,
    "start_time": "2022-08-25T15:01:07.930Z"
   },
   {
    "duration": 20,
    "start_time": "2022-08-25T15:01:07.939Z"
   },
   {
    "duration": 1038,
    "start_time": "2022-08-25T15:01:07.960Z"
   },
   {
    "duration": 19,
    "start_time": "2022-08-25T15:01:08.999Z"
   },
   {
    "duration": 5,
    "start_time": "2022-08-25T15:01:09.019Z"
   },
   {
    "duration": 47,
    "start_time": "2022-08-25T17:25:54.267Z"
   },
   {
    "duration": 1454,
    "start_time": "2022-08-25T17:25:57.778Z"
   },
   {
    "duration": 125,
    "start_time": "2022-08-25T17:25:59.234Z"
   },
   {
    "duration": 11,
    "start_time": "2022-08-25T17:25:59.361Z"
   },
   {
    "duration": 9,
    "start_time": "2022-08-25T17:25:59.374Z"
   },
   {
    "duration": 6,
    "start_time": "2022-08-25T17:25:59.385Z"
   },
   {
    "duration": 17,
    "start_time": "2022-08-25T17:25:59.393Z"
   },
   {
    "duration": 15,
    "start_time": "2022-08-25T17:25:59.412Z"
   },
   {
    "duration": 5,
    "start_time": "2022-08-25T17:26:00.918Z"
   },
   {
    "duration": 31,
    "start_time": "2022-08-25T17:26:56.975Z"
   },
   {
    "duration": 196,
    "start_time": "2022-08-25T17:27:46.567Z"
   },
   {
    "duration": 7,
    "start_time": "2022-08-25T17:29:49.505Z"
   },
   {
    "duration": 371,
    "start_time": "2022-08-25T17:29:53.462Z"
   },
   {
    "duration": 4,
    "start_time": "2022-08-25T17:29:58.921Z"
   },
   {
    "duration": 49,
    "start_time": "2022-08-25T17:29:58.926Z"
   },
   {
    "duration": 6,
    "start_time": "2022-08-25T17:29:58.976Z"
   },
   {
    "duration": 11,
    "start_time": "2022-08-25T17:29:58.983Z"
   },
   {
    "duration": 6,
    "start_time": "2022-08-25T17:29:58.995Z"
   },
   {
    "duration": 12,
    "start_time": "2022-08-25T17:29:59.002Z"
   },
   {
    "duration": 8,
    "start_time": "2022-08-25T17:29:59.016Z"
   },
   {
    "duration": 217,
    "start_time": "2022-08-25T17:29:59.025Z"
   },
   {
    "duration": 11,
    "start_time": "2022-08-25T17:29:59.244Z"
   },
   {
    "duration": 9,
    "start_time": "2022-08-25T17:29:59.256Z"
   },
   {
    "duration": 346,
    "start_time": "2022-08-25T17:29:59.266Z"
   },
   {
    "duration": 527,
    "start_time": "2022-08-25T17:30:17.447Z"
   },
   {
    "duration": 642,
    "start_time": "2022-08-25T17:32:56.811Z"
   },
   {
    "duration": 10,
    "start_time": "2022-08-25T17:34:10.219Z"
   },
   {
    "duration": 459,
    "start_time": "2022-08-25T17:34:11.167Z"
   },
   {
    "duration": 9,
    "start_time": "2022-08-25T17:34:42.754Z"
   },
   {
    "duration": 530,
    "start_time": "2022-08-25T17:34:43.590Z"
   },
   {
    "duration": 10,
    "start_time": "2022-08-25T17:34:51.286Z"
   },
   {
    "duration": 503,
    "start_time": "2022-08-25T17:34:52.016Z"
   },
   {
    "duration": 11,
    "start_time": "2022-08-25T17:35:02.293Z"
   },
   {
    "duration": 462,
    "start_time": "2022-08-25T17:35:03.225Z"
   },
   {
    "duration": 115,
    "start_time": "2022-08-25T17:48:07.452Z"
   },
   {
    "duration": 123,
    "start_time": "2022-08-25T17:48:19.522Z"
   },
   {
    "duration": 164,
    "start_time": "2022-08-25T17:48:40.328Z"
   },
   {
    "duration": 136,
    "start_time": "2022-08-25T17:49:12.423Z"
   },
   {
    "duration": 6,
    "start_time": "2022-08-25T17:49:30.323Z"
   },
   {
    "duration": 282,
    "start_time": "2022-08-25T17:49:31.315Z"
   },
   {
    "duration": 127,
    "start_time": "2022-08-25T17:49:44.927Z"
   },
   {
    "duration": 131,
    "start_time": "2022-08-25T17:49:58.116Z"
   },
   {
    "duration": 121,
    "start_time": "2022-08-25T17:50:18.256Z"
   },
   {
    "duration": 255,
    "start_time": "2022-08-25T17:51:39.655Z"
   },
   {
    "duration": 211,
    "start_time": "2022-08-25T17:51:45.227Z"
   },
   {
    "duration": 6,
    "start_time": "2022-08-25T17:51:55.331Z"
   },
   {
    "duration": 298,
    "start_time": "2022-08-25T17:51:55.980Z"
   },
   {
    "duration": 240,
    "start_time": "2022-08-25T17:51:57.394Z"
   },
   {
    "duration": 9,
    "start_time": "2022-08-25T17:55:35.830Z"
   },
   {
    "duration": 14,
    "start_time": "2022-08-25T17:55:41.594Z"
   },
   {
    "duration": 14,
    "start_time": "2022-08-25T17:56:08.537Z"
   },
   {
    "duration": 6,
    "start_time": "2022-08-25T17:56:13.710Z"
   },
   {
    "duration": 5,
    "start_time": "2022-08-25T17:56:15.110Z"
   },
   {
    "duration": 3,
    "start_time": "2022-08-25T17:56:33.670Z"
   },
   {
    "duration": 9,
    "start_time": "2022-08-25T17:56:34.228Z"
   },
   {
    "duration": 191,
    "start_time": "2022-08-25T18:04:41.436Z"
   },
   {
    "duration": 3,
    "start_time": "2022-08-25T18:04:47.035Z"
   },
   {
    "duration": 48,
    "start_time": "2022-08-25T18:04:47.040Z"
   },
   {
    "duration": 6,
    "start_time": "2022-08-25T18:04:47.090Z"
   },
   {
    "duration": 34,
    "start_time": "2022-08-25T18:04:47.097Z"
   },
   {
    "duration": 2,
    "start_time": "2022-08-25T18:04:47.133Z"
   },
   {
    "duration": 8,
    "start_time": "2022-08-25T18:04:47.137Z"
   },
   {
    "duration": 5,
    "start_time": "2022-08-25T18:04:47.147Z"
   },
   {
    "duration": 235,
    "start_time": "2022-08-25T18:04:47.154Z"
   },
   {
    "duration": 14,
    "start_time": "2022-08-25T18:04:47.391Z"
   },
   {
    "duration": 29,
    "start_time": "2022-08-25T18:04:47.406Z"
   },
   {
    "duration": 324,
    "start_time": "2022-08-25T18:04:47.437Z"
   },
   {
    "duration": 271,
    "start_time": "2022-08-25T18:04:47.762Z"
   },
   {
    "duration": 9,
    "start_time": "2022-08-25T18:04:48.034Z"
   },
   {
    "duration": 23,
    "start_time": "2022-08-25T18:04:48.045Z"
   },
   {
    "duration": 18,
    "start_time": "2022-08-25T18:04:48.069Z"
   },
   {
    "duration": 32,
    "start_time": "2022-08-25T18:04:48.088Z"
   },
   {
    "duration": 8,
    "start_time": "2022-08-25T18:04:48.124Z"
   },
   {
    "duration": 3,
    "start_time": "2022-08-25T18:04:48.134Z"
   },
   {
    "duration": 10,
    "start_time": "2022-08-25T18:04:48.138Z"
   },
   {
    "duration": 4,
    "start_time": "2022-08-25T18:04:48.149Z"
   },
   {
    "duration": 161,
    "start_time": "2022-08-25T18:04:48.155Z"
   },
   {
    "duration": 115483,
    "start_time": "2022-08-25T18:04:48.318Z"
   },
   {
    "duration": 9,
    "start_time": "2022-08-25T18:06:43.807Z"
   },
   {
    "duration": 1003,
    "start_time": "2022-08-25T18:06:43.818Z"
   },
   {
    "duration": 44,
    "start_time": "2022-08-25T18:06:44.822Z"
   },
   {
    "duration": 4,
    "start_time": "2022-08-25T18:06:44.868Z"
   },
   {
    "duration": 5,
    "start_time": "2022-08-25T18:06:44.874Z"
   },
   {
    "duration": 583,
    "start_time": "2022-08-25T18:06:44.881Z"
   },
   {
    "duration": 21,
    "start_time": "2022-08-25T18:06:45.466Z"
   },
   {
    "duration": 20,
    "start_time": "2022-08-25T18:06:45.488Z"
   },
   {
    "duration": 25,
    "start_time": "2022-08-25T18:06:45.517Z"
   },
   {
    "duration": 977,
    "start_time": "2022-08-25T18:06:45.543Z"
   },
   {
    "duration": 15,
    "start_time": "2022-08-25T18:06:46.521Z"
   },
   {
    "duration": 4,
    "start_time": "2022-08-25T18:06:46.537Z"
   },
   {
    "duration": 114,
    "start_time": "2022-08-25T18:06:46.542Z"
   },
   {
    "duration": 11,
    "start_time": "2022-08-25T18:08:14.831Z"
   },
   {
    "duration": 231,
    "start_time": "2022-08-25T18:08:37.922Z"
   },
   {
    "duration": 5,
    "start_time": "2022-08-25T18:10:52.189Z"
   },
   {
    "duration": 998,
    "start_time": "2022-08-25T18:11:06.156Z"
   },
   {
    "duration": 14,
    "start_time": "2022-08-25T18:11:22.225Z"
   },
   {
    "duration": 11,
    "start_time": "2022-08-25T18:11:39.626Z"
   },
   {
    "duration": 4,
    "start_time": "2022-08-25T18:12:09.645Z"
   },
   {
    "duration": 828,
    "start_time": "2022-08-25T18:12:41.142Z"
   },
   {
    "duration": 3,
    "start_time": "2022-08-25T18:12:56.776Z"
   },
   {
    "duration": 1025,
    "start_time": "2022-08-25T18:13:05.834Z"
   },
   {
    "duration": 18,
    "start_time": "2022-08-25T18:14:22.511Z"
   },
   {
    "duration": 32,
    "start_time": "2022-08-25T18:14:46.893Z"
   },
   {
    "duration": 15,
    "start_time": "2022-08-25T18:14:59.216Z"
   },
   {
    "duration": 126,
    "start_time": "2022-08-25T18:16:36.434Z"
   },
   {
    "duration": 130,
    "start_time": "2022-08-25T18:17:01.321Z"
   },
   {
    "duration": 120,
    "start_time": "2022-08-25T18:17:08.318Z"
   },
   {
    "duration": 120,
    "start_time": "2022-08-25T18:17:16.133Z"
   },
   {
    "duration": 112,
    "start_time": "2022-08-25T18:19:16.648Z"
   },
   {
    "duration": 134,
    "start_time": "2022-08-25T18:19:31.719Z"
   },
   {
    "duration": 119,
    "start_time": "2022-08-25T18:19:41.853Z"
   },
   {
    "duration": 106,
    "start_time": "2022-08-25T18:19:56.779Z"
   },
   {
    "duration": 109,
    "start_time": "2022-08-25T18:20:09.848Z"
   },
   {
    "duration": 125,
    "start_time": "2022-08-25T18:20:18.772Z"
   },
   {
    "duration": 113,
    "start_time": "2022-08-25T18:20:48.835Z"
   },
   {
    "duration": 114,
    "start_time": "2022-08-25T18:21:21.852Z"
   },
   {
    "duration": 155,
    "start_time": "2022-08-25T18:21:40.590Z"
   },
   {
    "duration": 5,
    "start_time": "2022-08-25T18:22:09.237Z"
   },
   {
    "duration": 109,
    "start_time": "2022-08-25T18:22:13.936Z"
   },
   {
    "duration": 16,
    "start_time": "2022-08-25T18:22:53.684Z"
   },
   {
    "duration": 10,
    "start_time": "2022-08-25T18:23:07.730Z"
   },
   {
    "duration": 7,
    "start_time": "2022-08-25T18:23:23.012Z"
   },
   {
    "duration": 4,
    "start_time": "2022-08-25T18:23:35.630Z"
   },
   {
    "duration": 6,
    "start_time": "2022-08-25T18:23:54.533Z"
   },
   {
    "duration": 105,
    "start_time": "2022-08-25T18:24:13.672Z"
   },
   {
    "duration": 100,
    "start_time": "2022-08-25T18:24:30.288Z"
   },
   {
    "duration": 5,
    "start_time": "2022-08-25T18:24:44.629Z"
   },
   {
    "duration": 5,
    "start_time": "2022-08-25T18:24:45.502Z"
   },
   {
    "duration": 102,
    "start_time": "2022-08-25T18:24:46.279Z"
   },
   {
    "duration": 103,
    "start_time": "2022-08-25T18:25:09.016Z"
   },
   {
    "duration": 106,
    "start_time": "2022-08-25T18:25:15.668Z"
   },
   {
    "duration": 146,
    "start_time": "2022-08-25T18:25:24.929Z"
   },
   {
    "duration": 202,
    "start_time": "2022-08-25T18:25:57.935Z"
   },
   {
    "duration": 135,
    "start_time": "2022-08-25T18:26:19.781Z"
   },
   {
    "duration": 3,
    "start_time": "2022-08-25T18:29:34.536Z"
   },
   {
    "duration": 967,
    "start_time": "2022-08-25T18:29:35.447Z"
   },
   {
    "duration": 13,
    "start_time": "2022-08-25T18:29:38.639Z"
   },
   {
    "duration": 4,
    "start_time": "2022-08-25T18:29:39.454Z"
   },
   {
    "duration": 3,
    "start_time": "2022-08-25T18:29:58.969Z"
   },
   {
    "duration": 1418,
    "start_time": "2022-08-25T18:29:59.737Z"
   },
   {
    "duration": 17,
    "start_time": "2022-08-25T18:30:02.747Z"
   },
   {
    "duration": 3,
    "start_time": "2022-08-25T18:30:03.267Z"
   },
   {
    "duration": 3,
    "start_time": "2022-08-25T18:30:07.554Z"
   },
   {
    "duration": 2353,
    "start_time": "2022-08-25T18:30:08.332Z"
   },
   {
    "duration": 28,
    "start_time": "2022-08-25T18:30:11.792Z"
   },
   {
    "duration": 3,
    "start_time": "2022-08-25T18:30:12.292Z"
   },
   {
    "duration": 2,
    "start_time": "2022-08-25T18:30:18.692Z"
   },
   {
    "duration": 2291,
    "start_time": "2022-08-25T18:30:19.685Z"
   },
   {
    "duration": 27,
    "start_time": "2022-08-25T18:30:22.939Z"
   },
   {
    "duration": 4,
    "start_time": "2022-08-25T18:30:23.420Z"
   },
   {
    "duration": 5,
    "start_time": "2022-08-25T18:30:31.060Z"
   },
   {
    "duration": 1299,
    "start_time": "2022-08-25T18:30:31.536Z"
   },
   {
    "duration": 21,
    "start_time": "2022-08-25T18:30:32.836Z"
   },
   {
    "duration": 4,
    "start_time": "2022-08-25T18:30:32.858Z"
   },
   {
    "duration": 3,
    "start_time": "2022-08-25T18:30:37.538Z"
   },
   {
    "duration": 2333,
    "start_time": "2022-08-25T18:30:38.059Z"
   },
   {
    "duration": 31,
    "start_time": "2022-08-25T18:30:40.402Z"
   },
   {
    "duration": 4,
    "start_time": "2022-08-25T18:30:40.434Z"
   },
   {
    "duration": 3,
    "start_time": "2022-08-25T18:30:44.541Z"
   },
   {
    "duration": 3262,
    "start_time": "2022-08-25T18:30:45.212Z"
   },
   {
    "duration": 40,
    "start_time": "2022-08-25T18:30:48.475Z"
   },
   {
    "duration": 3,
    "start_time": "2022-08-25T18:30:48.517Z"
   },
   {
    "duration": 3,
    "start_time": "2022-08-25T18:30:58.229Z"
   },
   {
    "duration": 929,
    "start_time": "2022-08-25T18:30:58.583Z"
   },
   {
    "duration": 13,
    "start_time": "2022-08-25T18:30:59.514Z"
   },
   {
    "duration": 3,
    "start_time": "2022-08-25T18:30:59.528Z"
   },
   {
    "duration": 2,
    "start_time": "2022-08-25T18:31:05.062Z"
   },
   {
    "duration": 8933,
    "start_time": "2022-08-25T18:31:06.050Z"
   },
   {
    "duration": 91,
    "start_time": "2022-08-25T18:31:14.984Z"
   },
   {
    "duration": 4,
    "start_time": "2022-08-25T18:31:15.076Z"
   },
   {
    "duration": 3,
    "start_time": "2022-08-25T18:31:23.350Z"
   },
   {
    "duration": 1403,
    "start_time": "2022-08-25T18:31:23.847Z"
   },
   {
    "duration": 17,
    "start_time": "2022-08-25T18:31:25.252Z"
   },
   {
    "duration": 3,
    "start_time": "2022-08-25T18:31:25.271Z"
   },
   {
    "duration": 2,
    "start_time": "2022-08-25T18:31:32.277Z"
   },
   {
    "duration": 1341,
    "start_time": "2022-08-25T18:31:32.646Z"
   },
   {
    "duration": 21,
    "start_time": "2022-08-25T18:31:33.989Z"
   },
   {
    "duration": 3,
    "start_time": "2022-08-25T18:31:34.012Z"
   },
   {
    "duration": 3,
    "start_time": "2022-08-25T18:31:38.245Z"
   },
   {
    "duration": 1418,
    "start_time": "2022-08-25T18:31:38.676Z"
   },
   {
    "duration": 19,
    "start_time": "2022-08-25T18:31:40.096Z"
   },
   {
    "duration": 4,
    "start_time": "2022-08-25T18:31:40.116Z"
   },
   {
    "duration": 3,
    "start_time": "2022-08-25T18:31:47.559Z"
   },
   {
    "duration": 1339,
    "start_time": "2022-08-25T18:31:48.125Z"
   },
   {
    "duration": 17,
    "start_time": "2022-08-25T18:31:49.465Z"
   },
   {
    "duration": 4,
    "start_time": "2022-08-25T18:31:49.483Z"
   },
   {
    "duration": 3,
    "start_time": "2022-08-25T18:31:55.795Z"
   },
   {
    "duration": 1743,
    "start_time": "2022-08-25T18:31:56.275Z"
   },
   {
    "duration": 21,
    "start_time": "2022-08-25T18:31:58.020Z"
   },
   {
    "duration": 4,
    "start_time": "2022-08-25T18:31:58.042Z"
   },
   {
    "duration": 20,
    "start_time": "2022-08-25T18:33:36.574Z"
   },
   {
    "duration": 5,
    "start_time": "2022-08-25T18:33:56.433Z"
   },
   {
    "duration": 3,
    "start_time": "2022-08-25T18:35:46.030Z"
   },
   {
    "duration": 1772,
    "start_time": "2022-08-25T18:35:46.997Z"
   },
   {
    "duration": 20,
    "start_time": "2022-08-25T18:35:50.840Z"
   },
   {
    "duration": 4,
    "start_time": "2022-08-25T18:35:51.327Z"
   },
   {
    "duration": 3,
    "start_time": "2022-08-25T18:36:03.272Z"
   },
   {
    "duration": 1831,
    "start_time": "2022-08-25T18:36:03.705Z"
   },
   {
    "duration": 20,
    "start_time": "2022-08-25T18:36:05.537Z"
   },
   {
    "duration": 3,
    "start_time": "2022-08-25T18:36:05.558Z"
   },
   {
    "duration": 6,
    "start_time": "2022-08-25T18:36:48.767Z"
   },
   {
    "duration": 12,
    "start_time": "2022-08-25T18:36:50.983Z"
   },
   {
    "duration": 18,
    "start_time": "2022-08-25T18:36:53.796Z"
   },
   {
    "duration": 7,
    "start_time": "2022-08-25T18:36:55.568Z"
   },
   {
    "duration": 4,
    "start_time": "2022-08-25T18:36:56.561Z"
   },
   {
    "duration": 3,
    "start_time": "2022-08-25T18:37:03.956Z"
   },
   {
    "duration": 8,
    "start_time": "2022-08-25T18:37:04.337Z"
   },
   {
    "duration": 13,
    "start_time": "2022-08-25T18:37:04.630Z"
   },
   {
    "duration": 4,
    "start_time": "2022-08-25T18:37:05.276Z"
   },
   {
    "duration": 110944,
    "start_time": "2022-08-25T18:37:07.995Z"
   },
   {
    "duration": 2,
    "start_time": "2022-08-25T18:38:58.941Z"
   },
   {
    "duration": 916,
    "start_time": "2022-08-25T18:38:58.944Z"
   },
   {
    "duration": 45,
    "start_time": "2022-08-25T18:38:59.862Z"
   },
   {
    "duration": 4,
    "start_time": "2022-08-25T18:38:59.909Z"
   },
   {
    "duration": 4,
    "start_time": "2022-08-25T18:38:59.914Z"
   },
   {
    "duration": 554,
    "start_time": "2022-08-25T18:38:59.919Z"
   },
   {
    "duration": 25,
    "start_time": "2022-08-25T18:39:00.475Z"
   },
   {
    "duration": 4,
    "start_time": "2022-08-25T18:39:00.501Z"
   },
   {
    "duration": 3,
    "start_time": "2022-08-25T18:39:25.389Z"
   },
   {
    "duration": 995,
    "start_time": "2022-08-25T18:39:26.593Z"
   },
   {
    "duration": 20,
    "start_time": "2022-08-25T18:39:27.590Z"
   },
   {
    "duration": 4,
    "start_time": "2022-08-25T18:39:27.768Z"
   },
   {
    "duration": 3,
    "start_time": "2022-08-25T18:39:32.388Z"
   },
   {
    "duration": 1185,
    "start_time": "2022-08-25T18:39:32.756Z"
   },
   {
    "duration": 17,
    "start_time": "2022-08-25T18:39:33.943Z"
   },
   {
    "duration": 4,
    "start_time": "2022-08-25T18:39:33.962Z"
   },
   {
    "duration": 3,
    "start_time": "2022-08-25T18:39:45.693Z"
   },
   {
    "duration": 1068,
    "start_time": "2022-08-25T18:39:45.997Z"
   },
   {
    "duration": 14,
    "start_time": "2022-08-25T18:39:47.066Z"
   },
   {
    "duration": 3,
    "start_time": "2022-08-25T18:39:47.082Z"
   },
   {
    "duration": 2,
    "start_time": "2022-08-25T18:39:56.879Z"
   },
   {
    "duration": 1089,
    "start_time": "2022-08-25T18:39:57.219Z"
   },
   {
    "duration": 14,
    "start_time": "2022-08-25T18:39:58.310Z"
   },
   {
    "duration": 4,
    "start_time": "2022-08-25T18:39:58.326Z"
   },
   {
    "duration": 3,
    "start_time": "2022-08-25T18:40:02.826Z"
   },
   {
    "duration": 1017,
    "start_time": "2022-08-25T18:40:03.165Z"
   },
   {
    "duration": 20,
    "start_time": "2022-08-25T18:40:04.183Z"
   },
   {
    "duration": 4,
    "start_time": "2022-08-25T18:40:04.205Z"
   },
   {
    "duration": 3,
    "start_time": "2022-08-25T18:40:07.662Z"
   },
   {
    "duration": 1058,
    "start_time": "2022-08-25T18:40:07.934Z"
   },
   {
    "duration": 13,
    "start_time": "2022-08-25T18:40:08.999Z"
   },
   {
    "duration": 5,
    "start_time": "2022-08-25T18:40:09.013Z"
   },
   {
    "duration": 23,
    "start_time": "2022-08-25T18:40:51.107Z"
   },
   {
    "duration": 15,
    "start_time": "2022-08-25T18:40:59.582Z"
   },
   {
    "duration": 13,
    "start_time": "2022-08-25T18:41:11.766Z"
   },
   {
    "duration": 13,
    "start_time": "2022-08-25T18:41:17.685Z"
   },
   {
    "duration": 15,
    "start_time": "2022-08-25T18:41:40.555Z"
   },
   {
    "duration": 15,
    "start_time": "2022-08-25T18:42:10.442Z"
   },
   {
    "duration": 14,
    "start_time": "2022-08-25T18:42:22.902Z"
   },
   {
    "duration": 3,
    "start_time": "2022-08-25T18:42:32.924Z"
   },
   {
    "duration": 142,
    "start_time": "2022-08-25T18:42:57.171Z"
   },
   {
    "duration": 180,
    "start_time": "2022-08-25T18:46:44.379Z"
   },
   {
    "duration": 160,
    "start_time": "2022-08-25T18:46:52.396Z"
   },
   {
    "duration": 154,
    "start_time": "2022-08-25T18:47:25.241Z"
   },
   {
    "duration": 157,
    "start_time": "2022-08-25T18:47:50.587Z"
   },
   {
    "duration": 160,
    "start_time": "2022-08-25T18:49:10.934Z"
   },
   {
    "duration": 1585,
    "start_time": "2022-08-25T19:05:12.697Z"
   },
   {
    "duration": 49,
    "start_time": "2022-08-25T19:05:14.283Z"
   },
   {
    "duration": 13,
    "start_time": "2022-08-25T19:05:14.333Z"
   },
   {
    "duration": 10,
    "start_time": "2022-08-25T19:05:14.348Z"
   },
   {
    "duration": 5,
    "start_time": "2022-08-25T19:05:14.359Z"
   },
   {
    "duration": 22,
    "start_time": "2022-08-25T19:05:14.365Z"
   },
   {
    "duration": 21,
    "start_time": "2022-08-25T19:05:14.390Z"
   },
   {
    "duration": 302,
    "start_time": "2022-08-25T19:05:14.414Z"
   },
   {
    "duration": 23,
    "start_time": "2022-08-25T19:05:14.718Z"
   },
   {
    "duration": 7,
    "start_time": "2022-08-25T19:05:14.743Z"
   },
   {
    "duration": 328,
    "start_time": "2022-08-25T19:05:14.751Z"
   },
   {
    "duration": 342,
    "start_time": "2022-08-25T19:05:15.081Z"
   },
   {
    "duration": 10,
    "start_time": "2022-08-25T19:05:15.425Z"
   },
   {
    "duration": 24,
    "start_time": "2022-08-25T19:05:15.437Z"
   },
   {
    "duration": 25,
    "start_time": "2022-08-25T19:05:15.463Z"
   },
   {
    "duration": 10,
    "start_time": "2022-08-25T19:05:15.490Z"
   },
   {
    "duration": 8,
    "start_time": "2022-08-25T19:05:15.501Z"
   },
   {
    "duration": 6,
    "start_time": "2022-08-25T19:05:15.511Z"
   },
   {
    "duration": 11,
    "start_time": "2022-08-25T19:05:15.519Z"
   },
   {
    "duration": 7,
    "start_time": "2022-08-25T19:05:15.531Z"
   },
   {
    "duration": 59,
    "start_time": "2022-08-25T19:05:15.540Z"
   },
   {
    "duration": 113782,
    "start_time": "2022-08-25T19:05:15.601Z"
   },
   {
    "duration": 3,
    "start_time": "2022-08-25T19:07:09.385Z"
   },
   {
    "duration": 970,
    "start_time": "2022-08-25T19:07:09.398Z"
   },
   {
    "duration": 54,
    "start_time": "2022-08-25T19:07:10.370Z"
   },
   {
    "duration": 5,
    "start_time": "2022-08-25T19:07:10.427Z"
   },
   {
    "duration": 15,
    "start_time": "2022-08-25T19:07:10.433Z"
   },
   {
    "duration": 556,
    "start_time": "2022-08-25T19:07:10.451Z"
   },
   {
    "duration": 29,
    "start_time": "2022-08-25T19:07:11.009Z"
   },
   {
    "duration": 5,
    "start_time": "2022-08-25T19:07:11.041Z"
   },
   {
    "duration": 7,
    "start_time": "2022-08-25T19:07:11.047Z"
   },
   {
    "duration": 1069,
    "start_time": "2022-08-25T19:07:11.056Z"
   },
   {
    "duration": 16,
    "start_time": "2022-08-25T19:07:12.126Z"
   },
   {
    "duration": 4,
    "start_time": "2022-08-25T19:07:12.143Z"
   },
   {
    "duration": 168,
    "start_time": "2022-08-25T19:07:12.149Z"
   }
  ],
  "kernelspec": {
   "display_name": "Python 3 (ipykernel)",
   "language": "python",
   "name": "python3"
  },
  "language_info": {
   "codemirror_mode": {
    "name": "ipython",
    "version": 3
   },
   "file_extension": ".py",
   "mimetype": "text/x-python",
   "name": "python",
   "nbconvert_exporter": "python",
   "pygments_lexer": "ipython3",
   "version": "3.9.7"
  },
  "toc": {
   "base_numbering": 1,
   "nav_menu": {},
   "number_sections": true,
   "sideBar": true,
   "skip_h1_title": true,
   "title_cell": "Содержание",
   "title_sidebar": "Contents",
   "toc_cell": true,
   "toc_position": {
    "height": "calc(100% - 180px)",
    "left": "10px",
    "top": "150px",
    "width": "199.188px"
   },
   "toc_section_display": true,
   "toc_window_display": true
  }
 },
 "nbformat": 4,
 "nbformat_minor": 2
}
