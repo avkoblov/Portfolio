{
 "cells": [
  {
   "cell_type": "markdown",
   "metadata": {
    "toc": true
   },
   "source": [
    "<h1>Содержание<span class=\"tocSkip\"></span></h1>\n",
    "<div class=\"toc\"><ul class=\"toc-item\"><li><span><a href=\"#Подготовка-данных\" data-toc-modified-id=\"Подготовка-данных-1\"><span class=\"toc-item-num\">1&nbsp;&nbsp;</span>Подготовка данных</a></span></li><li><span><a href=\"#Исследование-задачи\" data-toc-modified-id=\"Исследование-задачи-2\"><span class=\"toc-item-num\">2&nbsp;&nbsp;</span>Исследование задачи</a></span></li><li><span><a href=\"#Борьба-с-дисбалансом\" data-toc-modified-id=\"Борьба-с-дисбалансом-3\"><span class=\"toc-item-num\">3&nbsp;&nbsp;</span>Борьба с дисбалансом</a></span><ul class=\"toc-item\"><li><span><a href=\"#Взвешивание-классов\" data-toc-modified-id=\"Взвешивание-классов-3.1\"><span class=\"toc-item-num\">3.1&nbsp;&nbsp;</span>Взвешивание классов</a></span></li><li><span><a href=\"#Увеличение-выборки.\" data-toc-modified-id=\"Увеличение-выборки.-3.2\"><span class=\"toc-item-num\">3.2&nbsp;&nbsp;</span>Увеличение выборки.</a></span></li><li><span><a href=\"#Уменьшение-выборки\" data-toc-modified-id=\"Уменьшение-выборки-3.3\"><span class=\"toc-item-num\">3.3&nbsp;&nbsp;</span>Уменьшение выборки</a></span></li><li><span><a href=\"#Итоги-борьбы-с-дисбалансом\" data-toc-modified-id=\"Итоги-борьбы-с-дисбалансом-3.4\"><span class=\"toc-item-num\">3.4&nbsp;&nbsp;</span>Итоги борьбы с дисбалансом</a></span></li></ul></li><li><span><a href=\"#Тестирование-модели\" data-toc-modified-id=\"Тестирование-модели-4\"><span class=\"toc-item-num\">4&nbsp;&nbsp;</span>Тестирование модели</a></span></li></ul></div>"
   ]
  },
  {
   "cell_type": "markdown",
   "metadata": {},
   "source": [
    "# Отток клиентов"
   ]
  },
  {
   "cell_type": "markdown",
   "metadata": {},
   "source": [
    "Нужно спрогнозировать, уйдёт клиент из банка в ближайшее время или нет. Нам предоставлены исторические данные о поведении клиентов и расторжении договоров с банком. \n",
    "\n",
    "Построим модель с предельно большим значением *F1*-меры. Задача - получить метрику не менее 0.59. Проверим *F1*-меру на тестовой выборке.\n",
    "\n",
    "Дополнительно измерим *AUC-ROC*, сравним её значение с *F1*-мерой.\n"
   ]
  },
  {
   "cell_type": "markdown",
   "metadata": {},
   "source": [
    "## Подготовка данных"
   ]
  },
  {
   "cell_type": "markdown",
   "metadata": {},
   "source": [
    "Импортируем все необходимые библиотеки"
   ]
  },
  {
   "cell_type": "code",
   "execution_count": 1,
   "metadata": {},
   "outputs": [],
   "source": [
    "import pandas as pd\n",
    "import numpy as np\n",
    "from sklearn.model_selection import train_test_split\n",
    "from sklearn.linear_model import LogisticRegression\n",
    "from sklearn.tree import DecisionTreeClassifier\n",
    "from sklearn.ensemble import RandomForestClassifier, RandomForestRegressor\n",
    "from sklearn.preprocessing import StandardScaler\n",
    "from sklearn.metrics import confusion_matrix, f1_score, recall_score, precision_score, roc_auc_score, roc_curve\n",
    "from sklearn.utils import shuffle\n",
    "import matplotlib.pyplot as plt"
   ]
  },
  {
   "cell_type": "markdown",
   "metadata": {},
   "source": [
    "Откроем файл с данными и ознакомимся с 5 первыми строками"
   ]
  },
  {
   "cell_type": "code",
   "execution_count": 2,
   "metadata": {},
   "outputs": [
    {
     "data": {
      "text/html": [
       "<div>\n",
       "<style scoped>\n",
       "    .dataframe tbody tr th:only-of-type {\n",
       "        vertical-align: middle;\n",
       "    }\n",
       "\n",
       "    .dataframe tbody tr th {\n",
       "        vertical-align: top;\n",
       "    }\n",
       "\n",
       "    .dataframe thead th {\n",
       "        text-align: right;\n",
       "    }\n",
       "</style>\n",
       "<table border=\"1\" class=\"dataframe\">\n",
       "  <thead>\n",
       "    <tr style=\"text-align: right;\">\n",
       "      <th></th>\n",
       "      <th>RowNumber</th>\n",
       "      <th>CustomerId</th>\n",
       "      <th>Surname</th>\n",
       "      <th>CreditScore</th>\n",
       "      <th>Geography</th>\n",
       "      <th>Gender</th>\n",
       "      <th>Age</th>\n",
       "      <th>Tenure</th>\n",
       "      <th>Balance</th>\n",
       "      <th>NumOfProducts</th>\n",
       "      <th>HasCrCard</th>\n",
       "      <th>IsActiveMember</th>\n",
       "      <th>EstimatedSalary</th>\n",
       "      <th>Exited</th>\n",
       "    </tr>\n",
       "  </thead>\n",
       "  <tbody>\n",
       "    <tr>\n",
       "      <th>0</th>\n",
       "      <td>1</td>\n",
       "      <td>15634602</td>\n",
       "      <td>Hargrave</td>\n",
       "      <td>619</td>\n",
       "      <td>France</td>\n",
       "      <td>Female</td>\n",
       "      <td>42</td>\n",
       "      <td>2.0</td>\n",
       "      <td>0.00</td>\n",
       "      <td>1</td>\n",
       "      <td>1</td>\n",
       "      <td>1</td>\n",
       "      <td>101348.88</td>\n",
       "      <td>1</td>\n",
       "    </tr>\n",
       "    <tr>\n",
       "      <th>1</th>\n",
       "      <td>2</td>\n",
       "      <td>15647311</td>\n",
       "      <td>Hill</td>\n",
       "      <td>608</td>\n",
       "      <td>Spain</td>\n",
       "      <td>Female</td>\n",
       "      <td>41</td>\n",
       "      <td>1.0</td>\n",
       "      <td>83807.86</td>\n",
       "      <td>1</td>\n",
       "      <td>0</td>\n",
       "      <td>1</td>\n",
       "      <td>112542.58</td>\n",
       "      <td>0</td>\n",
       "    </tr>\n",
       "    <tr>\n",
       "      <th>2</th>\n",
       "      <td>3</td>\n",
       "      <td>15619304</td>\n",
       "      <td>Onio</td>\n",
       "      <td>502</td>\n",
       "      <td>France</td>\n",
       "      <td>Female</td>\n",
       "      <td>42</td>\n",
       "      <td>8.0</td>\n",
       "      <td>159660.80</td>\n",
       "      <td>3</td>\n",
       "      <td>1</td>\n",
       "      <td>0</td>\n",
       "      <td>113931.57</td>\n",
       "      <td>1</td>\n",
       "    </tr>\n",
       "    <tr>\n",
       "      <th>3</th>\n",
       "      <td>4</td>\n",
       "      <td>15701354</td>\n",
       "      <td>Boni</td>\n",
       "      <td>699</td>\n",
       "      <td>France</td>\n",
       "      <td>Female</td>\n",
       "      <td>39</td>\n",
       "      <td>1.0</td>\n",
       "      <td>0.00</td>\n",
       "      <td>2</td>\n",
       "      <td>0</td>\n",
       "      <td>0</td>\n",
       "      <td>93826.63</td>\n",
       "      <td>0</td>\n",
       "    </tr>\n",
       "    <tr>\n",
       "      <th>4</th>\n",
       "      <td>5</td>\n",
       "      <td>15737888</td>\n",
       "      <td>Mitchell</td>\n",
       "      <td>850</td>\n",
       "      <td>Spain</td>\n",
       "      <td>Female</td>\n",
       "      <td>43</td>\n",
       "      <td>2.0</td>\n",
       "      <td>125510.82</td>\n",
       "      <td>1</td>\n",
       "      <td>1</td>\n",
       "      <td>1</td>\n",
       "      <td>79084.10</td>\n",
       "      <td>0</td>\n",
       "    </tr>\n",
       "  </tbody>\n",
       "</table>\n",
       "</div>"
      ],
      "text/plain": [
       "   RowNumber  CustomerId   Surname  CreditScore Geography  Gender  Age  \\\n",
       "0          1    15634602  Hargrave          619    France  Female   42   \n",
       "1          2    15647311      Hill          608     Spain  Female   41   \n",
       "2          3    15619304      Onio          502    France  Female   42   \n",
       "3          4    15701354      Boni          699    France  Female   39   \n",
       "4          5    15737888  Mitchell          850     Spain  Female   43   \n",
       "\n",
       "   Tenure    Balance  NumOfProducts  HasCrCard  IsActiveMember  \\\n",
       "0     2.0       0.00              1          1               1   \n",
       "1     1.0   83807.86              1          0               1   \n",
       "2     8.0  159660.80              3          1               0   \n",
       "3     1.0       0.00              2          0               0   \n",
       "4     2.0  125510.82              1          1               1   \n",
       "\n",
       "   EstimatedSalary  Exited  \n",
       "0        101348.88       1  \n",
       "1        112542.58       0  \n",
       "2        113931.57       1  \n",
       "3         93826.63       0  \n",
       "4         79084.10       0  "
      ]
     },
     "execution_count": 2,
     "metadata": {},
     "output_type": "execute_result"
    }
   ],
   "source": [
    "data = pd.read_csv('/datasets/Churn.csv')\n",
    "data.head()"
   ]
  },
  {
   "cell_type": "markdown",
   "metadata": {},
   "source": [
    "Оценим содержимое таблицы в цифрах на предмет пропусков и типов данных"
   ]
  },
  {
   "cell_type": "code",
   "execution_count": 3,
   "metadata": {
    "scrolled": false
   },
   "outputs": [
    {
     "name": "stdout",
     "output_type": "stream",
     "text": [
      "<class 'pandas.core.frame.DataFrame'>\n",
      "RangeIndex: 10000 entries, 0 to 9999\n",
      "Data columns (total 14 columns):\n",
      " #   Column           Non-Null Count  Dtype  \n",
      "---  ------           --------------  -----  \n",
      " 0   RowNumber        10000 non-null  int64  \n",
      " 1   CustomerId       10000 non-null  int64  \n",
      " 2   Surname          10000 non-null  object \n",
      " 3   CreditScore      10000 non-null  int64  \n",
      " 4   Geography        10000 non-null  object \n",
      " 5   Gender           10000 non-null  object \n",
      " 6   Age              10000 non-null  int64  \n",
      " 7   Tenure           9091 non-null   float64\n",
      " 8   Balance          10000 non-null  float64\n",
      " 9   NumOfProducts    10000 non-null  int64  \n",
      " 10  HasCrCard        10000 non-null  int64  \n",
      " 11  IsActiveMember   10000 non-null  int64  \n",
      " 12  EstimatedSalary  10000 non-null  float64\n",
      " 13  Exited           10000 non-null  int64  \n",
      "dtypes: float64(3), int64(8), object(3)\n",
      "memory usage: 1.1+ MB\n"
     ]
    }
   ],
   "source": [
    "data.info()"
   ]
  },
  {
   "cell_type": "markdown",
   "metadata": {},
   "source": [
    "**Вывод: \n",
    "<br>\n",
    "<br>в таблице есть три столбца с данными строчного типа, с ними необходимо провести работу и привести их к численным значениям.**"
   ]
  },
  {
   "cell_type": "markdown",
   "metadata": {},
   "source": [
    "Далее удалим столбец с ID пользователя, номером ряда и фамилией пользователя. Они ни к чему, только увеличивают объем данных и могут запутать модель."
   ]
  },
  {
   "cell_type": "code",
   "execution_count": 4,
   "metadata": {
    "scrolled": false
   },
   "outputs": [
    {
     "name": "stdout",
     "output_type": "stream",
     "text": [
      "<class 'pandas.core.frame.DataFrame'>\n",
      "RangeIndex: 10000 entries, 0 to 9999\n",
      "Data columns (total 11 columns):\n",
      " #   Column           Non-Null Count  Dtype  \n",
      "---  ------           --------------  -----  \n",
      " 0   CreditScore      10000 non-null  int64  \n",
      " 1   Geography        10000 non-null  object \n",
      " 2   Gender           10000 non-null  object \n",
      " 3   Age              10000 non-null  int64  \n",
      " 4   Tenure           9091 non-null   float64\n",
      " 5   Balance          10000 non-null  float64\n",
      " 6   NumOfProducts    10000 non-null  int64  \n",
      " 7   HasCrCard        10000 non-null  int64  \n",
      " 8   IsActiveMember   10000 non-null  int64  \n",
      " 9   EstimatedSalary  10000 non-null  float64\n",
      " 10  Exited           10000 non-null  int64  \n",
      "dtypes: float64(3), int64(6), object(2)\n",
      "memory usage: 859.5+ KB\n"
     ]
    }
   ],
   "source": [
    "data = data.drop(['CustomerId', 'RowNumber', 'Surname'], axis=1)\n",
    "data.info()"
   ]
  },
  {
   "cell_type": "markdown",
   "metadata": {},
   "source": [
    "Заменим на 0 пропуски в столбце Tenure. Пропущенные значения могут означать, что клиент новый. Будем считать, что этим записям соответствует срок нахождения в клиентах банка = 0"
   ]
  },
  {
   "cell_type": "code",
   "execution_count": 5,
   "metadata": {
    "scrolled": true
   },
   "outputs": [
    {
     "data": {
      "text/plain": [
       "0.0     1291\n",
       "1.0      952\n",
       "2.0      950\n",
       "8.0      933\n",
       "3.0      928\n",
       "5.0      927\n",
       "7.0      925\n",
       "4.0      885\n",
       "9.0      882\n",
       "6.0      881\n",
       "10.0     446\n",
       "Name: Tenure, dtype: int64"
      ]
     },
     "execution_count": 5,
     "metadata": {},
     "output_type": "execute_result"
    }
   ],
   "source": [
    "data['Tenure'] = data['Tenure'].fillna(0.0)\n",
    "data['Tenure'].value_counts()"
   ]
  },
  {
   "cell_type": "markdown",
   "metadata": {},
   "source": [
    "Проверим еще раз данные, убедимся, что пропуски ушли."
   ]
  },
  {
   "cell_type": "code",
   "execution_count": 6,
   "metadata": {
    "scrolled": true
   },
   "outputs": [
    {
     "name": "stdout",
     "output_type": "stream",
     "text": [
      "<class 'pandas.core.frame.DataFrame'>\n",
      "RangeIndex: 10000 entries, 0 to 9999\n",
      "Data columns (total 11 columns):\n",
      " #   Column           Non-Null Count  Dtype  \n",
      "---  ------           --------------  -----  \n",
      " 0   CreditScore      10000 non-null  int64  \n",
      " 1   Geography        10000 non-null  object \n",
      " 2   Gender           10000 non-null  object \n",
      " 3   Age              10000 non-null  int64  \n",
      " 4   Tenure           10000 non-null  float64\n",
      " 5   Balance          10000 non-null  float64\n",
      " 6   NumOfProducts    10000 non-null  int64  \n",
      " 7   HasCrCard        10000 non-null  int64  \n",
      " 8   IsActiveMember   10000 non-null  int64  \n",
      " 9   EstimatedSalary  10000 non-null  float64\n",
      " 10  Exited           10000 non-null  int64  \n",
      "dtypes: float64(3), int64(6), object(2)\n",
      "memory usage: 859.5+ KB\n"
     ]
    }
   ],
   "source": [
    "data.info()"
   ]
  },
  {
   "cell_type": "markdown",
   "metadata": {},
   "source": [
    "Применим технику прямого кодирования (One-Hot Encoding, OHE) для преобразования категориальных признаков в фиктивные (dummy) переменные. Используем для всего датафрейма функцию get_dummies(), указав параметр drop_first=True, чтобы исключить дамми-ловушку."
   ]
  },
  {
   "cell_type": "code",
   "execution_count": 7,
   "metadata": {
    "scrolled": true
   },
   "outputs": [],
   "source": [
    "data_ohe = pd.get_dummies(data, drop_first=True)\n",
    "target = data_ohe['Exited']\n",
    "features = data_ohe.drop(['Exited'] , axis=1)"
   ]
  },
  {
   "cell_type": "markdown",
   "metadata": {},
   "source": [
    "Проведем масштабирование признаков при помощи StandardScaler. Таким образом избавимся от возможных ошибок при обучении и проверке модели ввиду разного масштаба отдельных признаков между собой."
   ]
  },
  {
   "cell_type": "code",
   "execution_count": 8,
   "metadata": {
    "scrolled": true
   },
   "outputs": [
    {
     "data": {
      "text/html": [
       "<div>\n",
       "<style scoped>\n",
       "    .dataframe tbody tr th:only-of-type {\n",
       "        vertical-align: middle;\n",
       "    }\n",
       "\n",
       "    .dataframe tbody tr th {\n",
       "        vertical-align: top;\n",
       "    }\n",
       "\n",
       "    .dataframe thead th {\n",
       "        text-align: right;\n",
       "    }\n",
       "</style>\n",
       "<table border=\"1\" class=\"dataframe\">\n",
       "  <thead>\n",
       "    <tr style=\"text-align: right;\">\n",
       "      <th></th>\n",
       "      <th>CreditScore</th>\n",
       "      <th>Age</th>\n",
       "      <th>Tenure</th>\n",
       "      <th>Balance</th>\n",
       "      <th>NumOfProducts</th>\n",
       "      <th>HasCrCard</th>\n",
       "      <th>IsActiveMember</th>\n",
       "      <th>EstimatedSalary</th>\n",
       "      <th>Geography_Germany</th>\n",
       "      <th>Geography_Spain</th>\n",
       "      <th>Gender_Male</th>\n",
       "    </tr>\n",
       "  </thead>\n",
       "  <tbody>\n",
       "    <tr>\n",
       "      <th>0</th>\n",
       "      <td>-0.326221</td>\n",
       "      <td>0.293517</td>\n",
       "      <td>-0.817441</td>\n",
       "      <td>-1.225848</td>\n",
       "      <td>-0.911583</td>\n",
       "      <td>1</td>\n",
       "      <td>1</td>\n",
       "      <td>0.021886</td>\n",
       "      <td>0</td>\n",
       "      <td>0</td>\n",
       "      <td>0</td>\n",
       "    </tr>\n",
       "    <tr>\n",
       "      <th>1</th>\n",
       "      <td>-0.440036</td>\n",
       "      <td>0.198164</td>\n",
       "      <td>-1.138838</td>\n",
       "      <td>0.117350</td>\n",
       "      <td>-0.911583</td>\n",
       "      <td>0</td>\n",
       "      <td>1</td>\n",
       "      <td>0.216534</td>\n",
       "      <td>0</td>\n",
       "      <td>1</td>\n",
       "      <td>0</td>\n",
       "    </tr>\n",
       "    <tr>\n",
       "      <th>2</th>\n",
       "      <td>-1.536794</td>\n",
       "      <td>0.293517</td>\n",
       "      <td>1.110941</td>\n",
       "      <td>1.333053</td>\n",
       "      <td>2.527057</td>\n",
       "      <td>1</td>\n",
       "      <td>0</td>\n",
       "      <td>0.240687</td>\n",
       "      <td>0</td>\n",
       "      <td>0</td>\n",
       "      <td>0</td>\n",
       "    </tr>\n",
       "    <tr>\n",
       "      <th>3</th>\n",
       "      <td>0.501521</td>\n",
       "      <td>0.007457</td>\n",
       "      <td>-1.138838</td>\n",
       "      <td>-1.225848</td>\n",
       "      <td>0.807737</td>\n",
       "      <td>0</td>\n",
       "      <td>0</td>\n",
       "      <td>-0.108918</td>\n",
       "      <td>0</td>\n",
       "      <td>0</td>\n",
       "      <td>0</td>\n",
       "    </tr>\n",
       "    <tr>\n",
       "      <th>4</th>\n",
       "      <td>2.063884</td>\n",
       "      <td>0.388871</td>\n",
       "      <td>-0.817441</td>\n",
       "      <td>0.785728</td>\n",
       "      <td>-0.911583</td>\n",
       "      <td>1</td>\n",
       "      <td>1</td>\n",
       "      <td>-0.365276</td>\n",
       "      <td>0</td>\n",
       "      <td>1</td>\n",
       "      <td>0</td>\n",
       "    </tr>\n",
       "  </tbody>\n",
       "</table>\n",
       "</div>"
      ],
      "text/plain": [
       "   CreditScore       Age    Tenure   Balance  NumOfProducts  HasCrCard  \\\n",
       "0    -0.326221  0.293517 -0.817441 -1.225848      -0.911583          1   \n",
       "1    -0.440036  0.198164 -1.138838  0.117350      -0.911583          0   \n",
       "2    -1.536794  0.293517  1.110941  1.333053       2.527057          1   \n",
       "3     0.501521  0.007457 -1.138838 -1.225848       0.807737          0   \n",
       "4     2.063884  0.388871 -0.817441  0.785728      -0.911583          1   \n",
       "\n",
       "   IsActiveMember  EstimatedSalary  Geography_Germany  Geography_Spain  \\\n",
       "0               1         0.021886                  0                0   \n",
       "1               1         0.216534                  0                1   \n",
       "2               0         0.240687                  0                0   \n",
       "3               0        -0.108918                  0                0   \n",
       "4               1        -0.365276                  0                1   \n",
       "\n",
       "   Gender_Male  \n",
       "0            0  \n",
       "1            0  \n",
       "2            0  \n",
       "3            0  \n",
       "4            0  "
      ]
     },
     "execution_count": 8,
     "metadata": {},
     "output_type": "execute_result"
    }
   ],
   "source": [
    "numeric = ['CreditScore', 'Tenure', 'Balance', 'Age', 'EstimatedSalary', 'NumOfProducts']\n",
    "scaler = StandardScaler()\n",
    "scaler.fit(features[numeric])\n",
    "features[numeric] = scaler.transform(features[numeric])\n",
    "features.head()"
   ]
  },
  {
   "cell_type": "markdown",
   "metadata": {},
   "source": [
    "**Вывод: \n",
    "<br>\n",
    "<br>Масштабирование проведено. Теперь значения признаков имеют соизмеримый порядок и явных преимуществ отдельные признаки не получат**"
   ]
  },
  {
   "cell_type": "markdown",
   "metadata": {},
   "source": [
    "\n",
    "\n",
    "Далее разделим данные на три выборки: обучающую, валидационную и тестовую в соотношении 60/20/20 %"
   ]
  },
  {
   "cell_type": "code",
   "execution_count": 9,
   "metadata": {},
   "outputs": [],
   "source": [
    "features_train, features_test, target_train, target_test = train_test_split(\n",
    "    features, target, test_size=0.4, random_state=12345, stratify=target)"
   ]
  },
  {
   "cell_type": "code",
   "execution_count": 10,
   "metadata": {},
   "outputs": [],
   "source": [
    "features_valid, features_test, target_valid, target_test = train_test_split(\n",
    "    features_test, target_test, test_size=0.5, random_state=12345, stratify=target_test)"
   ]
  },
  {
   "cell_type": "markdown",
   "metadata": {},
   "source": [
    "Проверим размер получившихся выборок данных"
   ]
  },
  {
   "cell_type": "markdown",
   "metadata": {},
   "source": [
    "Обучающая выборка"
   ]
  },
  {
   "cell_type": "code",
   "execution_count": 11,
   "metadata": {},
   "outputs": [
    {
     "data": {
      "text/plain": [
       "(6000, 11)"
      ]
     },
     "execution_count": 11,
     "metadata": {},
     "output_type": "execute_result"
    }
   ],
   "source": [
    "features_train.shape"
   ]
  },
  {
   "cell_type": "markdown",
   "metadata": {},
   "source": [
    "Валидационная выборка"
   ]
  },
  {
   "cell_type": "code",
   "execution_count": 12,
   "metadata": {},
   "outputs": [
    {
     "data": {
      "text/plain": [
       "(2000, 11)"
      ]
     },
     "execution_count": 12,
     "metadata": {},
     "output_type": "execute_result"
    }
   ],
   "source": [
    "features_valid.shape"
   ]
  },
  {
   "cell_type": "markdown",
   "metadata": {},
   "source": [
    "Тестовая выборка"
   ]
  },
  {
   "cell_type": "code",
   "execution_count": 13,
   "metadata": {
    "scrolled": true
   },
   "outputs": [
    {
     "data": {
      "text/plain": [
       "(2000, 11)"
      ]
     },
     "execution_count": 13,
     "metadata": {},
     "output_type": "execute_result"
    }
   ],
   "source": [
    "features_test.shape"
   ]
  },
  {
   "cell_type": "markdown",
   "metadata": {},
   "source": [
    "**Вывод: \n",
    "<br>\n",
    "<br>разделение на выборки прошло корректно, с данными можно далее работать.**"
   ]
  },
  {
   "cell_type": "markdown",
   "metadata": {},
   "source": [
    "## Исследование задачи"
   ]
  },
  {
   "cell_type": "markdown",
   "metadata": {},
   "source": [
    "Проверим соотношение положительных и отрицательных значений целевого признака в имеющихся данных"
   ]
  },
  {
   "cell_type": "code",
   "execution_count": 14,
   "metadata": {
    "scrolled": true
   },
   "outputs": [
    {
     "data": {
      "text/plain": [
       "0.2037"
      ]
     },
     "execution_count": 14,
     "metadata": {},
     "output_type": "execute_result"
    }
   ],
   "source": [
    "data_ohe['Exited'].mean()"
   ]
  },
  {
   "cell_type": "markdown",
   "metadata": {},
   "source": [
    "**Вывод: \n",
    "<br>\n",
    "<br>Положительных ответов, которые наша будущая модель будет \"искать\", почти в 4 раза меньше отрицательных. наблюдается дисбаланс классов, от соотношения 1:1 очень далеко**"
   ]
  },
  {
   "cell_type": "markdown",
   "metadata": {},
   "source": [
    "Подберем оптимальные значения гиперпараметров для модели, обеспечивающие более высокую точность предсказаний. Для этого ниже запустим два отдельных цикла вычислений, для глубины дерева и количества деревьев соответственно:"
   ]
  },
  {
   "cell_type": "code",
   "execution_count": 15,
   "metadata": {},
   "outputs": [
    {
     "name": "stdout",
     "output_type": "stream",
     "text": [
      "max_depth = 15 : CPU times: user 4.26 s, sys: 34.4 ms, total: 4.29 s\n",
      "Wall time: 4.29 s\n"
     ]
    }
   ],
   "source": [
    "%%time\n",
    "best_result = 0\n",
    "\n",
    "for depth in range(1, 16, 1):\n",
    "    model = RandomForestClassifier(n_estimators=50, max_depth=depth, random_state=12345)\n",
    "    model.fit(features_train, target_train)\n",
    "    predictions_valid = model.predict(features_valid) \n",
    "    result = model.score(features_valid, target_valid)\n",
    "    if result > best_result:\n",
    "        best_result = result \n",
    "print(\"max_depth =\", depth, \": \", end='')"
   ]
  },
  {
   "cell_type": "code",
   "execution_count": 16,
   "metadata": {},
   "outputs": [
    {
     "name": "stdout",
     "output_type": "stream",
     "text": [
      "max_est = 49 : CPU times: user 9.24 s, sys: 56.8 ms, total: 9.3 s\n",
      "Wall time: 9.31 s\n"
     ]
    }
   ],
   "source": [
    "%%time\n",
    "best_result = 0\n",
    "\n",
    "for est in range(1, 50):\n",
    "    model = RandomForestClassifier(n_estimators=est, max_depth=15, random_state=12345)\n",
    "    model.fit(features_train, target_train)\n",
    "    predictions_valid = model.predict(features_valid) \n",
    "    result = f1_score(target_valid, predictions_valid)\n",
    "    if result > best_result:\n",
    "        best_result = result \n",
    "print(\"max_est =\", est, \": \", end='')"
   ]
  },
  {
   "cell_type": "markdown",
   "metadata": {},
   "source": [
    "**Вывод: \n",
    "<br>\n",
    "<br>По результатам вычислений получили оптимальные значения глубины дерева max_depth = 15 и количества деревьев леса n_estimators=49. Возьмем эти значения в качестве гиперпараметров для будущего использования модели Случайного леса и Дерева решений.**"
   ]
  },
  {
   "cell_type": "markdown",
   "metadata": {},
   "source": [
    "Обучим несколько разных моделей на обучающей выборке без учета дисбаланса классов и изучим полученные на их основе значения метрики F1"
   ]
  },
  {
   "cell_type": "markdown",
   "metadata": {},
   "source": [
    "Модель ДЕРЕВО РЕШЕНИЙ"
   ]
  },
  {
   "cell_type": "code",
   "execution_count": 17,
   "metadata": {
    "scrolled": true
   },
   "outputs": [
    {
     "data": {
      "text/plain": [
       "0.5199516324062878"
      ]
     },
     "execution_count": 17,
     "metadata": {},
     "output_type": "execute_result"
    }
   ],
   "source": [
    "model_tree = DecisionTreeClassifier(max_depth=15, random_state=12345)\n",
    "model_tree.fit(features_train, target_train)\n",
    "predictions_valid = model_tree.predict(features_valid) \n",
    "f1_score(target_valid, predictions_valid)"
   ]
  },
  {
   "cell_type": "markdown",
   "metadata": {},
   "source": [
    "Модель СЛУЧАЙНЫЙ ЛЕС"
   ]
  },
  {
   "cell_type": "code",
   "execution_count": 18,
   "metadata": {
    "scrolled": true
   },
   "outputs": [
    {
     "data": {
      "text/plain": [
       "0.6008968609865472"
      ]
     },
     "execution_count": 18,
     "metadata": {},
     "output_type": "execute_result"
    }
   ],
   "source": [
    "model_rf = RandomForestClassifier(n_estimators=50, max_depth=15, random_state=12345)\n",
    "model_rf.fit(features_train, target_train)\n",
    "predictions_valid = model_rf.predict(features_valid) \n",
    "f1_score(target_valid, predictions_valid)"
   ]
  },
  {
   "cell_type": "markdown",
   "metadata": {},
   "source": [
    "Модель ЛОГИСТИЧЕСКАЯ РЕГРЕССИЯ"
   ]
  },
  {
   "cell_type": "code",
   "execution_count": 19,
   "metadata": {},
   "outputs": [
    {
     "data": {
      "text/plain": [
       "0.3076923076923077"
      ]
     },
     "execution_count": 19,
     "metadata": {},
     "output_type": "execute_result"
    }
   ],
   "source": [
    "model_lr = LogisticRegression(solver='liblinear', random_state=12345)\n",
    "model_lr.fit(features_train, target_train)\n",
    "predictions_valid = model_lr.predict(features_valid) \n",
    "f1_score(target_valid, predictions_valid)"
   ]
  },
  {
   "cell_type": "markdown",
   "metadata": {},
   "source": [
    "**Вывод: \n",
    "<br>\n",
    "<br>Получены относительно невысокие значения метрики F1 для трех моделей. Отметим, что значение метрики в \"Случайном лесе\" значительно выше других и ближе к требуемой величине. Будем ориентироваться далее на эту модель как на оптимальную для тестирования и работы.**"
   ]
  },
  {
   "cell_type": "markdown",
   "metadata": {},
   "source": [
    "## Борьба с дисбалансом"
   ]
  },
  {
   "cell_type": "markdown",
   "metadata": {},
   "source": [
    "### Взвешивание классов"
   ]
  },
  {
   "cell_type": "markdown",
   "metadata": {},
   "source": [
    "Проверим, как повлияет на метрику техника \"взвешивания\" классов. Добавим в разные модели аргумент class_weight = 'balanced', тем самым сделав веса классов сбалансированными. Изучим полученные метрики F1 для каждой модели"
   ]
  },
  {
   "cell_type": "markdown",
   "metadata": {},
   "source": [
    "Модель ДЕРЕВО РЕШЕНИЙ (сбалансированные классы)"
   ]
  },
  {
   "cell_type": "code",
   "execution_count": 20,
   "metadata": {},
   "outputs": [
    {
     "name": "stdout",
     "output_type": "stream",
     "text": [
      "Метрика F1: 0.5074285714285715\n",
      "Площадь под кривой AUC-ROC:  0.697932832052419\n"
     ]
    }
   ],
   "source": [
    "model_tree_balanced = DecisionTreeClassifier(random_state=12345, max_depth=15, class_weight = 'balanced')\n",
    "model_tree_balanced.fit(features_train, target_train)\n",
    "predicted_valid = model_tree_balanced.predict(features_valid)\n",
    "print ('Метрика F1:', f1_score(target_valid,predicted_valid))\n",
    "probabilities_valid = model_tree_balanced.predict_proba(features_valid)\n",
    "probabilities_one_valid = probabilities_valid[:, 1]\n",
    "auc_roc = roc_auc_score(target_valid, probabilities_one_valid )\n",
    "print ('Площадь под кривой AUC-ROC: ', auc_roc)"
   ]
  },
  {
   "cell_type": "markdown",
   "metadata": {},
   "source": [
    "Модель СЛУЧАЙНЫЙ ЛЕС (сбалансированные классы)"
   ]
  },
  {
   "cell_type": "code",
   "execution_count": 21,
   "metadata": {
    "scrolled": true
   },
   "outputs": [
    {
     "name": "stdout",
     "output_type": "stream",
     "text": [
      "Метрика F1: 0.5988200589970502\n",
      "Площадь под кривой AUC-ROC:  0.859943097842152\n"
     ]
    }
   ],
   "source": [
    "model_rf_balanced = RandomForestClassifier(n_estimators=49, random_state=12345, max_depth=15, class_weight = 'balanced')\n",
    "model_rf_balanced.fit(features_train, target_train)\n",
    "predicted_valid = model_rf_balanced.predict(features_valid)\n",
    "print ('Метрика F1:', f1_score(target_valid,predicted_valid))\n",
    "probabilities_valid = model_rf_balanced.predict_proba(features_valid)\n",
    "probabilities_one_valid = probabilities_valid[:, 1]\n",
    "auc_roc = roc_auc_score(target_valid, probabilities_one_valid )\n",
    "print ('Площадь под кривой AUC-ROC: ', auc_roc)"
   ]
  },
  {
   "cell_type": "markdown",
   "metadata": {},
   "source": [
    "Модель ЛОГИСТИЧЕСКАЯ РЕГРЕССИЯ (сбалансированные классы)"
   ]
  },
  {
   "cell_type": "code",
   "execution_count": 22,
   "metadata": {
    "scrolled": true
   },
   "outputs": [
    {
     "name": "stdout",
     "output_type": "stream",
     "text": [
      "Метрика F1: 0.5302897278314311\n",
      "Площадь под кривой AUC-ROC:  0.7937743250566558\n"
     ]
    }
   ],
   "source": [
    "model_lr_balanced = LogisticRegression(solver='liblinear', random_state=12345, class_weight = 'balanced')\n",
    "model_lr_balanced.fit(features_train, target_train)\n",
    "predictions_valid = model_lr_balanced.predict(features_valid) \n",
    "print ('Метрика F1:', f1_score(target_valid,predictions_valid))\n",
    "probabilities_valid = model_lr_balanced.predict_proba(features_valid)\n",
    "probabilities_one_valid = probabilities_valid[:, 1]\n",
    "auc_roc = roc_auc_score(target_valid, probabilities_one_valid )\n",
    "print ('Площадь под кривой AUC-ROC: ', auc_roc)"
   ]
  },
  {
   "cell_type": "markdown",
   "metadata": {},
   "source": [
    "**Вывод: \n",
    "<br>\n",
    "<br>Балансировка классов положительно сказалась только на модели Логистической регрессии. Наблюдаемая метрика двух других моделей не сильно изменилась**"
   ]
  },
  {
   "cell_type": "markdown",
   "metadata": {},
   "source": [
    "### Увеличение выборки."
   ]
  },
  {
   "cell_type": "markdown",
   "metadata": {},
   "source": [
    "Проверим, как повлияет на метрику Ф1 другой способ борьбы с дисбалансом классов - Upsampling или Увеличение выборки. Используем метод с разными моделями, чтобы найти наилучшую."
   ]
  },
  {
   "cell_type": "markdown",
   "metadata": {},
   "source": [
    "Модель ДЕРЕВО РЕШЕНИЙ (upsampling)"
   ]
  },
  {
   "cell_type": "code",
   "execution_count": 23,
   "metadata": {},
   "outputs": [
    {
     "name": "stdout",
     "output_type": "stream",
     "text": [
      "F1: 0.5266821345707656\n",
      "Площадь под кривой AUC-ROC:  0.7114309291555819\n"
     ]
    }
   ],
   "source": [
    "def upsample(features, target, repeat):\n",
    "    features_zeros = features[target == 0]\n",
    "    features_ones = features[target == 1]\n",
    "    target_zeros = target[target == 0]\n",
    "    target_ones = target[target == 1]\n",
    "\n",
    "    features_upsampled = pd.concat([features_zeros] + [features_ones] * repeat)\n",
    "    target_upsampled = pd.concat([target_zeros] + [target_ones] * repeat)\n",
    "    \n",
    "    features_upsampled, target_upsampled = shuffle(\n",
    "        features_upsampled, target_upsampled, random_state=12345)\n",
    "    \n",
    "    return features_upsampled, target_upsampled\n",
    "\n",
    "features_upsampled, target_upsampled = upsample(features_train, target_train, 5)\n",
    "\n",
    "model_tree_us = DecisionTreeClassifier(random_state=12345, max_depth=15)\n",
    "model_tree_us.fit(features_upsampled, target_upsampled)\n",
    "predicted_valid = model_tree_us.predict(features_valid)\n",
    "print(\"F1:\", f1_score(target_valid, predicted_valid))\n",
    "\n",
    "probabilities_valid = model_tree_us.predict_proba(features_valid)\n",
    "probabilities_one_valid = probabilities_valid[:, 1]\n",
    "auc_roc = roc_auc_score(target_valid, probabilities_one_valid )\n",
    "print ('Площадь под кривой AUC-ROC: ', auc_roc)"
   ]
  },
  {
   "cell_type": "markdown",
   "metadata": {},
   "source": [
    "Модель СЛУЧАЙНЫЙ ЛЕС (upsampling)"
   ]
  },
  {
   "cell_type": "code",
   "execution_count": 24,
   "metadata": {
    "scrolled": false
   },
   "outputs": [
    {
     "name": "stdout",
     "output_type": "stream",
     "text": [
      "F1: 0.6275\n",
      "Площадь под кривой AUC-ROC:  0.8608206473544191\n"
     ]
    }
   ],
   "source": [
    "def upsample(features, target, repeat):\n",
    "    features_zeros = features[target == 0]\n",
    "    features_ones = features[target == 1]\n",
    "    target_zeros = target[target == 0]\n",
    "    target_ones = target[target == 1]\n",
    "\n",
    "    features_upsampled = pd.concat([features_zeros] + [features_ones] * repeat)\n",
    "    target_upsampled = pd.concat([target_zeros] + [target_ones] * repeat)\n",
    "    \n",
    "    features_upsampled, target_upsampled = shuffle(\n",
    "        features_upsampled, target_upsampled, random_state=12345)\n",
    "    \n",
    "    return features_upsampled, target_upsampled\n",
    "\n",
    "features_upsampled, target_upsampled = upsample(features_train, target_train, 5)\n",
    "\n",
    "model_rf_us = RandomForestClassifier(n_estimators=49, random_state=12345, max_depth=15)\n",
    "model_rf_us.fit(features_upsampled, target_upsampled)\n",
    "predicted_valid = model_rf_us.predict(features_valid)\n",
    "print(\"F1:\", f1_score(target_valid, predicted_valid))\n",
    "\n",
    "probabilities_valid = model_rf_us.predict_proba(features_valid)\n",
    "probabilities_one_valid = probabilities_valid[:, 1]\n",
    "auc_roc = roc_auc_score(target_valid, probabilities_one_valid )\n",
    "print ('Площадь под кривой AUC-ROC: ', auc_roc)"
   ]
  },
  {
   "cell_type": "markdown",
   "metadata": {},
   "source": [
    "Модель ЛОГИСТИЧЕСКАЯ РЕГРЕССИЯ (upsampling)"
   ]
  },
  {
   "cell_type": "code",
   "execution_count": 25,
   "metadata": {
    "scrolled": true
   },
   "outputs": [
    {
     "name": "stdout",
     "output_type": "stream",
     "text": [
      "F1: 0.5052950075642965\n",
      "Площадь под кривой AUC-ROC:  0.7946487954478273\n"
     ]
    }
   ],
   "source": [
    "def upsample(features, target, repeat):\n",
    "    features_zeros = features[target == 0]\n",
    "    features_ones = features[target == 1]\n",
    "    target_zeros = target[target == 0]\n",
    "    target_ones = target[target == 1]\n",
    "\n",
    "    features_upsampled = pd.concat([features_zeros] + [features_ones] * repeat)\n",
    "    target_upsampled = pd.concat([target_zeros] + [target_ones] * repeat)\n",
    "    \n",
    "    features_upsampled, target_upsampled = shuffle(\n",
    "        features_upsampled, target_upsampled, random_state=12345)\n",
    "    \n",
    "    return features_upsampled, target_upsampled\n",
    "\n",
    "features_upsampled, target_upsampled = upsample(features_train, target_train, 5)\n",
    "\n",
    "model_lr_us = LogisticRegression(solver='liblinear', random_state=12345)\n",
    "model_lr_us.fit(features_upsampled, target_upsampled)\n",
    "predicted_valid = model_lr_us.predict(features_valid)\n",
    "print(\"F1:\", f1_score(target_valid, predicted_valid))\n",
    "\n",
    "probabilities_valid = model_lr_us.predict_proba(features_valid)\n",
    "probabilities_one_valid = probabilities_valid[:, 1]\n",
    "auc_roc = roc_auc_score(target_valid, probabilities_one_valid )\n",
    "print ('Площадь под кривой AUC-ROC: ', auc_roc)"
   ]
  },
  {
   "cell_type": "markdown",
   "metadata": {},
   "source": [
    "**Вывод: \n",
    "<br>\n",
    "<br>Метрика для каждой из примененных моделей еще немного увеличилась. Это показывает, что использование техники увеличения выборки - предпочтительней, она дает лучшие результаты, чем обычное взвешивание классов.**"
   ]
  },
  {
   "cell_type": "markdown",
   "metadata": {},
   "source": [
    "### Уменьшение выборки"
   ]
  },
  {
   "cell_type": "markdown",
   "metadata": {},
   "source": [
    "Далее проверим, как повлияет на метрику F1 еще один способ борьбы с дисбалансом классов - Downsampling или Уменьшение выборки. Используем все ту же модель Случайного леса, показавшую ранее наилучшие результаты в проверках."
   ]
  },
  {
   "cell_type": "markdown",
   "metadata": {},
   "source": [
    "Модель ДЕРЕВО РЕШЕНИЙ (downsampling)"
   ]
  },
  {
   "cell_type": "code",
   "execution_count": 26,
   "metadata": {},
   "outputs": [
    {
     "name": "stdout",
     "output_type": "stream",
     "text": [
      "F1: 0.4390879478827362\n",
      "Площадь под кривой AUC-ROC:  0.6639478027391861\n"
     ]
    }
   ],
   "source": [
    "def downsample(features, target, fraction):\n",
    "    features_zeros = features[target == 0]\n",
    "    features_ones = features[target == 1]\n",
    "    target_zeros = target[target == 0]\n",
    "    target_ones = target[target == 1]\n",
    "\n",
    "    features_downsampled = pd.concat(\n",
    "        [features_zeros.sample(frac=fraction, random_state=12345)] + [features_ones])\n",
    "    target_downsampled = pd.concat(\n",
    "        [target_zeros.sample(frac=fraction, random_state=12345)] + [target_ones])\n",
    "    \n",
    "    features_downsampled, target_downsampled = shuffle(\n",
    "        features_downsampled, target_downsampled, random_state=12345)\n",
    "    \n",
    "    return features_downsampled, target_downsampled\n",
    "\n",
    "features_downsampled, target_downsampled = downsample(features_train, target_train, 0.1)\n",
    "\n",
    "model_tree_ds = DecisionTreeClassifier(random_state=12345, max_depth=15)\n",
    "model_tree_ds.fit(features_downsampled, target_downsampled)\n",
    "predicted_valid = model_tree_ds.predict(features_valid)\n",
    "print(\"F1:\", f1_score(target_valid, predicted_valid))\n",
    "\n",
    "probabilities_valid = model_tree_ds.predict_proba(features_valid)\n",
    "probabilities_one_valid = probabilities_valid[:, 1]\n",
    "auc_roc = roc_auc_score(target_valid, probabilities_one_valid )\n",
    "print ('Площадь под кривой AUC-ROC: ', auc_roc)"
   ]
  },
  {
   "cell_type": "markdown",
   "metadata": {},
   "source": [
    "Модель СЛУЧАЙНЫЙ ЛЕС (downsampling)"
   ]
  },
  {
   "cell_type": "code",
   "execution_count": 27,
   "metadata": {},
   "outputs": [
    {
     "name": "stdout",
     "output_type": "stream",
     "text": [
      "F1: 0.469309462915601\n",
      "Площадь под кривой AUC-ROC:  0.8490114481722337\n"
     ]
    }
   ],
   "source": [
    "def downsample(features, target, fraction):\n",
    "    features_zeros = features[target == 0]\n",
    "    features_ones = features[target == 1]\n",
    "    target_zeros = target[target == 0]\n",
    "    target_ones = target[target == 1]\n",
    "\n",
    "    features_downsampled = pd.concat(\n",
    "        [features_zeros.sample(frac=fraction, random_state=12345)] + [features_ones])\n",
    "    target_downsampled = pd.concat(\n",
    "        [target_zeros.sample(frac=fraction, random_state=12345)] + [target_ones])\n",
    "    \n",
    "    features_downsampled, target_downsampled = shuffle(\n",
    "        features_downsampled, target_downsampled, random_state=12345)\n",
    "    \n",
    "    return features_downsampled, target_downsampled\n",
    "\n",
    "features_downsampled, target_downsampled = downsample(features_train, target_train, 0.1)\n",
    "\n",
    "model_rf_ds = RandomForestClassifier(n_estimators=49, random_state=12345, max_depth=15)\n",
    "model_rf_ds.fit(features_downsampled, target_downsampled)\n",
    "predicted_valid = model_rf_ds.predict(features_valid)\n",
    "print(\"F1:\", f1_score(target_valid, predicted_valid))\n",
    "\n",
    "probabilities_valid = model_rf_ds.predict_proba(features_valid)\n",
    "probabilities_one_valid = probabilities_valid[:, 1]\n",
    "auc_roc = roc_auc_score(target_valid, probabilities_one_valid )\n",
    "print ('Площадь под кривой AUC-ROC: ', auc_roc)"
   ]
  },
  {
   "cell_type": "markdown",
   "metadata": {},
   "source": [
    "Модель ЛОГИСТИЧЕСКАЯ РЕГРЕССИЯ (downsampling)"
   ]
  },
  {
   "cell_type": "code",
   "execution_count": 28,
   "metadata": {},
   "outputs": [
    {
     "name": "stdout",
     "output_type": "stream",
     "text": [
      "F1: 0.42151481888035125\n",
      "Площадь под кривой AUC-ROC:  0.7987748177160312\n"
     ]
    }
   ],
   "source": [
    "def downsample(features, target, fraction):\n",
    "    features_zeros = features[target == 0]\n",
    "    features_ones = features[target == 1]\n",
    "    target_zeros = target[target == 0]\n",
    "    target_ones = target[target == 1]\n",
    "\n",
    "    features_downsampled = pd.concat(\n",
    "        [features_zeros.sample(frac=fraction, random_state=12345)] + [features_ones])\n",
    "    target_downsampled = pd.concat(\n",
    "        [target_zeros.sample(frac=fraction, random_state=12345)] + [target_ones])\n",
    "    \n",
    "    features_downsampled, target_downsampled = shuffle(\n",
    "        features_downsampled, target_downsampled, random_state=12345)\n",
    "    \n",
    "    return features_downsampled, target_downsampled\n",
    "\n",
    "features_downsampled, target_downsampled = downsample(features_train, target_train, 0.1)\n",
    "\n",
    "model_lr_ds = LogisticRegression(random_state=12345, solver='liblinear')\n",
    "model_lr_ds.fit(features_downsampled, target_downsampled)\n",
    "predicted_valid = model_lr_ds.predict(features_valid)\n",
    "print(\"F1:\", f1_score(target_valid, predicted_valid))\n",
    "\n",
    "probabilities_valid = model_lr_ds.predict_proba(features_valid)\n",
    "probabilities_one_valid = probabilities_valid[:, 1]\n",
    "auc_roc = roc_auc_score(target_valid, probabilities_one_valid )\n",
    "print ('Площадь под кривой AUC-ROC: ', auc_roc)"
   ]
  },
  {
   "cell_type": "markdown",
   "metadata": {},
   "source": [
    "**Вывод: \n",
    "<br>\n",
    "<br>Эта методика не оправдала себя, значения метрики снизились в двух случаях из трех, и только при использовании модели Логистической регрессии метрика осталась на том же уровне. Использовать этот способ для решения нашей задачи не будем.**"
   ]
  },
  {
   "cell_type": "markdown",
   "metadata": {},
   "source": [
    "### Итоги борьбы с дисбалансом"
   ]
  },
  {
   "cell_type": "markdown",
   "metadata": {},
   "source": [
    "Из всех моделей, обученных в разных условиях и на разных выборках, увеличенных и уменьшенных, со сбалансированными классами и нет, наилучшее значение наблюдаемой метрики F1 показала модель Случайного леса с применением техники увеличения выборки (Upsampling) = 0.62, ее и будем использовать для тестирования модели."
   ]
  },
  {
   "cell_type": "markdown",
   "metadata": {},
   "source": [
    "Исследуем кривую ROC и вычислим значение площади под ней, чтобы наглядно убедиться в отличии модели от случайной и оценить ее качество"
   ]
  },
  {
   "cell_type": "code",
   "execution_count": 29,
   "metadata": {},
   "outputs": [
    {
     "name": "stdout",
     "output_type": "stream",
     "text": [
      "Площадь AUC-ROC =  0.8608206473544191\n"
     ]
    },
    {
     "data": {
      "image/png": "[encoded data removed]",
      "text/plain": [
       "<Figure size 432x288 with 1 Axes>"
      ]
     },
     "metadata": {
      "needs_background": "light"
     },
     "output_type": "display_data"
    }
   ],
   "source": [
    "probabilities_valid = model_rf_us.predict_proba(features_valid)\n",
    "probabilities_one_valid = probabilities_valid[:, 1]\n",
    "auc_roc = roc_auc_score(target_valid, probabilities_one_valid)\n",
    "print ('Площадь AUC-ROC = ', auc_roc)\n",
    "\n",
    "fpr, tpr, thresholds = roc_curve(target_valid, probabilities_one_valid)\n",
    "\n",
    "plt.figure()\n",
    "plt.plot([0, 1], [0, 1], linestyle='--')\n",
    "plt.plot(fpr, tpr, linestyle='--')\n",
    "plt.xlim([0.0,1.0])\n",
    "plt.ylim([0.0,1.0])\n",
    "\n",
    "plt.xlabel(\"False Positive Rate\")\n",
    "plt.ylabel(\"True Positive Rate\")\n",
    "plt.title('ROC-кривая')\n",
    "plt.show()"
   ]
  },
  {
   "cell_type": "markdown",
   "metadata": {},
   "source": [
    "Найдем оптимальное значение порога классификации, чтобы далее использовать его в тестировании модели и получения максимально возможного значения исследуемой метрики F1"
   ]
  },
  {
   "cell_type": "code",
   "execution_count": 30,
   "metadata": {
    "scrolled": false
   },
   "outputs": [
    {
     "name": "stdout",
     "output_type": "stream",
     "text": [
      "Порог = 0.20 | F1= 0.531\n",
      "Порог = 0.22 | F1= 0.551\n",
      "Порог = 0.24 | F1= 0.563\n",
      "Порог = 0.26 | F1= 0.574\n",
      "Порог = 0.28 | F1= 0.583\n",
      "Порог = 0.30 | F1= 0.590\n",
      "Порог = 0.32 | F1= 0.603\n",
      "Порог = 0.34 | F1= 0.613\n",
      "Порог = 0.36 | F1= 0.624\n",
      "Порог = 0.38 | F1= 0.628\n",
      "Порог = 0.40 | F1= 0.620\n",
      "Порог = 0.42 | F1= 0.623\n",
      "Порог = 0.44 | F1= 0.630\n",
      "Порог = 0.46 | F1= 0.631\n",
      "Порог = 0.48 | F1= 0.633\n",
      "Порог = 0.50 | F1= 0.627\n",
      "Порог = 0.52 | F1= 0.626\n",
      "Порог = 0.54 | F1= 0.620\n",
      "Порог = 0.56 | F1= 0.620\n",
      "Порог = 0.58 | F1= 0.618\n",
      "Порог = 0.60 | F1= 0.609\n",
      "Порог = 0.62 | F1= 0.601\n",
      "Порог = 0.64 | F1= 0.595\n",
      "Порог = 0.66 | F1= 0.590\n",
      "Порог = 0.68 | F1= 0.577\n"
     ]
    }
   ],
   "source": [
    "probabilities_valid = model_rf_us.predict_proba(features_valid)\n",
    "probabilities_one_valid = probabilities_valid[:, 1]\n",
    "\n",
    "for threshold in np.arange(0.2, 0.7, 0.02):\n",
    "    predicted_valid = probabilities_one_valid > threshold \n",
    "    f1 = f1_score(target_valid, predicted_valid)\n",
    "\n",
    "    print(\"Порог = {:.2f} | F1= {:.3f}\".format(\n",
    "        threshold, f1))   "
   ]
  },
  {
   "cell_type": "markdown",
   "metadata": {},
   "source": [
    "Вывод: после проверки на валидационной выборке разных значений порога вероятности предсказаний модели получили значение порога = 0,48, при котором метрика F1 имеет максимальное значение. По достижении этого порога значение метрики начинает снижаться. Используем данный порог при тестировании модели."
   ]
  },
  {
   "cell_type": "markdown",
   "metadata": {},
   "source": [
    "## Тестирование модели"
   ]
  },
  {
   "cell_type": "markdown",
   "metadata": {},
   "source": [
    "Проверим работу лучшей модели на тестовой выборке, используя значение порога 0.48, полученное ранее."
   ]
  },
  {
   "cell_type": "code",
   "execution_count": 31,
   "metadata": {},
   "outputs": [
    {
     "name": "stdout",
     "output_type": "stream",
     "text": [
      "F1: 0.5847665847665847\n"
     ]
    }
   ],
   "source": [
    "threshold = 0.48\n",
    "predicted_probs = model_rf_us.predict_proba(features_test)\n",
    "prediction_values = (predicted_probs [:,1] >= threshold).astype('int')\n",
    "print(f'F1: {f1_score(target_test,prediction_values)}')\n"
   ]
  },
  {
   "cell_type": "markdown",
   "metadata": {},
   "source": [
    "Значение метрики близко к требуемому 0,59, но попробуем поднять его еще немного. Для этого проведем слияние валидационной и тестовой выборок. Валидационная уже \"отработала\" своё, можем ее включить в тестовый набор данных. Перемешаем данные после объединения с помощью функции shuffle"
   ]
  },
  {
   "cell_type": "code",
   "execution_count": 35,
   "metadata": {},
   "outputs": [],
   "source": [
    "target_final = pd.concat([target_valid, target_test])\n",
    "features_final = pd.concat([features_valid, features_test])\n",
    "features_final, target_final = shuffle(\n",
    "        features_final, target_final, random_state=12345)"
   ]
  },
  {
   "cell_type": "markdown",
   "metadata": {},
   "source": [
    "Протестируем модель на полученной объединенной выборке"
   ]
  },
  {
   "cell_type": "code",
   "execution_count": 36,
   "metadata": {
    "scrolled": false
   },
   "outputs": [
    {
     "data": {
      "text/plain": [
       "0.6100478468899522"
      ]
     },
     "execution_count": 36,
     "metadata": {},
     "output_type": "execute_result"
    }
   ],
   "source": [
    "probabilities_test = model_rf_us.predict_proba(features_final)\n",
    "probabilities_one_test = probabilities_test[:, 1]\n",
    "predicted_test = (probabilities_one_test >= 0.46).astype('int')\n",
    "f1_score(target_final, predicted_test)"
   ]
  },
  {
   "cell_type": "markdown",
   "metadata": {},
   "source": [
    "**Вывод:  \n",
    "<br>после объединения тестовой выборки с валидационной мы получили немного увеличенную метрику F1, что скажется положительно на результате**"
   ]
  },
  {
   "cell_type": "code",
   "execution_count": 37,
   "metadata": {},
   "outputs": [
    {
     "name": "stdout",
     "output_type": "stream",
     "text": [
      "Площадь под кривой ROC (AUC-ROC) =  0.7581032496286733\n"
     ]
    }
   ],
   "source": [
    "probabilities_test = model_lr_ds.predict_proba(features_test)\n",
    "probabilities_one_test= probabilities_test[:, 1]\n",
    "auc_roc = roc_auc_score(target_test, probabilities_one_test)\n",
    "print ('Площадь под кривой ROC (AUC-ROC) = ', auc_roc)"
   ]
  },
  {
   "cell_type": "markdown",
   "metadata": {},
   "source": [
    "**Вывод:   \n",
    "<br>наша модель далека от идеальной, но условный минимальный показатель метрики F1 = 0,59 преодолен. Площадь под кривой ROC выше 0,75 говорит о том, насколько наша модель отличается от случайной, у которой это значение равнялось бы 0,5.**"
   ]
  }
 ],
 "metadata": {
  "ExecuteTimeLog": [
   {
    "duration": 1342,
    "start_time": "2022-06-16T12:34:15.254Z"
   },
   {
    "duration": 131,
    "start_time": "2022-06-16T12:36:19.429Z"
   },
   {
    "duration": 4,
    "start_time": "2022-06-16T12:36:41.172Z"
   },
   {
    "duration": 18,
    "start_time": "2022-06-16T12:36:59.778Z"
   },
   {
    "duration": 15,
    "start_time": "2022-06-16T12:37:10.380Z"
   },
   {
    "duration": 135,
    "start_time": "2022-06-16T12:37:27.014Z"
   },
   {
    "duration": 11,
    "start_time": "2022-06-16T12:37:29.964Z"
   },
   {
    "duration": 17,
    "start_time": "2022-06-16T12:37:38.985Z"
   },
   {
    "duration": 12,
    "start_time": "2022-06-16T12:39:07.007Z"
   },
   {
    "duration": 50,
    "start_time": "2022-06-16T12:40:01.581Z"
   },
   {
    "duration": 109,
    "start_time": "2022-06-16T12:41:38.793Z"
   },
   {
    "duration": 32,
    "start_time": "2022-06-16T12:43:33.680Z"
   },
   {
    "duration": 34,
    "start_time": "2022-06-16T12:43:42.204Z"
   },
   {
    "duration": 348,
    "start_time": "2022-06-16T12:44:48.072Z"
   },
   {
    "duration": 36,
    "start_time": "2022-06-16T12:44:54.276Z"
   },
   {
    "duration": 153,
    "start_time": "2022-06-16T12:47:55.897Z"
   },
   {
    "duration": 14,
    "start_time": "2022-06-16T12:47:56.506Z"
   },
   {
    "duration": 13,
    "start_time": "2022-06-16T12:48:10.300Z"
   },
   {
    "duration": 10,
    "start_time": "2022-06-16T12:48:25.326Z"
   },
   {
    "duration": 10,
    "start_time": "2022-06-16T12:48:43.788Z"
   },
   {
    "duration": 456,
    "start_time": "2022-06-16T12:50:54.781Z"
   },
   {
    "duration": 3,
    "start_time": "2022-06-16T13:20:22.403Z"
   },
   {
    "duration": 79,
    "start_time": "2022-06-16T13:20:23.087Z"
   },
   {
    "duration": 13,
    "start_time": "2022-06-16T13:20:23.724Z"
   },
   {
    "duration": 323,
    "start_time": "2022-06-16T13:20:25.024Z"
   },
   {
    "duration": 31,
    "start_time": "2022-06-16T13:21:51.188Z"
   },
   {
    "duration": 187,
    "start_time": "2022-06-16T13:25:59.473Z"
   },
   {
    "duration": 4,
    "start_time": "2022-06-16T13:26:06.849Z"
   },
   {
    "duration": 57,
    "start_time": "2022-06-16T13:26:06.856Z"
   },
   {
    "duration": 14,
    "start_time": "2022-06-16T13:26:06.914Z"
   },
   {
    "duration": 340,
    "start_time": "2022-06-16T13:26:06.929Z"
   },
   {
    "duration": 211,
    "start_time": "2022-06-16T13:26:07.271Z"
   },
   {
    "duration": 200,
    "start_time": "2022-06-16T13:26:08.871Z"
   },
   {
    "duration": 172,
    "start_time": "2022-06-16T13:26:37.467Z"
   },
   {
    "duration": 7,
    "start_time": "2022-06-16T13:26:50.153Z"
   },
   {
    "duration": 12,
    "start_time": "2022-06-16T13:29:43.553Z"
   },
   {
    "duration": 4,
    "start_time": "2022-06-16T13:30:02.158Z"
   },
   {
    "duration": 56,
    "start_time": "2022-06-16T13:30:02.710Z"
   },
   {
    "duration": 18,
    "start_time": "2022-06-16T13:30:02.919Z"
   },
   {
    "duration": 320,
    "start_time": "2022-06-16T13:30:03.236Z"
   },
   {
    "duration": 14,
    "start_time": "2022-06-16T13:30:03.704Z"
   },
   {
    "duration": 32,
    "start_time": "2022-06-16T13:32:02.627Z"
   },
   {
    "duration": 223,
    "start_time": "2022-06-16T13:32:04.311Z"
   },
   {
    "duration": 40,
    "start_time": "2022-06-16T13:33:26.033Z"
   },
   {
    "duration": 59,
    "start_time": "2022-06-16T13:35:09.730Z"
   },
   {
    "duration": 496,
    "start_time": "2022-06-16T13:44:54.520Z"
   },
   {
    "duration": 4,
    "start_time": "2022-06-16T13:52:30.783Z"
   },
   {
    "duration": 43,
    "start_time": "2022-06-16T13:52:45.213Z"
   },
   {
    "duration": 242,
    "start_time": "2022-06-16T13:52:53.653Z"
   },
   {
    "duration": 220,
    "start_time": "2022-06-16T13:53:03.758Z"
   },
   {
    "duration": 5,
    "start_time": "2022-06-16T13:53:07.287Z"
   },
   {
    "duration": 102,
    "start_time": "2022-06-16T13:53:07.294Z"
   },
   {
    "duration": 18,
    "start_time": "2022-06-16T13:53:07.397Z"
   },
   {
    "duration": 427,
    "start_time": "2022-06-16T13:53:07.417Z"
   },
   {
    "duration": 46,
    "start_time": "2022-06-16T13:53:07.849Z"
   },
   {
    "duration": 20,
    "start_time": "2022-06-16T13:53:07.897Z"
   },
   {
    "duration": 249,
    "start_time": "2022-06-16T13:53:07.929Z"
   },
   {
    "duration": 227,
    "start_time": "2022-06-16T13:53:09.662Z"
   },
   {
    "duration": 53,
    "start_time": "2022-06-16T13:53:31.162Z"
   },
   {
    "duration": 418,
    "start_time": "2022-06-16T13:58:55.072Z"
   },
   {
    "duration": 5,
    "start_time": "2022-06-16T13:59:07.615Z"
   },
   {
    "duration": 324,
    "start_time": "2022-06-16T13:59:19.269Z"
   },
   {
    "duration": 20,
    "start_time": "2022-06-16T13:59:24.956Z"
   },
   {
    "duration": 4,
    "start_time": "2022-06-16T13:59:41.990Z"
   },
   {
    "duration": 7,
    "start_time": "2022-06-16T14:01:17.863Z"
   },
   {
    "duration": 47,
    "start_time": "2022-06-16T14:01:19.167Z"
   },
   {
    "duration": 18,
    "start_time": "2022-06-16T14:02:20.460Z"
   },
   {
    "duration": 16,
    "start_time": "2022-06-16T14:02:40.363Z"
   },
   {
    "duration": 15,
    "start_time": "2022-06-16T14:03:14.368Z"
   },
   {
    "duration": 10,
    "start_time": "2022-06-16T14:04:46.789Z"
   },
   {
    "duration": 6,
    "start_time": "2022-06-16T14:05:11.869Z"
   },
   {
    "duration": 100,
    "start_time": "2022-06-16T14:05:11.878Z"
   },
   {
    "duration": 23,
    "start_time": "2022-06-16T14:05:11.981Z"
   },
   {
    "duration": 19,
    "start_time": "2022-06-16T14:05:13.385Z"
   },
   {
    "duration": 11,
    "start_time": "2022-06-16T14:05:14.198Z"
   },
   {
    "duration": 29,
    "start_time": "2022-06-16T14:05:31.837Z"
   },
   {
    "duration": 12,
    "start_time": "2022-06-16T14:06:47.911Z"
   },
   {
    "duration": 13,
    "start_time": "2022-06-16T14:07:20.060Z"
   },
   {
    "duration": 35,
    "start_time": "2022-06-16T14:07:35.609Z"
   },
   {
    "duration": 4,
    "start_time": "2022-06-16T14:07:46.964Z"
   },
   {
    "duration": 17,
    "start_time": "2022-06-16T14:07:50.879Z"
   },
   {
    "duration": 5,
    "start_time": "2022-06-16T14:08:03.100Z"
   },
   {
    "duration": 16,
    "start_time": "2022-06-16T14:10:49.058Z"
   },
   {
    "duration": 5,
    "start_time": "2022-06-16T14:11:10.581Z"
   },
   {
    "duration": 297,
    "start_time": "2022-06-16T14:11:13.213Z"
   },
   {
    "duration": 4,
    "start_time": "2022-06-16T14:11:13.863Z"
   },
   {
    "duration": 11,
    "start_time": "2022-06-16T14:11:14.231Z"
   },
   {
    "duration": 4,
    "start_time": "2022-06-16T14:11:14.819Z"
   },
   {
    "duration": 58,
    "start_time": "2022-06-16T14:11:15.624Z"
   },
   {
    "duration": 5,
    "start_time": "2022-06-16T14:11:16.984Z"
   },
   {
    "duration": 65,
    "start_time": "2022-06-16T14:18:28.718Z"
   },
   {
    "duration": 7,
    "start_time": "2022-06-16T14:18:32.488Z"
   },
   {
    "duration": 6,
    "start_time": "2022-06-16T14:18:37.690Z"
   },
   {
    "duration": 22,
    "start_time": "2022-06-16T14:18:56.569Z"
   },
   {
    "duration": 22,
    "start_time": "2022-06-16T14:19:10.475Z"
   },
   {
    "duration": 29,
    "start_time": "2022-06-16T14:21:18.113Z"
   },
   {
    "duration": 327,
    "start_time": "2022-06-16T14:21:20.482Z"
   },
   {
    "duration": 27,
    "start_time": "2022-06-16T14:21:31.366Z"
   },
   {
    "duration": 13,
    "start_time": "2022-06-16T14:26:31.752Z"
   },
   {
    "duration": 7,
    "start_time": "2022-06-16T14:26:36.357Z"
   },
   {
    "duration": 10,
    "start_time": "2022-06-16T14:27:02.037Z"
   },
   {
    "duration": 6,
    "start_time": "2022-06-16T14:27:06.389Z"
   },
   {
    "duration": 12,
    "start_time": "2022-06-16T14:29:13.124Z"
   },
   {
    "duration": 13,
    "start_time": "2022-06-16T14:29:25.657Z"
   },
   {
    "duration": 5,
    "start_time": "2022-06-16T14:29:50.777Z"
   },
   {
    "duration": 17,
    "start_time": "2022-06-16T14:29:52.177Z"
   },
   {
    "duration": 306,
    "start_time": "2022-06-16T14:30:08.507Z"
   },
   {
    "duration": 5,
    "start_time": "2022-06-16T14:30:09.456Z"
   },
   {
    "duration": 4,
    "start_time": "2022-06-16T14:30:09.757Z"
   },
   {
    "duration": 5,
    "start_time": "2022-06-16T14:30:10.708Z"
   },
   {
    "duration": 46,
    "start_time": "2022-06-16T14:30:11.395Z"
   },
   {
    "duration": 4,
    "start_time": "2022-06-16T14:30:12.019Z"
   },
   {
    "duration": 1100,
    "start_time": "2022-06-16T14:31:44.958Z"
   },
   {
    "duration": 63,
    "start_time": "2022-06-16T14:31:46.061Z"
   },
   {
    "duration": 28,
    "start_time": "2022-06-16T14:31:46.127Z"
   },
   {
    "duration": 25,
    "start_time": "2022-06-16T14:31:46.157Z"
   },
   {
    "duration": 23,
    "start_time": "2022-06-16T14:31:46.184Z"
   },
   {
    "duration": 5,
    "start_time": "2022-06-16T14:31:46.208Z"
   },
   {
    "duration": 24,
    "start_time": "2022-06-16T14:31:46.214Z"
   },
   {
    "duration": 371,
    "start_time": "2022-06-16T14:31:46.240Z"
   },
   {
    "duration": 3,
    "start_time": "2022-06-16T14:31:46.613Z"
   },
   {
    "duration": 22,
    "start_time": "2022-06-16T14:31:46.634Z"
   },
   {
    "duration": 6,
    "start_time": "2022-06-16T14:31:46.658Z"
   },
   {
    "duration": 57,
    "start_time": "2022-06-16T14:31:46.666Z"
   },
   {
    "duration": 15,
    "start_time": "2022-06-16T14:31:46.730Z"
   },
   {
    "duration": 37544,
    "start_time": "2022-06-16T14:56:36.868Z"
   },
   {
    "duration": 74211,
    "start_time": "2022-06-16T14:57:30.896Z"
   },
   {
    "duration": 1199,
    "start_time": "2022-06-16T15:11:05.656Z"
   },
   {
    "duration": 61,
    "start_time": "2022-06-16T15:11:06.858Z"
   },
   {
    "duration": 29,
    "start_time": "2022-06-16T15:11:06.921Z"
   },
   {
    "duration": 18,
    "start_time": "2022-06-16T15:11:06.957Z"
   },
   {
    "duration": 20,
    "start_time": "2022-06-16T15:11:06.977Z"
   },
   {
    "duration": 6,
    "start_time": "2022-06-16T15:11:06.998Z"
   },
   {
    "duration": 30,
    "start_time": "2022-06-16T15:11:07.005Z"
   },
   {
    "duration": 376,
    "start_time": "2022-06-16T15:11:07.042Z"
   },
   {
    "duration": 12,
    "start_time": "2022-06-16T15:11:07.430Z"
   },
   {
    "duration": 24,
    "start_time": "2022-06-16T15:11:07.445Z"
   },
   {
    "duration": 23,
    "start_time": "2022-06-16T15:11:07.471Z"
   },
   {
    "duration": 67,
    "start_time": "2022-06-16T15:11:07.496Z"
   },
   {
    "duration": 9,
    "start_time": "2022-06-16T15:11:07.565Z"
   },
   {
    "duration": 68346,
    "start_time": "2022-06-16T15:11:07.578Z"
   },
   {
    "duration": 4073,
    "start_time": "2022-06-16T15:12:15.926Z"
   },
   {
    "duration": 16829,
    "start_time": "2022-06-16T15:12:30.423Z"
   },
   {
    "duration": 69474,
    "start_time": "2022-06-16T15:12:56.098Z"
   },
   {
    "duration": 40072,
    "start_time": "2022-06-16T15:14:27.190Z"
   },
   {
    "duration": 45800,
    "start_time": "2022-06-16T15:18:05.778Z"
   },
   {
    "duration": 108,
    "start_time": "2022-06-16T15:19:57.492Z"
   },
   {
    "duration": 40,
    "start_time": "2022-06-16T15:32:32.694Z"
   },
   {
    "duration": 4,
    "start_time": "2022-06-16T15:32:40.585Z"
   },
   {
    "duration": 52,
    "start_time": "2022-06-16T15:32:41.884Z"
   },
   {
    "duration": 12,
    "start_time": "2022-06-16T15:32:42.851Z"
   },
   {
    "duration": 15,
    "start_time": "2022-06-16T15:32:43.262Z"
   },
   {
    "duration": 23,
    "start_time": "2022-06-16T15:32:43.416Z"
   },
   {
    "duration": 6,
    "start_time": "2022-06-16T15:32:43.676Z"
   },
   {
    "duration": 13,
    "start_time": "2022-06-16T15:32:43.875Z"
   },
   {
    "duration": 384,
    "start_time": "2022-06-16T15:32:44.253Z"
   },
   {
    "duration": 5,
    "start_time": "2022-06-16T15:32:44.642Z"
   },
   {
    "duration": 5,
    "start_time": "2022-06-16T15:32:44.680Z"
   },
   {
    "duration": 4,
    "start_time": "2022-06-16T15:32:44.878Z"
   },
   {
    "duration": 46,
    "start_time": "2022-06-16T15:32:45.083Z"
   },
   {
    "duration": 3,
    "start_time": "2022-06-16T15:32:45.412Z"
   },
   {
    "duration": 6873,
    "start_time": "2022-06-16T15:32:46.100Z"
   },
   {
    "duration": 5851,
    "start_time": "2022-06-16T15:33:23.285Z"
   },
   {
    "duration": 11,
    "start_time": "2022-06-16T15:33:36.999Z"
   },
   {
    "duration": 3,
    "start_time": "2022-06-16T15:33:48.548Z"
   },
   {
    "duration": 49,
    "start_time": "2022-06-16T15:33:48.826Z"
   },
   {
    "duration": 13,
    "start_time": "2022-06-16T15:33:48.975Z"
   },
   {
    "duration": 16,
    "start_time": "2022-06-16T15:33:49.281Z"
   },
   {
    "duration": 21,
    "start_time": "2022-06-16T15:33:49.514Z"
   },
   {
    "duration": 5,
    "start_time": "2022-06-16T15:33:49.683Z"
   },
   {
    "duration": 13,
    "start_time": "2022-06-16T15:33:49.771Z"
   },
   {
    "duration": 328,
    "start_time": "2022-06-16T15:33:50.200Z"
   },
   {
    "duration": 5,
    "start_time": "2022-06-16T15:33:50.530Z"
   },
   {
    "duration": 4,
    "start_time": "2022-06-16T15:33:50.604Z"
   },
   {
    "duration": 5,
    "start_time": "2022-06-16T15:33:50.789Z"
   },
   {
    "duration": 47,
    "start_time": "2022-06-16T15:33:51.025Z"
   },
   {
    "duration": 4,
    "start_time": "2022-06-16T15:33:51.197Z"
   },
   {
    "duration": 6714,
    "start_time": "2022-06-16T15:33:51.448Z"
   },
   {
    "duration": 6020,
    "start_time": "2022-06-16T15:33:58.164Z"
   },
   {
    "duration": 783,
    "start_time": "2022-06-16T15:34:04.185Z"
   },
   {
    "duration": 9,
    "start_time": "2022-06-16T15:35:19.977Z"
   },
   {
    "duration": 3,
    "start_time": "2022-06-16T15:35:32.152Z"
   },
   {
    "duration": 54,
    "start_time": "2022-06-16T15:35:32.391Z"
   },
   {
    "duration": 14,
    "start_time": "2022-06-16T15:35:32.566Z"
   },
   {
    "duration": 14,
    "start_time": "2022-06-16T15:35:32.853Z"
   },
   {
    "duration": 30,
    "start_time": "2022-06-16T15:35:33.014Z"
   },
   {
    "duration": 5,
    "start_time": "2022-06-16T15:35:33.111Z"
   },
   {
    "duration": 16,
    "start_time": "2022-06-16T15:35:33.261Z"
   },
   {
    "duration": 304,
    "start_time": "2022-06-16T15:35:33.759Z"
   },
   {
    "duration": 4,
    "start_time": "2022-06-16T15:35:34.065Z"
   },
   {
    "duration": 5,
    "start_time": "2022-06-16T15:35:34.149Z"
   },
   {
    "duration": 5,
    "start_time": "2022-06-16T15:35:34.309Z"
   },
   {
    "duration": 51,
    "start_time": "2022-06-16T15:35:34.478Z"
   },
   {
    "duration": 4,
    "start_time": "2022-06-16T15:35:34.596Z"
   },
   {
    "duration": 6868,
    "start_time": "2022-06-16T15:35:34.696Z"
   },
   {
    "duration": 5846,
    "start_time": "2022-06-16T15:35:41.565Z"
   },
   {
    "duration": 716,
    "start_time": "2022-06-16T15:35:47.413Z"
   },
   {
    "duration": 8,
    "start_time": "2022-06-16T15:35:48.132Z"
   },
   {
    "duration": 824,
    "start_time": "2022-06-16T15:37:13.330Z"
   },
   {
    "duration": 5,
    "start_time": "2022-06-16T15:37:16.181Z"
   },
   {
    "duration": 665,
    "start_time": "2022-06-16T15:37:22.561Z"
   },
   {
    "duration": 9,
    "start_time": "2022-06-16T15:37:23.229Z"
   },
   {
    "duration": 811,
    "start_time": "2022-06-16T15:37:28.455Z"
   },
   {
    "duration": 7,
    "start_time": "2022-06-16T15:37:30.235Z"
   },
   {
    "duration": 945,
    "start_time": "2022-06-16T15:37:35.042Z"
   },
   {
    "duration": 6,
    "start_time": "2022-06-16T15:37:35.990Z"
   },
   {
    "duration": 766,
    "start_time": "2022-06-16T15:37:40.994Z"
   },
   {
    "duration": 6,
    "start_time": "2022-06-16T15:37:41.762Z"
   },
   {
    "duration": 4,
    "start_time": "2022-06-16T15:38:13.348Z"
   },
   {
    "duration": 1145,
    "start_time": "2022-06-16T15:38:17.716Z"
   },
   {
    "duration": 73,
    "start_time": "2022-06-16T15:38:18.863Z"
   },
   {
    "duration": 18,
    "start_time": "2022-06-16T15:38:18.938Z"
   },
   {
    "duration": 12,
    "start_time": "2022-06-16T15:38:18.959Z"
   },
   {
    "duration": 21,
    "start_time": "2022-06-16T15:38:18.973Z"
   },
   {
    "duration": 31,
    "start_time": "2022-06-16T15:38:18.996Z"
   },
   {
    "duration": 23,
    "start_time": "2022-06-16T15:38:19.029Z"
   },
   {
    "duration": 354,
    "start_time": "2022-06-16T15:38:19.054Z"
   },
   {
    "duration": 3,
    "start_time": "2022-06-16T15:38:19.410Z"
   },
   {
    "duration": 19,
    "start_time": "2022-06-16T15:38:19.416Z"
   },
   {
    "duration": 13,
    "start_time": "2022-06-16T15:38:19.437Z"
   },
   {
    "duration": 46,
    "start_time": "2022-06-16T15:38:19.452Z"
   },
   {
    "duration": 4,
    "start_time": "2022-06-16T15:38:19.500Z"
   },
   {
    "duration": 6960,
    "start_time": "2022-06-16T15:38:19.505Z"
   },
   {
    "duration": 6101,
    "start_time": "2022-06-16T15:38:26.467Z"
   },
   {
    "duration": 836,
    "start_time": "2022-06-16T15:38:32.570Z"
   },
   {
    "duration": 7,
    "start_time": "2022-06-16T15:38:33.408Z"
   },
   {
    "duration": 7,
    "start_time": "2022-06-16T15:39:16.405Z"
   },
   {
    "duration": 4,
    "start_time": "2022-06-16T15:40:28.131Z"
   },
   {
    "duration": 63,
    "start_time": "2022-06-16T15:40:29.151Z"
   },
   {
    "duration": 19,
    "start_time": "2022-06-16T15:40:29.903Z"
   },
   {
    "duration": 17,
    "start_time": "2022-06-16T15:40:30.385Z"
   },
   {
    "duration": 24,
    "start_time": "2022-06-16T15:40:30.531Z"
   },
   {
    "duration": 5,
    "start_time": "2022-06-16T15:40:30.640Z"
   },
   {
    "duration": 21,
    "start_time": "2022-06-16T15:40:30.814Z"
   },
   {
    "duration": 365,
    "start_time": "2022-06-16T15:40:31.195Z"
   },
   {
    "duration": 5,
    "start_time": "2022-06-16T15:40:31.563Z"
   },
   {
    "duration": 5,
    "start_time": "2022-06-16T15:40:31.596Z"
   },
   {
    "duration": 5,
    "start_time": "2022-06-16T15:40:31.877Z"
   },
   {
    "duration": 53,
    "start_time": "2022-06-16T15:40:31.985Z"
   },
   {
    "duration": 4,
    "start_time": "2022-06-16T15:40:32.144Z"
   },
   {
    "duration": 7206,
    "start_time": "2022-06-16T15:40:32.308Z"
   },
   {
    "duration": 5891,
    "start_time": "2022-06-16T15:40:39.516Z"
   },
   {
    "duration": 710,
    "start_time": "2022-06-16T15:40:45.409Z"
   },
   {
    "duration": 7,
    "start_time": "2022-06-16T15:40:46.125Z"
   },
   {
    "duration": 7,
    "start_time": "2022-06-16T15:40:46.135Z"
   },
   {
    "duration": 6,
    "start_time": "2022-06-16T15:40:58.491Z"
   },
   {
    "duration": 692,
    "start_time": "2022-06-16T15:43:17.700Z"
   },
   {
    "duration": 8,
    "start_time": "2022-06-16T15:43:32.301Z"
   },
   {
    "duration": 6,
    "start_time": "2022-06-16T15:44:22.089Z"
   },
   {
    "duration": 4,
    "start_time": "2022-06-16T15:47:08.106Z"
   },
   {
    "duration": 47,
    "start_time": "2022-06-16T15:47:09.060Z"
   },
   {
    "duration": 12,
    "start_time": "2022-06-16T15:47:09.276Z"
   },
   {
    "duration": 14,
    "start_time": "2022-06-16T15:47:09.599Z"
   },
   {
    "duration": 26,
    "start_time": "2022-06-16T15:47:09.735Z"
   },
   {
    "duration": 5,
    "start_time": "2022-06-16T15:47:09.885Z"
   },
   {
    "duration": 12,
    "start_time": "2022-06-16T15:47:09.977Z"
   },
   {
    "duration": 314,
    "start_time": "2022-06-16T15:47:10.282Z"
   },
   {
    "duration": 4,
    "start_time": "2022-06-16T15:47:10.598Z"
   },
   {
    "duration": 4,
    "start_time": "2022-06-16T15:47:10.788Z"
   },
   {
    "duration": 10,
    "start_time": "2022-06-16T15:47:10.925Z"
   },
   {
    "duration": 46,
    "start_time": "2022-06-16T15:47:11.135Z"
   },
   {
    "duration": 4,
    "start_time": "2022-06-16T15:47:11.378Z"
   },
   {
    "duration": 6618,
    "start_time": "2022-06-16T15:47:11.541Z"
   },
   {
    "duration": 5839,
    "start_time": "2022-06-16T15:47:18.161Z"
   },
   {
    "duration": 733,
    "start_time": "2022-06-16T15:47:24.002Z"
   },
   {
    "duration": 7,
    "start_time": "2022-06-16T15:47:24.738Z"
   },
   {
    "duration": 19,
    "start_time": "2022-06-16T15:47:24.747Z"
   },
   {
    "duration": 11,
    "start_time": "2022-06-16T15:47:24.767Z"
   },
   {
    "duration": 679,
    "start_time": "2022-06-16T15:47:24.780Z"
   },
   {
    "duration": 7,
    "start_time": "2022-06-16T15:47:25.461Z"
   },
   {
    "duration": 3,
    "start_time": "2022-06-16T15:48:07.418Z"
   },
   {
    "duration": 55,
    "start_time": "2022-06-16T15:48:07.609Z"
   },
   {
    "duration": 16,
    "start_time": "2022-06-16T15:48:07.940Z"
   },
   {
    "duration": 16,
    "start_time": "2022-06-16T15:48:08.281Z"
   },
   {
    "duration": 21,
    "start_time": "2022-06-16T15:48:08.396Z"
   },
   {
    "duration": 4,
    "start_time": "2022-06-16T15:48:08.574Z"
   },
   {
    "duration": 11,
    "start_time": "2022-06-16T15:48:08.859Z"
   },
   {
    "duration": 303,
    "start_time": "2022-06-16T15:48:09.176Z"
   },
   {
    "duration": 4,
    "start_time": "2022-06-16T15:48:09.481Z"
   },
   {
    "duration": 4,
    "start_time": "2022-06-16T15:48:09.564Z"
   },
   {
    "duration": 4,
    "start_time": "2022-06-16T15:48:09.713Z"
   },
   {
    "duration": 45,
    "start_time": "2022-06-16T15:48:10.002Z"
   },
   {
    "duration": 4,
    "start_time": "2022-06-16T15:48:10.264Z"
   },
   {
    "duration": 6697,
    "start_time": "2022-06-16T15:48:10.393Z"
   },
   {
    "duration": 5881,
    "start_time": "2022-06-16T15:48:17.092Z"
   },
   {
    "duration": 725,
    "start_time": "2022-06-16T15:48:22.975Z"
   },
   {
    "duration": 6,
    "start_time": "2022-06-16T15:48:23.702Z"
   },
   {
    "duration": 17,
    "start_time": "2022-06-16T15:48:23.710Z"
   },
   {
    "duration": 13,
    "start_time": "2022-06-16T15:48:23.729Z"
   },
   {
    "duration": 717,
    "start_time": "2022-06-16T15:48:23.744Z"
   },
   {
    "duration": 7,
    "start_time": "2022-06-16T15:48:24.463Z"
   },
   {
    "duration": 5,
    "start_time": "2022-06-16T18:23:03.292Z"
   },
   {
    "duration": 6907,
    "start_time": "2022-06-16T18:23:04.333Z"
   },
   {
    "duration": 6086,
    "start_time": "2022-06-16T18:23:11.246Z"
   },
   {
    "duration": 8548,
    "start_time": "2022-06-16T18:23:30.849Z"
   },
   {
    "duration": 35414,
    "start_time": "2022-06-16T18:23:45.617Z"
   },
   {
    "duration": 1083,
    "start_time": "2022-06-16T18:32:57.896Z"
   },
   {
    "duration": 7,
    "start_time": "2022-06-16T18:33:59.279Z"
   },
   {
    "duration": 26,
    "start_time": "2022-06-16T18:34:00.224Z"
   },
   {
    "duration": 8,
    "start_time": "2022-06-16T18:34:03.650Z"
   },
   {
    "duration": 105,
    "start_time": "2022-06-16T18:34:25.745Z"
   },
   {
    "duration": 11,
    "start_time": "2022-06-16T18:34:54.454Z"
   },
   {
    "duration": 48,
    "start_time": "2022-06-16T18:34:55.556Z"
   },
   {
    "duration": 17,
    "start_time": "2022-06-16T18:34:55.719Z"
   },
   {
    "duration": 21,
    "start_time": "2022-06-16T18:34:56.081Z"
   },
   {
    "duration": 28,
    "start_time": "2022-06-16T18:34:56.288Z"
   },
   {
    "duration": 5,
    "start_time": "2022-06-16T18:34:56.444Z"
   },
   {
    "duration": 18,
    "start_time": "2022-06-16T18:34:56.547Z"
   },
   {
    "duration": 310,
    "start_time": "2022-06-16T18:34:56.949Z"
   },
   {
    "duration": 4,
    "start_time": "2022-06-16T18:34:57.466Z"
   },
   {
    "duration": 5,
    "start_time": "2022-06-16T18:34:57.743Z"
   },
   {
    "duration": 5,
    "start_time": "2022-06-16T18:34:57.953Z"
   },
   {
    "duration": 50,
    "start_time": "2022-06-16T18:34:58.118Z"
   },
   {
    "duration": 7,
    "start_time": "2022-06-16T18:34:58.639Z"
   },
   {
    "duration": 7197,
    "start_time": "2022-06-16T18:34:58.827Z"
   },
   {
    "duration": 36334,
    "start_time": "2022-06-16T18:35:06.032Z"
   },
   {
    "duration": 0,
    "start_time": "2022-06-16T18:36:00.138Z"
   },
   {
    "duration": 0,
    "start_time": "2022-06-16T18:36:00.138Z"
   },
   {
    "duration": 0,
    "start_time": "2022-06-16T18:36:00.139Z"
   },
   {
    "duration": 0,
    "start_time": "2022-06-16T18:36:00.140Z"
   },
   {
    "duration": 0,
    "start_time": "2022-06-16T18:36:00.142Z"
   },
   {
    "duration": 23,
    "start_time": "2022-06-16T18:40:49.866Z"
   },
   {
    "duration": 5,
    "start_time": "2022-06-16T18:40:58.052Z"
   },
   {
    "duration": 81,
    "start_time": "2022-06-16T18:40:58.059Z"
   },
   {
    "duration": 16,
    "start_time": "2022-06-16T18:40:58.142Z"
   },
   {
    "duration": 26,
    "start_time": "2022-06-16T18:40:58.160Z"
   },
   {
    "duration": 19,
    "start_time": "2022-06-16T18:41:04.978Z"
   },
   {
    "duration": 20,
    "start_time": "2022-06-16T18:41:17.820Z"
   },
   {
    "duration": 14,
    "start_time": "2022-06-16T18:41:35.366Z"
   },
   {
    "duration": 14,
    "start_time": "2022-06-16T18:41:46.767Z"
   },
   {
    "duration": 35,
    "start_time": "2022-06-16T18:42:32.349Z"
   },
   {
    "duration": 24,
    "start_time": "2022-06-16T18:42:36.277Z"
   },
   {
    "duration": 14,
    "start_time": "2022-06-16T18:42:48.141Z"
   },
   {
    "duration": 19,
    "start_time": "2022-06-16T18:42:51.078Z"
   },
   {
    "duration": 4,
    "start_time": "2022-06-16T18:42:58.042Z"
   },
   {
    "duration": 52,
    "start_time": "2022-06-16T18:42:58.291Z"
   },
   {
    "duration": 18,
    "start_time": "2022-06-16T18:42:58.448Z"
   },
   {
    "duration": 13,
    "start_time": "2022-06-16T18:42:59.095Z"
   },
   {
    "duration": 18,
    "start_time": "2022-06-16T18:43:01.766Z"
   },
   {
    "duration": 5,
    "start_time": "2022-06-16T18:43:08.165Z"
   },
   {
    "duration": 21,
    "start_time": "2022-06-16T18:43:11.118Z"
   },
   {
    "duration": 16,
    "start_time": "2022-06-16T18:43:13.379Z"
   },
   {
    "duration": 5,
    "start_time": "2022-06-16T18:43:14.108Z"
   },
   {
    "duration": 9,
    "start_time": "2022-06-16T18:43:14.742Z"
   },
   {
    "duration": 5,
    "start_time": "2022-06-16T18:43:15.246Z"
   },
   {
    "duration": 41,
    "start_time": "2022-06-16T18:43:15.818Z"
   },
   {
    "duration": 4,
    "start_time": "2022-06-16T18:43:17.095Z"
   },
   {
    "duration": 2459,
    "start_time": "2022-06-16T18:43:18.289Z"
   },
   {
    "duration": 17,
    "start_time": "2022-06-16T18:44:28.766Z"
   },
   {
    "duration": 12,
    "start_time": "2022-06-16T18:44:29.190Z"
   },
   {
    "duration": 15,
    "start_time": "2022-06-16T18:44:39.559Z"
   },
   {
    "duration": 10,
    "start_time": "2022-06-16T18:44:41.012Z"
   },
   {
    "duration": 5,
    "start_time": "2022-06-16T18:44:42.562Z"
   },
   {
    "duration": 4,
    "start_time": "2022-06-16T18:44:45.200Z"
   },
   {
    "duration": 56,
    "start_time": "2022-06-16T18:44:45.207Z"
   },
   {
    "duration": 13,
    "start_time": "2022-06-16T18:44:45.265Z"
   },
   {
    "duration": 16,
    "start_time": "2022-06-16T18:44:45.280Z"
   },
   {
    "duration": 19,
    "start_time": "2022-06-16T18:44:45.298Z"
   },
   {
    "duration": 5,
    "start_time": "2022-06-16T18:44:45.327Z"
   },
   {
    "duration": 20,
    "start_time": "2022-06-16T18:44:54.624Z"
   },
   {
    "duration": 9,
    "start_time": "2022-06-16T18:44:55.948Z"
   },
   {
    "duration": 5,
    "start_time": "2022-06-16T18:44:59.466Z"
   },
   {
    "duration": 4,
    "start_time": "2022-06-16T18:45:08.910Z"
   },
   {
    "duration": 68,
    "start_time": "2022-06-16T18:45:08.917Z"
   },
   {
    "duration": 17,
    "start_time": "2022-06-16T18:45:08.987Z"
   },
   {
    "duration": 18,
    "start_time": "2022-06-16T18:45:10.500Z"
   },
   {
    "duration": 18,
    "start_time": "2022-06-16T18:45:11.443Z"
   },
   {
    "duration": 31,
    "start_time": "2022-06-16T18:45:14.913Z"
   },
   {
    "duration": 17,
    "start_time": "2022-06-16T18:46:18.265Z"
   },
   {
    "duration": 28,
    "start_time": "2022-06-16T18:46:19.113Z"
   },
   {
    "duration": 4,
    "start_time": "2022-06-16T18:46:22.743Z"
   },
   {
    "duration": 49,
    "start_time": "2022-06-16T18:46:22.749Z"
   },
   {
    "duration": 13,
    "start_time": "2022-06-16T18:46:22.799Z"
   },
   {
    "duration": 13,
    "start_time": "2022-06-16T18:46:22.814Z"
   },
   {
    "duration": 17,
    "start_time": "2022-06-16T18:46:22.829Z"
   },
   {
    "duration": 19,
    "start_time": "2022-06-16T18:46:30.327Z"
   },
   {
    "duration": 8,
    "start_time": "2022-06-16T18:46:31.203Z"
   },
   {
    "duration": 16,
    "start_time": "2022-06-16T18:49:51.998Z"
   },
   {
    "duration": 30,
    "start_time": "2022-06-16T18:50:23.366Z"
   },
   {
    "duration": 4,
    "start_time": "2022-06-16T18:50:32.846Z"
   },
   {
    "duration": 55,
    "start_time": "2022-06-16T18:50:32.852Z"
   },
   {
    "duration": 13,
    "start_time": "2022-06-16T18:50:32.908Z"
   },
   {
    "duration": 43,
    "start_time": "2022-06-16T18:50:32.922Z"
   },
   {
    "duration": 18,
    "start_time": "2022-06-16T18:50:32.968Z"
   },
   {
    "duration": 27,
    "start_time": "2022-06-16T18:50:32.988Z"
   },
   {
    "duration": 22,
    "start_time": "2022-06-16T18:50:33.017Z"
   },
   {
    "duration": 40,
    "start_time": "2022-06-16T18:50:33.044Z"
   },
   {
    "duration": 52,
    "start_time": "2022-06-16T18:50:34.503Z"
   },
   {
    "duration": 10,
    "start_time": "2022-06-16T18:51:01.926Z"
   },
   {
    "duration": 15,
    "start_time": "2022-06-16T18:51:02.393Z"
   },
   {
    "duration": 31,
    "start_time": "2022-06-16T18:51:02.983Z"
   },
   {
    "duration": 1137,
    "start_time": "2022-06-16T18:51:11.386Z"
   },
   {
    "duration": 72,
    "start_time": "2022-06-16T18:51:12.525Z"
   },
   {
    "duration": 16,
    "start_time": "2022-06-16T18:51:12.598Z"
   },
   {
    "duration": 15,
    "start_time": "2022-06-16T18:51:12.616Z"
   },
   {
    "duration": 32,
    "start_time": "2022-06-16T18:51:12.635Z"
   },
   {
    "duration": 14,
    "start_time": "2022-06-16T18:51:12.668Z"
   },
   {
    "duration": 17,
    "start_time": "2022-06-16T18:51:12.684Z"
   },
   {
    "duration": 106,
    "start_time": "2022-06-16T18:51:12.703Z"
   },
   {
    "duration": 0,
    "start_time": "2022-06-16T18:51:12.811Z"
   },
   {
    "duration": 0,
    "start_time": "2022-06-16T18:51:12.812Z"
   },
   {
    "duration": 0,
    "start_time": "2022-06-16T18:51:12.813Z"
   },
   {
    "duration": 0,
    "start_time": "2022-06-16T18:51:12.814Z"
   },
   {
    "duration": 0,
    "start_time": "2022-06-16T18:51:12.816Z"
   },
   {
    "duration": 0,
    "start_time": "2022-06-16T18:51:12.826Z"
   },
   {
    "duration": 0,
    "start_time": "2022-06-16T18:51:12.827Z"
   },
   {
    "duration": 0,
    "start_time": "2022-06-16T18:51:12.828Z"
   },
   {
    "duration": 0,
    "start_time": "2022-06-16T18:51:12.829Z"
   },
   {
    "duration": 0,
    "start_time": "2022-06-16T18:51:12.830Z"
   },
   {
    "duration": 0,
    "start_time": "2022-06-16T18:51:12.831Z"
   },
   {
    "duration": 0,
    "start_time": "2022-06-16T18:51:12.832Z"
   },
   {
    "duration": 0,
    "start_time": "2022-06-16T18:51:12.833Z"
   },
   {
    "duration": 4,
    "start_time": "2022-06-16T18:51:43.246Z"
   },
   {
    "duration": 68,
    "start_time": "2022-06-16T18:51:43.253Z"
   },
   {
    "duration": 25,
    "start_time": "2022-06-16T18:51:43.323Z"
   },
   {
    "duration": 17,
    "start_time": "2022-06-16T18:51:43.349Z"
   },
   {
    "duration": 18,
    "start_time": "2022-06-16T18:51:43.369Z"
   },
   {
    "duration": 4,
    "start_time": "2022-06-16T18:51:43.389Z"
   },
   {
    "duration": 44,
    "start_time": "2022-06-16T18:51:43.394Z"
   },
   {
    "duration": 12,
    "start_time": "2022-06-16T18:51:43.440Z"
   },
   {
    "duration": 18,
    "start_time": "2022-06-16T18:52:10.552Z"
   },
   {
    "duration": 7,
    "start_time": "2022-06-16T18:52:11.213Z"
   },
   {
    "duration": 5,
    "start_time": "2022-06-16T18:52:12.164Z"
   },
   {
    "duration": 5,
    "start_time": "2022-06-16T18:52:12.756Z"
   },
   {
    "duration": 36,
    "start_time": "2022-06-16T18:52:13.781Z"
   },
   {
    "duration": 4,
    "start_time": "2022-06-16T18:52:35.583Z"
   },
   {
    "duration": 2079,
    "start_time": "2022-06-16T18:52:36.448Z"
   },
   {
    "duration": 11708,
    "start_time": "2022-06-16T18:52:38.530Z"
   },
   {
    "duration": 1047,
    "start_time": "2022-06-16T19:02:18.851Z"
   },
   {
    "duration": 0,
    "start_time": "2022-06-16T19:02:19.900Z"
   },
   {
    "duration": 15,
    "start_time": "2022-06-16T19:02:20.154Z"
   },
   {
    "duration": 18,
    "start_time": "2022-06-16T19:02:21.246Z"
   },
   {
    "duration": 500,
    "start_time": "2022-06-16T19:02:50.247Z"
   },
   {
    "duration": 7,
    "start_time": "2022-06-16T19:04:33.801Z"
   },
   {
    "duration": 8,
    "start_time": "2022-06-16T19:04:34.906Z"
   },
   {
    "duration": 8,
    "start_time": "2022-06-16T19:04:35.792Z"
   },
   {
    "duration": 204,
    "start_time": "2022-06-16T19:10:00.547Z"
   },
   {
    "duration": 8,
    "start_time": "2022-06-16T19:10:01.567Z"
   },
   {
    "duration": 9,
    "start_time": "2022-06-16T19:10:02.099Z"
   },
   {
    "duration": 7,
    "start_time": "2022-06-16T19:10:02.602Z"
   },
   {
    "duration": 929,
    "start_time": "2022-06-16T19:10:06.759Z"
   },
   {
    "duration": 7,
    "start_time": "2022-06-16T19:10:08.586Z"
   },
   {
    "duration": 11,
    "start_time": "2022-06-16T19:10:09.198Z"
   },
   {
    "duration": 10,
    "start_time": "2022-06-16T19:10:09.711Z"
   },
   {
    "duration": 1224,
    "start_time": "2022-06-16T19:10:15.865Z"
   },
   {
    "duration": 6,
    "start_time": "2022-06-16T19:10:17.802Z"
   },
   {
    "duration": 6,
    "start_time": "2022-06-16T19:10:18.560Z"
   },
   {
    "duration": 6,
    "start_time": "2022-06-16T19:10:19.098Z"
   },
   {
    "duration": 717,
    "start_time": "2022-06-16T19:10:24.330Z"
   },
   {
    "duration": 7,
    "start_time": "2022-06-16T19:10:25.542Z"
   },
   {
    "duration": 7,
    "start_time": "2022-06-16T19:10:25.877Z"
   },
   {
    "duration": 6,
    "start_time": "2022-06-16T19:10:26.203Z"
   },
   {
    "duration": 613,
    "start_time": "2022-06-16T19:10:30.013Z"
   },
   {
    "duration": 7,
    "start_time": "2022-06-16T19:10:30.629Z"
   },
   {
    "duration": 8,
    "start_time": "2022-06-16T19:10:30.835Z"
   },
   {
    "duration": 8,
    "start_time": "2022-06-16T19:10:31.419Z"
   },
   {
    "duration": 419,
    "start_time": "2022-06-16T19:10:38.883Z"
   },
   {
    "duration": 8,
    "start_time": "2022-06-16T19:10:39.386Z"
   },
   {
    "duration": 7,
    "start_time": "2022-06-16T19:10:39.698Z"
   },
   {
    "duration": 7,
    "start_time": "2022-06-16T19:10:40.016Z"
   },
   {
    "duration": 493,
    "start_time": "2022-06-16T19:10:46.600Z"
   },
   {
    "duration": 7,
    "start_time": "2022-06-16T19:10:47.337Z"
   },
   {
    "duration": 7,
    "start_time": "2022-06-16T19:10:47.741Z"
   },
   {
    "duration": 8,
    "start_time": "2022-06-16T19:10:48.014Z"
   },
   {
    "duration": 413,
    "start_time": "2022-06-16T19:10:56.046Z"
   },
   {
    "duration": 8,
    "start_time": "2022-06-16T19:10:56.506Z"
   },
   {
    "duration": 8,
    "start_time": "2022-06-16T19:10:57.010Z"
   },
   {
    "duration": 7,
    "start_time": "2022-06-16T19:10:57.378Z"
   },
   {
    "duration": 461,
    "start_time": "2022-06-16T19:11:02.347Z"
   },
   {
    "duration": 15,
    "start_time": "2022-06-16T19:11:02.811Z"
   },
   {
    "duration": 6,
    "start_time": "2022-06-16T19:11:03.318Z"
   },
   {
    "duration": 7,
    "start_time": "2022-06-16T19:11:03.681Z"
   },
   {
    "duration": 389,
    "start_time": "2022-06-16T19:11:11.297Z"
   },
   {
    "duration": 7,
    "start_time": "2022-06-16T19:11:11.745Z"
   },
   {
    "duration": 7,
    "start_time": "2022-06-16T19:11:12.116Z"
   },
   {
    "duration": 7,
    "start_time": "2022-06-16T19:11:12.415Z"
   },
   {
    "duration": 335,
    "start_time": "2022-06-16T19:11:15.910Z"
   },
   {
    "duration": 7,
    "start_time": "2022-06-16T19:11:16.332Z"
   },
   {
    "duration": 7,
    "start_time": "2022-06-16T19:11:16.713Z"
   },
   {
    "duration": 7,
    "start_time": "2022-06-16T19:11:17.026Z"
   },
   {
    "duration": 406,
    "start_time": "2022-06-16T19:11:22.547Z"
   },
   {
    "duration": 6,
    "start_time": "2022-06-16T19:11:22.955Z"
   },
   {
    "duration": 8,
    "start_time": "2022-06-16T19:11:23.219Z"
   },
   {
    "duration": 6,
    "start_time": "2022-06-16T19:11:23.579Z"
   },
   {
    "duration": 364,
    "start_time": "2022-06-16T19:11:28.568Z"
   },
   {
    "duration": 8,
    "start_time": "2022-06-16T19:11:28.950Z"
   },
   {
    "duration": 6,
    "start_time": "2022-06-16T19:11:29.305Z"
   },
   {
    "duration": 6,
    "start_time": "2022-06-16T19:11:29.615Z"
   },
   {
    "duration": 390,
    "start_time": "2022-06-16T19:11:33.427Z"
   },
   {
    "duration": 7,
    "start_time": "2022-06-16T19:11:33.826Z"
   },
   {
    "duration": 8,
    "start_time": "2022-06-16T19:11:34.129Z"
   },
   {
    "duration": 8,
    "start_time": "2022-06-16T19:11:34.422Z"
   },
   {
    "duration": 408,
    "start_time": "2022-06-16T19:11:37.069Z"
   },
   {
    "duration": 6,
    "start_time": "2022-06-16T19:11:37.518Z"
   },
   {
    "duration": 6,
    "start_time": "2022-06-16T19:11:37.823Z"
   },
   {
    "duration": 7,
    "start_time": "2022-06-16T19:11:38.069Z"
   },
   {
    "duration": 394,
    "start_time": "2022-06-16T19:11:41.204Z"
   },
   {
    "duration": 7,
    "start_time": "2022-06-16T19:11:41.601Z"
   },
   {
    "duration": 8,
    "start_time": "2022-06-16T19:11:41.907Z"
   },
   {
    "duration": 7,
    "start_time": "2022-06-16T19:11:42.198Z"
   },
   {
    "duration": 4,
    "start_time": "2022-06-16T19:12:26.430Z"
   },
   {
    "duration": 78,
    "start_time": "2022-06-16T19:12:26.436Z"
   },
   {
    "duration": 13,
    "start_time": "2022-06-16T19:12:26.516Z"
   },
   {
    "duration": 15,
    "start_time": "2022-06-16T19:12:26.530Z"
   },
   {
    "duration": 19,
    "start_time": "2022-06-16T19:12:26.547Z"
   },
   {
    "duration": 4,
    "start_time": "2022-06-16T19:12:26.568Z"
   },
   {
    "duration": 17,
    "start_time": "2022-06-16T19:12:26.574Z"
   },
   {
    "duration": 34,
    "start_time": "2022-06-16T19:12:26.593Z"
   },
   {
    "duration": 3,
    "start_time": "2022-06-16T19:12:26.629Z"
   },
   {
    "duration": 6,
    "start_time": "2022-06-16T19:12:26.634Z"
   },
   {
    "duration": 5,
    "start_time": "2022-06-16T19:12:26.642Z"
   },
   {
    "duration": 33,
    "start_time": "2022-06-16T19:12:26.648Z"
   },
   {
    "duration": 3,
    "start_time": "2022-06-16T19:12:26.683Z"
   },
   {
    "duration": 1962,
    "start_time": "2022-06-16T19:12:26.726Z"
   },
   {
    "duration": 11591,
    "start_time": "2022-06-16T19:12:28.690Z"
   },
   {
    "duration": 422,
    "start_time": "2022-06-16T19:12:40.283Z"
   },
   {
    "duration": 19,
    "start_time": "2022-06-16T19:12:40.706Z"
   },
   {
    "duration": 6,
    "start_time": "2022-06-16T19:12:40.727Z"
   },
   {
    "duration": 8,
    "start_time": "2022-06-16T19:12:40.735Z"
   },
   {
    "duration": 7,
    "start_time": "2022-06-16T19:13:01.359Z"
   },
   {
    "duration": 62,
    "start_time": "2022-06-16T19:13:02.682Z"
   },
   {
    "duration": 8,
    "start_time": "2022-06-16T19:13:13.012Z"
   },
   {
    "duration": 393,
    "start_time": "2022-06-16T19:13:42.821Z"
   },
   {
    "duration": 7,
    "start_time": "2022-06-16T19:13:44.203Z"
   },
   {
    "duration": 7,
    "start_time": "2022-06-16T19:14:38.411Z"
   },
   {
    "duration": 421,
    "start_time": "2022-06-16T19:14:45.322Z"
   },
   {
    "duration": 11,
    "start_time": "2022-06-16T19:14:46.545Z"
   },
   {
    "duration": 424,
    "start_time": "2022-06-16T19:14:48.245Z"
   },
   {
    "duration": 8,
    "start_time": "2022-06-16T19:14:48.716Z"
   },
   {
    "duration": 385,
    "start_time": "2022-06-16T19:15:27.213Z"
   },
   {
    "duration": 408,
    "start_time": "2022-06-16T19:15:36.591Z"
   },
   {
    "duration": 430,
    "start_time": "2022-06-16T19:15:54.260Z"
   },
   {
    "duration": 399,
    "start_time": "2022-06-16T19:16:11.744Z"
   },
   {
    "duration": 11436,
    "start_time": "2022-06-16T19:17:32.344Z"
   },
   {
    "duration": 11334,
    "start_time": "2022-06-16T19:17:55.927Z"
   },
   {
    "duration": 399,
    "start_time": "2022-06-16T19:18:09.280Z"
   },
   {
    "duration": 506,
    "start_time": "2022-06-16T19:18:14.262Z"
   },
   {
    "duration": 11513,
    "start_time": "2022-06-16T19:18:32.941Z"
   },
   {
    "duration": 5103,
    "start_time": "2022-06-16T19:19:01.419Z"
   },
   {
    "duration": 11795,
    "start_time": "2022-06-16T19:19:28.762Z"
   },
   {
    "duration": 439,
    "start_time": "2022-06-16T19:19:40.560Z"
   },
   {
    "duration": 400,
    "start_time": "2022-06-16T19:19:47.143Z"
   },
   {
    "duration": 47,
    "start_time": "2022-06-16T19:21:45.449Z"
   },
   {
    "duration": 10,
    "start_time": "2022-06-16T19:25:21.333Z"
   },
   {
    "duration": 11,
    "start_time": "2022-06-16T19:26:29.528Z"
   },
   {
    "duration": 13,
    "start_time": "2022-06-16T19:27:29.194Z"
   },
   {
    "duration": 4,
    "start_time": "2022-06-16T19:27:48.158Z"
   },
   {
    "duration": 51,
    "start_time": "2022-06-16T19:27:48.721Z"
   },
   {
    "duration": 13,
    "start_time": "2022-06-16T19:27:49.009Z"
   },
   {
    "duration": 14,
    "start_time": "2022-06-16T19:27:49.399Z"
   },
   {
    "duration": 19,
    "start_time": "2022-06-16T19:27:49.619Z"
   },
   {
    "duration": 4,
    "start_time": "2022-06-16T19:27:49.821Z"
   },
   {
    "duration": 13,
    "start_time": "2022-06-16T19:27:50.004Z"
   },
   {
    "duration": 17,
    "start_time": "2022-06-16T19:27:50.359Z"
   },
   {
    "duration": 5,
    "start_time": "2022-06-16T19:27:50.591Z"
   },
   {
    "duration": 5,
    "start_time": "2022-06-16T19:27:50.812Z"
   },
   {
    "duration": 4,
    "start_time": "2022-06-16T19:27:51.213Z"
   },
   {
    "duration": 40,
    "start_time": "2022-06-16T19:27:51.364Z"
   },
   {
    "duration": 4,
    "start_time": "2022-06-16T19:27:51.762Z"
   },
   {
    "duration": 50,
    "start_time": "2022-06-16T19:27:52.242Z"
   },
   {
    "duration": 121,
    "start_time": "2022-06-16T19:27:52.911Z"
   },
   {
    "duration": 432,
    "start_time": "2022-06-16T19:28:35.363Z"
   },
   {
    "duration": 5,
    "start_time": "2022-06-16T19:31:08.182Z"
   },
   {
    "duration": 52,
    "start_time": "2022-06-16T19:31:08.927Z"
   },
   {
    "duration": 41,
    "start_time": "2022-06-16T19:31:13.013Z"
   },
   {
    "duration": 98,
    "start_time": "2022-06-16T19:31:15.141Z"
   },
   {
    "duration": 433,
    "start_time": "2022-06-16T19:31:18.052Z"
   },
   {
    "duration": 7,
    "start_time": "2022-06-16T19:32:31.091Z"
   },
   {
    "duration": 33,
    "start_time": "2022-06-16T19:35:01.462Z"
   },
   {
    "duration": 3,
    "start_time": "2022-06-16T19:35:41.522Z"
   },
   {
    "duration": 42,
    "start_time": "2022-06-16T19:35:42.700Z"
   },
   {
    "duration": 75,
    "start_time": "2022-06-16T19:35:44.959Z"
   },
   {
    "duration": 430,
    "start_time": "2022-06-16T19:35:45.635Z"
   },
   {
    "duration": 3,
    "start_time": "2022-06-16T19:35:51.465Z"
   },
   {
    "duration": 64,
    "start_time": "2022-06-16T19:35:51.470Z"
   },
   {
    "duration": 11,
    "start_time": "2022-06-16T19:35:51.536Z"
   },
   {
    "duration": 14,
    "start_time": "2022-06-16T19:35:51.549Z"
   },
   {
    "duration": 21,
    "start_time": "2022-06-16T19:35:51.565Z"
   },
   {
    "duration": 15,
    "start_time": "2022-06-16T19:35:51.591Z"
   },
   {
    "duration": 14,
    "start_time": "2022-06-16T19:35:51.625Z"
   },
   {
    "duration": 22,
    "start_time": "2022-06-16T19:35:51.640Z"
   },
   {
    "duration": 4,
    "start_time": "2022-06-16T19:35:51.665Z"
   },
   {
    "duration": 7,
    "start_time": "2022-06-16T19:35:51.671Z"
   },
   {
    "duration": 6,
    "start_time": "2022-06-16T19:35:51.680Z"
   },
   {
    "duration": 8,
    "start_time": "2022-06-16T19:35:51.688Z"
   },
   {
    "duration": 57,
    "start_time": "2022-06-16T19:35:51.698Z"
   },
   {
    "duration": 3,
    "start_time": "2022-06-16T19:35:51.758Z"
   },
   {
    "duration": 46,
    "start_time": "2022-06-16T19:35:51.762Z"
   },
   {
    "duration": 116,
    "start_time": "2022-06-16T19:35:51.810Z"
   },
   {
    "duration": 540,
    "start_time": "2022-06-16T19:35:51.929Z"
   },
   {
    "duration": 4600,
    "start_time": "2022-06-16T19:35:52.471Z"
   },
   {
    "duration": 32,
    "start_time": "2022-06-16T19:36:08.796Z"
   },
   {
    "duration": 2,
    "start_time": "2022-06-16T19:36:10.145Z"
   },
   {
    "duration": 11,
    "start_time": "2022-06-16T19:41:18.883Z"
   },
   {
    "duration": 2,
    "start_time": "2022-06-16T19:41:28.801Z"
   },
   {
    "duration": 4,
    "start_time": "2022-06-17T09:16:50.879Z"
   },
   {
    "duration": 41,
    "start_time": "2022-06-17T09:16:51.306Z"
   },
   {
    "duration": 962,
    "start_time": "2022-06-17T09:16:54.346Z"
   },
   {
    "duration": 146,
    "start_time": "2022-06-17T09:16:55.310Z"
   },
   {
    "duration": 10,
    "start_time": "2022-06-17T09:16:55.457Z"
   },
   {
    "duration": 13,
    "start_time": "2022-06-17T09:16:55.469Z"
   },
   {
    "duration": 16,
    "start_time": "2022-06-17T09:16:55.483Z"
   },
   {
    "duration": 13,
    "start_time": "2022-06-17T09:16:55.500Z"
   },
   {
    "duration": 16,
    "start_time": "2022-06-17T09:16:55.515Z"
   },
   {
    "duration": 11,
    "start_time": "2022-06-17T09:16:57.101Z"
   },
   {
    "duration": 15,
    "start_time": "2022-06-17T09:16:58.238Z"
   },
   {
    "duration": 4,
    "start_time": "2022-06-17T09:16:58.797Z"
   },
   {
    "duration": 4,
    "start_time": "2022-06-17T09:16:59.067Z"
   },
   {
    "duration": 3,
    "start_time": "2022-06-17T09:16:59.268Z"
   },
   {
    "duration": 5,
    "start_time": "2022-06-17T09:17:00.113Z"
   },
   {
    "duration": 43,
    "start_time": "2022-06-17T09:17:01.032Z"
   },
   {
    "duration": 2,
    "start_time": "2022-06-17T09:17:03.003Z"
   },
   {
    "duration": 62,
    "start_time": "2022-06-17T09:17:04.211Z"
   },
   {
    "duration": 16,
    "start_time": "2022-06-17T09:17:05.957Z"
   },
   {
    "duration": 15,
    "start_time": "2022-06-17T09:17:25.028Z"
   },
   {
    "duration": 16,
    "start_time": "2022-06-17T09:17:25.631Z"
   },
   {
    "duration": 18,
    "start_time": "2022-06-17T09:17:25.846Z"
   },
   {
    "duration": 16,
    "start_time": "2022-06-17T09:17:26.737Z"
   },
   {
    "duration": 3,
    "start_time": "2022-06-17T09:17:31.183Z"
   },
   {
    "duration": 54,
    "start_time": "2022-06-17T09:17:31.187Z"
   },
   {
    "duration": 10,
    "start_time": "2022-06-17T09:17:31.242Z"
   },
   {
    "duration": 11,
    "start_time": "2022-06-17T09:17:31.253Z"
   },
   {
    "duration": 15,
    "start_time": "2022-06-17T09:17:31.265Z"
   },
   {
    "duration": 2,
    "start_time": "2022-06-17T09:17:31.281Z"
   },
   {
    "duration": 12,
    "start_time": "2022-06-17T09:17:31.285Z"
   },
   {
    "duration": 17,
    "start_time": "2022-06-17T09:17:31.298Z"
   },
   {
    "duration": 3,
    "start_time": "2022-06-17T09:17:31.316Z"
   },
   {
    "duration": 8,
    "start_time": "2022-06-17T09:17:31.320Z"
   },
   {
    "duration": 21,
    "start_time": "2022-06-17T09:17:31.329Z"
   },
   {
    "duration": 11,
    "start_time": "2022-06-17T09:17:31.351Z"
   },
   {
    "duration": 31,
    "start_time": "2022-06-17T09:17:31.363Z"
   },
   {
    "duration": 2,
    "start_time": "2022-06-17T09:17:31.396Z"
   },
   {
    "duration": 21,
    "start_time": "2022-06-17T09:17:31.399Z"
   },
   {
    "duration": 0,
    "start_time": "2022-06-17T09:17:31.421Z"
   },
   {
    "duration": 0,
    "start_time": "2022-06-17T09:17:31.422Z"
   },
   {
    "duration": 0,
    "start_time": "2022-06-17T09:17:31.423Z"
   },
   {
    "duration": 0,
    "start_time": "2022-06-17T09:17:31.424Z"
   },
   {
    "duration": 0,
    "start_time": "2022-06-17T09:17:31.425Z"
   },
   {
    "duration": 42,
    "start_time": "2022-06-17T09:17:46.823Z"
   },
   {
    "duration": 11,
    "start_time": "2022-06-17T09:17:47.320Z"
   },
   {
    "duration": 11,
    "start_time": "2022-06-17T09:17:48.304Z"
   },
   {
    "duration": 15,
    "start_time": "2022-06-17T09:17:49.008Z"
   },
   {
    "duration": 2,
    "start_time": "2022-06-17T09:17:49.665Z"
   },
   {
    "duration": 9,
    "start_time": "2022-06-17T09:17:50.348Z"
   },
   {
    "duration": 14,
    "start_time": "2022-06-17T09:17:51.738Z"
   },
   {
    "duration": 3,
    "start_time": "2022-06-17T09:17:52.590Z"
   },
   {
    "duration": 4,
    "start_time": "2022-06-17T09:17:53.133Z"
   },
   {
    "duration": 3,
    "start_time": "2022-06-17T09:17:53.554Z"
   },
   {
    "duration": 6,
    "start_time": "2022-06-17T09:17:54.619Z"
   },
   {
    "duration": 25,
    "start_time": "2022-06-17T09:17:55.984Z"
   },
   {
    "duration": 2,
    "start_time": "2022-06-17T09:18:03.515Z"
   },
   {
    "duration": 17,
    "start_time": "2022-06-17T09:18:06.256Z"
   },
   {
    "duration": 6,
    "start_time": "2022-06-17T09:28:00.746Z"
   },
   {
    "duration": 14,
    "start_time": "2022-06-17T09:28:40.470Z"
   },
   {
    "duration": 6,
    "start_time": "2022-06-17T09:29:46.911Z"
   },
   {
    "duration": 10,
    "start_time": "2022-06-17T09:29:49.269Z"
   },
   {
    "duration": 14,
    "start_time": "2022-06-17T09:29:54.860Z"
   },
   {
    "duration": 5,
    "start_time": "2022-06-17T09:29:55.352Z"
   },
   {
    "duration": 4,
    "start_time": "2022-06-17T09:29:55.588Z"
   },
   {
    "duration": 4,
    "start_time": "2022-06-17T09:29:55.823Z"
   },
   {
    "duration": 5,
    "start_time": "2022-06-17T09:29:56.625Z"
   },
   {
    "duration": 27,
    "start_time": "2022-06-17T09:29:57.783Z"
   },
   {
    "duration": 2,
    "start_time": "2022-06-17T09:30:01.591Z"
   },
   {
    "duration": 38,
    "start_time": "2022-06-17T09:30:02.467Z"
   },
   {
    "duration": 27,
    "start_time": "2022-06-17T09:30:05.150Z"
   },
   {
    "duration": 381,
    "start_time": "2022-06-17T09:30:05.856Z"
   },
   {
    "duration": 4021,
    "start_time": "2022-06-17T09:30:07.928Z"
   },
   {
    "duration": 8975,
    "start_time": "2022-06-17T09:30:11.951Z"
   },
   {
    "duration": 352,
    "start_time": "2022-06-17T09:30:32.912Z"
   },
   {
    "duration": 314,
    "start_time": "2022-06-17T09:30:39.271Z"
   },
   {
    "duration": 353,
    "start_time": "2022-06-17T09:30:51.365Z"
   },
   {
    "duration": 373,
    "start_time": "2022-06-17T09:30:58.288Z"
   },
   {
    "duration": 358,
    "start_time": "2022-06-17T09:31:02.623Z"
   },
   {
    "duration": 352,
    "start_time": "2022-06-17T09:31:06.704Z"
   },
   {
    "duration": 354,
    "start_time": "2022-06-17T09:31:13.879Z"
   },
   {
    "duration": 701,
    "start_time": "2022-06-17T09:31:19.832Z"
   },
   {
    "duration": 425,
    "start_time": "2022-06-17T09:31:26.271Z"
   },
   {
    "duration": 362,
    "start_time": "2022-06-17T09:31:30.878Z"
   },
   {
    "duration": 37,
    "start_time": "2022-06-17T09:33:24.750Z"
   },
   {
    "duration": 15,
    "start_time": "2022-06-17T09:35:07.074Z"
   },
   {
    "duration": 11,
    "start_time": "2022-06-17T09:39:07.702Z"
   },
   {
    "duration": 4,
    "start_time": "2022-06-17T09:39:18.002Z"
   },
   {
    "duration": 42,
    "start_time": "2022-06-17T09:39:18.205Z"
   },
   {
    "duration": 11,
    "start_time": "2022-06-17T09:39:18.390Z"
   },
   {
    "duration": 12,
    "start_time": "2022-06-17T09:39:18.716Z"
   },
   {
    "duration": 20,
    "start_time": "2022-06-17T09:39:18.975Z"
   },
   {
    "duration": 8,
    "start_time": "2022-06-17T09:39:19.555Z"
   },
   {
    "duration": 11,
    "start_time": "2022-06-17T09:39:19.720Z"
   },
   {
    "duration": 15,
    "start_time": "2022-06-17T09:39:20.155Z"
   },
   {
    "duration": 4,
    "start_time": "2022-06-17T09:39:20.266Z"
   },
   {
    "duration": 3,
    "start_time": "2022-06-17T09:39:20.440Z"
   },
   {
    "duration": 4,
    "start_time": "2022-06-17T09:39:20.578Z"
   },
   {
    "duration": 6,
    "start_time": "2022-06-17T09:39:21.148Z"
   },
   {
    "duration": 26,
    "start_time": "2022-06-17T09:39:21.642Z"
   },
   {
    "duration": 39,
    "start_time": "2022-06-17T09:39:21.926Z"
   },
   {
    "duration": 96,
    "start_time": "2022-06-17T09:39:22.500Z"
   },
   {
    "duration": 401,
    "start_time": "2022-06-17T09:39:22.695Z"
   },
   {
    "duration": 4498,
    "start_time": "2022-06-17T09:39:23.099Z"
   },
   {
    "duration": 9278,
    "start_time": "2022-06-17T09:39:27.599Z"
   },
   {
    "duration": 401,
    "start_time": "2022-06-17T09:39:36.878Z"
   },
   {
    "duration": 16,
    "start_time": "2022-06-17T09:39:37.281Z"
   },
   {
    "duration": 38,
    "start_time": "2022-06-17T09:39:46.188Z"
   },
   {
    "duration": 47,
    "start_time": "2022-06-17T09:40:08.851Z"
   },
   {
    "duration": 353,
    "start_time": "2022-06-17T09:40:13.053Z"
   },
   {
    "duration": 85,
    "start_time": "2022-06-17T09:43:56.005Z"
   },
   {
    "duration": 57,
    "start_time": "2022-06-17T09:44:11.347Z"
   },
   {
    "duration": 671,
    "start_time": "2022-06-17T09:44:49.376Z"
   },
   {
    "duration": 156,
    "start_time": "2022-06-17T09:46:03.278Z"
   },
   {
    "duration": 680,
    "start_time": "2022-06-17T09:46:11.224Z"
   },
   {
    "duration": 151,
    "start_time": "2022-06-17T09:46:13.324Z"
   },
   {
    "duration": 16,
    "start_time": "2022-06-17T09:46:37.042Z"
   },
   {
    "duration": 27,
    "start_time": "2022-06-17T09:46:43.746Z"
   },
   {
    "duration": 150,
    "start_time": "2022-06-17T09:47:02.425Z"
   },
   {
    "duration": 68,
    "start_time": "2022-06-17T09:47:21.938Z"
   },
   {
    "duration": 698,
    "start_time": "2022-06-17T09:47:33.452Z"
   },
   {
    "duration": 152,
    "start_time": "2022-06-17T09:51:39.401Z"
   },
   {
    "duration": 24,
    "start_time": "2022-06-17T09:53:52.424Z"
   },
   {
    "duration": 38,
    "start_time": "2022-06-17T09:56:19.737Z"
   },
   {
    "duration": 63,
    "start_time": "2022-06-17T09:56:20.932Z"
   },
   {
    "duration": 345,
    "start_time": "2022-06-17T09:56:22.074Z"
   },
   {
    "duration": 67,
    "start_time": "2022-06-17T09:59:14.084Z"
   },
   {
    "duration": 51,
    "start_time": "2022-06-17T10:00:05.207Z"
   },
   {
    "duration": 23,
    "start_time": "2022-06-17T10:05:21.457Z"
   },
   {
    "duration": 20,
    "start_time": "2022-06-17T10:06:01.260Z"
   },
   {
    "duration": 4,
    "start_time": "2022-06-17T10:11:59.329Z"
   },
   {
    "duration": 51,
    "start_time": "2022-06-17T10:12:00.803Z"
   },
   {
    "duration": 12,
    "start_time": "2022-06-17T10:12:00.953Z"
   },
   {
    "duration": 11,
    "start_time": "2022-06-17T10:12:01.542Z"
   },
   {
    "duration": 14,
    "start_time": "2022-06-17T10:12:01.618Z"
   },
   {
    "duration": 7,
    "start_time": "2022-06-17T10:12:01.786Z"
   },
   {
    "duration": 13,
    "start_time": "2022-06-17T10:12:01.875Z"
   },
   {
    "duration": 18,
    "start_time": "2022-06-17T10:12:02.038Z"
   },
   {
    "duration": 4,
    "start_time": "2022-06-17T10:12:02.121Z"
   },
   {
    "duration": 3,
    "start_time": "2022-06-17T10:12:02.215Z"
   },
   {
    "duration": 4,
    "start_time": "2022-06-17T10:12:02.290Z"
   },
   {
    "duration": 6,
    "start_time": "2022-06-17T10:12:02.456Z"
   },
   {
    "duration": 27,
    "start_time": "2022-06-17T10:12:02.708Z"
   },
   {
    "duration": 38,
    "start_time": "2022-06-17T10:12:02.873Z"
   },
   {
    "duration": 25,
    "start_time": "2022-06-17T10:12:03.124Z"
   },
   {
    "duration": 463,
    "start_time": "2022-06-17T10:12:03.207Z"
   },
   {
    "duration": 4057,
    "start_time": "2022-06-17T10:12:03.671Z"
   },
   {
    "duration": 8993,
    "start_time": "2022-06-17T10:12:07.729Z"
   },
   {
    "duration": 369,
    "start_time": "2022-06-17T10:12:16.725Z"
   },
   {
    "duration": 40,
    "start_time": "2022-06-17T10:12:17.096Z"
   },
   {
    "duration": 71,
    "start_time": "2022-06-17T10:12:17.139Z"
   },
   {
    "duration": 620,
    "start_time": "2022-06-17T10:12:17.212Z"
   },
   {
    "duration": 709,
    "start_time": "2022-06-17T10:12:17.834Z"
   },
   {
    "duration": 73,
    "start_time": "2022-06-17T10:12:18.545Z"
   },
   {
    "duration": 75,
    "start_time": "2022-06-17T10:12:18.620Z"
   },
   {
    "duration": 242,
    "start_time": "2022-06-17T10:12:18.697Z"
   },
   {
    "duration": 30,
    "start_time": "2022-06-17T10:12:18.941Z"
   },
   {
    "duration": 31,
    "start_time": "2022-06-17T10:12:18.973Z"
   },
   {
    "duration": 703,
    "start_time": "2022-06-17T10:12:34.619Z"
   },
   {
    "duration": 730,
    "start_time": "2022-06-17T10:13:03.586Z"
   },
   {
    "duration": 24,
    "start_time": "2022-06-17T10:22:00.592Z"
   },
   {
    "duration": 10,
    "start_time": "2022-06-17T10:22:57.310Z"
   },
   {
    "duration": 5,
    "start_time": "2022-06-17T10:23:09.379Z"
   },
   {
    "duration": 4,
    "start_time": "2022-06-17T10:23:11.078Z"
   },
   {
    "duration": 5,
    "start_time": "2022-06-17T10:23:12.300Z"
   },
   {
    "duration": 16,
    "start_time": "2022-06-17T10:23:27.737Z"
   },
   {
    "duration": 10,
    "start_time": "2022-06-17T10:23:28.429Z"
   },
   {
    "duration": 6,
    "start_time": "2022-06-17T10:23:29.530Z"
   },
   {
    "duration": 4,
    "start_time": "2022-06-17T10:23:30.063Z"
   },
   {
    "duration": 10,
    "start_time": "2022-06-17T10:23:53.986Z"
   },
   {
    "duration": 6,
    "start_time": "2022-06-17T10:24:07.818Z"
   },
   {
    "duration": 4,
    "start_time": "2022-06-17T10:24:08.368Z"
   },
   {
    "duration": 6,
    "start_time": "2022-06-17T10:24:08.759Z"
   },
   {
    "duration": 8,
    "start_time": "2022-06-17T10:24:16.925Z"
   },
   {
    "duration": 26,
    "start_time": "2022-06-17T10:24:19.686Z"
   },
   {
    "duration": 8,
    "start_time": "2022-06-17T10:24:20.281Z"
   },
   {
    "duration": 5,
    "start_time": "2022-06-17T10:24:21.221Z"
   },
   {
    "duration": 5,
    "start_time": "2022-06-17T10:24:21.658Z"
   },
   {
    "duration": 5,
    "start_time": "2022-06-17T10:24:22.408Z"
   },
   {
    "duration": 5,
    "start_time": "2022-06-17T10:24:48.270Z"
   },
   {
    "duration": 25,
    "start_time": "2022-06-17T10:25:44.751Z"
   },
   {
    "duration": 9,
    "start_time": "2022-06-17T10:25:45.399Z"
   },
   {
    "duration": 3,
    "start_time": "2022-06-17T10:25:45.891Z"
   },
   {
    "duration": 4,
    "start_time": "2022-06-17T10:25:46.531Z"
   },
   {
    "duration": 6,
    "start_time": "2022-06-17T10:25:59.332Z"
   },
   {
    "duration": 47,
    "start_time": "2022-06-17T10:26:05.999Z"
   },
   {
    "duration": 34,
    "start_time": "2022-06-17T10:26:07.979Z"
   },
   {
    "duration": 97,
    "start_time": "2022-06-17T10:26:10.902Z"
   },
   {
    "duration": 350,
    "start_time": "2022-06-17T10:26:11.832Z"
   },
   {
    "duration": 4085,
    "start_time": "2022-06-17T10:26:14.810Z"
   },
   {
    "duration": 8232,
    "start_time": "2022-06-17T10:26:21.191Z"
   },
   {
    "duration": 441,
    "start_time": "2022-06-17T10:26:52.710Z"
   },
   {
    "duration": 46,
    "start_time": "2022-06-17T10:26:55.001Z"
   },
   {
    "duration": 108,
    "start_time": "2022-06-17T10:26:56.288Z"
   },
   {
    "duration": 329,
    "start_time": "2022-06-17T10:26:57.620Z"
   },
   {
    "duration": 729,
    "start_time": "2022-06-17T10:27:01.682Z"
   },
   {
    "duration": 59,
    "start_time": "2022-06-17T10:27:06.557Z"
   },
   {
    "duration": 97,
    "start_time": "2022-06-17T10:27:07.904Z"
   },
   {
    "duration": 150,
    "start_time": "2022-06-17T10:27:10.824Z"
   },
   {
    "duration": 25,
    "start_time": "2022-06-17T10:27:12.848Z"
   },
   {
    "duration": 134,
    "start_time": "2022-06-17T10:27:13.686Z"
   },
   {
    "duration": 586,
    "start_time": "2022-06-17T10:27:16.431Z"
   },
   {
    "duration": 565,
    "start_time": "2022-06-17T10:27:44.309Z"
   },
   {
    "duration": 251,
    "start_time": "2022-06-17T10:28:18.811Z"
   },
   {
    "duration": 667,
    "start_time": "2022-06-17T10:29:01.110Z"
   },
   {
    "duration": 813,
    "start_time": "2022-06-17T10:29:07.239Z"
   },
   {
    "duration": 948,
    "start_time": "2022-06-17T10:29:15.708Z"
   },
   {
    "duration": 1167,
    "start_time": "2022-06-17T10:29:20.847Z"
   },
   {
    "duration": 1124,
    "start_time": "2022-06-17T10:29:25.977Z"
   },
   {
    "duration": 1251,
    "start_time": "2022-06-17T10:29:32.605Z"
   },
   {
    "duration": 582,
    "start_time": "2022-06-17T10:29:45.136Z"
   },
   {
    "duration": 25,
    "start_time": "2022-06-17T10:36:12.936Z"
   },
   {
    "duration": 25,
    "start_time": "2022-06-17T10:36:19.848Z"
   },
   {
    "duration": 155,
    "start_time": "2022-06-17T10:36:29.023Z"
   },
   {
    "duration": 25,
    "start_time": "2022-06-17T10:36:45.610Z"
   },
   {
    "duration": 14,
    "start_time": "2022-06-17T10:36:56.129Z"
   },
   {
    "duration": 8,
    "start_time": "2022-06-17T10:37:13.596Z"
   },
   {
    "duration": 19,
    "start_time": "2022-06-17T10:37:15.737Z"
   },
   {
    "duration": 10,
    "start_time": "2022-06-17T10:37:16.057Z"
   },
   {
    "duration": 5,
    "start_time": "2022-06-17T10:37:16.322Z"
   },
   {
    "duration": 5,
    "start_time": "2022-06-17T10:37:16.601Z"
   },
   {
    "duration": 6,
    "start_time": "2022-06-17T10:37:17.201Z"
   },
   {
    "duration": 29,
    "start_time": "2022-06-17T10:37:18.411Z"
   },
   {
    "duration": 32,
    "start_time": "2022-06-17T10:37:20.430Z"
   },
   {
    "duration": 183,
    "start_time": "2022-06-17T10:37:21.613Z"
   },
   {
    "duration": 366,
    "start_time": "2022-06-17T10:37:22.285Z"
   },
   {
    "duration": 4404,
    "start_time": "2022-06-17T10:37:23.830Z"
   },
   {
    "duration": 8638,
    "start_time": "2022-06-17T10:37:28.235Z"
   },
   {
    "duration": 339,
    "start_time": "2022-06-17T10:37:38.909Z"
   },
   {
    "duration": 44,
    "start_time": "2022-06-17T10:37:42.036Z"
   },
   {
    "duration": 159,
    "start_time": "2022-06-17T10:37:43.439Z"
   },
   {
    "duration": 384,
    "start_time": "2022-06-17T10:37:45.102Z"
   },
   {
    "duration": 661,
    "start_time": "2022-06-17T10:37:48.132Z"
   },
   {
    "duration": 67,
    "start_time": "2022-06-17T10:37:51.085Z"
   },
   {
    "duration": 84,
    "start_time": "2022-06-17T10:37:54.036Z"
   },
   {
    "duration": 155,
    "start_time": "2022-06-17T10:37:59.141Z"
   },
   {
    "duration": 26,
    "start_time": "2022-06-17T10:38:00.195Z"
   },
   {
    "duration": 36,
    "start_time": "2022-06-17T10:38:01.223Z"
   },
   {
    "duration": 232,
    "start_time": "2022-06-17T10:38:04.206Z"
   },
   {
    "duration": 955,
    "start_time": "2022-06-17T12:19:52.570Z"
   },
   {
    "duration": 173,
    "start_time": "2022-06-17T12:19:53.527Z"
   },
   {
    "duration": 12,
    "start_time": "2022-06-17T12:19:53.701Z"
   },
   {
    "duration": 14,
    "start_time": "2022-06-17T12:19:53.715Z"
   },
   {
    "duration": 15,
    "start_time": "2022-06-17T12:19:53.730Z"
   },
   {
    "duration": 6,
    "start_time": "2022-06-17T12:19:53.747Z"
   },
   {
    "duration": 11,
    "start_time": "2022-06-17T12:19:53.754Z"
   },
   {
    "duration": 18,
    "start_time": "2022-06-17T12:19:53.794Z"
   },
   {
    "duration": 5,
    "start_time": "2022-06-17T12:19:53.814Z"
   },
   {
    "duration": 3,
    "start_time": "2022-06-17T12:19:53.822Z"
   },
   {
    "duration": 6,
    "start_time": "2022-06-17T12:19:53.826Z"
   },
   {
    "duration": 7,
    "start_time": "2022-06-17T12:19:53.833Z"
   },
   {
    "duration": 54,
    "start_time": "2022-06-17T12:19:53.841Z"
   },
   {
    "duration": 32,
    "start_time": "2022-06-17T12:19:53.897Z"
   },
   {
    "duration": 66,
    "start_time": "2022-06-17T12:19:53.931Z"
   },
   {
    "duration": 384,
    "start_time": "2022-06-17T12:19:53.998Z"
   },
   {
    "duration": 3375,
    "start_time": "2022-06-17T12:19:54.383Z"
   },
   {
    "duration": 7259,
    "start_time": "2022-06-17T12:19:57.759Z"
   },
   {
    "duration": 289,
    "start_time": "2022-06-17T12:20:05.019Z"
   },
   {
    "duration": 31,
    "start_time": "2022-06-17T12:20:05.310Z"
   },
   {
    "duration": 53,
    "start_time": "2022-06-17T12:20:05.342Z"
   },
   {
    "duration": 378,
    "start_time": "2022-06-17T12:20:05.398Z"
   },
   {
    "duration": 540,
    "start_time": "2022-06-17T12:20:05.777Z"
   },
   {
    "duration": 56,
    "start_time": "2022-06-17T12:20:06.319Z"
   },
   {
    "duration": 51,
    "start_time": "2022-06-17T12:20:06.376Z"
   },
   {
    "duration": 288,
    "start_time": "2022-06-17T12:20:06.429Z"
   },
   {
    "duration": 20,
    "start_time": "2022-06-17T12:20:06.719Z"
   },
   {
    "duration": 18,
    "start_time": "2022-06-17T12:20:06.742Z"
   },
   {
    "duration": 309,
    "start_time": "2022-06-17T12:20:06.795Z"
   },
   {
    "duration": 3,
    "start_time": "2022-06-17T12:20:27.300Z"
   },
   {
    "duration": 45,
    "start_time": "2022-06-17T12:20:27.546Z"
   },
   {
    "duration": 11,
    "start_time": "2022-06-17T12:20:27.735Z"
   },
   {
    "duration": 10,
    "start_time": "2022-06-17T12:20:28.594Z"
   },
   {
    "duration": 14,
    "start_time": "2022-06-17T12:20:28.924Z"
   },
   {
    "duration": 7,
    "start_time": "2022-06-17T12:20:30.056Z"
   },
   {
    "duration": 10,
    "start_time": "2022-06-17T12:20:30.642Z"
   },
   {
    "duration": 16,
    "start_time": "2022-06-17T12:20:32.169Z"
   },
   {
    "duration": 6,
    "start_time": "2022-06-17T12:20:32.633Z"
   },
   {
    "duration": 4,
    "start_time": "2022-06-17T12:20:33.120Z"
   },
   {
    "duration": 4,
    "start_time": "2022-06-17T12:20:33.852Z"
   },
   {
    "duration": 4,
    "start_time": "2022-06-17T12:20:45.779Z"
   },
   {
    "duration": 3,
    "start_time": "2022-06-17T12:20:48.896Z"
   },
   {
    "duration": 3,
    "start_time": "2022-06-17T12:20:53.242Z"
   },
   {
    "duration": 4,
    "start_time": "2022-06-17T12:20:53.786Z"
   },
   {
    "duration": 4,
    "start_time": "2022-06-17T12:22:06.781Z"
   },
   {
    "duration": 3,
    "start_time": "2022-06-17T12:22:07.206Z"
   },
   {
    "duration": 3,
    "start_time": "2022-06-17T12:22:08.344Z"
   },
   {
    "duration": 3,
    "start_time": "2022-06-17T12:22:08.782Z"
   },
   {
    "duration": 24,
    "start_time": "2022-06-17T12:22:18.780Z"
   },
   {
    "duration": 6,
    "start_time": "2022-06-17T12:22:20.043Z"
   },
   {
    "duration": 4,
    "start_time": "2022-06-17T12:22:20.588Z"
   },
   {
    "duration": 4,
    "start_time": "2022-06-17T12:22:21.578Z"
   },
   {
    "duration": 4,
    "start_time": "2022-06-17T12:22:22.015Z"
   },
   {
    "duration": 4,
    "start_time": "2022-06-17T12:22:45.644Z"
   },
   {
    "duration": 5,
    "start_time": "2022-06-17T12:22:47.011Z"
   },
   {
    "duration": 16,
    "start_time": "2022-06-17T12:22:48.844Z"
   },
   {
    "duration": 4,
    "start_time": "2022-06-17T12:22:49.479Z"
   },
   {
    "duration": 4,
    "start_time": "2022-06-17T12:23:12.362Z"
   },
   {
    "duration": 3,
    "start_time": "2022-06-17T12:23:13.031Z"
   },
   {
    "duration": 4,
    "start_time": "2022-06-17T12:23:17.789Z"
   },
   {
    "duration": 3,
    "start_time": "2022-06-17T12:23:18.180Z"
   },
   {
    "duration": 4,
    "start_time": "2022-06-17T12:23:18.491Z"
   },
   {
    "duration": 4,
    "start_time": "2022-06-17T12:23:19.496Z"
   },
   {
    "duration": 16,
    "start_time": "2022-06-17T12:23:22.853Z"
   },
   {
    "duration": 5,
    "start_time": "2022-06-17T12:23:23.343Z"
   },
   {
    "duration": 3,
    "start_time": "2022-06-17T12:23:23.693Z"
   },
   {
    "duration": 4,
    "start_time": "2022-06-17T12:23:24.242Z"
   },
   {
    "duration": 3,
    "start_time": "2022-06-17T12:23:24.585Z"
   },
   {
    "duration": 7,
    "start_time": "2022-06-17T12:23:39.294Z"
   },
   {
    "duration": 38,
    "start_time": "2022-06-17T12:23:39.951Z"
   },
   {
    "duration": 41,
    "start_time": "2022-06-17T12:23:40.651Z"
   },
   {
    "duration": 20,
    "start_time": "2022-06-17T12:23:42.264Z"
   },
   {
    "duration": 292,
    "start_time": "2022-06-17T12:23:42.500Z"
   },
   {
    "duration": 3315,
    "start_time": "2022-06-17T12:23:43.344Z"
   },
   {
    "duration": 7301,
    "start_time": "2022-06-17T12:23:46.660Z"
   },
   {
    "duration": 289,
    "start_time": "2022-06-17T12:23:57.650Z"
   },
   {
    "duration": 36,
    "start_time": "2022-06-17T12:26:25.148Z"
   },
   {
    "duration": 24,
    "start_time": "2022-06-17T12:26:30.680Z"
   },
   {
    "duration": 3,
    "start_time": "2022-06-17T12:36:41.478Z"
   },
   {
    "duration": 52,
    "start_time": "2022-06-17T12:36:41.483Z"
   },
   {
    "duration": 9,
    "start_time": "2022-06-17T12:36:41.536Z"
   },
   {
    "duration": 10,
    "start_time": "2022-06-17T12:36:41.546Z"
   },
   {
    "duration": 13,
    "start_time": "2022-06-17T12:36:41.558Z"
   },
   {
    "duration": 11,
    "start_time": "2022-06-17T12:36:41.572Z"
   },
   {
    "duration": 14,
    "start_time": "2022-06-17T12:36:41.585Z"
   },
   {
    "duration": 55,
    "start_time": "2022-06-17T12:36:41.601Z"
   },
   {
    "duration": 4,
    "start_time": "2022-06-17T12:36:41.658Z"
   },
   {
    "duration": 7,
    "start_time": "2022-06-17T12:36:41.664Z"
   },
   {
    "duration": 6,
    "start_time": "2022-06-17T12:36:41.672Z"
   },
   {
    "duration": 3,
    "start_time": "2022-06-17T12:36:41.693Z"
   },
   {
    "duration": 6,
    "start_time": "2022-06-17T12:36:41.698Z"
   },
   {
    "duration": 24,
    "start_time": "2022-06-17T12:36:41.706Z"
   },
   {
    "duration": 29,
    "start_time": "2022-06-17T12:36:41.731Z"
   },
   {
    "duration": 40,
    "start_time": "2022-06-17T12:36:41.761Z"
   },
   {
    "duration": 479,
    "start_time": "2022-06-17T12:36:41.802Z"
   },
   {
    "duration": 3354,
    "start_time": "2022-06-17T12:36:42.283Z"
   },
   {
    "duration": 7261,
    "start_time": "2022-06-17T12:36:45.639Z"
   },
   {
    "duration": 294,
    "start_time": "2022-06-17T12:36:52.901Z"
   },
   {
    "duration": 294,
    "start_time": "2022-06-17T12:36:55.566Z"
   },
   {
    "duration": 20,
    "start_time": "2022-06-17T12:55:22.352Z"
   },
   {
    "duration": 576,
    "start_time": "2022-06-17T12:59:33.305Z"
   },
   {
    "duration": 56,
    "start_time": "2022-06-17T12:59:40.135Z"
   },
   {
    "duration": 21,
    "start_time": "2022-06-17T13:01:30.613Z"
   },
   {
    "duration": 3,
    "start_time": "2022-06-17T13:02:44.485Z"
   },
   {
    "duration": 47,
    "start_time": "2022-06-17T13:02:44.490Z"
   },
   {
    "duration": 11,
    "start_time": "2022-06-17T13:02:44.538Z"
   },
   {
    "duration": 15,
    "start_time": "2022-06-17T13:02:44.550Z"
   },
   {
    "duration": 17,
    "start_time": "2022-06-17T13:02:44.567Z"
   },
   {
    "duration": 7,
    "start_time": "2022-06-17T13:02:44.586Z"
   },
   {
    "duration": 12,
    "start_time": "2022-06-17T13:02:44.594Z"
   },
   {
    "duration": 15,
    "start_time": "2022-06-17T13:02:44.608Z"
   },
   {
    "duration": 4,
    "start_time": "2022-06-17T13:02:44.625Z"
   },
   {
    "duration": 13,
    "start_time": "2022-06-17T13:02:44.630Z"
   },
   {
    "duration": 10,
    "start_time": "2022-06-17T13:02:44.645Z"
   },
   {
    "duration": 7,
    "start_time": "2022-06-17T13:02:44.656Z"
   },
   {
    "duration": 12,
    "start_time": "2022-06-17T13:02:44.664Z"
   },
   {
    "duration": 24,
    "start_time": "2022-06-17T13:02:44.695Z"
   },
   {
    "duration": 31,
    "start_time": "2022-06-17T13:02:44.721Z"
   },
   {
    "duration": 326,
    "start_time": "2022-06-17T13:02:44.754Z"
   },
   {
    "duration": 27,
    "start_time": "2022-06-17T13:02:45.082Z"
   },
   {
    "duration": 3612,
    "start_time": "2022-06-17T13:02:45.110Z"
   },
   {
    "duration": 7507,
    "start_time": "2022-06-17T13:02:48.724Z"
   },
   {
    "duration": 32,
    "start_time": "2022-06-17T13:02:56.232Z"
   },
   {
    "duration": 38,
    "start_time": "2022-06-17T13:02:56.265Z"
   },
   {
    "duration": 534,
    "start_time": "2022-06-17T13:02:56.305Z"
   },
   {
    "duration": 682,
    "start_time": "2022-06-17T13:02:56.841Z"
   },
   {
    "duration": 70,
    "start_time": "2022-06-17T13:02:57.525Z"
   },
   {
    "duration": 45,
    "start_time": "2022-06-17T13:02:57.596Z"
   },
   {
    "duration": 299,
    "start_time": "2022-06-17T13:02:57.642Z"
   },
   {
    "duration": 23,
    "start_time": "2022-06-17T13:02:57.942Z"
   },
   {
    "duration": 36,
    "start_time": "2022-06-17T13:02:57.966Z"
   },
   {
    "duration": 219,
    "start_time": "2022-06-17T13:03:03.879Z"
   },
   {
    "duration": 17,
    "start_time": "2022-06-17T13:36:45.451Z"
   },
   {
    "duration": 18,
    "start_time": "2022-06-17T13:36:59.492Z"
   },
   {
    "duration": 114,
    "start_time": "2022-06-17T13:38:54.644Z"
   },
   {
    "duration": 3,
    "start_time": "2022-06-17T13:39:20.867Z"
   },
   {
    "duration": 46,
    "start_time": "2022-06-17T13:39:21.147Z"
   },
   {
    "duration": 11,
    "start_time": "2022-06-17T13:39:21.627Z"
   },
   {
    "duration": 12,
    "start_time": "2022-06-17T13:39:21.793Z"
   },
   {
    "duration": 14,
    "start_time": "2022-06-17T13:39:21.878Z"
   },
   {
    "duration": 6,
    "start_time": "2022-06-17T13:39:22.044Z"
   },
   {
    "duration": 14,
    "start_time": "2022-06-17T13:39:22.127Z"
   },
   {
    "duration": 25,
    "start_time": "2022-06-17T13:39:22.379Z"
   },
   {
    "duration": 6,
    "start_time": "2022-06-17T13:39:22.464Z"
   },
   {
    "duration": 4,
    "start_time": "2022-06-17T13:39:22.547Z"
   },
   {
    "duration": 4,
    "start_time": "2022-06-17T13:39:22.631Z"
   },
   {
    "duration": 3,
    "start_time": "2022-06-17T13:39:22.714Z"
   },
   {
    "duration": 6,
    "start_time": "2022-06-17T13:39:22.881Z"
   },
   {
    "duration": 27,
    "start_time": "2022-06-17T13:39:23.133Z"
   },
   {
    "duration": 34,
    "start_time": "2022-06-17T13:39:23.385Z"
   },
   {
    "duration": 351,
    "start_time": "2022-06-17T13:39:23.554Z"
   },
   {
    "duration": 19,
    "start_time": "2022-06-17T13:39:23.907Z"
   },
   {
    "duration": 3612,
    "start_time": "2022-06-17T13:39:23.997Z"
   },
   {
    "duration": 7776,
    "start_time": "2022-06-17T13:39:27.611Z"
   },
   {
    "duration": 36,
    "start_time": "2022-06-17T13:39:35.388Z"
   },
   {
    "duration": 70,
    "start_time": "2022-06-17T13:39:35.425Z"
   },
   {
    "duration": 7,
    "start_time": "2022-06-17T13:39:35.497Z"
   },
   {
    "duration": 389,
    "start_time": "2022-06-17T13:39:35.596Z"
   },
   {
    "duration": 10,
    "start_time": "2022-06-17T13:41:58.836Z"
   },
   {
    "duration": 3,
    "start_time": "2022-06-17T13:42:15.773Z"
   },
   {
    "duration": 12,
    "start_time": "2022-06-17T13:42:22.582Z"
   },
   {
    "duration": 26,
    "start_time": "2022-06-17T13:42:44.475Z"
   },
   {
    "duration": 280,
    "start_time": "2022-06-17T13:42:50.124Z"
   },
   {
    "duration": 147,
    "start_time": "2022-06-17T13:42:57.539Z"
   },
   {
    "duration": 28,
    "start_time": "2022-06-17T13:43:35.201Z"
   },
   {
    "duration": 33,
    "start_time": "2022-06-17T13:43:41.144Z"
   },
   {
    "duration": 97,
    "start_time": "2022-06-17T13:43:46.596Z"
   },
   {
    "duration": 8,
    "start_time": "2022-06-17T13:43:47.130Z"
   },
   {
    "duration": 33,
    "start_time": "2022-06-17T13:43:51.596Z"
   },
   {
    "duration": 22,
    "start_time": "2022-06-17T13:43:51.942Z"
   },
   {
    "duration": 10,
    "start_time": "2022-06-17T13:43:52.517Z"
   },
   {
    "duration": 99,
    "start_time": "2022-06-17T13:43:53.373Z"
   },
   {
    "duration": 9,
    "start_time": "2022-06-17T13:44:12.589Z"
   },
   {
    "duration": 393,
    "start_time": "2022-06-17T13:44:32.696Z"
   },
   {
    "duration": 316,
    "start_time": "2022-06-17T13:44:40.228Z"
   },
   {
    "duration": 334,
    "start_time": "2022-06-17T13:45:31.617Z"
   },
   {
    "duration": 333,
    "start_time": "2022-06-17T13:45:49.927Z"
   },
   {
    "duration": 26,
    "start_time": "2022-06-17T13:45:58.570Z"
   },
   {
    "duration": 38,
    "start_time": "2022-06-17T13:46:18.298Z"
   },
   {
    "duration": 131,
    "start_time": "2022-06-17T13:47:21.456Z"
   },
   {
    "duration": 21,
    "start_time": "2022-06-17T13:47:21.850Z"
   },
   {
    "duration": 19,
    "start_time": "2022-06-17T13:47:22.592Z"
   },
   {
    "duration": 247,
    "start_time": "2022-06-17T13:47:24.676Z"
   },
   {
    "duration": 32,
    "start_time": "2022-06-17T13:51:54.398Z"
   },
   {
    "duration": 22,
    "start_time": "2022-06-17T13:52:05.086Z"
   },
   {
    "duration": 301,
    "start_time": "2022-06-17T13:52:13.101Z"
   },
   {
    "duration": 27,
    "start_time": "2022-06-17T14:00:51.393Z"
   },
   {
    "duration": 35,
    "start_time": "2022-06-17T14:01:12.359Z"
   },
   {
    "duration": 25,
    "start_time": "2022-06-17T14:01:14.498Z"
   },
   {
    "duration": 323,
    "start_time": "2022-06-17T14:01:15.245Z"
   },
   {
    "duration": 1194,
    "start_time": "2022-06-17T15:09:21.561Z"
   },
   {
    "duration": 49,
    "start_time": "2022-06-17T15:09:22.757Z"
   },
   {
    "duration": 11,
    "start_time": "2022-06-17T15:09:22.807Z"
   },
   {
    "duration": 11,
    "start_time": "2022-06-17T15:09:22.820Z"
   },
   {
    "duration": 14,
    "start_time": "2022-06-17T15:09:22.832Z"
   },
   {
    "duration": 9,
    "start_time": "2022-06-17T15:09:22.847Z"
   },
   {
    "duration": 12,
    "start_time": "2022-06-17T15:09:22.858Z"
   },
   {
    "duration": 21,
    "start_time": "2022-06-17T15:09:22.897Z"
   },
   {
    "duration": 6,
    "start_time": "2022-06-17T15:09:22.921Z"
   },
   {
    "duration": 25,
    "start_time": "2022-06-17T15:09:22.929Z"
   },
   {
    "duration": 9,
    "start_time": "2022-06-17T15:09:22.955Z"
   },
   {
    "duration": 8,
    "start_time": "2022-06-17T15:09:22.965Z"
   },
   {
    "duration": 10,
    "start_time": "2022-06-17T15:09:22.975Z"
   },
   {
    "duration": 43,
    "start_time": "2022-06-17T15:09:22.987Z"
   },
   {
    "duration": 40,
    "start_time": "2022-06-17T15:09:23.032Z"
   },
   {
    "duration": 402,
    "start_time": "2022-06-17T15:09:23.074Z"
   },
   {
    "duration": 36,
    "start_time": "2022-06-17T15:09:23.478Z"
   },
   {
    "duration": 3962,
    "start_time": "2022-06-17T15:09:23.595Z"
   },
   {
    "duration": 7741,
    "start_time": "2022-06-17T15:09:27.558Z"
   },
   {
    "duration": 35,
    "start_time": "2022-06-17T15:09:35.301Z"
   },
   {
    "duration": 62,
    "start_time": "2022-06-17T15:09:35.338Z"
   },
   {
    "duration": 505,
    "start_time": "2022-06-17T15:09:35.401Z"
   },
   {
    "duration": 595,
    "start_time": "2022-06-17T15:09:35.907Z"
   },
   {
    "duration": 56,
    "start_time": "2022-06-17T15:09:36.504Z"
   },
   {
    "duration": 53,
    "start_time": "2022-06-17T15:09:36.562Z"
   },
   {
    "duration": 303,
    "start_time": "2022-06-17T15:09:36.616Z"
   },
   {
    "duration": 23,
    "start_time": "2022-06-17T15:09:36.920Z"
   },
   {
    "duration": 52,
    "start_time": "2022-06-17T15:09:36.947Z"
   },
   {
    "duration": 354,
    "start_time": "2022-06-17T15:09:37.001Z"
   },
   {
    "duration": 4,
    "start_time": "2022-06-17T15:10:31.040Z"
   },
   {
    "duration": 47,
    "start_time": "2022-06-17T15:10:33.160Z"
   },
   {
    "duration": 4,
    "start_time": "2022-06-17T15:21:10.105Z"
   },
   {
    "duration": 23,
    "start_time": "2022-06-17T15:21:11.315Z"
   },
   {
    "duration": 3,
    "start_time": "2022-06-17T15:21:32.276Z"
   },
   {
    "duration": 45,
    "start_time": "2022-06-17T15:21:32.526Z"
   },
   {
    "duration": 12,
    "start_time": "2022-06-17T15:21:33.213Z"
   },
   {
    "duration": 12,
    "start_time": "2022-06-17T15:21:34.326Z"
   },
   {
    "duration": 7,
    "start_time": "2022-06-17T15:21:35.911Z"
   },
   {
    "duration": 11,
    "start_time": "2022-06-17T15:21:37.624Z"
   },
   {
    "duration": 16,
    "start_time": "2022-06-17T15:21:39.509Z"
   },
   {
    "duration": 6,
    "start_time": "2022-06-17T15:21:41.325Z"
   },
   {
    "duration": 3,
    "start_time": "2022-06-17T15:21:41.927Z"
   },
   {
    "duration": 4,
    "start_time": "2022-06-17T15:21:42.721Z"
   },
   {
    "duration": 4,
    "start_time": "2022-06-17T15:21:43.161Z"
   },
   {
    "duration": 26,
    "start_time": "2022-06-17T15:21:48.309Z"
   },
   {
    "duration": 29,
    "start_time": "2022-06-17T15:22:50.519Z"
   },
   {
    "duration": 4,
    "start_time": "2022-06-17T15:23:07.950Z"
   },
   {
    "duration": 33,
    "start_time": "2022-06-17T15:23:14.326Z"
   },
   {
    "duration": 293,
    "start_time": "2022-06-17T15:23:16.648Z"
   },
   {
    "duration": 7696,
    "start_time": "2022-06-17T15:23:43.517Z"
   },
   {
    "duration": 7558,
    "start_time": "2022-06-17T15:24:01.113Z"
   },
   {
    "duration": 3,
    "start_time": "2022-06-17T15:26:59.006Z"
   },
   {
    "duration": 48,
    "start_time": "2022-06-17T15:26:59.011Z"
   },
   {
    "duration": 10,
    "start_time": "2022-06-17T15:26:59.061Z"
   },
   {
    "duration": 10,
    "start_time": "2022-06-17T15:26:59.073Z"
   },
   {
    "duration": 6,
    "start_time": "2022-06-17T15:26:59.085Z"
   },
   {
    "duration": 10,
    "start_time": "2022-06-17T15:26:59.092Z"
   },
   {
    "duration": 19,
    "start_time": "2022-06-17T15:26:59.104Z"
   },
   {
    "duration": 5,
    "start_time": "2022-06-17T15:26:59.125Z"
   },
   {
    "duration": 4,
    "start_time": "2022-06-17T15:26:59.131Z"
   },
   {
    "duration": 5,
    "start_time": "2022-06-17T15:26:59.136Z"
   },
   {
    "duration": 7,
    "start_time": "2022-06-17T15:26:59.142Z"
   },
   {
    "duration": 55,
    "start_time": "2022-06-17T15:26:59.150Z"
   },
   {
    "duration": 4,
    "start_time": "2022-06-17T15:26:59.207Z"
   },
   {
    "duration": 3458,
    "start_time": "2022-06-17T15:26:59.213Z"
   },
   {
    "duration": 7470,
    "start_time": "2022-06-17T15:27:02.673Z"
   },
   {
    "duration": 31,
    "start_time": "2022-06-17T15:27:10.144Z"
   },
   {
    "duration": 331,
    "start_time": "2022-06-17T15:27:10.176Z"
   },
   {
    "duration": 24,
    "start_time": "2022-06-17T15:27:10.509Z"
   },
   {
    "duration": 34,
    "start_time": "2022-06-17T15:27:44.721Z"
   },
   {
    "duration": 77,
    "start_time": "2022-06-17T15:27:47.323Z"
   },
   {
    "duration": 312,
    "start_time": "2022-06-17T15:27:48.324Z"
   },
   {
    "duration": 575,
    "start_time": "2022-06-17T15:30:15.048Z"
   },
   {
    "duration": 549,
    "start_time": "2022-06-17T15:31:14.826Z"
   },
   {
    "duration": 218,
    "start_time": "2022-06-17T15:37:09.072Z"
   },
   {
    "duration": 232,
    "start_time": "2022-06-17T15:38:15.823Z"
   },
   {
    "duration": 16,
    "start_time": "2022-06-17T15:39:56.057Z"
   },
   {
    "duration": 5,
    "start_time": "2022-06-17T15:39:56.642Z"
   },
   {
    "duration": 4,
    "start_time": "2022-06-17T15:39:57.014Z"
   },
   {
    "duration": 3,
    "start_time": "2022-06-17T15:39:57.354Z"
   },
   {
    "duration": 4,
    "start_time": "2022-06-17T15:39:57.671Z"
   },
   {
    "duration": 16,
    "start_time": "2022-06-17T15:44:40.506Z"
   },
   {
    "duration": 24,
    "start_time": "2022-06-17T15:44:49.375Z"
   },
   {
    "duration": 10,
    "start_time": "2022-06-17T15:44:50.363Z"
   },
   {
    "duration": 11,
    "start_time": "2022-06-17T15:45:05.147Z"
   },
   {
    "duration": 29,
    "start_time": "2022-06-17T15:45:45.806Z"
   },
   {
    "duration": 10,
    "start_time": "2022-06-17T15:45:54.214Z"
   },
   {
    "duration": 10,
    "start_time": "2022-06-17T15:45:56.946Z"
   },
   {
    "duration": 29,
    "start_time": "2022-06-17T15:46:04.410Z"
   },
   {
    "duration": 9,
    "start_time": "2022-06-17T15:46:05.025Z"
   },
   {
    "duration": 11,
    "start_time": "2022-06-17T15:46:05.567Z"
   },
   {
    "duration": 31,
    "start_time": "2022-06-17T15:47:37.186Z"
   },
   {
    "duration": 16,
    "start_time": "2022-06-17T15:47:41.104Z"
   },
   {
    "duration": 16,
    "start_time": "2022-06-17T15:47:45.496Z"
   },
   {
    "duration": 24,
    "start_time": "2022-06-17T15:47:51.495Z"
   },
   {
    "duration": 10,
    "start_time": "2022-06-17T15:47:56.577Z"
   },
   {
    "duration": 11,
    "start_time": "2022-06-17T15:47:57.576Z"
   },
   {
    "duration": 22,
    "start_time": "2022-06-17T15:49:19.918Z"
   },
   {
    "duration": 27,
    "start_time": "2022-06-17T15:49:34.530Z"
   },
   {
    "duration": 15,
    "start_time": "2022-06-17T15:49:37.916Z"
   },
   {
    "duration": 26,
    "start_time": "2022-06-17T15:49:58.620Z"
   },
   {
    "duration": 14,
    "start_time": "2022-06-17T15:50:00.503Z"
   },
   {
    "duration": 10,
    "start_time": "2022-06-17T15:50:02.612Z"
   },
   {
    "duration": 23,
    "start_time": "2022-06-17T15:52:21.119Z"
   },
   {
    "duration": 10,
    "start_time": "2022-06-17T15:52:22.106Z"
   },
   {
    "duration": 10,
    "start_time": "2022-06-17T15:52:37.768Z"
   },
   {
    "duration": 10,
    "start_time": "2022-06-17T15:52:46.456Z"
   },
   {
    "duration": 9,
    "start_time": "2022-06-17T15:53:06.569Z"
   },
   {
    "duration": 12,
    "start_time": "2022-06-17T15:53:07.451Z"
   },
   {
    "duration": 5,
    "start_time": "2022-06-17T15:53:29.976Z"
   },
   {
    "duration": 3354,
    "start_time": "2022-06-17T15:53:30.620Z"
   },
   {
    "duration": 7354,
    "start_time": "2022-06-17T15:53:33.976Z"
   },
   {
    "duration": 34,
    "start_time": "2022-06-17T15:53:41.332Z"
   },
   {
    "duration": 343,
    "start_time": "2022-06-17T15:53:41.369Z"
   },
   {
    "duration": 85,
    "start_time": "2022-06-17T15:53:41.713Z"
   },
   {
    "duration": 121,
    "start_time": "2022-06-17T15:53:41.799Z"
   },
   {
    "duration": 330,
    "start_time": "2022-06-17T15:53:41.922Z"
   },
   {
    "duration": 44,
    "start_time": "2022-06-17T15:53:42.254Z"
   },
   {
    "duration": 228,
    "start_time": "2022-06-17T15:53:42.303Z"
   },
   {
    "duration": 552,
    "start_time": "2022-06-17T15:53:42.533Z"
   },
   {
    "duration": 107,
    "start_time": "2022-06-17T15:53:43.087Z"
   },
   {
    "duration": 103,
    "start_time": "2022-06-17T15:53:43.196Z"
   },
   {
    "duration": 141,
    "start_time": "2022-06-17T15:53:43.300Z"
   },
   {
    "duration": 56,
    "start_time": "2022-06-17T15:53:43.442Z"
   },
   {
    "duration": 240,
    "start_time": "2022-06-17T15:53:47.942Z"
   },
   {
    "duration": 63,
    "start_time": "2022-06-17T15:57:41.813Z"
   },
   {
    "duration": 635,
    "start_time": "2022-06-17T15:58:05.259Z"
   },
   {
    "duration": 58,
    "start_time": "2022-06-17T15:58:17.539Z"
   },
   {
    "duration": 24,
    "start_time": "2022-06-17T15:58:28.732Z"
   },
   {
    "duration": 154,
    "start_time": "2022-06-17T15:58:40.762Z"
   },
   {
    "duration": 83,
    "start_time": "2022-06-17T15:58:55.012Z"
   },
   {
    "duration": 234,
    "start_time": "2022-06-17T15:59:05.356Z"
   },
   {
    "duration": 258,
    "start_time": "2022-06-17T15:59:11.004Z"
   },
   {
    "duration": 262,
    "start_time": "2022-06-17T16:00:54.411Z"
   },
   {
    "duration": 44,
    "start_time": "2022-06-18T10:11:27.142Z"
   },
   {
    "duration": 1368,
    "start_time": "2022-06-18T10:11:31.658Z"
   },
   {
    "duration": 168,
    "start_time": "2022-06-18T10:11:33.029Z"
   },
   {
    "duration": 12,
    "start_time": "2022-06-18T10:11:33.199Z"
   },
   {
    "duration": 11,
    "start_time": "2022-06-18T10:11:33.213Z"
   },
   {
    "duration": 7,
    "start_time": "2022-06-18T10:11:33.226Z"
   },
   {
    "duration": 10,
    "start_time": "2022-06-18T10:11:33.234Z"
   },
   {
    "duration": 18,
    "start_time": "2022-06-18T10:11:33.246Z"
   },
   {
    "duration": 5,
    "start_time": "2022-06-18T10:11:33.265Z"
   },
   {
    "duration": 7,
    "start_time": "2022-06-18T10:11:33.271Z"
   },
   {
    "duration": 8,
    "start_time": "2022-06-18T10:11:33.279Z"
   },
   {
    "duration": 8,
    "start_time": "2022-06-18T10:11:33.288Z"
   },
   {
    "duration": 50,
    "start_time": "2022-06-18T10:11:33.298Z"
   },
   {
    "duration": 10,
    "start_time": "2022-06-18T10:11:33.349Z"
   },
   {
    "duration": 7,
    "start_time": "2022-06-18T10:11:33.361Z"
   },
   {
    "duration": 3582,
    "start_time": "2022-06-18T10:11:33.369Z"
   },
   {
    "duration": 7673,
    "start_time": "2022-06-18T10:11:36.953Z"
   },
   {
    "duration": 31,
    "start_time": "2022-06-18T10:11:44.628Z"
   },
   {
    "duration": 319,
    "start_time": "2022-06-18T10:11:44.661Z"
   },
   {
    "duration": 53,
    "start_time": "2022-06-18T10:11:44.982Z"
   },
   {
    "duration": 36,
    "start_time": "2022-06-18T10:11:45.126Z"
   },
   {
    "duration": 397,
    "start_time": "2022-06-18T10:11:45.164Z"
   },
   {
    "duration": 74,
    "start_time": "2022-06-18T10:11:45.563Z"
   },
   {
    "duration": 148,
    "start_time": "2022-06-18T10:11:45.725Z"
   },
   {
    "duration": 611,
    "start_time": "2022-06-18T10:11:45.874Z"
   },
   {
    "duration": 145,
    "start_time": "2022-06-18T10:11:46.487Z"
   },
   {
    "duration": 200,
    "start_time": "2022-06-18T10:11:46.635Z"
   },
   {
    "duration": 193,
    "start_time": "2022-06-18T10:11:46.837Z"
   },
   {
    "duration": 95,
    "start_time": "2022-06-18T10:11:47.032Z"
   },
   {
    "duration": 244,
    "start_time": "2022-06-18T10:11:47.129Z"
   },
   {
    "duration": 70,
    "start_time": "2022-06-19T14:27:55.123Z"
   },
   {
    "duration": 1617,
    "start_time": "2022-06-19T14:27:58.710Z"
   },
   {
    "duration": 135,
    "start_time": "2022-06-19T14:28:00.329Z"
   },
   {
    "duration": 24,
    "start_time": "2022-06-19T14:28:00.466Z"
   },
   {
    "duration": 22,
    "start_time": "2022-06-19T14:28:00.493Z"
   },
   {
    "duration": 11,
    "start_time": "2022-06-19T14:28:00.517Z"
   },
   {
    "duration": 51,
    "start_time": "2022-06-19T14:28:00.530Z"
   },
   {
    "duration": 30,
    "start_time": "2022-06-19T14:28:00.584Z"
   },
   {
    "duration": 8,
    "start_time": "2022-06-19T14:28:00.616Z"
   },
   {
    "duration": 11,
    "start_time": "2022-06-19T14:28:00.626Z"
   },
   {
    "duration": 27,
    "start_time": "2022-06-19T14:28:00.639Z"
   },
   {
    "duration": 28,
    "start_time": "2022-06-19T14:28:00.668Z"
   },
   {
    "duration": 56,
    "start_time": "2022-06-19T14:28:00.698Z"
   },
   {
    "duration": 27,
    "start_time": "2022-06-19T14:28:00.756Z"
   },
   {
    "duration": 25,
    "start_time": "2022-06-19T14:28:00.787Z"
   },
   {
    "duration": 4232,
    "start_time": "2022-06-19T14:28:00.813Z"
   },
   {
    "duration": 9632,
    "start_time": "2022-06-19T14:28:05.046Z"
   },
   {
    "duration": 36,
    "start_time": "2022-06-19T14:28:14.684Z"
   },
   {
    "duration": 389,
    "start_time": "2022-06-19T14:28:14.722Z"
   },
   {
    "duration": 53,
    "start_time": "2022-06-19T14:28:15.112Z"
   },
   {
    "duration": 128,
    "start_time": "2022-06-19T14:28:15.169Z"
   },
   {
    "duration": 463,
    "start_time": "2022-06-19T14:28:15.298Z"
   },
   {
    "duration": 107,
    "start_time": "2022-06-19T14:28:15.763Z"
   },
   {
    "duration": 134,
    "start_time": "2022-06-19T14:28:15.884Z"
   },
   {
    "duration": 735,
    "start_time": "2022-06-19T14:28:16.020Z"
   },
   {
    "duration": 207,
    "start_time": "2022-06-19T14:28:16.757Z"
   },
   {
    "duration": 121,
    "start_time": "2022-06-19T14:28:16.969Z"
   },
   {
    "duration": 206,
    "start_time": "2022-06-19T14:28:17.092Z"
   },
   {
    "duration": 87,
    "start_time": "2022-06-19T14:28:17.300Z"
   },
   {
    "duration": 350,
    "start_time": "2022-06-19T14:28:17.468Z"
   },
   {
    "duration": 188,
    "start_time": "2022-06-19T14:28:20.941Z"
   },
   {
    "duration": 361,
    "start_time": "2022-06-19T14:28:32.052Z"
   },
   {
    "duration": 349,
    "start_time": "2022-06-19T14:28:41.698Z"
   },
   {
    "duration": 473,
    "start_time": "2022-06-19T14:29:17.446Z"
   },
   {
    "duration": 10,
    "start_time": "2022-06-19T14:29:31.761Z"
   },
   {
    "duration": 59,
    "start_time": "2022-06-19T14:29:34.821Z"
   },
   {
    "duration": 13,
    "start_time": "2022-06-19T14:29:35.023Z"
   },
   {
    "duration": 12,
    "start_time": "2022-06-19T14:29:35.513Z"
   },
   {
    "duration": 7,
    "start_time": "2022-06-19T14:29:36.211Z"
   },
   {
    "duration": 13,
    "start_time": "2022-06-19T14:29:36.394Z"
   },
   {
    "duration": 24,
    "start_time": "2022-06-19T14:29:36.545Z"
   },
   {
    "duration": 6,
    "start_time": "2022-06-19T14:29:36.626Z"
   },
   {
    "duration": 4,
    "start_time": "2022-06-19T14:29:36.796Z"
   },
   {
    "duration": 4,
    "start_time": "2022-06-19T14:29:36.961Z"
   },
   {
    "duration": 4,
    "start_time": "2022-06-19T14:29:37.154Z"
   },
   {
    "duration": 42,
    "start_time": "2022-06-19T14:29:37.390Z"
   },
   {
    "duration": 14,
    "start_time": "2022-06-19T14:29:37.466Z"
   },
   {
    "duration": 5,
    "start_time": "2022-06-19T14:29:37.808Z"
   },
   {
    "duration": 4185,
    "start_time": "2022-06-19T14:29:38.052Z"
   },
   {
    "duration": 9470,
    "start_time": "2022-06-19T14:29:42.239Z"
   },
   {
    "duration": 34,
    "start_time": "2022-06-19T14:29:51.712Z"
   },
   {
    "duration": 391,
    "start_time": "2022-06-19T14:29:51.760Z"
   },
   {
    "duration": 122,
    "start_time": "2022-06-19T14:29:52.153Z"
   },
   {
    "duration": 140,
    "start_time": "2022-06-19T14:29:52.283Z"
   },
   {
    "duration": 394,
    "start_time": "2022-06-19T14:29:52.425Z"
   },
   {
    "duration": 56,
    "start_time": "2022-06-19T14:29:52.822Z"
   },
   {
    "duration": 159,
    "start_time": "2022-06-19T14:29:52.967Z"
   },
   {
    "duration": 705,
    "start_time": "2022-06-19T14:29:53.128Z"
   },
   {
    "duration": 139,
    "start_time": "2022-06-19T14:29:53.835Z"
   },
   {
    "duration": 189,
    "start_time": "2022-06-19T14:29:53.983Z"
   },
   {
    "duration": 204,
    "start_time": "2022-06-19T14:29:54.175Z"
   },
   {
    "duration": 179,
    "start_time": "2022-06-19T14:29:54.382Z"
   },
   {
    "duration": 532,
    "start_time": "2022-06-19T14:29:54.564Z"
   },
   {
    "duration": 457,
    "start_time": "2022-06-19T14:31:06.128Z"
   },
   {
    "duration": 448,
    "start_time": "2022-06-19T14:31:31.855Z"
   },
   {
    "duration": 399,
    "start_time": "2022-06-19T14:32:38.422Z"
   },
   {
    "duration": 9,
    "start_time": "2022-06-19T14:34:17.490Z"
   },
   {
    "duration": 114,
    "start_time": "2022-06-19T14:34:17.501Z"
   },
   {
    "duration": 16,
    "start_time": "2022-06-19T14:34:17.617Z"
   },
   {
    "duration": 25,
    "start_time": "2022-06-19T14:34:17.636Z"
   },
   {
    "duration": 33,
    "start_time": "2022-06-19T14:34:17.666Z"
   },
   {
    "duration": 28,
    "start_time": "2022-06-19T14:34:17.701Z"
   },
   {
    "duration": 24,
    "start_time": "2022-06-19T14:34:17.731Z"
   },
   {
    "duration": 12,
    "start_time": "2022-06-19T14:34:17.757Z"
   },
   {
    "duration": 22,
    "start_time": "2022-06-19T14:34:17.782Z"
   },
   {
    "duration": 8,
    "start_time": "2022-06-19T14:34:17.806Z"
   },
   {
    "duration": 6,
    "start_time": "2022-06-19T14:34:17.815Z"
   },
   {
    "duration": 29,
    "start_time": "2022-06-19T14:34:17.823Z"
   },
   {
    "duration": 22,
    "start_time": "2022-06-19T14:34:17.854Z"
   },
   {
    "duration": 25,
    "start_time": "2022-06-19T14:34:17.881Z"
   },
   {
    "duration": 4290,
    "start_time": "2022-06-19T14:34:17.908Z"
   },
   {
    "duration": 9307,
    "start_time": "2022-06-19T14:34:22.200Z"
   },
   {
    "duration": 34,
    "start_time": "2022-06-19T14:34:31.510Z"
   },
   {
    "duration": 378,
    "start_time": "2022-06-19T14:34:31.562Z"
   },
   {
    "duration": 218,
    "start_time": "2022-06-19T14:34:31.942Z"
   },
   {
    "duration": 48,
    "start_time": "2022-06-19T14:34:32.162Z"
   },
   {
    "duration": 414,
    "start_time": "2022-06-19T14:34:32.211Z"
   },
   {
    "duration": 137,
    "start_time": "2022-06-19T14:34:32.627Z"
   },
   {
    "duration": 185,
    "start_time": "2022-06-19T14:34:32.766Z"
   },
   {
    "duration": 757,
    "start_time": "2022-06-19T14:34:32.953Z"
   },
   {
    "duration": 155,
    "start_time": "2022-06-19T14:34:33.712Z"
   },
   {
    "duration": 139,
    "start_time": "2022-06-19T14:34:33.870Z"
   },
   {
    "duration": 217,
    "start_time": "2022-06-19T14:34:34.011Z"
   },
   {
    "duration": 56,
    "start_time": "2022-06-19T14:34:34.230Z"
   },
   {
    "duration": 465,
    "start_time": "2022-06-19T14:34:34.369Z"
   },
   {
    "duration": 486,
    "start_time": "2022-06-19T14:36:02.219Z"
   },
   {
    "duration": 473,
    "start_time": "2022-06-19T14:36:46.022Z"
   },
   {
    "duration": 430,
    "start_time": "2022-06-19T14:40:38.499Z"
   },
   {
    "duration": 556,
    "start_time": "2022-06-19T14:41:24.116Z"
   },
   {
    "duration": 25,
    "start_time": "2022-06-19T14:50:13.955Z"
   },
   {
    "duration": 6,
    "start_time": "2022-06-19T14:50:14.507Z"
   },
   {
    "duration": 13,
    "start_time": "2022-06-19T14:50:15.565Z"
   },
   {
    "duration": 3,
    "start_time": "2022-06-19T14:50:17.881Z"
   },
   {
    "duration": 4,
    "start_time": "2022-06-19T14:50:18.871Z"
   },
   {
    "duration": 34,
    "start_time": "2022-06-19T14:51:36.423Z"
   },
   {
    "duration": 11,
    "start_time": "2022-06-19T14:51:39.298Z"
   },
   {
    "duration": 6,
    "start_time": "2022-06-19T14:51:44.860Z"
   },
   {
    "duration": 3810,
    "start_time": "2022-06-19T14:51:46.768Z"
   },
   {
    "duration": 8369,
    "start_time": "2022-06-19T14:51:50.580Z"
   },
   {
    "duration": 36,
    "start_time": "2022-06-19T14:52:01.592Z"
   },
   {
    "duration": 350,
    "start_time": "2022-06-19T14:52:02.849Z"
   },
   {
    "duration": 24,
    "start_time": "2022-06-19T14:52:04.058Z"
   },
   {
    "duration": 36,
    "start_time": "2022-06-19T14:52:07.045Z"
   },
   {
    "duration": 340,
    "start_time": "2022-06-19T14:52:08.919Z"
   },
   {
    "duration": 27,
    "start_time": "2022-06-19T14:52:11.816Z"
   },
   {
    "duration": 64,
    "start_time": "2022-06-19T14:52:15.106Z"
   },
   {
    "duration": 710,
    "start_time": "2022-06-19T14:52:16.827Z"
   },
   {
    "duration": 62,
    "start_time": "2022-06-19T14:52:23.205Z"
   },
   {
    "duration": 25,
    "start_time": "2022-06-19T14:52:29.455Z"
   },
   {
    "duration": 175,
    "start_time": "2022-06-19T14:52:30.405Z"
   },
   {
    "duration": 80,
    "start_time": "2022-06-19T14:52:31.092Z"
   },
   {
    "duration": 457,
    "start_time": "2022-06-19T14:52:33.360Z"
   },
   {
    "duration": 448,
    "start_time": "2022-06-19T14:54:38.581Z"
   },
   {
    "duration": 506,
    "start_time": "2022-06-19T14:55:07.400Z"
   },
   {
    "duration": 1578,
    "start_time": "2022-06-19T15:00:12.356Z"
   },
   {
    "duration": 61,
    "start_time": "2022-06-19T15:00:13.936Z"
   },
   {
    "duration": 12,
    "start_time": "2022-06-19T15:00:13.999Z"
   },
   {
    "duration": 24,
    "start_time": "2022-06-19T15:00:14.012Z"
   },
   {
    "duration": 8,
    "start_time": "2022-06-19T15:00:14.038Z"
   },
   {
    "duration": 23,
    "start_time": "2022-06-19T15:00:14.048Z"
   },
   {
    "duration": 18,
    "start_time": "2022-06-19T15:00:14.073Z"
   },
   {
    "duration": 5,
    "start_time": "2022-06-19T15:00:14.093Z"
   },
   {
    "duration": 10,
    "start_time": "2022-06-19T15:00:14.099Z"
   },
   {
    "duration": 5,
    "start_time": "2022-06-19T15:00:14.111Z"
   },
   {
    "duration": 7,
    "start_time": "2022-06-19T15:00:14.118Z"
   },
   {
    "duration": 65,
    "start_time": "2022-06-19T15:00:14.127Z"
   },
   {
    "duration": 16,
    "start_time": "2022-06-19T15:00:14.195Z"
   },
   {
    "duration": 7,
    "start_time": "2022-06-19T15:00:14.215Z"
   },
   {
    "duration": 4011,
    "start_time": "2022-06-19T15:00:14.223Z"
   },
   {
    "duration": 8598,
    "start_time": "2022-06-19T15:00:18.236Z"
   },
   {
    "duration": 48,
    "start_time": "2022-06-19T15:00:26.835Z"
   },
   {
    "duration": 355,
    "start_time": "2022-06-19T15:00:26.885Z"
   },
   {
    "duration": 38,
    "start_time": "2022-06-19T15:00:27.242Z"
   },
   {
    "duration": 204,
    "start_time": "2022-06-19T15:00:27.282Z"
   },
   {
    "duration": 385,
    "start_time": "2022-06-19T15:00:27.488Z"
   },
   {
    "duration": 107,
    "start_time": "2022-06-19T15:00:27.877Z"
   },
   {
    "duration": 73,
    "start_time": "2022-06-19T15:00:28.059Z"
   },
   {
    "duration": 685,
    "start_time": "2022-06-19T15:00:28.133Z"
   },
   {
    "duration": 144,
    "start_time": "2022-06-19T15:00:28.819Z"
   },
   {
    "duration": 114,
    "start_time": "2022-06-19T15:00:28.964Z"
   },
   {
    "duration": 211,
    "start_time": "2022-06-19T15:00:29.080Z"
   },
   {
    "duration": 74,
    "start_time": "2022-06-19T15:00:29.293Z"
   },
   {
    "duration": 615,
    "start_time": "2022-06-19T15:00:29.374Z"
   },
   {
    "duration": 306,
    "start_time": "2022-06-19T15:00:29.991Z"
   },
   {
    "duration": 61,
    "start_time": "2022-06-19T15:02:54.951Z"
   },
   {
    "duration": 49,
    "start_time": "2022-06-19T15:03:39.693Z"
   },
   {
    "duration": 4,
    "start_time": "2022-06-19T15:36:42.219Z"
   },
   {
    "duration": 108,
    "start_time": "2022-06-19T15:47:47.314Z"
   },
   {
    "duration": 94,
    "start_time": "2022-06-19T15:47:56.331Z"
   },
   {
    "duration": 3,
    "start_time": "2022-06-19T15:48:41.748Z"
   },
   {
    "duration": 52,
    "start_time": "2022-06-19T15:48:41.753Z"
   },
   {
    "duration": 10,
    "start_time": "2022-06-19T15:48:41.807Z"
   },
   {
    "duration": 10,
    "start_time": "2022-06-19T15:48:41.819Z"
   },
   {
    "duration": 6,
    "start_time": "2022-06-19T15:48:41.831Z"
   },
   {
    "duration": 27,
    "start_time": "2022-06-19T15:48:41.838Z"
   },
   {
    "duration": 17,
    "start_time": "2022-06-19T15:48:41.866Z"
   },
   {
    "duration": 6,
    "start_time": "2022-06-19T15:48:41.884Z"
   },
   {
    "duration": 6,
    "start_time": "2022-06-19T15:48:41.891Z"
   },
   {
    "duration": 5,
    "start_time": "2022-06-19T15:48:41.899Z"
   },
   {
    "duration": 5,
    "start_time": "2022-06-19T15:48:41.905Z"
   },
   {
    "duration": 63,
    "start_time": "2022-06-19T15:48:41.912Z"
   },
   {
    "duration": 10,
    "start_time": "2022-06-19T15:48:41.977Z"
   },
   {
    "duration": 6,
    "start_time": "2022-06-19T15:48:41.989Z"
   },
   {
    "duration": 7,
    "start_time": "2022-06-19T15:48:41.997Z"
   },
   {
    "duration": 3726,
    "start_time": "2022-06-19T15:48:42.005Z"
   },
   {
    "duration": 8290,
    "start_time": "2022-06-19T15:48:45.734Z"
   },
   {
    "duration": 40,
    "start_time": "2022-06-19T15:48:54.026Z"
   },
   {
    "duration": 337,
    "start_time": "2022-06-19T15:48:54.068Z"
   },
   {
    "duration": 59,
    "start_time": "2022-06-19T15:48:54.407Z"
   },
   {
    "duration": 122,
    "start_time": "2022-06-19T15:48:54.472Z"
   },
   {
    "duration": 368,
    "start_time": "2022-06-19T15:48:54.596Z"
   },
   {
    "duration": 94,
    "start_time": "2022-06-19T15:48:54.966Z"
   },
   {
    "duration": 156,
    "start_time": "2022-06-19T15:48:55.062Z"
   },
   {
    "duration": 666,
    "start_time": "2022-06-19T15:48:55.220Z"
   },
   {
    "duration": 171,
    "start_time": "2022-06-19T15:48:55.888Z"
   },
   {
    "duration": 117,
    "start_time": "2022-06-19T15:48:56.061Z"
   },
   {
    "duration": 179,
    "start_time": "2022-06-19T15:48:56.180Z"
   },
   {
    "duration": 103,
    "start_time": "2022-06-19T15:48:56.361Z"
   },
   {
    "duration": 615,
    "start_time": "2022-06-19T15:48:56.466Z"
   },
   {
    "duration": 140,
    "start_time": "2022-06-19T15:48:57.083Z"
   },
   {
    "duration": 111,
    "start_time": "2022-06-19T15:49:00.640Z"
   },
   {
    "duration": 105,
    "start_time": "2022-06-19T15:49:42.788Z"
   },
   {
    "duration": 127,
    "start_time": "2022-06-19T15:49:55.967Z"
   },
   {
    "duration": 131,
    "start_time": "2022-06-19T15:50:36.020Z"
   },
   {
    "duration": 63,
    "start_time": "2022-06-19T15:50:51.331Z"
   },
   {
    "duration": 63,
    "start_time": "2022-06-19T15:51:42.843Z"
   },
   {
    "duration": 291,
    "start_time": "2022-06-19T15:51:44.750Z"
   },
   {
    "duration": 141,
    "start_time": "2022-06-19T15:57:24.229Z"
   },
   {
    "duration": 44,
    "start_time": "2022-06-19T15:59:10.601Z"
   },
   {
    "duration": 34,
    "start_time": "2022-06-19T16:01:16.614Z"
   },
   {
    "duration": 23,
    "start_time": "2022-06-19T16:01:50.068Z"
   },
   {
    "duration": 19,
    "start_time": "2022-06-19T16:02:41.129Z"
   },
   {
    "duration": 23,
    "start_time": "2022-06-19T16:02:48.216Z"
   },
   {
    "duration": 181,
    "start_time": "2022-06-19T16:06:08.560Z"
   },
   {
    "duration": 189,
    "start_time": "2022-06-19T16:06:21.372Z"
   },
   {
    "duration": 161,
    "start_time": "2022-06-19T16:06:36.111Z"
   },
   {
    "duration": 205,
    "start_time": "2022-06-19T16:07:01.716Z"
   },
   {
    "duration": 659,
    "start_time": "2022-06-19T16:07:07.521Z"
   },
   {
    "duration": 3,
    "start_time": "2022-06-19T16:07:18.709Z"
   },
   {
    "duration": 111,
    "start_time": "2022-06-19T16:07:18.714Z"
   },
   {
    "duration": 11,
    "start_time": "2022-06-19T16:07:18.826Z"
   },
   {
    "duration": 21,
    "start_time": "2022-06-19T16:07:18.839Z"
   },
   {
    "duration": 9,
    "start_time": "2022-06-19T16:07:18.862Z"
   },
   {
    "duration": 18,
    "start_time": "2022-06-19T16:07:18.873Z"
   },
   {
    "duration": 30,
    "start_time": "2022-06-19T16:07:18.893Z"
   },
   {
    "duration": 6,
    "start_time": "2022-06-19T16:07:18.924Z"
   },
   {
    "duration": 31,
    "start_time": "2022-06-19T16:07:18.931Z"
   },
   {
    "duration": 14,
    "start_time": "2022-06-19T16:07:18.964Z"
   },
   {
    "duration": 10,
    "start_time": "2022-06-19T16:07:18.980Z"
   },
   {
    "duration": 50,
    "start_time": "2022-06-19T16:07:18.992Z"
   },
   {
    "duration": 26,
    "start_time": "2022-06-19T16:07:19.044Z"
   },
   {
    "duration": 7,
    "start_time": "2022-06-19T16:07:19.074Z"
   },
   {
    "duration": 13,
    "start_time": "2022-06-19T16:07:19.082Z"
   },
   {
    "duration": 3790,
    "start_time": "2022-06-19T16:07:19.096Z"
   },
   {
    "duration": 8447,
    "start_time": "2022-06-19T16:07:22.889Z"
   },
   {
    "duration": 47,
    "start_time": "2022-06-19T16:07:31.337Z"
   },
   {
    "duration": 357,
    "start_time": "2022-06-19T16:07:31.386Z"
   },
   {
    "duration": 116,
    "start_time": "2022-06-19T16:07:31.744Z"
   },
   {
    "duration": 140,
    "start_time": "2022-06-19T16:07:31.863Z"
   },
   {
    "duration": 367,
    "start_time": "2022-06-19T16:07:32.005Z"
   },
   {
    "duration": 94,
    "start_time": "2022-06-19T16:07:32.374Z"
   },
   {
    "duration": 248,
    "start_time": "2022-06-19T16:07:32.473Z"
   },
   {
    "duration": 669,
    "start_time": "2022-06-19T16:07:32.723Z"
   },
   {
    "duration": 167,
    "start_time": "2022-06-19T16:07:33.393Z"
   },
   {
    "duration": 115,
    "start_time": "2022-06-19T16:07:33.563Z"
   },
   {
    "duration": 190,
    "start_time": "2022-06-19T16:07:33.680Z"
   },
   {
    "duration": 93,
    "start_time": "2022-06-19T16:07:33.872Z"
   },
   {
    "duration": 565,
    "start_time": "2022-06-19T16:07:33.968Z"
   },
   {
    "duration": 74,
    "start_time": "2022-06-19T16:07:34.534Z"
   },
   {
    "duration": 192,
    "start_time": "2022-06-19T16:07:34.610Z"
   },
   {
    "duration": 555,
    "start_time": "2022-06-19T16:07:34.804Z"
   },
   {
    "duration": 178,
    "start_time": "2022-06-19T16:59:31.141Z"
   },
   {
    "duration": 182,
    "start_time": "2022-06-19T16:59:43.677Z"
   },
   {
    "duration": 11,
    "start_time": "2022-06-19T17:02:51.598Z"
   },
   {
    "duration": 11,
    "start_time": "2022-06-19T17:03:38.721Z"
   },
   {
    "duration": 7,
    "start_time": "2022-06-19T17:04:13.708Z"
   },
   {
    "duration": 5,
    "start_time": "2022-06-19T17:04:15.195Z"
   },
   {
    "duration": 4,
    "start_time": "2022-06-19T17:04:15.973Z"
   },
   {
    "duration": 20,
    "start_time": "2022-06-19T17:04:19.173Z"
   },
   {
    "duration": 5,
    "start_time": "2022-06-19T17:04:19.638Z"
   },
   {
    "duration": 5,
    "start_time": "2022-06-19T17:04:20.167Z"
   },
   {
    "duration": 5,
    "start_time": "2022-06-19T17:04:20.739Z"
   },
   {
    "duration": 4,
    "start_time": "2022-06-19T17:04:22.539Z"
   },
   {
    "duration": 3,
    "start_time": "2022-06-19T17:05:20.108Z"
   },
   {
    "duration": 168,
    "start_time": "2022-06-19T17:05:24.825Z"
   },
   {
    "duration": 4,
    "start_time": "2022-06-19T17:05:25.208Z"
   },
   {
    "duration": 171,
    "start_time": "2022-06-19T17:05:34.890Z"
   },
   {
    "duration": 4,
    "start_time": "2022-06-19T17:05:35.378Z"
   },
   {
    "duration": 4,
    "start_time": "2022-06-19T17:05:50.203Z"
   },
   {
    "duration": 6,
    "start_time": "2022-06-19T17:06:01.086Z"
   },
   {
    "duration": 10,
    "start_time": "2022-06-19T17:06:13.097Z"
   },
   {
    "duration": 5,
    "start_time": "2022-06-19T17:06:19.537Z"
   },
   {
    "duration": 148,
    "start_time": "2022-06-19T17:07:15.747Z"
   },
   {
    "duration": 3,
    "start_time": "2022-06-19T17:07:19.104Z"
   },
   {
    "duration": 171,
    "start_time": "2022-06-19T17:07:19.478Z"
   },
   {
    "duration": 25,
    "start_time": "2022-06-19T17:22:34.625Z"
   },
   {
    "duration": 27,
    "start_time": "2022-06-19T17:22:50.367Z"
   },
   {
    "duration": 28,
    "start_time": "2022-06-19T17:22:57.840Z"
   },
   {
    "duration": 26,
    "start_time": "2022-06-19T17:23:08.940Z"
   },
   {
    "duration": 576,
    "start_time": "2022-06-19T17:23:24.862Z"
   },
   {
    "duration": 588,
    "start_time": "2022-06-19T17:23:36.611Z"
   },
   {
    "duration": 452,
    "start_time": "2022-06-19T17:23:45.237Z"
   },
   {
    "duration": 86,
    "start_time": "2022-06-19T17:23:45.691Z"
   },
   {
    "duration": 200,
    "start_time": "2022-06-19T17:23:46.412Z"
   },
   {
    "duration": 609,
    "start_time": "2022-06-19T17:23:48.345Z"
   },
   {
    "duration": 564,
    "start_time": "2022-06-19T17:24:17.808Z"
   },
   {
    "duration": 574,
    "start_time": "2022-06-19T17:24:34.623Z"
   },
   {
    "duration": 4,
    "start_time": "2022-06-19T17:24:41.879Z"
   },
   {
    "duration": 71,
    "start_time": "2022-06-19T17:24:41.886Z"
   },
   {
    "duration": 19,
    "start_time": "2022-06-19T17:24:41.962Z"
   },
   {
    "duration": 24,
    "start_time": "2022-06-19T17:24:41.985Z"
   },
   {
    "duration": 104,
    "start_time": "2022-06-19T17:24:42.012Z"
   },
   {
    "duration": 24,
    "start_time": "2022-06-19T17:24:42.119Z"
   },
   {
    "duration": 25,
    "start_time": "2022-06-19T17:24:42.145Z"
   },
   {
    "duration": 5,
    "start_time": "2022-06-19T17:24:42.172Z"
   },
   {
    "duration": 6,
    "start_time": "2022-06-19T17:24:42.179Z"
   },
   {
    "duration": 7,
    "start_time": "2022-06-19T17:24:42.187Z"
   },
   {
    "duration": 8,
    "start_time": "2022-06-19T17:24:42.196Z"
   },
   {
    "duration": 63,
    "start_time": "2022-06-19T17:24:42.205Z"
   },
   {
    "duration": 15,
    "start_time": "2022-06-19T17:24:42.271Z"
   },
   {
    "duration": 10,
    "start_time": "2022-06-19T17:24:42.290Z"
   },
   {
    "duration": 5,
    "start_time": "2022-06-19T17:24:42.302Z"
   },
   {
    "duration": 3776,
    "start_time": "2022-06-19T17:24:42.308Z"
   },
   {
    "duration": 8484,
    "start_time": "2022-06-19T17:24:46.086Z"
   },
   {
    "duration": 36,
    "start_time": "2022-06-19T17:24:54.572Z"
   },
   {
    "duration": 350,
    "start_time": "2022-06-19T17:24:54.610Z"
   },
   {
    "duration": 109,
    "start_time": "2022-06-19T17:24:54.962Z"
   },
   {
    "duration": 43,
    "start_time": "2022-06-19T17:24:55.158Z"
   },
   {
    "duration": 394,
    "start_time": "2022-06-19T17:24:55.203Z"
   },
   {
    "duration": 167,
    "start_time": "2022-06-19T17:24:55.599Z"
   },
   {
    "duration": 151,
    "start_time": "2022-06-19T17:24:55.768Z"
   },
   {
    "duration": 676,
    "start_time": "2022-06-19T17:24:55.921Z"
   },
   {
    "duration": 71,
    "start_time": "2022-06-19T17:24:56.599Z"
   },
   {
    "duration": 204,
    "start_time": "2022-06-19T17:24:56.673Z"
   },
   {
    "duration": 185,
    "start_time": "2022-06-19T17:24:56.879Z"
   },
   {
    "duration": 195,
    "start_time": "2022-06-19T17:24:57.066Z"
   },
   {
    "duration": 571,
    "start_time": "2022-06-19T17:24:57.263Z"
   },
   {
    "duration": 73,
    "start_time": "2022-06-19T17:24:57.836Z"
   },
   {
    "duration": 173,
    "start_time": "2022-06-19T17:24:57.912Z"
   },
   {
    "duration": 604,
    "start_time": "2022-06-19T17:24:58.087Z"
   },
   {
    "duration": 603,
    "start_time": "2022-06-19T17:25:00.958Z"
   },
   {
    "duration": 40,
    "start_time": "2022-06-19T17:25:39.671Z"
   },
   {
    "duration": 66,
    "start_time": "2022-06-19T17:25:52.363Z"
   },
   {
    "duration": 5,
    "start_time": "2022-06-19T17:26:22.160Z"
   },
   {
    "duration": 59,
    "start_time": "2022-06-19T17:26:22.455Z"
   },
   {
    "duration": 11,
    "start_time": "2022-06-19T17:26:22.697Z"
   },
   {
    "duration": 14,
    "start_time": "2022-06-19T17:26:23.338Z"
   },
   {
    "duration": 8,
    "start_time": "2022-06-19T17:26:24.303Z"
   },
   {
    "duration": 14,
    "start_time": "2022-06-19T17:26:24.940Z"
   },
   {
    "duration": 21,
    "start_time": "2022-06-19T17:26:26.043Z"
   },
   {
    "duration": 5,
    "start_time": "2022-06-19T17:26:26.292Z"
   },
   {
    "duration": 4,
    "start_time": "2022-06-19T17:26:26.836Z"
   },
   {
    "duration": 5,
    "start_time": "2022-06-19T17:26:27.418Z"
   },
   {
    "duration": 4,
    "start_time": "2022-06-19T17:26:28.040Z"
   },
   {
    "duration": 55,
    "start_time": "2022-06-19T17:26:29.176Z"
   },
   {
    "duration": 16,
    "start_time": "2022-06-19T17:26:29.424Z"
   },
   {
    "duration": 6,
    "start_time": "2022-06-19T17:26:30.845Z"
   },
   {
    "duration": 5,
    "start_time": "2022-06-19T17:26:31.179Z"
   },
   {
    "duration": 3803,
    "start_time": "2022-06-19T17:26:32.449Z"
   },
   {
    "duration": 8339,
    "start_time": "2022-06-19T17:26:36.259Z"
   },
   {
    "duration": 35,
    "start_time": "2022-06-19T17:26:50.675Z"
   },
   {
    "duration": 367,
    "start_time": "2022-06-19T17:26:52.847Z"
   },
   {
    "duration": 28,
    "start_time": "2022-06-19T17:26:54.108Z"
   },
   {
    "duration": 37,
    "start_time": "2022-06-19T17:26:56.256Z"
   },
   {
    "duration": 345,
    "start_time": "2022-06-19T17:26:59.132Z"
   },
   {
    "duration": 31,
    "start_time": "2022-06-19T17:27:00.524Z"
   },
   {
    "duration": 69,
    "start_time": "2022-06-19T17:27:04.364Z"
   },
   {
    "duration": 654,
    "start_time": "2022-06-19T17:27:05.643Z"
   },
   {
    "duration": 141,
    "start_time": "2022-06-19T17:27:07.319Z"
   },
   {
    "duration": 28,
    "start_time": "2022-06-19T17:27:10.503Z"
   },
   {
    "duration": 181,
    "start_time": "2022-06-19T17:27:11.493Z"
   },
   {
    "duration": 162,
    "start_time": "2022-06-19T17:27:12.601Z"
   },
   {
    "duration": 439,
    "start_time": "2022-06-19T17:27:15.177Z"
   },
   {
    "duration": 70,
    "start_time": "2022-06-19T17:27:16.523Z"
   },
   {
    "duration": 193,
    "start_time": "2022-06-19T17:27:24.308Z"
   },
   {
    "duration": 56,
    "start_time": "2022-06-19T17:27:38.971Z"
   },
   {
    "duration": 70,
    "start_time": "2022-06-19T17:27:51.138Z"
   },
   {
    "duration": 437,
    "start_time": "2022-06-19T17:27:59.567Z"
   },
   {
    "duration": 67,
    "start_time": "2022-06-19T17:28:00.119Z"
   },
   {
    "duration": 118,
    "start_time": "2022-06-19T17:28:43.744Z"
   },
   {
    "duration": 162,
    "start_time": "2022-06-19T17:29:07.499Z"
   },
   {
    "duration": 56,
    "start_time": "2022-06-19T17:30:11.438Z"
   },
   {
    "duration": 464,
    "start_time": "2022-06-19T17:30:22.625Z"
   },
   {
    "duration": 84,
    "start_time": "2022-06-19T17:30:23.153Z"
   },
   {
    "duration": 351,
    "start_time": "2022-06-19T17:30:59.401Z"
   },
   {
    "duration": 373,
    "start_time": "2022-06-19T17:31:15.099Z"
   },
   {
    "duration": 410,
    "start_time": "2022-06-19T17:31:24.494Z"
   },
   {
    "duration": 37,
    "start_time": "2022-06-19T17:35:56.456Z"
   },
   {
    "duration": 123,
    "start_time": "2022-06-19T17:36:42.518Z"
   },
   {
    "duration": 20,
    "start_time": "2022-06-19T17:37:03.861Z"
   },
   {
    "duration": 6,
    "start_time": "2022-06-19T17:37:05.755Z"
   },
   {
    "duration": 13,
    "start_time": "2022-06-19T17:37:24.702Z"
   },
   {
    "duration": 20,
    "start_time": "2022-06-19T17:37:36.482Z"
   },
   {
    "duration": 12,
    "start_time": "2022-06-19T17:37:37.480Z"
   },
   {
    "duration": 3,
    "start_time": "2022-06-19T17:37:38.683Z"
   },
   {
    "duration": 4,
    "start_time": "2022-06-19T17:37:39.387Z"
   },
   {
    "duration": 4,
    "start_time": "2022-06-19T17:37:40.359Z"
   },
   {
    "duration": 14,
    "start_time": "2022-06-19T17:38:04.571Z"
   },
   {
    "duration": 5,
    "start_time": "2022-06-19T17:38:10.545Z"
   },
   {
    "duration": 7,
    "start_time": "2022-06-19T17:38:14.130Z"
   },
   {
    "duration": 5,
    "start_time": "2022-06-19T17:38:15.004Z"
   },
   {
    "duration": 4,
    "start_time": "2022-06-19T17:38:15.494Z"
   },
   {
    "duration": 37,
    "start_time": "2022-06-19T17:38:21.019Z"
   },
   {
    "duration": 11,
    "start_time": "2022-06-19T17:38:21.374Z"
   },
   {
    "duration": 6,
    "start_time": "2022-06-19T17:38:23.090Z"
   },
   {
    "duration": 4,
    "start_time": "2022-06-19T17:38:23.315Z"
   },
   {
    "duration": 3796,
    "start_time": "2022-06-19T17:38:24.204Z"
   },
   {
    "duration": 8137,
    "start_time": "2022-06-19T17:38:28.002Z"
   },
   {
    "duration": 42,
    "start_time": "2022-06-19T17:38:36.141Z"
   },
   {
    "duration": 336,
    "start_time": "2022-06-19T17:38:36.185Z"
   },
   {
    "duration": 145,
    "start_time": "2022-06-19T17:38:36.523Z"
   },
   {
    "duration": 123,
    "start_time": "2022-06-19T17:38:36.670Z"
   },
   {
    "duration": 374,
    "start_time": "2022-06-19T17:38:36.796Z"
   },
   {
    "duration": 92,
    "start_time": "2022-06-19T17:38:37.171Z"
   },
   {
    "duration": 160,
    "start_time": "2022-06-19T17:38:37.264Z"
   },
   {
    "duration": 658,
    "start_time": "2022-06-19T17:38:37.427Z"
   },
   {
    "duration": 85,
    "start_time": "2022-06-19T17:38:38.087Z"
   },
   {
    "duration": 116,
    "start_time": "2022-06-19T17:38:38.260Z"
   },
   {
    "duration": 173,
    "start_time": "2022-06-19T17:38:38.378Z"
   },
   {
    "duration": 30,
    "start_time": "2022-06-19T17:38:38.552Z"
   },
   {
    "duration": 583,
    "start_time": "2022-06-19T17:38:38.584Z"
   },
   {
    "duration": 348,
    "start_time": "2022-06-19T17:38:39.169Z"
   },
   {
    "duration": 161,
    "start_time": "2022-06-19T17:38:39.519Z"
   },
   {
    "duration": 618,
    "start_time": "2022-06-19T17:54:59.906Z"
   },
   {
    "duration": 478,
    "start_time": "2022-06-19T17:55:43.697Z"
   },
   {
    "duration": 544,
    "start_time": "2022-06-19T17:56:12.367Z"
   },
   {
    "duration": 581,
    "start_time": "2022-06-19T17:56:35.285Z"
   },
   {
    "duration": 561,
    "start_time": "2022-06-19T17:56:40.701Z"
   },
   {
    "duration": 177,
    "start_time": "2022-06-19T17:56:44.950Z"
   },
   {
    "duration": 576,
    "start_time": "2022-06-19T17:56:46.301Z"
   },
   {
    "duration": 564,
    "start_time": "2022-06-19T17:56:55.636Z"
   },
   {
    "duration": 588,
    "start_time": "2022-06-19T17:57:04.998Z"
   },
   {
    "duration": 568,
    "start_time": "2022-06-19T17:57:12.194Z"
   },
   {
    "duration": 544,
    "start_time": "2022-06-19T17:57:37.597Z"
   },
   {
    "duration": 530,
    "start_time": "2022-06-19T17:57:45.213Z"
   },
   {
    "duration": 163,
    "start_time": "2022-06-19T19:56:55.596Z"
   },
   {
    "duration": 180,
    "start_time": "2022-06-19T20:00:46.638Z"
   },
   {
    "duration": 161,
    "start_time": "2022-06-19T20:01:05.400Z"
   },
   {
    "duration": 195,
    "start_time": "2022-06-19T20:01:14.452Z"
   },
   {
    "duration": 7,
    "start_time": "2022-06-19T20:01:22.669Z"
   },
   {
    "duration": 67,
    "start_time": "2022-06-19T20:01:22.680Z"
   },
   {
    "duration": 24,
    "start_time": "2022-06-19T20:01:22.749Z"
   },
   {
    "duration": 31,
    "start_time": "2022-06-19T20:01:22.774Z"
   },
   {
    "duration": 6,
    "start_time": "2022-06-19T20:01:22.808Z"
   },
   {
    "duration": 11,
    "start_time": "2022-06-19T20:01:22.815Z"
   },
   {
    "duration": 17,
    "start_time": "2022-06-19T20:01:22.828Z"
   },
   {
    "duration": 5,
    "start_time": "2022-06-19T20:01:22.846Z"
   },
   {
    "duration": 9,
    "start_time": "2022-06-19T20:01:22.852Z"
   },
   {
    "duration": 34,
    "start_time": "2022-06-19T20:01:22.868Z"
   },
   {
    "duration": 9,
    "start_time": "2022-06-19T20:01:22.903Z"
   },
   {
    "duration": 56,
    "start_time": "2022-06-19T20:01:22.915Z"
   },
   {
    "duration": 19,
    "start_time": "2022-06-19T20:01:22.979Z"
   },
   {
    "duration": 7,
    "start_time": "2022-06-19T20:01:23.001Z"
   },
   {
    "duration": 11,
    "start_time": "2022-06-19T20:01:23.009Z"
   },
   {
    "duration": 4028,
    "start_time": "2022-06-19T20:01:23.023Z"
   },
   {
    "duration": 8850,
    "start_time": "2022-06-19T20:01:27.052Z"
   },
   {
    "duration": 34,
    "start_time": "2022-06-19T20:01:35.903Z"
   },
   {
    "duration": 381,
    "start_time": "2022-06-19T20:01:35.938Z"
   },
   {
    "duration": 147,
    "start_time": "2022-06-19T20:01:36.320Z"
   },
   {
    "duration": 44,
    "start_time": "2022-06-19T20:01:36.469Z"
   },
   {
    "duration": 392,
    "start_time": "2022-06-19T20:01:36.515Z"
   },
   {
    "duration": 68,
    "start_time": "2022-06-19T20:01:36.909Z"
   },
   {
    "duration": 236,
    "start_time": "2022-06-19T20:01:36.987Z"
   },
   {
    "duration": 774,
    "start_time": "2022-06-19T20:01:37.225Z"
   },
   {
    "duration": 167,
    "start_time": "2022-06-19T20:01:38.002Z"
   },
   {
    "duration": 118,
    "start_time": "2022-06-19T20:01:38.178Z"
   },
   {
    "duration": 218,
    "start_time": "2022-06-19T20:01:38.299Z"
   },
   {
    "duration": 62,
    "start_time": "2022-06-19T20:01:38.519Z"
   },
   {
    "duration": 704,
    "start_time": "2022-06-19T20:01:38.584Z"
   },
   {
    "duration": 400,
    "start_time": "2022-06-19T20:01:39.296Z"
   },
   {
    "duration": 173,
    "start_time": "2022-06-19T20:01:39.697Z"
   },
   {
    "duration": 196,
    "start_time": "2022-06-19T20:02:06.099Z"
   },
   {
    "duration": 395,
    "start_time": "2022-06-19T20:02:58.322Z"
   },
   {
    "duration": 518,
    "start_time": "2022-06-19T20:03:06.082Z"
   },
   {
    "duration": 422,
    "start_time": "2022-06-19T20:03:06.602Z"
   },
   {
    "duration": 360,
    "start_time": "2022-06-19T20:03:07.027Z"
   },
   {
    "duration": 389,
    "start_time": "2022-06-19T20:04:00.811Z"
   },
   {
    "duration": 628,
    "start_time": "2022-06-19T20:04:54.144Z"
   },
   {
    "duration": 34,
    "start_time": "2022-06-19T20:05:51.793Z"
   },
   {
    "duration": 328,
    "start_time": "2022-06-19T20:06:18.936Z"
   },
   {
    "duration": 395,
    "start_time": "2022-06-19T20:06:48.179Z"
   },
   {
    "duration": 373,
    "start_time": "2022-06-19T20:07:08.523Z"
   },
   {
    "duration": 400,
    "start_time": "2022-06-19T20:07:27.727Z"
   },
   {
    "duration": 341,
    "start_time": "2022-06-19T20:07:31.423Z"
   },
   {
    "duration": 27,
    "start_time": "2022-06-19T20:08:31.455Z"
   },
   {
    "duration": 22,
    "start_time": "2022-06-19T20:08:33.879Z"
   },
   {
    "duration": 474,
    "start_time": "2022-06-19T20:08:37.455Z"
   },
   {
    "duration": 356,
    "start_time": "2022-06-19T20:08:37.932Z"
   },
   {
    "duration": 22,
    "start_time": "2022-06-19T20:08:40.435Z"
   },
   {
    "duration": 582,
    "start_time": "2022-06-19T20:08:41.622Z"
   },
   {
    "duration": 342,
    "start_time": "2022-06-19T20:10:17.940Z"
   },
   {
    "duration": 383,
    "start_time": "2022-06-19T20:10:28.744Z"
   },
   {
    "duration": 342,
    "start_time": "2022-06-19T20:10:34.682Z"
   },
   {
    "duration": 340,
    "start_time": "2022-06-19T20:10:42.199Z"
   },
   {
    "duration": 375,
    "start_time": "2022-06-19T20:10:48.890Z"
   },
   {
    "duration": 629,
    "start_time": "2022-06-19T20:12:18.003Z"
   },
   {
    "duration": 615,
    "start_time": "2022-06-19T20:12:22.120Z"
   },
   {
    "duration": 611,
    "start_time": "2022-06-19T20:12:30.193Z"
   },
   {
    "duration": 601,
    "start_time": "2022-06-19T20:12:43.526Z"
   },
   {
    "duration": 372,
    "start_time": "2022-06-19T20:13:27.936Z"
   },
   {
    "duration": 343,
    "start_time": "2022-06-19T20:13:39.288Z"
   },
   {
    "duration": 21,
    "start_time": "2022-06-19T20:14:16.922Z"
   },
   {
    "duration": 27,
    "start_time": "2022-06-19T20:15:17.214Z"
   },
   {
    "duration": 395,
    "start_time": "2022-06-19T20:17:44.708Z"
   },
   {
    "duration": 36,
    "start_time": "2022-06-19T20:18:06.238Z"
   },
   {
    "duration": 375,
    "start_time": "2022-06-19T20:18:08.986Z"
   },
   {
    "duration": 36,
    "start_time": "2022-06-19T20:18:09.365Z"
   },
   {
    "duration": 355,
    "start_time": "2022-06-19T20:18:10.134Z"
   },
   {
    "duration": 23,
    "start_time": "2022-06-19T20:18:13.702Z"
   },
   {
    "duration": 21,
    "start_time": "2022-06-19T20:18:26.232Z"
   },
   {
    "duration": 339,
    "start_time": "2022-06-19T20:18:28.238Z"
   },
   {
    "duration": 25,
    "start_time": "2022-06-19T20:18:29.344Z"
   },
   {
    "duration": 27,
    "start_time": "2022-06-19T20:18:54.778Z"
   },
   {
    "duration": 20,
    "start_time": "2022-06-19T20:19:00.294Z"
   },
   {
    "duration": 365,
    "start_time": "2022-06-19T20:19:01.576Z"
   },
   {
    "duration": 24,
    "start_time": "2022-06-19T20:19:03.386Z"
   },
   {
    "duration": 369,
    "start_time": "2022-06-19T20:19:03.735Z"
   },
   {
    "duration": 29,
    "start_time": "2022-06-19T20:19:04.644Z"
   },
   {
    "duration": 349,
    "start_time": "2022-06-19T20:19:05.090Z"
   },
   {
    "duration": 22,
    "start_time": "2022-06-19T20:20:52.501Z"
   },
   {
    "duration": 4,
    "start_time": "2022-06-19T20:20:55.614Z"
   },
   {
    "duration": 28,
    "start_time": "2022-06-19T20:21:15.376Z"
   },
   {
    "duration": 7,
    "start_time": "2022-06-19T20:21:16.155Z"
   },
   {
    "duration": 29,
    "start_time": "2022-06-19T20:21:22.384Z"
   },
   {
    "duration": 5,
    "start_time": "2022-06-19T20:21:23.450Z"
   },
   {
    "duration": 5,
    "start_time": "2022-06-19T20:22:36.393Z"
   },
   {
    "duration": 131,
    "start_time": "2022-06-19T20:22:36.401Z"
   },
   {
    "duration": 11,
    "start_time": "2022-06-19T20:22:36.534Z"
   },
   {
    "duration": 27,
    "start_time": "2022-06-19T20:22:36.547Z"
   },
   {
    "duration": 26,
    "start_time": "2022-06-19T20:22:36.579Z"
   },
   {
    "duration": 15,
    "start_time": "2022-06-19T20:22:36.607Z"
   },
   {
    "duration": 25,
    "start_time": "2022-06-19T20:22:36.624Z"
   },
   {
    "duration": 19,
    "start_time": "2022-06-19T20:22:36.650Z"
   },
   {
    "duration": 23,
    "start_time": "2022-06-19T20:22:36.684Z"
   },
   {
    "duration": 6,
    "start_time": "2022-06-19T20:22:36.708Z"
   },
   {
    "duration": 10,
    "start_time": "2022-06-19T20:22:36.716Z"
   },
   {
    "duration": 34,
    "start_time": "2022-06-19T20:22:36.727Z"
   },
   {
    "duration": 17,
    "start_time": "2022-06-19T20:22:36.762Z"
   },
   {
    "duration": 35,
    "start_time": "2022-06-19T20:22:36.782Z"
   },
   {
    "duration": 5,
    "start_time": "2022-06-19T20:22:36.820Z"
   },
   {
    "duration": 4273,
    "start_time": "2022-06-19T20:22:36.827Z"
   },
   {
    "duration": 9564,
    "start_time": "2022-06-19T20:22:41.102Z"
   },
   {
    "duration": 47,
    "start_time": "2022-06-19T20:22:50.669Z"
   },
   {
    "duration": 397,
    "start_time": "2022-06-19T20:22:50.717Z"
   },
   {
    "duration": 158,
    "start_time": "2022-06-19T20:22:51.116Z"
   },
   {
    "duration": 57,
    "start_time": "2022-06-19T20:22:51.278Z"
   },
   {
    "duration": 412,
    "start_time": "2022-06-19T20:22:51.337Z"
   },
   {
    "duration": 63,
    "start_time": "2022-06-19T20:22:51.759Z"
   },
   {
    "duration": 225,
    "start_time": "2022-06-19T20:22:51.824Z"
   },
   {
    "duration": 732,
    "start_time": "2022-06-19T20:22:52.051Z"
   },
   {
    "duration": 87,
    "start_time": "2022-06-19T20:22:52.785Z"
   },
   {
    "duration": 191,
    "start_time": "2022-06-19T20:22:52.874Z"
   },
   {
    "duration": 208,
    "start_time": "2022-06-19T20:22:53.067Z"
   },
   {
    "duration": 121,
    "start_time": "2022-06-19T20:22:53.277Z"
   },
   {
    "duration": 642,
    "start_time": "2022-06-19T20:22:53.404Z"
   },
   {
    "duration": 446,
    "start_time": "2022-06-19T20:22:54.048Z"
   },
   {
    "duration": 32,
    "start_time": "2022-06-19T20:22:54.496Z"
   },
   {
    "duration": 5,
    "start_time": "2022-06-19T20:22:54.529Z"
   },
   {
    "duration": 5,
    "start_time": "2022-06-19T20:26:33.839Z"
   },
   {
    "duration": 389,
    "start_time": "2022-06-19T20:26:34.115Z"
   },
   {
    "duration": 36,
    "start_time": "2022-06-19T20:26:58.979Z"
   },
   {
    "duration": 573,
    "start_time": "2022-06-19T20:27:01.632Z"
   },
   {
    "duration": 412,
    "start_time": "2022-06-19T20:27:02.207Z"
   },
   {
    "duration": 46,
    "start_time": "2022-06-19T20:27:02.621Z"
   },
   {
    "duration": 5,
    "start_time": "2022-06-19T20:27:02.669Z"
   },
   {
    "duration": 33,
    "start_time": "2022-06-19T20:27:02.724Z"
   },
   {
    "duration": 43,
    "start_time": "2022-06-19T20:30:07.878Z"
   },
   {
    "duration": 390,
    "start_time": "2022-06-19T20:30:21.426Z"
   },
   {
    "duration": 73,
    "start_time": "2022-06-19T20:30:36.410Z"
   },
   {
    "duration": 53,
    "start_time": "2022-06-19T20:31:13.375Z"
   },
   {
    "duration": 520,
    "start_time": "2022-06-19T20:31:44.187Z"
   },
   {
    "duration": 54,
    "start_time": "2022-06-19T20:32:12.524Z"
   },
   {
    "duration": 76,
    "start_time": "2022-06-19T20:32:58.119Z"
   },
   {
    "duration": 712,
    "start_time": "2022-06-19T20:33:18.805Z"
   },
   {
    "duration": 176,
    "start_time": "2022-06-19T20:33:59.789Z"
   },
   {
    "duration": 43,
    "start_time": "2022-06-19T20:34:28.975Z"
   },
   {
    "duration": 218,
    "start_time": "2022-06-19T20:34:48.516Z"
   },
   {
    "duration": 67,
    "start_time": "2022-06-19T20:35:10.208Z"
   },
   {
    "duration": 173,
    "start_time": "2022-06-19T20:35:39.942Z"
   },
   {
    "duration": 76,
    "start_time": "2022-06-19T20:36:07.036Z"
   },
   {
    "duration": 184,
    "start_time": "2022-06-19T20:36:20.340Z"
   },
   {
    "duration": 74,
    "start_time": "2022-06-19T20:36:20.535Z"
   },
   {
    "duration": 33,
    "start_time": "2022-06-19T20:36:21.011Z"
   },
   {
    "duration": 5,
    "start_time": "2022-06-19T20:36:21.732Z"
   },
   {
    "duration": 30,
    "start_time": "2022-06-19T20:36:22.431Z"
   },
   {
    "duration": 5,
    "start_time": "2022-06-19T20:36:30.905Z"
   },
   {
    "duration": 87,
    "start_time": "2022-06-19T20:36:30.913Z"
   },
   {
    "duration": 13,
    "start_time": "2022-06-19T20:36:31.002Z"
   },
   {
    "duration": 44,
    "start_time": "2022-06-19T20:36:31.017Z"
   },
   {
    "duration": 38,
    "start_time": "2022-06-19T20:36:31.067Z"
   },
   {
    "duration": 21,
    "start_time": "2022-06-19T20:36:31.107Z"
   },
   {
    "duration": 25,
    "start_time": "2022-06-19T20:36:31.130Z"
   },
   {
    "duration": 10,
    "start_time": "2022-06-19T20:36:31.157Z"
   },
   {
    "duration": 33,
    "start_time": "2022-06-19T20:36:31.169Z"
   },
   {
    "duration": 12,
    "start_time": "2022-06-19T20:36:31.204Z"
   },
   {
    "duration": 75,
    "start_time": "2022-06-19T20:36:31.218Z"
   },
   {
    "duration": 44,
    "start_time": "2022-06-19T20:36:31.295Z"
   },
   {
    "duration": 14,
    "start_time": "2022-06-19T20:36:31.341Z"
   },
   {
    "duration": 48,
    "start_time": "2022-06-19T20:36:31.357Z"
   },
   {
    "duration": 19,
    "start_time": "2022-06-19T20:36:31.407Z"
   },
   {
    "duration": 4919,
    "start_time": "2022-06-19T20:36:31.428Z"
   },
   {
    "duration": 10298,
    "start_time": "2022-06-19T20:36:36.350Z"
   },
   {
    "duration": 66,
    "start_time": "2022-06-19T20:36:46.650Z"
   },
   {
    "duration": 409,
    "start_time": "2022-06-19T20:36:46.718Z"
   },
   {
    "duration": 40,
    "start_time": "2022-06-19T20:36:47.129Z"
   },
   {
    "duration": 174,
    "start_time": "2022-06-19T20:36:47.171Z"
   },
   {
    "duration": 470,
    "start_time": "2022-06-19T20:36:47.349Z"
   },
   {
    "duration": 143,
    "start_time": "2022-06-19T20:36:47.823Z"
   },
   {
    "duration": 156,
    "start_time": "2022-06-19T20:36:47.985Z"
   },
   {
    "duration": 814,
    "start_time": "2022-06-19T20:36:48.145Z"
   },
   {
    "duration": 117,
    "start_time": "2022-06-19T20:36:48.961Z"
   },
   {
    "duration": 172,
    "start_time": "2022-06-19T20:36:49.084Z"
   },
   {
    "duration": 273,
    "start_time": "2022-06-19T20:36:49.262Z"
   },
   {
    "duration": 40,
    "start_time": "2022-06-19T20:36:49.537Z"
   },
   {
    "duration": 305,
    "start_time": "2022-06-19T20:36:49.580Z"
   },
   {
    "duration": 93,
    "start_time": "2022-06-19T20:36:49.891Z"
   },
   {
    "duration": 37,
    "start_time": "2022-06-19T20:36:49.989Z"
   },
   {
    "duration": 13,
    "start_time": "2022-06-19T20:36:50.028Z"
   },
   {
    "duration": 46,
    "start_time": "2022-06-19T20:36:50.043Z"
   },
   {
    "duration": 758,
    "start_time": "2022-06-19T20:38:26.856Z"
   },
   {
    "duration": 22,
    "start_time": "2022-06-19T20:38:50.011Z"
   },
   {
    "duration": 4,
    "start_time": "2022-06-19T20:38:50.493Z"
   },
   {
    "duration": 31,
    "start_time": "2022-06-19T20:38:51.106Z"
   },
   {
    "duration": 27,
    "start_time": "2022-06-19T20:38:52.782Z"
   },
   {
    "duration": 350,
    "start_time": "2022-06-19T20:38:53.678Z"
   },
   {
    "duration": 659,
    "start_time": "2022-06-19T20:39:14.379Z"
   },
   {
    "duration": 690,
    "start_time": "2022-06-19T20:39:20.116Z"
   },
   {
    "duration": 78,
    "start_time": "2022-06-19T20:39:37.259Z"
   },
   {
    "duration": 57,
    "start_time": "2022-06-19T20:39:42.573Z"
   },
   {
    "duration": 77,
    "start_time": "2022-06-19T20:39:57.819Z"
   },
   {
    "duration": 76,
    "start_time": "2022-06-19T20:40:08.104Z"
   },
   {
    "duration": 84,
    "start_time": "2022-06-19T20:40:19.611Z"
   },
   {
    "duration": 24,
    "start_time": "2022-06-19T20:40:50.982Z"
   },
   {
    "duration": 21,
    "start_time": "2022-06-19T20:41:14.514Z"
   },
   {
    "duration": 97,
    "start_time": "2022-06-19T20:41:16.799Z"
   },
   {
    "duration": 29,
    "start_time": "2022-06-19T20:41:17.015Z"
   },
   {
    "duration": 5,
    "start_time": "2022-06-19T20:41:17.795Z"
   },
   {
    "duration": 38,
    "start_time": "2022-06-19T20:41:18.682Z"
   },
   {
    "duration": 30,
    "start_time": "2022-06-19T20:41:46.494Z"
   },
   {
    "duration": 43,
    "start_time": "2022-06-19T20:41:56.067Z"
   },
   {
    "duration": 103,
    "start_time": "2022-06-19T20:42:03.150Z"
   },
   {
    "duration": 41,
    "start_time": "2022-06-19T20:42:04.245Z"
   },
   {
    "duration": 5,
    "start_time": "2022-06-19T20:42:36.606Z"
   },
   {
    "duration": 33,
    "start_time": "2022-06-19T20:42:37.249Z"
   },
   {
    "duration": 32,
    "start_time": "2022-06-19T20:42:41.856Z"
   },
   {
    "duration": 18,
    "start_time": "2022-06-19T20:42:56.484Z"
   },
   {
    "duration": 10,
    "start_time": "2022-06-19T20:43:03.108Z"
   },
   {
    "duration": 21,
    "start_time": "2022-06-19T20:43:08.910Z"
   },
   {
    "duration": 25,
    "start_time": "2022-06-19T20:43:13.156Z"
   },
   {
    "duration": 21,
    "start_time": "2022-06-19T20:43:37.032Z"
   },
   {
    "duration": 31,
    "start_time": "2022-06-19T20:43:45.443Z"
   },
   {
    "duration": 98,
    "start_time": "2022-06-19T20:44:43.185Z"
   },
   {
    "duration": 79,
    "start_time": "2022-06-19T20:44:51.898Z"
   },
   {
    "duration": 49,
    "start_time": "2022-06-19T20:45:00.786Z"
   },
   {
    "duration": 63,
    "start_time": "2022-06-19T20:45:05.525Z"
   },
   {
    "duration": 80,
    "start_time": "2022-06-19T20:45:12.352Z"
   },
   {
    "duration": 66,
    "start_time": "2022-06-19T20:45:31.333Z"
   },
   {
    "duration": 45,
    "start_time": "2022-06-19T20:45:44.811Z"
   },
   {
    "duration": 46,
    "start_time": "2022-06-19T20:45:48.897Z"
   },
   {
    "duration": 173,
    "start_time": "2022-06-19T20:46:35.412Z"
   },
   {
    "duration": 49,
    "start_time": "2022-06-19T20:46:44.390Z"
   },
   {
    "duration": 93,
    "start_time": "2022-06-19T20:46:51.403Z"
   },
   {
    "duration": 86,
    "start_time": "2022-06-19T20:47:49.087Z"
   },
   {
    "duration": 25,
    "start_time": "2022-06-19T20:47:50.080Z"
   },
   {
    "duration": 32,
    "start_time": "2022-06-19T20:48:26.386Z"
   },
   {
    "duration": 33,
    "start_time": "2022-06-19T20:48:31.824Z"
   },
   {
    "duration": 22,
    "start_time": "2022-06-19T20:49:53.204Z"
   },
   {
    "duration": 3995,
    "start_time": "2022-06-19T20:54:53.196Z"
   },
   {
    "duration": 9154,
    "start_time": "2022-06-19T20:54:57.193Z"
   },
   {
    "duration": 250,
    "start_time": "2022-06-19T20:58:36.391Z"
   },
   {
    "duration": 29,
    "start_time": "2022-06-19T20:58:43.877Z"
   },
   {
    "duration": 238,
    "start_time": "2022-06-19T20:58:54.688Z"
   },
   {
    "duration": 29,
    "start_time": "2022-06-19T20:58:55.610Z"
   },
   {
    "duration": 22,
    "start_time": "2022-06-19T21:02:22.386Z"
   },
   {
    "duration": 179,
    "start_time": "2022-06-19T21:03:00.350Z"
   },
   {
    "duration": 42,
    "start_time": "2022-06-19T21:03:03.248Z"
   },
   {
    "duration": 24,
    "start_time": "2022-06-19T21:03:44.358Z"
   },
   {
    "duration": 15,
    "start_time": "2022-06-19T21:03:45.400Z"
   },
   {
    "duration": 13,
    "start_time": "2022-06-19T21:03:58.813Z"
   },
   {
    "duration": 11,
    "start_time": "2022-06-19T21:03:59.432Z"
   },
   {
    "duration": 400,
    "start_time": "2022-06-19T21:04:05.292Z"
   },
   {
    "duration": 8,
    "start_time": "2022-06-19T21:04:10.392Z"
   },
   {
    "duration": 76,
    "start_time": "2022-06-19T21:04:10.404Z"
   },
   {
    "duration": 14,
    "start_time": "2022-06-19T21:04:10.481Z"
   },
   {
    "duration": 28,
    "start_time": "2022-06-19T21:04:10.497Z"
   },
   {
    "duration": 14,
    "start_time": "2022-06-19T21:04:10.528Z"
   },
   {
    "duration": 27,
    "start_time": "2022-06-19T21:04:10.544Z"
   },
   {
    "duration": 52,
    "start_time": "2022-06-19T21:04:10.573Z"
   },
   {
    "duration": 4,
    "start_time": "2022-06-19T21:04:10.627Z"
   },
   {
    "duration": 6,
    "start_time": "2022-06-19T21:04:10.633Z"
   },
   {
    "duration": 8,
    "start_time": "2022-06-19T21:04:10.640Z"
   },
   {
    "duration": 5,
    "start_time": "2022-06-19T21:04:10.650Z"
   },
   {
    "duration": 76,
    "start_time": "2022-06-19T21:04:10.656Z"
   },
   {
    "duration": 12,
    "start_time": "2022-06-19T21:04:10.734Z"
   },
   {
    "duration": 15,
    "start_time": "2022-06-19T21:04:10.749Z"
   },
   {
    "duration": 62,
    "start_time": "2022-06-19T21:04:10.766Z"
   },
   {
    "duration": 4453,
    "start_time": "2022-06-19T21:04:10.830Z"
   },
   {
    "duration": 9468,
    "start_time": "2022-06-19T21:04:15.285Z"
   },
   {
    "duration": 49,
    "start_time": "2022-06-19T21:04:24.754Z"
   },
   {
    "duration": 413,
    "start_time": "2022-06-19T21:04:24.805Z"
   },
   {
    "duration": 69,
    "start_time": "2022-06-19T21:04:25.220Z"
   },
   {
    "duration": 129,
    "start_time": "2022-06-19T21:04:25.295Z"
   },
   {
    "duration": 400,
    "start_time": "2022-06-19T21:04:25.426Z"
   },
   {
    "duration": 49,
    "start_time": "2022-06-19T21:04:25.828Z"
   },
   {
    "duration": 204,
    "start_time": "2022-06-19T21:04:25.881Z"
   },
   {
    "duration": 762,
    "start_time": "2022-06-19T21:04:26.088Z"
   },
   {
    "duration": 126,
    "start_time": "2022-06-19T21:04:26.852Z"
   },
   {
    "duration": 139,
    "start_time": "2022-06-19T21:04:26.980Z"
   },
   {
    "duration": 235,
    "start_time": "2022-06-19T21:04:27.121Z"
   },
   {
    "duration": 109,
    "start_time": "2022-06-19T21:04:27.363Z"
   },
   {
    "duration": 283,
    "start_time": "2022-06-19T21:04:27.482Z"
   },
   {
    "duration": 100,
    "start_time": "2022-06-19T21:04:27.771Z"
   },
   {
    "duration": 48,
    "start_time": "2022-06-19T21:04:27.879Z"
   },
   {
    "duration": 5,
    "start_time": "2022-06-19T21:04:27.929Z"
   },
   {
    "duration": 27,
    "start_time": "2022-06-19T21:04:27.935Z"
   },
   {
    "duration": 18,
    "start_time": "2022-06-19T21:04:27.964Z"
   },
   {
    "duration": 52,
    "start_time": "2022-06-19T21:04:27.984Z"
   },
   {
    "duration": 366,
    "start_time": "2022-06-19T21:04:28.038Z"
   },
   {
    "duration": 41,
    "start_time": "2022-06-19T21:04:58.688Z"
   },
   {
    "duration": 14,
    "start_time": "2022-06-19T21:05:02.499Z"
   },
   {
    "duration": 44,
    "start_time": "2022-06-19T21:05:03.092Z"
   },
   {
    "duration": 390,
    "start_time": "2022-06-19T21:05:03.897Z"
   },
   {
    "duration": 38,
    "start_time": "2022-06-19T21:05:18.902Z"
   },
   {
    "duration": 17,
    "start_time": "2022-06-19T21:05:21.456Z"
   },
   {
    "duration": 44,
    "start_time": "2022-06-19T21:05:21.930Z"
   },
   {
    "duration": 39,
    "start_time": "2022-06-19T21:05:25.409Z"
   },
   {
    "duration": 65,
    "start_time": "2022-06-19T21:05:30.150Z"
   },
   {
    "duration": 49,
    "start_time": "2022-06-19T21:05:33.551Z"
   },
   {
    "duration": 40,
    "start_time": "2022-06-19T21:05:50.185Z"
   },
   {
    "duration": 16,
    "start_time": "2022-06-19T21:06:03.809Z"
   },
   {
    "duration": 35,
    "start_time": "2022-06-19T21:06:04.508Z"
   },
   {
    "duration": 16,
    "start_time": "2022-06-19T21:06:06.555Z"
   },
   {
    "duration": 44,
    "start_time": "2022-06-19T21:06:06.987Z"
   },
   {
    "duration": 409,
    "start_time": "2022-06-19T21:06:07.641Z"
   },
   {
    "duration": 42,
    "start_time": "2022-06-19T21:06:20.523Z"
   },
   {
    "duration": 69,
    "start_time": "2022-06-19T21:06:24.061Z"
   },
   {
    "duration": 65,
    "start_time": "2022-06-19T21:06:28.951Z"
   },
   {
    "duration": 56,
    "start_time": "2022-06-19T21:06:32.955Z"
   },
   {
    "duration": 51,
    "start_time": "2022-06-19T21:06:35.988Z"
   },
   {
    "duration": 43,
    "start_time": "2022-06-19T21:06:40.794Z"
   },
   {
    "duration": 33,
    "start_time": "2022-06-19T21:06:45.123Z"
   },
   {
    "duration": 12,
    "start_time": "2022-06-19T21:08:22.125Z"
   },
   {
    "duration": 34,
    "start_time": "2022-06-19T21:08:22.714Z"
   },
   {
    "duration": 2,
    "start_time": "2022-06-19T21:08:38.905Z"
   },
   {
    "duration": 40,
    "start_time": "2022-06-19T21:08:39.385Z"
   },
   {
    "duration": 4,
    "start_time": "2022-06-19T21:08:44.585Z"
   },
   {
    "duration": 25,
    "start_time": "2022-06-19T21:08:44.803Z"
   },
   {
    "duration": 191,
    "start_time": "2022-06-19T21:08:47.615Z"
   },
   {
    "duration": 86,
    "start_time": "2022-06-19T21:08:47.825Z"
   },
   {
    "duration": 37,
    "start_time": "2022-06-19T21:08:48.012Z"
   },
   {
    "duration": 5,
    "start_time": "2022-06-19T21:08:48.790Z"
   },
   {
    "duration": 32,
    "start_time": "2022-06-19T21:08:56.611Z"
   },
   {
    "duration": 5,
    "start_time": "2022-06-19T21:08:58.439Z"
   },
   {
    "duration": 28,
    "start_time": "2022-06-19T21:08:59.015Z"
   },
   {
    "duration": 4,
    "start_time": "2022-06-19T21:09:01.585Z"
   },
   {
    "duration": 35,
    "start_time": "2022-06-19T21:09:02.110Z"
   },
   {
    "duration": 372,
    "start_time": "2022-06-19T21:09:03.138Z"
   },
   {
    "duration": 27,
    "start_time": "2022-06-19T21:09:32.286Z"
   },
   {
    "duration": 15,
    "start_time": "2022-06-19T21:11:37.884Z"
   },
   {
    "duration": 3,
    "start_time": "2022-06-19T21:11:53.613Z"
   },
   {
    "duration": 6,
    "start_time": "2022-06-19T21:12:00.826Z"
   },
   {
    "duration": 5,
    "start_time": "2022-06-19T21:12:08.242Z"
   },
   {
    "duration": 6,
    "start_time": "2022-06-19T21:13:00.620Z"
   },
   {
    "duration": 39,
    "start_time": "2022-06-19T21:13:19.026Z"
   },
   {
    "duration": 7,
    "start_time": "2022-06-19T21:13:24.707Z"
   },
   {
    "duration": 39,
    "start_time": "2022-06-19T21:13:25.213Z"
   },
   {
    "duration": 48,
    "start_time": "2022-06-19T21:14:47.324Z"
   },
   {
    "duration": 353,
    "start_time": "2022-06-19T21:14:48.277Z"
   },
   {
    "duration": 1629,
    "start_time": "2022-06-20T11:04:42.593Z"
   },
   {
    "duration": 109,
    "start_time": "2022-06-20T11:04:44.224Z"
   },
   {
    "duration": 14,
    "start_time": "2022-06-20T11:04:44.335Z"
   },
   {
    "duration": 18,
    "start_time": "2022-06-20T11:04:44.351Z"
   },
   {
    "duration": 6,
    "start_time": "2022-06-20T11:04:44.371Z"
   },
   {
    "duration": 10,
    "start_time": "2022-06-20T11:04:44.379Z"
   },
   {
    "duration": 47,
    "start_time": "2022-06-20T11:04:44.391Z"
   },
   {
    "duration": 5,
    "start_time": "2022-06-20T11:04:44.440Z"
   },
   {
    "duration": 7,
    "start_time": "2022-06-20T11:04:44.446Z"
   },
   {
    "duration": 6,
    "start_time": "2022-06-20T11:04:44.454Z"
   },
   {
    "duration": 6,
    "start_time": "2022-06-20T11:04:44.461Z"
   },
   {
    "duration": 32,
    "start_time": "2022-06-20T11:04:44.468Z"
   },
   {
    "duration": 30,
    "start_time": "2022-06-20T11:04:44.506Z"
   },
   {
    "duration": 14,
    "start_time": "2022-06-20T11:04:44.539Z"
   },
   {
    "duration": 8,
    "start_time": "2022-06-20T11:04:44.554Z"
   },
   {
    "duration": 3711,
    "start_time": "2022-06-20T11:04:44.564Z"
   },
   {
    "duration": 8534,
    "start_time": "2022-06-20T11:04:48.277Z"
   },
   {
    "duration": 42,
    "start_time": "2022-06-20T11:04:56.813Z"
   },
   {
    "duration": 348,
    "start_time": "2022-06-20T11:04:56.856Z"
   },
   {
    "duration": 33,
    "start_time": "2022-06-20T11:04:57.206Z"
   },
   {
    "duration": 209,
    "start_time": "2022-06-20T11:04:57.241Z"
   },
   {
    "duration": 362,
    "start_time": "2022-06-20T11:04:57.452Z"
   },
   {
    "duration": 107,
    "start_time": "2022-06-20T11:04:57.816Z"
   },
   {
    "duration": 160,
    "start_time": "2022-06-20T11:04:57.926Z"
   },
   {
    "duration": 659,
    "start_time": "2022-06-20T11:04:58.087Z"
   },
   {
    "duration": 80,
    "start_time": "2022-06-20T11:04:58.748Z"
   },
   {
    "duration": 198,
    "start_time": "2022-06-20T11:04:58.829Z"
   },
   {
    "duration": 187,
    "start_time": "2022-06-20T11:04:59.028Z"
   },
   {
    "duration": 28,
    "start_time": "2022-06-20T11:04:59.216Z"
   },
   {
    "duration": 238,
    "start_time": "2022-06-20T11:04:59.323Z"
   },
   {
    "duration": 83,
    "start_time": "2022-06-20T11:04:59.563Z"
   },
   {
    "duration": 33,
    "start_time": "2022-06-20T11:04:59.648Z"
   },
   {
    "duration": 127,
    "start_time": "2022-06-20T11:04:59.682Z"
   },
   {
    "duration": 0,
    "start_time": "2022-06-20T11:04:59.811Z"
   },
   {
    "duration": 0,
    "start_time": "2022-06-20T11:04:59.812Z"
   },
   {
    "duration": 0,
    "start_time": "2022-06-20T11:04:59.813Z"
   },
   {
    "duration": 0,
    "start_time": "2022-06-20T11:04:59.823Z"
   },
   {
    "duration": 4,
    "start_time": "2022-06-20T11:05:34.106Z"
   },
   {
    "duration": 52,
    "start_time": "2022-06-20T11:05:34.112Z"
   },
   {
    "duration": 12,
    "start_time": "2022-06-20T11:05:34.166Z"
   },
   {
    "duration": 12,
    "start_time": "2022-06-20T11:05:34.180Z"
   },
   {
    "duration": 6,
    "start_time": "2022-06-20T11:05:34.194Z"
   },
   {
    "duration": 25,
    "start_time": "2022-06-20T11:05:34.201Z"
   },
   {
    "duration": 17,
    "start_time": "2022-06-20T11:05:34.227Z"
   },
   {
    "duration": 5,
    "start_time": "2022-06-20T11:05:34.246Z"
   },
   {
    "duration": 10,
    "start_time": "2022-06-20T11:05:34.252Z"
   },
   {
    "duration": 5,
    "start_time": "2022-06-20T11:05:34.263Z"
   },
   {
    "duration": 11,
    "start_time": "2022-06-20T11:05:34.270Z"
   },
   {
    "duration": 45,
    "start_time": "2022-06-20T11:05:34.282Z"
   },
   {
    "duration": 10,
    "start_time": "2022-06-20T11:05:34.329Z"
   },
   {
    "duration": 7,
    "start_time": "2022-06-20T11:05:34.342Z"
   },
   {
    "duration": 9,
    "start_time": "2022-06-20T11:05:34.350Z"
   },
   {
    "duration": 3787,
    "start_time": "2022-06-20T11:05:34.360Z"
   },
   {
    "duration": 8208,
    "start_time": "2022-06-20T11:05:38.149Z"
   },
   {
    "duration": 33,
    "start_time": "2022-06-20T11:05:46.359Z"
   },
   {
    "duration": 337,
    "start_time": "2022-06-20T11:05:46.394Z"
   },
   {
    "duration": 90,
    "start_time": "2022-06-20T11:05:46.733Z"
   },
   {
    "duration": 129,
    "start_time": "2022-06-20T11:05:46.825Z"
   },
   {
    "duration": 365,
    "start_time": "2022-06-20T11:05:46.955Z"
   },
   {
    "duration": 108,
    "start_time": "2022-06-20T11:05:47.322Z"
   },
   {
    "duration": 244,
    "start_time": "2022-06-20T11:05:47.432Z"
   },
   {
    "duration": 652,
    "start_time": "2022-06-20T11:05:47.678Z"
   },
   {
    "duration": 97,
    "start_time": "2022-06-20T11:05:48.332Z"
   },
   {
    "duration": 212,
    "start_time": "2022-06-20T11:05:48.431Z"
   },
   {
    "duration": 188,
    "start_time": "2022-06-20T11:05:48.645Z"
   },
   {
    "duration": 89,
    "start_time": "2022-06-20T11:05:48.835Z"
   },
   {
    "duration": 236,
    "start_time": "2022-06-20T11:05:48.927Z"
   },
   {
    "duration": 95,
    "start_time": "2022-06-20T11:05:49.165Z"
   },
   {
    "duration": 34,
    "start_time": "2022-06-20T11:05:49.261Z"
   },
   {
    "duration": 27,
    "start_time": "2022-06-20T11:05:49.298Z"
   },
   {
    "duration": 0,
    "start_time": "2022-06-20T11:05:49.327Z"
   },
   {
    "duration": 32,
    "start_time": "2022-06-20T11:06:10.947Z"
   },
   {
    "duration": 8,
    "start_time": "2022-06-20T11:06:11.791Z"
   },
   {
    "duration": 23,
    "start_time": "2022-06-20T11:06:12.510Z"
   },
   {
    "duration": 25,
    "start_time": "2022-06-20T12:13:49.248Z"
   },
   {
    "duration": 5,
    "start_time": "2022-06-20T12:13:50.586Z"
   },
   {
    "duration": 131,
    "start_time": "2022-06-20T12:14:05.484Z"
   },
   {
    "duration": 27,
    "start_time": "2022-06-20T12:16:38.951Z"
   },
   {
    "duration": 11,
    "start_time": "2022-06-20T12:16:53.658Z"
   },
   {
    "duration": 24,
    "start_time": "2022-06-20T12:16:54.144Z"
   },
   {
    "duration": 6,
    "start_time": "2022-06-20T12:16:54.784Z"
   },
   {
    "duration": 4,
    "start_time": "2022-06-20T12:16:58.148Z"
   },
   {
    "duration": 57,
    "start_time": "2022-06-20T12:16:58.154Z"
   },
   {
    "duration": 13,
    "start_time": "2022-06-20T12:16:58.213Z"
   },
   {
    "duration": 13,
    "start_time": "2022-06-20T12:16:58.228Z"
   },
   {
    "duration": 7,
    "start_time": "2022-06-20T12:16:58.243Z"
   },
   {
    "duration": 11,
    "start_time": "2022-06-20T12:16:58.252Z"
   },
   {
    "duration": 29,
    "start_time": "2022-06-20T12:16:58.265Z"
   },
   {
    "duration": 0,
    "start_time": "2022-06-20T12:16:58.296Z"
   },
   {
    "duration": 7,
    "start_time": "2022-06-20T12:17:01.469Z"
   },
   {
    "duration": 5,
    "start_time": "2022-06-20T12:17:02.564Z"
   },
   {
    "duration": 5,
    "start_time": "2022-06-20T12:17:03.411Z"
   },
   {
    "duration": 19,
    "start_time": "2022-06-20T12:20:23.898Z"
   },
   {
    "duration": 6,
    "start_time": "2022-06-20T12:20:27.886Z"
   },
   {
    "duration": 4,
    "start_time": "2022-06-20T12:20:30.142Z"
   },
   {
    "duration": 8,
    "start_time": "2022-06-20T12:20:59.462Z"
   },
   {
    "duration": 4,
    "start_time": "2022-06-20T12:21:00.895Z"
   },
   {
    "duration": 4,
    "start_time": "2022-06-20T12:21:01.789Z"
   },
   {
    "duration": 19,
    "start_time": "2022-06-20T12:21:07.161Z"
   },
   {
    "duration": 7,
    "start_time": "2022-06-20T12:21:07.326Z"
   },
   {
    "duration": 5,
    "start_time": "2022-06-20T12:21:07.983Z"
   },
   {
    "duration": 4,
    "start_time": "2022-06-20T12:21:08.502Z"
   },
   {
    "duration": 4,
    "start_time": "2022-06-20T12:21:09.164Z"
   },
   {
    "duration": 31,
    "start_time": "2022-06-20T12:21:16.981Z"
   },
   {
    "duration": 12,
    "start_time": "2022-06-20T12:21:17.663Z"
   },
   {
    "duration": 7,
    "start_time": "2022-06-20T12:21:19.309Z"
   },
   {
    "duration": 5,
    "start_time": "2022-06-20T12:21:19.587Z"
   },
   {
    "duration": 3975,
    "start_time": "2022-06-20T12:21:22.558Z"
   },
   {
    "duration": 8609,
    "start_time": "2022-06-20T12:21:26.535Z"
   },
   {
    "duration": 37,
    "start_time": "2022-06-20T12:21:35.146Z"
   },
   {
    "duration": 369,
    "start_time": "2022-06-20T12:21:35.185Z"
   },
   {
    "duration": 73,
    "start_time": "2022-06-20T12:21:35.555Z"
   },
   {
    "duration": 38,
    "start_time": "2022-06-20T12:21:39.462Z"
   },
   {
    "duration": 365,
    "start_time": "2022-06-20T12:21:41.662Z"
   },
   {
    "duration": 95,
    "start_time": "2022-06-20T12:21:42.927Z"
   },
   {
    "duration": 94,
    "start_time": "2022-06-20T12:21:45.013Z"
   },
   {
    "duration": 645,
    "start_time": "2022-06-20T12:21:46.186Z"
   },
   {
    "duration": 69,
    "start_time": "2022-06-20T12:21:48.857Z"
   },
   {
    "duration": 42,
    "start_time": "2022-06-20T12:21:52.852Z"
   },
   {
    "duration": 218,
    "start_time": "2022-06-20T12:21:54.307Z"
   },
   {
    "duration": 116,
    "start_time": "2022-06-20T12:21:56.313Z"
   },
   {
    "duration": 201,
    "start_time": "2022-06-20T12:21:58.909Z"
   },
   {
    "duration": 101,
    "start_time": "2022-06-20T12:22:08.632Z"
   },
   {
    "duration": 35,
    "start_time": "2022-06-20T12:22:42.065Z"
   },
   {
    "duration": 21,
    "start_time": "2022-06-20T12:22:46.967Z"
   },
   {
    "duration": 4,
    "start_time": "2022-06-20T12:25:10.719Z"
   },
   {
    "duration": 5,
    "start_time": "2022-06-20T12:25:48.187Z"
   },
   {
    "duration": 7,
    "start_time": "2022-06-20T12:26:11.387Z"
   },
   {
    "duration": 43,
    "start_time": "2022-06-20T12:26:11.695Z"
   },
   {
    "duration": 80,
    "start_time": "2022-06-20T12:26:21.265Z"
   },
   {
    "duration": 34,
    "start_time": "2022-06-20T12:26:34.812Z"
   },
   {
    "duration": 21,
    "start_time": "2022-06-20T12:26:39.795Z"
   },
   {
    "duration": 4,
    "start_time": "2022-06-20T12:27:44.560Z"
   },
   {
    "duration": 51,
    "start_time": "2022-06-20T12:27:44.787Z"
   },
   {
    "duration": 12,
    "start_time": "2022-06-20T12:27:45.360Z"
   },
   {
    "duration": 14,
    "start_time": "2022-06-20T12:27:47.059Z"
   },
   {
    "duration": 8,
    "start_time": "2022-06-20T12:27:48.437Z"
   },
   {
    "duration": 12,
    "start_time": "2022-06-20T12:27:50.127Z"
   },
   {
    "duration": 19,
    "start_time": "2022-06-20T12:27:52.929Z"
   },
   {
    "duration": 8,
    "start_time": "2022-06-20T12:27:53.857Z"
   },
   {
    "duration": 4,
    "start_time": "2022-06-20T12:27:54.984Z"
   },
   {
    "duration": 4,
    "start_time": "2022-06-20T12:27:56.348Z"
   },
   {
    "duration": 4,
    "start_time": "2022-06-20T12:27:57.188Z"
   },
   {
    "duration": 30,
    "start_time": "2022-06-20T12:27:58.765Z"
   },
   {
    "duration": 16,
    "start_time": "2022-06-20T12:27:59.278Z"
   },
   {
    "duration": 6,
    "start_time": "2022-06-20T12:28:08.784Z"
   },
   {
    "duration": 5,
    "start_time": "2022-06-20T12:28:09.425Z"
   },
   {
    "duration": 29,
    "start_time": "2022-06-20T12:31:22.691Z"
   },
   {
    "duration": 23,
    "start_time": "2022-06-20T12:34:40.142Z"
   },
   {
    "duration": 9,
    "start_time": "2022-06-20T12:34:40.396Z"
   },
   {
    "duration": 8,
    "start_time": "2022-06-20T12:34:41.183Z"
   },
   {
    "duration": 4,
    "start_time": "2022-06-20T12:34:41.742Z"
   },
   {
    "duration": 5,
    "start_time": "2022-06-20T12:34:42.343Z"
   },
   {
    "duration": 48,
    "start_time": "2022-06-20T12:34:43.614Z"
   },
   {
    "duration": 13,
    "start_time": "2022-06-20T12:34:45.185Z"
   },
   {
    "duration": 16,
    "start_time": "2022-06-20T12:36:03.886Z"
   },
   {
    "duration": 8,
    "start_time": "2022-06-20T12:36:06.834Z"
   },
   {
    "duration": 4,
    "start_time": "2022-06-20T12:36:07.376Z"
   },
   {
    "duration": 5399,
    "start_time": "2022-06-20T12:36:16.227Z"
   },
   {
    "duration": 9034,
    "start_time": "2022-06-20T12:36:21.629Z"
   },
   {
    "duration": 163,
    "start_time": "2022-06-20T12:39:34.047Z"
   },
   {
    "duration": 24,
    "start_time": "2022-06-20T12:40:00.134Z"
   },
   {
    "duration": 21,
    "start_time": "2022-06-20T12:40:08.946Z"
   },
   {
    "duration": 7,
    "start_time": "2022-06-20T12:40:14.313Z"
   },
   {
    "duration": 4,
    "start_time": "2022-06-20T12:40:18.816Z"
   },
   {
    "duration": 5,
    "start_time": "2022-06-20T12:40:19.447Z"
   },
   {
    "duration": 32,
    "start_time": "2022-06-20T12:40:23.353Z"
   },
   {
    "duration": 11,
    "start_time": "2022-06-20T12:40:23.662Z"
   },
   {
    "duration": 5,
    "start_time": "2022-06-20T12:40:24.045Z"
   },
   {
    "duration": 5,
    "start_time": "2022-06-20T12:40:24.513Z"
   },
   {
    "duration": 6,
    "start_time": "2022-06-20T12:40:24.911Z"
   },
   {
    "duration": 43,
    "start_time": "2022-06-20T12:40:32.403Z"
   },
   {
    "duration": 17,
    "start_time": "2022-06-20T12:40:32.883Z"
   },
   {
    "duration": 6,
    "start_time": "2022-06-20T12:40:34.384Z"
   },
   {
    "duration": 6,
    "start_time": "2022-06-20T12:40:34.665Z"
   },
   {
    "duration": 4089,
    "start_time": "2022-06-20T12:40:36.517Z"
   },
   {
    "duration": 10137,
    "start_time": "2022-06-20T12:40:40.608Z"
   },
   {
    "duration": 50,
    "start_time": "2022-06-20T12:40:50.748Z"
   },
   {
    "duration": 497,
    "start_time": "2022-06-20T12:40:50.801Z"
   },
   {
    "duration": 138,
    "start_time": "2022-06-20T12:40:51.300Z"
   },
   {
    "duration": 53,
    "start_time": "2022-06-20T12:40:51.523Z"
   },
   {
    "duration": 526,
    "start_time": "2022-06-20T12:40:53.156Z"
   },
   {
    "duration": 93,
    "start_time": "2022-06-20T12:40:53.946Z"
   },
   {
    "duration": 83,
    "start_time": "2022-06-20T12:41:00.087Z"
   },
   {
    "duration": 700,
    "start_time": "2022-06-20T12:41:03.805Z"
   },
   {
    "duration": 239,
    "start_time": "2022-06-20T12:41:06.202Z"
   },
   {
    "duration": 40,
    "start_time": "2022-06-20T12:41:08.886Z"
   },
   {
    "duration": 191,
    "start_time": "2022-06-20T12:41:09.563Z"
   },
   {
    "duration": 75,
    "start_time": "2022-06-20T12:41:10.348Z"
   },
   {
    "duration": 5,
    "start_time": "2022-06-20T12:42:21.315Z"
   },
   {
    "duration": 5,
    "start_time": "2022-06-20T12:43:42.741Z"
   },
   {
    "duration": 398,
    "start_time": "2022-06-20T12:43:48.472Z"
   },
   {
    "duration": 255,
    "start_time": "2022-06-20T12:43:48.873Z"
   },
   {
    "duration": 75,
    "start_time": "2022-06-20T12:43:49.681Z"
   },
   {
    "duration": 724,
    "start_time": "2022-06-20T12:43:50.403Z"
   },
   {
    "duration": 5,
    "start_time": "2022-06-20T12:43:51.129Z"
   },
   {
    "duration": 5,
    "start_time": "2022-06-20T12:44:06.137Z"
   },
   {
    "duration": 3481,
    "start_time": "2022-06-20T12:44:43.300Z"
   },
   {
    "duration": 5,
    "start_time": "2022-06-20T12:44:46.783Z"
   },
   {
    "duration": 674,
    "start_time": "2022-06-20T12:44:52.882Z"
   },
   {
    "duration": 6,
    "start_time": "2022-06-20T12:44:55.026Z"
   },
   {
    "duration": 6,
    "start_time": "2022-06-20T12:45:36.578Z"
   },
   {
    "duration": 174,
    "start_time": "2022-06-20T12:45:43.561Z"
   },
   {
    "duration": 34,
    "start_time": "2022-06-20T12:45:45.923Z"
   },
   {
    "duration": 192,
    "start_time": "2022-06-20T12:45:46.930Z"
   },
   {
    "duration": 80,
    "start_time": "2022-06-20T12:45:48.150Z"
   },
   {
    "duration": 152,
    "start_time": "2022-06-20T12:45:50.429Z"
   },
   {
    "duration": 97,
    "start_time": "2022-06-20T12:45:55.526Z"
   },
   {
    "duration": 67,
    "start_time": "2022-06-20T12:46:09.825Z"
   },
   {
    "duration": 73,
    "start_time": "2022-06-20T12:46:16.280Z"
   },
   {
    "duration": 141,
    "start_time": "2022-06-20T12:50:04.878Z"
   },
   {
    "duration": 117,
    "start_time": "2022-06-20T12:50:17.005Z"
   },
   {
    "duration": 113,
    "start_time": "2022-06-20T12:51:34.239Z"
   },
   {
    "duration": 149,
    "start_time": "2022-06-20T12:51:45.543Z"
   },
   {
    "duration": 103,
    "start_time": "2022-06-20T12:51:45.750Z"
   },
   {
    "duration": 35,
    "start_time": "2022-06-20T12:51:46.015Z"
   },
   {
    "duration": 24,
    "start_time": "2022-06-20T12:51:48.983Z"
   },
   {
    "duration": 67,
    "start_time": "2022-06-20T12:52:25.557Z"
   },
   {
    "duration": 47,
    "start_time": "2022-06-20T12:52:47.589Z"
   },
   {
    "duration": 33,
    "start_time": "2022-06-20T12:52:48.689Z"
   },
   {
    "duration": 19,
    "start_time": "2022-06-20T13:00:04.295Z"
   },
   {
    "duration": 20,
    "start_time": "2022-06-20T13:00:08.089Z"
   },
   {
    "duration": 9,
    "start_time": "2022-06-20T13:01:01.830Z"
   },
   {
    "duration": 20,
    "start_time": "2022-06-20T13:01:04.857Z"
   },
   {
    "duration": 6,
    "start_time": "2022-06-20T13:01:05.582Z"
   },
   {
    "duration": 4,
    "start_time": "2022-06-20T13:01:06.205Z"
   },
   {
    "duration": 4,
    "start_time": "2022-06-20T13:01:06.752Z"
   },
   {
    "duration": 4,
    "start_time": "2022-06-20T13:01:07.785Z"
   },
   {
    "duration": 14,
    "start_time": "2022-06-20T13:01:18.983Z"
   },
   {
    "duration": 20,
    "start_time": "2022-06-20T13:01:19.506Z"
   },
   {
    "duration": 7,
    "start_time": "2022-06-20T13:01:19.804Z"
   },
   {
    "duration": 5,
    "start_time": "2022-06-20T13:01:21.245Z"
   },
   {
    "duration": 5,
    "start_time": "2022-06-20T13:01:22.778Z"
   },
   {
    "duration": 5,
    "start_time": "2022-06-20T13:01:24.080Z"
   },
   {
    "duration": 44,
    "start_time": "2022-06-20T13:01:31.970Z"
   },
   {
    "duration": 17,
    "start_time": "2022-06-20T13:01:32.657Z"
   },
   {
    "duration": 5,
    "start_time": "2022-06-20T13:01:45.591Z"
   },
   {
    "duration": 3973,
    "start_time": "2022-06-20T13:01:46.926Z"
   },
   {
    "duration": 8645,
    "start_time": "2022-06-20T13:01:50.901Z"
   },
   {
    "duration": 40,
    "start_time": "2022-06-20T13:02:01.924Z"
   },
   {
    "duration": 470,
    "start_time": "2022-06-20T13:02:02.681Z"
   },
   {
    "duration": 72,
    "start_time": "2022-06-20T13:02:03.861Z"
   },
   {
    "duration": 54,
    "start_time": "2022-06-20T13:02:06.891Z"
   },
   {
    "duration": 447,
    "start_time": "2022-06-20T13:02:07.946Z"
   },
   {
    "duration": 89,
    "start_time": "2022-06-20T13:02:09.840Z"
   },
   {
    "duration": 78,
    "start_time": "2022-06-20T13:02:12.081Z"
   },
   {
    "duration": 734,
    "start_time": "2022-06-20T13:02:13.512Z"
   },
   {
    "duration": 5,
    "start_time": "2022-06-20T13:02:16.210Z"
   },
   {
    "duration": 139,
    "start_time": "2022-06-20T13:02:17.787Z"
   },
   {
    "duration": 29,
    "start_time": "2022-06-20T13:02:21.842Z"
   },
   {
    "duration": 205,
    "start_time": "2022-06-20T13:02:23.866Z"
   },
   {
    "duration": 75,
    "start_time": "2022-06-20T13:02:25.249Z"
   },
   {
    "duration": 150,
    "start_time": "2022-06-20T13:02:26.980Z"
   },
   {
    "duration": 71,
    "start_time": "2022-06-20T13:02:29.732Z"
   },
   {
    "duration": 45,
    "start_time": "2022-06-20T13:02:50.833Z"
   },
   {
    "duration": 23,
    "start_time": "2022-06-20T13:03:01.330Z"
   },
   {
    "duration": 41,
    "start_time": "2022-06-20T13:04:17.963Z"
   },
   {
    "duration": 7,
    "start_time": "2022-06-20T13:04:20.705Z"
   },
   {
    "duration": 43,
    "start_time": "2022-06-20T13:04:20.990Z"
   },
   {
    "duration": 51,
    "start_time": "2022-06-20T13:04:23.236Z"
   },
   {
    "duration": 39,
    "start_time": "2022-06-20T13:04:31.792Z"
   },
   {
    "duration": 27,
    "start_time": "2022-06-20T13:04:32.097Z"
   },
   {
    "duration": 3,
    "start_time": "2022-06-20T13:04:32.848Z"
   },
   {
    "duration": 9,
    "start_time": "2022-06-20T13:04:33.389Z"
   },
   {
    "duration": 59,
    "start_time": "2022-06-20T13:04:33.617Z"
   },
   {
    "duration": 158,
    "start_time": "2022-06-20T13:06:13.281Z"
   },
   {
    "duration": 330,
    "start_time": "2022-06-20T13:06:25.786Z"
   },
   {
    "duration": 33,
    "start_time": "2022-06-20T13:06:34.328Z"
   },
   {
    "duration": 72,
    "start_time": "2022-06-20T13:06:36.135Z"
   },
   {
    "duration": 32,
    "start_time": "2022-06-20T13:06:36.335Z"
   },
   {
    "duration": 22,
    "start_time": "2022-06-20T13:06:36.515Z"
   },
   {
    "duration": 5,
    "start_time": "2022-06-20T13:06:42.287Z"
   },
   {
    "duration": 82,
    "start_time": "2022-06-20T13:06:42.294Z"
   },
   {
    "duration": 21,
    "start_time": "2022-06-20T13:06:42.379Z"
   },
   {
    "duration": 14,
    "start_time": "2022-06-20T13:06:42.402Z"
   },
   {
    "duration": 10,
    "start_time": "2022-06-20T13:06:42.420Z"
   },
   {
    "duration": 20,
    "start_time": "2022-06-20T13:06:42.432Z"
   },
   {
    "duration": 20,
    "start_time": "2022-06-20T13:06:42.453Z"
   },
   {
    "duration": 8,
    "start_time": "2022-06-20T13:06:42.474Z"
   },
   {
    "duration": 5,
    "start_time": "2022-06-20T13:06:42.485Z"
   },
   {
    "duration": 34,
    "start_time": "2022-06-20T13:06:42.492Z"
   },
   {
    "duration": 4,
    "start_time": "2022-06-20T13:06:42.529Z"
   },
   {
    "duration": 47,
    "start_time": "2022-06-20T13:06:42.535Z"
   },
   {
    "duration": 16,
    "start_time": "2022-06-20T13:06:42.584Z"
   },
   {
    "duration": 27,
    "start_time": "2022-06-20T13:06:42.605Z"
   },
   {
    "duration": 3870,
    "start_time": "2022-06-20T13:06:42.634Z"
   },
   {
    "duration": 8575,
    "start_time": "2022-06-20T13:06:46.505Z"
   },
   {
    "duration": 42,
    "start_time": "2022-06-20T13:06:55.082Z"
   },
   {
    "duration": 349,
    "start_time": "2022-06-20T13:06:55.126Z"
   },
   {
    "duration": 53,
    "start_time": "2022-06-20T13:06:55.477Z"
   },
   {
    "duration": 126,
    "start_time": "2022-06-20T13:06:55.533Z"
   },
   {
    "duration": 380,
    "start_time": "2022-06-20T13:06:55.661Z"
   },
   {
    "duration": 88,
    "start_time": "2022-06-20T13:06:56.043Z"
   },
   {
    "duration": 222,
    "start_time": "2022-06-20T13:06:56.135Z"
   },
   {
    "duration": 661,
    "start_time": "2022-06-20T13:06:56.359Z"
   },
   {
    "duration": 6,
    "start_time": "2022-06-20T13:06:57.022Z"
   },
   {
    "duration": 98,
    "start_time": "2022-06-20T13:06:57.030Z"
   },
   {
    "duration": 126,
    "start_time": "2022-06-20T13:06:57.130Z"
   },
   {
    "duration": 236,
    "start_time": "2022-06-20T13:06:57.257Z"
   },
   {
    "duration": 36,
    "start_time": "2022-06-20T13:06:57.494Z"
   },
   {
    "duration": 331,
    "start_time": "2022-06-20T13:06:57.533Z"
   },
   {
    "duration": 81,
    "start_time": "2022-06-20T13:06:57.865Z"
   },
   {
    "duration": 34,
    "start_time": "2022-06-20T13:06:57.948Z"
   },
   {
    "duration": 43,
    "start_time": "2022-06-20T13:06:57.984Z"
   },
   {
    "duration": 3328,
    "start_time": "2022-06-20T13:10:44.515Z"
   },
   {
    "duration": 6,
    "start_time": "2022-06-20T13:10:47.845Z"
   },
   {
    "duration": 15,
    "start_time": "2022-06-20T13:13:49.075Z"
   },
   {
    "duration": 54,
    "start_time": "2022-06-20T13:13:49.092Z"
   },
   {
    "duration": 18,
    "start_time": "2022-06-20T13:13:49.148Z"
   },
   {
    "duration": 19,
    "start_time": "2022-06-20T13:13:49.168Z"
   },
   {
    "duration": 9,
    "start_time": "2022-06-20T13:13:49.189Z"
   },
   {
    "duration": 15,
    "start_time": "2022-06-20T13:13:49.222Z"
   },
   {
    "duration": 19,
    "start_time": "2022-06-20T13:13:49.239Z"
   },
   {
    "duration": 7,
    "start_time": "2022-06-20T13:13:49.260Z"
   },
   {
    "duration": 9,
    "start_time": "2022-06-20T13:13:49.269Z"
   },
   {
    "duration": 14,
    "start_time": "2022-06-20T13:13:49.280Z"
   },
   {
    "duration": 36,
    "start_time": "2022-06-20T13:13:49.296Z"
   },
   {
    "duration": 32,
    "start_time": "2022-06-20T13:13:49.334Z"
   },
   {
    "duration": 16,
    "start_time": "2022-06-20T13:13:49.368Z"
   },
   {
    "duration": 7,
    "start_time": "2022-06-20T13:13:49.386Z"
   },
   {
    "duration": 4151,
    "start_time": "2022-06-20T13:13:49.395Z"
   },
   {
    "duration": 8727,
    "start_time": "2022-06-20T13:13:53.549Z"
   },
   {
    "duration": 40,
    "start_time": "2022-06-20T13:14:02.278Z"
   },
   {
    "duration": 500,
    "start_time": "2022-06-20T13:14:02.324Z"
   },
   {
    "duration": 100,
    "start_time": "2022-06-20T13:14:02.827Z"
   },
   {
    "duration": 143,
    "start_time": "2022-06-20T13:14:02.930Z"
   },
   {
    "duration": 408,
    "start_time": "2022-06-20T13:14:03.076Z"
   },
   {
    "duration": 145,
    "start_time": "2022-06-20T13:14:03.487Z"
   },
   {
    "duration": 208,
    "start_time": "2022-06-20T13:14:03.635Z"
   },
   {
    "duration": 566,
    "start_time": "2022-06-20T13:14:03.846Z"
   },
   {
    "duration": 11,
    "start_time": "2022-06-20T13:14:04.414Z"
   },
   {
    "duration": 612,
    "start_time": "2022-06-20T13:19:48.894Z"
   },
   {
    "duration": 5,
    "start_time": "2022-06-20T13:19:50.711Z"
   },
   {
    "duration": 1019,
    "start_time": "2022-06-20T13:19:59.345Z"
   },
   {
    "duration": 6,
    "start_time": "2022-06-20T13:20:01.824Z"
   },
   {
    "duration": 706,
    "start_time": "2022-06-20T13:20:07.920Z"
   },
   {
    "duration": 555,
    "start_time": "2022-06-20T13:20:14.704Z"
   },
   {
    "duration": 5,
    "start_time": "2022-06-20T13:20:16.408Z"
   },
   {
    "duration": 599,
    "start_time": "2022-06-20T13:20:27.916Z"
   },
   {
    "duration": 5,
    "start_time": "2022-06-20T13:20:29.888Z"
   },
   {
    "duration": 8,
    "start_time": "2022-06-20T13:20:49.999Z"
   },
   {
    "duration": 5,
    "start_time": "2022-06-20T13:20:57.550Z"
   },
   {
    "duration": 5,
    "start_time": "2022-06-20T13:21:14.870Z"
   },
   {
    "duration": 5,
    "start_time": "2022-06-20T13:21:29.601Z"
   },
   {
    "duration": 113,
    "start_time": "2022-06-20T13:21:30.011Z"
   },
   {
    "duration": 28,
    "start_time": "2022-06-20T13:21:31.153Z"
   },
   {
    "duration": 249,
    "start_time": "2022-06-20T13:21:31.802Z"
   },
   {
    "duration": 99,
    "start_time": "2022-06-20T13:21:32.124Z"
   },
   {
    "duration": 157,
    "start_time": "2022-06-20T13:21:32.712Z"
   },
   {
    "duration": 77,
    "start_time": "2022-06-20T13:21:33.148Z"
   },
   {
    "duration": 19,
    "start_time": "2022-06-20T13:21:33.913Z"
   },
   {
    "duration": 22,
    "start_time": "2022-06-20T13:21:49.310Z"
   },
   {
    "duration": 3,
    "start_time": "2022-06-20T13:21:51.936Z"
   },
   {
    "duration": 12,
    "start_time": "2022-06-20T13:21:52.755Z"
   },
   {
    "duration": 46,
    "start_time": "2022-06-20T13:21:53.601Z"
   },
   {
    "duration": 21,
    "start_time": "2022-06-20T13:21:55.190Z"
   },
   {
    "duration": 22,
    "start_time": "2022-06-20T13:23:40.737Z"
   },
   {
    "duration": 8,
    "start_time": "2022-06-20T13:26:01.705Z"
   },
   {
    "duration": 43,
    "start_time": "2022-06-20T13:26:04.110Z"
   },
   {
    "duration": 22,
    "start_time": "2022-06-20T13:26:05.633Z"
   },
   {
    "duration": 9,
    "start_time": "2022-06-20T13:26:34.110Z"
   },
   {
    "duration": 41,
    "start_time": "2022-06-20T13:26:34.803Z"
   },
   {
    "duration": 3,
    "start_time": "2022-06-20T13:26:39.150Z"
   },
   {
    "duration": 53,
    "start_time": "2022-06-20T13:26:39.156Z"
   },
   {
    "duration": 16,
    "start_time": "2022-06-20T13:26:39.212Z"
   },
   {
    "duration": 14,
    "start_time": "2022-06-20T13:26:39.231Z"
   },
   {
    "duration": 7,
    "start_time": "2022-06-20T13:26:39.247Z"
   },
   {
    "duration": 13,
    "start_time": "2022-06-20T13:26:39.256Z"
   },
   {
    "duration": 19,
    "start_time": "2022-06-20T13:26:39.271Z"
   },
   {
    "duration": 32,
    "start_time": "2022-06-20T13:26:39.292Z"
   },
   {
    "duration": 5,
    "start_time": "2022-06-20T13:26:39.327Z"
   },
   {
    "duration": 6,
    "start_time": "2022-06-20T13:26:39.334Z"
   },
   {
    "duration": 7,
    "start_time": "2022-06-20T13:26:39.341Z"
   },
   {
    "duration": 32,
    "start_time": "2022-06-20T13:26:39.350Z"
   },
   {
    "duration": 12,
    "start_time": "2022-06-20T13:26:39.383Z"
   },
   {
    "duration": 4,
    "start_time": "2022-06-20T13:26:39.424Z"
   },
   {
    "duration": 3906,
    "start_time": "2022-06-20T13:26:39.430Z"
   },
   {
    "duration": 8157,
    "start_time": "2022-06-20T13:26:43.338Z"
   },
   {
    "duration": 42,
    "start_time": "2022-06-20T13:26:51.497Z"
   },
   {
    "duration": 345,
    "start_time": "2022-06-20T13:26:51.541Z"
   },
   {
    "duration": 43,
    "start_time": "2022-06-20T13:26:51.887Z"
   },
   {
    "duration": 131,
    "start_time": "2022-06-20T13:26:51.933Z"
   },
   {
    "duration": 408,
    "start_time": "2022-06-20T13:26:52.066Z"
   },
   {
    "duration": 55,
    "start_time": "2022-06-20T13:26:52.476Z"
   },
   {
    "duration": 269,
    "start_time": "2022-06-20T13:26:52.533Z"
   },
   {
    "duration": 605,
    "start_time": "2022-06-20T13:26:52.806Z"
   },
   {
    "duration": 11,
    "start_time": "2022-06-20T13:26:53.413Z"
   },
   {
    "duration": 100,
    "start_time": "2022-06-20T13:26:53.426Z"
   },
   {
    "duration": 117,
    "start_time": "2022-06-20T13:26:53.528Z"
   },
   {
    "duration": 206,
    "start_time": "2022-06-20T13:26:53.646Z"
   },
   {
    "duration": 74,
    "start_time": "2022-06-20T13:26:53.854Z"
   },
   {
    "duration": 271,
    "start_time": "2022-06-20T13:26:53.930Z"
   },
   {
    "duration": 74,
    "start_time": "2022-06-20T13:26:54.203Z"
   },
   {
    "duration": 20,
    "start_time": "2022-06-20T13:26:54.278Z"
   },
   {
    "duration": 36,
    "start_time": "2022-06-20T13:26:54.300Z"
   },
   {
    "duration": 8,
    "start_time": "2022-06-20T13:26:54.339Z"
   },
   {
    "duration": 39,
    "start_time": "2022-06-20T13:26:54.349Z"
   },
   {
    "duration": 39,
    "start_time": "2022-06-20T13:26:56.317Z"
   },
   {
    "duration": 32,
    "start_time": "2022-06-20T13:35:06.629Z"
   },
   {
    "duration": 21,
    "start_time": "2022-06-20T13:35:29.801Z"
   },
   {
    "duration": 13,
    "start_time": "2022-06-20T13:35:44.759Z"
   },
   {
    "duration": 11,
    "start_time": "2022-06-20T13:35:49.715Z"
   },
   {
    "duration": 27,
    "start_time": "2022-06-20T13:36:33.640Z"
   },
   {
    "duration": 13,
    "start_time": "2022-06-20T13:36:43.821Z"
   },
   {
    "duration": 8,
    "start_time": "2022-06-20T13:36:44.972Z"
   },
   {
    "duration": 5,
    "start_time": "2022-06-20T13:36:46.709Z"
   },
   {
    "duration": 5,
    "start_time": "2022-06-20T13:36:47.660Z"
   },
   {
    "duration": 5,
    "start_time": "2022-06-20T13:36:49.147Z"
   },
   {
    "duration": 3,
    "start_time": "2022-06-20T13:36:58.545Z"
   },
   {
    "duration": 33,
    "start_time": "2022-06-20T13:36:59.310Z"
   },
   {
    "duration": 3,
    "start_time": "2022-06-20T13:37:06.901Z"
   },
   {
    "duration": 13,
    "start_time": "2022-06-20T13:37:07.240Z"
   },
   {
    "duration": 11,
    "start_time": "2022-06-20T13:37:11.622Z"
   },
   {
    "duration": 4196,
    "start_time": "2022-06-20T13:37:13.357Z"
   },
   {
    "duration": 9318,
    "start_time": "2022-06-20T13:37:17.556Z"
   },
   {
    "duration": 42,
    "start_time": "2022-06-20T13:37:29.212Z"
   },
   {
    "duration": 374,
    "start_time": "2022-06-20T13:37:29.943Z"
   },
   {
    "duration": 63,
    "start_time": "2022-06-20T13:37:31.174Z"
   },
   {
    "duration": 57,
    "start_time": "2022-06-20T13:37:32.971Z"
   },
   {
    "duration": 402,
    "start_time": "2022-06-20T13:37:33.367Z"
   },
   {
    "duration": 111,
    "start_time": "2022-06-20T13:37:35.642Z"
   },
   {
    "duration": 88,
    "start_time": "2022-06-20T13:37:36.846Z"
   },
   {
    "duration": 690,
    "start_time": "2022-06-20T13:37:38.006Z"
   },
   {
    "duration": 5,
    "start_time": "2022-06-20T13:37:38.707Z"
   },
   {
    "duration": 67,
    "start_time": "2022-06-20T13:37:40.374Z"
   },
   {
    "duration": 40,
    "start_time": "2022-06-20T13:37:43.154Z"
   },
   {
    "duration": 227,
    "start_time": "2022-06-20T13:37:44.115Z"
   },
   {
    "duration": 28,
    "start_time": "2022-06-20T13:37:45.590Z"
   },
   {
    "duration": 160,
    "start_time": "2022-06-20T13:37:47.947Z"
   },
   {
    "duration": 89,
    "start_time": "2022-06-20T13:37:48.910Z"
   },
   {
    "duration": 34,
    "start_time": "2022-06-20T13:37:50.839Z"
   },
   {
    "duration": 36,
    "start_time": "2022-06-20T13:38:26.809Z"
   },
   {
    "duration": 39,
    "start_time": "2022-06-20T13:38:29.966Z"
   },
   {
    "duration": 38,
    "start_time": "2022-06-20T13:38:34.503Z"
   },
   {
    "duration": 20,
    "start_time": "2022-06-20T13:38:37.941Z"
   },
   {
    "duration": 48,
    "start_time": "2022-06-20T13:38:38.865Z"
   },
   {
    "duration": 10,
    "start_time": "2022-06-20T13:39:22.146Z"
   },
   {
    "duration": 57,
    "start_time": "2022-06-20T13:39:22.735Z"
   },
   {
    "duration": 4,
    "start_time": "2022-06-20T13:39:33.548Z"
   },
   {
    "duration": 62,
    "start_time": "2022-06-20T13:39:33.555Z"
   },
   {
    "duration": 17,
    "start_time": "2022-06-20T13:39:33.619Z"
   },
   {
    "duration": 30,
    "start_time": "2022-06-20T13:39:33.638Z"
   },
   {
    "duration": 8,
    "start_time": "2022-06-20T13:39:33.671Z"
   },
   {
    "duration": 16,
    "start_time": "2022-06-20T13:39:33.681Z"
   },
   {
    "duration": 40,
    "start_time": "2022-06-20T13:39:33.699Z"
   },
   {
    "duration": 34,
    "start_time": "2022-06-20T13:39:33.744Z"
   },
   {
    "duration": 11,
    "start_time": "2022-06-20T13:39:33.780Z"
   },
   {
    "duration": 7,
    "start_time": "2022-06-20T13:39:33.793Z"
   },
   {
    "duration": 34,
    "start_time": "2022-06-20T13:39:33.801Z"
   },
   {
    "duration": 9,
    "start_time": "2022-06-20T13:39:33.837Z"
   },
   {
    "duration": 7,
    "start_time": "2022-06-20T13:39:33.848Z"
   },
   {
    "duration": 4,
    "start_time": "2022-06-20T13:39:33.858Z"
   },
   {
    "duration": 20,
    "start_time": "2022-06-20T13:39:33.864Z"
   },
   {
    "duration": 9,
    "start_time": "2022-06-20T13:39:33.886Z"
   },
   {
    "duration": 4116,
    "start_time": "2022-06-20T13:39:33.897Z"
   },
   {
    "duration": 9123,
    "start_time": "2022-06-20T13:39:38.015Z"
   },
   {
    "duration": 45,
    "start_time": "2022-06-20T13:39:47.143Z"
   },
   {
    "duration": 370,
    "start_time": "2022-06-20T13:39:47.190Z"
   },
   {
    "duration": 86,
    "start_time": "2022-06-20T13:39:47.561Z"
   },
   {
    "duration": 118,
    "start_time": "2022-06-20T13:39:47.648Z"
   },
   {
    "duration": 405,
    "start_time": "2022-06-20T13:39:47.768Z"
   },
   {
    "duration": 61,
    "start_time": "2022-06-20T13:39:48.175Z"
   },
   {
    "duration": 251,
    "start_time": "2022-06-20T13:39:48.238Z"
   },
   {
    "duration": 736,
    "start_time": "2022-06-20T13:39:48.491Z"
   },
   {
    "duration": 4,
    "start_time": "2022-06-20T13:39:49.228Z"
   },
   {
    "duration": 205,
    "start_time": "2022-06-20T13:39:49.234Z"
   },
   {
    "duration": 117,
    "start_time": "2022-06-20T13:39:49.450Z"
   },
   {
    "duration": 267,
    "start_time": "2022-06-20T13:39:49.570Z"
   },
   {
    "duration": 95,
    "start_time": "2022-06-20T13:39:49.839Z"
   },
   {
    "duration": 301,
    "start_time": "2022-06-20T13:39:49.937Z"
   },
   {
    "duration": 110,
    "start_time": "2022-06-20T13:39:50.240Z"
   },
   {
    "duration": 36,
    "start_time": "2022-06-20T13:39:50.352Z"
   },
   {
    "duration": 49,
    "start_time": "2022-06-20T13:39:50.390Z"
   },
   {
    "duration": 12,
    "start_time": "2022-06-20T13:39:50.440Z"
   },
   {
    "duration": 54,
    "start_time": "2022-06-20T13:39:50.454Z"
   },
   {
    "duration": 64,
    "start_time": "2022-06-20T13:39:53.206Z"
   },
   {
    "duration": 34,
    "start_time": "2022-06-20T13:40:27.054Z"
   },
   {
    "duration": 34,
    "start_time": "2022-06-20T13:40:38.546Z"
   },
   {
    "duration": 37,
    "start_time": "2022-06-20T13:40:42.909Z"
   },
   {
    "duration": 31,
    "start_time": "2022-06-20T13:40:50.455Z"
   },
   {
    "duration": 34,
    "start_time": "2022-06-20T13:41:01.149Z"
   },
   {
    "duration": 52,
    "start_time": "2022-06-20T13:41:42.838Z"
   },
   {
    "duration": 10,
    "start_time": "2022-06-20T13:41:44.810Z"
   },
   {
    "duration": 56,
    "start_time": "2022-06-20T13:41:45.470Z"
   },
   {
    "duration": 4,
    "start_time": "2022-06-20T13:42:00.675Z"
   },
   {
    "duration": 71,
    "start_time": "2022-06-20T13:42:01.206Z"
   },
   {
    "duration": 14,
    "start_time": "2022-06-20T13:44:57.740Z"
   },
   {
    "duration": 8,
    "start_time": "2022-06-20T13:45:07.514Z"
   },
   {
    "duration": 14,
    "start_time": "2022-06-20T13:45:22.156Z"
   },
   {
    "duration": 784,
    "start_time": "2022-06-20T13:47:04.168Z"
   },
   {
    "duration": 711,
    "start_time": "2022-06-20T13:47:09.174Z"
   },
   {
    "duration": 12,
    "start_time": "2022-06-20T13:47:20.135Z"
   },
   {
    "duration": 810,
    "start_time": "2022-06-20T13:47:20.732Z"
   },
   {
    "duration": 4,
    "start_time": "2022-06-20T13:47:27.172Z"
   },
   {
    "duration": 53,
    "start_time": "2022-06-20T13:47:27.178Z"
   },
   {
    "duration": 12,
    "start_time": "2022-06-20T13:47:27.232Z"
   },
   {
    "duration": 15,
    "start_time": "2022-06-20T13:47:27.246Z"
   },
   {
    "duration": 12,
    "start_time": "2022-06-20T13:47:34.312Z"
   },
   {
    "duration": 19,
    "start_time": "2022-06-20T13:49:08.367Z"
   },
   {
    "duration": 10,
    "start_time": "2022-06-20T13:49:31.017Z"
   },
   {
    "duration": 34,
    "start_time": "2022-06-20T13:49:56.629Z"
   },
   {
    "duration": 9,
    "start_time": "2022-06-20T13:49:57.671Z"
   },
   {
    "duration": 57,
    "start_time": "2022-06-20T13:49:58.115Z"
   },
   {
    "duration": 16,
    "start_time": "2022-06-20T13:50:07.656Z"
   },
   {
    "duration": 11,
    "start_time": "2022-06-20T13:51:49.426Z"
   },
   {
    "duration": 10,
    "start_time": "2022-06-20T13:52:05.663Z"
   },
   {
    "duration": 5,
    "start_time": "2022-06-20T13:52:10.656Z"
   },
   {
    "duration": 57,
    "start_time": "2022-06-20T13:52:16.014Z"
   },
   {
    "duration": 9,
    "start_time": "2022-06-20T13:52:27.623Z"
   },
   {
    "duration": 8,
    "start_time": "2022-06-20T13:52:33.027Z"
   },
   {
    "duration": 8,
    "start_time": "2022-06-20T13:52:37.183Z"
   },
   {
    "duration": 4,
    "start_time": "2022-06-20T13:56:37.207Z"
   },
   {
    "duration": 58,
    "start_time": "2022-06-20T13:56:38.040Z"
   },
   {
    "duration": 17,
    "start_time": "2022-06-20T13:56:38.935Z"
   },
   {
    "duration": 13,
    "start_time": "2022-06-20T13:56:40.464Z"
   },
   {
    "duration": 8,
    "start_time": "2022-06-20T13:56:41.840Z"
   },
   {
    "duration": 12,
    "start_time": "2022-06-20T13:56:43.038Z"
   },
   {
    "duration": 12,
    "start_time": "2022-06-20T13:56:44.874Z"
   },
   {
    "duration": 32,
    "start_time": "2022-06-20T13:56:46.038Z"
   },
   {
    "duration": 11,
    "start_time": "2022-06-20T13:56:59.573Z"
   },
   {
    "duration": 8,
    "start_time": "2022-06-20T13:57:00.036Z"
   },
   {
    "duration": 5,
    "start_time": "2022-06-20T13:57:01.242Z"
   },
   {
    "duration": 5,
    "start_time": "2022-06-20T13:57:01.735Z"
   },
   {
    "duration": 8,
    "start_time": "2022-06-20T13:57:02.224Z"
   },
   {
    "duration": 5,
    "start_time": "2022-06-20T13:57:04.642Z"
   },
   {
    "duration": 4025,
    "start_time": "2022-06-20T13:57:05.414Z"
   },
   {
    "duration": 8784,
    "start_time": "2022-06-20T13:57:09.442Z"
   },
   {
    "duration": 39,
    "start_time": "2022-06-20T13:59:17.514Z"
   },
   {
    "duration": 360,
    "start_time": "2022-06-20T13:59:18.622Z"
   },
   {
    "duration": 117,
    "start_time": "2022-06-20T13:59:20.012Z"
   },
   {
    "duration": 39,
    "start_time": "2022-06-20T13:59:22.864Z"
   },
   {
    "duration": 379,
    "start_time": "2022-06-20T13:59:24.216Z"
   },
   {
    "duration": 113,
    "start_time": "2022-06-20T13:59:25.817Z"
   },
   {
    "duration": 77,
    "start_time": "2022-06-20T13:59:27.914Z"
   },
   {
    "duration": 624,
    "start_time": "2022-06-20T13:59:29.262Z"
   },
   {
    "duration": 5,
    "start_time": "2022-06-20T13:59:30.958Z"
   },
   {
    "duration": 123,
    "start_time": "2022-06-20T13:59:32.511Z"
   },
   {
    "duration": 20,
    "start_time": "2022-06-20T14:03:22.650Z"
   },
   {
    "duration": 10,
    "start_time": "2022-06-20T14:04:19.950Z"
   },
   {
    "duration": 14,
    "start_time": "2022-06-20T14:11:10.220Z"
   },
   {
    "duration": 4,
    "start_time": "2022-06-20T14:11:16.556Z"
   },
   {
    "duration": 63,
    "start_time": "2022-06-20T14:11:16.563Z"
   },
   {
    "duration": 14,
    "start_time": "2022-06-20T14:11:16.629Z"
   },
   {
    "duration": 28,
    "start_time": "2022-06-20T14:11:16.645Z"
   },
   {
    "duration": 22,
    "start_time": "2022-06-20T14:11:17.833Z"
   },
   {
    "duration": 5,
    "start_time": "2022-06-20T14:11:23.857Z"
   },
   {
    "duration": 49,
    "start_time": "2022-06-20T14:11:24.269Z"
   },
   {
    "duration": 22,
    "start_time": "2022-06-20T14:11:24.509Z"
   },
   {
    "duration": 25,
    "start_time": "2022-06-20T14:11:25.113Z"
   },
   {
    "duration": 10,
    "start_time": "2022-06-20T14:11:25.967Z"
   },
   {
    "duration": 20,
    "start_time": "2022-06-20T14:11:34.213Z"
   },
   {
    "duration": 265,
    "start_time": "2022-06-20T14:11:35.113Z"
   },
   {
    "duration": 46,
    "start_time": "2022-06-20T14:11:39.617Z"
   },
   {
    "duration": 67,
    "start_time": "2022-06-20T14:11:45.716Z"
   },
   {
    "duration": 41,
    "start_time": "2022-06-20T14:11:48.551Z"
   },
   {
    "duration": 4,
    "start_time": "2022-06-20T14:11:50.569Z"
   },
   {
    "duration": 5,
    "start_time": "2022-06-20T14:11:51.537Z"
   },
   {
    "duration": 6,
    "start_time": "2022-06-20T14:11:52.113Z"
   },
   {
    "duration": 6,
    "start_time": "2022-06-20T14:11:53.536Z"
   },
   {
    "duration": 9265,
    "start_time": "2022-06-20T14:11:54.519Z"
   },
   {
    "duration": 26912,
    "start_time": "2022-06-20T14:12:03.786Z"
   },
   {
    "duration": 554,
    "start_time": "2022-06-20T14:12:32.922Z"
   },
   {
    "duration": 878,
    "start_time": "2022-06-20T14:12:34.069Z"
   },
   {
    "duration": 513,
    "start_time": "2022-06-20T14:12:39.515Z"
   },
   {
    "duration": 921,
    "start_time": "2022-06-20T14:12:44.022Z"
   },
   {
    "duration": 496,
    "start_time": "2022-06-20T14:12:45.652Z"
   },
   {
    "duration": 584,
    "start_time": "2022-06-20T14:12:50.467Z"
   },
   {
    "duration": 949,
    "start_time": "2022-06-20T14:12:54.647Z"
   },
   {
    "duration": 716,
    "start_time": "2022-06-20T14:12:56.621Z"
   },
   {
    "duration": 1659,
    "start_time": "2022-06-20T14:13:00.750Z"
   },
   {
    "duration": 2311,
    "start_time": "2022-06-20T14:13:04.915Z"
   },
   {
    "duration": 5,
    "start_time": "2022-06-20T14:13:07.502Z"
   },
   {
    "duration": 1722,
    "start_time": "2022-06-20T14:13:12.724Z"
   },
   {
    "duration": 251,
    "start_time": "2022-06-20T14:13:17.237Z"
   },
   {
    "duration": 609,
    "start_time": "2022-06-20T14:13:17.919Z"
   },
   {
    "duration": 406,
    "start_time": "2022-06-20T14:13:19.045Z"
   },
   {
    "duration": 184,
    "start_time": "2022-06-20T14:13:20.671Z"
   },
   {
    "duration": 125,
    "start_time": "2022-06-20T14:13:21.173Z"
   },
   {
    "duration": 90,
    "start_time": "2022-06-20T14:13:38.165Z"
   },
   {
    "duration": 26,
    "start_time": "2022-06-20T14:13:39.063Z"
   },
   {
    "duration": 54,
    "start_time": "2022-06-20T14:13:46.926Z"
   },
   {
    "duration": 150,
    "start_time": "2022-06-20T14:13:47.099Z"
   },
   {
    "duration": 15,
    "start_time": "2022-06-20T14:14:09.852Z"
   },
   {
    "duration": 6,
    "start_time": "2022-06-20T14:14:14.760Z"
   },
   {
    "duration": 69,
    "start_time": "2022-06-20T14:14:15.081Z"
   },
   {
    "duration": 22,
    "start_time": "2022-06-20T14:14:15.487Z"
   },
   {
    "duration": 17,
    "start_time": "2022-06-20T14:14:16.077Z"
   },
   {
    "duration": 13,
    "start_time": "2022-06-20T14:14:17.389Z"
   },
   {
    "duration": 25,
    "start_time": "2022-06-20T14:14:24.500Z"
   },
   {
    "duration": 16,
    "start_time": "2022-06-20T14:14:25.750Z"
   },
   {
    "duration": 51,
    "start_time": "2022-06-20T14:14:26.817Z"
   },
   {
    "duration": 13,
    "start_time": "2022-06-20T14:14:28.044Z"
   },
   {
    "duration": 8,
    "start_time": "2022-06-20T14:14:28.255Z"
   },
   {
    "duration": 5,
    "start_time": "2022-06-20T14:14:28.958Z"
   },
   {
    "duration": 6,
    "start_time": "2022-06-20T14:14:29.855Z"
   },
   {
    "duration": 6,
    "start_time": "2022-06-20T14:14:30.049Z"
   },
   {
    "duration": 12,
    "start_time": "2022-06-20T14:14:40.357Z"
   },
   {
    "duration": 12,
    "start_time": "2022-06-20T14:14:40.743Z"
   },
   {
    "duration": 15,
    "start_time": "2022-06-20T14:14:41.620Z"
   },
   {
    "duration": 10,
    "start_time": "2022-06-20T14:14:42.019Z"
   },
   {
    "duration": 5,
    "start_time": "2022-06-20T14:14:42.379Z"
   },
   {
    "duration": 10,
    "start_time": "2022-06-20T14:14:45.819Z"
   },
   {
    "duration": 4731,
    "start_time": "2022-06-20T14:14:46.484Z"
   },
   {
    "duration": 10566,
    "start_time": "2022-06-20T14:14:51.219Z"
   },
   {
    "duration": 59,
    "start_time": "2022-06-20T14:15:03.820Z"
   },
   {
    "duration": 521,
    "start_time": "2022-06-20T14:15:08.369Z"
   },
   {
    "duration": 135,
    "start_time": "2022-06-20T14:15:14.215Z"
   },
   {
    "duration": 60,
    "start_time": "2022-06-20T14:15:16.817Z"
   },
   {
    "duration": 472,
    "start_time": "2022-06-20T14:15:21.426Z"
   },
   {
    "duration": 113,
    "start_time": "2022-06-20T14:15:23.246Z"
   },
   {
    "duration": 93,
    "start_time": "2022-06-20T14:15:26.867Z"
   },
   {
    "duration": 757,
    "start_time": "2022-06-20T14:15:28.317Z"
   },
   {
    "duration": 10,
    "start_time": "2022-06-20T14:15:33.921Z"
   },
   {
    "duration": 131,
    "start_time": "2022-06-20T14:15:36.819Z"
   },
   {
    "duration": 626,
    "start_time": "2022-06-20T14:16:07.567Z"
   },
   {
    "duration": 493,
    "start_time": "2022-06-20T14:16:23.243Z"
   },
   {
    "duration": 582,
    "start_time": "2022-06-20T14:16:28.111Z"
   },
   {
    "duration": 661,
    "start_time": "2022-06-20T14:16:32.817Z"
   },
   {
    "duration": 666,
    "start_time": "2022-06-20T14:16:40.023Z"
   },
   {
    "duration": 691,
    "start_time": "2022-06-20T14:16:44.919Z"
   },
   {
    "duration": 781,
    "start_time": "2022-06-20T14:16:48.941Z"
   },
   {
    "duration": 787,
    "start_time": "2022-06-20T14:16:53.104Z"
   },
   {
    "duration": 980,
    "start_time": "2022-06-20T14:16:57.362Z"
   },
   {
    "duration": 1336,
    "start_time": "2022-06-20T14:17:02.287Z"
   },
   {
    "duration": 651,
    "start_time": "2022-06-20T14:17:07.558Z"
   },
   {
    "duration": 10,
    "start_time": "2022-06-20T14:17:11.431Z"
   },
   {
    "duration": 83,
    "start_time": "2022-06-20T14:17:22.947Z"
   },
   {
    "duration": 115,
    "start_time": "2022-06-20T14:17:27.120Z"
   },
   {
    "duration": 61,
    "start_time": "2022-06-20T14:17:35.787Z"
   },
   {
    "duration": 160,
    "start_time": "2022-06-20T14:17:41.869Z"
   },
   {
    "duration": 42,
    "start_time": "2022-06-20T14:17:59.532Z"
   },
   {
    "duration": 303,
    "start_time": "2022-06-20T14:18:03.662Z"
   },
   {
    "duration": 129,
    "start_time": "2022-06-20T14:18:05.511Z"
   },
   {
    "duration": 189,
    "start_time": "2022-06-20T14:18:07.611Z"
   },
   {
    "duration": 121,
    "start_time": "2022-06-20T14:18:09.126Z"
   },
   {
    "duration": 49,
    "start_time": "2022-06-20T14:18:31.459Z"
   },
   {
    "duration": 11,
    "start_time": "2022-06-20T14:18:39.438Z"
   },
   {
    "duration": 11,
    "start_time": "2022-06-20T14:18:43.570Z"
   },
   {
    "duration": 62,
    "start_time": "2022-06-20T14:18:44.310Z"
   },
   {
    "duration": 32,
    "start_time": "2022-06-20T14:21:25.941Z"
   },
   {
    "duration": 103,
    "start_time": "2022-06-20T14:24:40.521Z"
   },
   {
    "duration": 19,
    "start_time": "2022-06-20T14:24:46.855Z"
   },
   {
    "duration": 46,
    "start_time": "2022-06-20T14:29:18.552Z"
   },
   {
    "duration": 13,
    "start_time": "2022-06-20T14:29:19.661Z"
   },
   {
    "duration": 63,
    "start_time": "2022-06-20T14:29:20.249Z"
   },
   {
    "duration": 17,
    "start_time": "2022-06-20T14:33:05.917Z"
   },
   {
    "duration": 18,
    "start_time": "2022-06-20T14:33:14.147Z"
   },
   {
    "duration": 9,
    "start_time": "2022-06-20T14:34:27.239Z"
   },
   {
    "duration": 69,
    "start_time": "2022-06-20T14:34:28.340Z"
   },
   {
    "duration": 23,
    "start_time": "2022-06-20T14:34:29.972Z"
   },
   {
    "duration": 4182,
    "start_time": "2022-06-20T14:36:30.938Z"
   },
   {
    "duration": 9076,
    "start_time": "2022-06-20T14:36:35.123Z"
   },
   {
    "duration": 47,
    "start_time": "2022-06-20T14:40:05.530Z"
   },
   {
    "duration": 199,
    "start_time": "2022-06-20T14:40:06.626Z"
   },
   {
    "duration": 175,
    "start_time": "2022-06-20T14:40:08.055Z"
   },
   {
    "duration": 152,
    "start_time": "2022-06-20T14:42:09.437Z"
   },
   {
    "duration": 158,
    "start_time": "2022-06-20T14:42:58.805Z"
   },
   {
    "duration": 4,
    "start_time": "2022-06-20T14:43:42.129Z"
   },
   {
    "duration": 46,
    "start_time": "2022-06-20T14:44:01.818Z"
   },
   {
    "duration": 200,
    "start_time": "2022-06-20T14:44:02.060Z"
   },
   {
    "duration": 108,
    "start_time": "2022-06-20T14:44:02.521Z"
   },
   {
    "duration": 3,
    "start_time": "2022-06-20T14:44:02.830Z"
   },
   {
    "duration": 190,
    "start_time": "2022-06-20T14:44:03.313Z"
   },
   {
    "duration": 4,
    "start_time": "2022-06-20T14:44:13.125Z"
   },
   {
    "duration": 157,
    "start_time": "2022-06-20T14:47:16.325Z"
   },
   {
    "duration": 69,
    "start_time": "2022-06-20T14:47:35.719Z"
   },
   {
    "duration": 36,
    "start_time": "2022-06-20T14:49:24.365Z"
   },
   {
    "duration": 8,
    "start_time": "2022-06-20T14:49:26.178Z"
   },
   {
    "duration": 63,
    "start_time": "2022-06-20T14:49:27.716Z"
   },
   {
    "duration": 72,
    "start_time": "2022-06-20T14:49:28.553Z"
   },
   {
    "duration": 150,
    "start_time": "2022-06-20T14:49:46.951Z"
   },
   {
    "duration": 79,
    "start_time": "2022-06-20T14:49:47.343Z"
   },
   {
    "duration": 33,
    "start_time": "2022-06-20T14:49:48.761Z"
   },
   {
    "duration": 93,
    "start_time": "2022-06-20T14:51:10.535Z"
   },
   {
    "duration": 4,
    "start_time": "2022-06-20T14:51:32.314Z"
   },
   {
    "duration": 63,
    "start_time": "2022-06-20T14:51:32.957Z"
   },
   {
    "duration": 17,
    "start_time": "2022-06-20T14:51:33.963Z"
   },
   {
    "duration": 18,
    "start_time": "2022-06-20T14:51:35.851Z"
   },
   {
    "duration": 10,
    "start_time": "2022-06-20T14:51:37.039Z"
   },
   {
    "duration": 16,
    "start_time": "2022-06-20T14:51:37.953Z"
   },
   {
    "duration": 14,
    "start_time": "2022-06-20T14:51:38.719Z"
   },
   {
    "duration": 29,
    "start_time": "2022-06-20T14:51:39.342Z"
   },
   {
    "duration": 14,
    "start_time": "2022-06-20T14:51:40.671Z"
   },
   {
    "duration": 10,
    "start_time": "2022-06-20T14:51:40.921Z"
   },
   {
    "duration": 7,
    "start_time": "2022-06-20T14:51:41.934Z"
   },
   {
    "duration": 4,
    "start_time": "2022-06-20T14:51:43.027Z"
   },
   {
    "duration": 6,
    "start_time": "2022-06-20T14:51:43.949Z"
   },
   {
    "duration": 7,
    "start_time": "2022-06-20T14:51:46.640Z"
   },
   {
    "duration": 4103,
    "start_time": "2022-06-20T14:51:48.010Z"
   },
   {
    "duration": 8959,
    "start_time": "2022-06-20T14:51:52.116Z"
   },
   {
    "duration": 36,
    "start_time": "2022-06-20T14:52:01.077Z"
   },
   {
    "duration": 385,
    "start_time": "2022-06-20T14:52:01.125Z"
   },
   {
    "duration": 119,
    "start_time": "2022-06-20T14:52:01.512Z"
   },
   {
    "duration": 39,
    "start_time": "2022-06-20T14:52:54.965Z"
   },
   {
    "duration": 356,
    "start_time": "2022-06-20T14:52:56.166Z"
   },
   {
    "duration": 90,
    "start_time": "2022-06-20T14:52:57.835Z"
   },
   {
    "duration": 58,
    "start_time": "2022-06-20T14:53:05.166Z"
   },
   {
    "duration": 529,
    "start_time": "2022-06-20T14:53:06.714Z"
   },
   {
    "duration": 61,
    "start_time": "2022-06-20T14:53:11.579Z"
   },
   {
    "duration": 29,
    "start_time": "2022-06-20T14:53:14.019Z"
   },
   {
    "duration": 186,
    "start_time": "2022-06-20T14:53:14.623Z"
   },
   {
    "duration": 111,
    "start_time": "2022-06-20T14:53:15.718Z"
   },
   {
    "duration": 169,
    "start_time": "2022-06-20T14:53:19.554Z"
   },
   {
    "duration": 84,
    "start_time": "2022-06-20T14:53:21.611Z"
   },
   {
    "duration": 34,
    "start_time": "2022-06-20T14:53:25.810Z"
   },
   {
    "duration": 7,
    "start_time": "2022-06-20T14:53:27.369Z"
   },
   {
    "duration": 48,
    "start_time": "2022-06-20T14:53:28.533Z"
   },
   {
    "duration": 16,
    "start_time": "2022-06-20T14:53:29.753Z"
   },
   {
    "duration": 1756,
    "start_time": "2022-06-20T14:53:51.556Z"
   },
   {
    "duration": 69,
    "start_time": "2022-06-20T14:53:53.315Z"
   },
   {
    "duration": 13,
    "start_time": "2022-06-20T14:53:53.386Z"
   },
   {
    "duration": 13,
    "start_time": "2022-06-20T14:53:53.402Z"
   },
   {
    "duration": 8,
    "start_time": "2022-06-20T14:53:53.416Z"
   },
   {
    "duration": 31,
    "start_time": "2022-06-20T14:53:53.427Z"
   },
   {
    "duration": 16,
    "start_time": "2022-06-20T14:53:53.460Z"
   },
   {
    "duration": 43,
    "start_time": "2022-06-20T14:53:53.477Z"
   },
   {
    "duration": 13,
    "start_time": "2022-06-20T14:53:53.522Z"
   },
   {
    "duration": 20,
    "start_time": "2022-06-20T14:53:53.538Z"
   },
   {
    "duration": 10,
    "start_time": "2022-06-20T14:53:53.560Z"
   },
   {
    "duration": 12,
    "start_time": "2022-06-20T14:53:53.572Z"
   },
   {
    "duration": 10,
    "start_time": "2022-06-20T14:53:53.585Z"
   },
   {
    "duration": 9,
    "start_time": "2022-06-20T14:53:53.597Z"
   },
   {
    "duration": 4314,
    "start_time": "2022-06-20T14:53:53.608Z"
   },
   {
    "duration": 9313,
    "start_time": "2022-06-20T14:53:57.924Z"
   },
   {
    "duration": 37,
    "start_time": "2022-06-20T14:54:07.239Z"
   },
   {
    "duration": 380,
    "start_time": "2022-06-20T14:54:07.278Z"
   },
   {
    "duration": 22,
    "start_time": "2022-06-20T14:54:07.659Z"
   },
   {
    "duration": 121,
    "start_time": "2022-06-20T14:54:07.723Z"
   },
   {
    "duration": 415,
    "start_time": "2022-06-20T14:54:07.846Z"
   },
   {
    "duration": 68,
    "start_time": "2022-06-20T14:54:08.263Z"
   },
   {
    "duration": 148,
    "start_time": "2022-06-20T14:54:08.334Z"
   },
   {
    "duration": 584,
    "start_time": "2022-06-20T14:54:08.484Z"
   },
   {
    "duration": 67,
    "start_time": "2022-06-20T14:54:09.070Z"
   },
   {
    "duration": 199,
    "start_time": "2022-06-20T14:54:09.139Z"
   },
   {
    "duration": 195,
    "start_time": "2022-06-20T14:54:09.339Z"
   },
   {
    "duration": 90,
    "start_time": "2022-06-20T14:54:09.538Z"
   },
   {
    "duration": 313,
    "start_time": "2022-06-20T14:54:09.630Z"
   },
   {
    "duration": 89,
    "start_time": "2022-06-20T14:54:09.946Z"
   },
   {
    "duration": 35,
    "start_time": "2022-06-20T14:54:10.038Z"
   },
   {
    "duration": 9,
    "start_time": "2022-06-20T14:54:10.075Z"
   },
   {
    "duration": 71,
    "start_time": "2022-06-20T14:54:10.086Z"
   },
   {
    "duration": 70,
    "start_time": "2022-06-20T14:54:10.158Z"
   },
   {
    "duration": 11,
    "start_time": "2022-06-20T14:57:46.533Z"
   },
   {
    "duration": 60,
    "start_time": "2022-06-20T14:57:47.475Z"
   },
   {
    "duration": 137,
    "start_time": "2022-06-20T14:57:49.292Z"
   }
  ],
  "kernelspec": {
   "display_name": "Python 3 (ipykernel)",
   "language": "python",
   "name": "python3"
  },
  "language_info": {
   "codemirror_mode": {
    "name": "ipython",
    "version": 3
   },
   "file_extension": ".py",
   "mimetype": "text/x-python",
   "name": "python",
   "nbconvert_exporter": "python",
   "pygments_lexer": "ipython3",
   "version": "3.9.7"
  },
  "toc": {
   "base_numbering": 1,
   "nav_menu": {},
   "number_sections": true,
   "sideBar": true,
   "skip_h1_title": true,
   "title_cell": "Содержание",
   "title_sidebar": "Contents",
   "toc_cell": true,
   "toc_position": {
    "height": "calc(100% - 180px)",
    "left": "10px",
    "top": "150px",
    "width": "165px"
   },
   "toc_section_display": true,
   "toc_window_display": true
  }
 },
 "nbformat": 4,
 "nbformat_minor": 2
}
